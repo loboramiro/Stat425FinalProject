{
 "cells": [
  {
   "cell_type": "code",
   "execution_count": 1,
   "id": "cb61b0bb",
   "metadata": {},
   "outputs": [
    {
     "name": "stderr",
     "output_type": "stream",
     "text": [
      "c:\\Users\\ramirolobo\\AppData\\Local\\Programs\\Python\\Python312\\Lib\\site-packages\\tqdm\\auto.py:21: TqdmWarning: IProgress not found. Please update jupyter and ipywidgets. See https://ipywidgets.readthedocs.io/en/stable/user_install.html\n",
      "  from .autonotebook import tqdm as notebook_tqdm\n"
     ]
    }
   ],
   "source": [
    "import pandas as pd\n",
    "from bertopic import BERTopic\n",
    "import re\n",
    "import nltk\n",
    "from nltk.corpus import stopwords\n",
    "from nltk.tokenize import word_tokenize\n",
    "from sklearn.feature_extraction.text import CountVectorizer"
   ]
  },
  {
   "cell_type": "code",
   "execution_count": 2,
   "id": "756bf28d",
   "metadata": {},
   "outputs": [
    {
     "name": "stderr",
     "output_type": "stream",
     "text": [
      "[nltk_data] Downloading package stopwords to\n",
      "[nltk_data]     C:/Users/ramirolobo/nltk_data...\n",
      "[nltk_data]   Package stopwords is already up-to-date!\n",
      "[nltk_data] Downloading package punkt to\n",
      "[nltk_data]     C:/Users/ramirolobo/nltk_data...\n",
      "[nltk_data]   Package punkt is already up-to-date!\n"
     ]
    }
   ],
   "source": [
    "nltk.download('stopwords', download_dir='C:/Users/ramirolobo/nltk_data')\n",
    "nltk.download('punkt', download_dir='C:/Users/ramirolobo/nltk_data')\n",
    "nltk.data.path.append('C:/Users/ramirolobo/nltk_data')"
   ]
  },
  {
   "cell_type": "code",
   "execution_count": 3,
   "id": "912ed93c",
   "metadata": {},
   "outputs": [],
   "source": [
    "#load texts\n",
    "text_chunks = pd.read_csv(\"data/text_chunks.csv\")\n",
    "texts = text_chunks[\"text\"].tolist()"
   ]
  },
  {
   "cell_type": "code",
   "execution_count": 4,
   "id": "8b106364",
   "metadata": {},
   "outputs": [],
   "source": [
    "#define stopwords\n",
    "stop_words = set(stopwords.words('english'))\n",
    "custom_stopwords = {\n",
    "    \"chapter\", \"book\", \"section\", \"article\",\n",
    "    \"i\", \"ii\", \"iii\", \"iv\", \"v\", \"vi\", \"vii\", \"viii\",\n",
    "    \"ix\", \"x\", \"xi\", \"xii\", \"xiii\", \"xiv\", \"xv\", \"xvi\", \"xvii\",\n",
    "    \"xviii\", \"xix\", \"xx\", \"xxi\", \"xxii\", \"xxiii\", \"xxiv\", \"xxv\",\n",
    "    \"xxvi\", \"xxvii\", \"xxviii\", \"xxix\", \"xxx\", \"xxxii\", \"xxxiii\",\n",
    "    \"xxxiv\", \"xxxv\", \"xxxvi\", \"xxxvii\", \"xxxviii\", \"xxxix\", \"xl\",\n",
    "}\n",
    "all_stopwords = stop_words.union(custom_stopwords)\n",
    "\n",
    "#function to preprocess text\n",
    "def preprocess_text(text):\n",
    "    text = text.lower()\n",
    "    text = re.sub(r\"[^a-z\\s]\", \"\", text)  # remove punctuation and numbers\n",
    "    words = text.split()  # split by whitespace instead of word_tokenize\n",
    "    filtered_words = [w for w in words if w not in all_stopwords]\n",
    "    return \" \".join(filtered_words)"
   ]
  },
  {
   "cell_type": "code",
   "execution_count": 5,
   "id": "d446cc4d",
   "metadata": {},
   "outputs": [],
   "source": [
    "#apply preprocessing\n",
    "text_chunks[\"cleaned_text\"] = text_chunks[\"text\"].apply(preprocess_text)"
   ]
  },
  {
   "cell_type": "code",
   "execution_count": 6,
   "id": "928655c7",
   "metadata": {},
   "outputs": [
    {
     "data": {
      "text/html": [
       "<div>\n",
       "<style scoped>\n",
       "    .dataframe tbody tr th:only-of-type {\n",
       "        vertical-align: middle;\n",
       "    }\n",
       "\n",
       "    .dataframe tbody tr th {\n",
       "        vertical-align: top;\n",
       "    }\n",
       "\n",
       "    .dataframe thead th {\n",
       "        text-align: right;\n",
       "    }\n",
       "</style>\n",
       "<table border=\"1\" class=\"dataframe\">\n",
       "  <thead>\n",
       "    <tr style=\"text-align: right;\">\n",
       "      <th></th>\n",
       "      <th>Unnamed: 0</th>\n",
       "      <th>author</th>\n",
       "      <th>title</th>\n",
       "      <th>chunk</th>\n",
       "      <th>text</th>\n",
       "      <th>year</th>\n",
       "      <th>century</th>\n",
       "      <th>cleaned_text</th>\n",
       "    </tr>\n",
       "  </thead>\n",
       "  <tbody>\n",
       "    <tr>\n",
       "      <th>0</th>\n",
       "      <td>1</td>\n",
       "      <td>Arrian</td>\n",
       "      <td>The Anabasis of Alexander\\r\\nor, The History o...</td>\n",
       "      <td>0</td>\n",
       "      <td>the  anabasis of alexander</td>\n",
       "      <td>130</td>\n",
       "      <td>2nd c. CE</td>\n",
       "      <td>anabasis alexander</td>\n",
       "    </tr>\n",
       "    <tr>\n",
       "      <th>1</th>\n",
       "      <td>2</td>\n",
       "      <td>Arrian</td>\n",
       "      <td>The Anabasis of Alexander\\r\\nor, The History o...</td>\n",
       "      <td>1</td>\n",
       "      <td>the  anabasis of alexander</td>\n",
       "      <td>130</td>\n",
       "      <td>2nd c. CE</td>\n",
       "      <td>anabasis alexander</td>\n",
       "    </tr>\n",
       "    <tr>\n",
       "      <th>2</th>\n",
       "      <td>3</td>\n",
       "      <td>Arrian</td>\n",
       "      <td>The Anabasis of Alexander\\r\\nor, The History o...</td>\n",
       "      <td>2</td>\n",
       "      <td>or  the history of the wars and conquests of ...</td>\n",
       "      <td>130</td>\n",
       "      <td>2nd c. CE</td>\n",
       "      <td>history wars conquests alexander great</td>\n",
       "    </tr>\n",
       "    <tr>\n",
       "      <th>3</th>\n",
       "      <td>4</td>\n",
       "      <td>Arrian</td>\n",
       "      <td>The Anabasis of Alexander\\r\\nor, The History o...</td>\n",
       "      <td>3</td>\n",
       "      <td>literally translated with a commentary from th...</td>\n",
       "      <td>130</td>\n",
       "      <td>2nd c. CE</td>\n",
       "      <td>literally translated commentary greek arrian n...</td>\n",
       "    </tr>\n",
       "    <tr>\n",
       "      <th>4</th>\n",
       "      <td>5</td>\n",
       "      <td>Arrian</td>\n",
       "      <td>The Anabasis of Alexander\\r\\nor, The History o...</td>\n",
       "      <td>4</td>\n",
       "      <td>e j chinnock ma llb london  rector of dumfries...</td>\n",
       "      <td>130</td>\n",
       "      <td>2nd c. CE</td>\n",
       "      <td>e j chinnock llb london rector dumfries academy</td>\n",
       "    </tr>\n",
       "  </tbody>\n",
       "</table>\n",
       "</div>"
      ],
      "text/plain": [
       "   Unnamed: 0  author                                              title  \\\n",
       "0           1  Arrian  The Anabasis of Alexander\\r\\nor, The History o...   \n",
       "1           2  Arrian  The Anabasis of Alexander\\r\\nor, The History o...   \n",
       "2           3  Arrian  The Anabasis of Alexander\\r\\nor, The History o...   \n",
       "3           4  Arrian  The Anabasis of Alexander\\r\\nor, The History o...   \n",
       "4           5  Arrian  The Anabasis of Alexander\\r\\nor, The History o...   \n",
       "\n",
       "   chunk                                               text  year    century  \\\n",
       "0      0                       the  anabasis of alexander     130  2nd c. CE   \n",
       "1      1                         the  anabasis of alexander   130  2nd c. CE   \n",
       "2      2   or  the history of the wars and conquests of ...   130  2nd c. CE   \n",
       "3      3  literally translated with a commentary from th...   130  2nd c. CE   \n",
       "4      4  e j chinnock ma llb london  rector of dumfries...   130  2nd c. CE   \n",
       "\n",
       "                                        cleaned_text  \n",
       "0                                 anabasis alexander  \n",
       "1                                 anabasis alexander  \n",
       "2             history wars conquests alexander great  \n",
       "3  literally translated commentary greek arrian n...  \n",
       "4    e j chinnock llb london rector dumfries academy  "
      ]
     },
     "execution_count": 6,
     "metadata": {},
     "output_type": "execute_result"
    }
   ],
   "source": [
    "text_chunks.head()"
   ]
  },
  {
   "cell_type": "code",
   "execution_count": 24,
   "id": "876129eb",
   "metadata": {},
   "outputs": [],
   "source": [
    "#get vectorizer model to remove any residual stopwords\n",
    "vectorizer_model = CountVectorizer(stop_words=\"english\")\n",
    "\n",
    "#fit BERTopic model\n",
    "topic_model = BERTopic(\n",
    "    #vectorizer_model=vectorizer_model,\n",
    "    #calculate_probabilities=True,\n",
    "    #verbose=True,\n",
    "    #nr_topics=\"auto\",  # Automatically determine the number of topics\n",
    "    #language=\"english\"  # Specify the language for stopwords\n",
    ")\n",
    "\n",
    "cleaned_texts = text_chunks[\"cleaned_text\"].dropna().tolist()\n",
    "topics, probs = topic_model.fit_transform(cleaned_texts)"
   ]
  },
  {
   "cell_type": "code",
   "execution_count": null,
   "id": "dcf974d7",
   "metadata": {},
   "outputs": [
    {
     "name": "stderr",
     "output_type": "stream",
     "text": [
      "2025-05-30 15:07:59,874 - BERTopic - WARNING: When you use `pickle` to save/load a BERTopic model,please make sure that the environments in which you saveand load the model are **exactly** the same. The version of BERTopic,its dependencies, and python need to remain the same.\n"
     ]
    }
   ],
   "source": [
    "topic_model.save(\"bertopic_model\") #save model\n",
    "BERTopic.load(\"bertopic_model\")  # load model"
   ]
  },
  {
   "cell_type": "code",
   "execution_count": 28,
   "id": "3d7315fa",
   "metadata": {},
   "outputs": [],
   "source": [
    "topics = topic_model.get_topic_info()\n",
    "topics.to_csv(\"data/topics.csv\", index=False)"
   ]
  },
  {
   "cell_type": "code",
   "execution_count": 19,
   "id": "063cc1dc",
   "metadata": {},
   "outputs": [],
   "source": [
    "#avoid training model each time\n",
    "topics = pd.read_csv(\"data/topics.csv\")"
   ]
  },
  {
   "cell_type": "code",
   "execution_count": 42,
   "id": "38dacc04",
   "metadata": {},
   "outputs": [
    {
     "data": {
      "text/html": [
       "<div>\n",
       "<style scoped>\n",
       "    .dataframe tbody tr th:only-of-type {\n",
       "        vertical-align: middle;\n",
       "    }\n",
       "\n",
       "    .dataframe tbody tr th {\n",
       "        vertical-align: top;\n",
       "    }\n",
       "\n",
       "    .dataframe thead th {\n",
       "        text-align: right;\n",
       "    }\n",
       "</style>\n",
       "<table border=\"1\" class=\"dataframe\">\n",
       "  <thead>\n",
       "    <tr style=\"text-align: right;\">\n",
       "      <th></th>\n",
       "      <th>Topic</th>\n",
       "      <th>Count</th>\n",
       "      <th>Name</th>\n",
       "      <th>Representation</th>\n",
       "      <th>Representative_Docs</th>\n",
       "    </tr>\n",
       "  </thead>\n",
       "  <tbody>\n",
       "    <tr>\n",
       "      <th>1</th>\n",
       "      <td>0</td>\n",
       "      <td>4446</td>\n",
       "      <td>0_french_english_england_france</td>\n",
       "      <td>[french, english, england, france, ships, sea,...</td>\n",
       "      <td>[advantage wind english day fortyfour ships ac...</td>\n",
       "    </tr>\n",
       "    <tr>\n",
       "      <th>2</th>\n",
       "      <td>1</td>\n",
       "      <td>2679</td>\n",
       "      <td>1_athenians_lacedaemonians_athens_athenian</td>\n",
       "      <td>[athenians, lacedaemonians, athens, athenian, ...</td>\n",
       "      <td>[terms armistice ships delivered number sixty ...</td>\n",
       "    </tr>\n",
       "    <tr>\n",
       "      <th>3</th>\n",
       "      <td>2</td>\n",
       "      <td>928</td>\n",
       "      <td>2_operations_lines_strategic_line</td>\n",
       "      <td>[operations, lines, strategic, line, point, en...</td>\n",
       "      <td>[front operations space separates two armies u...</td>\n",
       "    </tr>\n",
       "    <tr>\n",
       "      <th>4</th>\n",
       "      <td>3</td>\n",
       "      <td>921</td>\n",
       "      <td>3_theory_mind_must_us</td>\n",
       "      <td>[theory, mind, must, us, may, things, therefor...</td>\n",
       "      <td>[influence theoretical principles upon real li...</td>\n",
       "    </tr>\n",
       "    <tr>\n",
       "      <th>5</th>\n",
       "      <td>4</td>\n",
       "      <td>554</td>\n",
       "      <td>4_sun_wu_tz_chi</td>\n",
       "      <td>[sun, wu, tz, chi, yu, tsao, chinese, chang, c...</td>\n",
       "      <td>[return elder sun tz mentioned two passages sh...</td>\n",
       "    </tr>\n",
       "    <tr>\n",
       "      <th>6</th>\n",
       "      <td>5</td>\n",
       "      <td>353</td>\n",
       "      <td>5_object_war_destruction_therefore</td>\n",
       "      <td>[object, war, destruction, therefore, politica...</td>\n",
       "      <td>[destruction enemys military force leading pri...</td>\n",
       "    </tr>\n",
       "    <tr>\n",
       "      <th>7</th>\n",
       "      <td>6</td>\n",
       "      <td>311</td>\n",
       "      <td>6_river_indus_called_rivers</td>\n",
       "      <td>[river, indus, called, rivers, name, hebrew, e...</td>\n",
       "      <td>[unquestionable therefore let record indus lar...</td>\n",
       "    </tr>\n",
       "    <tr>\n",
       "      <th>8</th>\n",
       "      <td>7</td>\n",
       "      <td>307</td>\n",
       "      <td>7_eordaea_rha_ulm_crateas</td>\n",
       "      <td>[eordaea, rha, ulm, crateas, ariaspians, mount...</td>\n",
       "      <td>[ulm magnesia victory malplaquet, peithon son ...</td>\n",
       "    </tr>\n",
       "    <tr>\n",
       "      <th>9</th>\n",
       "      <td>8</td>\n",
       "      <td>177</td>\n",
       "      <td>8_military_generals_general_spirit</td>\n",
       "      <td>[military, generals, general, spirit, virtue, ...</td>\n",
       "      <td>[assistance military virtue parts genius comma...</td>\n",
       "    </tr>\n",
       "    <tr>\n",
       "      <th>10</th>\n",
       "      <td>9</td>\n",
       "      <td>177</td>\n",
       "      <td>9_darius_persians_alexander_persian</td>\n",
       "      <td>[darius, persians, alexander, persian, king, g...</td>\n",
       "      <td>[reflections fate darius alexander sent body d...</td>\n",
       "    </tr>\n",
       "    <tr>\n",
       "      <th>11</th>\n",
       "      <td>10</td>\n",
       "      <td>174</td>\n",
       "      <td>10_rhine_archduke_austrians_austrian</td>\n",
       "      <td>[rhine, archduke, austrians, austrian, danube,...</td>\n",
       "      <td>[leaving austria rear russia front austria lau...</td>\n",
       "    </tr>\n",
       "    <tr>\n",
       "      <th>12</th>\n",
       "      <td>11</td>\n",
       "      <td>171</td>\n",
       "      <td>11_divisions_battalions_columns_deployed</td>\n",
       "      <td>[divisions, battalions, columns, deployed, col...</td>\n",
       "      <td>[whole armies deployed skirmishers still neces...</td>\n",
       "    </tr>\n",
       "    <tr>\n",
       "      <th>13</th>\n",
       "      <td>12</td>\n",
       "      <td>149</td>\n",
       "      <td>12_wall_mound_engines_towers</td>\n",
       "      <td>[wall, mound, engines, towers, walls, stones, ...</td>\n",
       "      <td>[round city able bring military engines walls ...</td>\n",
       "    </tr>\n",
       "    <tr>\n",
       "      <th>14</th>\n",
       "      <td>13</td>\n",
       "      <td>146</td>\n",
       "      <td>13_macedonians_alexander_city_phalanx</td>\n",
       "      <td>[macedonians, alexander, city, phalanx, wall, ...</td>\n",
       "      <td>[macedonians easily forced way first wall stro...</td>\n",
       "    </tr>\n",
       "    <tr>\n",
       "      <th>15</th>\n",
       "      <td>14</td>\n",
       "      <td>145</td>\n",
       "      <td>14_alexander_alexanders_speech_king</td>\n",
       "      <td>[alexander, alexanders, speech, king, callisth...</td>\n",
       "      <td>[alexander seized fever alexanders death, spee...</td>\n",
       "    </tr>\n",
       "    <tr>\n",
       "      <th>16</th>\n",
       "      <td>15</td>\n",
       "      <td>124</td>\n",
       "      <td>15____</td>\n",
       "      <td>[, , , , , , , , , ]</td>\n",
       "      <td>[, , ]</td>\n",
       "    </tr>\n",
       "    <tr>\n",
       "      <th>17</th>\n",
       "      <td>16</td>\n",
       "      <td>121</td>\n",
       "      <td>16_arrian_cf_herodotus_homer</td>\n",
       "      <td>[arrian, cf, herodotus, homer, xenophon, see, ...</td>\n",
       "      <td>[cf arrian supra see arrian supra, sons east c...</td>\n",
       "    </tr>\n",
       "    <tr>\n",
       "      <th>18</th>\n",
       "      <td>17</td>\n",
       "      <td>114</td>\n",
       "      <td>17_caesar_caesars_roman_rome</td>\n",
       "      <td>[caesar, caesars, roman, rome, senate, public,...</td>\n",
       "      <td>[added dumnorix said assembly aeduans sovereig...</td>\n",
       "    </tr>\n",
       "    <tr>\n",
       "      <th>19</th>\n",
       "      <td>18</td>\n",
       "      <td>106</td>\n",
       "      <td>18_caesar_camp_legions_labienus</td>\n",
       "      <td>[caesar, camp, legions, labienus, day, baggage...</td>\n",
       "      <td>[vercingetorix taken care broken next day stop...</td>\n",
       "    </tr>\n",
       "    <tr>\n",
       "      <th>20</th>\n",
       "      <td>19</td>\n",
       "      <td>97</td>\n",
       "      <td>19_napoleon_napoleons_battle_order</td>\n",
       "      <td>[napoleon, napoleons, battle, order, bonaparte...</td>\n",
       "      <td>[campaign napoleons, ratisbon napoleon napoleo...</td>\n",
       "    </tr>\n",
       "  </tbody>\n",
       "</table>\n",
       "</div>"
      ],
      "text/plain": [
       "    Topic  Count                                        Name  \\\n",
       "1       0   4446             0_french_english_england_france   \n",
       "2       1   2679  1_athenians_lacedaemonians_athens_athenian   \n",
       "3       2    928           2_operations_lines_strategic_line   \n",
       "4       3    921                       3_theory_mind_must_us   \n",
       "5       4    554                             4_sun_wu_tz_chi   \n",
       "6       5    353          5_object_war_destruction_therefore   \n",
       "7       6    311                 6_river_indus_called_rivers   \n",
       "8       7    307                   7_eordaea_rha_ulm_crateas   \n",
       "9       8    177          8_military_generals_general_spirit   \n",
       "10      9    177         9_darius_persians_alexander_persian   \n",
       "11     10    174        10_rhine_archduke_austrians_austrian   \n",
       "12     11    171    11_divisions_battalions_columns_deployed   \n",
       "13     12    149                12_wall_mound_engines_towers   \n",
       "14     13    146       13_macedonians_alexander_city_phalanx   \n",
       "15     14    145         14_alexander_alexanders_speech_king   \n",
       "16     15    124                                      15____   \n",
       "17     16    121                16_arrian_cf_herodotus_homer   \n",
       "18     17    114                17_caesar_caesars_roman_rome   \n",
       "19     18    106             18_caesar_camp_legions_labienus   \n",
       "20     19     97          19_napoleon_napoleons_battle_order   \n",
       "\n",
       "                                       Representation  \\\n",
       "1   [french, english, england, france, ships, sea,...   \n",
       "2   [athenians, lacedaemonians, athens, athenian, ...   \n",
       "3   [operations, lines, strategic, line, point, en...   \n",
       "4   [theory, mind, must, us, may, things, therefor...   \n",
       "5   [sun, wu, tz, chi, yu, tsao, chinese, chang, c...   \n",
       "6   [object, war, destruction, therefore, politica...   \n",
       "7   [river, indus, called, rivers, name, hebrew, e...   \n",
       "8   [eordaea, rha, ulm, crateas, ariaspians, mount...   \n",
       "9   [military, generals, general, spirit, virtue, ...   \n",
       "10  [darius, persians, alexander, persian, king, g...   \n",
       "11  [rhine, archduke, austrians, austrian, danube,...   \n",
       "12  [divisions, battalions, columns, deployed, col...   \n",
       "13  [wall, mound, engines, towers, walls, stones, ...   \n",
       "14  [macedonians, alexander, city, phalanx, wall, ...   \n",
       "15  [alexander, alexanders, speech, king, callisth...   \n",
       "16                               [, , , , , , , , , ]   \n",
       "17  [arrian, cf, herodotus, homer, xenophon, see, ...   \n",
       "18  [caesar, caesars, roman, rome, senate, public,...   \n",
       "19  [caesar, camp, legions, labienus, day, baggage...   \n",
       "20  [napoleon, napoleons, battle, order, bonaparte...   \n",
       "\n",
       "                                  Representative_Docs  \n",
       "1   [advantage wind english day fortyfour ships ac...  \n",
       "2   [terms armistice ships delivered number sixty ...  \n",
       "3   [front operations space separates two armies u...  \n",
       "4   [influence theoretical principles upon real li...  \n",
       "5   [return elder sun tz mentioned two passages sh...  \n",
       "6   [destruction enemys military force leading pri...  \n",
       "7   [unquestionable therefore let record indus lar...  \n",
       "8   [ulm magnesia victory malplaquet, peithon son ...  \n",
       "9   [assistance military virtue parts genius comma...  \n",
       "10  [reflections fate darius alexander sent body d...  \n",
       "11  [leaving austria rear russia front austria lau...  \n",
       "12  [whole armies deployed skirmishers still neces...  \n",
       "13  [round city able bring military engines walls ...  \n",
       "14  [macedonians easily forced way first wall stro...  \n",
       "15  [alexander seized fever alexanders death, spee...  \n",
       "16                                             [, , ]  \n",
       "17  [cf arrian supra see arrian supra, sons east c...  \n",
       "18  [added dumnorix said assembly aeduans sovereig...  \n",
       "19  [vercingetorix taken care broken next day stop...  \n",
       "20  [campaign napoleons, ratisbon napoleon napoleo...  "
      ]
     },
     "execution_count": 42,
     "metadata": {},
     "output_type": "execute_result"
    }
   ],
   "source": [
    "# top 15 topics\n",
    "topics.loc[1:20, :]"
   ]
  },
  {
   "cell_type": "markdown",
   "id": "a48ea900",
   "metadata": {},
   "source": [
    "Topics seems to primarily identify authors rather than common themes between them."
   ]
  },
  {
   "cell_type": "code",
   "execution_count": 10,
   "id": "006f6a76",
   "metadata": {},
   "outputs": [
    {
     "data": {
      "text/plain": [
       "{-1: ['mahan december',\n",
       "  'dumfries december',\n",
       "  'january thirty twentytwo april thirty twenty difference time trincomalee saints nine hours half'],\n",
       " 0: ['varus general horse man uncommon spirit skill encouraged men pursuing enemy disposed troops convenient places rest gave battle enemy enemys cavalry made bold stand foot relieving making general halt assist horse battle',\n",
       "  'austrians directed operations upon meuse sarre moselle concert prussians part useless army upper rhine force one hundred twenty thousand men flanks protected troops could pushed forward even probable without changing direction war',\n",
       "  'result first combat wiped account possible stop first success put second part battle coming day even king lost advantages first would always set second'],\n",
       " 1: ['advantage wind english day fortyfour ships action dutch eighty many english said larger two fleets passed opposite tacks english windward tromp rear seeing dutch order battle badly formed ships two three lines overlapping',\n",
       "  'time arrived strong english squadron six shipsoftheline admiral hughes absence similar french force gave entire control sea english arrival suffren nearly three years later mean holland drawn war stations negapatam',\n",
       "  'england sea hour fast approaching great colonial expeditions made last year war illustrious triumph sea power england france spain united first'],\n",
       " 2: ['notice', 'disastrous', 'index']}"
      ]
     },
     "execution_count": 10,
     "metadata": {},
     "output_type": "execute_result"
    }
   ],
   "source": [
    "topic_model.get_representative_docs(topics)"
   ]
  },
  {
   "cell_type": "code",
   "execution_count": 31,
   "id": "7f35c082",
   "metadata": {},
   "outputs": [],
   "source": [
    "#topics over time\n",
    "timestamps = text_chunks['year'].tolist()\n",
    "topics_over_time = topic_model.topics_over_time(cleaned_texts, timestamps=timestamps, nr_bins=7, global_tuning=False)"
   ]
  },
  {
   "cell_type": "code",
   "execution_count": 32,
   "id": "ee55c9b4",
   "metadata": {},
   "outputs": [
    {
     "data": {
      "application/vnd.plotly.v1+json": {
       "config": {
        "plotlyServerURL": "https://plot.ly"
       },
       "data": [
        {
         "hoverinfo": "text",
         "hovertext": [
          "<b>Topic 0</b><br>Words: ships, sea, crews, us, vessels",
          "<b>Topic 0</b><br>Words: ships, wind, fleet, harbour, vessels",
          "<b>Topic 0</b><br>Words: french, english, england, france, sea"
         ],
         "marker": {
          "color": "#E69F00"
         },
         "mode": "lines",
         "name": "0_french_english_england_france",
         "type": "scatter",
         "x": [
          -502.39,
          -158.571,
          1548.571
         ],
         "y": [
          186,
          201,
          4059
         ]
        },
        {
         "hoverinfo": "text",
         "hovertext": [
          "<b>Topic 1</b><br>Words: athenians, lacedaemonians, athens, athenian, allies",
          "<b>Topic 1</b><br>Words: greeks, greece, city, ships, thebans",
          "<b>Topic 1</b><br>Words: sicily, messina, thousand, duquesne, dardanelles"
         ],
         "marker": {
          "color": "#56B4E9"
         },
         "mode": "lines",
         "name": "1_athenians_lacedaemonians_athens_atheni...",
         "type": "scatter",
         "x": [
          -502.39,
          -158.571,
          1548.571
         ],
         "y": [
          2445,
          194,
          40
         ]
        },
        {
         "hoverinfo": "text",
         "hovertext": [
          "<b>Topic 2</b><br>Words: enemy, attack, enemys, us, victory",
          "<b>Topic 2</b><br>Words: attack, shield, whoever, whatever, works",
          "<b>Topic 2</b><br>Words: operations, lines, strategic, line, point"
         ],
         "marker": {
          "color": "#009E73"
         },
         "mode": "lines",
         "name": "2_operations_lines_strategic_line",
         "type": "scatter",
         "x": [
          -502.39,
          -158.571,
          1548.571
         ],
         "y": [
          96,
          14,
          818
         ]
        },
        {
         "hoverinfo": "text",
         "hovertext": [
          "<b>Topic 3</b><br>Words: us, man, fear, make, men",
          "<b>Topic 3</b><br>Words: debts, man, men, labours, one",
          "<b>Topic 3</b><br>Words: theory, mind, must, therefore, things"
         ],
         "marker": {
          "color": "#F0E442"
         },
         "mode": "lines",
         "name": "3_theory_mind_must_us",
         "type": "scatter",
         "x": [
          -502.39,
          -158.571,
          1548.571
         ],
         "y": [
          292,
          101,
          528
         ]
        },
        {
         "hoverinfo": "text",
         "hovertext": [
          "<b>Topic 4</b><br>Words: sun, wu, tz, chi, yu",
          "<b>Topic 4</b><br>Words: translated, london, folio, classical, gallico",
          "<b>Topic 4</b><br>Words: copyright, typographical, document, mahan, corrected"
         ],
         "marker": {
          "color": "#D55E00"
         },
         "mode": "lines",
         "name": "4_sun_wu_tz_chi",
         "type": "scatter",
         "x": [
          -502.39,
          -158.571,
          1548.571
         ],
         "y": [
          513,
          26,
          15
         ]
        },
        {
         "hoverinfo": "text",
         "hovertext": [
          "<b>Topic 5</b><br>Words: penetrating, force, chances, frightens, irrationally",
          "<b>Topic 5</b><br>Words: effecting, anything, , , ",
          "<b>Topic 5</b><br>Words: object, war, destruction, therefore, political"
         ],
         "marker": {
          "color": "#0072B2"
         },
         "mode": "lines",
         "name": "5_object_war_destruction_therefore",
         "type": "scatter",
         "x": [
          -502.39,
          -158.571,
          1548.571
         ],
         "y": [
          9,
          1,
          343
         ]
        },
        {
         "hoverinfo": "text",
         "hovertext": [
          "<b>Topic 6</b><br>Words: scombrus, river, flows, thesprotis, paeonians",
          "<b>Topic 6</b><br>Words: indus, river, called, rivers, name",
          "<b>Topic 6</b><br>Words: intrenched, alaska, spaineditor, attainedcheaply, possessionno"
         ],
         "marker": {
          "color": "#CC79A7"
         },
         "mode": "lines",
         "name": "6_river_indus_called_rivers",
         "type": "scatter",
         "x": [
          -502.39,
          -158.571,
          1548.571
         ],
         "y": [
          4,
          304,
          3
         ]
        },
        {
         "hoverinfo": "text",
         "hovertext": [
          "<b>Topic 7</b><br>Words: sutton, bob, manuvering, , ",
          "<b>Topic 7</b><br>Words: rha, eordaea, crateas, ariaspians, mount",
          "<b>Topic 7</b><br>Words: ulm, duquesnes, herberts, hohenfriedberg, malplaquet"
         ],
         "marker": {
          "color": "#E69F00"
         },
         "mode": "lines",
         "name": "7_eordaea_rha_ulm_crateas",
         "type": "scatter",
         "x": [
          -502.39,
          -158.571,
          1548.571
         ],
         "y": [
          2,
          296,
          9
         ]
        },
        {
         "hoverinfo": "text",
         "hovertext": [
          "<b>Topic 8</b><br>Words: spirit, generals, army, soldiers, recklessly",
          "<b>Topic 8</b><br>Words: heart, xxixhowever, dispensation, drowsy, equites",
          "<b>Topic 8</b><br>Words: military, generals, general, virtue, staff"
         ],
         "marker": {
          "color": "#56B4E9"
         },
         "mode": "lines",
         "name": "8_military_generals_general_spirit",
         "type": "scatter",
         "x": [
          -502.39,
          -158.571,
          1548.571
         ],
         "y": [
          23,
          5,
          149
         ]
        },
        {
         "hoverinfo": "text",
         "hovertext": [
          "<b>Topic 9</b><br>Words: customs, pleistarchus, prouder, leonidass, cousin",
          "<b>Topic 9</b><br>Words: darius, persians, alexander, persian, king",
          "<b>Topic 9</b><br>Words: greeks, strategy, mahrattas, commissariat, englishmen"
         ],
         "marker": {
          "color": "#009E73"
         },
         "mode": "lines",
         "name": "9_darius_persians_alexander_persian",
         "type": "scatter",
         "x": [
          -502.39,
          -158.571,
          1548.571
         ],
         "y": [
          3,
          172,
          2
         ]
        },
        {
         "hoverinfo": "text",
         "hovertext": [
          "<b>Topic 10</b><br>Words: computed, daci, anartes, nemetes, bends",
          "<b>Topic 10</b><br>Words: rhine, archduke, austrians, austrian, danube"
         ],
         "marker": {
          "color": "#F0E442"
         },
         "mode": "lines",
         "name": "10_rhine_archduke_austrians_austrian",
         "type": "scatter",
         "x": [
          -158.571,
          1548.571
         ],
         "y": [
          1,
          173
         ]
        },
        {
         "hoverinfo": "text",
         "hovertext": [
          "<b>Topic 11</b><br>Words: footmen, chariot, warchariot, enomoty, grouped",
          "<b>Topic 11</b><br>Words: marshalling, cavalry, dense, rearguard, compact",
          "<b>Topic 11</b><br>Words: divisions, battalions, columns, deployed, column"
         ],
         "marker": {
          "color": "#D55E00"
         },
         "mode": "lines",
         "name": "11_divisions_battalions_columns_deployed",
         "type": "scatter",
         "x": [
          -502.39,
          -158.571,
          1548.571
         ],
         "y": [
          3,
          1,
          167
         ]
        },
        {
         "hoverinfo": "text",
         "hovertext": [
          "<b>Topic 12</b><br>Words: wall, mound, plataeans, stones, ladders",
          "<b>Topic 12</b><br>Words: wall, engines, mound, feet, towers",
          "<b>Topic 12</b><br>Words: sewers, shoes, intrenchment, climbing, cremona"
         ],
         "marker": {
          "color": "#0072B2"
         },
         "mode": "lines",
         "name": "12_wall_mound_engines_towers",
         "type": "scatter",
         "x": [
          -502.39,
          -158.571,
          1548.571
         ],
         "y": [
          43,
          104,
          2
         ]
        },
        {
         "hoverinfo": "text",
         "hovertext": [
          "<b>Topic 13</b><br>Words: piraeus, alexicles, prisoner, handfuls, anaceum",
          "<b>Topic 13</b><br>Words: macedonians, alexander, city, phalanx, wall",
          "<b>Topic 13</b><br>Words: decatur, fontenoy, macedonian, phalanxes, plausibly"
         ],
         "marker": {
          "color": "#CC79A7"
         },
         "mode": "lines",
         "name": "13_macedonians_alexander_city_phalanx",
         "type": "scatter",
         "x": [
          -502.39,
          -158.571,
          1548.571
         ],
         "y": [
          4,
          139,
          3
         ]
        },
        {
         "hoverinfo": "text",
         "hovertext": [
          "<b>Topic 14</b><br>Words: alexander, alexanders, speech, king, callisthenes",
          "<b>Topic 14</b><br>Words: bf, stevens, clintons, keystone, excites"
         ],
         "marker": {
          "color": "#E69F00"
         },
         "mode": "lines",
         "name": "14_alexander_alexanders_speech_king",
         "type": "scatter",
         "x": [
          -158.571,
          1548.571
         ],
         "y": [
          143,
          2
         ]
        },
        {
         "hoverinfo": "text",
         "hovertext": [
          "<b>Topic 15</b><br>Words: , , , , ",
          "<b>Topic 15</b><br>Words: , , , , ",
          "<b>Topic 15</b><br>Words: , , , , "
         ],
         "marker": {
          "color": "#56B4E9"
         },
         "mode": "lines",
         "name": "15____",
         "type": "scatter",
         "x": [
          -502.39,
          -158.571,
          1548.571
         ],
         "y": [
          24,
          72,
          28
         ]
        },
        {
         "hoverinfo": "text",
         "hovertext": [
          "<b>Topic 16</b><br>Words: supra, name, phthiotis, fasten, dispersion",
          "<b>Topic 16</b><br>Words: arrian, cf, herodotus, xenophon, homer",
          "<b>Topic 16</b><br>Words: beresina, narratives, truly, readers, wonderful"
         ],
         "marker": {
          "color": "#009E73"
         },
         "mode": "lines",
         "name": "16_arrian_cf_herodotus_homer",
         "type": "scatter",
         "x": [
          -502.39,
          -158.571,
          1548.571
         ],
         "y": [
          3,
          117,
          1
         ]
        },
        {
         "hoverinfo": "text",
         "hovertext": [
          "<b>Topic 17</b><br>Words: caesar, caesars, rome, roman, senate",
          "<b>Topic 17</b><br>Words: proverb, desirable, gold, wise, scarcely"
         ],
         "marker": {
          "color": "#F0E442"
         },
         "mode": "lines",
         "name": "17_caesar_caesars_roman_rome",
         "type": "scatter",
         "x": [
          -158.571,
          1548.571
         ],
         "y": [
          113,
          1
         ]
        },
        {
         "hoverinfo": "text",
         "hovertext": [
          "<b>Topic 18</b><br>Words: chinghsing, mustered, alluded, red, midnight",
          "<b>Topic 18</b><br>Words: caesar, camp, legions, labienus, day",
          "<b>Topic 18</b><br>Words: capital, simultaneous, successive, days, letters"
         ],
         "marker": {
          "color": "#D55E00"
         },
         "mode": "lines",
         "name": "18_caesar_camp_legions_labienus",
         "type": "scatter",
         "x": [
          -502.39,
          -158.571,
          1548.571
         ],
         "y": [
          1,
          103,
          2
         ]
        },
        {
         "hoverinfo": "text",
         "hovertext": [
          "<b>Topic 19</b><br>Words: bonaparte, napoleon, duke, pensees, er",
          "<b>Topic 19</b><br>Words: napoleon, napoleons, battle, order, system"
         ],
         "marker": {
          "color": "#0072B2"
         },
         "mode": "lines",
         "name": "19_napoleon_napoleons_battle_order",
         "type": "scatter",
         "x": [
          -502.39,
          1548.571
         ],
         "y": [
          4,
          93
         ]
        },
        {
         "hoverinfo": "text",
         "hovertext": [
          "<b>Topic 20</b><br>Words: cavalry, spears, regiments, wings, deepening",
          "<b>Topic 20</b><br>Words: cavalry, infantry, charges, charge, artillery"
         ],
         "marker": {
          "color": "#CC79A7"
         },
         "mode": "lines",
         "name": "20_cavalry_infantry_charges_charge",
         "type": "scatter",
         "x": [
          -158.571,
          1548.571
         ],
         "y": [
          4,
          83
         ]
        },
        {
         "hoverinfo": "text",
         "hovertext": [
          "<b>Topic 21</b><br>Words: owing, horse, syracusan, spot, hemming",
          "<b>Topic 21</b><br>Words: horse, cavalry, horses, men, curio",
          "<b>Topic 21</b><br>Words: finds, station, roadit, bad, infinity"
         ],
         "marker": {
          "color": "#E69F00"
         },
         "mode": "lines",
         "name": "21_horse_horses_cavalry_men",
         "type": "scatter",
         "x": [
          -502.39,
          -158.571,
          1548.571
         ],
         "y": [
          7,
          74,
          3
         ]
        },
        {
         "hoverinfo": "text",
         "hovertext": [
          "<b>Topic 22</b><br>Words: corn, food, mills, unobtainable, parched",
          "<b>Topic 22</b><br>Words: corn, cattle, want, consumed, quantity",
          "<b>Topic 22</b><br>Words: cattle, bread, supply, hoof, biscuit"
         ],
         "marker": {
          "color": "#56B4E9"
         },
         "mode": "lines",
         "name": "22_corn_cattle_supply_want",
         "type": "scatter",
         "x": [
          -502.39,
          -158.571,
          1548.571
         ],
         "y": [
          7,
          58,
          4
         ]
        },
        {
         "hoverinfo": "text",
         "hovertext": [
          "<b>Topic 23</b><br>Words: hannibal, noonday, alpsthat, breakfasted, lv",
          "<b>Topic 23</b><br>Words: capua, carthaginians, livy, justin, etruscans",
          "<b>Topic 23</b><br>Words: hannibal, carthaginians, italy, roman, hasdrubal"
         ],
         "marker": {
          "color": "#009E73"
         },
         "mode": "lines",
         "name": "23_hannibal_carthaginians_italy_roman",
         "type": "scatter",
         "x": [
          -502.39,
          -158.571,
          1548.571
         ],
         "y": [
          3,
          4,
          53
         ]
        },
        {
         "hoverinfo": "text",
         "hovertext": [
          "<b>Topic 24</b><br>Words: tigers, picked, sword, soldiers, mattock",
          "<b>Topic 24</b><br>Words: men, camp, woods, enemy, till",
          "<b>Topic 24</b><br>Words: casemates, beresinabecause, skeleton, evermemorable, reliefs"
         ],
         "marker": {
          "color": "#F0E442"
         },
         "mode": "lines",
         "name": "24_men_camp_enemy_woods",
         "type": "scatter",
         "x": [
          -502.39,
          -158.571,
          1548.571
         ],
         "y": [
          10,
          42,
          2
         ]
        },
        {
         "hoverinfo": "text",
         "hovertext": [
          "<b>Topic 25</b><br>Words: spies, spy, converted, tu, mu",
          "<b>Topic 25</b><br>Words: pardons, communicates, sets, divitiacus, dumnorix",
          "<b>Topic 25</b><br>Words: spies, information, learn, espionage, spy"
         ],
         "marker": {
          "color": "#D55E00"
         },
         "mode": "lines",
         "name": "25_spies_spy_converted_information",
         "type": "scatter",
         "x": [
          -502.39,
          -158.571,
          1548.571
         ],
         "y": [
          42,
          1,
          8
         ]
        },
        {
         "hoverinfo": "text",
         "hovertext": [
          "<b>Topic 26</b><br>Words: trojans, fiftyoars, galleys, aegina, principally",
          "<b>Topic 26</b><br>Words: gades, built, ships, eighty, provided",
          "<b>Topic 26</b><br>Words: thousand, hundred, turks, vessels, men"
         ],
         "marker": {
          "color": "#0072B2"
         },
         "mode": "lines",
         "name": "26_thousand_hundred_turks_vessels",
         "type": "scatter",
         "x": [
          -502.39,
          -158.571,
          1548.571
         ],
         "y": [
          4,
          5,
          40
         ]
        },
        {
         "hoverinfo": "text",
         "hovertext": [
          "<b>Topic 27</b><br>Words: gaul, gauls, roman, states, people"
         ],
         "marker": {
          "color": "#CC79A7"
         },
         "mode": "lines",
         "name": "27_gaul_gauls_roman_states",
         "type": "scatter",
         "x": [
          -158.571
         ],
         "y": [
          46
         ]
        },
        {
         "hoverinfo": "text",
         "hovertext": [
          "<b>Topic 28</b><br>Words: fathers, ancestors, admetus, bones, tribe",
          "<b>Topic 28</b><br>Words: coffin, tomb, funeral, cyrus, couch",
          "<b>Topic 28</b><br>Words: tromp, irresponsible, stoppage, insubordinate, flagofficers"
         ],
         "marker": {
          "color": "#E69F00"
         },
         "mode": "lines",
         "name": "28_coffin_tomb_funeral_dead",
         "type": "scatter",
         "x": [
          -502.39,
          -158.571,
          1548.571
         ],
         "y": [
          21,
          24,
          1
         ]
        },
        {
         "hoverinfo": "text",
         "hovertext": [
          "<b>Topic 29</b><br>Words: ancient, people, gallia, gaul, called"
         ],
         "marker": {
          "color": "#56B4E9"
         },
         "mode": "lines",
         "name": "29_ancient_people_gallia_gaul",
         "type": "scatter",
         "x": [
          -158.571
         ],
         "y": [
          44
         ]
        },
        {
         "hoverinfo": "text",
         "hovertext": [
          "<b>Topic 30</b><br>Words: camps, nearness, contribute, begun, two",
          "<b>Topic 30</b><br>Words: camps, intrenched, tetes, ponts, connection"
         ],
         "marker": {
          "color": "#009E73"
         },
         "mode": "lines",
         "name": "30_camps_intrenched_tetes_ponts",
         "type": "scatter",
         "x": [
          -158.571,
          1548.571
         ],
         "y": [
          1,
          40
         ]
        },
        {
         "hoverinfo": "text",
         "hovertext": [
          "<b>Topic 31</b><br>Words: lost, dpts, chang, equitably, haphazard",
          "<b>Topic 31</b><br>Words: detachments, army, depots, may, supplies"
         ],
         "marker": {
          "color": "#F0E442"
         },
         "mode": "lines",
         "name": "31_detachments_army_depots_duty",
         "type": "scatter",
         "x": [
          -502.39,
          1548.571
         ],
         "y": [
          5,
          31
         ]
        },
        {
         "hoverinfo": "text",
         "hovertext": [
          "<b>Topic 32</b><br>Words: democracy, confederacy, plunder, seek, step",
          "<b>Topic 32</b><br>Words: slavery, dares, influential, wine, chains",
          "<b>Topic 32</b><br>Words: mississippi, twain, englandthan, offin, new"
         ],
         "marker": {
          "color": "#D55E00"
         },
         "mode": "lines",
         "name": "32_confederacy_slavery_entered_democracy",
         "type": "scatter",
         "x": [
          -502.39,
          -158.571,
          1548.571
         ],
         "y": [
          20,
          12,
          3
         ]
        },
        {
         "hoverinfo": "text",
         "hovertext": [
          "<b>Topic 33</b><br>Words: moscow, russian, buonaparte, frederick, russians"
         ],
         "marker": {
          "color": "#0072B2"
         },
         "mode": "lines",
         "name": "33_moscow_russian_buonaparte_frederick",
         "type": "scatter",
         "x": [
          1548.571
         ],
         "y": [
          34
         ]
        },
        {
         "hoverinfo": "text",
         "hovertext": [
          "<b>Topic 34</b><br>Words: hostages, requisition, quota, fixing, phocians",
          "<b>Topic 34</b><br>Words: hostages, ambassadors, caesar, arms, demands"
         ],
         "marker": {
          "color": "#CC79A7"
         },
         "mode": "lines",
         "name": "34_hostages_ambassadors_caesar_arms",
         "type": "scatter",
         "x": [
          -502.39,
          -158.571
         ],
         "y": [
          1,
          33
         ]
        },
        {
         "hoverinfo": "text",
         "hovertext": [
          "<b>Topic 35</b><br>Words: germans, rhine, treviri, territories, cross",
          "<b>Topic 35</b><br>Words: rhine, mouths, climates, ossiekviz, bridgetrain"
         ],
         "marker": {
          "color": "#E69F00"
         },
         "mode": "lines",
         "name": "35_germans_rhine_treviri_territories",
         "type": "scatter",
         "x": [
          -158.571,
          1548.571
         ],
         "y": [
          28,
          3
         ]
        },
        {
         "hoverinfo": "text",
         "hovertext": [
          "<b>Topic 36</b><br>Words: calling, shrieking, fellowtownsman, tentfellows, necks",
          "<b>Topic 36</b><br>Words: soldiers, exhorted, bk, recruits, men"
         ],
         "marker": {
          "color": "#56B4E9"
         },
         "mode": "lines",
         "name": "36_soldiers_sight_exhorted_men",
         "type": "scatter",
         "x": [
          -502.39,
          -158.571
         ],
         "y": [
          7,
          23
         ]
        },
        {
         "hoverinfo": "text",
         "hovertext": [
          "<b>Topic 37</b><br>Words: solidarity, prevail, penetrate, invading, defenders",
          "<b>Topic 37</b><br>Words: invasions, distant, invasion, wars, diplomacy"
         ],
         "marker": {
          "color": "#009E73"
         },
         "mode": "lines",
         "name": "37_invasions_distant_invasion_wars",
         "type": "scatter",
         "x": [
          -502.39,
          1548.571
         ],
         "y": [
          1,
          29
         ]
        },
        {
         "hoverinfo": "text",
         "hovertext": [
          "<b>Topic 38</b><br>Words: germany, ancient, people, rhine, switzerland",
          "<b>Topic 38</b><br>Words: interesting, mongols, huns, goths, research"
         ],
         "marker": {
          "color": "#F0E442"
         },
         "mode": "lines",
         "name": "38_germany_ancient_people_rhine",
         "type": "scatter",
         "x": [
          -158.571,
          1548.571
         ],
         "y": [
          28,
          1
         ]
        },
        {
         "hoverinfo": "text",
         "hovertext": [
          "<b>Topic 39</b><br>Words: pompey, dyrrachium, pompeys, camp, cohorts"
         ],
         "marker": {
          "color": "#D55E00"
         },
         "mode": "lines",
         "name": "39_pompey_dyrrachium_pompeys_camp",
         "type": "scatter",
         "x": [
          -158.571
         ],
         "y": [
          27
         ]
        },
        {
         "hoverinfo": "text",
         "hovertext": [
          "<b>Topic 40</b><br>Words: th, stellar, sagittarius, pegasus, mansions",
          "<b>Topic 40</b><br>Words: cappadocia, et, minor, asia, sarmatia"
         ],
         "marker": {
          "color": "#0072B2"
         },
         "mode": "lines",
         "name": "40_cappadocia_et_minor_asia",
         "type": "scatter",
         "x": [
          -502.39,
          -158.571
         ],
         "y": [
          1,
          26
         ]
        },
        {
         "hoverinfo": "text",
         "hovertext": [
          "<b>Topic 41</b><br>Words: italy, city, hispania, ancient, umbria",
          "<b>Topic 41</b><br>Words: pyrrhus, descent, italy, , "
         ],
         "marker": {
          "color": "#CC79A7"
         },
         "mode": "lines",
         "name": "41_italy_city_hispania_ancient",
         "type": "scatter",
         "x": [
          -158.571,
          1548.571
         ],
         "y": [
          25,
          1
         ]
        },
        {
         "hoverinfo": "text",
         "hovertext": [
          "<b>Topic 42</b><br>Words: viceroy, appointed, areians, stasanor, land"
         ],
         "marker": {
          "color": "#E69F00"
         },
         "mode": "lines",
         "name": "42_viceroy_appointed_areians_stasanor",
         "type": "scatter",
         "x": [
          -158.571
         ],
         "y": [
          26
         ]
        },
        {
         "hoverinfo": "text",
         "hovertext": [
          "<b>Topic 43</b><br>Words: cavalry, alexander, spear, porus, philotas"
         ],
         "marker": {
          "color": "#56B4E9"
         },
         "mode": "lines",
         "name": "43_cavalry_alexander_spear_porus",
         "type": "scatter",
         "x": [
          -158.571
         ],
         "y": [
          26
         ]
        },
        {
         "hoverinfo": "text",
         "hovertext": [
          "<b>Topic 44</b><br>Words: les, art, concernant, lhistoire, treize",
          "<b>Topic 44</b><br>Words: art, war, summary, military, wars"
         ],
         "marker": {
          "color": "#009E73"
         },
         "mode": "lines",
         "name": "44_art_les_war_summary",
         "type": "scatter",
         "x": [
          -502.39,
          1548.571
         ],
         "y": [
          3,
          23
         ]
        },
        {
         "hoverinfo": "text",
         "hovertext": [
          "<b>Topic 45</b><br>Words: pompey, senate, pompeys, caesar, authority"
         ],
         "marker": {
          "color": "#F0E442"
         },
         "mode": "lines",
         "name": "45_pompey_senate_pompeys_caesar",
         "type": "scatter",
         "x": [
          -158.571
         ],
         "y": [
          25
         ]
        },
        {
         "hoverinfo": "text",
         "hovertext": [
          "<b>Topic 46</b><br>Words: disbanded, , , , ",
          "<b>Topic 46</b><br>Words: division, st, corps, second, first"
         ],
         "marker": {
          "color": "#D55E00"
         },
         "mode": "lines",
         "name": "46_division_st_corps_second",
         "type": "scatter",
         "x": [
          -158.571,
          1548.571
         ],
         "y": [
          1,
          23
         ]
        },
        {
         "hoverinfo": "text",
         "hovertext": [
          "<b>Topic 47</b><br>Words: macedonia, city, epirus, river, durazzo"
         ],
         "marker": {
          "color": "#0072B2"
         },
         "mode": "lines",
         "name": "47_macedonia_city_epirus_river",
         "type": "scatter",
         "x": [
          -158.571
         ],
         "y": [
          24
         ]
        },
        {
         "hoverinfo": "text",
         "hovertext": [
          "<b>Topic 48</b><br>Words: mountainous, countries, mountains, valleys, plains"
         ],
         "marker": {
          "color": "#CC79A7"
         },
         "mode": "lines",
         "name": "48_mountainous_countries_mountains_valle...",
         "type": "scatter",
         "x": [
          1548.571
         ],
         "y": [
          23
         ]
        },
        {
         "hoverinfo": "text",
         "hovertext": [
          "<b>Topic 49</b><br>Words: death, philip, macedonia, alexander, alexanders"
         ],
         "marker": {
          "color": "#E69F00"
         },
         "mode": "lines",
         "name": "49_death_philip_macedonia_alexander",
         "type": "scatter",
         "x": [
          -158.571
         ],
         "y": [
          22
         ]
        },
        {
         "hoverinfo": "text",
         "hovertext": [
          "<b>Topic 50</b><br>Words: son, cavalry, parmenio, grecian, command"
         ],
         "marker": {
          "color": "#56B4E9"
         },
         "mode": "lines",
         "name": "50_son_cavalry_parmenio_grecian",
         "type": "scatter",
         "x": [
          -158.571
         ],
         "y": [
          22
         ]
        },
        {
         "hoverinfo": "text",
         "hovertext": [
          "<b>Topic 51</b><br>Words: waging, war, , , ",
          "<b>Topic 51</b><br>Words: lexovii, last, states, made, war",
          "<b>Topic 51</b><br>Words: intervention, wars, interferes, state, kinds"
         ],
         "marker": {
          "color": "#009E73"
         },
         "mode": "lines",
         "name": "51_intervention_wars_interferes_state",
         "type": "scatter",
         "x": [
          -502.39,
          -158.571,
          1548.571
         ],
         "y": [
          1,
          1,
          19
         ]
        },
        {
         "hoverinfo": "text",
         "hovertext": [
          "<b>Topic 52</b><br>Words: sunny, dark, places, fighting, ",
          "<b>Topic 52</b><br>Words: night, combat, darkness, combats, day"
         ],
         "marker": {
          "color": "#F0E442"
         },
         "mode": "lines",
         "name": "52_night_combat_darkness_combats",
         "type": "scatter",
         "x": [
          -502.39,
          1548.571
         ],
         "y": [
          1,
          20
         ]
        },
        {
         "hoverinfo": "text",
         "hovertext": [
          "<b>Topic 53</b><br>Words: gaul, people, ancient, ibid, inhabiting"
         ],
         "marker": {
          "color": "#D55E00"
         },
         "mode": "lines",
         "name": "53_gaul_people_ancient_ibid",
         "type": "scatter",
         "x": [
          -158.571
         ],
         "y": [
          21
         ]
        },
        {
         "hoverinfo": "text",
         "hovertext": [
          "<b>Topic 54</b><br>Words: gaul, caesar, gauls, roman, territories"
         ],
         "marker": {
          "color": "#0072B2"
         },
         "mode": "lines",
         "name": "54_gaul_caesar_gauls_roman",
         "type": "scatter",
         "x": [
          -158.571
         ],
         "y": [
          20
         ]
        },
        {
         "hoverinfo": "text",
         "hovertext": [
          "<b>Topic 55</b><br>Words: us, agreement, treaty, arbitration, negotiation",
          "<b>Topic 55</b><br>Words: february, abates, debates, smouldered, renunciation"
         ],
         "marker": {
          "color": "#CC79A7"
         },
         "mode": "lines",
         "name": "55_us_treaty_agreement_arbitration",
         "type": "scatter",
         "x": [
          -502.39,
          1548.571
         ],
         "y": [
          15,
          4
         ]
        },
        {
         "hoverinfo": "text",
         "hovertext": [
          "<b>Topic 56</b><br>Words: clausewitz, von, carl, general, yorks"
         ],
         "marker": {
          "color": "#E69F00"
         },
         "mode": "lines",
         "name": "56_clausewitz_von_carl_general",
         "type": "scatter",
         "x": [
          1548.571
         ],
         "y": [
          18
         ]
        },
        {
         "hoverinfo": "text",
         "hovertext": [
          "<b>Topic 57</b><br>Words: older, orneans, cleonaeans, worsted, knights",
          "<b>Topic 57</b><br>Words: shieldbearing, cavalry, agrianians, guards, companions",
          "<b>Topic 57</b><br>Words: asturias, peasants, oviedo, navia, kellermann"
         ],
         "marker": {
          "color": "#56B4E9"
         },
         "mode": "lines",
         "name": "57_shieldbearing_cavalry_agrianians_guar...",
         "type": "scatter",
         "x": [
          -502.39,
          -158.571,
          1548.571
         ],
         "y": [
          1,
          16,
          1
         ]
        },
        {
         "hoverinfo": "text",
         "hovertext": [
          "<b>Topic 58</b><br>Words: rhine, lacus, falls, ocean, waal",
          "<b>Topic 58</b><br>Words: oder, rivers, rhine, bank, wesel"
         ],
         "marker": {
          "color": "#009E73"
         },
         "mode": "lines",
         "name": "58_rhine_lacus_falls_ocean",
         "type": "scatter",
         "x": [
          -158.571,
          1548.571
         ],
         "y": [
          15,
          3
         ]
        },
        {
         "hoverinfo": "text",
         "hovertext": [
          "<b>Topic 59</b><br>Words: wuhou, sluices, upstream, river, warfare",
          "<b>Topic 59</b><br>Words: pass, endeavouring, impeded, swords, therein",
          "<b>Topic 59</b><br>Words: bridges, passage, river, rivers, enemy"
         ],
         "marker": {
          "color": "#F0E442"
         },
         "mode": "lines",
         "name": "59_river_bridges_passage_rivers",
         "type": "scatter",
         "x": [
          -502.39,
          -158.571,
          1548.571
         ],
         "y": [
          4,
          1,
          12
         ]
        },
        {
         "hoverinfo": "text",
         "hovertext": [
          "<b>Topic 60</b><br>Words: narrow, defined, tortuous, steeps, quagmires",
          "<b>Topic 60</b><br>Words: morass, hill, ascent, enclosed, circuit",
          "<b>Topic 60</b><br>Words: depth, increased, eight, , "
         ],
         "marker": {
          "color": "#D55E00"
         },
         "mode": "lines",
         "name": "60_morass_hill_ascent_narrow",
         "type": "scatter",
         "x": [
          -502.39,
          -158.571,
          1548.571
         ],
         "y": [
          3,
          13,
          1
         ]
        },
        {
         "hoverinfo": "text",
         "hovertext": [
          "<b>Topic 61</b><br>Words: diversions, detachments, operations, zone, large"
         ],
         "marker": {
          "color": "#0072B2"
         },
         "mode": "lines",
         "name": "61_diversions_detachments_operations_zon...",
         "type": "scatter",
         "x": [
          1548.571
         ],
         "y": [
          16
         ]
        },
        {
         "hoverinfo": "text",
         "hovertext": [
          "<b>Topic 62</b><br>Words: chariots, swift, olympic, chariot, games",
          "<b>Topic 62</b><br>Words: chariots, charioteers, overpowered, ibid, mode"
         ],
         "marker": {
          "color": "#CC79A7"
         },
         "mode": "lines",
         "name": "62_chariots_chariot_charioteers_swift",
         "type": "scatter",
         "x": [
          -502.39,
          -158.571
         ],
         "y": [
          7,
          9
         ]
        },
        {
         "hoverinfo": "text",
         "hovertext": [
          "<b>Topic 63</b><br>Words: heracles, hercules, dionysus, perseus, tyre"
         ],
         "marker": {
          "color": "#E69F00"
         },
         "mode": "lines",
         "name": "63_heracles_hercules_dionysus_perseus",
         "type": "scatter",
         "x": [
          -158.571
         ],
         "y": [
          15
         ]
        },
        {
         "hoverinfo": "text",
         "hovertext": [
          "<b>Topic 64</b><br>Words: hydaspes, voyage, acesines, fordable, hgsistrtus"
         ],
         "marker": {
          "color": "#56B4E9"
         },
         "mode": "lines",
         "name": "64_hydaspes_voyage_acesines_fordable",
         "type": "scatter",
         "x": [
          -158.571
         ],
         "y": [
          15
         ]
        },
        {
         "hoverinfo": "text",
         "hovertext": [
          "<b>Topic 65</b><br>Words: napoleon, line, lines, operations, strategic"
         ],
         "marker": {
          "color": "#009E73"
         },
         "mode": "lines",
         "name": "65_napoleon_line_lines_operations",
         "type": "scatter",
         "x": [
          1548.571
         ],
         "y": [
          15
         ]
        },
        {
         "hoverinfo": "text",
         "hovertext": [
          "<b>Topic 66</b><br>Words: levity, quelling, kindhearted, aggrieved, beget",
          "<b>Topic 66</b><br>Words: daughter, mother, women, emasculate, indecorous",
          "<b>Topic 66</b><br>Words: fatherland, welfare, trust, women, children"
         ],
         "marker": {
          "color": "#F0E442"
         },
         "mode": "lines",
         "name": "66_children_women_daughter_mother",
         "type": "scatter",
         "x": [
          -502.39,
          -158.571,
          1548.571
         ],
         "y": [
          6,
          7,
          1
         ]
        },
        {
         "hoverinfo": "text",
         "hovertext": [
          "<b>Topic 67</b><br>Words: bridge, guard, banks, titurus, volcatius",
          "<b>Topic 67</b><br>Words: redoubts, tetes, towers, bank, pont"
         ],
         "marker": {
          "color": "#D55E00"
         },
         "mode": "lines",
         "name": "67_towers_redoubts_tetes_banks",
         "type": "scatter",
         "x": [
          -158.571,
          1548.571
         ],
         "y": [
          2,
          12
         ]
        },
        {
         "hoverinfo": "text",
         "hovertext": [
          "<b>Topic 68</b><br>Words: bath, day, medius, sacrifices, fever",
          "<b>Topic 68</b><br>Words: hood, decamped, domingo, yellow, consummate"
         ],
         "marker": {
          "color": "#0072B2"
         },
         "mode": "lines",
         "name": "68_bath_fever_night_day",
         "type": "scatter",
         "x": [
          -158.571,
          1548.571
         ],
         "y": [
          11,
          2
         ]
        },
        {
         "hoverinfo": "text",
         "hovertext": [
          "<b>Topic 69</b><br>Words: gaul, caesar, confederacy, massacre, people"
         ],
         "marker": {
          "color": "#CC79A7"
         },
         "mode": "lines",
         "name": "69_gaul_caesar_confederacy_massacre",
         "type": "scatter",
         "x": [
          -158.571
         ],
         "y": [
          13
         ]
        },
        {
         "hoverinfo": "text",
         "hovertext": [
          "<b>Topic 70</b><br>Words: , , , , ",
          "<b>Topic 70</b><br>Words: , , , , ",
          "<b>Topic 70</b><br>Words: , , , , "
         ],
         "marker": {
          "color": "#E69F00"
         },
         "mode": "lines",
         "name": "70____",
         "type": "scatter",
         "x": [
          -502.39,
          -158.571,
          1548.571
         ],
         "y": [
          3,
          5,
          5
         ]
        },
        {
         "hoverinfo": "text",
         "hovertext": [
          "<b>Topic 71</b><br>Words: wars, intestine, religion, dogmas, religious"
         ],
         "marker": {
          "color": "#56B4E9"
         },
         "mode": "lines",
         "name": "71_wars_intestine_religion_dogmas",
         "type": "scatter",
         "x": [
          1548.571
         ],
         "y": [
          12
         ]
        },
        {
         "hoverinfo": "text",
         "hovertext": [
          "<b>Topic 72</b><br>Words: anabasis, alexander, dio, lxix, nysa"
         ],
         "marker": {
          "color": "#009E73"
         },
         "mode": "lines",
         "name": "72_anabasis_alexander_lxix_dio",
         "type": "scatter",
         "x": [
          -158.571
         ],
         "y": [
          12
         ]
        },
        {
         "hoverinfo": "text",
         "hovertext": [
          "<b>Topic 73</b><br>Words: fig, illustration, ttttttttttttttttttttttttttttttttttttttttttttttttttttt, tttttttttttttttttttttttttttttttttttttttt, answers"
         ],
         "marker": {
          "color": "#F0E442"
         },
         "mode": "lines",
         "name": "73_fig_illustration_tttttttttttttttttttt...",
         "type": "scatter",
         "x": [
          1548.571
         ],
         "y": [
          12
         ]
        },
        {
         "hoverinfo": "text",
         "hovertext": [
          "<b>Topic 74</b><br>Words: alliance, refusing, join, us, corcyra",
          "<b>Topic 74</b><br>Words: halfandhalf, niggardly, invites, signing, menacing"
         ],
         "marker": {
          "color": "#D55E00"
         },
         "mode": "lines",
         "name": "74_alliance_refusing_join_us",
         "type": "scatter",
         "x": [
          -502.39,
          1548.571
         ],
         "y": [
          9,
          3
         ]
        },
        {
         "hoverinfo": "text",
         "hovertext": [
          "<b>Topic 75</b><br>Words: city, ambuscades, motion, noses, environs",
          "<b>Topic 75</b><br>Words: unwearied, citizens, pyrenean, pleading, robbers",
          "<b>Topic 75</b><br>Words: devastations, bivouacs, feeding, enlarged, overrun"
         ],
         "marker": {
          "color": "#0072B2"
         },
         "mode": "lines",
         "name": "75_city_ambuscades_motion_wallsyou",
         "type": "scatter",
         "x": [
          -502.39,
          -158.571,
          1548.571
         ],
         "y": [
          9,
          2,
          1
         ]
        },
        {
         "hoverinfo": "text",
         "hovertext": [
          "<b>Topic 76</b><br>Words: everyday, hellas, arms, hollows, habitations",
          "<b>Topic 76</b><br>Words: clemency, mercy, arms, punishment, venetic"
         ],
         "marker": {
          "color": "#CC79A7"
         },
         "mode": "lines",
         "name": "76_arms_clemency_mercy_punishment",
         "type": "scatter",
         "x": [
          -502.39,
          -158.571
         ],
         "y": [
          2,
          10
         ]
        },
        {
         "hoverinfo": "text",
         "hovertext": [
          "<b>Topic 77</b><br>Words: siege, halicarnassus, massaga, miletus, halicarnassusabortive",
          "<b>Topic 77</b><br>Words: candia, cannae, turkish, descent, siege"
         ],
         "marker": {
          "color": "#E69F00"
         },
         "mode": "lines",
         "name": "77_siege_halicarnassus_massaga_miletus",
         "type": "scatter",
         "x": [
          -158.571,
          1548.571
         ],
         "y": [
          11,
          1
         ]
        },
        {
         "hoverinfo": "text",
         "hovertext": [
          "<b>Topic 78</b><br>Words: breakfast, fasting, trebia, keenest, foolishly",
          "<b>Topic 78</b><br>Words: romans, scarce, withstand, suevi, forage"
         ],
         "marker": {
          "color": "#56B4E9"
         },
         "mode": "lines",
         "name": "78_romans_scarce_withstand_suevi",
         "type": "scatter",
         "x": [
          -502.39,
          -158.571
         ],
         "y": [
          1,
          10
         ]
        },
        {
         "hoverinfo": "text",
         "hovertext": [
          "<b>Topic 79</b><br>Words: footnote, footnotes, deficit, refer, treated"
         ],
         "marker": {
          "color": "#009E73"
         },
         "mode": "lines",
         "name": "79_footnote_footnotes_deficit_refer",
         "type": "scatter",
         "x": [
          1548.571
         ],
         "y": [
          11
         ]
        },
        {
         "hoverinfo": "text",
         "hovertext": [
          "<b>Topic 80</b><br>Words: spitamenes, sogdiana, sogdianians, scythians, sogdianarevolt"
         ],
         "marker": {
          "color": "#F0E442"
         },
         "mode": "lines",
         "name": "80_spitamenes_sogdiana_sogdianians_scyth...",
         "type": "scatter",
         "x": [
          -158.571
         ],
         "y": [
          11
         ]
        },
        {
         "hoverinfo": "text",
         "hovertext": [
          "<b>Topic 81</b><br>Words: ch, see, , , ",
          "<b>Topic 81</b><br>Words: cbl, cush, connected, one, ",
          "<b>Topic 81</b><br>Words: lllllllllllll, llllllllllllll, , , "
         ],
         "marker": {
          "color": "#D55E00"
         },
         "mode": "lines",
         "name": "81_llllllllllllll_lllllllllllll_cbl_ch",
         "type": "scatter",
         "x": [
          -502.39,
          -158.571,
          1548.571
         ],
         "y": [
          2,
          3,
          6
         ]
        }
       ],
       "layout": {
        "height": 450,
        "hoverlabel": {
         "bgcolor": "white",
         "font": {
          "family": "Rockwell",
          "size": 16
         }
        },
        "legend": {
         "title": {
          "text": "<b>Global Topic Representation"
         }
        },
        "template": {
         "data": {
          "bar": [
           {
            "error_x": {
             "color": "rgb(36,36,36)"
            },
            "error_y": {
             "color": "rgb(36,36,36)"
            },
            "marker": {
             "line": {
              "color": "white",
              "width": 0.5
             },
             "pattern": {
              "fillmode": "overlay",
              "size": 10,
              "solidity": 0.2
             }
            },
            "type": "bar"
           }
          ],
          "barpolar": [
           {
            "marker": {
             "line": {
              "color": "white",
              "width": 0.5
             },
             "pattern": {
              "fillmode": "overlay",
              "size": 10,
              "solidity": 0.2
             }
            },
            "type": "barpolar"
           }
          ],
          "carpet": [
           {
            "aaxis": {
             "endlinecolor": "rgb(36,36,36)",
             "gridcolor": "white",
             "linecolor": "white",
             "minorgridcolor": "white",
             "startlinecolor": "rgb(36,36,36)"
            },
            "baxis": {
             "endlinecolor": "rgb(36,36,36)",
             "gridcolor": "white",
             "linecolor": "white",
             "minorgridcolor": "white",
             "startlinecolor": "rgb(36,36,36)"
            },
            "type": "carpet"
           }
          ],
          "choropleth": [
           {
            "colorbar": {
             "outlinewidth": 1,
             "tickcolor": "rgb(36,36,36)",
             "ticks": "outside"
            },
            "type": "choropleth"
           }
          ],
          "contour": [
           {
            "colorbar": {
             "outlinewidth": 1,
             "tickcolor": "rgb(36,36,36)",
             "ticks": "outside"
            },
            "colorscale": [
             [
              0,
              "#440154"
             ],
             [
              0.1111111111111111,
              "#482878"
             ],
             [
              0.2222222222222222,
              "#3e4989"
             ],
             [
              0.3333333333333333,
              "#31688e"
             ],
             [
              0.4444444444444444,
              "#26828e"
             ],
             [
              0.5555555555555556,
              "#1f9e89"
             ],
             [
              0.6666666666666666,
              "#35b779"
             ],
             [
              0.7777777777777778,
              "#6ece58"
             ],
             [
              0.8888888888888888,
              "#b5de2b"
             ],
             [
              1,
              "#fde725"
             ]
            ],
            "type": "contour"
           }
          ],
          "contourcarpet": [
           {
            "colorbar": {
             "outlinewidth": 1,
             "tickcolor": "rgb(36,36,36)",
             "ticks": "outside"
            },
            "type": "contourcarpet"
           }
          ],
          "heatmap": [
           {
            "colorbar": {
             "outlinewidth": 1,
             "tickcolor": "rgb(36,36,36)",
             "ticks": "outside"
            },
            "colorscale": [
             [
              0,
              "#440154"
             ],
             [
              0.1111111111111111,
              "#482878"
             ],
             [
              0.2222222222222222,
              "#3e4989"
             ],
             [
              0.3333333333333333,
              "#31688e"
             ],
             [
              0.4444444444444444,
              "#26828e"
             ],
             [
              0.5555555555555556,
              "#1f9e89"
             ],
             [
              0.6666666666666666,
              "#35b779"
             ],
             [
              0.7777777777777778,
              "#6ece58"
             ],
             [
              0.8888888888888888,
              "#b5de2b"
             ],
             [
              1,
              "#fde725"
             ]
            ],
            "type": "heatmap"
           }
          ],
          "heatmapgl": [
           {
            "colorbar": {
             "outlinewidth": 1,
             "tickcolor": "rgb(36,36,36)",
             "ticks": "outside"
            },
            "colorscale": [
             [
              0,
              "#440154"
             ],
             [
              0.1111111111111111,
              "#482878"
             ],
             [
              0.2222222222222222,
              "#3e4989"
             ],
             [
              0.3333333333333333,
              "#31688e"
             ],
             [
              0.4444444444444444,
              "#26828e"
             ],
             [
              0.5555555555555556,
              "#1f9e89"
             ],
             [
              0.6666666666666666,
              "#35b779"
             ],
             [
              0.7777777777777778,
              "#6ece58"
             ],
             [
              0.8888888888888888,
              "#b5de2b"
             ],
             [
              1,
              "#fde725"
             ]
            ],
            "type": "heatmapgl"
           }
          ],
          "histogram": [
           {
            "marker": {
             "line": {
              "color": "white",
              "width": 0.6
             }
            },
            "type": "histogram"
           }
          ],
          "histogram2d": [
           {
            "colorbar": {
             "outlinewidth": 1,
             "tickcolor": "rgb(36,36,36)",
             "ticks": "outside"
            },
            "colorscale": [
             [
              0,
              "#440154"
             ],
             [
              0.1111111111111111,
              "#482878"
             ],
             [
              0.2222222222222222,
              "#3e4989"
             ],
             [
              0.3333333333333333,
              "#31688e"
             ],
             [
              0.4444444444444444,
              "#26828e"
             ],
             [
              0.5555555555555556,
              "#1f9e89"
             ],
             [
              0.6666666666666666,
              "#35b779"
             ],
             [
              0.7777777777777778,
              "#6ece58"
             ],
             [
              0.8888888888888888,
              "#b5de2b"
             ],
             [
              1,
              "#fde725"
             ]
            ],
            "type": "histogram2d"
           }
          ],
          "histogram2dcontour": [
           {
            "colorbar": {
             "outlinewidth": 1,
             "tickcolor": "rgb(36,36,36)",
             "ticks": "outside"
            },
            "colorscale": [
             [
              0,
              "#440154"
             ],
             [
              0.1111111111111111,
              "#482878"
             ],
             [
              0.2222222222222222,
              "#3e4989"
             ],
             [
              0.3333333333333333,
              "#31688e"
             ],
             [
              0.4444444444444444,
              "#26828e"
             ],
             [
              0.5555555555555556,
              "#1f9e89"
             ],
             [
              0.6666666666666666,
              "#35b779"
             ],
             [
              0.7777777777777778,
              "#6ece58"
             ],
             [
              0.8888888888888888,
              "#b5de2b"
             ],
             [
              1,
              "#fde725"
             ]
            ],
            "type": "histogram2dcontour"
           }
          ],
          "mesh3d": [
           {
            "colorbar": {
             "outlinewidth": 1,
             "tickcolor": "rgb(36,36,36)",
             "ticks": "outside"
            },
            "type": "mesh3d"
           }
          ],
          "parcoords": [
           {
            "line": {
             "colorbar": {
              "outlinewidth": 1,
              "tickcolor": "rgb(36,36,36)",
              "ticks": "outside"
             }
            },
            "type": "parcoords"
           }
          ],
          "pie": [
           {
            "automargin": true,
            "type": "pie"
           }
          ],
          "scatter": [
           {
            "fillpattern": {
             "fillmode": "overlay",
             "size": 10,
             "solidity": 0.2
            },
            "type": "scatter"
           }
          ],
          "scatter3d": [
           {
            "line": {
             "colorbar": {
              "outlinewidth": 1,
              "tickcolor": "rgb(36,36,36)",
              "ticks": "outside"
             }
            },
            "marker": {
             "colorbar": {
              "outlinewidth": 1,
              "tickcolor": "rgb(36,36,36)",
              "ticks": "outside"
             }
            },
            "type": "scatter3d"
           }
          ],
          "scattercarpet": [
           {
            "marker": {
             "colorbar": {
              "outlinewidth": 1,
              "tickcolor": "rgb(36,36,36)",
              "ticks": "outside"
             }
            },
            "type": "scattercarpet"
           }
          ],
          "scattergeo": [
           {
            "marker": {
             "colorbar": {
              "outlinewidth": 1,
              "tickcolor": "rgb(36,36,36)",
              "ticks": "outside"
             }
            },
            "type": "scattergeo"
           }
          ],
          "scattergl": [
           {
            "marker": {
             "colorbar": {
              "outlinewidth": 1,
              "tickcolor": "rgb(36,36,36)",
              "ticks": "outside"
             }
            },
            "type": "scattergl"
           }
          ],
          "scattermapbox": [
           {
            "marker": {
             "colorbar": {
              "outlinewidth": 1,
              "tickcolor": "rgb(36,36,36)",
              "ticks": "outside"
             }
            },
            "type": "scattermapbox"
           }
          ],
          "scatterpolar": [
           {
            "marker": {
             "colorbar": {
              "outlinewidth": 1,
              "tickcolor": "rgb(36,36,36)",
              "ticks": "outside"
             }
            },
            "type": "scatterpolar"
           }
          ],
          "scatterpolargl": [
           {
            "marker": {
             "colorbar": {
              "outlinewidth": 1,
              "tickcolor": "rgb(36,36,36)",
              "ticks": "outside"
             }
            },
            "type": "scatterpolargl"
           }
          ],
          "scatterternary": [
           {
            "marker": {
             "colorbar": {
              "outlinewidth": 1,
              "tickcolor": "rgb(36,36,36)",
              "ticks": "outside"
             }
            },
            "type": "scatterternary"
           }
          ],
          "surface": [
           {
            "colorbar": {
             "outlinewidth": 1,
             "tickcolor": "rgb(36,36,36)",
             "ticks": "outside"
            },
            "colorscale": [
             [
              0,
              "#440154"
             ],
             [
              0.1111111111111111,
              "#482878"
             ],
             [
              0.2222222222222222,
              "#3e4989"
             ],
             [
              0.3333333333333333,
              "#31688e"
             ],
             [
              0.4444444444444444,
              "#26828e"
             ],
             [
              0.5555555555555556,
              "#1f9e89"
             ],
             [
              0.6666666666666666,
              "#35b779"
             ],
             [
              0.7777777777777778,
              "#6ece58"
             ],
             [
              0.8888888888888888,
              "#b5de2b"
             ],
             [
              1,
              "#fde725"
             ]
            ],
            "type": "surface"
           }
          ],
          "table": [
           {
            "cells": {
             "fill": {
              "color": "rgb(237,237,237)"
             },
             "line": {
              "color": "white"
             }
            },
            "header": {
             "fill": {
              "color": "rgb(217,217,217)"
             },
             "line": {
              "color": "white"
             }
            },
            "type": "table"
           }
          ]
         },
         "layout": {
          "annotationdefaults": {
           "arrowhead": 0,
           "arrowwidth": 1
          },
          "autotypenumbers": "strict",
          "coloraxis": {
           "colorbar": {
            "outlinewidth": 1,
            "tickcolor": "rgb(36,36,36)",
            "ticks": "outside"
           }
          },
          "colorscale": {
           "diverging": [
            [
             0,
             "rgb(103,0,31)"
            ],
            [
             0.1,
             "rgb(178,24,43)"
            ],
            [
             0.2,
             "rgb(214,96,77)"
            ],
            [
             0.3,
             "rgb(244,165,130)"
            ],
            [
             0.4,
             "rgb(253,219,199)"
            ],
            [
             0.5,
             "rgb(247,247,247)"
            ],
            [
             0.6,
             "rgb(209,229,240)"
            ],
            [
             0.7,
             "rgb(146,197,222)"
            ],
            [
             0.8,
             "rgb(67,147,195)"
            ],
            [
             0.9,
             "rgb(33,102,172)"
            ],
            [
             1,
             "rgb(5,48,97)"
            ]
           ],
           "sequential": [
            [
             0,
             "#440154"
            ],
            [
             0.1111111111111111,
             "#482878"
            ],
            [
             0.2222222222222222,
             "#3e4989"
            ],
            [
             0.3333333333333333,
             "#31688e"
            ],
            [
             0.4444444444444444,
             "#26828e"
            ],
            [
             0.5555555555555556,
             "#1f9e89"
            ],
            [
             0.6666666666666666,
             "#35b779"
            ],
            [
             0.7777777777777778,
             "#6ece58"
            ],
            [
             0.8888888888888888,
             "#b5de2b"
            ],
            [
             1,
             "#fde725"
            ]
           ],
           "sequentialminus": [
            [
             0,
             "#440154"
            ],
            [
             0.1111111111111111,
             "#482878"
            ],
            [
             0.2222222222222222,
             "#3e4989"
            ],
            [
             0.3333333333333333,
             "#31688e"
            ],
            [
             0.4444444444444444,
             "#26828e"
            ],
            [
             0.5555555555555556,
             "#1f9e89"
            ],
            [
             0.6666666666666666,
             "#35b779"
            ],
            [
             0.7777777777777778,
             "#6ece58"
            ],
            [
             0.8888888888888888,
             "#b5de2b"
            ],
            [
             1,
             "#fde725"
            ]
           ]
          },
          "colorway": [
           "#1F77B4",
           "#FF7F0E",
           "#2CA02C",
           "#D62728",
           "#9467BD",
           "#8C564B",
           "#E377C2",
           "#7F7F7F",
           "#BCBD22",
           "#17BECF"
          ],
          "font": {
           "color": "rgb(36,36,36)"
          },
          "geo": {
           "bgcolor": "white",
           "lakecolor": "white",
           "landcolor": "white",
           "showlakes": true,
           "showland": true,
           "subunitcolor": "white"
          },
          "hoverlabel": {
           "align": "left"
          },
          "hovermode": "closest",
          "mapbox": {
           "style": "light"
          },
          "paper_bgcolor": "white",
          "plot_bgcolor": "white",
          "polar": {
           "angularaxis": {
            "gridcolor": "rgb(232,232,232)",
            "linecolor": "rgb(36,36,36)",
            "showgrid": false,
            "showline": true,
            "ticks": "outside"
           },
           "bgcolor": "white",
           "radialaxis": {
            "gridcolor": "rgb(232,232,232)",
            "linecolor": "rgb(36,36,36)",
            "showgrid": false,
            "showline": true,
            "ticks": "outside"
           }
          },
          "scene": {
           "xaxis": {
            "backgroundcolor": "white",
            "gridcolor": "rgb(232,232,232)",
            "gridwidth": 2,
            "linecolor": "rgb(36,36,36)",
            "showbackground": true,
            "showgrid": false,
            "showline": true,
            "ticks": "outside",
            "zeroline": false,
            "zerolinecolor": "rgb(36,36,36)"
           },
           "yaxis": {
            "backgroundcolor": "white",
            "gridcolor": "rgb(232,232,232)",
            "gridwidth": 2,
            "linecolor": "rgb(36,36,36)",
            "showbackground": true,
            "showgrid": false,
            "showline": true,
            "ticks": "outside",
            "zeroline": false,
            "zerolinecolor": "rgb(36,36,36)"
           },
           "zaxis": {
            "backgroundcolor": "white",
            "gridcolor": "rgb(232,232,232)",
            "gridwidth": 2,
            "linecolor": "rgb(36,36,36)",
            "showbackground": true,
            "showgrid": false,
            "showline": true,
            "ticks": "outside",
            "zeroline": false,
            "zerolinecolor": "rgb(36,36,36)"
           }
          },
          "shapedefaults": {
           "fillcolor": "black",
           "line": {
            "width": 0
           },
           "opacity": 0.3
          },
          "ternary": {
           "aaxis": {
            "gridcolor": "rgb(232,232,232)",
            "linecolor": "rgb(36,36,36)",
            "showgrid": false,
            "showline": true,
            "ticks": "outside"
           },
           "baxis": {
            "gridcolor": "rgb(232,232,232)",
            "linecolor": "rgb(36,36,36)",
            "showgrid": false,
            "showline": true,
            "ticks": "outside"
           },
           "bgcolor": "white",
           "caxis": {
            "gridcolor": "rgb(232,232,232)",
            "linecolor": "rgb(36,36,36)",
            "showgrid": false,
            "showline": true,
            "ticks": "outside"
           }
          },
          "title": {
           "x": 0.05
          },
          "xaxis": {
           "automargin": true,
           "gridcolor": "rgb(232,232,232)",
           "linecolor": "rgb(36,36,36)",
           "showgrid": false,
           "showline": true,
           "ticks": "outside",
           "title": {
            "standoff": 15
           },
           "zeroline": false,
           "zerolinecolor": "rgb(36,36,36)"
          },
          "yaxis": {
           "automargin": true,
           "gridcolor": "rgb(232,232,232)",
           "linecolor": "rgb(36,36,36)",
           "showgrid": false,
           "showline": true,
           "ticks": "outside",
           "title": {
            "standoff": 15
           },
           "zeroline": false,
           "zerolinecolor": "rgb(36,36,36)"
          }
         }
        },
        "title": {
         "font": {
          "color": "Black",
          "size": 22
         },
         "text": "<b>Topics over Time</b>",
         "x": 0.4,
         "xanchor": "center",
         "y": 0.95,
         "yanchor": "top"
        },
        "width": 1250,
        "xaxis": {
         "showgrid": true
        },
        "yaxis": {
         "showgrid": true,
         "title": {
          "text": "Frequency"
         }
        }
       }
      }
     },
     "metadata": {},
     "output_type": "display_data"
    }
   ],
   "source": [
    "#visualize topics over time\n",
    "topics_over_time_vis = topic_model.visualize_topics_over_time(topics_over_time)\n",
    "topics_over_time_vis\n"
   ]
  },
  {
   "cell_type": "code",
   "execution_count": 13,
   "id": "3fef141c",
   "metadata": {},
   "outputs": [
    {
     "ename": "KeyboardInterrupt",
     "evalue": "",
     "output_type": "error",
     "traceback": [
      "\u001b[1;31m---------------------------------------------------------------------------\u001b[0m",
      "\u001b[1;31mKeyboardInterrupt\u001b[0m                         Traceback (most recent call last)",
      "Cell \u001b[1;32mIn[13], line 3\u001b[0m\n\u001b[0;32m      1\u001b[0m \u001b[38;5;66;03m#another topic model with fixed number of topics\u001b[39;00m\n\u001b[0;32m      2\u001b[0m topic_model_2 \u001b[38;5;241m=\u001b[39m BERTopic(nr_topics\u001b[38;5;241m=\u001b[39m\u001b[38;5;241m50\u001b[39m)\n\u001b[1;32m----> 3\u001b[0m topics_2, probs_2 \u001b[38;5;241m=\u001b[39m \u001b[43mtopic_model_2\u001b[49m\u001b[38;5;241;43m.\u001b[39;49m\u001b[43mfit_transform\u001b[49m\u001b[43m(\u001b[49m\u001b[43mcleaned_texts\u001b[49m\u001b[43m)\u001b[49m\n",
      "File \u001b[1;32mc:\\Users\\ramirolobo\\AppData\\Local\\Programs\\Python\\Python312\\Lib\\site-packages\\bertopic\\_bertopic.py:454\u001b[0m, in \u001b[0;36mBERTopic.fit_transform\u001b[1;34m(self, documents, embeddings, images, y)\u001b[0m\n\u001b[0;32m    452\u001b[0m     logger\u001b[38;5;241m.\u001b[39minfo(\u001b[38;5;124m\"\u001b[39m\u001b[38;5;124mEmbedding - Transforming documents to embeddings.\u001b[39m\u001b[38;5;124m\"\u001b[39m)\n\u001b[0;32m    453\u001b[0m     \u001b[38;5;28mself\u001b[39m\u001b[38;5;241m.\u001b[39membedding_model \u001b[38;5;241m=\u001b[39m select_backend(\u001b[38;5;28mself\u001b[39m\u001b[38;5;241m.\u001b[39membedding_model, language\u001b[38;5;241m=\u001b[39m\u001b[38;5;28mself\u001b[39m\u001b[38;5;241m.\u001b[39mlanguage, verbose\u001b[38;5;241m=\u001b[39m\u001b[38;5;28mself\u001b[39m\u001b[38;5;241m.\u001b[39mverbose)\n\u001b[1;32m--> 454\u001b[0m     embeddings \u001b[38;5;241m=\u001b[39m \u001b[38;5;28;43mself\u001b[39;49m\u001b[38;5;241;43m.\u001b[39;49m\u001b[43m_extract_embeddings\u001b[49m\u001b[43m(\u001b[49m\n\u001b[0;32m    455\u001b[0m \u001b[43m        \u001b[49m\u001b[43mdocuments\u001b[49m\u001b[38;5;241;43m.\u001b[39;49m\u001b[43mDocument\u001b[49m\u001b[38;5;241;43m.\u001b[39;49m\u001b[43mvalues\u001b[49m\u001b[38;5;241;43m.\u001b[39;49m\u001b[43mtolist\u001b[49m\u001b[43m(\u001b[49m\u001b[43m)\u001b[49m\u001b[43m,\u001b[49m\n\u001b[0;32m    456\u001b[0m \u001b[43m        \u001b[49m\u001b[43mimages\u001b[49m\u001b[38;5;241;43m=\u001b[39;49m\u001b[43mimages\u001b[49m\u001b[43m,\u001b[49m\n\u001b[0;32m    457\u001b[0m \u001b[43m        \u001b[49m\u001b[43mmethod\u001b[49m\u001b[38;5;241;43m=\u001b[39;49m\u001b[38;5;124;43m\"\u001b[39;49m\u001b[38;5;124;43mdocument\u001b[39;49m\u001b[38;5;124;43m\"\u001b[39;49m\u001b[43m,\u001b[49m\n\u001b[0;32m    458\u001b[0m \u001b[43m        \u001b[49m\u001b[43mverbose\u001b[49m\u001b[38;5;241;43m=\u001b[39;49m\u001b[38;5;28;43mself\u001b[39;49m\u001b[38;5;241;43m.\u001b[39;49m\u001b[43mverbose\u001b[49m\u001b[43m,\u001b[49m\n\u001b[0;32m    459\u001b[0m \u001b[43m    \u001b[49m\u001b[43m)\u001b[49m\n\u001b[0;32m    460\u001b[0m     logger\u001b[38;5;241m.\u001b[39minfo(\u001b[38;5;124m\"\u001b[39m\u001b[38;5;124mEmbedding - Completed \u001b[39m\u001b[38;5;130;01m\\u2713\u001b[39;00m\u001b[38;5;124m\"\u001b[39m)\n\u001b[0;32m    461\u001b[0m \u001b[38;5;28;01melse\u001b[39;00m:\n",
      "File \u001b[1;32mc:\\Users\\ramirolobo\\AppData\\Local\\Programs\\Python\\Python312\\Lib\\site-packages\\bertopic\\_bertopic.py:3711\u001b[0m, in \u001b[0;36mBERTopic._extract_embeddings\u001b[1;34m(self, documents, images, method, verbose)\u001b[0m\n\u001b[0;32m   3709\u001b[0m     embeddings \u001b[38;5;241m=\u001b[39m \u001b[38;5;28mself\u001b[39m\u001b[38;5;241m.\u001b[39membedding_model\u001b[38;5;241m.\u001b[39membed_words(words\u001b[38;5;241m=\u001b[39mdocuments, verbose\u001b[38;5;241m=\u001b[39mverbose)\n\u001b[0;32m   3710\u001b[0m \u001b[38;5;28;01melif\u001b[39;00m method \u001b[38;5;241m==\u001b[39m \u001b[38;5;124m\"\u001b[39m\u001b[38;5;124mdocument\u001b[39m\u001b[38;5;124m\"\u001b[39m:\n\u001b[1;32m-> 3711\u001b[0m     embeddings \u001b[38;5;241m=\u001b[39m \u001b[38;5;28;43mself\u001b[39;49m\u001b[38;5;241;43m.\u001b[39;49m\u001b[43membedding_model\u001b[49m\u001b[38;5;241;43m.\u001b[39;49m\u001b[43membed_documents\u001b[49m\u001b[43m(\u001b[49m\u001b[43mdocuments\u001b[49m\u001b[43m,\u001b[49m\u001b[43m \u001b[49m\u001b[43mverbose\u001b[49m\u001b[38;5;241;43m=\u001b[39;49m\u001b[43mverbose\u001b[49m\u001b[43m)\u001b[49m\n\u001b[0;32m   3712\u001b[0m \u001b[38;5;28;01melif\u001b[39;00m documents[\u001b[38;5;241m0\u001b[39m] \u001b[38;5;129;01mis\u001b[39;00m \u001b[38;5;28;01mNone\u001b[39;00m \u001b[38;5;129;01mand\u001b[39;00m images \u001b[38;5;129;01mis\u001b[39;00m \u001b[38;5;28;01mNone\u001b[39;00m:\n\u001b[0;32m   3713\u001b[0m     \u001b[38;5;28;01mraise\u001b[39;00m \u001b[38;5;167;01mValueError\u001b[39;00m(\n\u001b[0;32m   3714\u001b[0m         \u001b[38;5;124m\"\u001b[39m\u001b[38;5;124mMake sure to use an embedding model that can either embed documents\u001b[39m\u001b[38;5;124m\"\u001b[39m\n\u001b[0;32m   3715\u001b[0m         \u001b[38;5;124m\"\u001b[39m\u001b[38;5;124mor images depending on which you want to embed.\u001b[39m\u001b[38;5;124m\"\u001b[39m\n\u001b[0;32m   3716\u001b[0m     )\n",
      "File \u001b[1;32mc:\\Users\\ramirolobo\\AppData\\Local\\Programs\\Python\\Python312\\Lib\\site-packages\\bertopic\\backend\\_base.py:62\u001b[0m, in \u001b[0;36mBaseEmbedder.embed_documents\u001b[1;34m(self, document, verbose)\u001b[0m\n\u001b[0;32m     50\u001b[0m \u001b[38;5;28;01mdef\u001b[39;00m \u001b[38;5;21membed_documents\u001b[39m(\u001b[38;5;28mself\u001b[39m, document: List[\u001b[38;5;28mstr\u001b[39m], verbose: \u001b[38;5;28mbool\u001b[39m \u001b[38;5;241m=\u001b[39m \u001b[38;5;28;01mFalse\u001b[39;00m) \u001b[38;5;241m-\u001b[39m\u001b[38;5;241m>\u001b[39m np\u001b[38;5;241m.\u001b[39mndarray:\n\u001b[0;32m     51\u001b[0m \u001b[38;5;250m    \u001b[39m\u001b[38;5;124;03m\"\"\"Embed a list of n words into an n-dimensional\u001b[39;00m\n\u001b[0;32m     52\u001b[0m \u001b[38;5;124;03m    matrix of embeddings.\u001b[39;00m\n\u001b[0;32m     53\u001b[0m \n\u001b[1;32m   (...)\u001b[0m\n\u001b[0;32m     60\u001b[0m \u001b[38;5;124;03m        that each have an embeddings size of `m`\u001b[39;00m\n\u001b[0;32m     61\u001b[0m \u001b[38;5;124;03m    \"\"\"\u001b[39;00m\n\u001b[1;32m---> 62\u001b[0m     \u001b[38;5;28;01mreturn\u001b[39;00m \u001b[38;5;28;43mself\u001b[39;49m\u001b[38;5;241;43m.\u001b[39;49m\u001b[43membed\u001b[49m\u001b[43m(\u001b[49m\u001b[43mdocument\u001b[49m\u001b[43m,\u001b[49m\u001b[43m \u001b[49m\u001b[43mverbose\u001b[49m\u001b[43m)\u001b[49m\n",
      "File \u001b[1;32mc:\\Users\\ramirolobo\\AppData\\Local\\Programs\\Python\\Python312\\Lib\\site-packages\\bertopic\\backend\\_sentencetransformers.py:84\u001b[0m, in \u001b[0;36mSentenceTransformerBackend.embed\u001b[1;34m(self, documents, verbose)\u001b[0m\n\u001b[0;32m     72\u001b[0m \u001b[38;5;28;01mdef\u001b[39;00m \u001b[38;5;21membed\u001b[39m(\u001b[38;5;28mself\u001b[39m, documents: List[\u001b[38;5;28mstr\u001b[39m], verbose: \u001b[38;5;28mbool\u001b[39m \u001b[38;5;241m=\u001b[39m \u001b[38;5;28;01mFalse\u001b[39;00m) \u001b[38;5;241m-\u001b[39m\u001b[38;5;241m>\u001b[39m np\u001b[38;5;241m.\u001b[39mndarray:\n\u001b[0;32m     73\u001b[0m \u001b[38;5;250m    \u001b[39m\u001b[38;5;124;03m\"\"\"Embed a list of n documents/words into an n-dimensional\u001b[39;00m\n\u001b[0;32m     74\u001b[0m \u001b[38;5;124;03m    matrix of embeddings.\u001b[39;00m\n\u001b[0;32m     75\u001b[0m \n\u001b[1;32m   (...)\u001b[0m\n\u001b[0;32m     82\u001b[0m \u001b[38;5;124;03m        that each have an embeddings size of `m`\u001b[39;00m\n\u001b[0;32m     83\u001b[0m \u001b[38;5;124;03m    \"\"\"\u001b[39;00m\n\u001b[1;32m---> 84\u001b[0m     embeddings \u001b[38;5;241m=\u001b[39m \u001b[38;5;28;43mself\u001b[39;49m\u001b[38;5;241;43m.\u001b[39;49m\u001b[43membedding_model\u001b[49m\u001b[38;5;241;43m.\u001b[39;49m\u001b[43mencode\u001b[49m\u001b[43m(\u001b[49m\u001b[43mdocuments\u001b[49m\u001b[43m,\u001b[49m\u001b[43m \u001b[49m\u001b[43mshow_progress_bar\u001b[49m\u001b[38;5;241;43m=\u001b[39;49m\u001b[43mverbose\u001b[49m\u001b[43m)\u001b[49m\n\u001b[0;32m     85\u001b[0m     \u001b[38;5;28;01mreturn\u001b[39;00m embeddings\n",
      "File \u001b[1;32mc:\\Users\\ramirolobo\\AppData\\Local\\Programs\\Python\\Python312\\Lib\\site-packages\\sentence_transformers\\SentenceTransformer.py:685\u001b[0m, in \u001b[0;36mSentenceTransformer.encode\u001b[1;34m(self, sentences, prompt_name, prompt, batch_size, show_progress_bar, output_value, precision, convert_to_numpy, convert_to_tensor, device, normalize_embeddings, **kwargs)\u001b[0m\n\u001b[0;32m    682\u001b[0m features\u001b[38;5;241m.\u001b[39mupdate(extra_features)\n\u001b[0;32m    684\u001b[0m \u001b[38;5;28;01mwith\u001b[39;00m torch\u001b[38;5;241m.\u001b[39mno_grad():\n\u001b[1;32m--> 685\u001b[0m     out_features \u001b[38;5;241m=\u001b[39m \u001b[38;5;28;43mself\u001b[39;49m\u001b[38;5;241;43m.\u001b[39;49m\u001b[43mforward\u001b[49m\u001b[43m(\u001b[49m\u001b[43mfeatures\u001b[49m\u001b[43m,\u001b[49m\u001b[43m \u001b[49m\u001b[38;5;241;43m*\u001b[39;49m\u001b[38;5;241;43m*\u001b[39;49m\u001b[43mkwargs\u001b[49m\u001b[43m)\u001b[49m\n\u001b[0;32m    686\u001b[0m     \u001b[38;5;28;01mif\u001b[39;00m \u001b[38;5;28mself\u001b[39m\u001b[38;5;241m.\u001b[39mdevice\u001b[38;5;241m.\u001b[39mtype \u001b[38;5;241m==\u001b[39m \u001b[38;5;124m\"\u001b[39m\u001b[38;5;124mhpu\u001b[39m\u001b[38;5;124m\"\u001b[39m:\n\u001b[0;32m    687\u001b[0m         out_features \u001b[38;5;241m=\u001b[39m copy\u001b[38;5;241m.\u001b[39mdeepcopy(out_features)\n",
      "File \u001b[1;32mc:\\Users\\ramirolobo\\AppData\\Local\\Programs\\Python\\Python312\\Lib\\site-packages\\sentence_transformers\\SentenceTransformer.py:758\u001b[0m, in \u001b[0;36mSentenceTransformer.forward\u001b[1;34m(self, input, **kwargs)\u001b[0m\n\u001b[0;32m    756\u001b[0m     module_kwarg_keys \u001b[38;5;241m=\u001b[39m \u001b[38;5;28mself\u001b[39m\u001b[38;5;241m.\u001b[39mmodule_kwargs\u001b[38;5;241m.\u001b[39mget(module_name, [])\n\u001b[0;32m    757\u001b[0m     module_kwargs \u001b[38;5;241m=\u001b[39m {key: value \u001b[38;5;28;01mfor\u001b[39;00m key, value \u001b[38;5;129;01min\u001b[39;00m kwargs\u001b[38;5;241m.\u001b[39mitems() \u001b[38;5;28;01mif\u001b[39;00m key \u001b[38;5;129;01min\u001b[39;00m module_kwarg_keys}\n\u001b[1;32m--> 758\u001b[0m     \u001b[38;5;28minput\u001b[39m \u001b[38;5;241m=\u001b[39m \u001b[43mmodule\u001b[49m\u001b[43m(\u001b[49m\u001b[38;5;28;43minput\u001b[39;49m\u001b[43m,\u001b[49m\u001b[43m \u001b[49m\u001b[38;5;241;43m*\u001b[39;49m\u001b[38;5;241;43m*\u001b[39;49m\u001b[43mmodule_kwargs\u001b[49m\u001b[43m)\u001b[49m\n\u001b[0;32m    759\u001b[0m \u001b[38;5;28;01mreturn\u001b[39;00m \u001b[38;5;28minput\u001b[39m\n",
      "File \u001b[1;32mc:\\Users\\ramirolobo\\AppData\\Local\\Programs\\Python\\Python312\\Lib\\site-packages\\torch\\nn\\modules\\module.py:1751\u001b[0m, in \u001b[0;36mModule._wrapped_call_impl\u001b[1;34m(self, *args, **kwargs)\u001b[0m\n\u001b[0;32m   1749\u001b[0m     \u001b[38;5;28;01mreturn\u001b[39;00m \u001b[38;5;28mself\u001b[39m\u001b[38;5;241m.\u001b[39m_compiled_call_impl(\u001b[38;5;241m*\u001b[39margs, \u001b[38;5;241m*\u001b[39m\u001b[38;5;241m*\u001b[39mkwargs)  \u001b[38;5;66;03m# type: ignore[misc]\u001b[39;00m\n\u001b[0;32m   1750\u001b[0m \u001b[38;5;28;01melse\u001b[39;00m:\n\u001b[1;32m-> 1751\u001b[0m     \u001b[38;5;28;01mreturn\u001b[39;00m \u001b[38;5;28;43mself\u001b[39;49m\u001b[38;5;241;43m.\u001b[39;49m\u001b[43m_call_impl\u001b[49m\u001b[43m(\u001b[49m\u001b[38;5;241;43m*\u001b[39;49m\u001b[43margs\u001b[49m\u001b[43m,\u001b[49m\u001b[43m \u001b[49m\u001b[38;5;241;43m*\u001b[39;49m\u001b[38;5;241;43m*\u001b[39;49m\u001b[43mkwargs\u001b[49m\u001b[43m)\u001b[49m\n",
      "File \u001b[1;32mc:\\Users\\ramirolobo\\AppData\\Local\\Programs\\Python\\Python312\\Lib\\site-packages\\torch\\nn\\modules\\module.py:1762\u001b[0m, in \u001b[0;36mModule._call_impl\u001b[1;34m(self, *args, **kwargs)\u001b[0m\n\u001b[0;32m   1757\u001b[0m \u001b[38;5;66;03m# If we don't have any hooks, we want to skip the rest of the logic in\u001b[39;00m\n\u001b[0;32m   1758\u001b[0m \u001b[38;5;66;03m# this function, and just call forward.\u001b[39;00m\n\u001b[0;32m   1759\u001b[0m \u001b[38;5;28;01mif\u001b[39;00m \u001b[38;5;129;01mnot\u001b[39;00m (\u001b[38;5;28mself\u001b[39m\u001b[38;5;241m.\u001b[39m_backward_hooks \u001b[38;5;129;01mor\u001b[39;00m \u001b[38;5;28mself\u001b[39m\u001b[38;5;241m.\u001b[39m_backward_pre_hooks \u001b[38;5;129;01mor\u001b[39;00m \u001b[38;5;28mself\u001b[39m\u001b[38;5;241m.\u001b[39m_forward_hooks \u001b[38;5;129;01mor\u001b[39;00m \u001b[38;5;28mself\u001b[39m\u001b[38;5;241m.\u001b[39m_forward_pre_hooks\n\u001b[0;32m   1760\u001b[0m         \u001b[38;5;129;01mor\u001b[39;00m _global_backward_pre_hooks \u001b[38;5;129;01mor\u001b[39;00m _global_backward_hooks\n\u001b[0;32m   1761\u001b[0m         \u001b[38;5;129;01mor\u001b[39;00m _global_forward_hooks \u001b[38;5;129;01mor\u001b[39;00m _global_forward_pre_hooks):\n\u001b[1;32m-> 1762\u001b[0m     \u001b[38;5;28;01mreturn\u001b[39;00m \u001b[43mforward_call\u001b[49m\u001b[43m(\u001b[49m\u001b[38;5;241;43m*\u001b[39;49m\u001b[43margs\u001b[49m\u001b[43m,\u001b[49m\u001b[43m \u001b[49m\u001b[38;5;241;43m*\u001b[39;49m\u001b[38;5;241;43m*\u001b[39;49m\u001b[43mkwargs\u001b[49m\u001b[43m)\u001b[49m\n\u001b[0;32m   1764\u001b[0m result \u001b[38;5;241m=\u001b[39m \u001b[38;5;28;01mNone\u001b[39;00m\n\u001b[0;32m   1765\u001b[0m called_always_called_hooks \u001b[38;5;241m=\u001b[39m \u001b[38;5;28mset\u001b[39m()\n",
      "File \u001b[1;32mc:\\Users\\ramirolobo\\AppData\\Local\\Programs\\Python\\Python312\\Lib\\site-packages\\sentence_transformers\\models\\Transformer.py:442\u001b[0m, in \u001b[0;36mTransformer.forward\u001b[1;34m(self, features, **kwargs)\u001b[0m\n\u001b[0;32m    435\u001b[0m \u001b[38;5;250m\u001b[39m\u001b[38;5;124;03m\"\"\"Returns token_embeddings, cls_token\"\"\"\u001b[39;00m\n\u001b[0;32m    436\u001b[0m trans_features \u001b[38;5;241m=\u001b[39m {\n\u001b[0;32m    437\u001b[0m     key: value\n\u001b[0;32m    438\u001b[0m     \u001b[38;5;28;01mfor\u001b[39;00m key, value \u001b[38;5;129;01min\u001b[39;00m features\u001b[38;5;241m.\u001b[39mitems()\n\u001b[0;32m    439\u001b[0m     \u001b[38;5;28;01mif\u001b[39;00m key \u001b[38;5;129;01min\u001b[39;00m [\u001b[38;5;124m\"\u001b[39m\u001b[38;5;124minput_ids\u001b[39m\u001b[38;5;124m\"\u001b[39m, \u001b[38;5;124m\"\u001b[39m\u001b[38;5;124mattention_mask\u001b[39m\u001b[38;5;124m\"\u001b[39m, \u001b[38;5;124m\"\u001b[39m\u001b[38;5;124mtoken_type_ids\u001b[39m\u001b[38;5;124m\"\u001b[39m, \u001b[38;5;124m\"\u001b[39m\u001b[38;5;124minputs_embeds\u001b[39m\u001b[38;5;124m\"\u001b[39m]\n\u001b[0;32m    440\u001b[0m }\n\u001b[1;32m--> 442\u001b[0m outputs \u001b[38;5;241m=\u001b[39m \u001b[38;5;28;43mself\u001b[39;49m\u001b[38;5;241;43m.\u001b[39;49m\u001b[43mauto_model\u001b[49m\u001b[43m(\u001b[49m\u001b[38;5;241;43m*\u001b[39;49m\u001b[38;5;241;43m*\u001b[39;49m\u001b[43mtrans_features\u001b[49m\u001b[43m,\u001b[49m\u001b[43m \u001b[49m\u001b[38;5;241;43m*\u001b[39;49m\u001b[38;5;241;43m*\u001b[39;49m\u001b[43mkwargs\u001b[49m\u001b[43m,\u001b[49m\u001b[43m \u001b[49m\u001b[43mreturn_dict\u001b[49m\u001b[38;5;241;43m=\u001b[39;49m\u001b[38;5;28;43;01mTrue\u001b[39;49;00m\u001b[43m)\u001b[49m\n\u001b[0;32m    443\u001b[0m token_embeddings \u001b[38;5;241m=\u001b[39m outputs[\u001b[38;5;241m0\u001b[39m]\n\u001b[0;32m    444\u001b[0m features[\u001b[38;5;124m\"\u001b[39m\u001b[38;5;124mtoken_embeddings\u001b[39m\u001b[38;5;124m\"\u001b[39m] \u001b[38;5;241m=\u001b[39m token_embeddings\n",
      "File \u001b[1;32mc:\\Users\\ramirolobo\\AppData\\Local\\Programs\\Python\\Python312\\Lib\\site-packages\\torch\\nn\\modules\\module.py:1751\u001b[0m, in \u001b[0;36mModule._wrapped_call_impl\u001b[1;34m(self, *args, **kwargs)\u001b[0m\n\u001b[0;32m   1749\u001b[0m     \u001b[38;5;28;01mreturn\u001b[39;00m \u001b[38;5;28mself\u001b[39m\u001b[38;5;241m.\u001b[39m_compiled_call_impl(\u001b[38;5;241m*\u001b[39margs, \u001b[38;5;241m*\u001b[39m\u001b[38;5;241m*\u001b[39mkwargs)  \u001b[38;5;66;03m# type: ignore[misc]\u001b[39;00m\n\u001b[0;32m   1750\u001b[0m \u001b[38;5;28;01melse\u001b[39;00m:\n\u001b[1;32m-> 1751\u001b[0m     \u001b[38;5;28;01mreturn\u001b[39;00m \u001b[38;5;28;43mself\u001b[39;49m\u001b[38;5;241;43m.\u001b[39;49m\u001b[43m_call_impl\u001b[49m\u001b[43m(\u001b[49m\u001b[38;5;241;43m*\u001b[39;49m\u001b[43margs\u001b[49m\u001b[43m,\u001b[49m\u001b[43m \u001b[49m\u001b[38;5;241;43m*\u001b[39;49m\u001b[38;5;241;43m*\u001b[39;49m\u001b[43mkwargs\u001b[49m\u001b[43m)\u001b[49m\n",
      "File \u001b[1;32mc:\\Users\\ramirolobo\\AppData\\Local\\Programs\\Python\\Python312\\Lib\\site-packages\\torch\\nn\\modules\\module.py:1762\u001b[0m, in \u001b[0;36mModule._call_impl\u001b[1;34m(self, *args, **kwargs)\u001b[0m\n\u001b[0;32m   1757\u001b[0m \u001b[38;5;66;03m# If we don't have any hooks, we want to skip the rest of the logic in\u001b[39;00m\n\u001b[0;32m   1758\u001b[0m \u001b[38;5;66;03m# this function, and just call forward.\u001b[39;00m\n\u001b[0;32m   1759\u001b[0m \u001b[38;5;28;01mif\u001b[39;00m \u001b[38;5;129;01mnot\u001b[39;00m (\u001b[38;5;28mself\u001b[39m\u001b[38;5;241m.\u001b[39m_backward_hooks \u001b[38;5;129;01mor\u001b[39;00m \u001b[38;5;28mself\u001b[39m\u001b[38;5;241m.\u001b[39m_backward_pre_hooks \u001b[38;5;129;01mor\u001b[39;00m \u001b[38;5;28mself\u001b[39m\u001b[38;5;241m.\u001b[39m_forward_hooks \u001b[38;5;129;01mor\u001b[39;00m \u001b[38;5;28mself\u001b[39m\u001b[38;5;241m.\u001b[39m_forward_pre_hooks\n\u001b[0;32m   1760\u001b[0m         \u001b[38;5;129;01mor\u001b[39;00m _global_backward_pre_hooks \u001b[38;5;129;01mor\u001b[39;00m _global_backward_hooks\n\u001b[0;32m   1761\u001b[0m         \u001b[38;5;129;01mor\u001b[39;00m _global_forward_hooks \u001b[38;5;129;01mor\u001b[39;00m _global_forward_pre_hooks):\n\u001b[1;32m-> 1762\u001b[0m     \u001b[38;5;28;01mreturn\u001b[39;00m \u001b[43mforward_call\u001b[49m\u001b[43m(\u001b[49m\u001b[38;5;241;43m*\u001b[39;49m\u001b[43margs\u001b[49m\u001b[43m,\u001b[49m\u001b[43m \u001b[49m\u001b[38;5;241;43m*\u001b[39;49m\u001b[38;5;241;43m*\u001b[39;49m\u001b[43mkwargs\u001b[49m\u001b[43m)\u001b[49m\n\u001b[0;32m   1764\u001b[0m result \u001b[38;5;241m=\u001b[39m \u001b[38;5;28;01mNone\u001b[39;00m\n\u001b[0;32m   1765\u001b[0m called_always_called_hooks \u001b[38;5;241m=\u001b[39m \u001b[38;5;28mset\u001b[39m()\n",
      "File \u001b[1;32mc:\\Users\\ramirolobo\\AppData\\Local\\Programs\\Python\\Python312\\Lib\\site-packages\\transformers\\models\\bert\\modeling_bert.py:1144\u001b[0m, in \u001b[0;36mBertModel.forward\u001b[1;34m(self, input_ids, attention_mask, token_type_ids, position_ids, head_mask, inputs_embeds, encoder_hidden_states, encoder_attention_mask, past_key_values, use_cache, output_attentions, output_hidden_states, return_dict)\u001b[0m\n\u001b[0;32m   1137\u001b[0m \u001b[38;5;66;03m# Prepare head mask if needed\u001b[39;00m\n\u001b[0;32m   1138\u001b[0m \u001b[38;5;66;03m# 1.0 in head_mask indicate we keep the head\u001b[39;00m\n\u001b[0;32m   1139\u001b[0m \u001b[38;5;66;03m# attention_probs has shape bsz x n_heads x N x N\u001b[39;00m\n\u001b[0;32m   1140\u001b[0m \u001b[38;5;66;03m# input head_mask has shape [num_heads] or [num_hidden_layers x num_heads]\u001b[39;00m\n\u001b[0;32m   1141\u001b[0m \u001b[38;5;66;03m# and head_mask is converted to shape [num_hidden_layers x batch x num_heads x seq_length x seq_length]\u001b[39;00m\n\u001b[0;32m   1142\u001b[0m head_mask \u001b[38;5;241m=\u001b[39m \u001b[38;5;28mself\u001b[39m\u001b[38;5;241m.\u001b[39mget_head_mask(head_mask, \u001b[38;5;28mself\u001b[39m\u001b[38;5;241m.\u001b[39mconfig\u001b[38;5;241m.\u001b[39mnum_hidden_layers)\n\u001b[1;32m-> 1144\u001b[0m encoder_outputs \u001b[38;5;241m=\u001b[39m \u001b[38;5;28;43mself\u001b[39;49m\u001b[38;5;241;43m.\u001b[39;49m\u001b[43mencoder\u001b[49m\u001b[43m(\u001b[49m\n\u001b[0;32m   1145\u001b[0m \u001b[43m    \u001b[49m\u001b[43membedding_output\u001b[49m\u001b[43m,\u001b[49m\n\u001b[0;32m   1146\u001b[0m \u001b[43m    \u001b[49m\u001b[43mattention_mask\u001b[49m\u001b[38;5;241;43m=\u001b[39;49m\u001b[43mextended_attention_mask\u001b[49m\u001b[43m,\u001b[49m\n\u001b[0;32m   1147\u001b[0m \u001b[43m    \u001b[49m\u001b[43mhead_mask\u001b[49m\u001b[38;5;241;43m=\u001b[39;49m\u001b[43mhead_mask\u001b[49m\u001b[43m,\u001b[49m\n\u001b[0;32m   1148\u001b[0m \u001b[43m    \u001b[49m\u001b[43mencoder_hidden_states\u001b[49m\u001b[38;5;241;43m=\u001b[39;49m\u001b[43mencoder_hidden_states\u001b[49m\u001b[43m,\u001b[49m\n\u001b[0;32m   1149\u001b[0m \u001b[43m    \u001b[49m\u001b[43mencoder_attention_mask\u001b[49m\u001b[38;5;241;43m=\u001b[39;49m\u001b[43mencoder_extended_attention_mask\u001b[49m\u001b[43m,\u001b[49m\n\u001b[0;32m   1150\u001b[0m \u001b[43m    \u001b[49m\u001b[43mpast_key_values\u001b[49m\u001b[38;5;241;43m=\u001b[39;49m\u001b[43mpast_key_values\u001b[49m\u001b[43m,\u001b[49m\n\u001b[0;32m   1151\u001b[0m \u001b[43m    \u001b[49m\u001b[43muse_cache\u001b[49m\u001b[38;5;241;43m=\u001b[39;49m\u001b[43muse_cache\u001b[49m\u001b[43m,\u001b[49m\n\u001b[0;32m   1152\u001b[0m \u001b[43m    \u001b[49m\u001b[43moutput_attentions\u001b[49m\u001b[38;5;241;43m=\u001b[39;49m\u001b[43moutput_attentions\u001b[49m\u001b[43m,\u001b[49m\n\u001b[0;32m   1153\u001b[0m \u001b[43m    \u001b[49m\u001b[43moutput_hidden_states\u001b[49m\u001b[38;5;241;43m=\u001b[39;49m\u001b[43moutput_hidden_states\u001b[49m\u001b[43m,\u001b[49m\n\u001b[0;32m   1154\u001b[0m \u001b[43m    \u001b[49m\u001b[43mreturn_dict\u001b[49m\u001b[38;5;241;43m=\u001b[39;49m\u001b[43mreturn_dict\u001b[49m\u001b[43m,\u001b[49m\n\u001b[0;32m   1155\u001b[0m \u001b[43m\u001b[49m\u001b[43m)\u001b[49m\n\u001b[0;32m   1156\u001b[0m sequence_output \u001b[38;5;241m=\u001b[39m encoder_outputs[\u001b[38;5;241m0\u001b[39m]\n\u001b[0;32m   1157\u001b[0m pooled_output \u001b[38;5;241m=\u001b[39m \u001b[38;5;28mself\u001b[39m\u001b[38;5;241m.\u001b[39mpooler(sequence_output) \u001b[38;5;28;01mif\u001b[39;00m \u001b[38;5;28mself\u001b[39m\u001b[38;5;241m.\u001b[39mpooler \u001b[38;5;129;01mis\u001b[39;00m \u001b[38;5;129;01mnot\u001b[39;00m \u001b[38;5;28;01mNone\u001b[39;00m \u001b[38;5;28;01melse\u001b[39;00m \u001b[38;5;28;01mNone\u001b[39;00m\n",
      "File \u001b[1;32mc:\\Users\\ramirolobo\\AppData\\Local\\Programs\\Python\\Python312\\Lib\\site-packages\\torch\\nn\\modules\\module.py:1751\u001b[0m, in \u001b[0;36mModule._wrapped_call_impl\u001b[1;34m(self, *args, **kwargs)\u001b[0m\n\u001b[0;32m   1749\u001b[0m     \u001b[38;5;28;01mreturn\u001b[39;00m \u001b[38;5;28mself\u001b[39m\u001b[38;5;241m.\u001b[39m_compiled_call_impl(\u001b[38;5;241m*\u001b[39margs, \u001b[38;5;241m*\u001b[39m\u001b[38;5;241m*\u001b[39mkwargs)  \u001b[38;5;66;03m# type: ignore[misc]\u001b[39;00m\n\u001b[0;32m   1750\u001b[0m \u001b[38;5;28;01melse\u001b[39;00m:\n\u001b[1;32m-> 1751\u001b[0m     \u001b[38;5;28;01mreturn\u001b[39;00m \u001b[38;5;28;43mself\u001b[39;49m\u001b[38;5;241;43m.\u001b[39;49m\u001b[43m_call_impl\u001b[49m\u001b[43m(\u001b[49m\u001b[38;5;241;43m*\u001b[39;49m\u001b[43margs\u001b[49m\u001b[43m,\u001b[49m\u001b[43m \u001b[49m\u001b[38;5;241;43m*\u001b[39;49m\u001b[38;5;241;43m*\u001b[39;49m\u001b[43mkwargs\u001b[49m\u001b[43m)\u001b[49m\n",
      "File \u001b[1;32mc:\\Users\\ramirolobo\\AppData\\Local\\Programs\\Python\\Python312\\Lib\\site-packages\\torch\\nn\\modules\\module.py:1762\u001b[0m, in \u001b[0;36mModule._call_impl\u001b[1;34m(self, *args, **kwargs)\u001b[0m\n\u001b[0;32m   1757\u001b[0m \u001b[38;5;66;03m# If we don't have any hooks, we want to skip the rest of the logic in\u001b[39;00m\n\u001b[0;32m   1758\u001b[0m \u001b[38;5;66;03m# this function, and just call forward.\u001b[39;00m\n\u001b[0;32m   1759\u001b[0m \u001b[38;5;28;01mif\u001b[39;00m \u001b[38;5;129;01mnot\u001b[39;00m (\u001b[38;5;28mself\u001b[39m\u001b[38;5;241m.\u001b[39m_backward_hooks \u001b[38;5;129;01mor\u001b[39;00m \u001b[38;5;28mself\u001b[39m\u001b[38;5;241m.\u001b[39m_backward_pre_hooks \u001b[38;5;129;01mor\u001b[39;00m \u001b[38;5;28mself\u001b[39m\u001b[38;5;241m.\u001b[39m_forward_hooks \u001b[38;5;129;01mor\u001b[39;00m \u001b[38;5;28mself\u001b[39m\u001b[38;5;241m.\u001b[39m_forward_pre_hooks\n\u001b[0;32m   1760\u001b[0m         \u001b[38;5;129;01mor\u001b[39;00m _global_backward_pre_hooks \u001b[38;5;129;01mor\u001b[39;00m _global_backward_hooks\n\u001b[0;32m   1761\u001b[0m         \u001b[38;5;129;01mor\u001b[39;00m _global_forward_hooks \u001b[38;5;129;01mor\u001b[39;00m _global_forward_pre_hooks):\n\u001b[1;32m-> 1762\u001b[0m     \u001b[38;5;28;01mreturn\u001b[39;00m \u001b[43mforward_call\u001b[49m\u001b[43m(\u001b[49m\u001b[38;5;241;43m*\u001b[39;49m\u001b[43margs\u001b[49m\u001b[43m,\u001b[49m\u001b[43m \u001b[49m\u001b[38;5;241;43m*\u001b[39;49m\u001b[38;5;241;43m*\u001b[39;49m\u001b[43mkwargs\u001b[49m\u001b[43m)\u001b[49m\n\u001b[0;32m   1764\u001b[0m result \u001b[38;5;241m=\u001b[39m \u001b[38;5;28;01mNone\u001b[39;00m\n\u001b[0;32m   1765\u001b[0m called_always_called_hooks \u001b[38;5;241m=\u001b[39m \u001b[38;5;28mset\u001b[39m()\n",
      "File \u001b[1;32mc:\\Users\\ramirolobo\\AppData\\Local\\Programs\\Python\\Python312\\Lib\\site-packages\\transformers\\models\\bert\\modeling_bert.py:695\u001b[0m, in \u001b[0;36mBertEncoder.forward\u001b[1;34m(self, hidden_states, attention_mask, head_mask, encoder_hidden_states, encoder_attention_mask, past_key_values, use_cache, output_attentions, output_hidden_states, return_dict)\u001b[0m\n\u001b[0;32m    684\u001b[0m     layer_outputs \u001b[38;5;241m=\u001b[39m \u001b[38;5;28mself\u001b[39m\u001b[38;5;241m.\u001b[39m_gradient_checkpointing_func(\n\u001b[0;32m    685\u001b[0m         layer_module\u001b[38;5;241m.\u001b[39m\u001b[38;5;21m__call__\u001b[39m,\n\u001b[0;32m    686\u001b[0m         hidden_states,\n\u001b[1;32m   (...)\u001b[0m\n\u001b[0;32m    692\u001b[0m         output_attentions,\n\u001b[0;32m    693\u001b[0m     )\n\u001b[0;32m    694\u001b[0m \u001b[38;5;28;01melse\u001b[39;00m:\n\u001b[1;32m--> 695\u001b[0m     layer_outputs \u001b[38;5;241m=\u001b[39m \u001b[43mlayer_module\u001b[49m\u001b[43m(\u001b[49m\n\u001b[0;32m    696\u001b[0m \u001b[43m        \u001b[49m\u001b[43mhidden_states\u001b[49m\u001b[43m,\u001b[49m\n\u001b[0;32m    697\u001b[0m \u001b[43m        \u001b[49m\u001b[43mattention_mask\u001b[49m\u001b[43m,\u001b[49m\n\u001b[0;32m    698\u001b[0m \u001b[43m        \u001b[49m\u001b[43mlayer_head_mask\u001b[49m\u001b[43m,\u001b[49m\n\u001b[0;32m    699\u001b[0m \u001b[43m        \u001b[49m\u001b[43mencoder_hidden_states\u001b[49m\u001b[43m,\u001b[49m\n\u001b[0;32m    700\u001b[0m \u001b[43m        \u001b[49m\u001b[43mencoder_attention_mask\u001b[49m\u001b[43m,\u001b[49m\n\u001b[0;32m    701\u001b[0m \u001b[43m        \u001b[49m\u001b[43mpast_key_value\u001b[49m\u001b[43m,\u001b[49m\n\u001b[0;32m    702\u001b[0m \u001b[43m        \u001b[49m\u001b[43moutput_attentions\u001b[49m\u001b[43m,\u001b[49m\n\u001b[0;32m    703\u001b[0m \u001b[43m    \u001b[49m\u001b[43m)\u001b[49m\n\u001b[0;32m    705\u001b[0m hidden_states \u001b[38;5;241m=\u001b[39m layer_outputs[\u001b[38;5;241m0\u001b[39m]\n\u001b[0;32m    706\u001b[0m \u001b[38;5;28;01mif\u001b[39;00m use_cache:\n",
      "File \u001b[1;32mc:\\Users\\ramirolobo\\AppData\\Local\\Programs\\Python\\Python312\\Lib\\site-packages\\torch\\nn\\modules\\module.py:1751\u001b[0m, in \u001b[0;36mModule._wrapped_call_impl\u001b[1;34m(self, *args, **kwargs)\u001b[0m\n\u001b[0;32m   1749\u001b[0m     \u001b[38;5;28;01mreturn\u001b[39;00m \u001b[38;5;28mself\u001b[39m\u001b[38;5;241m.\u001b[39m_compiled_call_impl(\u001b[38;5;241m*\u001b[39margs, \u001b[38;5;241m*\u001b[39m\u001b[38;5;241m*\u001b[39mkwargs)  \u001b[38;5;66;03m# type: ignore[misc]\u001b[39;00m\n\u001b[0;32m   1750\u001b[0m \u001b[38;5;28;01melse\u001b[39;00m:\n\u001b[1;32m-> 1751\u001b[0m     \u001b[38;5;28;01mreturn\u001b[39;00m \u001b[38;5;28;43mself\u001b[39;49m\u001b[38;5;241;43m.\u001b[39;49m\u001b[43m_call_impl\u001b[49m\u001b[43m(\u001b[49m\u001b[38;5;241;43m*\u001b[39;49m\u001b[43margs\u001b[49m\u001b[43m,\u001b[49m\u001b[43m \u001b[49m\u001b[38;5;241;43m*\u001b[39;49m\u001b[38;5;241;43m*\u001b[39;49m\u001b[43mkwargs\u001b[49m\u001b[43m)\u001b[49m\n",
      "File \u001b[1;32mc:\\Users\\ramirolobo\\AppData\\Local\\Programs\\Python\\Python312\\Lib\\site-packages\\torch\\nn\\modules\\module.py:1762\u001b[0m, in \u001b[0;36mModule._call_impl\u001b[1;34m(self, *args, **kwargs)\u001b[0m\n\u001b[0;32m   1757\u001b[0m \u001b[38;5;66;03m# If we don't have any hooks, we want to skip the rest of the logic in\u001b[39;00m\n\u001b[0;32m   1758\u001b[0m \u001b[38;5;66;03m# this function, and just call forward.\u001b[39;00m\n\u001b[0;32m   1759\u001b[0m \u001b[38;5;28;01mif\u001b[39;00m \u001b[38;5;129;01mnot\u001b[39;00m (\u001b[38;5;28mself\u001b[39m\u001b[38;5;241m.\u001b[39m_backward_hooks \u001b[38;5;129;01mor\u001b[39;00m \u001b[38;5;28mself\u001b[39m\u001b[38;5;241m.\u001b[39m_backward_pre_hooks \u001b[38;5;129;01mor\u001b[39;00m \u001b[38;5;28mself\u001b[39m\u001b[38;5;241m.\u001b[39m_forward_hooks \u001b[38;5;129;01mor\u001b[39;00m \u001b[38;5;28mself\u001b[39m\u001b[38;5;241m.\u001b[39m_forward_pre_hooks\n\u001b[0;32m   1760\u001b[0m         \u001b[38;5;129;01mor\u001b[39;00m _global_backward_pre_hooks \u001b[38;5;129;01mor\u001b[39;00m _global_backward_hooks\n\u001b[0;32m   1761\u001b[0m         \u001b[38;5;129;01mor\u001b[39;00m _global_forward_hooks \u001b[38;5;129;01mor\u001b[39;00m _global_forward_pre_hooks):\n\u001b[1;32m-> 1762\u001b[0m     \u001b[38;5;28;01mreturn\u001b[39;00m \u001b[43mforward_call\u001b[49m\u001b[43m(\u001b[49m\u001b[38;5;241;43m*\u001b[39;49m\u001b[43margs\u001b[49m\u001b[43m,\u001b[49m\u001b[43m \u001b[49m\u001b[38;5;241;43m*\u001b[39;49m\u001b[38;5;241;43m*\u001b[39;49m\u001b[43mkwargs\u001b[49m\u001b[43m)\u001b[49m\n\u001b[0;32m   1764\u001b[0m result \u001b[38;5;241m=\u001b[39m \u001b[38;5;28;01mNone\u001b[39;00m\n\u001b[0;32m   1765\u001b[0m called_always_called_hooks \u001b[38;5;241m=\u001b[39m \u001b[38;5;28mset\u001b[39m()\n",
      "File \u001b[1;32mc:\\Users\\ramirolobo\\AppData\\Local\\Programs\\Python\\Python312\\Lib\\site-packages\\transformers\\models\\bert\\modeling_bert.py:627\u001b[0m, in \u001b[0;36mBertLayer.forward\u001b[1;34m(self, hidden_states, attention_mask, head_mask, encoder_hidden_states, encoder_attention_mask, past_key_value, output_attentions)\u001b[0m\n\u001b[0;32m    624\u001b[0m     cross_attn_present_key_value \u001b[38;5;241m=\u001b[39m cross_attention_outputs[\u001b[38;5;241m-\u001b[39m\u001b[38;5;241m1\u001b[39m]\n\u001b[0;32m    625\u001b[0m     present_key_value \u001b[38;5;241m=\u001b[39m present_key_value \u001b[38;5;241m+\u001b[39m cross_attn_present_key_value\n\u001b[1;32m--> 627\u001b[0m layer_output \u001b[38;5;241m=\u001b[39m \u001b[43mapply_chunking_to_forward\u001b[49m\u001b[43m(\u001b[49m\n\u001b[0;32m    628\u001b[0m \u001b[43m    \u001b[49m\u001b[38;5;28;43mself\u001b[39;49m\u001b[38;5;241;43m.\u001b[39;49m\u001b[43mfeed_forward_chunk\u001b[49m\u001b[43m,\u001b[49m\u001b[43m \u001b[49m\u001b[38;5;28;43mself\u001b[39;49m\u001b[38;5;241;43m.\u001b[39;49m\u001b[43mchunk_size_feed_forward\u001b[49m\u001b[43m,\u001b[49m\u001b[43m \u001b[49m\u001b[38;5;28;43mself\u001b[39;49m\u001b[38;5;241;43m.\u001b[39;49m\u001b[43mseq_len_dim\u001b[49m\u001b[43m,\u001b[49m\u001b[43m \u001b[49m\u001b[43mattention_output\u001b[49m\n\u001b[0;32m    629\u001b[0m \u001b[43m\u001b[49m\u001b[43m)\u001b[49m\n\u001b[0;32m    630\u001b[0m outputs \u001b[38;5;241m=\u001b[39m (layer_output,) \u001b[38;5;241m+\u001b[39m outputs\n\u001b[0;32m    632\u001b[0m \u001b[38;5;66;03m# if decoder, return the attn key/values as the last output\u001b[39;00m\n",
      "File \u001b[1;32mc:\\Users\\ramirolobo\\AppData\\Local\\Programs\\Python\\Python312\\Lib\\site-packages\\transformers\\pytorch_utils.py:253\u001b[0m, in \u001b[0;36mapply_chunking_to_forward\u001b[1;34m(forward_fn, chunk_size, chunk_dim, *input_tensors)\u001b[0m\n\u001b[0;32m    250\u001b[0m     \u001b[38;5;66;03m# concatenate output at same dimension\u001b[39;00m\n\u001b[0;32m    251\u001b[0m     \u001b[38;5;28;01mreturn\u001b[39;00m torch\u001b[38;5;241m.\u001b[39mcat(output_chunks, dim\u001b[38;5;241m=\u001b[39mchunk_dim)\n\u001b[1;32m--> 253\u001b[0m \u001b[38;5;28;01mreturn\u001b[39;00m \u001b[43mforward_fn\u001b[49m\u001b[43m(\u001b[49m\u001b[38;5;241;43m*\u001b[39;49m\u001b[43minput_tensors\u001b[49m\u001b[43m)\u001b[49m\n",
      "File \u001b[1;32mc:\\Users\\ramirolobo\\AppData\\Local\\Programs\\Python\\Python312\\Lib\\site-packages\\transformers\\models\\bert\\modeling_bert.py:640\u001b[0m, in \u001b[0;36mBertLayer.feed_forward_chunk\u001b[1;34m(self, attention_output)\u001b[0m\n\u001b[0;32m    638\u001b[0m \u001b[38;5;28;01mdef\u001b[39;00m \u001b[38;5;21mfeed_forward_chunk\u001b[39m(\u001b[38;5;28mself\u001b[39m, attention_output):\n\u001b[0;32m    639\u001b[0m     intermediate_output \u001b[38;5;241m=\u001b[39m \u001b[38;5;28mself\u001b[39m\u001b[38;5;241m.\u001b[39mintermediate(attention_output)\n\u001b[1;32m--> 640\u001b[0m     layer_output \u001b[38;5;241m=\u001b[39m \u001b[38;5;28;43mself\u001b[39;49m\u001b[38;5;241;43m.\u001b[39;49m\u001b[43moutput\u001b[49m\u001b[43m(\u001b[49m\u001b[43mintermediate_output\u001b[49m\u001b[43m,\u001b[49m\u001b[43m \u001b[49m\u001b[43mattention_output\u001b[49m\u001b[43m)\u001b[49m\n\u001b[0;32m    641\u001b[0m     \u001b[38;5;28;01mreturn\u001b[39;00m layer_output\n",
      "File \u001b[1;32mc:\\Users\\ramirolobo\\AppData\\Local\\Programs\\Python\\Python312\\Lib\\site-packages\\torch\\nn\\modules\\module.py:1751\u001b[0m, in \u001b[0;36mModule._wrapped_call_impl\u001b[1;34m(self, *args, **kwargs)\u001b[0m\n\u001b[0;32m   1749\u001b[0m     \u001b[38;5;28;01mreturn\u001b[39;00m \u001b[38;5;28mself\u001b[39m\u001b[38;5;241m.\u001b[39m_compiled_call_impl(\u001b[38;5;241m*\u001b[39margs, \u001b[38;5;241m*\u001b[39m\u001b[38;5;241m*\u001b[39mkwargs)  \u001b[38;5;66;03m# type: ignore[misc]\u001b[39;00m\n\u001b[0;32m   1750\u001b[0m \u001b[38;5;28;01melse\u001b[39;00m:\n\u001b[1;32m-> 1751\u001b[0m     \u001b[38;5;28;01mreturn\u001b[39;00m \u001b[38;5;28;43mself\u001b[39;49m\u001b[38;5;241;43m.\u001b[39;49m\u001b[43m_call_impl\u001b[49m\u001b[43m(\u001b[49m\u001b[38;5;241;43m*\u001b[39;49m\u001b[43margs\u001b[49m\u001b[43m,\u001b[49m\u001b[43m \u001b[49m\u001b[38;5;241;43m*\u001b[39;49m\u001b[38;5;241;43m*\u001b[39;49m\u001b[43mkwargs\u001b[49m\u001b[43m)\u001b[49m\n",
      "File \u001b[1;32mc:\\Users\\ramirolobo\\AppData\\Local\\Programs\\Python\\Python312\\Lib\\site-packages\\torch\\nn\\modules\\module.py:1762\u001b[0m, in \u001b[0;36mModule._call_impl\u001b[1;34m(self, *args, **kwargs)\u001b[0m\n\u001b[0;32m   1757\u001b[0m \u001b[38;5;66;03m# If we don't have any hooks, we want to skip the rest of the logic in\u001b[39;00m\n\u001b[0;32m   1758\u001b[0m \u001b[38;5;66;03m# this function, and just call forward.\u001b[39;00m\n\u001b[0;32m   1759\u001b[0m \u001b[38;5;28;01mif\u001b[39;00m \u001b[38;5;129;01mnot\u001b[39;00m (\u001b[38;5;28mself\u001b[39m\u001b[38;5;241m.\u001b[39m_backward_hooks \u001b[38;5;129;01mor\u001b[39;00m \u001b[38;5;28mself\u001b[39m\u001b[38;5;241m.\u001b[39m_backward_pre_hooks \u001b[38;5;129;01mor\u001b[39;00m \u001b[38;5;28mself\u001b[39m\u001b[38;5;241m.\u001b[39m_forward_hooks \u001b[38;5;129;01mor\u001b[39;00m \u001b[38;5;28mself\u001b[39m\u001b[38;5;241m.\u001b[39m_forward_pre_hooks\n\u001b[0;32m   1760\u001b[0m         \u001b[38;5;129;01mor\u001b[39;00m _global_backward_pre_hooks \u001b[38;5;129;01mor\u001b[39;00m _global_backward_hooks\n\u001b[0;32m   1761\u001b[0m         \u001b[38;5;129;01mor\u001b[39;00m _global_forward_hooks \u001b[38;5;129;01mor\u001b[39;00m _global_forward_pre_hooks):\n\u001b[1;32m-> 1762\u001b[0m     \u001b[38;5;28;01mreturn\u001b[39;00m \u001b[43mforward_call\u001b[49m\u001b[43m(\u001b[49m\u001b[38;5;241;43m*\u001b[39;49m\u001b[43margs\u001b[49m\u001b[43m,\u001b[49m\u001b[43m \u001b[49m\u001b[38;5;241;43m*\u001b[39;49m\u001b[38;5;241;43m*\u001b[39;49m\u001b[43mkwargs\u001b[49m\u001b[43m)\u001b[49m\n\u001b[0;32m   1764\u001b[0m result \u001b[38;5;241m=\u001b[39m \u001b[38;5;28;01mNone\u001b[39;00m\n\u001b[0;32m   1765\u001b[0m called_always_called_hooks \u001b[38;5;241m=\u001b[39m \u001b[38;5;28mset\u001b[39m()\n",
      "File \u001b[1;32mc:\\Users\\ramirolobo\\AppData\\Local\\Programs\\Python\\Python312\\Lib\\site-packages\\transformers\\models\\bert\\modeling_bert.py:552\u001b[0m, in \u001b[0;36mBertOutput.forward\u001b[1;34m(self, hidden_states, input_tensor)\u001b[0m\n\u001b[0;32m    551\u001b[0m \u001b[38;5;28;01mdef\u001b[39;00m \u001b[38;5;21mforward\u001b[39m(\u001b[38;5;28mself\u001b[39m, hidden_states: torch\u001b[38;5;241m.\u001b[39mTensor, input_tensor: torch\u001b[38;5;241m.\u001b[39mTensor) \u001b[38;5;241m-\u001b[39m\u001b[38;5;241m>\u001b[39m torch\u001b[38;5;241m.\u001b[39mTensor:\n\u001b[1;32m--> 552\u001b[0m     hidden_states \u001b[38;5;241m=\u001b[39m \u001b[38;5;28;43mself\u001b[39;49m\u001b[38;5;241;43m.\u001b[39;49m\u001b[43mdense\u001b[49m\u001b[43m(\u001b[49m\u001b[43mhidden_states\u001b[49m\u001b[43m)\u001b[49m\n\u001b[0;32m    553\u001b[0m     hidden_states \u001b[38;5;241m=\u001b[39m \u001b[38;5;28mself\u001b[39m\u001b[38;5;241m.\u001b[39mdropout(hidden_states)\n\u001b[0;32m    554\u001b[0m     hidden_states \u001b[38;5;241m=\u001b[39m \u001b[38;5;28mself\u001b[39m\u001b[38;5;241m.\u001b[39mLayerNorm(hidden_states \u001b[38;5;241m+\u001b[39m input_tensor)\n",
      "File \u001b[1;32mc:\\Users\\ramirolobo\\AppData\\Local\\Programs\\Python\\Python312\\Lib\\site-packages\\torch\\nn\\modules\\module.py:1751\u001b[0m, in \u001b[0;36mModule._wrapped_call_impl\u001b[1;34m(self, *args, **kwargs)\u001b[0m\n\u001b[0;32m   1749\u001b[0m     \u001b[38;5;28;01mreturn\u001b[39;00m \u001b[38;5;28mself\u001b[39m\u001b[38;5;241m.\u001b[39m_compiled_call_impl(\u001b[38;5;241m*\u001b[39margs, \u001b[38;5;241m*\u001b[39m\u001b[38;5;241m*\u001b[39mkwargs)  \u001b[38;5;66;03m# type: ignore[misc]\u001b[39;00m\n\u001b[0;32m   1750\u001b[0m \u001b[38;5;28;01melse\u001b[39;00m:\n\u001b[1;32m-> 1751\u001b[0m     \u001b[38;5;28;01mreturn\u001b[39;00m \u001b[38;5;28;43mself\u001b[39;49m\u001b[38;5;241;43m.\u001b[39;49m\u001b[43m_call_impl\u001b[49m\u001b[43m(\u001b[49m\u001b[38;5;241;43m*\u001b[39;49m\u001b[43margs\u001b[49m\u001b[43m,\u001b[49m\u001b[43m \u001b[49m\u001b[38;5;241;43m*\u001b[39;49m\u001b[38;5;241;43m*\u001b[39;49m\u001b[43mkwargs\u001b[49m\u001b[43m)\u001b[49m\n",
      "File \u001b[1;32mc:\\Users\\ramirolobo\\AppData\\Local\\Programs\\Python\\Python312\\Lib\\site-packages\\torch\\nn\\modules\\module.py:1762\u001b[0m, in \u001b[0;36mModule._call_impl\u001b[1;34m(self, *args, **kwargs)\u001b[0m\n\u001b[0;32m   1757\u001b[0m \u001b[38;5;66;03m# If we don't have any hooks, we want to skip the rest of the logic in\u001b[39;00m\n\u001b[0;32m   1758\u001b[0m \u001b[38;5;66;03m# this function, and just call forward.\u001b[39;00m\n\u001b[0;32m   1759\u001b[0m \u001b[38;5;28;01mif\u001b[39;00m \u001b[38;5;129;01mnot\u001b[39;00m (\u001b[38;5;28mself\u001b[39m\u001b[38;5;241m.\u001b[39m_backward_hooks \u001b[38;5;129;01mor\u001b[39;00m \u001b[38;5;28mself\u001b[39m\u001b[38;5;241m.\u001b[39m_backward_pre_hooks \u001b[38;5;129;01mor\u001b[39;00m \u001b[38;5;28mself\u001b[39m\u001b[38;5;241m.\u001b[39m_forward_hooks \u001b[38;5;129;01mor\u001b[39;00m \u001b[38;5;28mself\u001b[39m\u001b[38;5;241m.\u001b[39m_forward_pre_hooks\n\u001b[0;32m   1760\u001b[0m         \u001b[38;5;129;01mor\u001b[39;00m _global_backward_pre_hooks \u001b[38;5;129;01mor\u001b[39;00m _global_backward_hooks\n\u001b[0;32m   1761\u001b[0m         \u001b[38;5;129;01mor\u001b[39;00m _global_forward_hooks \u001b[38;5;129;01mor\u001b[39;00m _global_forward_pre_hooks):\n\u001b[1;32m-> 1762\u001b[0m     \u001b[38;5;28;01mreturn\u001b[39;00m \u001b[43mforward_call\u001b[49m\u001b[43m(\u001b[49m\u001b[38;5;241;43m*\u001b[39;49m\u001b[43margs\u001b[49m\u001b[43m,\u001b[49m\u001b[43m \u001b[49m\u001b[38;5;241;43m*\u001b[39;49m\u001b[38;5;241;43m*\u001b[39;49m\u001b[43mkwargs\u001b[49m\u001b[43m)\u001b[49m\n\u001b[0;32m   1764\u001b[0m result \u001b[38;5;241m=\u001b[39m \u001b[38;5;28;01mNone\u001b[39;00m\n\u001b[0;32m   1765\u001b[0m called_always_called_hooks \u001b[38;5;241m=\u001b[39m \u001b[38;5;28mset\u001b[39m()\n",
      "File \u001b[1;32mc:\\Users\\ramirolobo\\AppData\\Local\\Programs\\Python\\Python312\\Lib\\site-packages\\torch\\nn\\modules\\linear.py:125\u001b[0m, in \u001b[0;36mLinear.forward\u001b[1;34m(self, input)\u001b[0m\n\u001b[0;32m    124\u001b[0m \u001b[38;5;28;01mdef\u001b[39;00m \u001b[38;5;21mforward\u001b[39m(\u001b[38;5;28mself\u001b[39m, \u001b[38;5;28minput\u001b[39m: Tensor) \u001b[38;5;241m-\u001b[39m\u001b[38;5;241m>\u001b[39m Tensor:\n\u001b[1;32m--> 125\u001b[0m     \u001b[38;5;28;01mreturn\u001b[39;00m \u001b[43mF\u001b[49m\u001b[38;5;241;43m.\u001b[39;49m\u001b[43mlinear\u001b[49m\u001b[43m(\u001b[49m\u001b[38;5;28;43minput\u001b[39;49m\u001b[43m,\u001b[49m\u001b[43m \u001b[49m\u001b[38;5;28;43mself\u001b[39;49m\u001b[38;5;241;43m.\u001b[39;49m\u001b[43mweight\u001b[49m\u001b[43m,\u001b[49m\u001b[43m \u001b[49m\u001b[38;5;28;43mself\u001b[39;49m\u001b[38;5;241;43m.\u001b[39;49m\u001b[43mbias\u001b[49m\u001b[43m)\u001b[49m\n",
      "\u001b[1;31mKeyboardInterrupt\u001b[0m: "
     ]
    }
   ],
   "source": [
    "#another topic model with fixed number of topics\n",
    "topic_model_2 = BERTopic(nr_topics=50)\n",
    "topics_2, probs_2 = topic_model_2.fit_transform(cleaned_texts)"
   ]
  },
  {
   "cell_type": "code",
   "execution_count": null,
   "id": "347eedc4",
   "metadata": {},
   "outputs": [
    {
     "data": {
      "text/html": [
       "<div>\n",
       "<style scoped>\n",
       "    .dataframe tbody tr th:only-of-type {\n",
       "        vertical-align: middle;\n",
       "    }\n",
       "\n",
       "    .dataframe tbody tr th {\n",
       "        vertical-align: top;\n",
       "    }\n",
       "\n",
       "    .dataframe thead th {\n",
       "        text-align: right;\n",
       "    }\n",
       "</style>\n",
       "<table border=\"1\" class=\"dataframe\">\n",
       "  <thead>\n",
       "    <tr style=\"text-align: right;\">\n",
       "      <th></th>\n",
       "      <th>Topic</th>\n",
       "      <th>Count</th>\n",
       "      <th>Name</th>\n",
       "      <th>Representation</th>\n",
       "      <th>Representative_Docs</th>\n",
       "    </tr>\n",
       "  </thead>\n",
       "  <tbody>\n",
       "    <tr>\n",
       "      <th>0</th>\n",
       "      <td>-1</td>\n",
       "      <td>10</td>\n",
       "      <td>-1_tttttttttttttttttttttttttttttttttttttttt_co...</td>\n",
       "      <td>[tttttttttttttttttttttttttttttttttttttttt, con...</td>\n",
       "      <td>[conquest difficulties national wars wars inst...</td>\n",
       "    </tr>\n",
       "    <tr>\n",
       "      <th>1</th>\n",
       "      <td>0</td>\n",
       "      <td>155</td>\n",
       "      <td>0_disastrous_notice__</td>\n",
       "      <td>[disastrous, notice, , , , , , , , ]</td>\n",
       "      <td>[, notice, disastrous]</td>\n",
       "    </tr>\n",
       "    <tr>\n",
       "      <th>2</th>\n",
       "      <td>1</td>\n",
       "      <td>4448</td>\n",
       "      <td>1_french_english_ships_sea</td>\n",
       "      <td>[french, english, ships, sea, england, france,...</td>\n",
       "      <td>[ship first last might brought action beginnin...</td>\n",
       "    </tr>\n",
       "    <tr>\n",
       "      <th>3</th>\n",
       "      <td>2</td>\n",
       "      <td>17122</td>\n",
       "      <td>2_army_one_upon_would</td>\n",
       "      <td>[army, one, upon, would, war, men, enemy, may,...</td>\n",
       "      <td>[danger could save baggage whole army cohorts ...</td>\n",
       "    </tr>\n",
       "  </tbody>\n",
       "</table>\n",
       "</div>"
      ],
      "text/plain": [
       "   Topic  Count                                               Name  \\\n",
       "0     -1     10  -1_tttttttttttttttttttttttttttttttttttttttt_co...   \n",
       "1      0    155                              0_disastrous_notice__   \n",
       "2      1   4448                         1_french_english_ships_sea   \n",
       "3      2  17122                              2_army_one_upon_would   \n",
       "\n",
       "                                      Representation  \\\n",
       "0  [tttttttttttttttttttttttttttttttttttttttt, con...   \n",
       "1               [disastrous, notice, , , , , , , , ]   \n",
       "2  [french, english, ships, sea, england, france,...   \n",
       "3  [army, one, upon, would, war, men, enemy, may,...   \n",
       "\n",
       "                                 Representative_Docs  \n",
       "0  [conquest difficulties national wars wars inst...  \n",
       "1                             [, notice, disastrous]  \n",
       "2  [ship first last might brought action beginnin...  \n",
       "3  [danger could save baggage whole army cohorts ...  "
      ]
     },
     "execution_count": 153,
     "metadata": {},
     "output_type": "execute_result"
    }
   ],
   "source": [
    "#not meaningful topics\n",
    "topics_2 = topic_model_2.get_topic_info()\n",
    "topics_2.head(15)"
   ]
  },
  {
   "cell_type": "code",
   "execution_count": 33,
   "id": "0bc5bcdb",
   "metadata": {},
   "outputs": [],
   "source": [
    "#add topics to text_chunks df\n",
    "document_info = topic_model.get_document_info(cleaned_texts)\n",
    "text_chunks['topic'] = document_info['Topic']"
   ]
  },
  {
   "cell_type": "code",
   "execution_count": 125,
   "id": "3bd0587d",
   "metadata": {},
   "outputs": [],
   "source": [
    "topic_by_author = (\n",
    "    text_chunks.groupby(\"author\")[\"topic\"]\n",
    "    .value_counts()\n",
    "    .unstack(fill_value=0)\n",
    ")"
   ]
  },
  {
   "cell_type": "code",
   "execution_count": 126,
   "id": "1dc91e1d",
   "metadata": {},
   "outputs": [
    {
     "data": {
      "text/html": [
       "<div>\n",
       "<style scoped>\n",
       "    .dataframe tbody tr th:only-of-type {\n",
       "        vertical-align: middle;\n",
       "    }\n",
       "\n",
       "    .dataframe tbody tr th {\n",
       "        vertical-align: top;\n",
       "    }\n",
       "\n",
       "    .dataframe thead th {\n",
       "        text-align: right;\n",
       "    }\n",
       "</style>\n",
       "<table border=\"1\" class=\"dataframe\">\n",
       "  <thead>\n",
       "    <tr style=\"text-align: right;\">\n",
       "      <th>topic</th>\n",
       "      <th>-1</th>\n",
       "      <th>0</th>\n",
       "      <th>1</th>\n",
       "      <th>2</th>\n",
       "      <th>3</th>\n",
       "      <th>4</th>\n",
       "      <th>5</th>\n",
       "      <th>6</th>\n",
       "      <th>7</th>\n",
       "      <th>8</th>\n",
       "      <th>...</th>\n",
       "      <th>72</th>\n",
       "      <th>73</th>\n",
       "      <th>74</th>\n",
       "      <th>75</th>\n",
       "      <th>76</th>\n",
       "      <th>77</th>\n",
       "      <th>78</th>\n",
       "      <th>79</th>\n",
       "      <th>80</th>\n",
       "      <th>81</th>\n",
       "    </tr>\n",
       "    <tr>\n",
       "      <th>author</th>\n",
       "      <th></th>\n",
       "      <th></th>\n",
       "      <th></th>\n",
       "      <th></th>\n",
       "      <th></th>\n",
       "      <th></th>\n",
       "      <th></th>\n",
       "      <th></th>\n",
       "      <th></th>\n",
       "      <th></th>\n",
       "      <th></th>\n",
       "      <th></th>\n",
       "      <th></th>\n",
       "      <th></th>\n",
       "      <th></th>\n",
       "      <th></th>\n",
       "      <th></th>\n",
       "      <th></th>\n",
       "      <th></th>\n",
       "      <th></th>\n",
       "      <th></th>\n",
       "    </tr>\n",
       "  </thead>\n",
       "  <tbody>\n",
       "    <tr>\n",
       "      <th>Arrian</th>\n",
       "      <td>1858</td>\n",
       "      <td>66</td>\n",
       "      <td>157</td>\n",
       "      <td>2</td>\n",
       "      <td>43</td>\n",
       "      <td>10</td>\n",
       "      <td>1</td>\n",
       "      <td>287</td>\n",
       "      <td>292</td>\n",
       "      <td>1</td>\n",
       "      <td>...</td>\n",
       "      <td>12</td>\n",
       "      <td>0</td>\n",
       "      <td>0</td>\n",
       "      <td>0</td>\n",
       "      <td>1</td>\n",
       "      <td>11</td>\n",
       "      <td>0</td>\n",
       "      <td>0</td>\n",
       "      <td>11</td>\n",
       "      <td>3</td>\n",
       "    </tr>\n",
       "    <tr>\n",
       "      <th>Caesar</th>\n",
       "      <td>1916</td>\n",
       "      <td>135</td>\n",
       "      <td>37</td>\n",
       "      <td>12</td>\n",
       "      <td>58</td>\n",
       "      <td>16</td>\n",
       "      <td>0</td>\n",
       "      <td>17</td>\n",
       "      <td>4</td>\n",
       "      <td>4</td>\n",
       "      <td>...</td>\n",
       "      <td>0</td>\n",
       "      <td>0</td>\n",
       "      <td>0</td>\n",
       "      <td>2</td>\n",
       "      <td>9</td>\n",
       "      <td>0</td>\n",
       "      <td>10</td>\n",
       "      <td>0</td>\n",
       "      <td>0</td>\n",
       "      <td>0</td>\n",
       "    </tr>\n",
       "    <tr>\n",
       "      <th>Clausewitz</th>\n",
       "      <td>934</td>\n",
       "      <td>30</td>\n",
       "      <td>2</td>\n",
       "      <td>258</td>\n",
       "      <td>444</td>\n",
       "      <td>1</td>\n",
       "      <td>324</td>\n",
       "      <td>1</td>\n",
       "      <td>0</td>\n",
       "      <td>76</td>\n",
       "      <td>...</td>\n",
       "      <td>0</td>\n",
       "      <td>0</td>\n",
       "      <td>2</td>\n",
       "      <td>0</td>\n",
       "      <td>0</td>\n",
       "      <td>0</td>\n",
       "      <td>0</td>\n",
       "      <td>0</td>\n",
       "      <td>0</td>\n",
       "      <td>0</td>\n",
       "    </tr>\n",
       "    <tr>\n",
       "      <th>Jomini</th>\n",
       "      <td>1616</td>\n",
       "      <td>247</td>\n",
       "      <td>28</td>\n",
       "      <td>521</td>\n",
       "      <td>43</td>\n",
       "      <td>6</td>\n",
       "      <td>11</td>\n",
       "      <td>1</td>\n",
       "      <td>7</td>\n",
       "      <td>61</td>\n",
       "      <td>...</td>\n",
       "      <td>0</td>\n",
       "      <td>10</td>\n",
       "      <td>1</td>\n",
       "      <td>1</td>\n",
       "      <td>0</td>\n",
       "      <td>1</td>\n",
       "      <td>0</td>\n",
       "      <td>11</td>\n",
       "      <td>0</td>\n",
       "      <td>6</td>\n",
       "    </tr>\n",
       "    <tr>\n",
       "      <th>Mahan</th>\n",
       "      <td>299</td>\n",
       "      <td>3782</td>\n",
       "      <td>10</td>\n",
       "      <td>39</td>\n",
       "      <td>41</td>\n",
       "      <td>8</td>\n",
       "      <td>8</td>\n",
       "      <td>1</td>\n",
       "      <td>2</td>\n",
       "      <td>12</td>\n",
       "      <td>...</td>\n",
       "      <td>0</td>\n",
       "      <td>2</td>\n",
       "      <td>0</td>\n",
       "      <td>0</td>\n",
       "      <td>0</td>\n",
       "      <td>0</td>\n",
       "      <td>0</td>\n",
       "      <td>0</td>\n",
       "      <td>0</td>\n",
       "      <td>0</td>\n",
       "    </tr>\n",
       "    <tr>\n",
       "      <th>Sun Tzu</th>\n",
       "      <td>560</td>\n",
       "      <td>21</td>\n",
       "      <td>3</td>\n",
       "      <td>83</td>\n",
       "      <td>42</td>\n",
       "      <td>512</td>\n",
       "      <td>5</td>\n",
       "      <td>0</td>\n",
       "      <td>2</td>\n",
       "      <td>18</td>\n",
       "      <td>...</td>\n",
       "      <td>0</td>\n",
       "      <td>0</td>\n",
       "      <td>0</td>\n",
       "      <td>1</td>\n",
       "      <td>0</td>\n",
       "      <td>0</td>\n",
       "      <td>1</td>\n",
       "      <td>0</td>\n",
       "      <td>0</td>\n",
       "      <td>2</td>\n",
       "    </tr>\n",
       "    <tr>\n",
       "      <th>Thucydides</th>\n",
       "      <td>702</td>\n",
       "      <td>165</td>\n",
       "      <td>2442</td>\n",
       "      <td>13</td>\n",
       "      <td>250</td>\n",
       "      <td>1</td>\n",
       "      <td>4</td>\n",
       "      <td>4</td>\n",
       "      <td>0</td>\n",
       "      <td>5</td>\n",
       "      <td>...</td>\n",
       "      <td>0</td>\n",
       "      <td>0</td>\n",
       "      <td>9</td>\n",
       "      <td>8</td>\n",
       "      <td>2</td>\n",
       "      <td>0</td>\n",
       "      <td>0</td>\n",
       "      <td>0</td>\n",
       "      <td>0</td>\n",
       "      <td>0</td>\n",
       "    </tr>\n",
       "  </tbody>\n",
       "</table>\n",
       "<p>7 rows × 83 columns</p>\n",
       "</div>"
      ],
      "text/plain": [
       "topic        -1     0     1    2    3    4    5    6    7    8   ...   72  \\\n",
       "author                                                           ...        \n",
       "Arrian      1858    66   157    2   43   10    1  287  292    1  ...   12   \n",
       "Caesar      1916   135    37   12   58   16    0   17    4    4  ...    0   \n",
       "Clausewitz   934    30     2  258  444    1  324    1    0   76  ...    0   \n",
       "Jomini      1616   247    28  521   43    6   11    1    7   61  ...    0   \n",
       "Mahan        299  3782    10   39   41    8    8    1    2   12  ...    0   \n",
       "Sun Tzu      560    21     3   83   42  512    5    0    2   18  ...    0   \n",
       "Thucydides   702   165  2442   13  250    1    4    4    0    5  ...    0   \n",
       "\n",
       "topic        73   74   75   76   77   78   79   80   81  \n",
       "author                                                   \n",
       "Arrian        0    0    0    1   11    0    0   11    3  \n",
       "Caesar        0    0    2    9    0   10    0    0    0  \n",
       "Clausewitz    0    2    0    0    0    0    0    0    0  \n",
       "Jomini       10    1    1    0    1    0   11    0    6  \n",
       "Mahan         2    0    0    0    0    0    0    0    0  \n",
       "Sun Tzu       0    0    1    0    0    1    0    0    2  \n",
       "Thucydides    0    9    8    2    0    0    0    0    0  \n",
       "\n",
       "[7 rows x 83 columns]"
      ]
     },
     "execution_count": 126,
     "metadata": {},
     "output_type": "execute_result"
    }
   ],
   "source": [
    "topic_by_author"
   ]
  },
  {
   "cell_type": "code",
   "execution_count": 127,
   "id": "8f62c2c0",
   "metadata": {},
   "outputs": [],
   "source": [
    "#topics with more than n occurrences across all chunks\n",
    "n = 100\n",
    "top_topics = topics[topics[\"Count\"] > n][\"Topic\"].tolist()\n",
    "top_topics.remove(15) # exclude noisy topic 15\n",
    "top_topics = top_topics[1:]  # exclude noisy topic -1"
   ]
  },
  {
   "cell_type": "code",
   "execution_count": 128,
   "id": "38da5219",
   "metadata": {},
   "outputs": [],
   "source": [
    "#get top topics by author\n",
    "top_topics_by_author = topic_by_author[top_topics]"
   ]
  },
  {
   "cell_type": "code",
   "execution_count": 134,
   "id": "94273936",
   "metadata": {},
   "outputs": [],
   "source": [
    "# convert to proportion of total document counts per topic belonging to each author\n",
    "topics_by_author_norm = topic_by_author.div(topic_by_author.sum(axis=1), axis=0)\n",
    "top_topics_by_author_norm = top_topics_by_author.div(top_topics_by_author.sum(axis=1), axis=0) # get top topics by author normalized"
   ]
  },
  {
   "cell_type": "code",
   "execution_count": 135,
   "id": "3e793507",
   "metadata": {},
   "outputs": [
    {
     "data": {
      "text/html": [
       "<div>\n",
       "<style scoped>\n",
       "    .dataframe tbody tr th:only-of-type {\n",
       "        vertical-align: middle;\n",
       "    }\n",
       "\n",
       "    .dataframe tbody tr th {\n",
       "        vertical-align: top;\n",
       "    }\n",
       "\n",
       "    .dataframe thead th {\n",
       "        text-align: right;\n",
       "    }\n",
       "</style>\n",
       "<table border=\"1\" class=\"dataframe\">\n",
       "  <thead>\n",
       "    <tr style=\"text-align: right;\">\n",
       "      <th>topic</th>\n",
       "      <th>0</th>\n",
       "      <th>1</th>\n",
       "      <th>2</th>\n",
       "      <th>3</th>\n",
       "      <th>4</th>\n",
       "      <th>5</th>\n",
       "      <th>6</th>\n",
       "      <th>7</th>\n",
       "      <th>8</th>\n",
       "      <th>9</th>\n",
       "      <th>10</th>\n",
       "      <th>11</th>\n",
       "      <th>12</th>\n",
       "      <th>13</th>\n",
       "      <th>14</th>\n",
       "      <th>16</th>\n",
       "      <th>17</th>\n",
       "      <th>18</th>\n",
       "    </tr>\n",
       "    <tr>\n",
       "      <th>author</th>\n",
       "      <th></th>\n",
       "      <th></th>\n",
       "      <th></th>\n",
       "      <th></th>\n",
       "      <th></th>\n",
       "      <th></th>\n",
       "      <th></th>\n",
       "      <th></th>\n",
       "      <th></th>\n",
       "      <th></th>\n",
       "      <th></th>\n",
       "      <th></th>\n",
       "      <th></th>\n",
       "      <th></th>\n",
       "      <th></th>\n",
       "      <th></th>\n",
       "      <th></th>\n",
       "      <th></th>\n",
       "    </tr>\n",
       "  </thead>\n",
       "  <tbody>\n",
       "    <tr>\n",
       "      <th>Arrian</th>\n",
       "      <td>0.044867</td>\n",
       "      <td>0.106730</td>\n",
       "      <td>0.001360</td>\n",
       "      <td>0.029232</td>\n",
       "      <td>0.006798</td>\n",
       "      <td>0.000680</td>\n",
       "      <td>0.195105</td>\n",
       "      <td>0.198504</td>\n",
       "      <td>0.000680</td>\n",
       "      <td>0.116927</td>\n",
       "      <td>0.000000</td>\n",
       "      <td>0.000680</td>\n",
       "      <td>0.027872</td>\n",
       "      <td>0.094494</td>\n",
       "      <td>0.097213</td>\n",
       "      <td>0.078178</td>\n",
       "      <td>0.000680</td>\n",
       "      <td>0.000000</td>\n",
       "    </tr>\n",
       "    <tr>\n",
       "      <th>Caesar</th>\n",
       "      <td>0.239362</td>\n",
       "      <td>0.065603</td>\n",
       "      <td>0.021277</td>\n",
       "      <td>0.102837</td>\n",
       "      <td>0.028369</td>\n",
       "      <td>0.000000</td>\n",
       "      <td>0.030142</td>\n",
       "      <td>0.007092</td>\n",
       "      <td>0.007092</td>\n",
       "      <td>0.000000</td>\n",
       "      <td>0.001773</td>\n",
       "      <td>0.000000</td>\n",
       "      <td>0.111702</td>\n",
       "      <td>0.000000</td>\n",
       "      <td>0.000000</td>\n",
       "      <td>0.003546</td>\n",
       "      <td>0.198582</td>\n",
       "      <td>0.182624</td>\n",
       "    </tr>\n",
       "    <tr>\n",
       "      <th>Clausewitz</th>\n",
       "      <td>0.025840</td>\n",
       "      <td>0.001723</td>\n",
       "      <td>0.222222</td>\n",
       "      <td>0.382429</td>\n",
       "      <td>0.000861</td>\n",
       "      <td>0.279070</td>\n",
       "      <td>0.000861</td>\n",
       "      <td>0.000000</td>\n",
       "      <td>0.065461</td>\n",
       "      <td>0.000861</td>\n",
       "      <td>0.016365</td>\n",
       "      <td>0.003445</td>\n",
       "      <td>0.000000</td>\n",
       "      <td>0.000000</td>\n",
       "      <td>0.000861</td>\n",
       "      <td>0.000000</td>\n",
       "      <td>0.000000</td>\n",
       "      <td>0.000000</td>\n",
       "    </tr>\n",
       "    <tr>\n",
       "      <th>Jomini</th>\n",
       "      <td>0.198075</td>\n",
       "      <td>0.022454</td>\n",
       "      <td>0.417803</td>\n",
       "      <td>0.034483</td>\n",
       "      <td>0.004812</td>\n",
       "      <td>0.008821</td>\n",
       "      <td>0.000802</td>\n",
       "      <td>0.005613</td>\n",
       "      <td>0.048917</td>\n",
       "      <td>0.000802</td>\n",
       "      <td>0.121893</td>\n",
       "      <td>0.129912</td>\n",
       "      <td>0.001604</td>\n",
       "      <td>0.001604</td>\n",
       "      <td>0.000000</td>\n",
       "      <td>0.000802</td>\n",
       "      <td>0.000802</td>\n",
       "      <td>0.000802</td>\n",
       "    </tr>\n",
       "    <tr>\n",
       "      <th>Mahan</th>\n",
       "      <td>0.967511</td>\n",
       "      <td>0.002558</td>\n",
       "      <td>0.009977</td>\n",
       "      <td>0.010489</td>\n",
       "      <td>0.002047</td>\n",
       "      <td>0.002047</td>\n",
       "      <td>0.000256</td>\n",
       "      <td>0.000512</td>\n",
       "      <td>0.003070</td>\n",
       "      <td>0.000000</td>\n",
       "      <td>0.000512</td>\n",
       "      <td>0.000256</td>\n",
       "      <td>0.000000</td>\n",
       "      <td>0.000256</td>\n",
       "      <td>0.000256</td>\n",
       "      <td>0.000000</td>\n",
       "      <td>0.000000</td>\n",
       "      <td>0.000256</td>\n",
       "    </tr>\n",
       "    <tr>\n",
       "      <th>Sun Tzu</th>\n",
       "      <td>0.030043</td>\n",
       "      <td>0.004292</td>\n",
       "      <td>0.118741</td>\n",
       "      <td>0.060086</td>\n",
       "      <td>0.732475</td>\n",
       "      <td>0.007153</td>\n",
       "      <td>0.000000</td>\n",
       "      <td>0.002861</td>\n",
       "      <td>0.025751</td>\n",
       "      <td>0.000000</td>\n",
       "      <td>0.000000</td>\n",
       "      <td>0.002861</td>\n",
       "      <td>0.011445</td>\n",
       "      <td>0.000000</td>\n",
       "      <td>0.000000</td>\n",
       "      <td>0.002861</td>\n",
       "      <td>0.000000</td>\n",
       "      <td>0.001431</td>\n",
       "    </tr>\n",
       "    <tr>\n",
       "      <th>Thucydides</th>\n",
       "      <td>0.056352</td>\n",
       "      <td>0.834016</td>\n",
       "      <td>0.004440</td>\n",
       "      <td>0.085383</td>\n",
       "      <td>0.000342</td>\n",
       "      <td>0.001366</td>\n",
       "      <td>0.001366</td>\n",
       "      <td>0.000000</td>\n",
       "      <td>0.001708</td>\n",
       "      <td>0.001025</td>\n",
       "      <td>0.000000</td>\n",
       "      <td>0.000342</td>\n",
       "      <td>0.011954</td>\n",
       "      <td>0.001366</td>\n",
       "      <td>0.000000</td>\n",
       "      <td>0.000342</td>\n",
       "      <td>0.000000</td>\n",
       "      <td>0.000000</td>\n",
       "    </tr>\n",
       "  </tbody>\n",
       "</table>\n",
       "</div>"
      ],
      "text/plain": [
       "topic             0         1         2         3         4         5   \\\n",
       "author                                                                   \n",
       "Arrian      0.044867  0.106730  0.001360  0.029232  0.006798  0.000680   \n",
       "Caesar      0.239362  0.065603  0.021277  0.102837  0.028369  0.000000   \n",
       "Clausewitz  0.025840  0.001723  0.222222  0.382429  0.000861  0.279070   \n",
       "Jomini      0.198075  0.022454  0.417803  0.034483  0.004812  0.008821   \n",
       "Mahan       0.967511  0.002558  0.009977  0.010489  0.002047  0.002047   \n",
       "Sun Tzu     0.030043  0.004292  0.118741  0.060086  0.732475  0.007153   \n",
       "Thucydides  0.056352  0.834016  0.004440  0.085383  0.000342  0.001366   \n",
       "\n",
       "topic             6         7         8         9         10        11  \\\n",
       "author                                                                   \n",
       "Arrian      0.195105  0.198504  0.000680  0.116927  0.000000  0.000680   \n",
       "Caesar      0.030142  0.007092  0.007092  0.000000  0.001773  0.000000   \n",
       "Clausewitz  0.000861  0.000000  0.065461  0.000861  0.016365  0.003445   \n",
       "Jomini      0.000802  0.005613  0.048917  0.000802  0.121893  0.129912   \n",
       "Mahan       0.000256  0.000512  0.003070  0.000000  0.000512  0.000256   \n",
       "Sun Tzu     0.000000  0.002861  0.025751  0.000000  0.000000  0.002861   \n",
       "Thucydides  0.001366  0.000000  0.001708  0.001025  0.000000  0.000342   \n",
       "\n",
       "topic             12        13        14        16        17        18  \n",
       "author                                                                  \n",
       "Arrian      0.027872  0.094494  0.097213  0.078178  0.000680  0.000000  \n",
       "Caesar      0.111702  0.000000  0.000000  0.003546  0.198582  0.182624  \n",
       "Clausewitz  0.000000  0.000000  0.000861  0.000000  0.000000  0.000000  \n",
       "Jomini      0.001604  0.001604  0.000000  0.000802  0.000802  0.000802  \n",
       "Mahan       0.000000  0.000256  0.000256  0.000000  0.000000  0.000256  \n",
       "Sun Tzu     0.011445  0.000000  0.000000  0.002861  0.000000  0.001431  \n",
       "Thucydides  0.011954  0.001366  0.000000  0.000342  0.000000  0.000000  "
      ]
     },
     "execution_count": 135,
     "metadata": {},
     "output_type": "execute_result"
    }
   ],
   "source": [
    "top_topics_by_author_norm.head(10)"
   ]
  },
  {
   "cell_type": "code",
   "execution_count": 136,
   "id": "c6dcc7ee",
   "metadata": {},
   "outputs": [
    {
     "data": {
      "image/png": "[encoded data removed]",
      "text/plain": [
       "<Figure size 1200x600 with 1 Axes>"
      ]
     },
     "metadata": {},
     "output_type": "display_data"
    }
   ],
   "source": [
    "import matplotlib.pyplot as plt\n",
    "#topics by author\n",
    "topics_by_author_norm.plot(kind='bar', stacked=True, colormap='tab20', figsize=(12, 6))\n",
    "plt.title(\"Normalized Topic Distribution by Author\")\n",
    "plt.xlabel(\"Author\")\n",
    "plt.ylabel(\"Proportion of Chunks\")\n",
    "plt.legend(title=\"Topic\", bbox_to_anchor=(1.05, 1), loc='upper left')\n",
    "plt.tight_layout()\n",
    "plt.show()\n"
   ]
  },
  {
   "cell_type": "code",
   "execution_count": 137,
   "id": "b89c5b75",
   "metadata": {},
   "outputs": [
    {
     "data": {
      "image/png": "[encoded data removed]",
      "text/plain": [
       "<Figure size 1200x600 with 1 Axes>"
      ]
     },
     "metadata": {},
     "output_type": "display_data"
    }
   ],
   "source": [
    "#top topics by author\n",
    "top_topics_by_author_norm.plot(kind='bar', stacked=True, colormap='tab20', figsize=(12, 6))\n",
    "plt.title(\"Normalized Topic Distribution by Author\")\n",
    "plt.xlabel(\"Author\")\n",
    "plt.ylabel(\"Proportion of Chunks\")\n",
    "plt.legend(title=\"Topic\", bbox_to_anchor=(1.05, 1), loc='upper left')\n",
    "plt.tight_layout()\n",
    "plt.show()"
   ]
  },
  {
   "cell_type": "markdown",
   "id": "eea5efa9",
   "metadata": {},
   "source": [
    "Almost all of Mahan's documents texts under topic 0. Similarly, for Thucydides almost all topics fall under Topic 1 and for Sun Tzu almsot all of his texts fall under Topic 4. For the remaining four authors, there is a larger degree of variation in the topics their texts were classified. Clausewitz's texts largely fall under topics 2, 3, and 5. Jomini's primarily fall under topics 0, 2, 10, and 11. "
   ]
  },
  {
   "cell_type": "code",
   "execution_count": 67,
   "id": "79dae764",
   "metadata": {},
   "outputs": [
    {
     "data": {
      "text/html": [
       "<div>\n",
       "<style scoped>\n",
       "    .dataframe tbody tr th:only-of-type {\n",
       "        vertical-align: middle;\n",
       "    }\n",
       "\n",
       "    .dataframe tbody tr th {\n",
       "        vertical-align: top;\n",
       "    }\n",
       "\n",
       "    .dataframe thead th {\n",
       "        text-align: right;\n",
       "    }\n",
       "</style>\n",
       "<table border=\"1\" class=\"dataframe\">\n",
       "  <thead>\n",
       "    <tr style=\"text-align: right;\">\n",
       "      <th>topic</th>\n",
       "      <th>0</th>\n",
       "      <th>1</th>\n",
       "      <th>2</th>\n",
       "      <th>3</th>\n",
       "      <th>4</th>\n",
       "      <th>5</th>\n",
       "      <th>6</th>\n",
       "      <th>7</th>\n",
       "      <th>8</th>\n",
       "      <th>9</th>\n",
       "      <th>10</th>\n",
       "      <th>11</th>\n",
       "      <th>12</th>\n",
       "      <th>13</th>\n",
       "      <th>14</th>\n",
       "      <th>16</th>\n",
       "      <th>17</th>\n",
       "      <th>18</th>\n",
       "    </tr>\n",
       "    <tr>\n",
       "      <th>author</th>\n",
       "      <th></th>\n",
       "      <th></th>\n",
       "      <th></th>\n",
       "      <th></th>\n",
       "      <th></th>\n",
       "      <th></th>\n",
       "      <th></th>\n",
       "      <th></th>\n",
       "      <th></th>\n",
       "      <th></th>\n",
       "      <th></th>\n",
       "      <th></th>\n",
       "      <th></th>\n",
       "      <th></th>\n",
       "      <th></th>\n",
       "      <th></th>\n",
       "      <th></th>\n",
       "      <th></th>\n",
       "    </tr>\n",
       "  </thead>\n",
       "  <tbody>\n",
       "    <tr>\n",
       "      <th>Arrian</th>\n",
       "      <td>66</td>\n",
       "      <td>157</td>\n",
       "      <td>2</td>\n",
       "      <td>43</td>\n",
       "      <td>10</td>\n",
       "      <td>1</td>\n",
       "      <td>287</td>\n",
       "      <td>292</td>\n",
       "      <td>1</td>\n",
       "      <td>172</td>\n",
       "      <td>0</td>\n",
       "      <td>1</td>\n",
       "      <td>41</td>\n",
       "      <td>139</td>\n",
       "      <td>143</td>\n",
       "      <td>115</td>\n",
       "      <td>1</td>\n",
       "      <td>0</td>\n",
       "    </tr>\n",
       "    <tr>\n",
       "      <th>Caesar</th>\n",
       "      <td>135</td>\n",
       "      <td>37</td>\n",
       "      <td>12</td>\n",
       "      <td>58</td>\n",
       "      <td>16</td>\n",
       "      <td>0</td>\n",
       "      <td>17</td>\n",
       "      <td>4</td>\n",
       "      <td>4</td>\n",
       "      <td>0</td>\n",
       "      <td>1</td>\n",
       "      <td>0</td>\n",
       "      <td>63</td>\n",
       "      <td>0</td>\n",
       "      <td>0</td>\n",
       "      <td>2</td>\n",
       "      <td>112</td>\n",
       "      <td>103</td>\n",
       "    </tr>\n",
       "    <tr>\n",
       "      <th>Clausewitz</th>\n",
       "      <td>30</td>\n",
       "      <td>2</td>\n",
       "      <td>258</td>\n",
       "      <td>444</td>\n",
       "      <td>1</td>\n",
       "      <td>324</td>\n",
       "      <td>1</td>\n",
       "      <td>0</td>\n",
       "      <td>76</td>\n",
       "      <td>1</td>\n",
       "      <td>19</td>\n",
       "      <td>4</td>\n",
       "      <td>0</td>\n",
       "      <td>0</td>\n",
       "      <td>1</td>\n",
       "      <td>0</td>\n",
       "      <td>0</td>\n",
       "      <td>0</td>\n",
       "    </tr>\n",
       "    <tr>\n",
       "      <th>Jomini</th>\n",
       "      <td>247</td>\n",
       "      <td>28</td>\n",
       "      <td>521</td>\n",
       "      <td>43</td>\n",
       "      <td>6</td>\n",
       "      <td>11</td>\n",
       "      <td>1</td>\n",
       "      <td>7</td>\n",
       "      <td>61</td>\n",
       "      <td>1</td>\n",
       "      <td>152</td>\n",
       "      <td>162</td>\n",
       "      <td>2</td>\n",
       "      <td>2</td>\n",
       "      <td>0</td>\n",
       "      <td>1</td>\n",
       "      <td>1</td>\n",
       "      <td>1</td>\n",
       "    </tr>\n",
       "    <tr>\n",
       "      <th>Mahan</th>\n",
       "      <td>3782</td>\n",
       "      <td>10</td>\n",
       "      <td>39</td>\n",
       "      <td>41</td>\n",
       "      <td>8</td>\n",
       "      <td>8</td>\n",
       "      <td>1</td>\n",
       "      <td>2</td>\n",
       "      <td>12</td>\n",
       "      <td>0</td>\n",
       "      <td>2</td>\n",
       "      <td>1</td>\n",
       "      <td>0</td>\n",
       "      <td>1</td>\n",
       "      <td>1</td>\n",
       "      <td>0</td>\n",
       "      <td>0</td>\n",
       "      <td>1</td>\n",
       "    </tr>\n",
       "    <tr>\n",
       "      <th>Sun Tzu</th>\n",
       "      <td>21</td>\n",
       "      <td>3</td>\n",
       "      <td>83</td>\n",
       "      <td>42</td>\n",
       "      <td>512</td>\n",
       "      <td>5</td>\n",
       "      <td>0</td>\n",
       "      <td>2</td>\n",
       "      <td>18</td>\n",
       "      <td>0</td>\n",
       "      <td>0</td>\n",
       "      <td>2</td>\n",
       "      <td>8</td>\n",
       "      <td>0</td>\n",
       "      <td>0</td>\n",
       "      <td>2</td>\n",
       "      <td>0</td>\n",
       "      <td>1</td>\n",
       "    </tr>\n",
       "    <tr>\n",
       "      <th>Thucydides</th>\n",
       "      <td>165</td>\n",
       "      <td>2442</td>\n",
       "      <td>13</td>\n",
       "      <td>250</td>\n",
       "      <td>1</td>\n",
       "      <td>4</td>\n",
       "      <td>4</td>\n",
       "      <td>0</td>\n",
       "      <td>5</td>\n",
       "      <td>3</td>\n",
       "      <td>0</td>\n",
       "      <td>1</td>\n",
       "      <td>35</td>\n",
       "      <td>4</td>\n",
       "      <td>0</td>\n",
       "      <td>1</td>\n",
       "      <td>0</td>\n",
       "      <td>0</td>\n",
       "    </tr>\n",
       "  </tbody>\n",
       "</table>\n",
       "</div>"
      ],
      "text/plain": [
       "topic         0     1    2    3    4    5    6    7   8    9    10   11  12  \\\n",
       "author                                                                        \n",
       "Arrian        66   157    2   43   10    1  287  292   1  172    0    1  41   \n",
       "Caesar       135    37   12   58   16    0   17    4   4    0    1    0  63   \n",
       "Clausewitz    30     2  258  444    1  324    1    0  76    1   19    4   0   \n",
       "Jomini       247    28  521   43    6   11    1    7  61    1  152  162   2   \n",
       "Mahan       3782    10   39   41    8    8    1    2  12    0    2    1   0   \n",
       "Sun Tzu       21     3   83   42  512    5    0    2  18    0    0    2   8   \n",
       "Thucydides   165  2442   13  250    1    4    4    0   5    3    0    1  35   \n",
       "\n",
       "topic        13   14   16   17   18  \n",
       "author                               \n",
       "Arrian      139  143  115    1    0  \n",
       "Caesar        0    0    2  112  103  \n",
       "Clausewitz    0    1    0    0    0  \n",
       "Jomini        2    0    1    1    1  \n",
       "Mahan         1    1    0    0    1  \n",
       "Sun Tzu       0    0    2    0    1  \n",
       "Thucydides    4    0    1    0    0  "
      ]
     },
     "execution_count": 67,
     "metadata": {},
     "output_type": "execute_result"
    }
   ],
   "source": [
    "top_topics_by_author"
   ]
  },
  {
   "cell_type": "code",
   "execution_count": null,
   "id": "50c167b3",
   "metadata": {},
   "outputs": [],
   "source": [
    "topic_by_author = topic_by_author.drop(-1, axis=1)"
   ]
  },
  {
   "cell_type": "code",
   "execution_count": 110,
   "id": "71c60428",
   "metadata": {},
   "outputs": [],
   "source": [
    "author_by_topic_norm = topic_by_author.div(topic_by_author.sum(axis=0), axis=1).T\n",
    "author_by_top_topics = author_by_topic_norm.loc[top_topics, :]"
   ]
  },
  {
   "cell_type": "code",
   "execution_count": 111,
   "id": "2df4a83f",
   "metadata": {},
   "outputs": [
    {
     "data": {
      "text/html": [
       "<div>\n",
       "<style scoped>\n",
       "    .dataframe tbody tr th:only-of-type {\n",
       "        vertical-align: middle;\n",
       "    }\n",
       "\n",
       "    .dataframe tbody tr th {\n",
       "        vertical-align: top;\n",
       "    }\n",
       "\n",
       "    .dataframe thead th {\n",
       "        text-align: right;\n",
       "    }\n",
       "</style>\n",
       "<table border=\"1\" class=\"dataframe\">\n",
       "  <thead>\n",
       "    <tr style=\"text-align: right;\">\n",
       "      <th>author</th>\n",
       "      <th>Arrian</th>\n",
       "      <th>Caesar</th>\n",
       "      <th>Clausewitz</th>\n",
       "      <th>Jomini</th>\n",
       "      <th>Mahan</th>\n",
       "      <th>Sun Tzu</th>\n",
       "      <th>Thucydides</th>\n",
       "    </tr>\n",
       "    <tr>\n",
       "      <th>topic</th>\n",
       "      <th></th>\n",
       "      <th></th>\n",
       "      <th></th>\n",
       "      <th></th>\n",
       "      <th></th>\n",
       "      <th></th>\n",
       "      <th></th>\n",
       "    </tr>\n",
       "  </thead>\n",
       "  <tbody>\n",
       "    <tr>\n",
       "      <th>0</th>\n",
       "      <td>0.014845</td>\n",
       "      <td>0.030364</td>\n",
       "      <td>0.006748</td>\n",
       "      <td>0.055556</td>\n",
       "      <td>0.850652</td>\n",
       "      <td>0.004723</td>\n",
       "      <td>0.037112</td>\n",
       "    </tr>\n",
       "    <tr>\n",
       "      <th>1</th>\n",
       "      <td>0.058604</td>\n",
       "      <td>0.013811</td>\n",
       "      <td>0.000747</td>\n",
       "      <td>0.010452</td>\n",
       "      <td>0.003733</td>\n",
       "      <td>0.001120</td>\n",
       "      <td>0.911534</td>\n",
       "    </tr>\n",
       "    <tr>\n",
       "      <th>2</th>\n",
       "      <td>0.002155</td>\n",
       "      <td>0.012931</td>\n",
       "      <td>0.278017</td>\n",
       "      <td>0.561422</td>\n",
       "      <td>0.042026</td>\n",
       "      <td>0.089440</td>\n",
       "      <td>0.014009</td>\n",
       "    </tr>\n",
       "    <tr>\n",
       "      <th>3</th>\n",
       "      <td>0.046688</td>\n",
       "      <td>0.062975</td>\n",
       "      <td>0.482085</td>\n",
       "      <td>0.046688</td>\n",
       "      <td>0.044517</td>\n",
       "      <td>0.045603</td>\n",
       "      <td>0.271444</td>\n",
       "    </tr>\n",
       "    <tr>\n",
       "      <th>4</th>\n",
       "      <td>0.018051</td>\n",
       "      <td>0.028881</td>\n",
       "      <td>0.001805</td>\n",
       "      <td>0.010830</td>\n",
       "      <td>0.014440</td>\n",
       "      <td>0.924188</td>\n",
       "      <td>0.001805</td>\n",
       "    </tr>\n",
       "    <tr>\n",
       "      <th>5</th>\n",
       "      <td>0.002833</td>\n",
       "      <td>0.000000</td>\n",
       "      <td>0.917847</td>\n",
       "      <td>0.031161</td>\n",
       "      <td>0.022663</td>\n",
       "      <td>0.014164</td>\n",
       "      <td>0.011331</td>\n",
       "    </tr>\n",
       "    <tr>\n",
       "      <th>6</th>\n",
       "      <td>0.922830</td>\n",
       "      <td>0.054662</td>\n",
       "      <td>0.003215</td>\n",
       "      <td>0.003215</td>\n",
       "      <td>0.003215</td>\n",
       "      <td>0.000000</td>\n",
       "      <td>0.012862</td>\n",
       "    </tr>\n",
       "    <tr>\n",
       "      <th>7</th>\n",
       "      <td>0.951140</td>\n",
       "      <td>0.013029</td>\n",
       "      <td>0.000000</td>\n",
       "      <td>0.022801</td>\n",
       "      <td>0.006515</td>\n",
       "      <td>0.006515</td>\n",
       "      <td>0.000000</td>\n",
       "    </tr>\n",
       "    <tr>\n",
       "      <th>8</th>\n",
       "      <td>0.005650</td>\n",
       "      <td>0.022599</td>\n",
       "      <td>0.429379</td>\n",
       "      <td>0.344633</td>\n",
       "      <td>0.067797</td>\n",
       "      <td>0.101695</td>\n",
       "      <td>0.028249</td>\n",
       "    </tr>\n",
       "    <tr>\n",
       "      <th>9</th>\n",
       "      <td>0.971751</td>\n",
       "      <td>0.000000</td>\n",
       "      <td>0.005650</td>\n",
       "      <td>0.005650</td>\n",
       "      <td>0.000000</td>\n",
       "      <td>0.000000</td>\n",
       "      <td>0.016949</td>\n",
       "    </tr>\n",
       "    <tr>\n",
       "      <th>10</th>\n",
       "      <td>0.000000</td>\n",
       "      <td>0.005747</td>\n",
       "      <td>0.109195</td>\n",
       "      <td>0.873563</td>\n",
       "      <td>0.011494</td>\n",
       "      <td>0.000000</td>\n",
       "      <td>0.000000</td>\n",
       "    </tr>\n",
       "    <tr>\n",
       "      <th>11</th>\n",
       "      <td>0.005848</td>\n",
       "      <td>0.000000</td>\n",
       "      <td>0.023392</td>\n",
       "      <td>0.947368</td>\n",
       "      <td>0.005848</td>\n",
       "      <td>0.011696</td>\n",
       "      <td>0.005848</td>\n",
       "    </tr>\n",
       "    <tr>\n",
       "      <th>12</th>\n",
       "      <td>0.275168</td>\n",
       "      <td>0.422819</td>\n",
       "      <td>0.000000</td>\n",
       "      <td>0.013423</td>\n",
       "      <td>0.000000</td>\n",
       "      <td>0.053691</td>\n",
       "      <td>0.234899</td>\n",
       "    </tr>\n",
       "    <tr>\n",
       "      <th>13</th>\n",
       "      <td>0.952055</td>\n",
       "      <td>0.000000</td>\n",
       "      <td>0.000000</td>\n",
       "      <td>0.013699</td>\n",
       "      <td>0.006849</td>\n",
       "      <td>0.000000</td>\n",
       "      <td>0.027397</td>\n",
       "    </tr>\n",
       "    <tr>\n",
       "      <th>14</th>\n",
       "      <td>0.986207</td>\n",
       "      <td>0.000000</td>\n",
       "      <td>0.006897</td>\n",
       "      <td>0.000000</td>\n",
       "      <td>0.006897</td>\n",
       "      <td>0.000000</td>\n",
       "      <td>0.000000</td>\n",
       "    </tr>\n",
       "    <tr>\n",
       "      <th>16</th>\n",
       "      <td>0.950413</td>\n",
       "      <td>0.016529</td>\n",
       "      <td>0.000000</td>\n",
       "      <td>0.008264</td>\n",
       "      <td>0.000000</td>\n",
       "      <td>0.016529</td>\n",
       "      <td>0.008264</td>\n",
       "    </tr>\n",
       "    <tr>\n",
       "      <th>17</th>\n",
       "      <td>0.008772</td>\n",
       "      <td>0.982456</td>\n",
       "      <td>0.000000</td>\n",
       "      <td>0.008772</td>\n",
       "      <td>0.000000</td>\n",
       "      <td>0.000000</td>\n",
       "      <td>0.000000</td>\n",
       "    </tr>\n",
       "    <tr>\n",
       "      <th>18</th>\n",
       "      <td>0.000000</td>\n",
       "      <td>0.971698</td>\n",
       "      <td>0.000000</td>\n",
       "      <td>0.009434</td>\n",
       "      <td>0.009434</td>\n",
       "      <td>0.009434</td>\n",
       "      <td>0.000000</td>\n",
       "    </tr>\n",
       "  </tbody>\n",
       "</table>\n",
       "</div>"
      ],
      "text/plain": [
       "author    Arrian    Caesar  Clausewitz    Jomini     Mahan   Sun Tzu  \\\n",
       "topic                                                                  \n",
       "0       0.014845  0.030364    0.006748  0.055556  0.850652  0.004723   \n",
       "1       0.058604  0.013811    0.000747  0.010452  0.003733  0.001120   \n",
       "2       0.002155  0.012931    0.278017  0.561422  0.042026  0.089440   \n",
       "3       0.046688  0.062975    0.482085  0.046688  0.044517  0.045603   \n",
       "4       0.018051  0.028881    0.001805  0.010830  0.014440  0.924188   \n",
       "5       0.002833  0.000000    0.917847  0.031161  0.022663  0.014164   \n",
       "6       0.922830  0.054662    0.003215  0.003215  0.003215  0.000000   \n",
       "7       0.951140  0.013029    0.000000  0.022801  0.006515  0.006515   \n",
       "8       0.005650  0.022599    0.429379  0.344633  0.067797  0.101695   \n",
       "9       0.971751  0.000000    0.005650  0.005650  0.000000  0.000000   \n",
       "10      0.000000  0.005747    0.109195  0.873563  0.011494  0.000000   \n",
       "11      0.005848  0.000000    0.023392  0.947368  0.005848  0.011696   \n",
       "12      0.275168  0.422819    0.000000  0.013423  0.000000  0.053691   \n",
       "13      0.952055  0.000000    0.000000  0.013699  0.006849  0.000000   \n",
       "14      0.986207  0.000000    0.006897  0.000000  0.006897  0.000000   \n",
       "16      0.950413  0.016529    0.000000  0.008264  0.000000  0.016529   \n",
       "17      0.008772  0.982456    0.000000  0.008772  0.000000  0.000000   \n",
       "18      0.000000  0.971698    0.000000  0.009434  0.009434  0.009434   \n",
       "\n",
       "author  Thucydides  \n",
       "topic               \n",
       "0         0.037112  \n",
       "1         0.911534  \n",
       "2         0.014009  \n",
       "3         0.271444  \n",
       "4         0.001805  \n",
       "5         0.011331  \n",
       "6         0.012862  \n",
       "7         0.000000  \n",
       "8         0.028249  \n",
       "9         0.016949  \n",
       "10        0.000000  \n",
       "11        0.005848  \n",
       "12        0.234899  \n",
       "13        0.027397  \n",
       "14        0.000000  \n",
       "16        0.008264  \n",
       "17        0.000000  \n",
       "18        0.000000  "
      ]
     },
     "execution_count": 111,
     "metadata": {},
     "output_type": "execute_result"
    }
   ],
   "source": [
    "author_by_top_topics"
   ]
  },
  {
   "cell_type": "code",
   "execution_count": 114,
   "id": "b54137c6",
   "metadata": {},
   "outputs": [
    {
     "data": {
      "image/png": "[encoded data removed]",
      "text/plain": [
       "<Figure size 1200x600 with 1 Axes>"
      ]
     },
     "metadata": {},
     "output_type": "display_data"
    }
   ],
   "source": [
    "author_by_top_topics.plot(\n",
    "    kind='bar',\n",
    "    stacked=True,\n",
    "    colormap='tab20',\n",
    "    figsize=(12, 6)\n",
    ")\n",
    "\n",
    "plt.title(\"Normalized Author Distribution for Top Topics\")\n",
    "plt.xlabel(\"Topic\")  # <-- Corrected\n",
    "plt.ylabel(\"Proportion of Text Assigned to the Topic from Each Author\")  # <-- Corrected\n",
    "plt.legend(title=\"Author\", bbox_to_anchor=(1.05, 1), loc='upper left')\n",
    "plt.tight_layout()\n",
    "plt.show()"
   ]
  },
  {
   "cell_type": "markdown",
   "id": "8abaaa78",
   "metadata": {},
   "source": [
    "We see that most of the top topics generated by BERTopic are attributable to a single author. Topics 2, 3, 8, and 12 seem to capture some general themese across authors. "
   ]
  },
  {
   "cell_type": "markdown",
   "id": "f05161e6",
   "metadata": {},
   "source": [
    "### Hierarchical Topic Modeling"
   ]
  },
  {
   "cell_type": "code",
   "execution_count": null,
   "id": "3beaad21",
   "metadata": {},
   "outputs": [
    {
     "name": "stderr",
     "output_type": "stream",
     "text": [
      "100%|██████████| 101/101 [00:00<00:00, 337.54it/s]\n"
     ]
    }
   ],
   "source": [
    "#hierarchical topic modeling\n",
    "hierarchical_topics = topic_model.hierarchical_topics(cleaned_texts)"
   ]
  },
  {
   "cell_type": "code",
   "execution_count": null,
   "id": "7ef1eec8",
   "metadata": {},
   "outputs": [
    {
     "data": {
      "application/vnd.plotly.v1+json": {
       "config": {
        "plotlyServerURL": "https://plot.ly"
       },
       "data": [
        {
         "hoverinfo": "text",
         "marker": {
          "color": "rgb(61,153,112)"
         },
         "mode": "lines",
         "text": [
          "art_logistics_moving_armies_map",
          "",
          "",
          "art_les_war_summary_military"
         ],
         "type": "scatter",
         "x": [
          0,
          0.5765613974480518,
          0.5765613974480518,
          0
         ],
         "xaxis": "x",
         "y": [
          -5,
          -5,
          -15,
          -15
         ],
         "yaxis": "y"
        },
        {
         "hoverinfo": "text",
         "marker": {
          "color": "rgb(61,153,112)"
         },
         "mode": "lines",
         "text": [
          "art_les_war_logistics_summary",
          "",
          "",
          "art_science_arts_war_handicraft"
         ],
         "type": "scatter",
         "x": [
          0.5765613974480518,
          0.7058245712355982,
          0.7058245712355982,
          0
         ],
         "xaxis": "x",
         "y": [
          -10,
          -10,
          -25,
          -25
         ],
         "yaxis": "y"
        },
        {
         "hoverinfo": "text",
         "marker": {
          "color": "rgb(255,65,54)"
         },
         "mode": "lines",
         "text": [
          "military_generals_general_spirit_virtue",
          "",
          "",
          "theory_historical_theoretical_things_truth"
         ],
         "type": "scatter",
         "x": [
          0,
          0.6657418159011996,
          0.6657418159011996,
          0
         ],
         "xaxis": "x",
         "y": [
          -45,
          -45,
          -55,
          -55
         ],
         "yaxis": "y"
        },
        {
         "hoverinfo": "text",
         "marker": {
          "color": "rgb(255,65,54)"
         },
         "mode": "lines",
         "text": [
          "mind_feelings_understanding_feeling_boldness",
          "",
          "",
          "theory_military_general_generals_spirit"
         ],
         "type": "scatter",
         "x": [
          0,
          0.6887980057502642,
          0.6887980057502642,
          0.6657418159011996
         ],
         "xaxis": "x",
         "y": [
          -35,
          -35,
          -50,
          -50
         ],
         "yaxis": "y"
        },
        {
         "hoverinfo": "text",
         "marker": {
          "color": "rgb(255,65,54)"
         },
         "mode": "lines",
         "text": [
          "object_destruction_combat_enemys_objects",
          "",
          "",
          "political_object_war_means_law"
         ],
         "type": "scatter",
         "x": [
          0,
          0.620068719850593,
          0.620068719850593,
          0
         ],
         "xaxis": "x",
         "y": [
          -65,
          -65,
          -75,
          -75
         ],
         "yaxis": "y"
        },
        {
         "hoverinfo": "text",
         "marker": {
          "color": "rgb(255,65,54)"
         },
         "mode": "lines",
         "text": [
          "object_destruction_combat_political_enemys",
          "",
          "",
          "action_suspension_equilibrium_activity_reciprocal"
         ],
         "type": "scatter",
         "x": [
          0.620068719850593,
          0.7692351962624776,
          0.7692351962624776,
          0
         ],
         "xaxis": "x",
         "y": [
          -70,
          -70,
          -85,
          -85
         ],
         "yaxis": "y"
        },
        {
         "hoverinfo": "text",
         "marker": {
          "color": "rgb(255,65,54)"
         },
         "mode": "lines",
         "text": [
          "theory_mind_general_military_generals",
          "",
          "",
          "object_destruction_combat_political_therefore"
         ],
         "type": "scatter",
         "x": [
          0.6887980057502642,
          0.9384714644223966,
          0.9384714644223966,
          0.7692351962624776
         ],
         "xaxis": "x",
         "y": [
          -42.5,
          -42.5,
          -77.5,
          -77.5
         ],
         "yaxis": "y"
        },
        {
         "hoverinfo": "text",
         "marker": {
          "color": "rgb(35,205,205)"
         },
         "mode": "lines",
         "text": [
          "enemy_defensive_position_attack_advantage",
          "",
          "",
          "victory_battle_forces_combat_ram"
         ],
         "type": "scatter",
         "x": [
          0,
          0.610102426849129,
          0.610102426849129,
          0
         ],
         "xaxis": "x",
         "y": [
          -115,
          -115,
          -125,
          -125
         ],
         "yaxis": "y"
        },
        {
         "hoverinfo": "text",
         "marker": {
          "color": "rgb(35,205,205)"
         },
         "mode": "lines",
         "text": [
          "retreat_pursuit_retreats_surprise_enemy",
          "",
          "",
          "enemy_battle_victory_defensive_may"
         ],
         "type": "scatter",
         "x": [
          0,
          0.7623976391476183,
          0.7623976391476183,
          0.610102426849129
         ],
         "xaxis": "x",
         "y": [
          -105,
          -105,
          -120,
          -120
         ],
         "yaxis": "y"
        },
        {
         "hoverinfo": "text",
         "marker": {
          "color": "rgb(35,205,205)"
         },
         "mode": "lines",
         "text": [
          "night_combat_combats_wooded_assailant",
          "",
          "",
          "enemy_battle_victory_defensive_position"
         ],
         "type": "scatter",
         "x": [
          0,
          0.8271714517387605,
          0.8271714517387605,
          0.7623976391476183
         ],
         "xaxis": "x",
         "y": [
          -95,
          -95,
          -112.5,
          -112.5
         ],
         "yaxis": "y"
        },
        {
         "hoverinfo": "text",
         "marker": {
          "color": "rgb(35,205,205)"
         },
         "mode": "lines",
         "text": [
          "enemy_battle_victory_attack_night",
          "",
          "",
          "strategy_tactics_principle_fundamental_definition"
         ],
         "type": "scatter",
         "x": [
          0.8271714517387605,
          0.8984455357937081,
          0.8984455357937081,
          0
         ],
         "xaxis": "x",
         "y": [
          -103.75,
          -103.75,
          -135,
          -135
         ],
         "yaxis": "y"
        },
        {
         "hoverinfo": "text",
         "marker": {
          "color": "rgb(0,116,217)"
         },
         "mode": "lines",
         "text": [
          "object_theory_therefore_means_destruction",
          "",
          "",
          "enemy_battle_victory_point_attack"
         ],
         "type": "scatter",
         "x": [
          0.9384714644223966,
          1.0045684727343125,
          1.0045684727343125,
          0.8984455357937081
         ],
         "xaxis": "x",
         "y": [
          -60,
          -60,
          -119.375,
          -119.375
         ],
         "yaxis": "y"
        },
        {
         "hoverinfo": "text",
         "marker": {
          "color": "rgb(0,116,217)"
         },
         "mode": "lines",
         "text": [
          "art_war_science_arts_les",
          "",
          "",
          "object_therefore_may_theory_must"
         ],
         "type": "scatter",
         "x": [
          0.7058245712355982,
          1.3802218860795095,
          1.3802218860795095,
          1.0045684727343125
         ],
         "xaxis": "x",
         "y": [
          -17.5,
          -17.5,
          -89.6875,
          -89.6875
         ],
         "yaxis": "y"
        },
        {
         "hoverinfo": "text",
         "marker": {
          "color": "rgb(133,20,75)"
         },
         "mode": "lines",
         "text": [
          "cavalry_infantry_charge_charges_lance",
          "",
          "",
          "divisions_battalions_columns_column_deployed"
         ],
         "type": "scatter",
         "x": [
          0,
          0.6609453118586452,
          0.6609453118586452,
          0
         ],
         "xaxis": "x",
         "y": [
          -155,
          -155,
          -165,
          -165
         ],
         "yaxis": "y"
        },
        {
         "hoverinfo": "text",
         "marker": {
          "color": "rgb(133,20,75)"
         },
         "mode": "lines",
         "text": [
          "cavalry_divisions_battalions_columns_infantry",
          "",
          "",
          "order_center_wings_oblique_fig"
         ],
         "type": "scatter",
         "x": [
          0.6609453118586452,
          0.8523763080226696,
          0.8523763080226696,
          0
         ],
         "xaxis": "x",
         "y": [
          -160,
          -160,
          -175,
          -175
         ],
         "yaxis": "y"
        },
        {
         "hoverinfo": "text",
         "marker": {
          "color": "rgb(133,20,75)"
         },
         "mode": "lines",
         "text": [
          "division_st_corps_second_fig",
          "",
          "",
          "cavalry_divisions_battalions_columns_infantry"
         ],
         "type": "scatter",
         "x": [
          0,
          0.9854284400187774,
          0.9854284400187774,
          0.8523763080226696
         ],
         "xaxis": "x",
         "y": [
          -145,
          -145,
          -167.5,
          -167.5
         ],
         "yaxis": "y"
        },
        {
         "hoverinfo": "text",
         "marker": {
          "color": "rgb(255,220,0)"
         },
         "mode": "lines",
         "text": [
          "detachments_army_necessary_may_commander",
          "",
          "",
          "staff_officers_duties_corps_logistics"
         ],
         "type": "scatter",
         "x": [
          0,
          0.7927669703989831,
          0.7927669703989831,
          0
         ],
         "xaxis": "x",
         "y": [
          -185,
          -185,
          -195,
          -195
         ],
         "yaxis": "y"
        },
        {
         "hoverinfo": "text",
         "marker": {
          "color": "rgb(255,220,0)"
         },
         "mode": "lines",
         "text": [
          "staff_officers_duties_corps_detachments",
          "",
          "",
          "clausewitz_von_carl_general_staff"
         ],
         "type": "scatter",
         "x": [
          0.7927669703989831,
          0.9411432123871616,
          0.9411432123871616,
          0
         ],
         "xaxis": "x",
         "y": [
          -190,
          -190,
          -205,
          -205
         ],
         "yaxis": "y"
        },
        {
         "hoverinfo": "text",
         "marker": {
          "color": "rgb(0,116,217)"
         },
         "mode": "lines",
         "text": [
          "cavalry_division_divisions_corps_battalions",
          "",
          "",
          "staff_clausewitz_officers_general_corps"
         ],
         "type": "scatter",
         "x": [
          0.9854284400187774,
          1.029147714543425,
          1.029147714543425,
          0.9411432123871616
         ],
         "xaxis": "x",
         "y": [
          -156.25,
          -156.25,
          -197.5,
          -197.5
         ],
         "yaxis": "y"
        },
        {
         "hoverinfo": "text",
         "marker": {
          "color": "rgb(40,35,35)"
         },
         "mode": "lines",
         "text": [
          "firearms_improvements_range_invention_gunpowder",
          "",
          "",
          "footnote_footnotes_refer_claim_treated"
         ],
         "type": "scatter",
         "x": [
          0,
          0.9371755522098556,
          0.9371755522098556,
          0
         ],
         "xaxis": "x",
         "y": [
          -215,
          -215,
          -225,
          -225
         ],
         "yaxis": "y"
        },
        {
         "hoverinfo": "text",
         "marker": {
          "color": "rgb(40,35,35)"
         },
         "mode": "lines",
         "text": [
          "camps_intrenched_connection_cantonments_tetes",
          "",
          "",
          "mountainous_countries_mountains_plains_valleys"
         ],
         "type": "scatter",
         "x": [
          0,
          0.8583884886057335,
          0.8583884886057335,
          0
         ],
         "xaxis": "x",
         "y": [
          -235,
          -235,
          -245,
          -245
         ],
         "yaxis": "y"
        },
        {
         "hoverinfo": "text",
         "marker": {
          "color": "rgb(40,35,35)"
         },
         "mode": "lines",
         "text": [
          "footnote_footnotes_firearms_improvements_range",
          "",
          "",
          "camps_intrenched_mountainous_countries_defense"
         ],
         "type": "scatter",
         "x": [
          0.9371755522098556,
          0.997403181252849,
          0.997403181252849,
          0.8583884886057335
         ],
         "xaxis": "x",
         "y": [
          -220,
          -220,
          -240,
          -240
         ],
         "yaxis": "y"
        },
        {
         "hoverinfo": "text",
         "marker": {
          "color": "rgb(61,153,112)"
         },
         "mode": "lines",
         "text": [
          "invasions_distant_invasion_diplomacy_wars",
          "",
          "",
          "intervention_wars_interferes_state_kinds"
         ],
         "type": "scatter",
         "x": [
          0,
          0.8042404699724623,
          0.8042404699724623,
          0
         ],
         "xaxis": "x",
         "y": [
          -255,
          -255,
          -265,
          -265
         ],
         "yaxis": "y"
        },
        {
         "hoverinfo": "text",
         "marker": {
          "color": "rgb(0,116,217)"
         },
         "mode": "lines",
         "text": [
          "camps_intrenched_mountainous_footnote_countries",
          "",
          "",
          "invasions_intervention_wars_distant_interferes"
         ],
         "type": "scatter",
         "x": [
          0.997403181252849,
          1.0155989878148943,
          1.0155989878148943,
          0.8042404699724623
         ],
         "xaxis": "x",
         "y": [
          -230,
          -230,
          -260,
          -260
         ],
         "yaxis": "y"
        },
        {
         "hoverinfo": "text",
         "marker": {
          "color": "rgb(255,65,54)"
         },
         "mode": "lines",
         "text": [
          "thousand_turks_hundred_vessels_cyprus",
          "",
          "",
          "hannibal_carthaginians_carthage_roman_rome"
         ],
         "type": "scatter",
         "x": [
          0,
          0.8078142987501398,
          0.8078142987501398,
          0
         ],
         "xaxis": "x",
         "y": [
          -275,
          -275,
          -285,
          -285
         ],
         "yaxis": "y"
        },
        {
         "hoverinfo": "text",
         "marker": {
          "color": "rgb(255,65,54)"
         },
         "mode": "lines",
         "text": [
          "sicily_sicilian_us_sicilians_peloponnese",
          "",
          "",
          "messina_sicily_locrian_gylippus_thence"
         ],
         "type": "scatter",
         "x": [
          0,
          0.7573977805481867,
          0.7573977805481867,
          0
         ],
         "xaxis": "x",
         "y": [
          -295,
          -295,
          -305,
          -305
         ],
         "yaxis": "y"
        },
        {
         "hoverinfo": "text",
         "marker": {
          "color": "rgb(255,65,54)"
         },
         "mode": "lines",
         "text": [
          "hannibal_thousand_carthaginians_hundred_roman",
          "",
          "",
          "sicily_messina_sicilian_sicilians_us"
         ],
         "type": "scatter",
         "x": [
          0.8078142987501398,
          0.9978489995835307,
          0.9978489995835307,
          0.7573977805481867
         ],
         "xaxis": "x",
         "y": [
          -280,
          -280,
          -300,
          -300
         ],
         "yaxis": "y"
        },
        {
         "hoverinfo": "text",
         "marker": {
          "color": "rgb(35,205,205)"
         },
         "mode": "lines",
         "text": [
          "samos_oligarchy_alcibiades_democracy_tissaphernes",
          "",
          "",
          "confederacy_confederates_confederate_disgrace_chians"
         ],
         "type": "scatter",
         "x": [
          0,
          0.9308982863611803,
          0.9308982863611803,
          0
         ],
         "xaxis": "x",
         "y": [
          -315,
          -315,
          -325,
          -325
         ],
         "yaxis": "y"
        },
        {
         "hoverinfo": "text",
         "marker": {
          "color": "rgb(35,205,205)"
         },
         "mode": "lines",
         "text": [
          "moscow_russian_russians_buonaparte_peace",
          "",
          "",
          "peloponnesians_samians_phormio_superiority_without"
         ],
         "type": "scatter",
         "x": [
          0,
          0.9206071763654493,
          0.9206071763654493,
          0
         ],
         "xaxis": "x",
         "y": [
          -335,
          -335,
          -345,
          -345
         ],
         "yaxis": "y"
        },
        {
         "hoverinfo": "text",
         "marker": {
          "color": "rgb(35,205,205)"
         },
         "mode": "lines",
         "text": [
          "moscow_peloponnesians_russian_russians_buonaparte",
          "",
          "",
          "house_fire_right_side_left"
         ],
         "type": "scatter",
         "x": [
          0.9206071763654493,
          0.9625354577486902,
          0.9625354577486902,
          0
         ],
         "xaxis": "x",
         "y": [
          -340,
          -340,
          -355,
          -355
         ],
         "yaxis": "y"
        },
        {
         "hoverinfo": "text",
         "marker": {
          "color": "rgb(35,205,205)"
         },
         "mode": "lines",
         "text": [
          "samos_alcibiades_oligarchy_confederacy_confederates",
          "",
          "",
          "moscow_peloponnesians_house_russian_fire"
         ],
         "type": "scatter",
         "x": [
          0.9308982863611803,
          0.9820996772477806,
          0.9820996772477806,
          0.9625354577486902
         ],
         "xaxis": "x",
         "y": [
          -320,
          -320,
          -347.5,
          -347.5
         ],
         "yaxis": "y"
        },
        {
         "hoverinfo": "text",
         "marker": {
          "color": "rgb(61,153,112)"
         },
         "mode": "lines",
         "text": [
          "sun_wu_tz_chi_yu",
          "",
          "",
          "spies_spy_converted_information_tu"
         ],
         "type": "scatter",
         "x": [
          0,
          0.8415904458124417,
          0.8415904458124417,
          0
         ],
         "xaxis": "x",
         "y": [
          -375,
          -375,
          -385,
          -385
         ],
         "yaxis": "y"
        },
        {
         "hoverinfo": "text",
         "marker": {
          "color": "rgb(61,153,112)"
         },
         "mode": "lines",
         "text": [
          "chariots_chariot_elephants_charioteers_swift",
          "",
          "",
          "sun_wu_tz_chi_yu"
         ],
         "type": "scatter",
         "x": [
          0,
          0.9750317543279718,
          0.9750317543279718,
          0.8415904458124417
         ],
         "xaxis": "x",
         "y": [
          -365,
          -365,
          -380,
          -380
         ],
         "yaxis": "y"
        },
        {
         "hoverinfo": "text",
         "marker": {
          "color": "rgb(0,116,217)"
         },
         "mode": "lines",
         "text": [
          "moscow_peloponnesians_samos_house_russian",
          "",
          "",
          "sun_wu_tz_chi_yu"
         ],
         "type": "scatter",
         "x": [
          0.9820996772477806,
          1.0224859511834765,
          1.0224859511834765,
          0.9750317543279718
         ],
         "xaxis": "x",
         "y": [
          -333.75,
          -333.75,
          -372.5,
          -372.5
         ],
         "yaxis": "y"
        },
        {
         "hoverinfo": "text",
         "marker": {
          "color": "rgb(0,116,217)"
         },
         "mode": "lines",
         "text": [
          "sicily_hannibal_thousand_carthaginians_hundred",
          "",
          "",
          "sun_wu_tz_chi_yu"
         ],
         "type": "scatter",
         "x": [
          0.9978489995835307,
          1.0867750520636141,
          1.0867750520636141,
          1.0224859511834765
         ],
         "xaxis": "x",
         "y": [
          -290,
          -290,
          -353.125,
          -353.125
         ],
         "yaxis": "y"
        },
        {
         "hoverinfo": "text",
         "marker": {
          "color": "rgb(0,116,217)"
         },
         "mode": "lines",
         "text": [
          "camps_intrenched_mountainous_invasions_wars",
          "",
          "",
          "sun_wu_tz_chi_yu"
         ],
         "type": "scatter",
         "x": [
          1.0155989878148943,
          1.1333401692122378,
          1.1333401692122378,
          1.0867750520636141
         ],
         "xaxis": "x",
         "y": [
          -245,
          -245,
          -321.5625,
          -321.5625
         ],
         "yaxis": "y"
        },
        {
         "hoverinfo": "text",
         "marker": {
          "color": "rgb(0,116,217)"
         },
         "mode": "lines",
         "text": [
          "cavalry_corps_divisions_division_battalions",
          "",
          "",
          "sun_wu_tz_chi_yu"
         ],
         "type": "scatter",
         "x": [
          1.029147714543425,
          1.215806085112488,
          1.215806085112488,
          1.1333401692122378
         ],
         "xaxis": "x",
         "y": [
          -176.875,
          -176.875,
          -283.28125,
          -283.28125
         ],
         "yaxis": "y"
        },
        {
         "hoverinfo": "text",
         "marker": {
          "color": "rgb(255,65,54)"
         },
         "mode": "lines",
         "text": [
          "affair_alliance_corcyra_refusing_join",
          "",
          "",
          "us_treaty_arbitration_agreement_shall"
         ],
         "type": "scatter",
         "x": [
          0,
          0.8019633469271301,
          0.8019633469271301,
          0
         ],
         "xaxis": "x",
         "y": [
          -395,
          -395,
          -405,
          -405
         ],
         "yaxis": "y"
        },
        {
         "hoverinfo": "text",
         "marker": {
          "color": "rgb(255,65,54)"
         },
         "mode": "lines",
         "text": [
          "us_treaty_arbitration_agreement_shall",
          "",
          "",
          "confidence_us_fear_neighbour_friends"
         ],
         "type": "scatter",
         "x": [
          0.8019633469271301,
          0.8302412265916024,
          0.8302412265916024,
          0
         ],
         "xaxis": "x",
         "y": [
          -400,
          -400,
          -415,
          -415
         ],
         "yaxis": "y"
        },
        {
         "hoverinfo": "text",
         "marker": {
          "color": "rgb(255,65,54)"
         },
         "mode": "lines",
         "text": [
          "public_private_democracy_government_prosperity",
          "",
          "",
          "guilty_crime_guilt_justice_offenders"
         ],
         "type": "scatter",
         "x": [
          0,
          0.7212718915840808,
          0.7212718915840808,
          0
         ],
         "xaxis": "x",
         "y": [
          -445,
          -445,
          -455,
          -455
         ],
         "yaxis": "y"
        },
        {
         "hoverinfo": "text",
         "marker": {
          "color": "rgb(255,65,54)"
         },
         "mode": "lines",
         "text": [
          "arms_council_clemency_pisander_thought",
          "",
          "",
          "public_private_democracy_government_prosperity"
         ],
         "type": "scatter",
         "x": [
          0,
          0.7920745119577666,
          0.7920745119577666,
          0.7212718915840808
         ],
         "xaxis": "x",
         "y": [
          -435,
          -435,
          -450,
          -450
         ],
         "yaxis": "y"
        },
        {
         "hoverinfo": "text",
         "marker": {
          "color": "rgb(255,65,54)"
         },
         "mode": "lines",
         "text": [
          "city_design_walled_dead_equally",
          "",
          "",
          "public_private_democracy_man_government"
         ],
         "type": "scatter",
         "x": [
          0,
          0.8660976056601953,
          0.8660976056601953,
          0.7920745119577666
         ],
         "xaxis": "x",
         "y": [
          -425,
          -425,
          -442.5,
          -442.5
         ],
         "yaxis": "y"
        },
        {
         "hoverinfo": "text",
         "marker": {
          "color": "rgb(255,65,54)"
         },
         "mode": "lines",
         "text": [
          "city_public_private_democracy_people",
          "",
          "",
          "country_dominion_locality_think_capital"
         ],
         "type": "scatter",
         "x": [
          0.8660976056601953,
          0.8901113698002002,
          0.8901113698002002,
          0
         ],
         "xaxis": "x",
         "y": [
          -433.75,
          -433.75,
          -465,
          -465
         ],
         "yaxis": "y"
        },
        {
         "hoverinfo": "text",
         "marker": {
          "color": "rgb(255,65,54)"
         },
         "mode": "lines",
         "text": [
          "us_treaty_arbitration_agreement_fear",
          "",
          "",
          "city_public_private_people_country"
         ],
         "type": "scatter",
         "x": [
          0.8302412265916024,
          0.9585920340587774,
          0.9585920340587774,
          0.8901113698002002
         ],
         "xaxis": "x",
         "y": [
          -407.5,
          -407.5,
          -449.375,
          -449.375
         ],
         "yaxis": "y"
        },
        {
         "hoverinfo": "text",
         "marker": {
          "color": "rgb(35,205,205)"
         },
         "mode": "lines",
         "text": [
          "life_danger_unimpaired_generosity_arrogance",
          "",
          "",
          "life_thy_respecting_gods_man"
         ],
         "type": "scatter",
         "x": [
          0,
          0.8301940254956239,
          0.8301940254956239,
          0
         ],
         "xaxis": "x",
         "y": [
          -475,
          -475,
          -485,
          -485
         ],
         "yaxis": "y"
        },
        {
         "hoverinfo": "text",
         "marker": {
          "color": "rgb(35,205,205)"
         },
         "mode": "lines",
         "text": [
          "coffin_wine_tomb_funeral_fathers",
          "",
          "",
          "children_relatives_women_beget_boyish"
         ],
         "type": "scatter",
         "x": [
          0,
          0.898547000951212,
          0.898547000951212,
          0
         ],
         "xaxis": "x",
         "y": [
          -495,
          -495,
          -505,
          -505
         ],
         "yaxis": "y"
        },
        {
         "hoverinfo": "text",
         "marker": {
          "color": "rgb(35,205,205)"
         },
         "mode": "lines",
         "text": [
          "life_thy_man_gods_danger",
          "",
          "",
          "coffin_relatives_wine_tomb_funeral"
         ],
         "type": "scatter",
         "x": [
          0.8301940254956239,
          0.9388939188768599,
          0.9388939188768599,
          0.898547000951212
         ],
         "xaxis": "x",
         "y": [
          -480,
          -480,
          -500,
          -500
         ],
         "yaxis": "y"
        },
        {
         "hoverinfo": "text",
         "marker": {
          "color": "rgb(0,116,217)"
         },
         "mode": "lines",
         "text": [
          "us_city_public_private_country",
          "",
          "",
          "coffin_life_honour_man_relatives"
         ],
         "type": "scatter",
         "x": [
          0.9585920340587774,
          1.040312839693002,
          1.040312839693002,
          0.9388939188768599
         ],
         "xaxis": "x",
         "y": [
          -428.4375,
          -428.4375,
          -490,
          -490
         ],
         "yaxis": "y"
        },
        {
         "hoverinfo": "text",
         "marker": {
          "color": "rgb(0,116,217)"
         },
         "mode": "lines",
         "text": [
          "sun_wu_tz_cavalry_yu",
          "",
          "",
          "us_life_public_city_man"
         ],
         "type": "scatter",
         "x": [
          1.215806085112488,
          1.3158451170366101,
          1.3158451170366101,
          1.040312839693002
         ],
         "xaxis": "x",
         "y": [
          -230.078125,
          -230.078125,
          -459.21875,
          -459.21875
         ],
         "yaxis": "y"
        },
        {
         "hoverinfo": "text",
         "marker": {
          "color": "rgb(0,116,217)"
         },
         "mode": "lines",
         "text": [
          "object_theory_therefore_may_art",
          "",
          "",
          "sun_wu_tz_cavalry_chi"
         ],
         "type": "scatter",
         "x": [
          1.3802218860795095,
          1.4204406000473806,
          1.4204406000473806,
          1.3158451170366101
         ],
         "xaxis": "x",
         "y": [
          -53.59375,
          -53.59375,
          -344.6484375,
          -344.6484375
         ],
         "yaxis": "y"
        },
        {
         "hoverinfo": "text",
         "marker": {
          "color": "rgb(133,20,75)"
         },
         "mode": "lines",
         "text": [
          "diversions_detachments_operations_corps_zone",
          "",
          "",
          "operations_theater_zone_strategic_center"
         ],
         "type": "scatter",
         "x": [
          0,
          0.7164837600740983,
          0.7164837600740983,
          0
         ],
         "xaxis": "x",
         "y": [
          -515,
          -515,
          -525,
          -525
         ],
         "yaxis": "y"
        },
        {
         "hoverinfo": "text",
         "marker": {
          "color": "rgb(133,20,75)"
         },
         "mode": "lines",
         "text": [
          "diversions_operations_zone_detachments_theater",
          "",
          "",
          "reserves_reserve_strategic_economy_idea"
         ],
         "type": "scatter",
         "x": [
          0.7164837600740983,
          0.9284983195753627,
          0.9284983195753627,
          0
         ],
         "xaxis": "x",
         "y": [
          -520,
          -520,
          -535,
          -535
         ],
         "yaxis": "y"
        },
        {
         "hoverinfo": "text",
         "marker": {
          "color": "rgb(133,20,75)"
         },
         "mode": "lines",
         "text": [
          "lines_operations_line_double_strategic",
          "",
          "",
          "napoleon_line_lines_operations_strategic"
         ],
         "type": "scatter",
         "x": [
          0,
          0.5522544970154166,
          0.5522544970154166,
          0
         ],
         "xaxis": "x",
         "y": [
          -555,
          -555,
          -565,
          -565
         ],
         "yaxis": "y"
        },
        {
         "hoverinfo": "text",
         "marker": {
          "color": "rgb(133,20,75)"
         },
         "mode": "lines",
         "text": [
          "lines_operations_line_strategic_double",
          "",
          "",
          "napoleon_napoleons_rivoli_order_bonaparte"
         ],
         "type": "scatter",
         "x": [
          0.5522544970154166,
          0.7506057918935465,
          0.7506057918935465,
          0
         ],
         "xaxis": "x",
         "y": [
          -560,
          -560,
          -575,
          -575
         ],
         "yaxis": "y"
        },
        {
         "hoverinfo": "text",
         "marker": {
          "color": "rgb(133,20,75)"
         },
         "mode": "lines",
         "text": [
          "point_decisive_strategic_points_battlefield",
          "",
          "",
          "lines_napoleon_operations_line_napoleons"
         ],
         "type": "scatter",
         "x": [
          0,
          0.814995074105366,
          0.814995074105366,
          0.7506057918935465
         ],
         "xaxis": "x",
         "y": [
          -545,
          -545,
          -567.5,
          -567.5
         ],
         "yaxis": "y"
        },
        {
         "hoverinfo": "text",
         "marker": {
          "color": "rgb(133,20,75)"
         },
         "mode": "lines",
         "text": [
          "diversions_operations_strategic_reserves_reserve",
          "",
          "",
          "lines_napoleon_operations_line_strategic"
         ],
         "type": "scatter",
         "x": [
          0.9284983195753627,
          0.9488925259044086,
          0.9488925259044086,
          0.814995074105366
         ],
         "xaxis": "x",
         "y": [
          -527.5,
          -527.5,
          -556.25,
          -556.25
         ],
         "yaxis": "y"
        },
        {
         "hoverinfo": "text",
         "marker": {
          "color": "rgb(255,220,0)"
         },
         "mode": "lines",
         "text": [
          "austrians_inn_bavaria_vienna_hundred",
          "",
          "",
          "danube_rhine_ulm_bohemia_alps"
         ],
         "type": "scatter",
         "x": [
          0,
          0.7316597651497583,
          0.7316597651497583,
          0
         ],
         "xaxis": "x",
         "y": [
          -595,
          -595,
          -605,
          -605
         ],
         "yaxis": "y"
        },
        {
         "hoverinfo": "text",
         "marker": {
          "color": "rgb(255,220,0)"
         },
         "mode": "lines",
         "text": [
          "archduke_charles_austrians_vienna_moreau",
          "",
          "",
          "danube_rhine_austrians_inn_tyrol"
         ],
         "type": "scatter",
         "x": [
          0,
          0.778327874517345,
          0.778327874517345,
          0.7316597651497583
         ],
         "xaxis": "x",
         "y": [
          -585,
          -585,
          -600,
          -600
         ],
         "yaxis": "y"
        },
        {
         "hoverinfo": "text",
         "marker": {
          "color": "rgb(255,220,0)"
         },
         "mode": "lines",
         "text": [
          "archduke_austrians_rhine_danube_charles",
          "",
          "",
          "detour_landau_clairfayt_charleroi_darmee"
         ],
         "type": "scatter",
         "x": [
          0.778327874517345,
          0.8979989078337415,
          0.8979989078337415,
          0
         ],
         "xaxis": "x",
         "y": [
          -592.5,
          -592.5,
          -615,
          -615
         ],
         "yaxis": "y"
        },
        {
         "hoverinfo": "text",
         "marker": {
          "color": "rgb(0,116,217)"
         },
         "mode": "lines",
         "text": [
          "lines_operations_napoleon_strategic_line",
          "",
          "",
          "archduke_austrians_rhine_danube_charles"
         ],
         "type": "scatter",
         "x": [
          0.9488925259044086,
          1.1676861039522632,
          1.1676861039522632,
          0.8979989078337415
         ],
         "xaxis": "x",
         "y": [
          -541.875,
          -541.875,
          -603.75,
          -603.75
         ],
         "yaxis": "y"
        },
        {
         "hoverinfo": "text",
         "marker": {
          "color": "rgb(0,116,217)"
         },
         "mode": "lines",
         "text": [
          "may_sun_must_wu_one",
          "",
          "",
          "lines_operations_napoleon_line_strategic"
         ],
         "type": "scatter",
         "x": [
          1.4204406000473806,
          1.5287180887629201,
          1.5287180887629201,
          1.1676861039522632
         ],
         "xaxis": "x",
         "y": [
          -199.12109375,
          -199.12109375,
          -572.8125,
          -572.8125
         ],
         "yaxis": "y"
        },
        {
         "hoverinfo": "text",
         "marker": {
          "color": "rgb(40,35,35)"
         },
         "mode": "lines",
         "text": [
          "ended_winter_summer_epidaurians_year",
          "",
          "",
          "attica_peloponnesians_summer_invaded_athenians"
         ],
         "type": "scatter",
         "x": [
          0,
          0.7770900871253393,
          0.7770900871253393,
          0
         ],
         "xaxis": "x",
         "y": [
          -625,
          -625,
          -635,
          -635
         ],
         "yaxis": "y"
        },
        {
         "hoverinfo": "text",
         "marker": {
          "color": "rgb(40,35,35)"
         },
         "mode": "lines",
         "text": [
          "athenians_rest_athenian_wing_garrison",
          "",
          "",
          "hundred_heavy_thousand_infantry_athenian"
         ],
         "type": "scatter",
         "x": [
          0,
          0.684498046967119,
          0.684498046967119,
          0
         ],
         "xaxis": "x",
         "y": [
          -655,
          -655,
          -665,
          -665
         ],
         "yaxis": "y"
        },
        {
         "hoverinfo": "text",
         "marker": {
          "color": "rgb(40,35,35)"
         },
         "mode": "lines",
         "text": [
          "boeotians_delium_boeotia_hippocrates_dead",
          "",
          "",
          "hundred_athenian_heavy_athenians_infantry"
         ],
         "type": "scatter",
         "x": [
          0,
          0.834268658015253,
          0.834268658015253,
          0.684498046967119
         ],
         "xaxis": "x",
         "y": [
          -645,
          -645,
          -660,
          -660
         ],
         "yaxis": "y"
        },
        {
         "hoverinfo": "text",
         "marker": {
          "color": "rgb(40,35,35)"
         },
         "mode": "lines",
         "text": [
          "syracusans_syracusan_athenians_gylippus_athenian",
          "",
          "",
          "athenians_syracusans_meanwhile_megara_would"
         ],
         "type": "scatter",
         "x": [
          0,
          0.5694977754956718,
          0.5694977754956718,
          0
         ],
         "xaxis": "x",
         "y": [
          -675,
          -675,
          -685,
          -685
         ],
         "yaxis": "y"
        },
        {
         "hoverinfo": "text",
         "marker": {
          "color": "rgb(40,35,35)"
         },
         "mode": "lines",
         "text": [
          "athenians_lacedaemonians_athens_lacedaemon_allies",
          "",
          "",
          "ships_sailed_athenians_vessels_athenian"
         ],
         "type": "scatter",
         "x": [
          0,
          0.5796251033069448,
          0.5796251033069448,
          0
         ],
         "xaxis": "x",
         "y": [
          -695,
          -695,
          -705,
          -705
         ],
         "yaxis": "y"
        },
        {
         "hoverinfo": "text",
         "marker": {
          "color": "rgb(40,35,35)"
         },
         "mode": "lines",
         "text": [
          "athenians_lacedaemonians_athens_ships_athenian",
          "",
          "",
          "english_french_england_france_ships"
         ],
         "type": "scatter",
         "x": [
          0.5796251033069448,
          0.6874860663252433,
          0.6874860663252433,
          0
         ],
         "xaxis": "x",
         "y": [
          -700,
          -700,
          -715,
          -715
         ],
         "yaxis": "y"
        },
        {
         "hoverinfo": "text",
         "marker": {
          "color": "rgb(40,35,35)"
         },
         "mode": "lines",
         "text": [
          "syracusans_athenians_syracusan_gylippus_athenian",
          "",
          "",
          "english_french_ships_england_fleet"
         ],
         "type": "scatter",
         "x": [
          0.5694977754956718,
          0.8395253739568375,
          0.8395253739568375,
          0.6874860663252433
         ],
         "xaxis": "x",
         "y": [
          -680,
          -680,
          -707.5,
          -707.5
         ],
         "yaxis": "y"
        },
        {
         "hoverinfo": "text",
         "marker": {
          "color": "rgb(40,35,35)"
         },
         "mode": "lines",
         "text": [
          "athenians_hundred_athenian_heavy_infantry",
          "",
          "",
          "english_french_ships_england_fleet"
         ],
         "type": "scatter",
         "x": [
          0.834268658015253,
          0.8801000473673565,
          0.8801000473673565,
          0.8395253739568375
         ],
         "xaxis": "x",
         "y": [
          -652.5,
          -652.5,
          -693.75,
          -693.75
         ],
         "yaxis": "y"
        },
        {
         "hoverinfo": "text",
         "marker": {
          "color": "rgb(40,35,35)"
         },
         "mode": "lines",
         "text": [
          "winter_summer_ended_attica_epidaurians",
          "",
          "",
          "english_french_ships_england_fleet"
         ],
         "type": "scatter",
         "x": [
          0.7770900871253393,
          0.9770348114048911,
          0.9770348114048911,
          0.8801000473673565
         ],
         "xaxis": "x",
         "y": [
          -630,
          -630,
          -673.125,
          -673.125
         ],
         "yaxis": "y"
        },
        {
         "hoverinfo": "text",
         "marker": {
          "color": "rgb(61,153,112)"
         },
         "mode": "lines",
         "text": [
          "horse_horses_cavalry_men_curio",
          "",
          "",
          "men_camp_soldiers_woods_wall"
         ],
         "type": "scatter",
         "x": [
          0,
          0.6086399512316267,
          0.6086399512316267,
          0
         ],
         "xaxis": "x",
         "y": [
          -735,
          -735,
          -745,
          -745
         ],
         "yaxis": "y"
        },
        {
         "hoverinfo": "text",
         "marker": {
          "color": "rgb(61,153,112)"
         },
         "mode": "lines",
         "text": [
          "horse_men_horses_cavalry_woods",
          "",
          "",
          "caesar_gaul_caesars_people_legions"
         ],
         "type": "scatter",
         "x": [
          0.6086399512316267,
          0.6506314873995285,
          0.6506314873995285,
          0
         ],
         "xaxis": "x",
         "y": [
          -740,
          -740,
          -755,
          -755
         ],
         "yaxis": "y"
        },
        {
         "hoverinfo": "text",
         "marker": {
          "color": "rgb(61,153,112)"
         },
         "mode": "lines",
         "text": [
          "caesar_gaul_caesars_legions_people",
          "",
          "",
          "corn_cattle_supply_scarcity_want"
         ],
         "type": "scatter",
         "x": [
          0.6506314873995285,
          0.8137534949319698,
          0.8137534949319698,
          0
         ],
         "xaxis": "x",
         "y": [
          -747.5,
          -747.5,
          -765,
          -765
         ],
         "yaxis": "y"
        },
        {
         "hoverinfo": "text",
         "marker": {
          "color": "rgb(61,153,112)"
         },
         "mode": "lines",
         "text": [
          "soldiers_barbarous_baggage_valour_hardships",
          "",
          "",
          "caesar_gaul_legions_caesars_people"
         ],
         "type": "scatter",
         "x": [
          0,
          0.8508184866054407,
          0.8508184866054407,
          0.8137534949319698
         ],
         "xaxis": "x",
         "y": [
          -725,
          -725,
          -756.25,
          -756.25
         ],
         "yaxis": "y"
        },
        {
         "hoverinfo": "text",
         "marker": {
          "color": "rgb(61,153,112)"
         },
         "mode": "lines",
         "text": [
          "macedonians_alexander_phalanx_cavalry_city",
          "",
          "",
          "wall_mound_engines_towers_walls"
         ],
         "type": "scatter",
         "x": [
          0,
          0.6373859440338276,
          0.6373859440338276,
          0
         ],
         "xaxis": "x",
         "y": [
          -775,
          -775,
          -785,
          -785
         ],
         "yaxis": "y"
        },
        {
         "hoverinfo": "text",
         "marker": {
          "color": "rgb(61,153,112)"
         },
         "mode": "lines",
         "text": [
          "caesar_gaul_legions_caesars_people",
          "",
          "",
          "wall_macedonians_alexander_city_engines"
         ],
         "type": "scatter",
         "x": [
          0.8508184866054407,
          0.8905627306115828,
          0.8905627306115828,
          0.6373859440338276
         ],
         "xaxis": "x",
         "y": [
          -740.625,
          -740.625,
          -780,
          -780
         ],
         "yaxis": "y"
        },
        {
         "hoverinfo": "text",
         "marker": {
          "color": "rgb(255,65,54)"
         },
         "mode": "lines",
         "text": [
          "water_feet_ascent_morass_hill",
          "",
          "",
          "bridges_bank_coblentz_bridge_river"
         ],
         "type": "scatter",
         "x": [
          0,
          0.8065643635398025,
          0.8065643635398025,
          0
         ],
         "xaxis": "x",
         "y": [
          -795,
          -795,
          -805,
          -805
         ],
         "yaxis": "y"
        },
        {
         "hoverinfo": "text",
         "marker": {
          "color": "rgb(255,65,54)"
         },
         "mode": "lines",
         "text": [
          "rivers_river_crossing_rules_passage",
          "",
          "",
          "river_indus_called_name_rivers"
         ],
         "type": "scatter",
         "x": [
          0,
          0.792247343651634,
          0.792247343651634,
          0
         ],
         "xaxis": "x",
         "y": [
          -815,
          -815,
          -825,
          -825
         ],
         "yaxis": "y"
        },
        {
         "hoverinfo": "text",
         "marker": {
          "color": "rgb(255,65,54)"
         },
         "mode": "lines",
         "text": [
          "bridges_river_bridge_towers_bank",
          "",
          "",
          "river_indus_called_rivers_name"
         ],
         "type": "scatter",
         "x": [
          0.8065643635398025,
          0.8745764186954913,
          0.8745764186954913,
          0.792247343651634
         ],
         "xaxis": "x",
         "y": [
          -800,
          -800,
          -820,
          -820
         ],
         "yaxis": "y"
        },
        {
         "hoverinfo": "text",
         "marker": {
          "color": "rgb(0,116,217)"
         },
         "mode": "lines",
         "text": [
          "caesar_gaul_camp_legions_people",
          "",
          "",
          "river_indus_called_rivers_name"
         ],
         "type": "scatter",
         "x": [
          0.8905627306115828,
          1.1386488808094444,
          1.1386488808094444,
          0.8745764186954913
         ],
         "xaxis": "x",
         "y": [
          -760.3125,
          -760.3125,
          -810,
          -810
         ],
         "yaxis": "y"
        },
        {
         "hoverinfo": "text",
         "marker": {
          "color": "rgb(0,116,217)"
         },
         "mode": "lines",
         "text": [
          "english_french_ships_england_fleet",
          "",
          "",
          "caesar_gaul_river_camp_people"
         ],
         "type": "scatter",
         "x": [
          0.9770348114048911,
          1.387767233157395,
          1.387767233157395,
          1.1386488808094444
         ],
         "xaxis": "x",
         "y": [
          -651.5625,
          -651.5625,
          -785.15625,
          -785.15625
         ],
         "yaxis": "y"
        },
        {
         "hoverinfo": "text",
         "marker": {
          "color": "rgb(35,205,205)"
         },
         "mode": "lines",
         "text": [
          "maritza_bardylis_crateas_ariaspians_musicanus",
          "",
          "",
          "pliny_et_cappadocia_minor_asia"
         ],
         "type": "scatter",
         "x": [
          0,
          0.9698814544558331,
          0.9698814544558331,
          0
         ],
         "xaxis": "x",
         "y": [
          -845,
          -845,
          -855,
          -855
         ],
         "yaxis": "y"
        },
        {
         "hoverinfo": "text",
         "marker": {
          "color": "rgb(35,205,205)"
         },
         "mode": "lines",
         "text": [
          "heracles_dionysus_hercules_cadmus_son",
          "",
          "",
          "hippias_hipparchus_harmodius_aristogiton_pisistratus"
         ],
         "type": "scatter",
         "x": [
          0,
          0.9450791205246667,
          0.9450791205246667,
          0
         ],
         "xaxis": "x",
         "y": [
          -865,
          -865,
          -875,
          -875
         ],
         "yaxis": "y"
        },
        {
         "hoverinfo": "text",
         "marker": {
          "color": "rgb(35,205,205)"
         },
         "mode": "lines",
         "text": [
          "pliny_et_cappadocia_minor_asia",
          "",
          "",
          "heracles_hippias_hipparchus_harmodius_aristogiton"
         ],
         "type": "scatter",
         "x": [
          0.9698814544558331,
          0.9939530994115774,
          0.9939530994115774,
          0.9450791205246667
         ],
         "xaxis": "x",
         "y": [
          -850,
          -850,
          -870,
          -870
         ],
         "yaxis": "y"
        },
        {
         "hoverinfo": "text",
         "marker": {
          "color": "rgb(0,116,217)"
         },
         "mode": "lines",
         "text": [
          "xlv_disastrous_notice__",
          "",
          "",
          "heracles_hippias_hipparchus_harmodius_aristogiton"
         ],
         "type": "scatter",
         "x": [
          0,
          1.0176652353717386,
          1.0176652353717386,
          0.9939530994115774
         ],
         "xaxis": "x",
         "y": [
          -835,
          -835,
          -860,
          -860
         ],
         "yaxis": "y"
        },
        {
         "hoverinfo": "text",
         "marker": {
          "color": "rgb(61,153,112)"
         },
         "mode": "lines",
         "text": [
          "cf_arrian_homer_iliad_supra",
          "",
          "",
          "arrian_photius_epictetus_cod_extant"
         ],
         "type": "scatter",
         "x": [
          0,
          0.6632588845754179,
          0.6632588845754179,
          0
         ],
         "xaxis": "x",
         "y": [
          -885,
          -885,
          -895,
          -895
         ],
         "yaxis": "y"
        },
        {
         "hoverinfo": "text",
         "marker": {
          "color": "rgb(0,116,217)"
         },
         "mode": "lines",
         "text": [
          "heracles_hippias_hipparchus_harmodius_aristogiton",
          "",
          "",
          "arrian_cf_photius_iliad_homer"
         ],
         "type": "scatter",
         "x": [
          1.0176652353717386,
          1.1160840276457122,
          1.1160840276457122,
          0.6632588845754179
         ],
         "xaxis": "x",
         "y": [
          -847.5,
          -847.5,
          -890,
          -890
         ],
         "yaxis": "y"
        },
        {
         "hoverinfo": "text",
         "marker": {
          "color": "rgb(255,65,54)"
         },
         "mode": "lines",
         "text": [
          "alexander_alexanders_speech_callisthenes_king",
          "",
          "",
          "death_alexander_son_alexanders_died"
         ],
         "type": "scatter",
         "x": [
          0,
          0.6658919926087381,
          0.6658919926087381,
          0
         ],
         "xaxis": "x",
         "y": [
          -915,
          -915,
          -925,
          -925
         ],
         "yaxis": "y"
        },
        {
         "hoverinfo": "text",
         "marker": {
          "color": "rgb(255,65,54)"
         },
         "mode": "lines",
         "text": [
          "anabasis_alexander_juliopolis_ravi_rasalhad",
          "",
          "",
          "alexander_alexanders_speech_death_callisthenes"
         ],
         "type": "scatter",
         "x": [
          0,
          0.9489328074383853,
          0.9489328074383853,
          0.6658919926087381
         ],
         "xaxis": "x",
         "y": [
          -905,
          -905,
          -920,
          -920
         ],
         "yaxis": "y"
        },
        {
         "hoverinfo": "text",
         "marker": {
          "color": "rgb(35,205,205)"
         },
         "mode": "lines",
         "text": [
          "darius_persians_alexander_persian_grecian",
          "",
          "",
          "darius_wife_marry_mother_alexander"
         ],
         "type": "scatter",
         "x": [
          0,
          0.500790222666439,
          0.500790222666439,
          0
         ],
         "xaxis": "x",
         "y": [
          -935,
          -935,
          -945,
          -945
         ],
         "yaxis": "y"
        },
        {
         "hoverinfo": "text",
         "marker": {
          "color": "rgb(0,116,217)"
         },
         "mode": "lines",
         "text": [
          "alexander_alexanders_speech_death_callisthenes",
          "",
          "",
          "darius_persians_alexander_persian_wife"
         ],
         "type": "scatter",
         "x": [
          0.9489328074383853,
          1.082363053236295,
          1.082363053236295,
          0.500790222666439
         ],
         "xaxis": "x",
         "y": [
          -912.5,
          -912.5,
          -940,
          -940
         ],
         "yaxis": "y"
        },
        {
         "hoverinfo": "text",
         "marker": {
          "color": "rgb(133,20,75)"
         },
         "mode": "lines",
         "text": [
          "son_cavalry_posted_parmenio_philotas",
          "",
          "",
          "shieldbearing_agrianians_guards_archers_cavalry"
         ],
         "type": "scatter",
         "x": [
          0,
          0.6555505803285926,
          0.6555505803285926,
          0
         ],
         "xaxis": "x",
         "y": [
          -955,
          -955,
          -965,
          -965
         ],
         "yaxis": "y"
        },
        {
         "hoverinfo": "text",
         "marker": {
          "color": "rgb(133,20,75)"
         },
         "mode": "lines",
         "text": [
          "viceroy_areians_stasanor_phrataphernes_land",
          "",
          "",
          "spitamenes_sogdiana_sogdianians_scythians_sogdianarevolt"
         ],
         "type": "scatter",
         "x": [
          0,
          0.906738191984576,
          0.906738191984576,
          0
         ],
         "xaxis": "x",
         "y": [
          -975,
          -975,
          -985,
          -985
         ],
         "yaxis": "y"
        },
        {
         "hoverinfo": "text",
         "marker": {
          "color": "rgb(133,20,75)"
         },
         "mode": "lines",
         "text": [
          "cavalry_shieldbearing_agrianians_son_guards",
          "",
          "",
          "viceroy_spitamenes_sogdiana_sogdianians_areians"
         ],
         "type": "scatter",
         "x": [
          0.6555505803285926,
          0.9907775807140294,
          0.9907775807140294,
          0.906738191984576
         ],
         "xaxis": "x",
         "y": [
          -960,
          -960,
          -980,
          -980
         ],
         "yaxis": "y"
        },
        {
         "hoverinfo": "text",
         "marker": {
          "color": "rgb(0,116,217)"
         },
         "mode": "lines",
         "text": [
          "darius_alexander_alexanders_persians_king",
          "",
          "",
          "viceroy_cavalry_shieldbearing_son_agrianians"
         ],
         "type": "scatter",
         "x": [
          1.082363053236295,
          1.1442581679690074,
          1.1442581679690074,
          0.9907775807140294
         ],
         "xaxis": "x",
         "y": [
          -926.25,
          -926.25,
          -970,
          -970
         ],
         "yaxis": "y"
        },
        {
         "hoverinfo": "text",
         "marker": {
          "color": "rgb(0,116,217)"
         },
         "mode": "lines",
         "text": [
          "arrian_cf_heracles_hippias_hipparchus",
          "",
          "",
          "darius_alexander_alexanders_persians_son"
         ],
         "type": "scatter",
         "x": [
          1.1160840276457122,
          1.2054783054230858,
          1.2054783054230858,
          1.1442581679690074
         ],
         "xaxis": "x",
         "y": [
          -868.75,
          -868.75,
          -948.125,
          -948.125
         ],
         "yaxis": "y"
        },
        {
         "hoverinfo": "text",
         "marker": {
          "color": "rgb(255,220,0)"
         },
         "mode": "lines",
         "text": [
          "siege_halicarnassus_massaga_myndus_miletus",
          "",
          "",
          "siege_mantua_buonaparte_victories_genoa"
         ],
         "type": "scatter",
         "x": [
          0,
          0.7211667407563347,
          0.7211667407563347,
          0
         ],
         "xaxis": "x",
         "y": [
          -1005,
          -1005,
          -1015,
          -1015
         ],
         "yaxis": "y"
        },
        {
         "hoverinfo": "text",
         "marker": {
          "color": "rgb(255,220,0)"
         },
         "mode": "lines",
         "text": [
          "tyre_siege_tyrenaval_tyreconstruction_tyrians",
          "",
          "",
          "siege_halicarnassus_massaga_myndus_mantua"
         ],
         "type": "scatter",
         "x": [
          0,
          0.7782797579737092,
          0.7782797579737092,
          0.7211667407563347
         ],
         "xaxis": "x",
         "y": [
          -995,
          -995,
          -1010,
          -1010
         ],
         "yaxis": "y"
        },
        {
         "hoverinfo": "text",
         "marker": {
          "color": "rgb(0,116,217)"
         },
         "mode": "lines",
         "text": [
          "alexander_darius_arrian_alexanders_son",
          "",
          "",
          "siege_tyre_halicarnassus_myndus_massaga"
         ],
         "type": "scatter",
         "x": [
          1.2054783054230858,
          1.342113507852911,
          1.342113507852911,
          0.7782797579737092
         ],
         "xaxis": "x",
         "y": [
          -908.4375,
          -908.4375,
          -1002.5,
          -1002.5
         ],
         "yaxis": "y"
        },
        {
         "hoverinfo": "text",
         "marker": {
          "color": "rgb(0,116,217)"
         },
         "mode": "lines",
         "text": [
          "ships_english_french_sea_fleet",
          "",
          "",
          "alexander_darius_arrian_alexanders_son"
         ],
         "type": "scatter",
         "x": [
          1.387767233157395,
          1.6622696266373915,
          1.6622696266373915,
          1.342113507852911
         ],
         "xaxis": "x",
         "y": [
          -718.359375,
          -718.359375,
          -955.46875,
          -955.46875
         ],
         "yaxis": "y"
        },
        {
         "hoverinfo": "text",
         "marker": {
          "color": "rgb(0,116,217)"
         },
         "mode": "lines",
         "text": [
          "may_sun_lines_must_one",
          "",
          "",
          "ships_english_french_sea_fleet"
         ],
         "type": "scatter",
         "x": [
          1.5287180887629201,
          1.7494555360563702,
          1.7494555360563702,
          1.6622696266373915
         ],
         "xaxis": "x",
         "y": [
          -385.966796875,
          -385.966796875,
          -836.9140625,
          -836.9140625
         ],
         "yaxis": "y"
        },
        {
         "hoverinfo": "text",
         "hovertext": [
          "art_les_war_logistics_summary",
          "object_destruction_combat_political_enemys",
          "theory_mind_general_military_generals",
          "enemy_battle_victory_attack_night",
          "object_theory_therefore_means_destruction",
          "art_war_science_arts_les",
          "cavalry_divisions_battalions_columns_infantry",
          "staff_officers_duties_corps_detachments",
          "cavalry_division_divisions_corps_battalions",
          "footnote_footnotes_firearms_improvements_range",
          "camps_intrenched_mountainous_footnote_countries",
          "hannibal_thousand_carthaginians_hundred_roman",
          "moscow_peloponnesians_russian_russians_buonaparte",
          "samos_alcibiades_oligarchy_confederacy_confederates",
          "moscow_peloponnesians_samos_house_russian",
          "sicily_hannibal_thousand_carthaginians_hundred",
          "camps_intrenched_mountainous_invasions_wars",
          "cavalry_corps_divisions_division_battalions",
          "us_treaty_arbitration_agreement_shall",
          "city_public_private_democracy_people",
          "us_treaty_arbitration_agreement_fear",
          "life_thy_man_gods_danger",
          "us_city_public_private_country",
          "sun_wu_tz_cavalry_yu",
          "object_theory_therefore_may_art",
          "diversions_operations_zone_detachments_theater",
          "lines_operations_line_strategic_double",
          "diversions_operations_strategic_reserves_reserve",
          "archduke_austrians_rhine_danube_charles",
          "lines_operations_napoleon_strategic_line",
          "may_sun_must_wu_one",
          "athenians_lacedaemonians_athens_ships_athenian",
          "syracusans_athenians_syracusan_gylippus_athenian",
          "athenians_hundred_athenian_heavy_infantry",
          "winter_summer_ended_attica_epidaurians",
          "horse_men_horses_cavalry_woods",
          "caesar_gaul_caesars_legions_people",
          "caesar_gaul_legions_caesars_people",
          "bridges_river_bridge_towers_bank",
          "caesar_gaul_camp_legions_people",
          "english_french_ships_england_fleet",
          "pliny_et_cappadocia_minor_asia",
          "heracles_hippias_hipparchus_harmodius_aristogiton",
          "alexander_alexanders_speech_death_callisthenes",
          "cavalry_shieldbearing_agrianians_son_guards",
          "darius_alexander_alexanders_persians_king",
          "arrian_cf_heracles_hippias_hipparchus",
          "alexander_darius_arrian_alexanders_son",
          "ships_english_french_sea_fleet",
          "may_sun_lines_must_one"
         ],
         "marker": {
          "color": "black"
         },
         "mode": "markers",
         "showlegend": false,
         "type": "scatter",
         "x": [
          0.5765613974480518,
          0.620068719850593,
          0.6887980057502642,
          0.8271714517387605,
          0.9384714644223966,
          0.7058245712355982,
          0.6609453118586452,
          0.7927669703989831,
          0.9854284400187774,
          0.9371755522098556,
          0.997403181252849,
          0.8078142987501398,
          0.9206071763654493,
          0.9308982863611803,
          0.9820996772477806,
          0.9978489995835307,
          1.0155989878148943,
          1.029147714543425,
          0.8019633469271301,
          0.8660976056601953,
          0.8302412265916024,
          0.8301940254956239,
          0.9585920340587774,
          1.215806085112488,
          1.3802218860795095,
          0.7164837600740983,
          0.5522544970154166,
          0.9284983195753627,
          0.778327874517345,
          0.9488925259044086,
          1.4204406000473806,
          0.5796251033069448,
          0.5694977754956718,
          0.834268658015253,
          0.7770900871253393,
          0.6086399512316267,
          0.6506314873995285,
          0.8508184866054407,
          0.8065643635398025,
          0.8905627306115828,
          0.9770348114048911,
          0.9698814544558331,
          1.0176652353717386,
          0.9489328074383853,
          0.6555505803285926,
          1.082363053236295,
          1.1160840276457122,
          1.2054783054230858,
          1.387767233157395,
          1.5287180887629201
         ],
         "y": [
          -10,
          -70,
          -42.5,
          -103.75,
          -60,
          -17.5,
          -160,
          -190,
          -156.25,
          -220,
          -230,
          -280,
          -340,
          -320,
          -333.75,
          -290,
          -245,
          -176.875,
          -400,
          -433.75,
          -407.5,
          -480,
          -428.4375,
          -230.078125,
          -53.59375,
          -520,
          -560,
          -527.5,
          -592.5,
          -541.875,
          -199.12109375,
          -700,
          -680,
          -652.5,
          -630,
          -740,
          -747.5,
          -740.625,
          -800,
          -760.3125,
          -651.5625,
          -850,
          -847.5,
          -912.5,
          -960,
          -926.25,
          -868.75,
          -908.4375,
          -718.359375,
          -385.966796875
         ]
        },
        {
         "hoverinfo": "text",
         "hovertext": [
          "theory_military_general_generals_spirit",
          "object_destruction_combat_political_therefore",
          "enemy_battle_victory_defensive_may",
          "enemy_battle_victory_defensive_position",
          "enemy_battle_victory_point_attack",
          "object_therefore_may_theory_must",
          "cavalry_divisions_battalions_columns_infantry",
          "staff_clausewitz_officers_general_corps",
          "camps_intrenched_mountainous_countries_defense",
          "invasions_intervention_wars_distant_interferes",
          "sicily_messina_sicilian_sicilians_us",
          "moscow_peloponnesians_house_russian_fire",
          "sun_wu_tz_chi_yu",
          "sun_wu_tz_chi_yu",
          "sun_wu_tz_chi_yu",
          "sun_wu_tz_chi_yu",
          "sun_wu_tz_chi_yu",
          "public_private_democracy_government_prosperity",
          "public_private_democracy_man_government",
          "city_public_private_people_country",
          "coffin_relatives_wine_tomb_funeral",
          "coffin_life_honour_man_relatives",
          "us_life_public_city_man",
          "sun_wu_tz_cavalry_chi",
          "lines_napoleon_operations_line_napoleons",
          "lines_napoleon_operations_line_strategic",
          "danube_rhine_austrians_inn_tyrol",
          "archduke_austrians_rhine_danube_charles",
          "lines_operations_napoleon_line_strategic",
          "hundred_athenian_heavy_athenians_infantry",
          "english_french_ships_england_fleet",
          "english_french_ships_england_fleet",
          "english_french_ships_england_fleet",
          "caesar_gaul_legions_caesars_people",
          "wall_macedonians_alexander_city_engines",
          "river_indus_called_rivers_name",
          "river_indus_called_rivers_name",
          "caesar_gaul_river_camp_people",
          "heracles_hippias_hipparchus_harmodius_aristogiton",
          "heracles_hippias_hipparchus_harmodius_aristogiton",
          "arrian_cf_photius_iliad_homer",
          "alexander_alexanders_speech_death_callisthenes",
          "darius_persians_alexander_persian_wife",
          "viceroy_spitamenes_sogdiana_sogdianians_areians",
          "viceroy_cavalry_shieldbearing_son_agrianians",
          "darius_alexander_alexanders_persians_son",
          "siege_halicarnassus_massaga_myndus_mantua",
          "siege_tyre_halicarnassus_myndus_massaga",
          "alexander_darius_arrian_alexanders_son",
          "ships_english_french_sea_fleet"
         ],
         "marker": {
          "color": "black"
         },
         "mode": "markers",
         "showlegend": false,
         "type": "scatter",
         "x": [
          0.6657418159011996,
          0.7692351962624776,
          0.610102426849129,
          0.7623976391476183,
          0.8984455357937081,
          1.0045684727343125,
          0.8523763080226696,
          0.9411432123871616,
          0.8583884886057335,
          0.8042404699724623,
          0.7573977805481867,
          0.9625354577486902,
          0.8415904458124417,
          0.9750317543279718,
          1.0224859511834765,
          1.0867750520636141,
          1.1333401692122378,
          0.7212718915840808,
          0.7920745119577666,
          0.8901113698002002,
          0.898547000951212,
          0.9388939188768599,
          1.040312839693002,
          1.3158451170366101,
          0.7506057918935465,
          0.814995074105366,
          0.7316597651497583,
          0.8979989078337415,
          1.1676861039522632,
          0.684498046967119,
          0.6874860663252433,
          0.8395253739568375,
          0.8801000473673565,
          0.8137534949319698,
          0.6373859440338276,
          0.792247343651634,
          0.8745764186954913,
          1.1386488808094444,
          0.9450791205246667,
          0.9939530994115774,
          0.6632588845754179,
          0.6658919926087381,
          0.500790222666439,
          0.906738191984576,
          0.9907775807140294,
          1.1442581679690074,
          0.7211667407563347,
          0.7782797579737092,
          1.342113507852911,
          1.6622696266373915
         ],
         "y": [
          -50,
          -77.5,
          -120,
          -112.5,
          -119.375,
          -89.6875,
          -167.5,
          -197.5,
          -240,
          -260,
          -300,
          -347.5,
          -380,
          -372.5,
          -353.125,
          -321.5625,
          -283.28125,
          -450,
          -442.5,
          -449.375,
          -500,
          -490,
          -459.21875,
          -344.6484375,
          -567.5,
          -556.25,
          -600,
          -603.75,
          -572.8125,
          -660,
          -707.5,
          -693.75,
          -673.125,
          -756.25,
          -780,
          -820,
          -810,
          -785.15625,
          -870,
          -860,
          -890,
          -920,
          -940,
          -980,
          -970,
          -948.125,
          -1010,
          -1002.5,
          -955.46875,
          -836.9140625
         ]
        }
       ],
       "layout": {
        "autosize": false,
        "height": 1730,
        "hoverlabel": {
         "bgcolor": "white",
         "font": {
          "family": "Rockwell",
          "size": 16
         }
        },
        "hovermode": "closest",
        "plot_bgcolor": "#ECEFF1",
        "showlegend": false,
        "template": {
         "data": {
          "bar": [
           {
            "error_x": {
             "color": "#2a3f5f"
            },
            "error_y": {
             "color": "#2a3f5f"
            },
            "marker": {
             "line": {
              "color": "white",
              "width": 0.5
             },
             "pattern": {
              "fillmode": "overlay",
              "size": 10,
              "solidity": 0.2
             }
            },
            "type": "bar"
           }
          ],
          "barpolar": [
           {
            "marker": {
             "line": {
              "color": "white",
              "width": 0.5
             },
             "pattern": {
              "fillmode": "overlay",
              "size": 10,
              "solidity": 0.2
             }
            },
            "type": "barpolar"
           }
          ],
          "carpet": [
           {
            "aaxis": {
             "endlinecolor": "#2a3f5f",
             "gridcolor": "#C8D4E3",
             "linecolor": "#C8D4E3",
             "minorgridcolor": "#C8D4E3",
             "startlinecolor": "#2a3f5f"
            },
            "baxis": {
             "endlinecolor": "#2a3f5f",
             "gridcolor": "#C8D4E3",
             "linecolor": "#C8D4E3",
             "minorgridcolor": "#C8D4E3",
             "startlinecolor": "#2a3f5f"
            },
            "type": "carpet"
           }
          ],
          "choropleth": [
           {
            "colorbar": {
             "outlinewidth": 0,
             "ticks": ""
            },
            "type": "choropleth"
           }
          ],
          "contour": [
           {
            "colorbar": {
             "outlinewidth": 0,
             "ticks": ""
            },
            "colorscale": [
             [
              0,
              "#0d0887"
             ],
             [
              0.1111111111111111,
              "#46039f"
             ],
             [
              0.2222222222222222,
              "#7201a8"
             ],
             [
              0.3333333333333333,
              "#9c179e"
             ],
             [
              0.4444444444444444,
              "#bd3786"
             ],
             [
              0.5555555555555556,
              "#d8576b"
             ],
             [
              0.6666666666666666,
              "#ed7953"
             ],
             [
              0.7777777777777778,
              "#fb9f3a"
             ],
             [
              0.8888888888888888,
              "#fdca26"
             ],
             [
              1,
              "#f0f921"
             ]
            ],
            "type": "contour"
           }
          ],
          "contourcarpet": [
           {
            "colorbar": {
             "outlinewidth": 0,
             "ticks": ""
            },
            "type": "contourcarpet"
           }
          ],
          "heatmap": [
           {
            "colorbar": {
             "outlinewidth": 0,
             "ticks": ""
            },
            "colorscale": [
             [
              0,
              "#0d0887"
             ],
             [
              0.1111111111111111,
              "#46039f"
             ],
             [
              0.2222222222222222,
              "#7201a8"
             ],
             [
              0.3333333333333333,
              "#9c179e"
             ],
             [
              0.4444444444444444,
              "#bd3786"
             ],
             [
              0.5555555555555556,
              "#d8576b"
             ],
             [
              0.6666666666666666,
              "#ed7953"
             ],
             [
              0.7777777777777778,
              "#fb9f3a"
             ],
             [
              0.8888888888888888,
              "#fdca26"
             ],
             [
              1,
              "#f0f921"
             ]
            ],
            "type": "heatmap"
           }
          ],
          "heatmapgl": [
           {
            "colorbar": {
             "outlinewidth": 0,
             "ticks": ""
            },
            "colorscale": [
             [
              0,
              "#0d0887"
             ],
             [
              0.1111111111111111,
              "#46039f"
             ],
             [
              0.2222222222222222,
              "#7201a8"
             ],
             [
              0.3333333333333333,
              "#9c179e"
             ],
             [
              0.4444444444444444,
              "#bd3786"
             ],
             [
              0.5555555555555556,
              "#d8576b"
             ],
             [
              0.6666666666666666,
              "#ed7953"
             ],
             [
              0.7777777777777778,
              "#fb9f3a"
             ],
             [
              0.8888888888888888,
              "#fdca26"
             ],
             [
              1,
              "#f0f921"
             ]
            ],
            "type": "heatmapgl"
           }
          ],
          "histogram": [
           {
            "marker": {
             "pattern": {
              "fillmode": "overlay",
              "size": 10,
              "solidity": 0.2
             }
            },
            "type": "histogram"
           }
          ],
          "histogram2d": [
           {
            "colorbar": {
             "outlinewidth": 0,
             "ticks": ""
            },
            "colorscale": [
             [
              0,
              "#0d0887"
             ],
             [
              0.1111111111111111,
              "#46039f"
             ],
             [
              0.2222222222222222,
              "#7201a8"
             ],
             [
              0.3333333333333333,
              "#9c179e"
             ],
             [
              0.4444444444444444,
              "#bd3786"
             ],
             [
              0.5555555555555556,
              "#d8576b"
             ],
             [
              0.6666666666666666,
              "#ed7953"
             ],
             [
              0.7777777777777778,
              "#fb9f3a"
             ],
             [
              0.8888888888888888,
              "#fdca26"
             ],
             [
              1,
              "#f0f921"
             ]
            ],
            "type": "histogram2d"
           }
          ],
          "histogram2dcontour": [
           {
            "colorbar": {
             "outlinewidth": 0,
             "ticks": ""
            },
            "colorscale": [
             [
              0,
              "#0d0887"
             ],
             [
              0.1111111111111111,
              "#46039f"
             ],
             [
              0.2222222222222222,
              "#7201a8"
             ],
             [
              0.3333333333333333,
              "#9c179e"
             ],
             [
              0.4444444444444444,
              "#bd3786"
             ],
             [
              0.5555555555555556,
              "#d8576b"
             ],
             [
              0.6666666666666666,
              "#ed7953"
             ],
             [
              0.7777777777777778,
              "#fb9f3a"
             ],
             [
              0.8888888888888888,
              "#fdca26"
             ],
             [
              1,
              "#f0f921"
             ]
            ],
            "type": "histogram2dcontour"
           }
          ],
          "mesh3d": [
           {
            "colorbar": {
             "outlinewidth": 0,
             "ticks": ""
            },
            "type": "mesh3d"
           }
          ],
          "parcoords": [
           {
            "line": {
             "colorbar": {
              "outlinewidth": 0,
              "ticks": ""
             }
            },
            "type": "parcoords"
           }
          ],
          "pie": [
           {
            "automargin": true,
            "type": "pie"
           }
          ],
          "scatter": [
           {
            "fillpattern": {
             "fillmode": "overlay",
             "size": 10,
             "solidity": 0.2
            },
            "type": "scatter"
           }
          ],
          "scatter3d": [
           {
            "line": {
             "colorbar": {
              "outlinewidth": 0,
              "ticks": ""
             }
            },
            "marker": {
             "colorbar": {
              "outlinewidth": 0,
              "ticks": ""
             }
            },
            "type": "scatter3d"
           }
          ],
          "scattercarpet": [
           {
            "marker": {
             "colorbar": {
              "outlinewidth": 0,
              "ticks": ""
             }
            },
            "type": "scattercarpet"
           }
          ],
          "scattergeo": [
           {
            "marker": {
             "colorbar": {
              "outlinewidth": 0,
              "ticks": ""
             }
            },
            "type": "scattergeo"
           }
          ],
          "scattergl": [
           {
            "marker": {
             "colorbar": {
              "outlinewidth": 0,
              "ticks": ""
             }
            },
            "type": "scattergl"
           }
          ],
          "scattermapbox": [
           {
            "marker": {
             "colorbar": {
              "outlinewidth": 0,
              "ticks": ""
             }
            },
            "type": "scattermapbox"
           }
          ],
          "scatterpolar": [
           {
            "marker": {
             "colorbar": {
              "outlinewidth": 0,
              "ticks": ""
             }
            },
            "type": "scatterpolar"
           }
          ],
          "scatterpolargl": [
           {
            "marker": {
             "colorbar": {
              "outlinewidth": 0,
              "ticks": ""
             }
            },
            "type": "scatterpolargl"
           }
          ],
          "scatterternary": [
           {
            "marker": {
             "colorbar": {
              "outlinewidth": 0,
              "ticks": ""
             }
            },
            "type": "scatterternary"
           }
          ],
          "surface": [
           {
            "colorbar": {
             "outlinewidth": 0,
             "ticks": ""
            },
            "colorscale": [
             [
              0,
              "#0d0887"
             ],
             [
              0.1111111111111111,
              "#46039f"
             ],
             [
              0.2222222222222222,
              "#7201a8"
             ],
             [
              0.3333333333333333,
              "#9c179e"
             ],
             [
              0.4444444444444444,
              "#bd3786"
             ],
             [
              0.5555555555555556,
              "#d8576b"
             ],
             [
              0.6666666666666666,
              "#ed7953"
             ],
             [
              0.7777777777777778,
              "#fb9f3a"
             ],
             [
              0.8888888888888888,
              "#fdca26"
             ],
             [
              1,
              "#f0f921"
             ]
            ],
            "type": "surface"
           }
          ],
          "table": [
           {
            "cells": {
             "fill": {
              "color": "#EBF0F8"
             },
             "line": {
              "color": "white"
             }
            },
            "header": {
             "fill": {
              "color": "#C8D4E3"
             },
             "line": {
              "color": "white"
             }
            },
            "type": "table"
           }
          ]
         },
         "layout": {
          "annotationdefaults": {
           "arrowcolor": "#2a3f5f",
           "arrowhead": 0,
           "arrowwidth": 1
          },
          "autotypenumbers": "strict",
          "coloraxis": {
           "colorbar": {
            "outlinewidth": 0,
            "ticks": ""
           }
          },
          "colorscale": {
           "diverging": [
            [
             0,
             "#8e0152"
            ],
            [
             0.1,
             "#c51b7d"
            ],
            [
             0.2,
             "#de77ae"
            ],
            [
             0.3,
             "#f1b6da"
            ],
            [
             0.4,
             "#fde0ef"
            ],
            [
             0.5,
             "#f7f7f7"
            ],
            [
             0.6,
             "#e6f5d0"
            ],
            [
             0.7,
             "#b8e186"
            ],
            [
             0.8,
             "#7fbc41"
            ],
            [
             0.9,
             "#4d9221"
            ],
            [
             1,
             "#276419"
            ]
           ],
           "sequential": [
            [
             0,
             "#0d0887"
            ],
            [
             0.1111111111111111,
             "#46039f"
            ],
            [
             0.2222222222222222,
             "#7201a8"
            ],
            [
             0.3333333333333333,
             "#9c179e"
            ],
            [
             0.4444444444444444,
             "#bd3786"
            ],
            [
             0.5555555555555556,
             "#d8576b"
            ],
            [
             0.6666666666666666,
             "#ed7953"
            ],
            [
             0.7777777777777778,
             "#fb9f3a"
            ],
            [
             0.8888888888888888,
             "#fdca26"
            ],
            [
             1,
             "#f0f921"
            ]
           ],
           "sequentialminus": [
            [
             0,
             "#0d0887"
            ],
            [
             0.1111111111111111,
             "#46039f"
            ],
            [
             0.2222222222222222,
             "#7201a8"
            ],
            [
             0.3333333333333333,
             "#9c179e"
            ],
            [
             0.4444444444444444,
             "#bd3786"
            ],
            [
             0.5555555555555556,
             "#d8576b"
            ],
            [
             0.6666666666666666,
             "#ed7953"
            ],
            [
             0.7777777777777778,
             "#fb9f3a"
            ],
            [
             0.8888888888888888,
             "#fdca26"
            ],
            [
             1,
             "#f0f921"
            ]
           ]
          },
          "colorway": [
           "#636efa",
           "#EF553B",
           "#00cc96",
           "#ab63fa",
           "#FFA15A",
           "#19d3f3",
           "#FF6692",
           "#B6E880",
           "#FF97FF",
           "#FECB52"
          ],
          "font": {
           "color": "#2a3f5f"
          },
          "geo": {
           "bgcolor": "white",
           "lakecolor": "white",
           "landcolor": "white",
           "showlakes": true,
           "showland": true,
           "subunitcolor": "#C8D4E3"
          },
          "hoverlabel": {
           "align": "left"
          },
          "hovermode": "closest",
          "mapbox": {
           "style": "light"
          },
          "paper_bgcolor": "white",
          "plot_bgcolor": "white",
          "polar": {
           "angularaxis": {
            "gridcolor": "#EBF0F8",
            "linecolor": "#EBF0F8",
            "ticks": ""
           },
           "bgcolor": "white",
           "radialaxis": {
            "gridcolor": "#EBF0F8",
            "linecolor": "#EBF0F8",
            "ticks": ""
           }
          },
          "scene": {
           "xaxis": {
            "backgroundcolor": "white",
            "gridcolor": "#DFE8F3",
            "gridwidth": 2,
            "linecolor": "#EBF0F8",
            "showbackground": true,
            "ticks": "",
            "zerolinecolor": "#EBF0F8"
           },
           "yaxis": {
            "backgroundcolor": "white",
            "gridcolor": "#DFE8F3",
            "gridwidth": 2,
            "linecolor": "#EBF0F8",
            "showbackground": true,
            "ticks": "",
            "zerolinecolor": "#EBF0F8"
           },
           "zaxis": {
            "backgroundcolor": "white",
            "gridcolor": "#DFE8F3",
            "gridwidth": 2,
            "linecolor": "#EBF0F8",
            "showbackground": true,
            "ticks": "",
            "zerolinecolor": "#EBF0F8"
           }
          },
          "shapedefaults": {
           "line": {
            "color": "#2a3f5f"
           }
          },
          "ternary": {
           "aaxis": {
            "gridcolor": "#DFE8F3",
            "linecolor": "#A2B1C6",
            "ticks": ""
           },
           "baxis": {
            "gridcolor": "#DFE8F3",
            "linecolor": "#A2B1C6",
            "ticks": ""
           },
           "bgcolor": "white",
           "caxis": {
            "gridcolor": "#DFE8F3",
            "linecolor": "#A2B1C6",
            "ticks": ""
           }
          },
          "title": {
           "x": 0.05
          },
          "xaxis": {
           "automargin": true,
           "gridcolor": "#EBF0F8",
           "linecolor": "#EBF0F8",
           "ticks": "",
           "title": {
            "standoff": 15
           },
           "zerolinecolor": "#EBF0F8",
           "zerolinewidth": 2
          },
          "yaxis": {
           "automargin": true,
           "gridcolor": "#EBF0F8",
           "linecolor": "#EBF0F8",
           "ticks": "",
           "title": {
            "standoff": 15
           },
           "zerolinecolor": "#EBF0F8",
           "zerolinewidth": 2
          }
         }
        },
        "title": {
         "font": {
          "color": "Black",
          "size": 22
         },
         "text": "<b>Hierarchical Clustering</b>",
         "x": 0.5,
         "xanchor": "center",
         "yanchor": "top"
        },
        "width": 1000,
        "xaxis": {
         "mirror": "allticks",
         "rangemode": "tozero",
         "showgrid": false,
         "showline": true,
         "showticklabels": true,
         "ticks": "outside",
         "type": "linear",
         "zeroline": false
        },
        "yaxis": {
         "mirror": "allticks",
         "range": [
          -1020,
          0
         ],
         "rangemode": "tozero",
         "showgrid": false,
         "showline": true,
         "showticklabels": true,
         "tickmode": "array",
         "ticks": "outside",
         "ticktext": [
          "99_art_logistics_moving",
          "44_art_les_war",
          "89_art_science_arts",
          "24_mind_feelings_understand...",
          "9_military_generals_general",
          "12_theory_historical_theore...",
          "21_object_destruction_combat",
          "30_political_object_war",
          "33_action_suspension_equili...",
          "58_night_combat_combats",
          "32_retreat_pursuit_retreats",
          "13_enemy_defensive_position",
          "39_victory_battle_forces",
          "76_strategy_tactics_principle",
          "56_division_st_corps",
          "16_cavalry_infantry_charge",
          "8_divisions_battalions_colu...",
          "40_order_center_wings",
          "94_detachments_army_necessary",
          "50_staff_officers_duties",
          "71_clausewitz_von_carl",
          "81_firearms_improvements_ra...",
          "72_footnote_footnotes_refer",
          "35_camps_intrenched_connect...",
          "38_mountainous_countries_mo...",
          "54_invasions_distant_invasion",
          "47_intervention_wars_interf...",
          "34_thousand_turks_hundred",
          "26_hannibal_carthaginians_c...",
          "28_sicily_sicilian_us",
          "100_messina_sicily_locrian",
          "101_samos_oligarchy_alcibia...",
          "91_confederacy_confederates...",
          "74_moscow_russian_russians",
          "75_peloponnesians_samians_p...",
          "86_house_fire_right",
          "69_chariots_chariot_elephants",
          "3_sun_wu_tz",
          "31_spies_spy_converted",
          "88_affair_alliance_corcyra",
          "57_us_treaty_arbitration",
          "70_confidence_us_fear",
          "45_city_design_walled",
          "29_arms_council_clemency",
          "17_public_private_democracy",
          "27_guilty_crime_guilt",
          "49_country_dominion_locality",
          "63_life_danger_unimpaired",
          "52_life_thy_respecting",
          "37_coffin_wine_tomb",
          "93_children_relatives_women",
          "92_diversions_detachments_o...",
          "98_operations_theater_zone",
          "85_reserves_reserve_strategic",
          "59_point_decisive_strategic",
          "18_lines_operations_line",
          "79_napoleon_line_lines",
          "20_napoleon_napoleons_rivoli",
          "43_archduke_charles_austrians",
          "78_austrians_inn_bavaria",
          "51_danube_rhine_ulm",
          "97_detour_landau_clairfayt",
          "61_ended_winter_summer",
          "67_attica_peloponnesians_su...",
          "83_boeotians_delium_boeotia",
          "60_athenians_rest_athenian",
          "41_hundred_heavy_thousand",
          "23_syracusans_syracusan_ath...",
          "53_athenians_syracusans_mea...",
          "2_athenians_lacedaemonians_...",
          "4_ships_sailed_athenians",
          "0_english_french_england",
          "48_soldiers_barbarous_baggage",
          "15_horse_horses_cavalry",
          "25_men_camp_soldiers",
          "1_caesar_gaul_caesars",
          "22_corn_cattle_supply",
          "7_macedonians_alexander_pha...",
          "14_wall_mound_engines",
          "46_water_feet_ascent",
          "42_bridges_bank_coblentz",
          "96_rivers_river_crossing",
          "5_river_indus_called",
          "10_xlv_disastrous_notice",
          "6_maritza_bardylis_crateas",
          "64_pliny_et_cappadocia",
          "62_heracles_dionysus_hercules",
          "68_hippias_hipparchus_harmo...",
          "55_cf_arrian_homer",
          "36_arrian_photius_epictetus",
          "95_anabasis_alexander_julio...",
          "11_alexander_alexanders_spe...",
          "66_death_alexander_son",
          "19_darius_persians_alexander",
          "65_darius_wife_marry",
          "90_son_cavalry_posted",
          "80_shieldbearing_agrianians...",
          "77_viceroy_areians_stasanor",
          "73_spitamenes_sogdiana_sogd...",
          "84_tyre_siege_tyrenaval",
          "82_siege_halicarnassus_mass...",
          "87_siege_mantua_buonaparte"
         ],
         "tickvals": [
          -5,
          -15,
          -25,
          -35,
          -45,
          -55,
          -65,
          -75,
          -85,
          -95,
          -105,
          -115,
          -125,
          -135,
          -145,
          -155,
          -165,
          -175,
          -185,
          -195,
          -205,
          -215,
          -225,
          -235,
          -245,
          -255,
          -265,
          -275,
          -285,
          -295,
          -305,
          -315,
          -325,
          -335,
          -345,
          -355,
          -365,
          -375,
          -385,
          -395,
          -405,
          -415,
          -425,
          -435,
          -445,
          -455,
          -465,
          -475,
          -485,
          -495,
          -505,
          -515,
          -525,
          -535,
          -545,
          -555,
          -565,
          -575,
          -585,
          -595,
          -605,
          -615,
          -625,
          -635,
          -645,
          -655,
          -665,
          -675,
          -685,
          -695,
          -705,
          -715,
          -725,
          -735,
          -745,
          -755,
          -765,
          -775,
          -785,
          -795,
          -805,
          -815,
          -825,
          -835,
          -845,
          -855,
          -865,
          -875,
          -885,
          -895,
          -905,
          -915,
          -925,
          -935,
          -945,
          -955,
          -965,
          -975,
          -985,
          -995,
          -1005,
          -1015
         ],
         "type": "linear",
         "zeroline": false
        }
       }
      }
     },
     "metadata": {},
     "output_type": "display_data"
    }
   ],
   "source": [
    "#visualize topic hierarchy\n",
    "topic_model.visualize_hierarchy(hierarchical_topics=hierarchical_topics)\n"
   ]
  },
  {
   "cell_type": "code",
   "execution_count": null,
   "id": "4a252c4f",
   "metadata": {},
   "outputs": [
    {
     "name": "stdout",
     "output_type": "stream",
     "text": [
      ".\n",
      "├─may_sun_lines_must_one\n",
      "│    ├─may_sun_must_wu_one\n",
      "│    │    ├─object_theory_therefore_may_art\n",
      "│    │    │    ├─art_war_science_arts_les\n",
      "│    │    │    │    ├─art_les_war_logistics_summary\n",
      "│    │    │    │    │    ├─■──art_logistics_moving_armies_map ── Topic: 99\n",
      "│    │    │    │    │    └─■──art_les_war_summary_military ── Topic: 44\n",
      "│    │    │    │    └─■──art_science_arts_war_handicraft ── Topic: 89\n",
      "│    │    │    └─object_therefore_may_theory_must\n",
      "│    │    │         ├─object_theory_therefore_means_destruction\n",
      "│    │    │         │    ├─theory_mind_general_military_generals\n",
      "│    │    │         │    │    ├─■──mind_feelings_understanding_feeling_boldness ── Topic: 24\n",
      "│    │    │         │    │    └─theory_military_general_generals_spirit\n",
      "│    │    │         │    │         ├─■──military_generals_general_spirit_virtue ── Topic: 9\n",
      "│    │    │         │    │         └─■──theory_historical_theoretical_things_truth ── Topic: 12\n",
      "│    │    │         │    └─object_destruction_combat_political_therefore\n",
      "│    │    │         │         ├─object_destruction_combat_political_enemys\n",
      "│    │    │         │         │    ├─■──object_destruction_combat_enemys_objects ── Topic: 21\n",
      "│    │    │         │         │    └─■──political_object_war_means_law ── Topic: 30\n",
      "│    │    │         │         └─■──action_suspension_equilibrium_activity_reciprocal ── Topic: 33\n",
      "│    │    │         └─enemy_battle_victory_point_attack\n",
      "│    │    │              ├─enemy_battle_victory_attack_night\n",
      "│    │    │              │    ├─■──night_combat_combats_wooded_assailant ── Topic: 58\n",
      "│    │    │              │    └─enemy_battle_victory_defensive_position\n",
      "│    │    │              │         ├─■──retreat_pursuit_retreats_surprise_enemy ── Topic: 32\n",
      "│    │    │              │         └─enemy_battle_victory_defensive_may\n",
      "│    │    │              │              ├─■──enemy_defensive_position_attack_advantage ── Topic: 13\n",
      "│    │    │              │              └─■──victory_battle_forces_combat_ram ── Topic: 39\n",
      "│    │    │              └─■──strategy_tactics_principle_fundamental_definition ── Topic: 76\n",
      "│    │    └─sun_wu_tz_cavalry_chi\n",
      "│    │         ├─sun_wu_tz_cavalry_yu\n",
      "│    │         │    ├─cavalry_corps_divisions_division_battalions\n",
      "│    │         │    │    ├─cavalry_division_divisions_corps_battalions\n",
      "│    │         │    │    │    ├─■──division_st_corps_second_fig ── Topic: 56\n",
      "│    │         │    │    │    └─cavalry_divisions_battalions_columns_infantry\n",
      "│    │         │    │    │         ├─cavalry_divisions_battalions_columns_infantry\n",
      "│    │         │    │    │         │    ├─■──cavalry_infantry_charge_charges_lance ── Topic: 16\n",
      "│    │         │    │    │         │    └─■──divisions_battalions_columns_column_deployed ── Topic: 8\n",
      "│    │         │    │    │         └─■──order_center_wings_oblique_fig ── Topic: 40\n",
      "│    │         │    │    └─staff_clausewitz_officers_general_corps\n",
      "│    │         │    │         ├─staff_officers_duties_corps_detachments\n",
      "│    │         │    │         │    ├─■──detachments_army_necessary_may_commander ── Topic: 94\n",
      "│    │         │    │         │    └─■──staff_officers_duties_corps_logistics ── Topic: 50\n",
      "│    │         │    │         └─■──clausewitz_von_carl_general_staff ── Topic: 71\n",
      "│    │         │    └─sun_wu_tz_chi_yu\n",
      "│    │         │         ├─camps_intrenched_mountainous_invasions_wars\n",
      "│    │         │         │    ├─camps_intrenched_mountainous_footnote_countries\n",
      "│    │         │         │    │    ├─footnote_footnotes_firearms_improvements_range\n",
      "│    │         │         │    │    │    ├─■──firearms_improvements_range_invention_gunpowder ── Topic: 81\n",
      "│    │         │         │    │    │    └─■──footnote_footnotes_refer_claim_treated ── Topic: 72\n",
      "│    │         │         │    │    └─camps_intrenched_mountainous_countries_defense\n",
      "│    │         │         │    │         ├─■──camps_intrenched_connection_cantonments_tetes ── Topic: 35\n",
      "│    │         │         │    │         └─■──mountainous_countries_mountains_plains_valleys ── Topic: 38\n",
      "│    │         │         │    └─invasions_intervention_wars_distant_interferes\n",
      "│    │         │         │         ├─■──invasions_distant_invasion_diplomacy_wars ── Topic: 54\n",
      "│    │         │         │         └─■──intervention_wars_interferes_state_kinds ── Topic: 47\n",
      "│    │         │         └─sun_wu_tz_chi_yu\n",
      "│    │         │              ├─sicily_hannibal_thousand_carthaginians_hundred\n",
      "│    │         │              │    ├─hannibal_thousand_carthaginians_hundred_roman\n",
      "│    │         │              │    │    ├─■──thousand_turks_hundred_vessels_cyprus ── Topic: 34\n",
      "│    │         │              │    │    └─■──hannibal_carthaginians_carthage_roman_rome ── Topic: 26\n",
      "│    │         │              │    └─sicily_messina_sicilian_sicilians_us\n",
      "│    │         │              │         ├─■──sicily_sicilian_us_sicilians_peloponnese ── Topic: 28\n",
      "│    │         │              │         └─■──messina_sicily_locrian_gylippus_thence ── Topic: 100\n",
      "│    │         │              └─sun_wu_tz_chi_yu\n",
      "│    │         │                   ├─moscow_peloponnesians_samos_house_russian\n",
      "│    │         │                   │    ├─samos_alcibiades_oligarchy_confederacy_confederates\n",
      "│    │         │                   │    │    ├─■──samos_oligarchy_alcibiades_democracy_tissaphernes ── Topic: 101\n",
      "│    │         │                   │    │    └─■──confederacy_confederates_confederate_disgrace_chians ── Topic: 91\n",
      "│    │         │                   │    └─moscow_peloponnesians_house_russian_fire\n",
      "│    │         │                   │         ├─moscow_peloponnesians_russian_russians_buonaparte\n",
      "│    │         │                   │         │    ├─■──moscow_russian_russians_buonaparte_peace ── Topic: 74\n",
      "│    │         │                   │         │    └─■──peloponnesians_samians_phormio_superiority_without ── Topic: 75\n",
      "│    │         │                   │         └─■──house_fire_right_side_left ── Topic: 86\n",
      "│    │         │                   └─sun_wu_tz_chi_yu\n",
      "│    │         │                        ├─■──chariots_chariot_elephants_charioteers_swift ── Topic: 69\n",
      "│    │         │                        └─sun_wu_tz_chi_yu\n",
      "│    │         │                             ├─■──sun_wu_tz_chi_yu ── Topic: 3\n",
      "│    │         │                             └─■──spies_spy_converted_information_tu ── Topic: 31\n",
      "│    │         └─us_life_public_city_man\n",
      "│    │              ├─us_city_public_private_country\n",
      "│    │              │    ├─us_treaty_arbitration_agreement_fear\n",
      "│    │              │    │    ├─us_treaty_arbitration_agreement_shall\n",
      "│    │              │    │    │    ├─■──affair_alliance_corcyra_refusing_join ── Topic: 88\n",
      "│    │              │    │    │    └─■──us_treaty_arbitration_agreement_shall ── Topic: 57\n",
      "│    │              │    │    └─■──confidence_us_fear_neighbour_friends ── Topic: 70\n",
      "│    │              │    └─city_public_private_people_country\n",
      "│    │              │         ├─city_public_private_democracy_people\n",
      "│    │              │         │    ├─■──city_design_walled_dead_equally ── Topic: 45\n",
      "│    │              │         │    └─public_private_democracy_man_government\n",
      "│    │              │         │         ├─■──arms_council_clemency_pisander_thought ── Topic: 29\n",
      "│    │              │         │         └─public_private_democracy_government_prosperity\n",
      "│    │              │         │              ├─■──public_private_democracy_government_prosperity ── Topic: 17\n",
      "│    │              │         │              └─■──guilty_crime_guilt_justice_offenders ── Topic: 27\n",
      "│    │              │         └─■──country_dominion_locality_think_capital ── Topic: 49\n",
      "│    │              └─coffin_life_honour_man_relatives\n",
      "│    │                   ├─life_thy_man_gods_danger\n",
      "│    │                   │    ├─■──life_danger_unimpaired_generosity_arrogance ── Topic: 63\n",
      "│    │                   │    └─■──life_thy_respecting_gods_man ── Topic: 52\n",
      "│    │                   └─coffin_relatives_wine_tomb_funeral\n",
      "│    │                        ├─■──coffin_wine_tomb_funeral_fathers ── Topic: 37\n",
      "│    │                        └─■──children_relatives_women_beget_boyish ── Topic: 93\n",
      "│    └─lines_operations_napoleon_line_strategic\n",
      "│         ├─lines_operations_napoleon_strategic_line\n",
      "│         │    ├─diversions_operations_strategic_reserves_reserve\n",
      "│         │    │    ├─diversions_operations_zone_detachments_theater\n",
      "│         │    │    │    ├─■──diversions_detachments_operations_corps_zone ── Topic: 92\n",
      "│         │    │    │    └─■──operations_theater_zone_strategic_center ── Topic: 98\n",
      "│         │    │    └─■──reserves_reserve_strategic_economy_idea ── Topic: 85\n",
      "│         │    └─lines_napoleon_operations_line_strategic\n",
      "│         │         ├─■──point_decisive_strategic_points_battlefield ── Topic: 59\n",
      "│         │         └─lines_napoleon_operations_line_napoleons\n",
      "│         │              ├─lines_operations_line_strategic_double\n",
      "│         │              │    ├─■──lines_operations_line_double_strategic ── Topic: 18\n",
      "│         │              │    └─■──napoleon_line_lines_operations_strategic ── Topic: 79\n",
      "│         │              └─■──napoleon_napoleons_rivoli_order_bonaparte ── Topic: 20\n",
      "│         └─archduke_austrians_rhine_danube_charles\n",
      "│              ├─archduke_austrians_rhine_danube_charles\n",
      "│              │    ├─■──archduke_charles_austrians_vienna_moreau ── Topic: 43\n",
      "│              │    └─danube_rhine_austrians_inn_tyrol\n",
      "│              │         ├─■──austrians_inn_bavaria_vienna_hundred ── Topic: 78\n",
      "│              │         └─■──danube_rhine_ulm_bohemia_alps ── Topic: 51\n",
      "│              └─■──detour_landau_clairfayt_charleroi_darmee ── Topic: 97\n",
      "└─ships_english_french_sea_fleet\n",
      "     ├─ships_english_french_sea_fleet\n",
      "     │    ├─english_french_ships_england_fleet\n",
      "     │    │    ├─winter_summer_ended_attica_epidaurians\n",
      "     │    │    │    ├─■──ended_winter_summer_epidaurians_year ── Topic: 61\n",
      "     │    │    │    └─■──attica_peloponnesians_summer_invaded_athenians ── Topic: 67\n",
      "     │    │    └─english_french_ships_england_fleet\n",
      "     │    │         ├─athenians_hundred_athenian_heavy_infantry\n",
      "     │    │         │    ├─■──boeotians_delium_boeotia_hippocrates_dead ── Topic: 83\n",
      "     │    │         │    └─hundred_athenian_heavy_athenians_infantry\n",
      "     │    │         │         ├─■──athenians_rest_athenian_wing_garrison ── Topic: 60\n",
      "     │    │         │         └─■──hundred_heavy_thousand_infantry_athenian ── Topic: 41\n",
      "     │    │         └─english_french_ships_england_fleet\n",
      "     │    │              ├─syracusans_athenians_syracusan_gylippus_athenian\n",
      "     │    │              │    ├─■──syracusans_syracusan_athenians_gylippus_athenian ── Topic: 23\n",
      "     │    │              │    └─■──athenians_syracusans_meanwhile_megara_would ── Topic: 53\n",
      "     │    │              └─english_french_ships_england_fleet\n",
      "     │    │                   ├─athenians_lacedaemonians_athens_ships_athenian\n",
      "     │    │                   │    ├─■──athenians_lacedaemonians_athens_lacedaemon_allies ── Topic: 2\n",
      "     │    │                   │    └─■──ships_sailed_athenians_vessels_athenian ── Topic: 4\n",
      "     │    │                   └─■──english_french_england_france_ships ── Topic: 0\n",
      "     │    └─caesar_gaul_river_camp_people\n",
      "     │         ├─caesar_gaul_camp_legions_people\n",
      "     │         │    ├─caesar_gaul_legions_caesars_people\n",
      "     │         │    │    ├─■──soldiers_barbarous_baggage_valour_hardships ── Topic: 48\n",
      "     │         │    │    └─caesar_gaul_legions_caesars_people\n",
      "     │         │    │         ├─caesar_gaul_caesars_legions_people\n",
      "     │         │    │         │    ├─horse_men_horses_cavalry_woods\n",
      "     │         │    │         │    │    ├─■──horse_horses_cavalry_men_curio ── Topic: 15\n",
      "     │         │    │         │    │    └─■──men_camp_soldiers_woods_wall ── Topic: 25\n",
      "     │         │    │         │    └─■──caesar_gaul_caesars_people_legions ── Topic: 1\n",
      "     │         │    │         └─■──corn_cattle_supply_scarcity_want ── Topic: 22\n",
      "     │         │    └─wall_macedonians_alexander_city_engines\n",
      "     │         │         ├─■──macedonians_alexander_phalanx_cavalry_city ── Topic: 7\n",
      "     │         │         └─■──wall_mound_engines_towers_walls ── Topic: 14\n",
      "     │         └─river_indus_called_rivers_name\n",
      "     │              ├─bridges_river_bridge_towers_bank\n",
      "     │              │    ├─■──water_feet_ascent_morass_hill ── Topic: 46\n",
      "     │              │    └─■──bridges_bank_coblentz_bridge_river ── Topic: 42\n",
      "     │              └─river_indus_called_rivers_name\n",
      "     │                   ├─■──rivers_river_crossing_rules_passage ── Topic: 96\n",
      "     │                   └─■──river_indus_called_name_rivers ── Topic: 5\n",
      "     └─alexander_darius_arrian_alexanders_son\n",
      "          ├─alexander_darius_arrian_alexanders_son\n",
      "          │    ├─arrian_cf_heracles_hippias_hipparchus\n",
      "          │    │    ├─heracles_hippias_hipparchus_harmodius_aristogiton\n",
      "          │    │    │    ├─■──xlv_disastrous_notice__ ── Topic: 10\n",
      "          │    │    │    └─heracles_hippias_hipparchus_harmodius_aristogiton\n",
      "          │    │    │         ├─pliny_et_cappadocia_minor_asia\n",
      "          │    │    │         │    ├─■──maritza_bardylis_crateas_ariaspians_musicanus ── Topic: 6\n",
      "          │    │    │         │    └─■──pliny_et_cappadocia_minor_asia ── Topic: 64\n",
      "          │    │    │         └─heracles_hippias_hipparchus_harmodius_aristogiton\n",
      "          │    │    │              ├─■──heracles_dionysus_hercules_cadmus_son ── Topic: 62\n",
      "          │    │    │              └─■──hippias_hipparchus_harmodius_aristogiton_pisistratus ── Topic: 68\n",
      "          │    │    └─arrian_cf_photius_iliad_homer\n",
      "          │    │         ├─■──cf_arrian_homer_iliad_supra ── Topic: 55\n",
      "          │    │         └─■──arrian_photius_epictetus_cod_extant ── Topic: 36\n",
      "          │    └─darius_alexander_alexanders_persians_son\n",
      "          │         ├─darius_alexander_alexanders_persians_king\n",
      "          │         │    ├─alexander_alexanders_speech_death_callisthenes\n",
      "          │         │    │    ├─■──anabasis_alexander_juliopolis_ravi_rasalhad ── Topic: 95\n",
      "          │         │    │    └─alexander_alexanders_speech_death_callisthenes\n",
      "          │         │    │         ├─■──alexander_alexanders_speech_callisthenes_king ── Topic: 11\n",
      "          │         │    │         └─■──death_alexander_son_alexanders_died ── Topic: 66\n",
      "          │         │    └─darius_persians_alexander_persian_wife\n",
      "          │         │         ├─■──darius_persians_alexander_persian_grecian ── Topic: 19\n",
      "          │         │         └─■──darius_wife_marry_mother_alexander ── Topic: 65\n",
      "          │         └─viceroy_cavalry_shieldbearing_son_agrianians\n",
      "          │              ├─cavalry_shieldbearing_agrianians_son_guards\n",
      "          │              │    ├─■──son_cavalry_posted_parmenio_philotas ── Topic: 90\n",
      "          │              │    └─■──shieldbearing_agrianians_guards_archers_cavalry ── Topic: 80\n",
      "          │              └─viceroy_spitamenes_sogdiana_sogdianians_areians\n",
      "          │                   ├─■──viceroy_areians_stasanor_phrataphernes_land ── Topic: 77\n",
      "          │                   └─■──spitamenes_sogdiana_sogdianians_scythians_sogdianarevolt ── Topic: 73\n",
      "          └─siege_tyre_halicarnassus_myndus_massaga\n",
      "               ├─■──tyre_siege_tyrenaval_tyreconstruction_tyrians ── Topic: 84\n",
      "               └─siege_halicarnassus_massaga_myndus_mantua\n",
      "                    ├─■──siege_halicarnassus_massaga_myndus_miletus ── Topic: 82\n",
      "                    └─■──siege_mantua_buonaparte_victories_genoa ── Topic: 87\n",
      "\n"
     ]
    }
   ],
   "source": [
    "hierarchy_tree = topic_model.get_topic_tree(hierarchical_topics)\n",
    "print(hierarchy_tree)"
   ]
  }
 ],
 "metadata": {
  "kernelspec": {
   "display_name": "Python 3",
   "language": "python",
   "name": "python3"
  },
  "language_info": {
   "codemirror_mode": {
    "name": "ipython",
    "version": 3
   },
   "file_extension": ".py",
   "mimetype": "text/x-python",
   "name": "python",
   "nbconvert_exporter": "python",
   "pygments_lexer": "ipython3",
   "version": "3.12.2"
  }
 },
 "nbformat": 4,
 "nbformat_minor": 5
}
