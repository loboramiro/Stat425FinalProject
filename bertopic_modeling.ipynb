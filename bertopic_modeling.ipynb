{
 "cells": [
  {
   "cell_type": "code",
   "execution_count": 100,
   "id": "cb61b0bb",
   "metadata": {},
   "outputs": [],
   "source": [
    "import pandas as pd\n",
    "from bertopic import BERTopic\n",
    "import re\n",
    "import nltk\n",
    "from nltk.corpus import stopwords\n",
    "from nltk.tokenize import word_tokenize\n",
    "from sklearn.feature_extraction.text import CountVectorizer"
   ]
  },
  {
   "cell_type": "code",
   "execution_count": 82,
   "id": "756bf28d",
   "metadata": {},
   "outputs": [
    {
     "name": "stderr",
     "output_type": "stream",
     "text": [
      "[nltk_data] Downloading package stopwords to\n",
      "[nltk_data]     C:/Users/ramirolobo/nltk_data...\n",
      "[nltk_data]   Unzipping corpora\\stopwords.zip.\n",
      "[nltk_data] Downloading package punkt to\n",
      "[nltk_data]     C:/Users/ramirolobo/nltk_data...\n",
      "[nltk_data]   Unzipping tokenizers\\punkt.zip.\n"
     ]
    }
   ],
   "source": [
    "nltk.download('stopwords', download_dir='C:/Users/ramirolobo/nltk_data')\n",
    "nltk.download('punkt', download_dir='C:/Users/ramirolobo/nltk_data')\n",
    "nltk.data.path.append('C:/Users/ramirolobo/nltk_data')"
   ]
  },
  {
   "cell_type": "code",
   "execution_count": 107,
   "id": "912ed93c",
   "metadata": {},
   "outputs": [],
   "source": [
    "#load texts\n",
    "text_chunks = pd.read_csv(\"data/text_chunks.csv\")\n",
    "texts = text_chunks[\"text\"].tolist()"
   ]
  },
  {
   "cell_type": "code",
   "execution_count": 140,
   "id": "8b106364",
   "metadata": {},
   "outputs": [],
   "source": [
    "#define stopwords\n",
    "stop_words = set(stopwords.words('english'))\n",
    "custom_stopwords = {\n",
    "    \"chapter\", \"book\", \"section\", \"article\",\n",
    "    \"i\", \"ii\", \"iii\", \"iv\", \"v\", \"vi\", \"vii\", \"viii\",\n",
    "    \"ix\", \"x\", \"xi\", \"xii\", \"xiii\", \"xiv\", \"xv\", \"xvi\", \"xvii\",\n",
    "    \"xviii\", \"xix\", \"xx\", \"xxi\", \"xxii\", \"xxiii\", \"xxiv\", \"xxv\",\n",
    "    \"xxvi\", \"xxvii\", \"xxviii\", \"xxix\", \"xxx\", \"xxxii\", \"xxxiii\",\n",
    "    \"xxxiv\", \"xxxv\", \"xxxvi\", \"xxxvii\", \"xxxviii\", \"xxxix\", \"xl\",\n",
    "}\n",
    "all_stopwords = stop_words.union(custom_stopwords)\n",
    "\n",
    "#function to preprocess text\n",
    "def preprocess_text(text):\n",
    "    text = text.lower()\n",
    "    text = re.sub(r\"[^a-z\\s]\", \"\", text)  # remove punctuation and numbers\n",
    "    words = text.split()  # split by whitespace instead of word_tokenize\n",
    "    filtered_words = [w for w in words if w not in all_stopwords]\n",
    "    return \" \".join(filtered_words)"
   ]
  },
  {
   "cell_type": "code",
   "execution_count": 141,
   "id": "d446cc4d",
   "metadata": {},
   "outputs": [],
   "source": [
    "#apply preprocessing\n",
    "text_chunks[\"cleaned_text\"] = text_chunks[\"text\"].apply(preprocess_text)"
   ]
  },
  {
   "cell_type": "code",
   "execution_count": 142,
   "id": "928655c7",
   "metadata": {},
   "outputs": [
    {
     "data": {
      "text/html": [
       "<div>\n",
       "<style scoped>\n",
       "    .dataframe tbody tr th:only-of-type {\n",
       "        vertical-align: middle;\n",
       "    }\n",
       "\n",
       "    .dataframe tbody tr th {\n",
       "        vertical-align: top;\n",
       "    }\n",
       "\n",
       "    .dataframe thead th {\n",
       "        text-align: right;\n",
       "    }\n",
       "</style>\n",
       "<table border=\"1\" class=\"dataframe\">\n",
       "  <thead>\n",
       "    <tr style=\"text-align: right;\">\n",
       "      <th></th>\n",
       "      <th>Unnamed: 0</th>\n",
       "      <th>author</th>\n",
       "      <th>title</th>\n",
       "      <th>chunk</th>\n",
       "      <th>text</th>\n",
       "      <th>year</th>\n",
       "      <th>century</th>\n",
       "      <th>cleaned_text</th>\n",
       "    </tr>\n",
       "  </thead>\n",
       "  <tbody>\n",
       "    <tr>\n",
       "      <th>0</th>\n",
       "      <td>1</td>\n",
       "      <td>Arrian</td>\n",
       "      <td>The Anabasis of Alexander\\r\\nor, The History o...</td>\n",
       "      <td>0</td>\n",
       "      <td>the  anabasis of alexander</td>\n",
       "      <td>130</td>\n",
       "      <td>2nd c. CE</td>\n",
       "      <td>anabasis alexander</td>\n",
       "    </tr>\n",
       "    <tr>\n",
       "      <th>1</th>\n",
       "      <td>2</td>\n",
       "      <td>Arrian</td>\n",
       "      <td>The Anabasis of Alexander\\r\\nor, The History o...</td>\n",
       "      <td>1</td>\n",
       "      <td>the  anabasis of alexander</td>\n",
       "      <td>130</td>\n",
       "      <td>2nd c. CE</td>\n",
       "      <td>anabasis alexander</td>\n",
       "    </tr>\n",
       "    <tr>\n",
       "      <th>2</th>\n",
       "      <td>3</td>\n",
       "      <td>Arrian</td>\n",
       "      <td>The Anabasis of Alexander\\r\\nor, The History o...</td>\n",
       "      <td>2</td>\n",
       "      <td>or  the history of the wars and conquests of ...</td>\n",
       "      <td>130</td>\n",
       "      <td>2nd c. CE</td>\n",
       "      <td>history wars conquests alexander great</td>\n",
       "    </tr>\n",
       "    <tr>\n",
       "      <th>3</th>\n",
       "      <td>4</td>\n",
       "      <td>Arrian</td>\n",
       "      <td>The Anabasis of Alexander\\r\\nor, The History o...</td>\n",
       "      <td>3</td>\n",
       "      <td>literally translated with a commentary from th...</td>\n",
       "      <td>130</td>\n",
       "      <td>2nd c. CE</td>\n",
       "      <td>literally translated commentary greek arrian n...</td>\n",
       "    </tr>\n",
       "    <tr>\n",
       "      <th>4</th>\n",
       "      <td>5</td>\n",
       "      <td>Arrian</td>\n",
       "      <td>The Anabasis of Alexander\\r\\nor, The History o...</td>\n",
       "      <td>4</td>\n",
       "      <td>e j chinnock ma llb london  rector of dumfries...</td>\n",
       "      <td>130</td>\n",
       "      <td>2nd c. CE</td>\n",
       "      <td>e j chinnock llb london rector dumfries academy</td>\n",
       "    </tr>\n",
       "  </tbody>\n",
       "</table>\n",
       "</div>"
      ],
      "text/plain": [
       "   Unnamed: 0  author                                              title  \\\n",
       "0           1  Arrian  The Anabasis of Alexander\\r\\nor, The History o...   \n",
       "1           2  Arrian  The Anabasis of Alexander\\r\\nor, The History o...   \n",
       "2           3  Arrian  The Anabasis of Alexander\\r\\nor, The History o...   \n",
       "3           4  Arrian  The Anabasis of Alexander\\r\\nor, The History o...   \n",
       "4           5  Arrian  The Anabasis of Alexander\\r\\nor, The History o...   \n",
       "\n",
       "   chunk                                               text  year    century  \\\n",
       "0      0                       the  anabasis of alexander     130  2nd c. CE   \n",
       "1      1                         the  anabasis of alexander   130  2nd c. CE   \n",
       "2      2   or  the history of the wars and conquests of ...   130  2nd c. CE   \n",
       "3      3  literally translated with a commentary from th...   130  2nd c. CE   \n",
       "4      4  e j chinnock ma llb london  rector of dumfries...   130  2nd c. CE   \n",
       "\n",
       "                                        cleaned_text  \n",
       "0                                 anabasis alexander  \n",
       "1                                 anabasis alexander  \n",
       "2             history wars conquests alexander great  \n",
       "3  literally translated commentary greek arrian n...  \n",
       "4    e j chinnock llb london rector dumfries academy  "
      ]
     },
     "execution_count": 142,
     "metadata": {},
     "output_type": "execute_result"
    }
   ],
   "source": [
    "text_chunks.head()"
   ]
  },
  {
   "cell_type": "code",
   "execution_count": 146,
   "id": "876129eb",
   "metadata": {},
   "outputs": [
    {
     "name": "stderr",
     "output_type": "stream",
     "text": [
      "c:\\Users\\ramirolobo\\AppData\\Local\\Programs\\Python\\Python312\\Lib\\site-packages\\sklearn\\utils\\deprecation.py:151: FutureWarning:\n",
      "\n",
      "'force_all_finite' was renamed to 'ensure_all_finite' in 1.6 and will be removed in 1.8.\n",
      "\n",
      "c:\\Users\\ramirolobo\\AppData\\Local\\Programs\\Python\\Python312\\Lib\\site-packages\\sklearn\\utils\\deprecation.py:151: FutureWarning:\n",
      "\n",
      "'force_all_finite' was renamed to 'ensure_all_finite' in 1.6 and will be removed in 1.8.\n",
      "\n",
      "c:\\Users\\ramirolobo\\AppData\\Local\\Programs\\Python\\Python312\\Lib\\site-packages\\sklearn\\utils\\deprecation.py:151: FutureWarning:\n",
      "\n",
      "'force_all_finite' was renamed to 'ensure_all_finite' in 1.6 and will be removed in 1.8.\n",
      "\n",
      "c:\\Users\\ramirolobo\\AppData\\Local\\Programs\\Python\\Python312\\Lib\\site-packages\\sklearn\\utils\\deprecation.py:151: FutureWarning:\n",
      "\n",
      "'force_all_finite' was renamed to 'ensure_all_finite' in 1.6 and will be removed in 1.8.\n",
      "\n"
     ]
    }
   ],
   "source": [
    "#get vectorizer model to remove any residual stopwords\n",
    "vectorizer_model = CountVectorizer(stop_words=\"english\")\n",
    "\n",
    "#fit BERTopic model\n",
    "topic_model = BERTopic(\n",
    "    #vectorizer_model=vectorizer_model,\n",
    "    #calculate_probabilities=True,\n",
    "    #verbose=True,\n",
    "    #nr_topics=\"auto\",  # Automatically determine the number of topics\n",
    "    #language=\"english\"  # Specify the language for stopwords\n",
    ")\n",
    "\n",
    "cleaned_texts = text_chunks[\"cleaned_text\"].dropna().tolist()\n",
    "topics, probs = topic_model.fit_transform(cleaned_texts)"
   ]
  },
  {
   "cell_type": "code",
   "execution_count": 147,
   "id": "3d7315fa",
   "metadata": {},
   "outputs": [],
   "source": [
    "topics = topic_model.get_topic_info()\n",
    "#topics.to_csv(\"data/topics.csv\", index=False)"
   ]
  },
  {
   "cell_type": "code",
   "execution_count": 148,
   "id": "38dacc04",
   "metadata": {},
   "outputs": [
    {
     "data": {
      "text/html": [
       "<div>\n",
       "<style scoped>\n",
       "    .dataframe tbody tr th:only-of-type {\n",
       "        vertical-align: middle;\n",
       "    }\n",
       "\n",
       "    .dataframe tbody tr th {\n",
       "        vertical-align: top;\n",
       "    }\n",
       "\n",
       "    .dataframe thead th {\n",
       "        text-align: right;\n",
       "    }\n",
       "</style>\n",
       "<table border=\"1\" class=\"dataframe\">\n",
       "  <thead>\n",
       "    <tr style=\"text-align: right;\">\n",
       "      <th></th>\n",
       "      <th>Topic</th>\n",
       "      <th>Count</th>\n",
       "      <th>Name</th>\n",
       "      <th>Representation</th>\n",
       "      <th>Representative_Docs</th>\n",
       "    </tr>\n",
       "  </thead>\n",
       "  <tbody>\n",
       "    <tr>\n",
       "      <th>0</th>\n",
       "      <td>-1</td>\n",
       "      <td>9583</td>\n",
       "      <td>-1_army_war_one_may</td>\n",
       "      <td>[army, war, one, may, would, enemy, also, upon...</td>\n",
       "      <td>[according relations less always degree regard...</td>\n",
       "    </tr>\n",
       "    <tr>\n",
       "      <th>1</th>\n",
       "      <td>0</td>\n",
       "      <td>4458</td>\n",
       "      <td>0_english_french_england_france</td>\n",
       "      <td>[english, french, england, france, ships, flee...</td>\n",
       "      <td>[english centre rear plate accept english esti...</td>\n",
       "    </tr>\n",
       "    <tr>\n",
       "      <th>2</th>\n",
       "      <td>1</td>\n",
       "      <td>1526</td>\n",
       "      <td>1_caesar_gaul_caesars_people</td>\n",
       "      <td>[caesar, gaul, caesars, people, legions, ancie...</td>\n",
       "      <td>[assaulting gaul evidence come without invited...</td>\n",
       "    </tr>\n",
       "    <tr>\n",
       "      <th>3</th>\n",
       "      <td>2</td>\n",
       "      <td>535</td>\n",
       "      <td>2_athenians_lacedaemonians_athens_lacedaemon</td>\n",
       "      <td>[athenians, lacedaemonians, athens, lacedaemon...</td>\n",
       "      <td>[lacedaemonians may prison athens elsewhere at...</td>\n",
       "    </tr>\n",
       "    <tr>\n",
       "      <th>4</th>\n",
       "      <td>3</td>\n",
       "      <td>516</td>\n",
       "      <td>3_sun_wu_tz_chi</td>\n",
       "      <td>[sun, wu, tz, chi, yu, tsao, chang, chinese, c...</td>\n",
       "      <td>[return elder sun tz mentioned two passages sh...</td>\n",
       "    </tr>\n",
       "    <tr>\n",
       "      <th>5</th>\n",
       "      <td>4</td>\n",
       "      <td>414</td>\n",
       "      <td>4_ships_sailed_athenians_vessels</td>\n",
       "      <td>[ships, sailed, athenians, vessels, athenian, ...</td>\n",
       "      <td>[turn sailed miletus hundred eight ships wishi...</td>\n",
       "    </tr>\n",
       "    <tr>\n",
       "      <th>6</th>\n",
       "      <td>5</td>\n",
       "      <td>339</td>\n",
       "      <td>5_river_indus_called_name</td>\n",
       "      <td>[river, indus, called, name, rivers, hebrew, e...</td>\n",
       "      <td>[maeotis sea called hyrcanian reality gulf gre...</td>\n",
       "    </tr>\n",
       "    <tr>\n",
       "      <th>7</th>\n",
       "      <td>6</td>\n",
       "      <td>269</td>\n",
       "      <td>6_maritza_bardylis_crateas_ariaspians</td>\n",
       "      <td>[maritza, bardylis, crateas, ariaspians, music...</td>\n",
       "      <td>[peithagras peithn son sosicles peithon son ag...</td>\n",
       "    </tr>\n",
       "    <tr>\n",
       "      <th>8</th>\n",
       "      <td>7</td>\n",
       "      <td>228</td>\n",
       "      <td>7_macedonians_alexander_phalanx_cavalry</td>\n",
       "      <td>[macedonians, alexander, phalanx, cavalry, cit...</td>\n",
       "      <td>[macedonians besides admetus proved valiant ma...</td>\n",
       "    </tr>\n",
       "    <tr>\n",
       "      <th>9</th>\n",
       "      <td>8</td>\n",
       "      <td>195</td>\n",
       "      <td>8_divisions_battalions_columns_column</td>\n",
       "      <td>[divisions, battalions, columns, column, deplo...</td>\n",
       "      <td>[whole armies deployed skirmishers still neces...</td>\n",
       "    </tr>\n",
       "    <tr>\n",
       "      <th>10</th>\n",
       "      <td>9</td>\n",
       "      <td>192</td>\n",
       "      <td>9_military_generals_general_spirit</td>\n",
       "      <td>[military, generals, general, spirit, virtue, ...</td>\n",
       "      <td>[talents commander military virtue army nation...</td>\n",
       "    </tr>\n",
       "    <tr>\n",
       "      <th>11</th>\n",
       "      <td>10</td>\n",
       "      <td>156</td>\n",
       "      <td>10_xlv_disastrous_notice_</td>\n",
       "      <td>[xlv, disastrous, notice, , , , , , , ]</td>\n",
       "      <td>[notice, xlv, disastrous]</td>\n",
       "    </tr>\n",
       "    <tr>\n",
       "      <th>12</th>\n",
       "      <td>11</td>\n",
       "      <td>151</td>\n",
       "      <td>11_alexander_alexanders_speech_callisthenes</td>\n",
       "      <td>[alexander, alexanders, speech, callisthenes, ...</td>\n",
       "      <td>[alexanders grief clitus dispute callisthenes ...</td>\n",
       "    </tr>\n",
       "    <tr>\n",
       "      <th>13</th>\n",
       "      <td>12</td>\n",
       "      <td>146</td>\n",
       "      <td>12_theory_historical_theoretical_things</td>\n",
       "      <td>[theory, historical, theoretical, things, trut...</td>\n",
       "      <td>[chiefly results analytical investigation theo...</td>\n",
       "    </tr>\n",
       "    <tr>\n",
       "      <th>14</th>\n",
       "      <td>13</td>\n",
       "      <td>143</td>\n",
       "      <td>13_enemy_defensive_position_attack</td>\n",
       "      <td>[enemy, defensive, position, attack, advantage...</td>\n",
       "      <td>[movements advantage bringing mass troops frac...</td>\n",
       "    </tr>\n",
       "  </tbody>\n",
       "</table>\n",
       "</div>"
      ],
      "text/plain": [
       "    Topic  Count                                          Name  \\\n",
       "0      -1   9583                           -1_army_war_one_may   \n",
       "1       0   4458               0_english_french_england_france   \n",
       "2       1   1526                  1_caesar_gaul_caesars_people   \n",
       "3       2    535  2_athenians_lacedaemonians_athens_lacedaemon   \n",
       "4       3    516                               3_sun_wu_tz_chi   \n",
       "5       4    414              4_ships_sailed_athenians_vessels   \n",
       "6       5    339                     5_river_indus_called_name   \n",
       "7       6    269         6_maritza_bardylis_crateas_ariaspians   \n",
       "8       7    228       7_macedonians_alexander_phalanx_cavalry   \n",
       "9       8    195         8_divisions_battalions_columns_column   \n",
       "10      9    192            9_military_generals_general_spirit   \n",
       "11     10    156                     10_xlv_disastrous_notice_   \n",
       "12     11    151   11_alexander_alexanders_speech_callisthenes   \n",
       "13     12    146       12_theory_historical_theoretical_things   \n",
       "14     13    143            13_enemy_defensive_position_attack   \n",
       "\n",
       "                                       Representation  \\\n",
       "0   [army, war, one, may, would, enemy, also, upon...   \n",
       "1   [english, french, england, france, ships, flee...   \n",
       "2   [caesar, gaul, caesars, people, legions, ancie...   \n",
       "3   [athenians, lacedaemonians, athens, lacedaemon...   \n",
       "4   [sun, wu, tz, chi, yu, tsao, chang, chinese, c...   \n",
       "5   [ships, sailed, athenians, vessels, athenian, ...   \n",
       "6   [river, indus, called, name, rivers, hebrew, e...   \n",
       "7   [maritza, bardylis, crateas, ariaspians, music...   \n",
       "8   [macedonians, alexander, phalanx, cavalry, cit...   \n",
       "9   [divisions, battalions, columns, column, deplo...   \n",
       "10  [military, generals, general, spirit, virtue, ...   \n",
       "11            [xlv, disastrous, notice, , , , , , , ]   \n",
       "12  [alexander, alexanders, speech, callisthenes, ...   \n",
       "13  [theory, historical, theoretical, things, trut...   \n",
       "14  [enemy, defensive, position, attack, advantage...   \n",
       "\n",
       "                                  Representative_Docs  \n",
       "0   [according relations less always degree regard...  \n",
       "1   [english centre rear plate accept english esti...  \n",
       "2   [assaulting gaul evidence come without invited...  \n",
       "3   [lacedaemonians may prison athens elsewhere at...  \n",
       "4   [return elder sun tz mentioned two passages sh...  \n",
       "5   [turn sailed miletus hundred eight ships wishi...  \n",
       "6   [maeotis sea called hyrcanian reality gulf gre...  \n",
       "7   [peithagras peithn son sosicles peithon son ag...  \n",
       "8   [macedonians besides admetus proved valiant ma...  \n",
       "9   [whole armies deployed skirmishers still neces...  \n",
       "10  [talents commander military virtue army nation...  \n",
       "11                          [notice, xlv, disastrous]  \n",
       "12  [alexanders grief clitus dispute callisthenes ...  \n",
       "13  [chiefly results analytical investigation theo...  \n",
       "14  [movements advantage bringing mass troops frac...  "
      ]
     },
     "execution_count": 148,
     "metadata": {},
     "output_type": "execute_result"
    }
   ],
   "source": [
    "# top 15 topics\n",
    "topics.head(15)"
   ]
  },
  {
   "cell_type": "markdown",
   "id": "a48ea900",
   "metadata": {},
   "source": [
    "Topics seems to primarily identify authors rather than common themes between them."
   ]
  },
  {
   "cell_type": "code",
   "execution_count": 127,
   "id": "006f6a76",
   "metadata": {},
   "outputs": [
    {
     "data": {
      "text/plain": [
       "{-1: ['army sent attius away safety three first days caesar employed fortifying camp strong works bringing corn neighbouring free towns waiting rest forces within three days eighth legion came twentytwo cohorts new levies gaul three hundred',\n",
       "  'upon objects case enemy two different objects one part exclude therefore force may applicable one may serve therefore one two belligerents determined seek great decision arms high probability success',\n",
       "  'army one days rest next day sent peithon demetrius cavalry general back river command troops giving addition many battalions lightarmed infantry sufficient enterprise instructions go along bank river met fled'],\n",
       " 0: ['advantage wind english day fortyfour ships action dutch eighty many english said larger two fleets passed opposite tacks english windward tromp rear seeing dutch order battle badly formed ships two three lines overlapping',\n",
       "  'time arrived strong english squadron six shipsoftheline admiral hughes absence similar french force gave entire control sea english arrival suffren nearly three years later mean holland drawn war stations negapatam',\n",
       "  'peace existing two nations french shipsofwar thus serving spanish fleet terms treaty enemies french nation armed forces france sea land neutrals privileges neutrality course england bound accept view'],\n",
       " 1: ['exceptions joined athenians brought corn army cases even money athenians marched refused join forced case others stopped syracusans sending garrisons reinforcements meanwhile athenians moved winter quarters',\n",
       "  'spring summer following lacedaemonians athenians made armistice year athenians thinking would thus full leisure take precautions brasidas could procure revolt towns might also',\n",
       "  'terms armistice ships delivered number sixty envoys sent accordingly arrived athens spoke follows athenians lacedaemonians sent us try find way'],\n",
       " 2: ['mind nature knowledge',\n",
       "  'nature things would tedious criticism must support truths theory established point war actor obeys theoretical truths rather mind imbued regards objective inflexible laws criticism must also make use external law',\n",
       "  'theory applicable every abstract truth leaving nothing criticism place case appropriate law would ridiculous pedantry lay rule criticism must always halt turn round reaching boundaries sacred theory spirit analytical inquiry origin theory must'],\n",
       " 3: ['follow interpretation tsao kung also adopted li chuan tu mu chang yu another possible meaning set forth tu yu chia lin mei taochen wang hsi general first tyrannical towards men terror lest mutiny etc would connect sentence went',\n",
       "  'besides eleven commentators several others whose work come us sui shu mentions four namely wang ling often quoted tu yu wang tz chang tzshang chia hsu wei shen yu wu tang shu adds sun hao tung chih hsiao chi tu shu mentions ming commentator huang',\n",
       "  'ssuma chien gives following biography sun tz sun tz wu native chi state art war brought notice ho lu king wu ho lu said'],\n",
       " 4: ['rule land beyond caspian gates country beyond caucasus tanais well land beyond river bactria hyrcania hyrcanian sea also subdued scythians far desert addition river indus flows territory also hydaspes',\n",
       "  'unquestionable therefore let record indus largest rivers asia europe except ganges also indian river takes rise side mount parapamisus caucasus discharges water great sea lies near india direction south wind two',\n",
       "  'dockyards resolved leave behind fleet many ships near city patala river indus divides two streams sailed great sea mouth indus ascertain branch river easier navigate mouths river indus stades'],\n",
       " 5: ['importance renders plain distinction general line operations whole campaign strategic lines temporary change operations army besides territorial strategic lines strategic lines',\n",
       "  'strategic fronts lines defense fronts operations choice lines operations leading objective point strategic front',\n",
       "  'strategic lines points decisive points theater war objective points operations strategic lines points different kinds receive'],\n",
       " 6: ['etc mesanculon see gellius noctes atticae polybius euripides phoenissae andromache alciphron',\n",
       "  'curtius calls physician critobulus near city cos stood asclepium temple asclepius island sacred chief family asclepiadae claimed descent curtius saysigitur patefacto latius vulnere et spiculo',\n",
       "  'cltarchus cltus son bardylis'],\n",
       " 7: ['macedonians besides admetus proved valiant man first scale wall twenty shieldbearing guards killed assault occasion whole siege macedonians slain alexander gave amnesty fled refuge temple heracles among',\n",
       "  'city less strong walls attack enemy awaiting alexander drew phalanx macedonians following way right wing taken position held shieldbearing guards next extended foot companions far',\n",
       "  'macedonians alexander advanced shieldbearing guards destroyed men fought pursued fled great slaughter also made occupying city harbour regiment coenus also entered macedonians part advancing'],\n",
       " 8: ['pannonia large country ancient division europe divided upper lower comprehended betwixt illyricum danube mountains cethi parisii ancient people gaul inhabiting country',\n",
       "  'lutetia paris ancient famous city capital france river seine lygii ancient people upper germany inhabited country',\n",
       "  'nannetes ancient people gaul inhabiting country nantes g nantuates ancient people north part savoy whose'],\n",
       " 9: ['depends safety nation may confident good strategist make good chief staff army command chief required man tried qualities high character known energy united action',\n",
       "  'assistance military virtue parts genius commander whole general guide whole separate part cannot guide part military virtue must',\n",
       "  'spirit boldness always nourished different things may undertaken one virtue unknown reason considered connection army subject specially boldness general yet much say described military virtue'],\n",
       " 10: ['enemy field battle sign victory means victory strategy gains object appointed combat constitutes special signification signification certainly influence nature victory victory intended weaken enemys armed forces different thing',\n",
       "  'used occasion may require assailant must make similar efforts forces well hand soon point attack shall determined mass troops directed center upon one wing enemy upon whatever may resulting formation always bear',\n",
       "  'point victory expended many forces enemy closing account campaign gain remaining victory result called victory therefore overcoming enemy placing position must give fight counts nothing'],\n",
       " 11: ['whole armies deployed skirmishers still necessary preserve either formation lines deployed two three ranks lines battalions columns',\n",
       "  'attack cavalry column close formation column two lines columns columns single battalions',\n",
       "  'column attack divisions upon central division really line small columns threerank formation battalion four divisions twelve ranks column shown way'],\n",
       " 12: ['protected forward movements manner jourdan passed rhine dusseldorf extreme right austrians could advanced perfect safety toward main driven away french double exterior line operations left one hundred twenty thousand men',\n",
       "  'leaving austria rear russia front austria launched army one hundred thousand men bohemia upon oder probable power napoleon would ended every reason think army could regained rhine austria preferred wait till could raise four hundred',\n",
       "  'two exterior lines nevertheless three upon rhine danube army left observes lower rhine center marches upon danube switzerland flanking italy swabia occupied third army strong others three armies could concentrated valley inn eighty'],\n",
       " 13: ['speech alexander officers',\n",
       "  'alexanders grief clitus dispute callisthenes anaxarchus callisthenes opposes proposal honour alexander',\n",
       "  'must occurred bc see plutarch alex cicero tusculanae disputationes alexander said alexander like diogenes cf arrian plutarch de fortit alex p'],\n",
       " 14: ['receive part territory instead whole money territory wished marry daughter darius would marry even though darius refused commanded darius come wished experience generous treatment darius heard answer',\n",
       "  'defeat persians pursuit darius',\n",
       "  'battle arbelaflight darius defeat persians pursuit darius escape darius mediamarch alexander'],\n",
       " 15: ['plataeans observing progress mound constructed wall wood fixed upon part city wall mound erected built bricks inside took neighbouring houses timbers served bind building together prevent becoming weak advanced height',\n",
       "  'covered every thing capable protecting fire stones thrown enemy greatness works height wall towers multitude engines retarded progress works besides frequent sallies made town albici fire thrown mound turrets',\n",
       "  'ordered mound constructed quite round city sides two stades breadth feet height engines prepared brought along mound shook large extent wall mines dug various places earth drawn stealth wall fell many'],\n",
       " 16: ['', 'note upon', 'notice'],\n",
       " 17: ['design send ambassadors caesar purpose imploring pardon make advances aedui whose state ancient times protection rome caesar readily grants pardon receives excuse request aedui thought summer season one',\n",
       "  'complains caesar behalf rest gauls cruelty ariovistus marches bellovaci create diversion favour caesar intercedes bellovaci obtains pardon caesar goes rome implore aid senate without effect',\n",
       "  'declared open senate would hold degree estimation stayed rome caesars camp thus three days wasted disputes excuses besides lucius metellus one tribunes suborned caesars enemies prevent embarrass everything else caesar'],\n",
       " 18: ['ordering part legions remain pompeys camp sent back part camp taking four legions went shorter road intercept enemy marched six miles drew army pompeians observing took post mountain whose foot washed river caesar encouraged troops',\n",
       "  'ordered baggage speedily brought forth camp follow closely caesar conveyed baggage nearest hill left two legions guard pursued far time day would permit slaying three thousand rear enemy encamped alesia next day reconnoitring',\n",
       "  'fosse staying short time advancing great distance bottom hill led back forces camp third day caesar fortified camp rampart ordered cohorts left upper camp baggage removed'],\n",
       " 19: ['campaign napoleons',\n",
       "  'napoleon napoleons order battle order battle eugene turin',\n",
       "  'ratisbon napoleon napoleons order battle rear attack'],\n",
       " 20: ['gallop best cavalry charge general advanced guard composed cavalry charge',\n",
       "  'cavalry use general make cavalry depends course',\n",
       "  'armor defensive cavalry arms organization cavalry arms irregular cavalry'],\n",
       " 21: ['suspecting curio sent horse would follow sabura drew army horse foot commanded give way gradually retreat pretence fear necessary would give signal battle orders found circumstances required curio idea',\n",
       "  'turns assist horse legions marching close order came suddenly sight enemy sight barbarian horse astonished foot terrified breaking line baggage betook flight loud shout great disorder horse little',\n",
       "  'horse give ground light infantry sent legions assistance cavalry soon came mixing horse fought great courage battle time doubtful usually happens men stood enemys first charge became superior circumstance though'],\n",
       " 22: ['directly conditions preceding combat action directed destruction enemy rather fighting powers lies conception combat destruction enemys fighting power therefore always means attain object combat',\n",
       "  'true object combat sought prove special consideration point true majority cases respect important battles destruction enemys army always preponderating object war objects may mixed destruction enemys',\n",
       "  'destruction enemys military forces reality object combats objects may joined thereto objects may time predominant must therefore draw distinction destruction enemys forces principal object means'],\n",
       " 23: ['behind set light troops bring corn scheme met approbation following night drapes luterius leaving two thousand men garrison marched town rest days stay country cadurci disposed assist corn others unable',\n",
       "  'zeal aid much others boii resources great quickly consumed although army distressed greatest want corn poverty boii apathy aedui burning houses degree several days soldiers without corn',\n",
       "  'occasion war p crassus young man taken winter quarters seventh legion among andes border upon atlantic ocean scarcity corn parts sent officers cavalry several military tribunes amongst neighbouring states purpose procuring corn'],\n",
       " 24: ['passions proceeded violence parties engaged contention leaders cities provided fairest professions one side cry political equality people moderate aristocracy sought prizes public interests pretended cherish',\n",
       "  'creed part preserving form government city enjoyed utmost greatness freedom found existing democracy men sense among us knew perhaps well cause complain nothing new said',\n",
       "  'favours many instead called democracy look laws afford equal justice private differences social standing advancement public life falls reputation capacity class considerations allowed interfere merit poverty bar way'],\n",
       " 25: ['commander particular case may demand claim truly trifling one however powerfully may react political views particular cases still must always regarded modification political view object war means means must always include object conception',\n",
       "  'ask first object upon whole effort war directed order may suffice attainment political object shall find variable political object particular circumstances war',\n",
       "  'political object order secure latter political object much standard aim effort influence masses indifferent less mutual feeling hostility prevails two states causes therefore cases political object almost'],\n",
       " 26: ['regular tetes de font least lines redoubts cover rearguard natural also enemy pursuing use every effort destroy bridges retreat made bank river wooden houses may thrown stream also fireships millsa means austrians used',\n",
       "  'engagement immediately upon passage river wings must retired rested river cover bridges also defensive battle fought river rear passed defile covered leipsic finally may become natural formation resist enemy forming concave line',\n",
       "  'interest stream narrow permanent bridges operation nothing passage defile river wide crossed upon temporary military bridge maneuver extreme delicacy among precautions taken important one get parks well advanced'],\n",
       " 27: ['hostages given goodwill took right war tribute conquerors accustomed impose conquered made war upon gauls gauls upon states gaul came attack encamped forces routed',\n",
       "  'gaul number assembles also chief persons states determined leave gaul whose fidelity towards clearly discerned take rest hostages feared commotion gaul absent',\n",
       "  'assaulting gaul evidence come without invited make war merely warded come gaul roman people never time roman army go beyond frontiers province gaul said caesar desire'],\n",
       " 28: ['local spies means employing services inhabitants district tu mu says enemys country win people kind treatment use spies',\n",
       "  'converted spies getting hold enemys spies using purposes',\n",
       "  'hence use spies five classes local spies inward spies converted spies doomed spies surviving spies five kinds spy work none discover'],\n",
       " 29: ['second reciprocal action leads second extreme second reciprocal action utmost exertion powers',\n",
       "  'resources effect best increasing means far possible adversary therefore new mutual enhancement pure conception must create fresh effort towards extreme third case reciprocal action third extreme meet third reciprocal action',\n",
       "  'pushed utmost bounds one side dictates law arises sort reciprocal action logically must lead extreme first reciprocal action first extreme meet first reciprocal action'],\n",
       " 30: ['hurried march rearguard arranged shall reached position front bridge last main body passed suitable moment relieving rearguard fresh troops strongly posted rearguard pass intervals fresh troops position cross',\n",
       "  'order posting fresh troops support relieve rearguard causing intelligent officers examine select positions rearguard may advantageously halt engage enemy check pursuit thus gain time making provision advance movement trains nothing shall left behind',\n",
       "  'rearguard retreat rearguards retreat'],\n",
       " 31: ['history greece vol p son neoptolemus alexanders death meleager resisted claim perdiccas regency associated office however soon afterwards put death order',\n",
       "  'perdiccas son orontes macedonian one alexanders distinguished generals king said deathbed taken royal signet finger given perdiccas alexanders death appointed regent',\n",
       "  'preferable claim macedonian throne son philips elder brother perdiccas amyntas put death alexander soon accession cyna put death alcetas order perdiccas regent alexanders death see diodorus'],\n",
       " 32: ['authorized treat subject resigned whole management war matters pompey order council acquainted caesars demands would transmit pompey would conclude persuasions meantime let truce',\n",
       "  'lay arms let fears removed city let free elections whole republic resigned direction senate roman people things might easily performed conditions secured confirmed oath either let pompey come caesar allow caesar go might',\n",
       "  'private nature pompey pompey wished clear caesar lest impute actions republic design affronting ever preferred interest state private connections caesar honour ought sacrifice desires resentment'],\n",
       " 33: ['xxvii connection intrenched camps tetes de ponts strategy',\n",
       "  'mutually support needless state works particularly important enemys country upon fronts permanent works may observed principal difference system intrenched camps tetes de ponts best intrenched camps composed',\n",
       "  'attack positions intrenched camps coups de main'],\n",
       " 34: ['restore tomb cyrus put coffin parts body still preserved put lid restore parts coffin defaced moreover instructed stretch couch tight bands deposit things used lie ornament resembling former ones',\n",
       "  'roof door leading within narrow even small man could difficulty enter suffering much discomfort building lay golden coffin body cyrus buried side coffin couch feet gold wrought hammer carpet babylonian tapestry',\n",
       "  'ceremony bones dead laid tent erected friends bring relatives offerings please funeral procession cypress coffins borne cars one tribe bones deceased placed coffin tribe among carried one empty bier decked'],\n",
       " 35: ['tend effeminate mind nearest germans dwell beyond rhine continually waging war reason helvetii also surpass rest gauls valour contend germans almost daily battles either repel territories wage',\n",
       "  'provoked war lest despairing safety either proceed conceal territories menapii driven coalesce germans beyond rhine entered upon resolution sends baggage whole army labienus territories treviri orders two legions',\n",
       "  'menapii addition germans side rhine arms senones assemble according command concerting measures carnutes neighbouring states germans importuned treviri frequent embassies thought ought take measures war'],\n",
       " 36: ['kinds extermination intervention intervention essentials wars intervention military chances',\n",
       "  'intervention instances kinds reasons wars',\n",
       "  'wars intervention'],\n",
       " 37: ['another lost work arrian life death epictetus mentioned simplicius beginning commentary enchiridion',\n",
       "  'life writings arrian know arrian derived notice',\n",
       "  'another work arrian twelve books distinct mentioned photius title friendly conversations epictetus fragments survive'],\n",
       " 38: ['hippostratus cavalry companions supreme command philotas son parmenio phalanx macedonian infantry nearest cavalry posted first select corps shieldbearing guards rest shieldbearingguards command nicanor son parmenio next',\n",
       "  'amyntas son arrhabaeus cavalry carrying long pike paeonians squadron socrates posted near philotas close posted companions shieldbearing infantry command nicanor son parmenio next brigade perdiccas son orontes coenus son',\n",
       "  'bound fetters alexander heard gave army rest marched slowly despatched ptolemy son lagus head three troops companion cavalry horselancers infantry brigade philotas one regiment shieldbearing guards agrianians'],\n",
       " 39: ['use cf homer iliad aristophanes wasps cf arrian supra',\n",
       "  'sons east cf arrian supra cf herodotus',\n",
       "  'cf supra cf arrian indica cf curtius diodorus latter says'],\n",
       " 40: ['disputes shall decided fair impartial arbitration agreeably customs two countries rest cities peloponnese may included treaty alliance independent sovereign full enjoyment',\n",
       "  'wait disaster discuss matter yet means misguided far see accordingly still open us choose aright bid dissolve treaty break oaths differences settled arbitration according agreement else',\n",
       "  'shall mutually submit differences legal settlement shall meanwhile keep yet lacedaemonians never yet made us offer never yet would accept us offer contrary wish complaints settled war instead negotiation end find dropping'],\n",
       " 41: ['two provinces west macedonia two divisions epirus town penus hestiaeotis',\n",
       "  'thessalonica chief city macedonia called salonichi thracia large country europe eastward macedonia commonly called romania bounded euxine aegean seas',\n",
       "  'macedonia'],\n",
       " 42: ['impending war investigation imposed one hundred hostages delivers aedui held charge place carnutes send ambassadors hostages employing mediators remi whose protection receive answers caesar concludes council imposes',\n",
       "  'flight send ambassadors caesar promise surrender perform commands entreat protect mandubratius violence cassivellaunus send state one preside possess government caesar demands forty hostages corn army',\n",
       "  'countrymen prepare hostages ambassadors flock states waiting issue war bellovaci give hostages receive orders except comius whose fears restrained entrusting safety persons honour year caesar holding'],\n",
       " 43: ['turkey russia two kinds wars advantageous invasions diplomacy',\n",
       "  'invasions across extensive territories invasions maxim invasions aid ally distribution troops line battle',\n",
       "  'grand invasions distant expeditions several kinds distant expeditions first merely auxiliary belong wars intervention'],\n",
       " 44: ['booths rampart opportunity retreating within camp men anticipating perplexed sudden affair cohort outpost scarcely sustains first attack enemy spread sides ascertain could find access men difficulty defend gates',\n",
       "  'slain great many pursued eagerly lost men enemy time elapsed men guard occupied fortification camp rushed woods making attack upon placed duty camp fought determined manner two cohorts',\n",
       "  'men took nothing arms provisions two days marching whole night till noon next day gave army short rest went night day began break reached camp bagistanes set meet catch enemy however regard'],\n",
       " 45: ['xxvi', 'xxvi', 'xxvi'],\n",
       " 46: ['first corps division st division',\n",
       "  'first corps division st division',\n",
       "  'first corps division st division'],\n",
       " 47: ['galatia country asia minor lying cappadocia pontus paphlagonia called chiangare galba sergius sent nantuates veragrians seduni g barbarians attack camp unexpectedly repulsed',\n",
       "  'nec contrectare aliquam voluit nec videre alexandrum imitatus et africanum qui haec declinabant ne frangeretur cupiditate qui se invictos laboribus ubique praestiterunt thapsacus understood identical city called',\n",
       "  'gadeira gades phoenician colony name hebrew fence cf pliny appellant poeni gadir ita punica lingua septum significante also avienus ora maritima punicorum lingua conseptum locum gaddir vocabat according pliny suetonius paulinus first roman'],\n",
       " 48: ['honour soldiers us already carried rewards labours preeminence zealous rest serve thee things going speak behalf bulk army behalf army going say may gratifying men consider',\n",
       "  'loudly calling individual comrade relative could see hanging upon necks tentfellows act departure following far could bodily strength failed calling upon heaven shrieking aloud left behind whole army',\n",
       "  'stature incredible valour practice arms ofttimes encountering could bear even countenance fierceness eyesso great panic sudden seized whole army discompose minds spirits slight degree first arose tribunes soldiers prefects'],\n",
       " 49: ['control often makes prolongation resistance individual units punishment certain suffer injurious useful whole spirit mass broken original excitement losing winning danger forgotten spent majority danger appears longer appeal',\n",
       "  'events lose moment preparing generally war remember contempt assailant best shown bravery action present best course accept preparations fear inspires giving surest promise safety act danger real',\n",
       "  'danger sanguine wont attempt less justified power mistrust even sanctioned judgment fancy danger release promptitude side procrastination never home never hope'],\n",
       " 50: ['night fighting manner conducting combat night concerns',\n",
       "  'would lost night rule puts end battles night combat holds hope advantage except particular circumstances night better suited retreat day therefore',\n",
       "  'follows assailant combat night feels want eyes much defender therefore particular reasons make night attack advisable'],\n",
       " 51: ['plan accordingly day following set forces long circuit difficult narrow road dyrrachium hoping either pompey would compelled follow dyrrachium communication might cut deposited provisions materiel',\n",
       "  'old camp opposite asparagium kept soldiers close within entrenchments ordered horse sent pretence foraging retire immediately camp decuman gate pompey like manner completed days march took post old camp asparagium soldiers',\n",
       "  'support one another drew field eighty cohorts making total twentytwo thousand men left two cohorts guard camp gave command left wing antonius right p sulla centre cn domitius took post opposite pompey time fearing disposition'],\n",
       " 52: ['summary art war', 'summary art war', 'art war'],\n",
       " 53: ['effect revolution thither also came stasanor viceroy areians zarangians accompanied pharismanes son phrataphernes viceroy parthians hyrcanians came also generals left parmenio army media cleander sitalces heracon bringing greater',\n",
       "  'meantime coenus returned alexander nautaca also craterus phrataphernes viceroy parthians stasanor viceroy areians executing orders alexander given king caused army rest around nautaca midwinter despatched phrataphernes land',\n",
       "  'phrataphernes viceroy parthia stasanor sent land areians arrest arsames brought chains also barzanes bessus appointed viceroy land parthians others time joined bessus revolt time arrived'],\n",
       " 54: ['whole force french one hundred fifteen thousand men scattered frontier one hundred forty leagues divided five corps darmee could make good defense paralyze prevent concentration necessary attack center political reasons also',\n",
       "  'destroying capturing fortresses allies informed commanders fortresses contemplated wrong france forts brave armies marched paris two hundred thousand men might restored monarchy might never returned least without protection',\n",
       "  'might destroyed french army instead suffering case total defeat general stockach attacked mass sixty thousand men four small bodies troops much separated unable give mutual aid would known take proper advantage wide detour effected presence way'],\n",
       " 55: ['requested would contented punishment enemy possessed power inflict engagement yet uninjured persuaded usual clemency mercy never would inflicted power bellovaci crushed cavalry action many thousands',\n",
       "  'agreeably clemency humanity heard others resolve aduatuci spared would deprive arms neighbours enemies envied courage could defend arms delivered better',\n",
       "  'outstretched arms prostrating ground tears implored mercy comforted bade rise spoken words clemency alleviate fears pardoned gave orders soldiers injury done nothing taken used'],\n",
       " 56: ['ambarri people gaul uncertain complain caesar ravages committed territories helvetii g ambialites people gaul lamballe bretagne others take',\n",
       "  'ambibari people gaul inhabiting ambie normandy ambiorix artful speech sabinus cotta g caesar marches g ravages lays waste territories ibid endeavours vain get hands ibid',\n",
       "  'aedui autunois people gaul near autun country called lower burgundy complain caesar ravages committed territories helvetii g join petition ariovistus ibid head one two leading factions gaul g caesar quiets intestine'],\n",
       " 57: ['operations detachments army may send important bearing success campaign duty determining strength proper occasions one greatest delicate responsibilities imposed upon commander nothing useful war strong detachment opportunely sent',\n",
       "  'surrounding circumstances reasonable rules subject send detachments possible recall thorn immediately duty performed inconveniences necessarily attending may made practicable giving judicious carefullyprepared instructions commanders',\n",
       "  'must also call attention xxviii upon great detachments necessary evils managed great care may prove ruinous best armies essential rules point make detachments possible readily movable'],\n",
       " 58: ['tyrians greeks worship herodotus says egyptians considered heracles one twelve gods athenians worshipped different dionysus son zeus core mystic chant called iacchus sung dionysus ligaturee theban also think heracles honoured',\n",
       "  'reason demand tyre existed temple heracles ancient mentioned history dedicated argive heracles son alcmena heracles honoured tyre many generations cadmus set phoenicia occupied thebes',\n",
       "  'heracles son alexander heracles hercules'],\n",
       " 59: ['strategic defense mountainous countries stollhofen lines',\n",
       "  'mountainous country presents combinations war four different aspects may whole theater war may zone may mountainous throughout whole extent',\n",
       "  'offensive mountainous country also presents double case may either directed upon belt mountains beyond extensive plains whole theater may mountainous'],\n",
       " 60: ['h ttttttttttttt c tttttttttttttt',\n",
       "  'b tttttttttttttttttttttttttttttttttttttttt',\n",
       "  'tttttttttttttttttttttttttttttttttttttttt'],\n",
       " 61: ['siege tyre',\n",
       "  'siege tyre',\n",
       "  'siege tyre siege tyrenaval defeat tyrians b siege tyre'],\n",
       " 62: ['footnotes footnote every battle one party must assailant assailed every battle hence offensive one party',\n",
       "  'footnotes footnote refer intrenched camps make great difference treated xxvii',\n",
       "  'footnotes footnote account two battles see chapters treatise grand military operations'],\n",
       " 63: ['gained gave nearly certainty taking capital russians would condition fight second battle within eight days seemed highest degree improbable moscow hoped find peace doubt complete dispersion russian army would made peace much certain still first',\n",
       "  'reach moscow take central capital means superiority succeeded completely defeating russian army would probability concluded peace moscow way much less attainable example used explain idea prove would require circumstantial',\n",
       "  'consideration get moscow get force appear dictator capital empire government force brought moscow longer sufficient shown sequel would still less scattering russian army'],\n",
       " 64: ['abandon blockade march towards caesar forces armed men cicero opportunity afforded begs vertico gaul mentioned convey back letter caesar advises perform journey warily writes letter enemy departed',\n",
       "  'tribunes fled protection called legions winter quarters ordered follow thither came lucius caesar young man whose father lieutenant general caesar concluding rest speech stating purpose come told caesar commands',\n",
       "  'circulated caesar defeated forced flee lost almost forces reports made roads dangerous drawn states alliance whence happened messengers despatched caesar several different roads domitius domitius caesar able means'],\n",
       " 65: ['infantry cavalry chariots elephants curtius says infantry chariots elephants krgers reading instead',\n",
       "  'therefore chariot fighting ten chariots taken rewarded took first flags substituted enemy chariots mingled used conjunction captured soldiers',\n",
       "  'sun tz said operations war field thousand swift chariots many heavy chariots hundred thousand mailclad soldiers'],\n",
       " 66: ['capital never planting land could tell invader might come take away come walls stop thinking necessities daily sustenance could supplied one place well another cared little shifting habitation consequently neither',\n",
       "  'continents political condition central american tropical south american states unstable cause constant anxiety maintenance internal order seriously interfere commerce peaceful development resources long asto use familiar expressionthey hurt one',\n",
       "  'civilization means communication multiply roads opened rivers bridged foodresources increased operations war become easier rapid extensive principles must conformed remain march foot replaced carrying troops coaches latter turn gave place'],\n",
       " 67: ['reserves intended serve supports one strategic point concentration several corps widely extended cantonments c c see necessity arrangements may constantly arise may consider something like small change strategic economy whilst capital battles',\n",
       "  'reserves particularly useful configuration country leads double fronts operations fulfill double object observing second front case necessity aiding operations main army enemy threatens flanks reverse compels fall back toward reserve',\n",
       "  'reserves play important part modern warfare executive prepares national reserves chief platoon skirmishers every commander desires reserve wise government always provides good reserves armies general uses'],\n",
       " 68: ['sand though heat sun already scorching necessary reach water halting far journey alexander though oppressed thirst nevertheless great pain difficulty leading army foot soldiers usual case might',\n",
       "  'pursuit keen fatiguing account excessive heat entire army seized thirst alexander riding drank water procurable country seized incessant diarrha water bad reason could pursue scythians otherwise think',\n",
       "  'sweep away royal baggage well beasts burden still remaining soldiers great exertions hardly able save together weapons many lost beyond recovery enduring burning heat thirst lighted upon abundance water many perished drinking'],\n",
       " 69: ['body meanwhile waste away long distemper height held marvel ravages succumbed cases seventh eighth day internal inflammation still strength passed stage disease descended',\n",
       "  'attendance friends houses even members family last worn moans dying succumbed force disaster yet recovered disease sick dying found compassion knew experience fear',\n",
       "  'pain soon reached chest produced hard cough fixed stomach upset discharges bile every kind named physicians ensued accompanied great distress cases also ineffectual retching followed producing violent spasms cases ceased soon others much later'],\n",
       " 70: ['war general carl von clausewitz translated colonel jj graham st edition translation london',\n",
       "  'author work translated general carl von clausewitz born burg near magdeburg entered prussian army fahnenjunker ie ensign served campaigns rhine seems devoted time',\n",
       "  'war general carl von clausewitz'],\n",
       " 71: ['royal diary gives following account effect revelled drank dwelling medius rose took bath slept supped house medius drank till far night retiring drinking party took bath took little food slept',\n",
       "  'suffer fever notwithstanding summoned officers gave instructions things ready starting fleet evening took bath ill next day transferred house near swimmingbath offered prescribed sacrifices though',\n",
       "  'bed fever raged whole night without intermission next day took bath offered sacrifice gave orders nearchus officers voyage begin third day next day bathed offered prescribed sacrifices performing sacred rites yet cease'],\n",
       " 72: ['subdued war came bringing youths growing manhood number age alexander called epigoni successors accoutred macedonian arms exercised military discipline macedonian system arrival said vexed macedonians thought',\n",
       "  'undergoing labours numerous greater exploits achieved thee commander started home thee advantageous seem end put labours dangers thou thyself seest many macedonians greeks started thee',\n",
       "  'military service either age maimed limbs said would send back abodes also promised give went back much would make special objects envy home arouse macedonians wish share similar dangers labours alexander said'],\n",
       " 73: ['would take reverse front operations expose line retreat cut supporting army well base force upon main campaign first objective point napoleon fall upon right melas saintbernard seize line communications hence',\n",
       "  'near mont st jean audaciously took last triumphed application interior strategic lineswhich napoleon perhaps first time life neglected readily seen line followed gembloux wavre mont st jean neither line operations prussian army line battle',\n",
       "  'napoleon choose line operations right leading seashore toward nice savona center leading montcenis toward turin left leading line communications melas way saintbernard simplon first two directions nothing favor'],\n",
       " 74: ['result operations illustration fig',\n",
       "  'illustration fig c',\n",
       "  'illustration fig'],\n",
       " 75: ['took shieldbearing guards bowmen agrianians peithons brigade men called foot companions horse bowmen half cavalry companions marched tract country destitute water mallians tribe independent indians first day encamped near',\n",
       "  'following distribution army placed board ships shieldbearing guards archers agrianians bodyguard cavalry craterus led part infantry cavalry along right bank hydaspes along bank hephaestion advanced head',\n",
       "  'wounded within stronghold upon right wing posted guard cavalry cavalry regiment clitus next shieldbearing guards agrianians towards left stationed perdiccas regiment cavalry battalions foot companions archers divided two parts'],\n",
       " 76: ['without either giving ground meanwhile occurred claps thunder lightning heavy rain fail add fears party fighting first time little acquainted war experienced adversaries phenomena appeared produced time year much',\n",
       "  'tightly stitched night furious storm rain occurred preparations attempt cross rendered still unobserved since noise thunder storm drowned din clatter weapons noise arose orders given officers',\n",
       "  'found present conditions lessons history respect valueless careful consideration distinguishing characteristics lee weather gage directed essential features disregarding secondary details show mistake distinguishing feature'],\n",
       " 77: ['powers provisions thus acquired collected points convenient operations army order husband troops may quartered towns villages taking care reimburse inhabitants extra charge thus laid upon inhabitants also required furnish wagons convey',\n",
       "  'roads necessary collect vehicles country insure good treatment owners drivers vehicles arranged parks different points take drivers far homes order husband successive resources lastly soldier must habituated carry',\n",
       "  'restricting troops within distance depots dependent upon means transportation rations could carry number days necessary wagons go depots return camp'],\n",
       " 78: ['siege might disturbed without done napoleon mantua russians varna experience proved best way cover siege beat pursue far possible enemys forces could interfere',\n",
       "  'et seq time buonaparte could adopted course th july without quite giving idea siege mantua impossible save siege train could',\n",
       "  'army collected tyrol raise siege mantua commits error marching two bodies separated lake lightning quicker napoleon raises siege abandons every thing mantua throws greater part force upon first column debouches brescia beats forces back'],\n",
       " 79: ['anabasis alexander', 'anabasis alexander', 'anabasis alexander'],\n",
       " 80: ['xxvi siege massaga',\n",
       "  'siege halicarnassus',\n",
       "  'siege capture miletus siege halicarnassusabortive attack myndus'],\n",
       " 81: ['world prevent descents thirty forty thousand men except secondrate powers extremely difficult find transportation one hundred one hundred fifty thousand men immense trains artillery munitions cavalry c',\n",
       "  'bodies observation detached central mass hold check two armies one hundred thirtyfive thousand must strong eighty ninety thousand magnitude drawn serious engagement',\n",
       "  'thirty thirtyfive thousand men would sure defeating successively central mass four hundred thousand strong three armies one hundred thirtyfive thousand several good reasons'],\n",
       " 82: ['consequently even tactical one confusion ideas transferred real life would see memorable instance call mind prussia left reserve men cantoned mark prince eugene wurtemberg could possibly reach saale time use',\n",
       "  'special case easily outlives continues whilst circumstances imperceptibly change theory prevent lucid rational criticism year prussian generals prince louis saalfeld tauentzien dornberg near jena grawert ruechel behind kappellendorf threw',\n",
       "  'conscientiously studied understood army even prussian work ultimate foundation every drill regulation europe except reared ceaseless repetition fundamental ideas onehalf male population every continental nation subjected'],\n",
       " 83: ['quem euripum tot motus tantas tam varias habere putatis agitationes fluctuum quantas perturbationes et quantos aestus habet ratio comitiorum aristotle ethica nicomachea',\n",
       "  'sapiens dictum qui callisthenem sectatorem et propinquum suum ad regem alexandrum mittens ei saepe mandabat ut quam rarissime et jucunde apud hominem loqueretur vitae potestatem et necis acie linguae portantem',\n",
       "  'ungulas tantum mularum repertas neque aliam ullam materiam quae non perroderetur veneno stygis aquae cum id dandum alexandro magno antipater mitteret dignum memoria est magna aristotelis infamia excogitatum'],\n",
       " 84: ['alexander finished operations among sogdianians possession rock advanced land paraetacians many barbarians said holding another rock strongly fortified place country',\n",
       "  'royal mantle shield brought back alexander heard sent leonnatus one companions injunctions tell themdarius still alive flight left arms mantle chariot things alexander leonnatus entered tent',\n",
       "  'informed left land ruled fled porus hostilities subsisted alexander porus sent envoys alexander offering surrender land subject rather enmity porus friendship alexander ascertained'],\n",
       " 85: ['voyage hydaspes continued',\n",
       "  'voyage hydaspes voyage hydaspes continued',\n",
       "  'voyage hydaspes acesines'],\n",
       " 86: ['drawing near raised siege citadel retired capital sogdiana pharnuches generals eager drive altogether followed retreating towards frontiers sogdiana without due consideration made joint attack upon nomad scythians spitamenes received',\n",
       "  'subjugation sogdianarevolt spitamenes defeat death spitamenes oxyartes besieged sogdian rock',\n",
       "  'better able fight way coming bagae fortified place sogdiana situated confines countries sogdianians massagetian scythians easily persuaded scythian horsemen join invasion sogdiana easy matter induce scythians engage one war another'],\n",
       " 87: ['exceedingly delicate character essential thing keep bridges safe effecting passage general throw mass forces toward right left view taking possession decisive point driving enemy back upon river whilst latter collecting forces',\n",
       "  'concentrated general means taking passage front perpendicular river would better pass upon one extremities order throw enemy bridges referred upon passage rivers',\n",
       "  'river best position passage crossing presence enemy order battle passage rivers eventual lines defense'],\n",
       " 88: ['unable contain intentions betrayed conduct trifles ambition looked one day enact grander scale also made difficult access displayed violent temper every one without exception one could come near indeed principal reason confederacy went',\n",
       "  'distant expeditions conquest object hear nothing among hellenes union subject cities round great state spontaneous combination equals confederate expeditions fighting consisted merely local warfare rival neighbours nearest approach coalition took place old',\n",
       "  'cut twain southern confederacy mastering course mississippi political results would even important military early stage war spirit independence far general bitter would cut offin new englandthan new york'],\n",
       " 89: ['examples strategy general strategy elements strategy',\n",
       "  'strategy general strategy',\n",
       "  'fortune gains victories grand tactics art making good combinations preliminary battles well progress guiding principle tactical combinations strategy bring mass'],\n",
       " 90: ['noses chi prisoners place front rank fight us would undoing city side informed speech acted suggestion within city enraged seeing fellowcountrymen thus mutilated fearing lest',\n",
       "  'yesterday came reinforce city ambraciots herald heard knew reinforcement city destroyed broke wailing stunned magnitude present evils went away without performed errand asking dead bodies indeed',\n",
       "  'acted information received forestalled arresting prisoners city would betrayed citizens went far sleep one night armed temple theseus within walls friends also alcibiades argos time suspected design attack commons argive hostages'],\n",
       " 91: ['cavalry posted sent thessalian cavalry thither speed ordering ride along front whole array lest seen enemy shifting ground proceed stealth rear phalanx front cavalry right posted lancers',\n",
       "  'sogdianian arachotian zarangian arian parthian horsemen well persian horsemen called evacae distributed among squadrons companion cavalry many least seen excel reputation fineness stature good quality fifth cavalry division added',\n",
       "  'captain called leugaean command pantordanus son cleander proceed centre right without seen also marched archers part agrianians grecian mercenaries along right front extended phalanx beyond wing persians'],\n",
       " 92: ['officers general must act concert officers duties defined officers duty offensive war officers inspect materiel officers summary duties',\n",
       "  'includes small part duties staff officers retain term must understand greatly extended developed signification embrace duties ordinary staff officers generalsinchief',\n",
       "  'appears said old term logistics insufficient designate duties staff officers real duties corps officers attempt made instruct proper manner performance']}"
      ]
     },
     "execution_count": 127,
     "metadata": {},
     "output_type": "execute_result"
    }
   ],
   "source": [
    "topic_model.get_representative_docs(topics)"
   ]
  },
  {
   "cell_type": "code",
   "execution_count": 149,
   "id": "7f35c082",
   "metadata": {},
   "outputs": [],
   "source": [
    "#topics over time\n",
    "timestamps = text_chunks['year'].tolist()\n",
    "topics_over_time = topic_model.topics_over_time(texts, timestamps=timestamps, nr_bins=7, global_tuning=False)"
   ]
  },
  {
   "cell_type": "code",
   "execution_count": 150,
   "id": "ee55c9b4",
   "metadata": {},
   "outputs": [
    {
     "data": {
      "application/vnd.plotly.v1+json": {
       "config": {
        "plotlyServerURL": "https://plot.ly"
       },
       "data": [
        {
         "hoverinfo": "text",
         "hovertext": [
          "<b>Topic 0</b><br>Words: ships, sea, crews, vessels, harbour",
          "<b>Topic 0</b><br>Words: ships, harbour, fleet, island, wind",
          "<b>Topic 0</b><br>Words: english, french, england, france, fleet"
         ],
         "marker": {
          "color": "#E69F00"
         },
         "mode": "lines",
         "name": "0_english_french_england_france",
         "type": "scatter",
         "x": [
          -502.39,
          -158.571,
          1548.571
         ],
         "y": [
          183,
          208,
          4067
         ]
        },
        {
         "hoverinfo": "text",
         "hovertext": [
          "<b>Topic 1</b><br>Words: casinum, scouting, mustered, aids, th",
          "<b>Topic 1</b><br>Words: caesar, gaul, caesars, people, legions",
          "<b>Topic 1</b><br>Words: rhine, roman, germany, corunna, institutions"
         ],
         "marker": {
          "color": "#56B4E9"
         },
         "mode": "lines",
         "name": "1_caesar_gaul_caesars_people",
         "type": "scatter",
         "x": [
          -502.39,
          -158.571,
          1548.571
         ],
         "y": [
          15,
          1478,
          33
         ]
        },
        {
         "hoverinfo": "text",
         "hovertext": [
          "<b>Topic 2</b><br>Words: athenians, lacedaemonians, athens, lacedaemon, allies",
          "<b>Topic 2</b><br>Words: greeks, greece, consternation, among, cretans"
         ],
         "marker": {
          "color": "#009E73"
         },
         "mode": "lines",
         "name": "2_athenians_lacedaemonians_athens_laceda...",
         "type": "scatter",
         "x": [
          -502.39,
          -158.571
         ],
         "y": [
          506,
          29
         ]
        },
        {
         "hoverinfo": "text",
         "hovertext": [
          "<b>Topic 3</b><br>Words: sun, wu, tz, chi, yu",
          "<b>Topic 3</b><br>Words: page, read, note, butler, tanner",
          "<b>Topic 3</b><br>Words: copyright, typographical, document, mahan, corrected"
         ],
         "marker": {
          "color": "#F0E442"
         },
         "mode": "lines",
         "name": "3_sun_wu_tz_chi",
         "type": "scatter",
         "x": [
          -502.39,
          -158.571,
          1548.571
         ],
         "y": [
          481,
          20,
          15
         ]
        },
        {
         "hoverinfo": "text",
         "hovertext": [
          "<b>Topic 4</b><br>Words: ships, athenians, sailed, vessels, athenian",
          "<b>Topic 4</b><br>Words: pharnabazus, meros, proteas, cos, ships",
          "<b>Topic 4</b><br>Words: kertch, traps, marmora, balaklava, sardinians"
         ],
         "marker": {
          "color": "#D55E00"
         },
         "mode": "lines",
         "name": "4_ships_sailed_athenians_vessels",
         "type": "scatter",
         "x": [
          -502.39,
          -158.571,
          1548.571
         ],
         "y": [
          393,
          19,
          2
         ]
        },
        {
         "hoverinfo": "text",
         "hovertext": [
          "<b>Topic 5</b><br>Words: river, flows, oeniadae, scombrus, achelous",
          "<b>Topic 5</b><br>Words: indus, river, called, name, rivers",
          "<b>Topic 5</b><br>Words: syria, saliency, attainedcheaply, outlying, possessionno"
         ],
         "marker": {
          "color": "#0072B2"
         },
         "mode": "lines",
         "name": "5_river_indus_called_name",
         "type": "scatter",
         "x": [
          -502.39,
          -158.571,
          1548.571
         ],
         "y": [
          8,
          327,
          4
         ]
        },
        {
         "hoverinfo": "text",
         "hovertext": [
          "<b>Topic 6</b><br>Words: sweetest, smile, sings, scios, songs",
          "<b>Topic 6</b><br>Words: maritza, bardylis, crateas, ariaspians, musicanus",
          "<b>Topic 6</b><br>Words: ulm, duquesnes, hohenfriedberg, xli, herberts"
         ],
         "marker": {
          "color": "#CC79A7"
         },
         "mode": "lines",
         "name": "6_maritza_bardylis_crateas_ariaspians",
         "type": "scatter",
         "x": [
          -502.39,
          -158.571,
          1548.571
         ],
         "y": [
          2,
          258,
          9
         ]
        },
        {
         "hoverinfo": "text",
         "hovertext": [
          "<b>Topic 7</b><br>Words: alexicles, aristarchus, arrhabaeus, piraeus, macedonians",
          "<b>Topic 7</b><br>Words: macedonians, alexander, phalanx, cavalry, city",
          "<b>Topic 7</b><br>Words: refining, decatur, farnese, fontenoy, madehow"
         ],
         "marker": {
          "color": "#E69F00"
         },
         "mode": "lines",
         "name": "7_macedonians_alexander_phalanx_cavalry",
         "type": "scatter",
         "x": [
          -502.39,
          -158.571,
          1548.571
         ],
         "y": [
          5,
          219,
          4
         ]
        },
        {
         "hoverinfo": "text",
         "hovertext": [
          "<b>Topic 8</b><br>Words: footmen, sciritae, chariot, four, enomoty",
          "<b>Topic 8</b><br>Words: breadth, stadium, stadia, kallisthenes, stand",
          "<b>Topic 8</b><br>Words: battalions, divisions, columns, column, deployed"
         ],
         "marker": {
          "color": "#56B4E9"
         },
         "mode": "lines",
         "name": "8_divisions_battalions_columns_column",
         "type": "scatter",
         "x": [
          -502.39,
          -158.571,
          1548.571
         ],
         "y": [
          7,
          2,
          186
         ]
        },
        {
         "hoverinfo": "text",
         "hovertext": [
          "<b>Topic 9</b><br>Words: spirit, hearkens, generals, recklessly, governing",
          "<b>Topic 9</b><br>Words: xxixhowever, haughtiness, contriving, equites, council",
          "<b>Topic 9</b><br>Words: military, general, generals, virtue, spirit"
         ],
         "marker": {
          "color": "#009E73"
         },
         "mode": "lines",
         "name": "9_military_generals_general_spirit",
         "type": "scatter",
         "x": [
          -502.39,
          -158.571,
          1548.571
         ],
         "y": [
          21,
          5,
          166
         ]
        },
        {
         "hoverinfo": "text",
         "hovertext": [
          "<b>Topic 10</b><br>Words: , , , , ",
          "<b>Topic 10</b><br>Words: , , , , ",
          "<b>Topic 10</b><br>Words: xlv, disastrous, notice, , "
         ],
         "marker": {
          "color": "#F0E442"
         },
         "mode": "lines",
         "name": "10_xlv_disastrous_notice_",
         "type": "scatter",
         "x": [
          -502.39,
          -158.571,
          1548.571
         ],
         "y": [
          33,
          85,
          38
         ]
        },
        {
         "hoverinfo": "text",
         "hovertext": [
          "<b>Topic 11</b><br>Words: alexander, alexanders, speech, callisthenes, king",
          "<b>Topic 11</b><br>Words: unpredictable, clintons, bf, stevens, something"
         ],
         "marker": {
          "color": "#D55E00"
         },
         "mode": "lines",
         "name": "11_alexander_alexanders_speech_callisthe...",
         "type": "scatter",
         "x": [
          -158.571,
          1548.571
         ],
         "y": [
          149,
          2
         ]
        },
        {
         "hoverinfo": "text",
         "hovertext": [
          "<b>Topic 12</b><br>Words: features, supplemented, variability, various, versatility",
          "<b>Topic 12</b><br>Words: recognising, insatiable, conjecturing, unnoticed, marshalling",
          "<b>Topic 12</b><br>Words: theory, historical, theoretical, things, truth"
         ],
         "marker": {
          "color": "#0072B2"
         },
         "mode": "lines",
         "name": "12_theory_historical_theoretical_things",
         "type": "scatter",
         "x": [
          -502.39,
          -158.571,
          1548.571
         ],
         "y": [
          4,
          2,
          140
         ]
        },
        {
         "hoverinfo": "text",
         "hovertext": [
          "<b>Topic 13</b><br>Words: enemy, defeating, attack, move, fighter",
          "<b>Topic 13</b><br>Words: besiege, frightened, attack, account, forts",
          "<b>Topic 13</b><br>Words: defensive, enemy, position, point, offensive"
         ],
         "marker": {
          "color": "#CC79A7"
         },
         "mode": "lines",
         "name": "13_enemy_defensive_position_attack",
         "type": "scatter",
         "x": [
          -502.39,
          -158.571,
          1548.571
         ],
         "y": [
          26,
          2,
          115
         ]
        },
        {
         "hoverinfo": "text",
         "hovertext": [
          "<b>Topic 14</b><br>Words: wall, mound, plataeans, stones, arrows",
          "<b>Topic 14</b><br>Words: wall, engines, towers, mound, beams"
         ],
         "marker": {
          "color": "#E69F00"
         },
         "mode": "lines",
         "name": "14_wall_mound_engines_towers",
         "type": "scatter",
         "x": [
          -502.39,
          -158.571
         ],
         "y": [
          47,
          96
         ]
        },
        {
         "hoverinfo": "text",
         "hovertext": [
          "<b>Topic 15</b><br>Words: horses, spot, owing, horse, venture",
          "<b>Topic 15</b><br>Words: horse, horses, cavalry, men, curio",
          "<b>Topic 15</b><br>Words: finds, roadit, station, infinity, menatarms"
         ],
         "marker": {
          "color": "#56B4E9"
         },
         "mode": "lines",
         "name": "15_horse_horses_cavalry_men",
         "type": "scatter",
         "x": [
          -502.39,
          -158.571,
          1548.571
         ],
         "y": [
          12,
          92,
          4
         ]
        },
        {
         "hoverinfo": "text",
         "hovertext": [
          "<b>Topic 16</b><br>Words: cavalry, regiments, face, squadrons, dexterous",
          "<b>Topic 16</b><br>Words: cavalry, infantry, charge, charges, lance"
         ],
         "marker": {
          "color": "#009E73"
         },
         "mode": "lines",
         "name": "16_cavalry_infantry_charge_charges",
         "type": "scatter",
         "x": [
          -158.571,
          1548.571
         ],
         "y": [
          4,
          102
         ]
        },
        {
         "hoverinfo": "text",
         "hovertext": [
          "<b>Topic 17</b><br>Words: democracy, public, private, prosperity, poverty",
          "<b>Topic 17</b><br>Words: debts, ambition, affairs, lest, revolutionary",
          "<b>Topic 17</b><br>Words: public, elective, timidity, dictatorial, government"
         ],
         "marker": {
          "color": "#F0E442"
         },
         "mode": "lines",
         "name": "17_public_private_democracy_government",
         "type": "scatter",
         "x": [
          -502.39,
          -158.571,
          1548.571
         ],
         "y": [
          57,
          15,
          30
         ]
        },
        {
         "hoverinfo": "text",
         "hovertext": [
          "<b>Topic 18</b><br>Words: lines, parlous, hipponoidas, aristocles, polemarchs",
          "<b>Topic 18</b><br>Words: rear, surrounding, circuit, sally, breaking",
          "<b>Topic 18</b><br>Words: lines, operations, line, double, strategic"
         ],
         "marker": {
          "color": "#D55E00"
         },
         "mode": "lines",
         "name": "18_lines_operations_line_double",
         "type": "scatter",
         "x": [
          -502.39,
          -158.571,
          1548.571
         ],
         "y": [
          3,
          1,
          90
         ]
        },
        {
         "hoverinfo": "text",
         "hovertext": [
          "<b>Topic 19</b><br>Words: dethroned, halys, croesus, strides, overrun",
          "<b>Topic 19</b><br>Words: darius, persians, alexander, persian, grecian",
          "<b>Topic 19</b><br>Words: commissariat, subsisted, ages, imagine, xerxes"
         ],
         "marker": {
          "color": "#0072B2"
         },
         "mode": "lines",
         "name": "19_darius_persians_alexander_persian",
         "type": "scatter",
         "x": [
          -502.39,
          -158.571,
          1548.571
         ],
         "y": [
          1,
          87,
          1
         ]
        },
        {
         "hoverinfo": "text",
         "hovertext": [
          "<b>Topic 20</b><br>Words: bonaparte, tomorrowi, duke, uxbridge, canon",
          "<b>Topic 20</b><br>Words: napoleon, napoleons, rivoli, order, battle"
         ],
         "marker": {
          "color": "#CC79A7"
         },
         "mode": "lines",
         "name": "20_napoleon_napoleons_rivoli_order",
         "type": "scatter",
         "x": [
          -502.39,
          1548.571
         ],
         "y": [
          3,
          85
         ]
        },
        {
         "hoverinfo": "text",
         "hovertext": [
          "<b>Topic 21</b><br>Words: object, destruction, combat, enemys, objects"
         ],
         "marker": {
          "color": "#E69F00"
         },
         "mode": "lines",
         "name": "21_object_destruction_combat_enemys",
         "type": "scatter",
         "x": [
          1548.571
         ],
         "y": [
          80
         ]
        },
        {
         "hoverinfo": "text",
         "hovertext": [
          "<b>Topic 22</b><br>Words: corn, food, threes, parched, twos",
          "<b>Topic 22</b><br>Words: corn, cattle, want, consumed, scarcity",
          "<b>Topic 22</b><br>Words: cattle, bread, supply, hoof, biscuit"
         ],
         "marker": {
          "color": "#56B4E9"
         },
         "mode": "lines",
         "name": "22_corn_cattle_supply_scarcity",
         "type": "scatter",
         "x": [
          -502.39,
          -158.571,
          1548.571
         ],
         "y": [
          9,
          63,
          4
         ]
        },
        {
         "hoverinfo": "text",
         "hovertext": [
          "<b>Topic 23</b><br>Words: syracusans, syracusan, athenians, gylippus, athenian"
         ],
         "marker": {
          "color": "#009E73"
         },
         "mode": "lines",
         "name": "23_syracusans_syracusan_athenians_gylipp...",
         "type": "scatter",
         "x": [
          -502.39
         ],
         "y": [
          75
         ]
        },
        {
         "hoverinfo": "text",
         "hovertext": [
          "<b>Topic 24</b><br>Words: senseless, benevolence, sincerity, interested, humanity",
          "<b>Topic 24</b><br>Words: consternation, xliiwhen, lxxvaccordingly, immovable, exhortations",
          "<b>Topic 24</b><br>Words: mind, feelings, understanding, feeling, boldness"
         ],
         "marker": {
          "color": "#F0E442"
         },
         "mode": "lines",
         "name": "24_mind_feelings_understanding_feeling",
         "type": "scatter",
         "x": [
          -502.39,
          -158.571,
          1548.571
         ],
         "y": [
          10,
          4,
          51
         ]
        },
        {
         "hoverinfo": "text",
         "hovertext": [
          "<b>Topic 25</b><br>Words: picked, men, spears, armed, troops",
          "<b>Topic 25</b><br>Words: men, camp, soldiers, woods, gate",
          "<b>Topic 25</b><br>Words: richepanse, matenpoet, feats, performing, astonishing"
         ],
         "marker": {
          "color": "#D55E00"
         },
         "mode": "lines",
         "name": "25_men_camp_soldiers_woods",
         "type": "scatter",
         "x": [
          -502.39,
          -158.571,
          1548.571
         ],
         "y": [
          13,
          48,
          1
         ]
        },
        {
         "hoverinfo": "text",
         "hovertext": [
          "<b>Topic 26</b><br>Words: alpsthat, lv, breakfasted, noonday, liv",
          "<b>Topic 26</b><br>Words: capua, carthaginians, livy, justin, hannibal",
          "<b>Topic 26</b><br>Words: hannibal, roman, carthaginians, rome, carthage"
         ],
         "marker": {
          "color": "#0072B2"
         },
         "mode": "lines",
         "name": "26_hannibal_carthaginians_carthage_roman",
         "type": "scatter",
         "x": [
          -502.39,
          -158.571,
          1548.571
         ],
         "y": [
          2,
          7,
          48
         ]
        },
        {
         "hoverinfo": "text",
         "hovertext": [
          "<b>Topic 27</b><br>Words: guilty, indulgence, justice, judges, good",
          "<b>Topic 27</b><br>Words: crime, bounty, arrogant, punishments, guilt",
          "<b>Topic 27</b><br>Words: rodneys, credit, douglas, seaofficers, aggravate"
         ],
         "marker": {
          "color": "#CC79A7"
         },
         "mode": "lines",
         "name": "27_guilty_crime_guilt_justice",
         "type": "scatter",
         "x": [
          -502.39,
          -158.571,
          1548.571
         ],
         "y": [
          37,
          12,
          4
         ]
        },
        {
         "hoverinfo": "text",
         "hovertext": [
          "<b>Topic 28</b><br>Words: sicily, sicilian, us, sicilians, peloponnese",
          "<b>Topic 28</b><br>Words: merciless, saragusa, syracusae, noblest, sylla",
          "<b>Topic 28</b><br>Words: clypea, mugtapha, churchman, regulus, reconquer"
         ],
         "marker": {
          "color": "#E69F00"
         },
         "mode": "lines",
         "name": "28_sicily_sicilian_us_sicilians",
         "type": "scatter",
         "x": [
          -502.39,
          -158.571,
          1548.571
         ],
         "y": [
          47,
          1,
          3
         ]
        },
        {
         "hoverinfo": "text",
         "hovertext": [
          "<b>Topic 29</b><br>Words: pisander, arms, attaching, four, assembly",
          "<b>Topic 29</b><br>Words: clemency, council, arms, rescued, thought",
          "<b>Topic 29</b><br>Words: fightingroom, discursive, deputation, admitted, ballot"
         ],
         "marker": {
          "color": "#56B4E9"
         },
         "mode": "lines",
         "name": "29_arms_council_clemency_pisander",
         "type": "scatter",
         "x": [
          -502.39,
          -158.571,
          1548.571
         ],
         "y": [
          20,
          28,
          2
         ]
        },
        {
         "hoverinfo": "text",
         "hovertext": [
          "<b>Topic 30</b><br>Words: political, object, war, means, law"
         ],
         "marker": {
          "color": "#009E73"
         },
         "mode": "lines",
         "name": "30_political_object_war_means",
         "type": "scatter",
         "x": [
          1548.571
         ],
         "y": [
          49
         ]
        },
        {
         "hoverinfo": "text",
         "hovertext": [
          "<b>Topic 31</b><br>Words: spies, spy, converted, tu, mu",
          "<b>Topic 31</b><br>Words: pardons, communicates, sets, divitiacus, dumnorix",
          "<b>Topic 31</b><br>Words: spies, learn, information, spy, movements"
         ],
         "marker": {
          "color": "#F0E442"
         },
         "mode": "lines",
         "name": "31_spies_spy_converted_information",
         "type": "scatter",
         "x": [
          -502.39,
          -158.571,
          1548.571
         ],
         "y": [
          40,
          1,
          6
         ]
        },
        {
         "hoverinfo": "text",
         "hovertext": [
          "<b>Topic 32</b><br>Words: refrain, waiting, famishedthis, harmonizing, straightest",
          "<b>Topic 32</b><br>Words: elevation, declivity, vergasillaunus, testudo, momentous",
          "<b>Topic 32</b><br>Words: retreat, pursuit, retreats, surprise, army"
         ],
         "marker": {
          "color": "#D55E00"
         },
         "mode": "lines",
         "name": "32_retreat_pursuit_retreats_surprise",
         "type": "scatter",
         "x": [
          -502.39,
          -158.571,
          1548.571
         ],
         "y": [
          8,
          1,
          35
         ]
        },
        {
         "hoverinfo": "text",
         "hovertext": [
          "<b>Topic 33</b><br>Words: action, suspension, equilibrium, activity, reciprocal"
         ],
         "marker": {
          "color": "#0072B2"
         },
         "mode": "lines",
         "name": "33_action_suspension_equilibrium_activit...",
         "type": "scatter",
         "x": [
          1548.571
         ],
         "y": [
          43
         ]
        },
        {
         "hoverinfo": "text",
         "hovertext": [
          "<b>Topic 34</b><br>Words: lysicles, fiftyoars, cimon, contribution, talents",
          "<b>Topic 34</b><br>Words: meddling, plying, pilot, thirtyoared, craft",
          "<b>Topic 34</b><br>Words: thousand, turks, hundred, vessels, forty"
         ],
         "marker": {
          "color": "#CC79A7"
         },
         "mode": "lines",
         "name": "34_thousand_turks_hundred_vessels",
         "type": "scatter",
         "x": [
          -502.39,
          -158.571,
          1548.571
         ],
         "y": [
          6,
          2,
          34
         ]
        },
        {
         "hoverinfo": "text",
         "hovertext": [
          "<b>Topic 35</b><br>Words: camps, nearness, contribute, begun, two",
          "<b>Topic 35</b><br>Words: camps, intrenched, connection, cantonments, tetes"
         ],
         "marker": {
          "color": "#E69F00"
         },
         "mode": "lines",
         "name": "35_camps_intrenched_connection_cantonmen...",
         "type": "scatter",
         "x": [
          -158.571,
          1548.571
         ],
         "y": [
          1,
          39
         ]
        },
        {
         "hoverinfo": "text",
         "hovertext": [
          "<b>Topic 36</b><br>Words: arrian, photius, epictetus, cod, extant",
          "<b>Topic 36</b><br>Words: goat, gould, canonicut, beresina, narratives"
         ],
         "marker": {
          "color": "#56B4E9"
         },
         "mode": "lines",
         "name": "36_arrian_photius_epictetus_cod",
         "type": "scatter",
         "x": [
          -158.571,
          1548.571
         ],
         "y": [
          37,
          2
         ]
        },
        {
         "hoverinfo": "text",
         "hovertext": [
          "<b>Topic 37</b><br>Words: fathers, laid, admetus, bones, relatives",
          "<b>Topic 37</b><br>Words: coffin, wine, couch, funeral, tomb",
          "<b>Topic 37</b><br>Words: tromp, irresponsible, stoppage, insubordinate, flagofficers"
         ],
         "marker": {
          "color": "#009E73"
         },
         "mode": "lines",
         "name": "37_coffin_wine_tomb_funeral",
         "type": "scatter",
         "x": [
          -502.39,
          -158.571,
          1548.571
         ],
         "y": [
          20,
          17,
          2
         ]
        },
        {
         "hoverinfo": "text",
         "hovertext": [
          "<b>Topic 38</b><br>Words: mountainous, countries, mountains, plains, valleys"
         ],
         "marker": {
          "color": "#F0E442"
         },
         "mode": "lines",
         "name": "38_mountainous_countries_mountains_plain...",
         "type": "scatter",
         "x": [
          1548.571
         ],
         "y": [
          38
         ]
        },
        {
         "hoverinfo": "text",
         "hovertext": [
          "<b>Topic 39</b><br>Words: see, discern, evolved, superficially, invariably",
          "<b>Topic 39</b><br>Words: victory, battle, forces, combat, ram"
         ],
         "marker": {
          "color": "#D55E00"
         },
         "mode": "lines",
         "name": "39_victory_battle_forces_combat",
         "type": "scatter",
         "x": [
          -502.39,
          1548.571
         ],
         "y": [
          2,
          36
         ]
        },
        {
         "hoverinfo": "text",
         "hovertext": [
          "<b>Topic 40</b><br>Words: disorganisation, insubordination, collapse, flight, hurled",
          "<b>Topic 40</b><br>Words: order, center, wings, oblique, fig"
         ],
         "marker": {
          "color": "#0072B2"
         },
         "mode": "lines",
         "name": "40_order_center_wings_oblique",
         "type": "scatter",
         "x": [
          -502.39,
          1548.571
         ],
         "y": [
          1,
          37
         ]
        },
        {
         "hoverinfo": "text",
         "hovertext": [
          "<b>Topic 41</b><br>Words: hundred, heavy, infantry, thousand, athenian",
          "<b>Topic 41</b><br>Words: gulfs, archimedes, syrtes, christ, archias",
          "<b>Topic 41</b><br>Words: retook, dardanelles, mithridates, bosporus, chaeronea"
         ],
         "marker": {
          "color": "#CC79A7"
         },
         "mode": "lines",
         "name": "41_hundred_heavy_thousand_infantry",
         "type": "scatter",
         "x": [
          -502.39,
          -158.571,
          1548.571
         ],
         "y": [
          29,
          2,
          1
         ]
        },
        {
         "hoverinfo": "text",
         "hovertext": [
          "<b>Topic 42</b><br>Words: denuding, hankering, banner, desperation, everybody",
          "<b>Topic 42</b><br>Words: bridge, stakes, bituriges, arverni, fixed",
          "<b>Topic 42</b><br>Words: bridges, coblentz, tetes, bank, redoubts"
         ],
         "marker": {
          "color": "#E69F00"
         },
         "mode": "lines",
         "name": "42_bridges_bank_coblentz_bridge",
         "type": "scatter",
         "x": [
          -502.39,
          -158.571,
          1548.571
         ],
         "y": [
          2,
          4,
          24
         ]
        },
        {
         "hoverinfo": "text",
         "hovertext": [
          "<b>Topic 43</b><br>Words: archduke, charles, austrians, vienna, moreau"
         ],
         "marker": {
          "color": "#56B4E9"
         },
         "mode": "lines",
         "name": "43_archduke_charles_austrians_vienna",
         "type": "scatter",
         "x": [
          1548.571
         ],
         "y": [
          29
         ]
        },
        {
         "hoverinfo": "text",
         "hovertext": [
          "<b>Topic 44</b><br>Words: les, art, murs, lhistoire, concernant",
          "<b>Topic 44</b><br>Words: art, war, summary, military, wars"
         ],
         "marker": {
          "color": "#009E73"
         },
         "mode": "lines",
         "name": "44_art_les_war_summary",
         "type": "scatter",
         "x": [
          -502.39,
          1548.571
         ],
         "y": [
          4,
          25
         ]
        },
        {
         "hoverinfo": "text",
         "hovertext": [
          "<b>Topic 45</b><br>Words: city, walled, dead, besiege, attacking",
          "<b>Topic 45</b><br>Words: design, oppressed, catiline, xxxviithe, constructively",
          "<b>Topic 45</b><br>Words: broadcast, burghers, devastations, pamphlets, bivouacs"
         ],
         "marker": {
          "color": "#F0E442"
         },
         "mode": "lines",
         "name": "45_city_design_walled_dead",
         "type": "scatter",
         "x": [
          -502.39,
          -158.571,
          1548.571
         ],
         "y": [
          19,
          6,
          3
         ]
        },
        {
         "hoverinfo": "text",
         "hovertext": [
          "<b>Topic 46</b><br>Words: submerged, roofed, quagmires, weeds, lowlying",
          "<b>Topic 46</b><br>Words: water, feet, ascent, morass, hill",
          "<b>Topic 46</b><br>Words: climbing, obstacles, art, xxxviipassage, ismail"
         ],
         "marker": {
          "color": "#D55E00"
         },
         "mode": "lines",
         "name": "46_water_feet_ascent_morass",
         "type": "scatter",
         "x": [
          -502.39,
          -158.571,
          1548.571
         ],
         "y": [
          3,
          19,
          6
         ]
        },
        {
         "hoverinfo": "text",
         "hovertext": [
          "<b>Topic 47</b><br>Words: accoutrements, departments, rivalry, counted, expenditure",
          "<b>Topic 47</b><br>Words: intervention, wars, interferes, state, kinds"
         ],
         "marker": {
          "color": "#0072B2"
         },
         "mode": "lines",
         "name": "47_intervention_wars_interferes_state",
         "type": "scatter",
         "x": [
          -502.39,
          1548.571
         ],
         "y": [
          1,
          27
         ]
        },
        {
         "hoverinfo": "text",
         "hovertext": [
          "<b>Topic 48</b><br>Words: affectionately, fellowtownsman, dinners, bamboo, offer",
          "<b>Topic 48</b><br>Words: soldiers, barbarous, baggage, valour, enemy",
          "<b>Topic 48</b><br>Words: scars, selfesteem, sunshine, thrive, surmounting"
         ],
         "marker": {
          "color": "#CC79A7"
         },
         "mode": "lines",
         "name": "48_soldiers_barbarous_baggage_valour",
         "type": "scatter",
         "x": [
          -502.39,
          -158.571,
          1548.571
         ],
         "y": [
          8,
          18,
          2
         ]
        },
        {
         "hoverinfo": "text",
         "hovertext": [
          "<b>Topic 49</b><br>Words: dominion, think, help, greatness, sustenance",
          "<b>Topic 49</b><br>Words: collation, throng, hinge, niebuhr, lxviithere",
          "<b>Topic 49</b><br>Words: locality, country, civilization, welfare, roads"
         ],
         "marker": {
          "color": "#E69F00"
         },
         "mode": "lines",
         "name": "49_country_dominion_locality_think",
         "type": "scatter",
         "x": [
          -502.39,
          -158.571,
          1548.571
         ],
         "y": [
          8,
          7,
          12
         ]
        },
        {
         "hoverinfo": "text",
         "hovertext": [
          "<b>Topic 50</b><br>Words: etc, confident, expect, something, lead",
          "<b>Topic 50</b><br>Words: staff, officers, duties, corps, logistics"
         ],
         "marker": {
          "color": "#56B4E9"
         },
         "mode": "lines",
         "name": "50_staff_officers_duties_corps",
         "type": "scatter",
         "x": [
          -502.39,
          1548.571
         ],
         "y": [
          1,
          25
         ]
        },
        {
         "hoverinfo": "text",
         "hovertext": [
          "<b>Topic 51</b><br>Words: danube, rhine, ulm, bohemia, alps"
         ],
         "marker": {
          "color": "#009E73"
         },
         "mode": "lines",
         "name": "51_danube_rhine_ulm_bohemia",
         "type": "scatter",
         "x": [
          1548.571
         ],
         "y": [
          25
         ]
        },
        {
         "hoverinfo": "text",
         "hovertext": [
          "<b>Topic 52</b><br>Words: merely, life, misfortune, man, fortunea",
          "<b>Topic 52</b><br>Words: respecting, immortal, gods, glory, life",
          "<b>Topic 52</b><br>Words: thy, beloved, blessed, almighty, infamy"
         ],
         "marker": {
          "color": "#F0E442"
         },
         "mode": "lines",
         "name": "52_life_thy_respecting_gods",
         "type": "scatter",
         "x": [
          -502.39,
          -158.571,
          1548.571
         ],
         "y": [
          8,
          7,
          10
         ]
        },
        {
         "hoverinfo": "text",
         "hovertext": [
          "<b>Topic 53</b><br>Words: athenians, syracusans, meanwhile, megara, would"
         ],
         "marker": {
          "color": "#D55E00"
         },
         "mode": "lines",
         "name": "53_athenians_syracusans_meanwhile_megara",
         "type": "scatter",
         "x": [
          -502.39
         ],
         "y": [
          25
         ]
        },
        {
         "hoverinfo": "text",
         "hovertext": [
          "<b>Topic 54</b><br>Words: solidarity, prevail, penetrate, invading, defenders",
          "<b>Topic 54</b><br>Words: invasions, distant, invasion, diplomacy, wars"
         ],
         "marker": {
          "color": "#0072B2"
         },
         "mode": "lines",
         "name": "54_invasions_distant_invasion_diplomacy",
         "type": "scatter",
         "x": [
          -502.39,
          1548.571
         ],
         "y": [
          1,
          23
         ]
        },
        {
         "hoverinfo": "text",
         "hovertext": [
          "<b>Topic 55</b><br>Words: cf, arrian, homer, iliad, supra"
         ],
         "marker": {
          "color": "#CC79A7"
         },
         "mode": "lines",
         "name": "55_cf_arrian_homer_iliad",
         "type": "scatter",
         "x": [
          -158.571
         ],
         "y": [
          24
         ]
        },
        {
         "hoverinfo": "text",
         "hovertext": [
          "<b>Topic 56</b><br>Words: disbanded, , , , ",
          "<b>Topic 56</b><br>Words: division, st, corps, second, fig"
         ],
         "marker": {
          "color": "#E69F00"
         },
         "mode": "lines",
         "name": "56_division_st_corps_second",
         "type": "scatter",
         "x": [
          -158.571,
          1548.571
         ],
         "y": [
          1,
          23
         ]
        },
        {
         "hoverinfo": "text",
         "hovertext": [
          "<b>Topic 57</b><br>Words: treaty, us, arbitration, agreement, shall",
          "<b>Topic 57</b><br>Words: february, abates, debates, smouldered, renunciation"
         ],
         "marker": {
          "color": "#56B4E9"
         },
         "mode": "lines",
         "name": "57_us_treaty_arbitration_agreement",
         "type": "scatter",
         "x": [
          -502.39,
          1548.571
         ],
         "y": [
          20,
          4
         ]
        },
        {
         "hoverinfo": "text",
         "hovertext": [
          "<b>Topic 58</b><br>Words: sunny, dark, places, fighting, ",
          "<b>Topic 58</b><br>Words: clouded, duly, string, highland, deviated",
          "<b>Topic 58</b><br>Words: night, combat, combats, wooded, assailant"
         ],
         "marker": {
          "color": "#009E73"
         },
         "mode": "lines",
         "name": "58_night_combat_combats_wooded",
         "type": "scatter",
         "x": [
          -502.39,
          -158.571,
          1548.571
         ],
         "y": [
          1,
          1,
          21
         ]
        },
        {
         "hoverinfo": "text",
         "hovertext": [
          "<b>Topic 59</b><br>Words: point, decisive, strategic, points, battlefield"
         ],
         "marker": {
          "color": "#F0E442"
         },
         "mode": "lines",
         "name": "59_point_decisive_strategic_points",
         "type": "scatter",
         "x": [
          1548.571
         ],
         "y": [
          23
         ]
        },
        {
         "hoverinfo": "text",
         "hovertext": [
          "<b>Topic 60</b><br>Words: athenians, rest, athenian, wing, garrison",
          "<b>Topic 60</b><br>Words: intact, auxiliary, native, composed, city"
         ],
         "marker": {
          "color": "#D55E00"
         },
         "mode": "lines",
         "name": "60_athenians_rest_athenian_wing",
         "type": "scatter",
         "x": [
          -502.39,
          -158.571
         ],
         "y": [
          22,
          1
         ]
        },
        {
         "hoverinfo": "text",
         "hovertext": [
          "<b>Topic 61</b><br>Words: ended, winter, summer, epidaurians, year"
         ],
         "marker": {
          "color": "#0072B2"
         },
         "mode": "lines",
         "name": "61_ended_winter_summer_epidaurians",
         "type": "scatter",
         "x": [
          -502.39
         ],
         "y": [
          20
         ]
        },
        {
         "hoverinfo": "text",
         "hovertext": [
          "<b>Topic 62</b><br>Words: heracles, dionysus, hercules, cadmus, son"
         ],
         "marker": {
          "color": "#CC79A7"
         },
         "mode": "lines",
         "name": "62_heracles_dionysus_hercules_cadmus",
         "type": "scatter",
         "x": [
          -158.571
         ],
         "y": [
          20
         ]
        },
        {
         "hoverinfo": "text",
         "hovertext": [
          "<b>Topic 63</b><br>Words: unimpaired, generosity, mankind, arrogance, although",
          "<b>Topic 63</b><br>Words: dishonourably, confesses, unpleasant, back, intolerable",
          "<b>Topic 63</b><br>Words: laugh, kunti, lotthat, realms, revels"
         ],
         "marker": {
          "color": "#E69F00"
         },
         "mode": "lines",
         "name": "63_life_danger_unimpaired_generosity",
         "type": "scatter",
         "x": [
          -502.39,
          -158.571,
          1548.571
         ],
         "y": [
          11,
          2,
          6
         ]
        },
        {
         "hoverinfo": "text",
         "hovertext": [
          "<b>Topic 64</b><br>Words: pliny, et, cappadocia, minor, asia"
         ],
         "marker": {
          "color": "#56B4E9"
         },
         "mode": "lines",
         "name": "64_pliny_et_cappadocia_minor",
         "type": "scatter",
         "x": [
          -158.571
         ],
         "y": [
          19
         ]
        },
        {
         "hoverinfo": "text",
         "hovertext": [
          "<b>Topic 65</b><br>Words: darius, wife, marry, mother, alexander"
         ],
         "marker": {
          "color": "#009E73"
         },
         "mode": "lines",
         "name": "65_darius_wife_marry_mother",
         "type": "scatter",
         "x": [
          -158.571
         ],
         "y": [
          19
         ]
        },
        {
         "hoverinfo": "text",
         "hovertext": [
          "<b>Topic 66</b><br>Words: pleistarchus, leonidass, cousin, discontented, imitation",
          "<b>Topic 66</b><br>Words: death, alexander, alexanders, son, died"
         ],
         "marker": {
          "color": "#F0E442"
         },
         "mode": "lines",
         "name": "66_death_alexander_son_alexanders",
         "type": "scatter",
         "x": [
          -502.39,
          -158.571
         ],
         "y": [
          1,
          18
         ]
        },
        {
         "hoverinfo": "text",
         "hovertext": [
          "<b>Topic 67</b><br>Words: attica, peloponnesians, summer, invaded, athenians",
          "<b>Topic 67</b><br>Words: elimiotis, peaks, paravaea, pelina, stymphaea"
         ],
         "marker": {
          "color": "#D55E00"
         },
         "mode": "lines",
         "name": "67_attica_peloponnesians_summer_invaded",
         "type": "scatter",
         "x": [
          -502.39,
          -158.571
         ],
         "y": [
          18,
          1
         ]
        },
        {
         "hoverinfo": "text",
         "hovertext": [
          "<b>Topic 68</b><br>Words: harmodius, hippias, aristogiton, hipparchus, pisistratus",
          "<b>Topic 68</b><br>Words: athena, hipparchus, altar, hippias, eudanemi"
         ],
         "marker": {
          "color": "#0072B2"
         },
         "mode": "lines",
         "name": "68_hippias_hipparchus_harmodius_aristogi...",
         "type": "scatter",
         "x": [
          -502.39,
          -158.571
         ],
         "y": [
          14,
          4
         ]
        },
        {
         "hoverinfo": "text",
         "hovertext": [
          "<b>Topic 69</b><br>Words: chariots, swift, olympic, chariot, games",
          "<b>Topic 69</b><br>Words: chariots, elephants, charioteers, chariot, overpowered"
         ],
         "marker": {
          "color": "#CC79A7"
         },
         "mode": "lines",
         "name": "69_chariots_chariot_elephants_charioteer...",
         "type": "scatter",
         "x": [
          -502.39,
          -158.571
         ],
         "y": [
          7,
          11
         ]
        },
        {
         "hoverinfo": "text",
         "hovertext": [
          "<b>Topic 70</b><br>Words: us, confidence, fear, neighbour, expedient",
          "<b>Topic 70</b><br>Words: friends, dauntless, meetings, countenance, domitiuss"
         ],
         "marker": {
          "color": "#E69F00"
         },
         "mode": "lines",
         "name": "70_confidence_us_fear_neighbour",
         "type": "scatter",
         "x": [
          -502.39,
          -158.571
         ],
         "y": [
          16,
          2
         ]
        },
        {
         "hoverinfo": "text",
         "hovertext": [
          "<b>Topic 71</b><br>Words: clausewitz, von, carl, general, staff"
         ],
         "marker": {
          "color": "#56B4E9"
         },
         "mode": "lines",
         "name": "71_clausewitz_von_carl_general",
         "type": "scatter",
         "x": [
          1548.571
         ],
         "y": [
          17
         ]
        },
        {
         "hoverinfo": "text",
         "hovertext": [
          "<b>Topic 72</b><br>Words: footnote, footnotes, refer, claim, treated"
         ],
         "marker": {
          "color": "#009E73"
         },
         "mode": "lines",
         "name": "72_footnote_footnotes_refer_claim",
         "type": "scatter",
         "x": [
          1548.571
         ],
         "y": [
          17
         ]
        },
        {
         "hoverinfo": "text",
         "hovertext": [
          "<b>Topic 73</b><br>Words: spitamenes, sogdiana, sogdianians, scythians, sogdianarevolt"
         ],
         "marker": {
          "color": "#F0E442"
         },
         "mode": "lines",
         "name": "73_spitamenes_sogdiana_sogdianians_scyth...",
         "type": "scatter",
         "x": [
          -158.571
         ],
         "y": [
          17
         ]
        },
        {
         "hoverinfo": "text",
         "hovertext": [
          "<b>Topic 74</b><br>Words: moscow, russian, russians, buonaparte, peace"
         ],
         "marker": {
          "color": "#D55E00"
         },
         "mode": "lines",
         "name": "74_moscow_russian_russians_buonaparte",
         "type": "scatter",
         "x": [
          1548.571
         ],
         "y": [
          17
         ]
        },
        {
         "hoverinfo": "text",
         "hovertext": [
          "<b>Topic 75</b><br>Words: peloponnesians, samians, phormio, superiority, without"
         ],
         "marker": {
          "color": "#0072B2"
         },
         "mode": "lines",
         "name": "75_peloponnesians_samians_phormio_superi...",
         "type": "scatter",
         "x": [
          -502.39
         ],
         "y": [
          17
         ]
        },
        {
         "hoverinfo": "text",
         "hovertext": [
          "<b>Topic 76</b><br>Words: strategy, tactics, principle, fundamental, definition"
         ],
         "marker": {
          "color": "#CC79A7"
         },
         "mode": "lines",
         "name": "76_strategy_tactics_principle_fundamenta...",
         "type": "scatter",
         "x": [
          1548.571
         ],
         "y": [
          17
         ]
        },
        {
         "hoverinfo": "text",
         "hovertext": [
          "<b>Topic 77</b><br>Words: viceroy, areians, stasanor, phrataphernes, land",
          "<b>Topic 77</b><br>Words: excommunicated, gregory, landgrave, gratification, presumption"
         ],
         "marker": {
          "color": "#E69F00"
         },
         "mode": "lines",
         "name": "77_viceroy_areians_stasanor_phratapherne...",
         "type": "scatter",
         "x": [
          -158.571,
          1548.571
         ],
         "y": [
          15,
          1
         ]
        },
        {
         "hoverinfo": "text",
         "hovertext": [
          "<b>Topic 78</b><br>Words: austrians, inn, bavaria, vienna, hundred"
         ],
         "marker": {
          "color": "#56B4E9"
         },
         "mode": "lines",
         "name": "78_austrians_inn_bavaria_vienna",
         "type": "scatter",
         "x": [
          1548.571
         ],
         "y": [
          15
         ]
        },
        {
         "hoverinfo": "text",
         "hovertext": [
          "<b>Topic 79</b><br>Words: napoleon, line, lines, operations, strategic"
         ],
         "marker": {
          "color": "#009E73"
         },
         "mode": "lines",
         "name": "79_napoleon_line_lines_operations",
         "type": "scatter",
         "x": [
          1548.571
         ],
         "y": [
          15
         ]
        },
        {
         "hoverinfo": "text",
         "hovertext": [
          "<b>Topic 80</b><br>Words: older, enomotarchs, lochages, pentecostyes, enomoties",
          "<b>Topic 80</b><br>Words: shieldbearing, agrianians, guards, archers, cavalry",
          "<b>Topic 80</b><br>Words: asturias, peasants, oviedo, navia, kellermann"
         ],
         "marker": {
          "color": "#F0E442"
         },
         "mode": "lines",
         "name": "80_shieldbearing_agrianians_guards_arche...",
         "type": "scatter",
         "x": [
          -502.39,
          -158.571,
          1548.571
         ],
         "y": [
          2,
          12,
          1
         ]
        },
        {
         "hoverinfo": "text",
         "hovertext": [
          "<b>Topic 81</b><br>Words: firearms, improvements, range, invention, gunpowder"
         ],
         "marker": {
          "color": "#D55E00"
         },
         "mode": "lines",
         "name": "81_firearms_improvements_range_invention",
         "type": "scatter",
         "x": [
          1548.571
         ],
         "y": [
          15
         ]
        },
        {
         "hoverinfo": "text",
         "hovertext": [
          "<b>Topic 82</b><br>Words: siege, halicarnassus, massaga, myndus, miletus",
          "<b>Topic 82</b><br>Words: candia, cannae, turkish, descent, siege"
         ],
         "marker": {
          "color": "#0072B2"
         },
         "mode": "lines",
         "name": "82_siege_halicarnassus_massaga_myndus",
         "type": "scatter",
         "x": [
          -158.571,
          1548.571
         ],
         "y": [
          13,
          1
         ]
        },
        {
         "hoverinfo": "text",
         "hovertext": [
          "<b>Topic 83</b><br>Words: boeotians, delium, boeotia, hippocrates, dead"
         ],
         "marker": {
          "color": "#CC79A7"
         },
         "mode": "lines",
         "name": "83_boeotians_delium_boeotia_hippocrates",
         "type": "scatter",
         "x": [
          -502.39
         ],
         "y": [
          14
         ]
        },
        {
         "hoverinfo": "text",
         "hovertext": [
          "<b>Topic 84</b><br>Words: tire, lan, lure, separate, yu",
          "<b>Topic 84</b><br>Words: tyre, siege, tyreconstruction, tyrenaval, tyrians"
         ],
         "marker": {
          "color": "#E69F00"
         },
         "mode": "lines",
         "name": "84_tyre_siege_tyrenaval_tyreconstruction",
         "type": "scatter",
         "x": [
          -502.39,
          -158.571
         ],
         "y": [
          1,
          13
         ]
        },
        {
         "hoverinfo": "text",
         "hovertext": [
          "<b>Topic 85</b><br>Words: reserves, reserve, strategic, economy, idea"
         ],
         "marker": {
          "color": "#56B4E9"
         },
         "mode": "lines",
         "name": "85_reserves_reserve_strategic_economy",
         "type": "scatter",
         "x": [
          1548.571
         ],
         "y": [
          14
         ]
        },
        {
         "hoverinfo": "text",
         "hovertext": [
          "<b>Topic 86</b><br>Words: fire, thunder, rain, branches, wind",
          "<b>Topic 86</b><br>Words: noise, storm, clatter, tightly, stitched",
          "<b>Topic 86</b><br>Words: house, right, side, left, protected"
         ],
         "marker": {
          "color": "#009E73"
         },
         "mode": "lines",
         "name": "86_house_fire_right_side",
         "type": "scatter",
         "x": [
          -502.39,
          -158.571,
          1548.571
         ],
         "y": [
          5,
          1,
          7
         ]
        },
        {
         "hoverinfo": "text",
         "hovertext": [
          "<b>Topic 87</b><br>Words: untaken, onethird, arthur, japanese, siege",
          "<b>Topic 87</b><br>Words: siege, mantua, buonaparte, victories, genoa"
         ],
         "marker": {
          "color": "#F0E442"
         },
         "mode": "lines",
         "name": "87_siege_mantua_buonaparte_victories",
         "type": "scatter",
         "x": [
          -502.39,
          1548.571
         ],
         "y": [
          1,
          12
         ]
        },
        {
         "hoverinfo": "text",
         "hovertext": [
          "<b>Topic 88</b><br>Words: alliance, corcyra, affair, refusing, join",
          "<b>Topic 88</b><br>Words: infatuation, brethren, magistracy, uniting, suessiones",
          "<b>Topic 88</b><br>Words: halfandhalf, niggardly, invites, menacing, disagreeable"
         ],
         "marker": {
          "color": "#D55E00"
         },
         "mode": "lines",
         "name": "88_affair_alliance_corcyra_refusing",
         "type": "scatter",
         "x": [
          -502.39,
          -158.571,
          1548.571
         ],
         "y": [
          10,
          1,
          2
         ]
        },
        {
         "hoverinfo": "text",
         "hovertext": [
          "<b>Topic 89</b><br>Words: art, science, arts, war, handicraft"
         ],
         "marker": {
          "color": "#0072B2"
         },
         "mode": "lines",
         "name": "89_art_science_arts_war",
         "type": "scatter",
         "x": [
          1548.571
         ],
         "y": [
          13
         ]
        },
        {
         "hoverinfo": "text",
         "hovertext": [
          "<b>Topic 90</b><br>Words: son, cavalry, posted, parmenio, philotas"
         ],
         "marker": {
          "color": "#CC79A7"
         },
         "mode": "lines",
         "name": "90_son_cavalry_posted_parmenio",
         "type": "scatter",
         "x": [
          -158.571
         ],
         "y": [
          12
         ]
        },
        {
         "hoverinfo": "text",
         "hovertext": [
          "<b>Topic 91</b><br>Words: confederates, confederacy, confederate, disgrace, chians",
          "<b>Topic 91</b><br>Words: twain, englandthan, offin, mastering, stage"
         ],
         "marker": {
          "color": "#E69F00"
         },
         "mode": "lines",
         "name": "91_confederacy_confederates_confederate_...",
         "type": "scatter",
         "x": [
          -502.39,
          1548.571
         ],
         "y": [
          11,
          1
         ]
        },
        {
         "hoverinfo": "text",
         "hovertext": [
          "<b>Topic 92</b><br>Words: diversions, detachments, operations, corps, zone"
         ],
         "marker": {
          "color": "#56B4E9"
         },
         "mode": "lines",
         "name": "92_diversions_detachments_operations_cor...",
         "type": "scatter",
         "x": [
          1548.571
         ],
         "y": [
          12
         ]
        },
        {
         "hoverinfo": "text",
         "hovertext": [
          "<b>Topic 93</b><br>Words: children, aggrieved, flippancy, conceit, beget",
          "<b>Topic 93</b><br>Words: boyish, indecorous, emasculate, merest, ladies",
          "<b>Topic 93</b><br>Words: fatherland, welfare, trust, women, children"
         ],
         "marker": {
          "color": "#009E73"
         },
         "mode": "lines",
         "name": "93_children_relatives_women_beget",
         "type": "scatter",
         "x": [
          -502.39,
          -158.571,
          1548.571
         ],
         "y": [
          7,
          3,
          1
         ]
        },
        {
         "hoverinfo": "text",
         "hovertext": [
          "<b>Topic 94</b><br>Words: haphazard, annihilate, marshalling, yus, gradations",
          "<b>Topic 94</b><br>Words: detachments, necessary, commander, kellermanns, fieldfortification"
         ],
         "marker": {
          "color": "#F0E442"
         },
         "mode": "lines",
         "name": "94_detachments_army_necessary_may",
         "type": "scatter",
         "x": [
          -502.39,
          1548.571
         ],
         "y": [
          2,
          9
         ]
        },
        {
         "hoverinfo": "text",
         "hovertext": [
          "<b>Topic 95</b><br>Words: anabasis, alexander, juliopolis, rasalhad, ravi",
          "<b>Topic 95</b><br>Words: drepanum, nicholas, concentration, emperor, "
         ],
         "marker": {
          "color": "#D55E00"
         },
         "mode": "lines",
         "name": "95_anabasis_alexander_juliopolis_ravi",
         "type": "scatter",
         "x": [
          -158.571,
          1548.571
         ],
         "y": [
          9,
          1
         ]
        },
        {
         "hoverinfo": "text",
         "hovertext": [
          "<b>Topic 96</b><br>Words: wuhou, sluices, warfare, saltmarshes, shapes",
          "<b>Topic 96</b><br>Words: rivers, river, rules, passage, retreats"
         ],
         "marker": {
          "color": "#0072B2"
         },
         "mode": "lines",
         "name": "96_rivers_river_crossing_rules",
         "type": "scatter",
         "x": [
          -502.39,
          1548.571
         ],
         "y": [
          3,
          7
         ]
        },
        {
         "hoverinfo": "text",
         "hovertext": [
          "<b>Topic 97</b><br>Words: detour, landau, clairfayt, darmee, charleroi"
         ],
         "marker": {
          "color": "#CC79A7"
         },
         "mode": "lines",
         "name": "97_detour_landau_clairfayt_charleroi",
         "type": "scatter",
         "x": [
          1548.571
         ],
         "y": [
          10
         ]
        },
        {
         "hoverinfo": "text",
         "hovertext": [
          "<b>Topic 98</b><br>Words: operations, theater, zone, strategic, center"
         ],
         "marker": {
          "color": "#E69F00"
         },
         "mode": "lines",
         "name": "98_operations_theater_zone_strategic",
         "type": "scatter",
         "x": [
          1548.571
         ],
         "y": [
          10
         ]
        },
        {
         "hoverinfo": "text",
         "hovertext": [
          "<b>Topic 99</b><br>Words: art, logistics, moving, armies, map"
         ],
         "marker": {
          "color": "#56B4E9"
         },
         "mode": "lines",
         "name": "99_art_logistics_moving_armies",
         "type": "scatter",
         "x": [
          1548.571
         ],
         "y": [
          10
         ]
        },
        {
         "hoverinfo": "text",
         "hovertext": [
          "<b>Topic 100</b><br>Words: messina, locrian, sicily, gylippus, corns",
          "<b>Topic 100</b><br>Words: metoro, messana, metaurus, umbria, duchy",
          "<b>Topic 100</b><br>Words: messina, straits, marsala, lipari, raids"
         ],
         "marker": {
          "color": "#009E73"
         },
         "mode": "lines",
         "name": "100_messina_sicily_locrian_gylippus",
         "type": "scatter",
         "x": [
          -502.39,
          -158.571,
          1548.571
         ],
         "y": [
          6,
          1,
          3
         ]
        },
        {
         "hoverinfo": "text",
         "hovertext": [
          "<b>Topic 101</b><br>Words: samos, oligarchy, alcibiades, democracy, tissaphernes"
         ],
         "marker": {
          "color": "#F0E442"
         },
         "mode": "lines",
         "name": "101_samos_oligarchy_alcibiades_democracy",
         "type": "scatter",
         "x": [
          -502.39
         ],
         "y": [
          10
         ]
        }
       ],
       "layout": {
        "height": 450,
        "hoverlabel": {
         "bgcolor": "white",
         "font": {
          "family": "Rockwell",
          "size": 16
         }
        },
        "legend": {
         "title": {
          "text": "<b>Global Topic Representation"
         }
        },
        "template": {
         "data": {
          "bar": [
           {
            "error_x": {
             "color": "rgb(36,36,36)"
            },
            "error_y": {
             "color": "rgb(36,36,36)"
            },
            "marker": {
             "line": {
              "color": "white",
              "width": 0.5
             },
             "pattern": {
              "fillmode": "overlay",
              "size": 10,
              "solidity": 0.2
             }
            },
            "type": "bar"
           }
          ],
          "barpolar": [
           {
            "marker": {
             "line": {
              "color": "white",
              "width": 0.5
             },
             "pattern": {
              "fillmode": "overlay",
              "size": 10,
              "solidity": 0.2
             }
            },
            "type": "barpolar"
           }
          ],
          "carpet": [
           {
            "aaxis": {
             "endlinecolor": "rgb(36,36,36)",
             "gridcolor": "white",
             "linecolor": "white",
             "minorgridcolor": "white",
             "startlinecolor": "rgb(36,36,36)"
            },
            "baxis": {
             "endlinecolor": "rgb(36,36,36)",
             "gridcolor": "white",
             "linecolor": "white",
             "minorgridcolor": "white",
             "startlinecolor": "rgb(36,36,36)"
            },
            "type": "carpet"
           }
          ],
          "choropleth": [
           {
            "colorbar": {
             "outlinewidth": 1,
             "tickcolor": "rgb(36,36,36)",
             "ticks": "outside"
            },
            "type": "choropleth"
           }
          ],
          "contour": [
           {
            "colorbar": {
             "outlinewidth": 1,
             "tickcolor": "rgb(36,36,36)",
             "ticks": "outside"
            },
            "colorscale": [
             [
              0,
              "#440154"
             ],
             [
              0.1111111111111111,
              "#482878"
             ],
             [
              0.2222222222222222,
              "#3e4989"
             ],
             [
              0.3333333333333333,
              "#31688e"
             ],
             [
              0.4444444444444444,
              "#26828e"
             ],
             [
              0.5555555555555556,
              "#1f9e89"
             ],
             [
              0.6666666666666666,
              "#35b779"
             ],
             [
              0.7777777777777778,
              "#6ece58"
             ],
             [
              0.8888888888888888,
              "#b5de2b"
             ],
             [
              1,
              "#fde725"
             ]
            ],
            "type": "contour"
           }
          ],
          "contourcarpet": [
           {
            "colorbar": {
             "outlinewidth": 1,
             "tickcolor": "rgb(36,36,36)",
             "ticks": "outside"
            },
            "type": "contourcarpet"
           }
          ],
          "heatmap": [
           {
            "colorbar": {
             "outlinewidth": 1,
             "tickcolor": "rgb(36,36,36)",
             "ticks": "outside"
            },
            "colorscale": [
             [
              0,
              "#440154"
             ],
             [
              0.1111111111111111,
              "#482878"
             ],
             [
              0.2222222222222222,
              "#3e4989"
             ],
             [
              0.3333333333333333,
              "#31688e"
             ],
             [
              0.4444444444444444,
              "#26828e"
             ],
             [
              0.5555555555555556,
              "#1f9e89"
             ],
             [
              0.6666666666666666,
              "#35b779"
             ],
             [
              0.7777777777777778,
              "#6ece58"
             ],
             [
              0.8888888888888888,
              "#b5de2b"
             ],
             [
              1,
              "#fde725"
             ]
            ],
            "type": "heatmap"
           }
          ],
          "heatmapgl": [
           {
            "colorbar": {
             "outlinewidth": 1,
             "tickcolor": "rgb(36,36,36)",
             "ticks": "outside"
            },
            "colorscale": [
             [
              0,
              "#440154"
             ],
             [
              0.1111111111111111,
              "#482878"
             ],
             [
              0.2222222222222222,
              "#3e4989"
             ],
             [
              0.3333333333333333,
              "#31688e"
             ],
             [
              0.4444444444444444,
              "#26828e"
             ],
             [
              0.5555555555555556,
              "#1f9e89"
             ],
             [
              0.6666666666666666,
              "#35b779"
             ],
             [
              0.7777777777777778,
              "#6ece58"
             ],
             [
              0.8888888888888888,
              "#b5de2b"
             ],
             [
              1,
              "#fde725"
             ]
            ],
            "type": "heatmapgl"
           }
          ],
          "histogram": [
           {
            "marker": {
             "line": {
              "color": "white",
              "width": 0.6
             }
            },
            "type": "histogram"
           }
          ],
          "histogram2d": [
           {
            "colorbar": {
             "outlinewidth": 1,
             "tickcolor": "rgb(36,36,36)",
             "ticks": "outside"
            },
            "colorscale": [
             [
              0,
              "#440154"
             ],
             [
              0.1111111111111111,
              "#482878"
             ],
             [
              0.2222222222222222,
              "#3e4989"
             ],
             [
              0.3333333333333333,
              "#31688e"
             ],
             [
              0.4444444444444444,
              "#26828e"
             ],
             [
              0.5555555555555556,
              "#1f9e89"
             ],
             [
              0.6666666666666666,
              "#35b779"
             ],
             [
              0.7777777777777778,
              "#6ece58"
             ],
             [
              0.8888888888888888,
              "#b5de2b"
             ],
             [
              1,
              "#fde725"
             ]
            ],
            "type": "histogram2d"
           }
          ],
          "histogram2dcontour": [
           {
            "colorbar": {
             "outlinewidth": 1,
             "tickcolor": "rgb(36,36,36)",
             "ticks": "outside"
            },
            "colorscale": [
             [
              0,
              "#440154"
             ],
             [
              0.1111111111111111,
              "#482878"
             ],
             [
              0.2222222222222222,
              "#3e4989"
             ],
             [
              0.3333333333333333,
              "#31688e"
             ],
             [
              0.4444444444444444,
              "#26828e"
             ],
             [
              0.5555555555555556,
              "#1f9e89"
             ],
             [
              0.6666666666666666,
              "#35b779"
             ],
             [
              0.7777777777777778,
              "#6ece58"
             ],
             [
              0.8888888888888888,
              "#b5de2b"
             ],
             [
              1,
              "#fde725"
             ]
            ],
            "type": "histogram2dcontour"
           }
          ],
          "mesh3d": [
           {
            "colorbar": {
             "outlinewidth": 1,
             "tickcolor": "rgb(36,36,36)",
             "ticks": "outside"
            },
            "type": "mesh3d"
           }
          ],
          "parcoords": [
           {
            "line": {
             "colorbar": {
              "outlinewidth": 1,
              "tickcolor": "rgb(36,36,36)",
              "ticks": "outside"
             }
            },
            "type": "parcoords"
           }
          ],
          "pie": [
           {
            "automargin": true,
            "type": "pie"
           }
          ],
          "scatter": [
           {
            "fillpattern": {
             "fillmode": "overlay",
             "size": 10,
             "solidity": 0.2
            },
            "type": "scatter"
           }
          ],
          "scatter3d": [
           {
            "line": {
             "colorbar": {
              "outlinewidth": 1,
              "tickcolor": "rgb(36,36,36)",
              "ticks": "outside"
             }
            },
            "marker": {
             "colorbar": {
              "outlinewidth": 1,
              "tickcolor": "rgb(36,36,36)",
              "ticks": "outside"
             }
            },
            "type": "scatter3d"
           }
          ],
          "scattercarpet": [
           {
            "marker": {
             "colorbar": {
              "outlinewidth": 1,
              "tickcolor": "rgb(36,36,36)",
              "ticks": "outside"
             }
            },
            "type": "scattercarpet"
           }
          ],
          "scattergeo": [
           {
            "marker": {
             "colorbar": {
              "outlinewidth": 1,
              "tickcolor": "rgb(36,36,36)",
              "ticks": "outside"
             }
            },
            "type": "scattergeo"
           }
          ],
          "scattergl": [
           {
            "marker": {
             "colorbar": {
              "outlinewidth": 1,
              "tickcolor": "rgb(36,36,36)",
              "ticks": "outside"
             }
            },
            "type": "scattergl"
           }
          ],
          "scattermapbox": [
           {
            "marker": {
             "colorbar": {
              "outlinewidth": 1,
              "tickcolor": "rgb(36,36,36)",
              "ticks": "outside"
             }
            },
            "type": "scattermapbox"
           }
          ],
          "scatterpolar": [
           {
            "marker": {
             "colorbar": {
              "outlinewidth": 1,
              "tickcolor": "rgb(36,36,36)",
              "ticks": "outside"
             }
            },
            "type": "scatterpolar"
           }
          ],
          "scatterpolargl": [
           {
            "marker": {
             "colorbar": {
              "outlinewidth": 1,
              "tickcolor": "rgb(36,36,36)",
              "ticks": "outside"
             }
            },
            "type": "scatterpolargl"
           }
          ],
          "scatterternary": [
           {
            "marker": {
             "colorbar": {
              "outlinewidth": 1,
              "tickcolor": "rgb(36,36,36)",
              "ticks": "outside"
             }
            },
            "type": "scatterternary"
           }
          ],
          "surface": [
           {
            "colorbar": {
             "outlinewidth": 1,
             "tickcolor": "rgb(36,36,36)",
             "ticks": "outside"
            },
            "colorscale": [
             [
              0,
              "#440154"
             ],
             [
              0.1111111111111111,
              "#482878"
             ],
             [
              0.2222222222222222,
              "#3e4989"
             ],
             [
              0.3333333333333333,
              "#31688e"
             ],
             [
              0.4444444444444444,
              "#26828e"
             ],
             [
              0.5555555555555556,
              "#1f9e89"
             ],
             [
              0.6666666666666666,
              "#35b779"
             ],
             [
              0.7777777777777778,
              "#6ece58"
             ],
             [
              0.8888888888888888,
              "#b5de2b"
             ],
             [
              1,
              "#fde725"
             ]
            ],
            "type": "surface"
           }
          ],
          "table": [
           {
            "cells": {
             "fill": {
              "color": "rgb(237,237,237)"
             },
             "line": {
              "color": "white"
             }
            },
            "header": {
             "fill": {
              "color": "rgb(217,217,217)"
             },
             "line": {
              "color": "white"
             }
            },
            "type": "table"
           }
          ]
         },
         "layout": {
          "annotationdefaults": {
           "arrowhead": 0,
           "arrowwidth": 1
          },
          "autotypenumbers": "strict",
          "coloraxis": {
           "colorbar": {
            "outlinewidth": 1,
            "tickcolor": "rgb(36,36,36)",
            "ticks": "outside"
           }
          },
          "colorscale": {
           "diverging": [
            [
             0,
             "rgb(103,0,31)"
            ],
            [
             0.1,
             "rgb(178,24,43)"
            ],
            [
             0.2,
             "rgb(214,96,77)"
            ],
            [
             0.3,
             "rgb(244,165,130)"
            ],
            [
             0.4,
             "rgb(253,219,199)"
            ],
            [
             0.5,
             "rgb(247,247,247)"
            ],
            [
             0.6,
             "rgb(209,229,240)"
            ],
            [
             0.7,
             "rgb(146,197,222)"
            ],
            [
             0.8,
             "rgb(67,147,195)"
            ],
            [
             0.9,
             "rgb(33,102,172)"
            ],
            [
             1,
             "rgb(5,48,97)"
            ]
           ],
           "sequential": [
            [
             0,
             "#440154"
            ],
            [
             0.1111111111111111,
             "#482878"
            ],
            [
             0.2222222222222222,
             "#3e4989"
            ],
            [
             0.3333333333333333,
             "#31688e"
            ],
            [
             0.4444444444444444,
             "#26828e"
            ],
            [
             0.5555555555555556,
             "#1f9e89"
            ],
            [
             0.6666666666666666,
             "#35b779"
            ],
            [
             0.7777777777777778,
             "#6ece58"
            ],
            [
             0.8888888888888888,
             "#b5de2b"
            ],
            [
             1,
             "#fde725"
            ]
           ],
           "sequentialminus": [
            [
             0,
             "#440154"
            ],
            [
             0.1111111111111111,
             "#482878"
            ],
            [
             0.2222222222222222,
             "#3e4989"
            ],
            [
             0.3333333333333333,
             "#31688e"
            ],
            [
             0.4444444444444444,
             "#26828e"
            ],
            [
             0.5555555555555556,
             "#1f9e89"
            ],
            [
             0.6666666666666666,
             "#35b779"
            ],
            [
             0.7777777777777778,
             "#6ece58"
            ],
            [
             0.8888888888888888,
             "#b5de2b"
            ],
            [
             1,
             "#fde725"
            ]
           ]
          },
          "colorway": [
           "#1F77B4",
           "#FF7F0E",
           "#2CA02C",
           "#D62728",
           "#9467BD",
           "#8C564B",
           "#E377C2",
           "#7F7F7F",
           "#BCBD22",
           "#17BECF"
          ],
          "font": {
           "color": "rgb(36,36,36)"
          },
          "geo": {
           "bgcolor": "white",
           "lakecolor": "white",
           "landcolor": "white",
           "showlakes": true,
           "showland": true,
           "subunitcolor": "white"
          },
          "hoverlabel": {
           "align": "left"
          },
          "hovermode": "closest",
          "mapbox": {
           "style": "light"
          },
          "paper_bgcolor": "white",
          "plot_bgcolor": "white",
          "polar": {
           "angularaxis": {
            "gridcolor": "rgb(232,232,232)",
            "linecolor": "rgb(36,36,36)",
            "showgrid": false,
            "showline": true,
            "ticks": "outside"
           },
           "bgcolor": "white",
           "radialaxis": {
            "gridcolor": "rgb(232,232,232)",
            "linecolor": "rgb(36,36,36)",
            "showgrid": false,
            "showline": true,
            "ticks": "outside"
           }
          },
          "scene": {
           "xaxis": {
            "backgroundcolor": "white",
            "gridcolor": "rgb(232,232,232)",
            "gridwidth": 2,
            "linecolor": "rgb(36,36,36)",
            "showbackground": true,
            "showgrid": false,
            "showline": true,
            "ticks": "outside",
            "zeroline": false,
            "zerolinecolor": "rgb(36,36,36)"
           },
           "yaxis": {
            "backgroundcolor": "white",
            "gridcolor": "rgb(232,232,232)",
            "gridwidth": 2,
            "linecolor": "rgb(36,36,36)",
            "showbackground": true,
            "showgrid": false,
            "showline": true,
            "ticks": "outside",
            "zeroline": false,
            "zerolinecolor": "rgb(36,36,36)"
           },
           "zaxis": {
            "backgroundcolor": "white",
            "gridcolor": "rgb(232,232,232)",
            "gridwidth": 2,
            "linecolor": "rgb(36,36,36)",
            "showbackground": true,
            "showgrid": false,
            "showline": true,
            "ticks": "outside",
            "zeroline": false,
            "zerolinecolor": "rgb(36,36,36)"
           }
          },
          "shapedefaults": {
           "fillcolor": "black",
           "line": {
            "width": 0
           },
           "opacity": 0.3
          },
          "ternary": {
           "aaxis": {
            "gridcolor": "rgb(232,232,232)",
            "linecolor": "rgb(36,36,36)",
            "showgrid": false,
            "showline": true,
            "ticks": "outside"
           },
           "baxis": {
            "gridcolor": "rgb(232,232,232)",
            "linecolor": "rgb(36,36,36)",
            "showgrid": false,
            "showline": true,
            "ticks": "outside"
           },
           "bgcolor": "white",
           "caxis": {
            "gridcolor": "rgb(232,232,232)",
            "linecolor": "rgb(36,36,36)",
            "showgrid": false,
            "showline": true,
            "ticks": "outside"
           }
          },
          "title": {
           "x": 0.05
          },
          "xaxis": {
           "automargin": true,
           "gridcolor": "rgb(232,232,232)",
           "linecolor": "rgb(36,36,36)",
           "showgrid": false,
           "showline": true,
           "ticks": "outside",
           "title": {
            "standoff": 15
           },
           "zeroline": false,
           "zerolinecolor": "rgb(36,36,36)"
          },
          "yaxis": {
           "automargin": true,
           "gridcolor": "rgb(232,232,232)",
           "linecolor": "rgb(36,36,36)",
           "showgrid": false,
           "showline": true,
           "ticks": "outside",
           "title": {
            "standoff": 15
           },
           "zeroline": false,
           "zerolinecolor": "rgb(36,36,36)"
          }
         }
        },
        "title": {
         "font": {
          "color": "Black",
          "size": 22
         },
         "text": "<b>Topics over Time</b>",
         "x": 0.4,
         "xanchor": "center",
         "y": 0.95,
         "yanchor": "top"
        },
        "width": 1250,
        "xaxis": {
         "showgrid": true
        },
        "yaxis": {
         "showgrid": true,
         "title": {
          "text": "Frequency"
         }
        }
       }
      }
     },
     "metadata": {},
     "output_type": "display_data"
    }
   ],
   "source": [
    "#visualize topics over time\n",
    "topics_over_time_vis = topic_model.visualize_topics_over_time(topics_over_time)\n",
    "topics_over_time_vis\n"
   ]
  },
  {
   "cell_type": "code",
   "execution_count": null,
   "id": "3fef141c",
   "metadata": {},
   "outputs": [
    {
     "name": "stderr",
     "output_type": "stream",
     "text": [
      "c:\\Users\\ramirolobo\\AppData\\Local\\Programs\\Python\\Python312\\Lib\\site-packages\\sklearn\\utils\\deprecation.py:151: FutureWarning:\n",
      "\n",
      "'force_all_finite' was renamed to 'ensure_all_finite' in 1.6 and will be removed in 1.8.\n",
      "\n",
      "c:\\Users\\ramirolobo\\AppData\\Local\\Programs\\Python\\Python312\\Lib\\site-packages\\sklearn\\utils\\deprecation.py:151: FutureWarning:\n",
      "\n",
      "'force_all_finite' was renamed to 'ensure_all_finite' in 1.6 and will be removed in 1.8.\n",
      "\n",
      "c:\\Users\\ramirolobo\\AppData\\Local\\Programs\\Python\\Python312\\Lib\\site-packages\\sklearn\\utils\\deprecation.py:151: FutureWarning:\n",
      "\n",
      "'force_all_finite' was renamed to 'ensure_all_finite' in 1.6 and will be removed in 1.8.\n",
      "\n",
      "c:\\Users\\ramirolobo\\AppData\\Local\\Programs\\Python\\Python312\\Lib\\site-packages\\sklearn\\utils\\deprecation.py:151: FutureWarning:\n",
      "\n",
      "'force_all_finite' was renamed to 'ensure_all_finite' in 1.6 and will be removed in 1.8.\n",
      "\n"
     ]
    }
   ],
   "source": [
    "#another topic model with fixed number of topics\n",
    "topic_model_2 = BERTopic(nr_topics=50)\n",
    "topics_2, probs_2 = topic_model_2.fit_transform(cleaned_texts)"
   ]
  },
  {
   "cell_type": "code",
   "execution_count": null,
   "id": "347eedc4",
   "metadata": {},
   "outputs": [
    {
     "data": {
      "text/html": [
       "<div>\n",
       "<style scoped>\n",
       "    .dataframe tbody tr th:only-of-type {\n",
       "        vertical-align: middle;\n",
       "    }\n",
       "\n",
       "    .dataframe tbody tr th {\n",
       "        vertical-align: top;\n",
       "    }\n",
       "\n",
       "    .dataframe thead th {\n",
       "        text-align: right;\n",
       "    }\n",
       "</style>\n",
       "<table border=\"1\" class=\"dataframe\">\n",
       "  <thead>\n",
       "    <tr style=\"text-align: right;\">\n",
       "      <th></th>\n",
       "      <th>Topic</th>\n",
       "      <th>Count</th>\n",
       "      <th>Name</th>\n",
       "      <th>Representation</th>\n",
       "      <th>Representative_Docs</th>\n",
       "    </tr>\n",
       "  </thead>\n",
       "  <tbody>\n",
       "    <tr>\n",
       "      <th>0</th>\n",
       "      <td>-1</td>\n",
       "      <td>10</td>\n",
       "      <td>-1_tttttttttttttttttttttttttttttttttttttttt_co...</td>\n",
       "      <td>[tttttttttttttttttttttttttttttttttttttttt, con...</td>\n",
       "      <td>[conquest difficulties national wars wars inst...</td>\n",
       "    </tr>\n",
       "    <tr>\n",
       "      <th>1</th>\n",
       "      <td>0</td>\n",
       "      <td>155</td>\n",
       "      <td>0_disastrous_notice__</td>\n",
       "      <td>[disastrous, notice, , , , , , , , ]</td>\n",
       "      <td>[, notice, disastrous]</td>\n",
       "    </tr>\n",
       "    <tr>\n",
       "      <th>2</th>\n",
       "      <td>1</td>\n",
       "      <td>4448</td>\n",
       "      <td>1_french_english_ships_sea</td>\n",
       "      <td>[french, english, ships, sea, england, france,...</td>\n",
       "      <td>[ship first last might brought action beginnin...</td>\n",
       "    </tr>\n",
       "    <tr>\n",
       "      <th>3</th>\n",
       "      <td>2</td>\n",
       "      <td>17122</td>\n",
       "      <td>2_army_one_upon_would</td>\n",
       "      <td>[army, one, upon, would, war, men, enemy, may,...</td>\n",
       "      <td>[danger could save baggage whole army cohorts ...</td>\n",
       "    </tr>\n",
       "  </tbody>\n",
       "</table>\n",
       "</div>"
      ],
      "text/plain": [
       "   Topic  Count                                               Name  \\\n",
       "0     -1     10  -1_tttttttttttttttttttttttttttttttttttttttt_co...   \n",
       "1      0    155                              0_disastrous_notice__   \n",
       "2      1   4448                         1_french_english_ships_sea   \n",
       "3      2  17122                              2_army_one_upon_would   \n",
       "\n",
       "                                      Representation  \\\n",
       "0  [tttttttttttttttttttttttttttttttttttttttt, con...   \n",
       "1               [disastrous, notice, , , , , , , , ]   \n",
       "2  [french, english, ships, sea, england, france,...   \n",
       "3  [army, one, upon, would, war, men, enemy, may,...   \n",
       "\n",
       "                                 Representative_Docs  \n",
       "0  [conquest difficulties national wars wars inst...  \n",
       "1                             [, notice, disastrous]  \n",
       "2  [ship first last might brought action beginnin...  \n",
       "3  [danger could save baggage whole army cohorts ...  "
      ]
     },
     "execution_count": 153,
     "metadata": {},
     "output_type": "execute_result"
    }
   ],
   "source": [
    "#not meaningful topics\n",
    "topics_2 = topic_model_2.get_topic_info()\n",
    "topics_2.head(15)"
   ]
  },
  {
   "cell_type": "code",
   "execution_count": 162,
   "id": "0bc5bcdb",
   "metadata": {},
   "outputs": [],
   "source": [
    "#add topics to text_chunks df\n",
    "document_info = topic_model.get_document_info(cleaned_texts)\n",
    "text_chunks['topic'] = document_info['Topic']"
   ]
  },
  {
   "cell_type": "code",
   "execution_count": 201,
   "id": "3bd0587d",
   "metadata": {},
   "outputs": [],
   "source": [
    "topic_by_author = (\n",
    "    text_chunks.groupby(\"author\")[\"topic\"]\n",
    "    .value_counts()\n",
    "    .unstack(fill_value=0)\n",
    ")\n",
    "\n",
    "#topics with more than n occurrences across all chunks\n",
    "n = 100\n",
    "top_topics = topics[topics[\"Count\"] > n][\"Topic\"].tolist()\n",
    "top_topics = top_topics[1:]  # exclude noisy topic -1\n",
    "\n",
    "# convert to proportions\n",
    "topic_by_author_norm = topic_by_author.div(topic_by_author.sum(axis=1), axis=0)\n",
    "\n",
    "top_topics_by_author_norm = topic_by_author_norm.loc[:, top_topics]  # get top topics"
   ]
  },
  {
   "cell_type": "code",
   "execution_count": 202,
   "id": "3e793507",
   "metadata": {},
   "outputs": [
    {
     "data": {
      "text/html": [
       "<div>\n",
       "<style scoped>\n",
       "    .dataframe tbody tr th:only-of-type {\n",
       "        vertical-align: middle;\n",
       "    }\n",
       "\n",
       "    .dataframe tbody tr th {\n",
       "        vertical-align: top;\n",
       "    }\n",
       "\n",
       "    .dataframe thead th {\n",
       "        text-align: right;\n",
       "    }\n",
       "</style>\n",
       "<table border=\"1\" class=\"dataframe\">\n",
       "  <thead>\n",
       "    <tr style=\"text-align: right;\">\n",
       "      <th>topic</th>\n",
       "      <th>0</th>\n",
       "      <th>1</th>\n",
       "      <th>2</th>\n",
       "      <th>3</th>\n",
       "      <th>4</th>\n",
       "      <th>5</th>\n",
       "      <th>6</th>\n",
       "      <th>7</th>\n",
       "      <th>8</th>\n",
       "      <th>9</th>\n",
       "      <th>10</th>\n",
       "      <th>11</th>\n",
       "      <th>12</th>\n",
       "      <th>13</th>\n",
       "      <th>14</th>\n",
       "      <th>15</th>\n",
       "      <th>16</th>\n",
       "      <th>17</th>\n",
       "    </tr>\n",
       "    <tr>\n",
       "      <th>author</th>\n",
       "      <th></th>\n",
       "      <th></th>\n",
       "      <th></th>\n",
       "      <th></th>\n",
       "      <th></th>\n",
       "      <th></th>\n",
       "      <th></th>\n",
       "      <th></th>\n",
       "      <th></th>\n",
       "      <th></th>\n",
       "      <th></th>\n",
       "      <th></th>\n",
       "      <th></th>\n",
       "      <th></th>\n",
       "      <th></th>\n",
       "      <th></th>\n",
       "      <th></th>\n",
       "      <th></th>\n",
       "    </tr>\n",
       "  </thead>\n",
       "  <tbody>\n",
       "    <tr>\n",
       "      <th>Arrian</th>\n",
       "      <td>0.018177</td>\n",
       "      <td>0.008953</td>\n",
       "      <td>0.007325</td>\n",
       "      <td>0.002713</td>\n",
       "      <td>0.004612</td>\n",
       "      <td>0.082474</td>\n",
       "      <td>0.069723</td>\n",
       "      <td>0.058871</td>\n",
       "      <td>0.000543</td>\n",
       "      <td>0.000543</td>\n",
       "      <td>0.022518</td>\n",
       "      <td>0.040423</td>\n",
       "      <td>0.000543</td>\n",
       "      <td>0.000271</td>\n",
       "      <td>0.011666</td>\n",
       "      <td>0.003798</td>\n",
       "      <td>0.001085</td>\n",
       "      <td>0.000543</td>\n",
       "    </tr>\n",
       "    <tr>\n",
       "      <th>Caesar</th>\n",
       "      <td>0.045943</td>\n",
       "      <td>0.470837</td>\n",
       "      <td>0.000652</td>\n",
       "      <td>0.003258</td>\n",
       "      <td>0.000652</td>\n",
       "      <td>0.007494</td>\n",
       "      <td>0.000326</td>\n",
       "      <td>0.000652</td>\n",
       "      <td>0.000000</td>\n",
       "      <td>0.000978</td>\n",
       "      <td>0.000652</td>\n",
       "      <td>0.000000</td>\n",
       "      <td>0.000000</td>\n",
       "      <td>0.000326</td>\n",
       "      <td>0.017269</td>\n",
       "      <td>0.025415</td>\n",
       "      <td>0.000000</td>\n",
       "      <td>0.004236</td>\n",
       "    </tr>\n",
       "    <tr>\n",
       "      <th>Clausewitz</th>\n",
       "      <td>0.013730</td>\n",
       "      <td>0.001373</td>\n",
       "      <td>0.000000</td>\n",
       "      <td>0.000458</td>\n",
       "      <td>0.000000</td>\n",
       "      <td>0.000458</td>\n",
       "      <td>0.000000</td>\n",
       "      <td>0.000458</td>\n",
       "      <td>0.002288</td>\n",
       "      <td>0.035698</td>\n",
       "      <td>0.000458</td>\n",
       "      <td>0.000458</td>\n",
       "      <td>0.058581</td>\n",
       "      <td>0.020137</td>\n",
       "      <td>0.000000</td>\n",
       "      <td>0.000458</td>\n",
       "      <td>0.003661</td>\n",
       "      <td>0.002288</td>\n",
       "    </tr>\n",
       "    <tr>\n",
       "      <th>Jomini</th>\n",
       "      <td>0.074020</td>\n",
       "      <td>0.007607</td>\n",
       "      <td>0.000000</td>\n",
       "      <td>0.001463</td>\n",
       "      <td>0.000585</td>\n",
       "      <td>0.000585</td>\n",
       "      <td>0.002048</td>\n",
       "      <td>0.000585</td>\n",
       "      <td>0.052662</td>\n",
       "      <td>0.021650</td>\n",
       "      <td>0.008777</td>\n",
       "      <td>0.000000</td>\n",
       "      <td>0.002048</td>\n",
       "      <td>0.019310</td>\n",
       "      <td>0.000000</td>\n",
       "      <td>0.000585</td>\n",
       "      <td>0.027209</td>\n",
       "      <td>0.003511</td>\n",
       "    </tr>\n",
       "    <tr>\n",
       "      <th>Mahan</th>\n",
       "      <td>0.887430</td>\n",
       "      <td>0.000938</td>\n",
       "      <td>0.000000</td>\n",
       "      <td>0.002111</td>\n",
       "      <td>0.000000</td>\n",
       "      <td>0.000235</td>\n",
       "      <td>0.000469</td>\n",
       "      <td>0.000235</td>\n",
       "      <td>0.000235</td>\n",
       "      <td>0.003283</td>\n",
       "      <td>0.001642</td>\n",
       "      <td>0.000235</td>\n",
       "      <td>0.001173</td>\n",
       "      <td>0.001173</td>\n",
       "      <td>0.000000</td>\n",
       "      <td>0.000235</td>\n",
       "      <td>0.000235</td>\n",
       "      <td>0.003049</td>\n",
       "    </tr>\n",
       "    <tr>\n",
       "      <th>Sun Tzu</th>\n",
       "      <td>0.011095</td>\n",
       "      <td>0.007396</td>\n",
       "      <td>0.000740</td>\n",
       "      <td>0.355030</td>\n",
       "      <td>0.000740</td>\n",
       "      <td>0.000000</td>\n",
       "      <td>0.000740</td>\n",
       "      <td>0.000000</td>\n",
       "      <td>0.003698</td>\n",
       "      <td>0.012574</td>\n",
       "      <td>0.000740</td>\n",
       "      <td>0.000000</td>\n",
       "      <td>0.000740</td>\n",
       "      <td>0.018491</td>\n",
       "      <td>0.005178</td>\n",
       "      <td>0.002219</td>\n",
       "      <td>0.000000</td>\n",
       "      <td>0.001479</td>\n",
       "    </tr>\n",
       "    <tr>\n",
       "      <th>Thucydides</th>\n",
       "      <td>0.044669</td>\n",
       "      <td>0.001329</td>\n",
       "      <td>0.134273</td>\n",
       "      <td>0.000266</td>\n",
       "      <td>0.104228</td>\n",
       "      <td>0.002127</td>\n",
       "      <td>0.000266</td>\n",
       "      <td>0.001329</td>\n",
       "      <td>0.000532</td>\n",
       "      <td>0.001064</td>\n",
       "      <td>0.008508</td>\n",
       "      <td>0.000000</td>\n",
       "      <td>0.000798</td>\n",
       "      <td>0.000266</td>\n",
       "      <td>0.010635</td>\n",
       "      <td>0.002393</td>\n",
       "      <td>0.000000</td>\n",
       "      <td>0.014624</td>\n",
       "    </tr>\n",
       "  </tbody>\n",
       "</table>\n",
       "</div>"
      ],
      "text/plain": [
       "topic             0         1         2         3         4         5   \\\n",
       "author                                                                   \n",
       "Arrian      0.018177  0.008953  0.007325  0.002713  0.004612  0.082474   \n",
       "Caesar      0.045943  0.470837  0.000652  0.003258  0.000652  0.007494   \n",
       "Clausewitz  0.013730  0.001373  0.000000  0.000458  0.000000  0.000458   \n",
       "Jomini      0.074020  0.007607  0.000000  0.001463  0.000585  0.000585   \n",
       "Mahan       0.887430  0.000938  0.000000  0.002111  0.000000  0.000235   \n",
       "Sun Tzu     0.011095  0.007396  0.000740  0.355030  0.000740  0.000000   \n",
       "Thucydides  0.044669  0.001329  0.134273  0.000266  0.104228  0.002127   \n",
       "\n",
       "topic             6         7         8         9         10        11  \\\n",
       "author                                                                   \n",
       "Arrian      0.069723  0.058871  0.000543  0.000543  0.022518  0.040423   \n",
       "Caesar      0.000326  0.000652  0.000000  0.000978  0.000652  0.000000   \n",
       "Clausewitz  0.000000  0.000458  0.002288  0.035698  0.000458  0.000458   \n",
       "Jomini      0.002048  0.000585  0.052662  0.021650  0.008777  0.000000   \n",
       "Mahan       0.000469  0.000235  0.000235  0.003283  0.001642  0.000235   \n",
       "Sun Tzu     0.000740  0.000000  0.003698  0.012574  0.000740  0.000000   \n",
       "Thucydides  0.000266  0.001329  0.000532  0.001064  0.008508  0.000000   \n",
       "\n",
       "topic             12        13        14        15        16        17  \n",
       "author                                                                  \n",
       "Arrian      0.000543  0.000271  0.011666  0.003798  0.001085  0.000543  \n",
       "Caesar      0.000000  0.000326  0.017269  0.025415  0.000000  0.004236  \n",
       "Clausewitz  0.058581  0.020137  0.000000  0.000458  0.003661  0.002288  \n",
       "Jomini      0.002048  0.019310  0.000000  0.000585  0.027209  0.003511  \n",
       "Mahan       0.001173  0.001173  0.000000  0.000235  0.000235  0.003049  \n",
       "Sun Tzu     0.000740  0.018491  0.005178  0.002219  0.000000  0.001479  \n",
       "Thucydides  0.000798  0.000266  0.010635  0.002393  0.000000  0.014624  "
      ]
     },
     "execution_count": 202,
     "metadata": {},
     "output_type": "execute_result"
    }
   ],
   "source": [
    "top_topics_by_author_norm.head(10)"
   ]
  },
  {
   "cell_type": "code",
   "execution_count": 203,
   "id": "b89c5b75",
   "metadata": {},
   "outputs": [
    {
     "data": {
      "image/png": "[encoded data removed]",
      "text/plain": [
       "<Figure size 1200x600 with 1 Axes>"
      ]
     },
     "metadata": {},
     "output_type": "display_data"
    }
   ],
   "source": [
    "import matplotlib.pyplot as plt\n",
    "\n",
    "top_topics_by_author_norm.plot(kind='bar', stacked=True, colormap='tab20', figsize=(12, 6))\n",
    "plt.title(\"Normalized Topic Distribution by Author\")\n",
    "plt.xlabel(\"Author\")\n",
    "plt.ylabel(\"Proportion of Chunks\")\n",
    "plt.legend(title=\"Topic\", bbox_to_anchor=(1.05, 1), loc='upper left')\n",
    "plt.tight_layout()\n",
    "plt.show()"
   ]
  },
  {
   "cell_type": "markdown",
   "id": "f05161e6",
   "metadata": {},
   "source": [
    "### Hierarchical Topic Modeling"
   ]
  },
  {
   "cell_type": "code",
   "execution_count": 204,
   "id": "3beaad21",
   "metadata": {},
   "outputs": [
    {
     "name": "stderr",
     "output_type": "stream",
     "text": [
      "100%|██████████| 101/101 [00:00<00:00, 337.54it/s]\n"
     ]
    }
   ],
   "source": [
    "#hierarchical topic modeling\n",
    "hierarchical_topics = topic_model.hierarchical_topics(cleaned_texts)"
   ]
  },
  {
   "cell_type": "code",
   "execution_count": 205,
   "id": "7ef1eec8",
   "metadata": {},
   "outputs": [
    {
     "data": {
      "application/vnd.plotly.v1+json": {
       "config": {
        "plotlyServerURL": "https://plot.ly"
       },
       "data": [
        {
         "hoverinfo": "text",
         "marker": {
          "color": "rgb(61,153,112)"
         },
         "mode": "lines",
         "text": [
          "art_logistics_moving_armies_map",
          "",
          "",
          "art_les_war_summary_military"
         ],
         "type": "scatter",
         "x": [
          0,
          0.5765613974480518,
          0.5765613974480518,
          0
         ],
         "xaxis": "x",
         "y": [
          -5,
          -5,
          -15,
          -15
         ],
         "yaxis": "y"
        },
        {
         "hoverinfo": "text",
         "marker": {
          "color": "rgb(61,153,112)"
         },
         "mode": "lines",
         "text": [
          "art_les_war_logistics_summary",
          "",
          "",
          "art_science_arts_war_handicraft"
         ],
         "type": "scatter",
         "x": [
          0.5765613974480518,
          0.7058245712355982,
          0.7058245712355982,
          0
         ],
         "xaxis": "x",
         "y": [
          -10,
          -10,
          -25,
          -25
         ],
         "yaxis": "y"
        },
        {
         "hoverinfo": "text",
         "marker": {
          "color": "rgb(255,65,54)"
         },
         "mode": "lines",
         "text": [
          "military_generals_general_spirit_virtue",
          "",
          "",
          "theory_historical_theoretical_things_truth"
         ],
         "type": "scatter",
         "x": [
          0,
          0.6657418159011996,
          0.6657418159011996,
          0
         ],
         "xaxis": "x",
         "y": [
          -45,
          -45,
          -55,
          -55
         ],
         "yaxis": "y"
        },
        {
         "hoverinfo": "text",
         "marker": {
          "color": "rgb(255,65,54)"
         },
         "mode": "lines",
         "text": [
          "mind_feelings_understanding_feeling_boldness",
          "",
          "",
          "theory_military_general_generals_spirit"
         ],
         "type": "scatter",
         "x": [
          0,
          0.6887980057502642,
          0.6887980057502642,
          0.6657418159011996
         ],
         "xaxis": "x",
         "y": [
          -35,
          -35,
          -50,
          -50
         ],
         "yaxis": "y"
        },
        {
         "hoverinfo": "text",
         "marker": {
          "color": "rgb(255,65,54)"
         },
         "mode": "lines",
         "text": [
          "object_destruction_combat_enemys_objects",
          "",
          "",
          "political_object_war_means_law"
         ],
         "type": "scatter",
         "x": [
          0,
          0.620068719850593,
          0.620068719850593,
          0
         ],
         "xaxis": "x",
         "y": [
          -65,
          -65,
          -75,
          -75
         ],
         "yaxis": "y"
        },
        {
         "hoverinfo": "text",
         "marker": {
          "color": "rgb(255,65,54)"
         },
         "mode": "lines",
         "text": [
          "object_destruction_combat_political_enemys",
          "",
          "",
          "action_suspension_equilibrium_activity_reciprocal"
         ],
         "type": "scatter",
         "x": [
          0.620068719850593,
          0.7692351962624776,
          0.7692351962624776,
          0
         ],
         "xaxis": "x",
         "y": [
          -70,
          -70,
          -85,
          -85
         ],
         "yaxis": "y"
        },
        {
         "hoverinfo": "text",
         "marker": {
          "color": "rgb(255,65,54)"
         },
         "mode": "lines",
         "text": [
          "theory_mind_general_military_generals",
          "",
          "",
          "object_destruction_combat_political_therefore"
         ],
         "type": "scatter",
         "x": [
          0.6887980057502642,
          0.9384714644223966,
          0.9384714644223966,
          0.7692351962624776
         ],
         "xaxis": "x",
         "y": [
          -42.5,
          -42.5,
          -77.5,
          -77.5
         ],
         "yaxis": "y"
        },
        {
         "hoverinfo": "text",
         "marker": {
          "color": "rgb(35,205,205)"
         },
         "mode": "lines",
         "text": [
          "enemy_defensive_position_attack_advantage",
          "",
          "",
          "victory_battle_forces_combat_ram"
         ],
         "type": "scatter",
         "x": [
          0,
          0.610102426849129,
          0.610102426849129,
          0
         ],
         "xaxis": "x",
         "y": [
          -115,
          -115,
          -125,
          -125
         ],
         "yaxis": "y"
        },
        {
         "hoverinfo": "text",
         "marker": {
          "color": "rgb(35,205,205)"
         },
         "mode": "lines",
         "text": [
          "retreat_pursuit_retreats_surprise_enemy",
          "",
          "",
          "enemy_battle_victory_defensive_may"
         ],
         "type": "scatter",
         "x": [
          0,
          0.7623976391476183,
          0.7623976391476183,
          0.610102426849129
         ],
         "xaxis": "x",
         "y": [
          -105,
          -105,
          -120,
          -120
         ],
         "yaxis": "y"
        },
        {
         "hoverinfo": "text",
         "marker": {
          "color": "rgb(35,205,205)"
         },
         "mode": "lines",
         "text": [
          "night_combat_combats_wooded_assailant",
          "",
          "",
          "enemy_battle_victory_defensive_position"
         ],
         "type": "scatter",
         "x": [
          0,
          0.8271714517387605,
          0.8271714517387605,
          0.7623976391476183
         ],
         "xaxis": "x",
         "y": [
          -95,
          -95,
          -112.5,
          -112.5
         ],
         "yaxis": "y"
        },
        {
         "hoverinfo": "text",
         "marker": {
          "color": "rgb(35,205,205)"
         },
         "mode": "lines",
         "text": [
          "enemy_battle_victory_attack_night",
          "",
          "",
          "strategy_tactics_principle_fundamental_definition"
         ],
         "type": "scatter",
         "x": [
          0.8271714517387605,
          0.8984455357937081,
          0.8984455357937081,
          0
         ],
         "xaxis": "x",
         "y": [
          -103.75,
          -103.75,
          -135,
          -135
         ],
         "yaxis": "y"
        },
        {
         "hoverinfo": "text",
         "marker": {
          "color": "rgb(0,116,217)"
         },
         "mode": "lines",
         "text": [
          "object_theory_therefore_means_destruction",
          "",
          "",
          "enemy_battle_victory_point_attack"
         ],
         "type": "scatter",
         "x": [
          0.9384714644223966,
          1.0045684727343125,
          1.0045684727343125,
          0.8984455357937081
         ],
         "xaxis": "x",
         "y": [
          -60,
          -60,
          -119.375,
          -119.375
         ],
         "yaxis": "y"
        },
        {
         "hoverinfo": "text",
         "marker": {
          "color": "rgb(0,116,217)"
         },
         "mode": "lines",
         "text": [
          "art_war_science_arts_les",
          "",
          "",
          "object_therefore_may_theory_must"
         ],
         "type": "scatter",
         "x": [
          0.7058245712355982,
          1.3802218860795095,
          1.3802218860795095,
          1.0045684727343125
         ],
         "xaxis": "x",
         "y": [
          -17.5,
          -17.5,
          -89.6875,
          -89.6875
         ],
         "yaxis": "y"
        },
        {
         "hoverinfo": "text",
         "marker": {
          "color": "rgb(133,20,75)"
         },
         "mode": "lines",
         "text": [
          "cavalry_infantry_charge_charges_lance",
          "",
          "",
          "divisions_battalions_columns_column_deployed"
         ],
         "type": "scatter",
         "x": [
          0,
          0.6609453118586452,
          0.6609453118586452,
          0
         ],
         "xaxis": "x",
         "y": [
          -155,
          -155,
          -165,
          -165
         ],
         "yaxis": "y"
        },
        {
         "hoverinfo": "text",
         "marker": {
          "color": "rgb(133,20,75)"
         },
         "mode": "lines",
         "text": [
          "cavalry_divisions_battalions_columns_infantry",
          "",
          "",
          "order_center_wings_oblique_fig"
         ],
         "type": "scatter",
         "x": [
          0.6609453118586452,
          0.8523763080226696,
          0.8523763080226696,
          0
         ],
         "xaxis": "x",
         "y": [
          -160,
          -160,
          -175,
          -175
         ],
         "yaxis": "y"
        },
        {
         "hoverinfo": "text",
         "marker": {
          "color": "rgb(133,20,75)"
         },
         "mode": "lines",
         "text": [
          "division_st_corps_second_fig",
          "",
          "",
          "cavalry_divisions_battalions_columns_infantry"
         ],
         "type": "scatter",
         "x": [
          0,
          0.9854284400187774,
          0.9854284400187774,
          0.8523763080226696
         ],
         "xaxis": "x",
         "y": [
          -145,
          -145,
          -167.5,
          -167.5
         ],
         "yaxis": "y"
        },
        {
         "hoverinfo": "text",
         "marker": {
          "color": "rgb(255,220,0)"
         },
         "mode": "lines",
         "text": [
          "detachments_army_necessary_may_commander",
          "",
          "",
          "staff_officers_duties_corps_logistics"
         ],
         "type": "scatter",
         "x": [
          0,
          0.7927669703989831,
          0.7927669703989831,
          0
         ],
         "xaxis": "x",
         "y": [
          -185,
          -185,
          -195,
          -195
         ],
         "yaxis": "y"
        },
        {
         "hoverinfo": "text",
         "marker": {
          "color": "rgb(255,220,0)"
         },
         "mode": "lines",
         "text": [
          "staff_officers_duties_corps_detachments",
          "",
          "",
          "clausewitz_von_carl_general_staff"
         ],
         "type": "scatter",
         "x": [
          0.7927669703989831,
          0.9411432123871616,
          0.9411432123871616,
          0
         ],
         "xaxis": "x",
         "y": [
          -190,
          -190,
          -205,
          -205
         ],
         "yaxis": "y"
        },
        {
         "hoverinfo": "text",
         "marker": {
          "color": "rgb(0,116,217)"
         },
         "mode": "lines",
         "text": [
          "cavalry_division_divisions_corps_battalions",
          "",
          "",
          "staff_clausewitz_officers_general_corps"
         ],
         "type": "scatter",
         "x": [
          0.9854284400187774,
          1.029147714543425,
          1.029147714543425,
          0.9411432123871616
         ],
         "xaxis": "x",
         "y": [
          -156.25,
          -156.25,
          -197.5,
          -197.5
         ],
         "yaxis": "y"
        },
        {
         "hoverinfo": "text",
         "marker": {
          "color": "rgb(40,35,35)"
         },
         "mode": "lines",
         "text": [
          "firearms_improvements_range_invention_gunpowder",
          "",
          "",
          "footnote_footnotes_refer_claim_treated"
         ],
         "type": "scatter",
         "x": [
          0,
          0.9371755522098556,
          0.9371755522098556,
          0
         ],
         "xaxis": "x",
         "y": [
          -215,
          -215,
          -225,
          -225
         ],
         "yaxis": "y"
        },
        {
         "hoverinfo": "text",
         "marker": {
          "color": "rgb(40,35,35)"
         },
         "mode": "lines",
         "text": [
          "camps_intrenched_connection_cantonments_tetes",
          "",
          "",
          "mountainous_countries_mountains_plains_valleys"
         ],
         "type": "scatter",
         "x": [
          0,
          0.8583884886057335,
          0.8583884886057335,
          0
         ],
         "xaxis": "x",
         "y": [
          -235,
          -235,
          -245,
          -245
         ],
         "yaxis": "y"
        },
        {
         "hoverinfo": "text",
         "marker": {
          "color": "rgb(40,35,35)"
         },
         "mode": "lines",
         "text": [
          "footnote_footnotes_firearms_improvements_range",
          "",
          "",
          "camps_intrenched_mountainous_countries_defense"
         ],
         "type": "scatter",
         "x": [
          0.9371755522098556,
          0.997403181252849,
          0.997403181252849,
          0.8583884886057335
         ],
         "xaxis": "x",
         "y": [
          -220,
          -220,
          -240,
          -240
         ],
         "yaxis": "y"
        },
        {
         "hoverinfo": "text",
         "marker": {
          "color": "rgb(61,153,112)"
         },
         "mode": "lines",
         "text": [
          "invasions_distant_invasion_diplomacy_wars",
          "",
          "",
          "intervention_wars_interferes_state_kinds"
         ],
         "type": "scatter",
         "x": [
          0,
          0.8042404699724623,
          0.8042404699724623,
          0
         ],
         "xaxis": "x",
         "y": [
          -255,
          -255,
          -265,
          -265
         ],
         "yaxis": "y"
        },
        {
         "hoverinfo": "text",
         "marker": {
          "color": "rgb(0,116,217)"
         },
         "mode": "lines",
         "text": [
          "camps_intrenched_mountainous_footnote_countries",
          "",
          "",
          "invasions_intervention_wars_distant_interferes"
         ],
         "type": "scatter",
         "x": [
          0.997403181252849,
          1.0155989878148943,
          1.0155989878148943,
          0.8042404699724623
         ],
         "xaxis": "x",
         "y": [
          -230,
          -230,
          -260,
          -260
         ],
         "yaxis": "y"
        },
        {
         "hoverinfo": "text",
         "marker": {
          "color": "rgb(255,65,54)"
         },
         "mode": "lines",
         "text": [
          "thousand_turks_hundred_vessels_cyprus",
          "",
          "",
          "hannibal_carthaginians_carthage_roman_rome"
         ],
         "type": "scatter",
         "x": [
          0,
          0.8078142987501398,
          0.8078142987501398,
          0
         ],
         "xaxis": "x",
         "y": [
          -275,
          -275,
          -285,
          -285
         ],
         "yaxis": "y"
        },
        {
         "hoverinfo": "text",
         "marker": {
          "color": "rgb(255,65,54)"
         },
         "mode": "lines",
         "text": [
          "sicily_sicilian_us_sicilians_peloponnese",
          "",
          "",
          "messina_sicily_locrian_gylippus_thence"
         ],
         "type": "scatter",
         "x": [
          0,
          0.7573977805481867,
          0.7573977805481867,
          0
         ],
         "xaxis": "x",
         "y": [
          -295,
          -295,
          -305,
          -305
         ],
         "yaxis": "y"
        },
        {
         "hoverinfo": "text",
         "marker": {
          "color": "rgb(255,65,54)"
         },
         "mode": "lines",
         "text": [
          "hannibal_thousand_carthaginians_hundred_roman",
          "",
          "",
          "sicily_messina_sicilian_sicilians_us"
         ],
         "type": "scatter",
         "x": [
          0.8078142987501398,
          0.9978489995835307,
          0.9978489995835307,
          0.7573977805481867
         ],
         "xaxis": "x",
         "y": [
          -280,
          -280,
          -300,
          -300
         ],
         "yaxis": "y"
        },
        {
         "hoverinfo": "text",
         "marker": {
          "color": "rgb(35,205,205)"
         },
         "mode": "lines",
         "text": [
          "samos_oligarchy_alcibiades_democracy_tissaphernes",
          "",
          "",
          "confederacy_confederates_confederate_disgrace_chians"
         ],
         "type": "scatter",
         "x": [
          0,
          0.9308982863611803,
          0.9308982863611803,
          0
         ],
         "xaxis": "x",
         "y": [
          -315,
          -315,
          -325,
          -325
         ],
         "yaxis": "y"
        },
        {
         "hoverinfo": "text",
         "marker": {
          "color": "rgb(35,205,205)"
         },
         "mode": "lines",
         "text": [
          "moscow_russian_russians_buonaparte_peace",
          "",
          "",
          "peloponnesians_samians_phormio_superiority_without"
         ],
         "type": "scatter",
         "x": [
          0,
          0.9206071763654493,
          0.9206071763654493,
          0
         ],
         "xaxis": "x",
         "y": [
          -335,
          -335,
          -345,
          -345
         ],
         "yaxis": "y"
        },
        {
         "hoverinfo": "text",
         "marker": {
          "color": "rgb(35,205,205)"
         },
         "mode": "lines",
         "text": [
          "moscow_peloponnesians_russian_russians_buonaparte",
          "",
          "",
          "house_fire_right_side_left"
         ],
         "type": "scatter",
         "x": [
          0.9206071763654493,
          0.9625354577486902,
          0.9625354577486902,
          0
         ],
         "xaxis": "x",
         "y": [
          -340,
          -340,
          -355,
          -355
         ],
         "yaxis": "y"
        },
        {
         "hoverinfo": "text",
         "marker": {
          "color": "rgb(35,205,205)"
         },
         "mode": "lines",
         "text": [
          "samos_alcibiades_oligarchy_confederacy_confederates",
          "",
          "",
          "moscow_peloponnesians_house_russian_fire"
         ],
         "type": "scatter",
         "x": [
          0.9308982863611803,
          0.9820996772477806,
          0.9820996772477806,
          0.9625354577486902
         ],
         "xaxis": "x",
         "y": [
          -320,
          -320,
          -347.5,
          -347.5
         ],
         "yaxis": "y"
        },
        {
         "hoverinfo": "text",
         "marker": {
          "color": "rgb(61,153,112)"
         },
         "mode": "lines",
         "text": [
          "sun_wu_tz_chi_yu",
          "",
          "",
          "spies_spy_converted_information_tu"
         ],
         "type": "scatter",
         "x": [
          0,
          0.8415904458124417,
          0.8415904458124417,
          0
         ],
         "xaxis": "x",
         "y": [
          -375,
          -375,
          -385,
          -385
         ],
         "yaxis": "y"
        },
        {
         "hoverinfo": "text",
         "marker": {
          "color": "rgb(61,153,112)"
         },
         "mode": "lines",
         "text": [
          "chariots_chariot_elephants_charioteers_swift",
          "",
          "",
          "sun_wu_tz_chi_yu"
         ],
         "type": "scatter",
         "x": [
          0,
          0.9750317543279718,
          0.9750317543279718,
          0.8415904458124417
         ],
         "xaxis": "x",
         "y": [
          -365,
          -365,
          -380,
          -380
         ],
         "yaxis": "y"
        },
        {
         "hoverinfo": "text",
         "marker": {
          "color": "rgb(0,116,217)"
         },
         "mode": "lines",
         "text": [
          "moscow_peloponnesians_samos_house_russian",
          "",
          "",
          "sun_wu_tz_chi_yu"
         ],
         "type": "scatter",
         "x": [
          0.9820996772477806,
          1.0224859511834765,
          1.0224859511834765,
          0.9750317543279718
         ],
         "xaxis": "x",
         "y": [
          -333.75,
          -333.75,
          -372.5,
          -372.5
         ],
         "yaxis": "y"
        },
        {
         "hoverinfo": "text",
         "marker": {
          "color": "rgb(0,116,217)"
         },
         "mode": "lines",
         "text": [
          "sicily_hannibal_thousand_carthaginians_hundred",
          "",
          "",
          "sun_wu_tz_chi_yu"
         ],
         "type": "scatter",
         "x": [
          0.9978489995835307,
          1.0867750520636141,
          1.0867750520636141,
          1.0224859511834765
         ],
         "xaxis": "x",
         "y": [
          -290,
          -290,
          -353.125,
          -353.125
         ],
         "yaxis": "y"
        },
        {
         "hoverinfo": "text",
         "marker": {
          "color": "rgb(0,116,217)"
         },
         "mode": "lines",
         "text": [
          "camps_intrenched_mountainous_invasions_wars",
          "",
          "",
          "sun_wu_tz_chi_yu"
         ],
         "type": "scatter",
         "x": [
          1.0155989878148943,
          1.1333401692122378,
          1.1333401692122378,
          1.0867750520636141
         ],
         "xaxis": "x",
         "y": [
          -245,
          -245,
          -321.5625,
          -321.5625
         ],
         "yaxis": "y"
        },
        {
         "hoverinfo": "text",
         "marker": {
          "color": "rgb(0,116,217)"
         },
         "mode": "lines",
         "text": [
          "cavalry_corps_divisions_division_battalions",
          "",
          "",
          "sun_wu_tz_chi_yu"
         ],
         "type": "scatter",
         "x": [
          1.029147714543425,
          1.215806085112488,
          1.215806085112488,
          1.1333401692122378
         ],
         "xaxis": "x",
         "y": [
          -176.875,
          -176.875,
          -283.28125,
          -283.28125
         ],
         "yaxis": "y"
        },
        {
         "hoverinfo": "text",
         "marker": {
          "color": "rgb(255,65,54)"
         },
         "mode": "lines",
         "text": [
          "affair_alliance_corcyra_refusing_join",
          "",
          "",
          "us_treaty_arbitration_agreement_shall"
         ],
         "type": "scatter",
         "x": [
          0,
          0.8019633469271301,
          0.8019633469271301,
          0
         ],
         "xaxis": "x",
         "y": [
          -395,
          -395,
          -405,
          -405
         ],
         "yaxis": "y"
        },
        {
         "hoverinfo": "text",
         "marker": {
          "color": "rgb(255,65,54)"
         },
         "mode": "lines",
         "text": [
          "us_treaty_arbitration_agreement_shall",
          "",
          "",
          "confidence_us_fear_neighbour_friends"
         ],
         "type": "scatter",
         "x": [
          0.8019633469271301,
          0.8302412265916024,
          0.8302412265916024,
          0
         ],
         "xaxis": "x",
         "y": [
          -400,
          -400,
          -415,
          -415
         ],
         "yaxis": "y"
        },
        {
         "hoverinfo": "text",
         "marker": {
          "color": "rgb(255,65,54)"
         },
         "mode": "lines",
         "text": [
          "public_private_democracy_government_prosperity",
          "",
          "",
          "guilty_crime_guilt_justice_offenders"
         ],
         "type": "scatter",
         "x": [
          0,
          0.7212718915840808,
          0.7212718915840808,
          0
         ],
         "xaxis": "x",
         "y": [
          -445,
          -445,
          -455,
          -455
         ],
         "yaxis": "y"
        },
        {
         "hoverinfo": "text",
         "marker": {
          "color": "rgb(255,65,54)"
         },
         "mode": "lines",
         "text": [
          "arms_council_clemency_pisander_thought",
          "",
          "",
          "public_private_democracy_government_prosperity"
         ],
         "type": "scatter",
         "x": [
          0,
          0.7920745119577666,
          0.7920745119577666,
          0.7212718915840808
         ],
         "xaxis": "x",
         "y": [
          -435,
          -435,
          -450,
          -450
         ],
         "yaxis": "y"
        },
        {
         "hoverinfo": "text",
         "marker": {
          "color": "rgb(255,65,54)"
         },
         "mode": "lines",
         "text": [
          "city_design_walled_dead_equally",
          "",
          "",
          "public_private_democracy_man_government"
         ],
         "type": "scatter",
         "x": [
          0,
          0.8660976056601953,
          0.8660976056601953,
          0.7920745119577666
         ],
         "xaxis": "x",
         "y": [
          -425,
          -425,
          -442.5,
          -442.5
         ],
         "yaxis": "y"
        },
        {
         "hoverinfo": "text",
         "marker": {
          "color": "rgb(255,65,54)"
         },
         "mode": "lines",
         "text": [
          "city_public_private_democracy_people",
          "",
          "",
          "country_dominion_locality_think_capital"
         ],
         "type": "scatter",
         "x": [
          0.8660976056601953,
          0.8901113698002002,
          0.8901113698002002,
          0
         ],
         "xaxis": "x",
         "y": [
          -433.75,
          -433.75,
          -465,
          -465
         ],
         "yaxis": "y"
        },
        {
         "hoverinfo": "text",
         "marker": {
          "color": "rgb(255,65,54)"
         },
         "mode": "lines",
         "text": [
          "us_treaty_arbitration_agreement_fear",
          "",
          "",
          "city_public_private_people_country"
         ],
         "type": "scatter",
         "x": [
          0.8302412265916024,
          0.9585920340587774,
          0.9585920340587774,
          0.8901113698002002
         ],
         "xaxis": "x",
         "y": [
          -407.5,
          -407.5,
          -449.375,
          -449.375
         ],
         "yaxis": "y"
        },
        {
         "hoverinfo": "text",
         "marker": {
          "color": "rgb(35,205,205)"
         },
         "mode": "lines",
         "text": [
          "life_danger_unimpaired_generosity_arrogance",
          "",
          "",
          "life_thy_respecting_gods_man"
         ],
         "type": "scatter",
         "x": [
          0,
          0.8301940254956239,
          0.8301940254956239,
          0
         ],
         "xaxis": "x",
         "y": [
          -475,
          -475,
          -485,
          -485
         ],
         "yaxis": "y"
        },
        {
         "hoverinfo": "text",
         "marker": {
          "color": "rgb(35,205,205)"
         },
         "mode": "lines",
         "text": [
          "coffin_wine_tomb_funeral_fathers",
          "",
          "",
          "children_relatives_women_beget_boyish"
         ],
         "type": "scatter",
         "x": [
          0,
          0.898547000951212,
          0.898547000951212,
          0
         ],
         "xaxis": "x",
         "y": [
          -495,
          -495,
          -505,
          -505
         ],
         "yaxis": "y"
        },
        {
         "hoverinfo": "text",
         "marker": {
          "color": "rgb(35,205,205)"
         },
         "mode": "lines",
         "text": [
          "life_thy_man_gods_danger",
          "",
          "",
          "coffin_relatives_wine_tomb_funeral"
         ],
         "type": "scatter",
         "x": [
          0.8301940254956239,
          0.9388939188768599,
          0.9388939188768599,
          0.898547000951212
         ],
         "xaxis": "x",
         "y": [
          -480,
          -480,
          -500,
          -500
         ],
         "yaxis": "y"
        },
        {
         "hoverinfo": "text",
         "marker": {
          "color": "rgb(0,116,217)"
         },
         "mode": "lines",
         "text": [
          "us_city_public_private_country",
          "",
          "",
          "coffin_life_honour_man_relatives"
         ],
         "type": "scatter",
         "x": [
          0.9585920340587774,
          1.040312839693002,
          1.040312839693002,
          0.9388939188768599
         ],
         "xaxis": "x",
         "y": [
          -428.4375,
          -428.4375,
          -490,
          -490
         ],
         "yaxis": "y"
        },
        {
         "hoverinfo": "text",
         "marker": {
          "color": "rgb(0,116,217)"
         },
         "mode": "lines",
         "text": [
          "sun_wu_tz_cavalry_yu",
          "",
          "",
          "us_life_public_city_man"
         ],
         "type": "scatter",
         "x": [
          1.215806085112488,
          1.3158451170366101,
          1.3158451170366101,
          1.040312839693002
         ],
         "xaxis": "x",
         "y": [
          -230.078125,
          -230.078125,
          -459.21875,
          -459.21875
         ],
         "yaxis": "y"
        },
        {
         "hoverinfo": "text",
         "marker": {
          "color": "rgb(0,116,217)"
         },
         "mode": "lines",
         "text": [
          "object_theory_therefore_may_art",
          "",
          "",
          "sun_wu_tz_cavalry_chi"
         ],
         "type": "scatter",
         "x": [
          1.3802218860795095,
          1.4204406000473806,
          1.4204406000473806,
          1.3158451170366101
         ],
         "xaxis": "x",
         "y": [
          -53.59375,
          -53.59375,
          -344.6484375,
          -344.6484375
         ],
         "yaxis": "y"
        },
        {
         "hoverinfo": "text",
         "marker": {
          "color": "rgb(133,20,75)"
         },
         "mode": "lines",
         "text": [
          "diversions_detachments_operations_corps_zone",
          "",
          "",
          "operations_theater_zone_strategic_center"
         ],
         "type": "scatter",
         "x": [
          0,
          0.7164837600740983,
          0.7164837600740983,
          0
         ],
         "xaxis": "x",
         "y": [
          -515,
          -515,
          -525,
          -525
         ],
         "yaxis": "y"
        },
        {
         "hoverinfo": "text",
         "marker": {
          "color": "rgb(133,20,75)"
         },
         "mode": "lines",
         "text": [
          "diversions_operations_zone_detachments_theater",
          "",
          "",
          "reserves_reserve_strategic_economy_idea"
         ],
         "type": "scatter",
         "x": [
          0.7164837600740983,
          0.9284983195753627,
          0.9284983195753627,
          0
         ],
         "xaxis": "x",
         "y": [
          -520,
          -520,
          -535,
          -535
         ],
         "yaxis": "y"
        },
        {
         "hoverinfo": "text",
         "marker": {
          "color": "rgb(133,20,75)"
         },
         "mode": "lines",
         "text": [
          "lines_operations_line_double_strategic",
          "",
          "",
          "napoleon_line_lines_operations_strategic"
         ],
         "type": "scatter",
         "x": [
          0,
          0.5522544970154166,
          0.5522544970154166,
          0
         ],
         "xaxis": "x",
         "y": [
          -555,
          -555,
          -565,
          -565
         ],
         "yaxis": "y"
        },
        {
         "hoverinfo": "text",
         "marker": {
          "color": "rgb(133,20,75)"
         },
         "mode": "lines",
         "text": [
          "lines_operations_line_strategic_double",
          "",
          "",
          "napoleon_napoleons_rivoli_order_bonaparte"
         ],
         "type": "scatter",
         "x": [
          0.5522544970154166,
          0.7506057918935465,
          0.7506057918935465,
          0
         ],
         "xaxis": "x",
         "y": [
          -560,
          -560,
          -575,
          -575
         ],
         "yaxis": "y"
        },
        {
         "hoverinfo": "text",
         "marker": {
          "color": "rgb(133,20,75)"
         },
         "mode": "lines",
         "text": [
          "point_decisive_strategic_points_battlefield",
          "",
          "",
          "lines_napoleon_operations_line_napoleons"
         ],
         "type": "scatter",
         "x": [
          0,
          0.814995074105366,
          0.814995074105366,
          0.7506057918935465
         ],
         "xaxis": "x",
         "y": [
          -545,
          -545,
          -567.5,
          -567.5
         ],
         "yaxis": "y"
        },
        {
         "hoverinfo": "text",
         "marker": {
          "color": "rgb(133,20,75)"
         },
         "mode": "lines",
         "text": [
          "diversions_operations_strategic_reserves_reserve",
          "",
          "",
          "lines_napoleon_operations_line_strategic"
         ],
         "type": "scatter",
         "x": [
          0.9284983195753627,
          0.9488925259044086,
          0.9488925259044086,
          0.814995074105366
         ],
         "xaxis": "x",
         "y": [
          -527.5,
          -527.5,
          -556.25,
          -556.25
         ],
         "yaxis": "y"
        },
        {
         "hoverinfo": "text",
         "marker": {
          "color": "rgb(255,220,0)"
         },
         "mode": "lines",
         "text": [
          "austrians_inn_bavaria_vienna_hundred",
          "",
          "",
          "danube_rhine_ulm_bohemia_alps"
         ],
         "type": "scatter",
         "x": [
          0,
          0.7316597651497583,
          0.7316597651497583,
          0
         ],
         "xaxis": "x",
         "y": [
          -595,
          -595,
          -605,
          -605
         ],
         "yaxis": "y"
        },
        {
         "hoverinfo": "text",
         "marker": {
          "color": "rgb(255,220,0)"
         },
         "mode": "lines",
         "text": [
          "archduke_charles_austrians_vienna_moreau",
          "",
          "",
          "danube_rhine_austrians_inn_tyrol"
         ],
         "type": "scatter",
         "x": [
          0,
          0.778327874517345,
          0.778327874517345,
          0.7316597651497583
         ],
         "xaxis": "x",
         "y": [
          -585,
          -585,
          -600,
          -600
         ],
         "yaxis": "y"
        },
        {
         "hoverinfo": "text",
         "marker": {
          "color": "rgb(255,220,0)"
         },
         "mode": "lines",
         "text": [
          "archduke_austrians_rhine_danube_charles",
          "",
          "",
          "detour_landau_clairfayt_charleroi_darmee"
         ],
         "type": "scatter",
         "x": [
          0.778327874517345,
          0.8979989078337415,
          0.8979989078337415,
          0
         ],
         "xaxis": "x",
         "y": [
          -592.5,
          -592.5,
          -615,
          -615
         ],
         "yaxis": "y"
        },
        {
         "hoverinfo": "text",
         "marker": {
          "color": "rgb(0,116,217)"
         },
         "mode": "lines",
         "text": [
          "lines_operations_napoleon_strategic_line",
          "",
          "",
          "archduke_austrians_rhine_danube_charles"
         ],
         "type": "scatter",
         "x": [
          0.9488925259044086,
          1.1676861039522632,
          1.1676861039522632,
          0.8979989078337415
         ],
         "xaxis": "x",
         "y": [
          -541.875,
          -541.875,
          -603.75,
          -603.75
         ],
         "yaxis": "y"
        },
        {
         "hoverinfo": "text",
         "marker": {
          "color": "rgb(0,116,217)"
         },
         "mode": "lines",
         "text": [
          "may_sun_must_wu_one",
          "",
          "",
          "lines_operations_napoleon_line_strategic"
         ],
         "type": "scatter",
         "x": [
          1.4204406000473806,
          1.5287180887629201,
          1.5287180887629201,
          1.1676861039522632
         ],
         "xaxis": "x",
         "y": [
          -199.12109375,
          -199.12109375,
          -572.8125,
          -572.8125
         ],
         "yaxis": "y"
        },
        {
         "hoverinfo": "text",
         "marker": {
          "color": "rgb(40,35,35)"
         },
         "mode": "lines",
         "text": [
          "ended_winter_summer_epidaurians_year",
          "",
          "",
          "attica_peloponnesians_summer_invaded_athenians"
         ],
         "type": "scatter",
         "x": [
          0,
          0.7770900871253393,
          0.7770900871253393,
          0
         ],
         "xaxis": "x",
         "y": [
          -625,
          -625,
          -635,
          -635
         ],
         "yaxis": "y"
        },
        {
         "hoverinfo": "text",
         "marker": {
          "color": "rgb(40,35,35)"
         },
         "mode": "lines",
         "text": [
          "athenians_rest_athenian_wing_garrison",
          "",
          "",
          "hundred_heavy_thousand_infantry_athenian"
         ],
         "type": "scatter",
         "x": [
          0,
          0.684498046967119,
          0.684498046967119,
          0
         ],
         "xaxis": "x",
         "y": [
          -655,
          -655,
          -665,
          -665
         ],
         "yaxis": "y"
        },
        {
         "hoverinfo": "text",
         "marker": {
          "color": "rgb(40,35,35)"
         },
         "mode": "lines",
         "text": [
          "boeotians_delium_boeotia_hippocrates_dead",
          "",
          "",
          "hundred_athenian_heavy_athenians_infantry"
         ],
         "type": "scatter",
         "x": [
          0,
          0.834268658015253,
          0.834268658015253,
          0.684498046967119
         ],
         "xaxis": "x",
         "y": [
          -645,
          -645,
          -660,
          -660
         ],
         "yaxis": "y"
        },
        {
         "hoverinfo": "text",
         "marker": {
          "color": "rgb(40,35,35)"
         },
         "mode": "lines",
         "text": [
          "syracusans_syracusan_athenians_gylippus_athenian",
          "",
          "",
          "athenians_syracusans_meanwhile_megara_would"
         ],
         "type": "scatter",
         "x": [
          0,
          0.5694977754956718,
          0.5694977754956718,
          0
         ],
         "xaxis": "x",
         "y": [
          -675,
          -675,
          -685,
          -685
         ],
         "yaxis": "y"
        },
        {
         "hoverinfo": "text",
         "marker": {
          "color": "rgb(40,35,35)"
         },
         "mode": "lines",
         "text": [
          "athenians_lacedaemonians_athens_lacedaemon_allies",
          "",
          "",
          "ships_sailed_athenians_vessels_athenian"
         ],
         "type": "scatter",
         "x": [
          0,
          0.5796251033069448,
          0.5796251033069448,
          0
         ],
         "xaxis": "x",
         "y": [
          -695,
          -695,
          -705,
          -705
         ],
         "yaxis": "y"
        },
        {
         "hoverinfo": "text",
         "marker": {
          "color": "rgb(40,35,35)"
         },
         "mode": "lines",
         "text": [
          "athenians_lacedaemonians_athens_ships_athenian",
          "",
          "",
          "english_french_england_france_ships"
         ],
         "type": "scatter",
         "x": [
          0.5796251033069448,
          0.6874860663252433,
          0.6874860663252433,
          0
         ],
         "xaxis": "x",
         "y": [
          -700,
          -700,
          -715,
          -715
         ],
         "yaxis": "y"
        },
        {
         "hoverinfo": "text",
         "marker": {
          "color": "rgb(40,35,35)"
         },
         "mode": "lines",
         "text": [
          "syracusans_athenians_syracusan_gylippus_athenian",
          "",
          "",
          "english_french_ships_england_fleet"
         ],
         "type": "scatter",
         "x": [
          0.5694977754956718,
          0.8395253739568375,
          0.8395253739568375,
          0.6874860663252433
         ],
         "xaxis": "x",
         "y": [
          -680,
          -680,
          -707.5,
          -707.5
         ],
         "yaxis": "y"
        },
        {
         "hoverinfo": "text",
         "marker": {
          "color": "rgb(40,35,35)"
         },
         "mode": "lines",
         "text": [
          "athenians_hundred_athenian_heavy_infantry",
          "",
          "",
          "english_french_ships_england_fleet"
         ],
         "type": "scatter",
         "x": [
          0.834268658015253,
          0.8801000473673565,
          0.8801000473673565,
          0.8395253739568375
         ],
         "xaxis": "x",
         "y": [
          -652.5,
          -652.5,
          -693.75,
          -693.75
         ],
         "yaxis": "y"
        },
        {
         "hoverinfo": "text",
         "marker": {
          "color": "rgb(40,35,35)"
         },
         "mode": "lines",
         "text": [
          "winter_summer_ended_attica_epidaurians",
          "",
          "",
          "english_french_ships_england_fleet"
         ],
         "type": "scatter",
         "x": [
          0.7770900871253393,
          0.9770348114048911,
          0.9770348114048911,
          0.8801000473673565
         ],
         "xaxis": "x",
         "y": [
          -630,
          -630,
          -673.125,
          -673.125
         ],
         "yaxis": "y"
        },
        {
         "hoverinfo": "text",
         "marker": {
          "color": "rgb(61,153,112)"
         },
         "mode": "lines",
         "text": [
          "horse_horses_cavalry_men_curio",
          "",
          "",
          "men_camp_soldiers_woods_wall"
         ],
         "type": "scatter",
         "x": [
          0,
          0.6086399512316267,
          0.6086399512316267,
          0
         ],
         "xaxis": "x",
         "y": [
          -735,
          -735,
          -745,
          -745
         ],
         "yaxis": "y"
        },
        {
         "hoverinfo": "text",
         "marker": {
          "color": "rgb(61,153,112)"
         },
         "mode": "lines",
         "text": [
          "horse_men_horses_cavalry_woods",
          "",
          "",
          "caesar_gaul_caesars_people_legions"
         ],
         "type": "scatter",
         "x": [
          0.6086399512316267,
          0.6506314873995285,
          0.6506314873995285,
          0
         ],
         "xaxis": "x",
         "y": [
          -740,
          -740,
          -755,
          -755
         ],
         "yaxis": "y"
        },
        {
         "hoverinfo": "text",
         "marker": {
          "color": "rgb(61,153,112)"
         },
         "mode": "lines",
         "text": [
          "caesar_gaul_caesars_legions_people",
          "",
          "",
          "corn_cattle_supply_scarcity_want"
         ],
         "type": "scatter",
         "x": [
          0.6506314873995285,
          0.8137534949319698,
          0.8137534949319698,
          0
         ],
         "xaxis": "x",
         "y": [
          -747.5,
          -747.5,
          -765,
          -765
         ],
         "yaxis": "y"
        },
        {
         "hoverinfo": "text",
         "marker": {
          "color": "rgb(61,153,112)"
         },
         "mode": "lines",
         "text": [
          "soldiers_barbarous_baggage_valour_hardships",
          "",
          "",
          "caesar_gaul_legions_caesars_people"
         ],
         "type": "scatter",
         "x": [
          0,
          0.8508184866054407,
          0.8508184866054407,
          0.8137534949319698
         ],
         "xaxis": "x",
         "y": [
          -725,
          -725,
          -756.25,
          -756.25
         ],
         "yaxis": "y"
        },
        {
         "hoverinfo": "text",
         "marker": {
          "color": "rgb(61,153,112)"
         },
         "mode": "lines",
         "text": [
          "macedonians_alexander_phalanx_cavalry_city",
          "",
          "",
          "wall_mound_engines_towers_walls"
         ],
         "type": "scatter",
         "x": [
          0,
          0.6373859440338276,
          0.6373859440338276,
          0
         ],
         "xaxis": "x",
         "y": [
          -775,
          -775,
          -785,
          -785
         ],
         "yaxis": "y"
        },
        {
         "hoverinfo": "text",
         "marker": {
          "color": "rgb(61,153,112)"
         },
         "mode": "lines",
         "text": [
          "caesar_gaul_legions_caesars_people",
          "",
          "",
          "wall_macedonians_alexander_city_engines"
         ],
         "type": "scatter",
         "x": [
          0.8508184866054407,
          0.8905627306115828,
          0.8905627306115828,
          0.6373859440338276
         ],
         "xaxis": "x",
         "y": [
          -740.625,
          -740.625,
          -780,
          -780
         ],
         "yaxis": "y"
        },
        {
         "hoverinfo": "text",
         "marker": {
          "color": "rgb(255,65,54)"
         },
         "mode": "lines",
         "text": [
          "water_feet_ascent_morass_hill",
          "",
          "",
          "bridges_bank_coblentz_bridge_river"
         ],
         "type": "scatter",
         "x": [
          0,
          0.8065643635398025,
          0.8065643635398025,
          0
         ],
         "xaxis": "x",
         "y": [
          -795,
          -795,
          -805,
          -805
         ],
         "yaxis": "y"
        },
        {
         "hoverinfo": "text",
         "marker": {
          "color": "rgb(255,65,54)"
         },
         "mode": "lines",
         "text": [
          "rivers_river_crossing_rules_passage",
          "",
          "",
          "river_indus_called_name_rivers"
         ],
         "type": "scatter",
         "x": [
          0,
          0.792247343651634,
          0.792247343651634,
          0
         ],
         "xaxis": "x",
         "y": [
          -815,
          -815,
          -825,
          -825
         ],
         "yaxis": "y"
        },
        {
         "hoverinfo": "text",
         "marker": {
          "color": "rgb(255,65,54)"
         },
         "mode": "lines",
         "text": [
          "bridges_river_bridge_towers_bank",
          "",
          "",
          "river_indus_called_rivers_name"
         ],
         "type": "scatter",
         "x": [
          0.8065643635398025,
          0.8745764186954913,
          0.8745764186954913,
          0.792247343651634
         ],
         "xaxis": "x",
         "y": [
          -800,
          -800,
          -820,
          -820
         ],
         "yaxis": "y"
        },
        {
         "hoverinfo": "text",
         "marker": {
          "color": "rgb(0,116,217)"
         },
         "mode": "lines",
         "text": [
          "caesar_gaul_camp_legions_people",
          "",
          "",
          "river_indus_called_rivers_name"
         ],
         "type": "scatter",
         "x": [
          0.8905627306115828,
          1.1386488808094444,
          1.1386488808094444,
          0.8745764186954913
         ],
         "xaxis": "x",
         "y": [
          -760.3125,
          -760.3125,
          -810,
          -810
         ],
         "yaxis": "y"
        },
        {
         "hoverinfo": "text",
         "marker": {
          "color": "rgb(0,116,217)"
         },
         "mode": "lines",
         "text": [
          "english_french_ships_england_fleet",
          "",
          "",
          "caesar_gaul_river_camp_people"
         ],
         "type": "scatter",
         "x": [
          0.9770348114048911,
          1.387767233157395,
          1.387767233157395,
          1.1386488808094444
         ],
         "xaxis": "x",
         "y": [
          -651.5625,
          -651.5625,
          -785.15625,
          -785.15625
         ],
         "yaxis": "y"
        },
        {
         "hoverinfo": "text",
         "marker": {
          "color": "rgb(35,205,205)"
         },
         "mode": "lines",
         "text": [
          "maritza_bardylis_crateas_ariaspians_musicanus",
          "",
          "",
          "pliny_et_cappadocia_minor_asia"
         ],
         "type": "scatter",
         "x": [
          0,
          0.9698814544558331,
          0.9698814544558331,
          0
         ],
         "xaxis": "x",
         "y": [
          -845,
          -845,
          -855,
          -855
         ],
         "yaxis": "y"
        },
        {
         "hoverinfo": "text",
         "marker": {
          "color": "rgb(35,205,205)"
         },
         "mode": "lines",
         "text": [
          "heracles_dionysus_hercules_cadmus_son",
          "",
          "",
          "hippias_hipparchus_harmodius_aristogiton_pisistratus"
         ],
         "type": "scatter",
         "x": [
          0,
          0.9450791205246667,
          0.9450791205246667,
          0
         ],
         "xaxis": "x",
         "y": [
          -865,
          -865,
          -875,
          -875
         ],
         "yaxis": "y"
        },
        {
         "hoverinfo": "text",
         "marker": {
          "color": "rgb(35,205,205)"
         },
         "mode": "lines",
         "text": [
          "pliny_et_cappadocia_minor_asia",
          "",
          "",
          "heracles_hippias_hipparchus_harmodius_aristogiton"
         ],
         "type": "scatter",
         "x": [
          0.9698814544558331,
          0.9939530994115774,
          0.9939530994115774,
          0.9450791205246667
         ],
         "xaxis": "x",
         "y": [
          -850,
          -850,
          -870,
          -870
         ],
         "yaxis": "y"
        },
        {
         "hoverinfo": "text",
         "marker": {
          "color": "rgb(0,116,217)"
         },
         "mode": "lines",
         "text": [
          "xlv_disastrous_notice__",
          "",
          "",
          "heracles_hippias_hipparchus_harmodius_aristogiton"
         ],
         "type": "scatter",
         "x": [
          0,
          1.0176652353717386,
          1.0176652353717386,
          0.9939530994115774
         ],
         "xaxis": "x",
         "y": [
          -835,
          -835,
          -860,
          -860
         ],
         "yaxis": "y"
        },
        {
         "hoverinfo": "text",
         "marker": {
          "color": "rgb(61,153,112)"
         },
         "mode": "lines",
         "text": [
          "cf_arrian_homer_iliad_supra",
          "",
          "",
          "arrian_photius_epictetus_cod_extant"
         ],
         "type": "scatter",
         "x": [
          0,
          0.6632588845754179,
          0.6632588845754179,
          0
         ],
         "xaxis": "x",
         "y": [
          -885,
          -885,
          -895,
          -895
         ],
         "yaxis": "y"
        },
        {
         "hoverinfo": "text",
         "marker": {
          "color": "rgb(0,116,217)"
         },
         "mode": "lines",
         "text": [
          "heracles_hippias_hipparchus_harmodius_aristogiton",
          "",
          "",
          "arrian_cf_photius_iliad_homer"
         ],
         "type": "scatter",
         "x": [
          1.0176652353717386,
          1.1160840276457122,
          1.1160840276457122,
          0.6632588845754179
         ],
         "xaxis": "x",
         "y": [
          -847.5,
          -847.5,
          -890,
          -890
         ],
         "yaxis": "y"
        },
        {
         "hoverinfo": "text",
         "marker": {
          "color": "rgb(255,65,54)"
         },
         "mode": "lines",
         "text": [
          "alexander_alexanders_speech_callisthenes_king",
          "",
          "",
          "death_alexander_son_alexanders_died"
         ],
         "type": "scatter",
         "x": [
          0,
          0.6658919926087381,
          0.6658919926087381,
          0
         ],
         "xaxis": "x",
         "y": [
          -915,
          -915,
          -925,
          -925
         ],
         "yaxis": "y"
        },
        {
         "hoverinfo": "text",
         "marker": {
          "color": "rgb(255,65,54)"
         },
         "mode": "lines",
         "text": [
          "anabasis_alexander_juliopolis_ravi_rasalhad",
          "",
          "",
          "alexander_alexanders_speech_death_callisthenes"
         ],
         "type": "scatter",
         "x": [
          0,
          0.9489328074383853,
          0.9489328074383853,
          0.6658919926087381
         ],
         "xaxis": "x",
         "y": [
          -905,
          -905,
          -920,
          -920
         ],
         "yaxis": "y"
        },
        {
         "hoverinfo": "text",
         "marker": {
          "color": "rgb(35,205,205)"
         },
         "mode": "lines",
         "text": [
          "darius_persians_alexander_persian_grecian",
          "",
          "",
          "darius_wife_marry_mother_alexander"
         ],
         "type": "scatter",
         "x": [
          0,
          0.500790222666439,
          0.500790222666439,
          0
         ],
         "xaxis": "x",
         "y": [
          -935,
          -935,
          -945,
          -945
         ],
         "yaxis": "y"
        },
        {
         "hoverinfo": "text",
         "marker": {
          "color": "rgb(0,116,217)"
         },
         "mode": "lines",
         "text": [
          "alexander_alexanders_speech_death_callisthenes",
          "",
          "",
          "darius_persians_alexander_persian_wife"
         ],
         "type": "scatter",
         "x": [
          0.9489328074383853,
          1.082363053236295,
          1.082363053236295,
          0.500790222666439
         ],
         "xaxis": "x",
         "y": [
          -912.5,
          -912.5,
          -940,
          -940
         ],
         "yaxis": "y"
        },
        {
         "hoverinfo": "text",
         "marker": {
          "color": "rgb(133,20,75)"
         },
         "mode": "lines",
         "text": [
          "son_cavalry_posted_parmenio_philotas",
          "",
          "",
          "shieldbearing_agrianians_guards_archers_cavalry"
         ],
         "type": "scatter",
         "x": [
          0,
          0.6555505803285926,
          0.6555505803285926,
          0
         ],
         "xaxis": "x",
         "y": [
          -955,
          -955,
          -965,
          -965
         ],
         "yaxis": "y"
        },
        {
         "hoverinfo": "text",
         "marker": {
          "color": "rgb(133,20,75)"
         },
         "mode": "lines",
         "text": [
          "viceroy_areians_stasanor_phrataphernes_land",
          "",
          "",
          "spitamenes_sogdiana_sogdianians_scythians_sogdianarevolt"
         ],
         "type": "scatter",
         "x": [
          0,
          0.906738191984576,
          0.906738191984576,
          0
         ],
         "xaxis": "x",
         "y": [
          -975,
          -975,
          -985,
          -985
         ],
         "yaxis": "y"
        },
        {
         "hoverinfo": "text",
         "marker": {
          "color": "rgb(133,20,75)"
         },
         "mode": "lines",
         "text": [
          "cavalry_shieldbearing_agrianians_son_guards",
          "",
          "",
          "viceroy_spitamenes_sogdiana_sogdianians_areians"
         ],
         "type": "scatter",
         "x": [
          0.6555505803285926,
          0.9907775807140294,
          0.9907775807140294,
          0.906738191984576
         ],
         "xaxis": "x",
         "y": [
          -960,
          -960,
          -980,
          -980
         ],
         "yaxis": "y"
        },
        {
         "hoverinfo": "text",
         "marker": {
          "color": "rgb(0,116,217)"
         },
         "mode": "lines",
         "text": [
          "darius_alexander_alexanders_persians_king",
          "",
          "",
          "viceroy_cavalry_shieldbearing_son_agrianians"
         ],
         "type": "scatter",
         "x": [
          1.082363053236295,
          1.1442581679690074,
          1.1442581679690074,
          0.9907775807140294
         ],
         "xaxis": "x",
         "y": [
          -926.25,
          -926.25,
          -970,
          -970
         ],
         "yaxis": "y"
        },
        {
         "hoverinfo": "text",
         "marker": {
          "color": "rgb(0,116,217)"
         },
         "mode": "lines",
         "text": [
          "arrian_cf_heracles_hippias_hipparchus",
          "",
          "",
          "darius_alexander_alexanders_persians_son"
         ],
         "type": "scatter",
         "x": [
          1.1160840276457122,
          1.2054783054230858,
          1.2054783054230858,
          1.1442581679690074
         ],
         "xaxis": "x",
         "y": [
          -868.75,
          -868.75,
          -948.125,
          -948.125
         ],
         "yaxis": "y"
        },
        {
         "hoverinfo": "text",
         "marker": {
          "color": "rgb(255,220,0)"
         },
         "mode": "lines",
         "text": [
          "siege_halicarnassus_massaga_myndus_miletus",
          "",
          "",
          "siege_mantua_buonaparte_victories_genoa"
         ],
         "type": "scatter",
         "x": [
          0,
          0.7211667407563347,
          0.7211667407563347,
          0
         ],
         "xaxis": "x",
         "y": [
          -1005,
          -1005,
          -1015,
          -1015
         ],
         "yaxis": "y"
        },
        {
         "hoverinfo": "text",
         "marker": {
          "color": "rgb(255,220,0)"
         },
         "mode": "lines",
         "text": [
          "tyre_siege_tyrenaval_tyreconstruction_tyrians",
          "",
          "",
          "siege_halicarnassus_massaga_myndus_mantua"
         ],
         "type": "scatter",
         "x": [
          0,
          0.7782797579737092,
          0.7782797579737092,
          0.7211667407563347
         ],
         "xaxis": "x",
         "y": [
          -995,
          -995,
          -1010,
          -1010
         ],
         "yaxis": "y"
        },
        {
         "hoverinfo": "text",
         "marker": {
          "color": "rgb(0,116,217)"
         },
         "mode": "lines",
         "text": [
          "alexander_darius_arrian_alexanders_son",
          "",
          "",
          "siege_tyre_halicarnassus_myndus_massaga"
         ],
         "type": "scatter",
         "x": [
          1.2054783054230858,
          1.342113507852911,
          1.342113507852911,
          0.7782797579737092
         ],
         "xaxis": "x",
         "y": [
          -908.4375,
          -908.4375,
          -1002.5,
          -1002.5
         ],
         "yaxis": "y"
        },
        {
         "hoverinfo": "text",
         "marker": {
          "color": "rgb(0,116,217)"
         },
         "mode": "lines",
         "text": [
          "ships_english_french_sea_fleet",
          "",
          "",
          "alexander_darius_arrian_alexanders_son"
         ],
         "type": "scatter",
         "x": [
          1.387767233157395,
          1.6622696266373915,
          1.6622696266373915,
          1.342113507852911
         ],
         "xaxis": "x",
         "y": [
          -718.359375,
          -718.359375,
          -955.46875,
          -955.46875
         ],
         "yaxis": "y"
        },
        {
         "hoverinfo": "text",
         "marker": {
          "color": "rgb(0,116,217)"
         },
         "mode": "lines",
         "text": [
          "may_sun_lines_must_one",
          "",
          "",
          "ships_english_french_sea_fleet"
         ],
         "type": "scatter",
         "x": [
          1.5287180887629201,
          1.7494555360563702,
          1.7494555360563702,
          1.6622696266373915
         ],
         "xaxis": "x",
         "y": [
          -385.966796875,
          -385.966796875,
          -836.9140625,
          -836.9140625
         ],
         "yaxis": "y"
        },
        {
         "hoverinfo": "text",
         "hovertext": [
          "art_les_war_logistics_summary",
          "object_destruction_combat_political_enemys",
          "theory_mind_general_military_generals",
          "enemy_battle_victory_attack_night",
          "object_theory_therefore_means_destruction",
          "art_war_science_arts_les",
          "cavalry_divisions_battalions_columns_infantry",
          "staff_officers_duties_corps_detachments",
          "cavalry_division_divisions_corps_battalions",
          "footnote_footnotes_firearms_improvements_range",
          "camps_intrenched_mountainous_footnote_countries",
          "hannibal_thousand_carthaginians_hundred_roman",
          "moscow_peloponnesians_russian_russians_buonaparte",
          "samos_alcibiades_oligarchy_confederacy_confederates",
          "moscow_peloponnesians_samos_house_russian",
          "sicily_hannibal_thousand_carthaginians_hundred",
          "camps_intrenched_mountainous_invasions_wars",
          "cavalry_corps_divisions_division_battalions",
          "us_treaty_arbitration_agreement_shall",
          "city_public_private_democracy_people",
          "us_treaty_arbitration_agreement_fear",
          "life_thy_man_gods_danger",
          "us_city_public_private_country",
          "sun_wu_tz_cavalry_yu",
          "object_theory_therefore_may_art",
          "diversions_operations_zone_detachments_theater",
          "lines_operations_line_strategic_double",
          "diversions_operations_strategic_reserves_reserve",
          "archduke_austrians_rhine_danube_charles",
          "lines_operations_napoleon_strategic_line",
          "may_sun_must_wu_one",
          "athenians_lacedaemonians_athens_ships_athenian",
          "syracusans_athenians_syracusan_gylippus_athenian",
          "athenians_hundred_athenian_heavy_infantry",
          "winter_summer_ended_attica_epidaurians",
          "horse_men_horses_cavalry_woods",
          "caesar_gaul_caesars_legions_people",
          "caesar_gaul_legions_caesars_people",
          "bridges_river_bridge_towers_bank",
          "caesar_gaul_camp_legions_people",
          "english_french_ships_england_fleet",
          "pliny_et_cappadocia_minor_asia",
          "heracles_hippias_hipparchus_harmodius_aristogiton",
          "alexander_alexanders_speech_death_callisthenes",
          "cavalry_shieldbearing_agrianians_son_guards",
          "darius_alexander_alexanders_persians_king",
          "arrian_cf_heracles_hippias_hipparchus",
          "alexander_darius_arrian_alexanders_son",
          "ships_english_french_sea_fleet",
          "may_sun_lines_must_one"
         ],
         "marker": {
          "color": "black"
         },
         "mode": "markers",
         "showlegend": false,
         "type": "scatter",
         "x": [
          0.5765613974480518,
          0.620068719850593,
          0.6887980057502642,
          0.8271714517387605,
          0.9384714644223966,
          0.7058245712355982,
          0.6609453118586452,
          0.7927669703989831,
          0.9854284400187774,
          0.9371755522098556,
          0.997403181252849,
          0.8078142987501398,
          0.9206071763654493,
          0.9308982863611803,
          0.9820996772477806,
          0.9978489995835307,
          1.0155989878148943,
          1.029147714543425,
          0.8019633469271301,
          0.8660976056601953,
          0.8302412265916024,
          0.8301940254956239,
          0.9585920340587774,
          1.215806085112488,
          1.3802218860795095,
          0.7164837600740983,
          0.5522544970154166,
          0.9284983195753627,
          0.778327874517345,
          0.9488925259044086,
          1.4204406000473806,
          0.5796251033069448,
          0.5694977754956718,
          0.834268658015253,
          0.7770900871253393,
          0.6086399512316267,
          0.6506314873995285,
          0.8508184866054407,
          0.8065643635398025,
          0.8905627306115828,
          0.9770348114048911,
          0.9698814544558331,
          1.0176652353717386,
          0.9489328074383853,
          0.6555505803285926,
          1.082363053236295,
          1.1160840276457122,
          1.2054783054230858,
          1.387767233157395,
          1.5287180887629201
         ],
         "y": [
          -10,
          -70,
          -42.5,
          -103.75,
          -60,
          -17.5,
          -160,
          -190,
          -156.25,
          -220,
          -230,
          -280,
          -340,
          -320,
          -333.75,
          -290,
          -245,
          -176.875,
          -400,
          -433.75,
          -407.5,
          -480,
          -428.4375,
          -230.078125,
          -53.59375,
          -520,
          -560,
          -527.5,
          -592.5,
          -541.875,
          -199.12109375,
          -700,
          -680,
          -652.5,
          -630,
          -740,
          -747.5,
          -740.625,
          -800,
          -760.3125,
          -651.5625,
          -850,
          -847.5,
          -912.5,
          -960,
          -926.25,
          -868.75,
          -908.4375,
          -718.359375,
          -385.966796875
         ]
        },
        {
         "hoverinfo": "text",
         "hovertext": [
          "theory_military_general_generals_spirit",
          "object_destruction_combat_political_therefore",
          "enemy_battle_victory_defensive_may",
          "enemy_battle_victory_defensive_position",
          "enemy_battle_victory_point_attack",
          "object_therefore_may_theory_must",
          "cavalry_divisions_battalions_columns_infantry",
          "staff_clausewitz_officers_general_corps",
          "camps_intrenched_mountainous_countries_defense",
          "invasions_intervention_wars_distant_interferes",
          "sicily_messina_sicilian_sicilians_us",
          "moscow_peloponnesians_house_russian_fire",
          "sun_wu_tz_chi_yu",
          "sun_wu_tz_chi_yu",
          "sun_wu_tz_chi_yu",
          "sun_wu_tz_chi_yu",
          "sun_wu_tz_chi_yu",
          "public_private_democracy_government_prosperity",
          "public_private_democracy_man_government",
          "city_public_private_people_country",
          "coffin_relatives_wine_tomb_funeral",
          "coffin_life_honour_man_relatives",
          "us_life_public_city_man",
          "sun_wu_tz_cavalry_chi",
          "lines_napoleon_operations_line_napoleons",
          "lines_napoleon_operations_line_strategic",
          "danube_rhine_austrians_inn_tyrol",
          "archduke_austrians_rhine_danube_charles",
          "lines_operations_napoleon_line_strategic",
          "hundred_athenian_heavy_athenians_infantry",
          "english_french_ships_england_fleet",
          "english_french_ships_england_fleet",
          "english_french_ships_england_fleet",
          "caesar_gaul_legions_caesars_people",
          "wall_macedonians_alexander_city_engines",
          "river_indus_called_rivers_name",
          "river_indus_called_rivers_name",
          "caesar_gaul_river_camp_people",
          "heracles_hippias_hipparchus_harmodius_aristogiton",
          "heracles_hippias_hipparchus_harmodius_aristogiton",
          "arrian_cf_photius_iliad_homer",
          "alexander_alexanders_speech_death_callisthenes",
          "darius_persians_alexander_persian_wife",
          "viceroy_spitamenes_sogdiana_sogdianians_areians",
          "viceroy_cavalry_shieldbearing_son_agrianians",
          "darius_alexander_alexanders_persians_son",
          "siege_halicarnassus_massaga_myndus_mantua",
          "siege_tyre_halicarnassus_myndus_massaga",
          "alexander_darius_arrian_alexanders_son",
          "ships_english_french_sea_fleet"
         ],
         "marker": {
          "color": "black"
         },
         "mode": "markers",
         "showlegend": false,
         "type": "scatter",
         "x": [
          0.6657418159011996,
          0.7692351962624776,
          0.610102426849129,
          0.7623976391476183,
          0.8984455357937081,
          1.0045684727343125,
          0.8523763080226696,
          0.9411432123871616,
          0.8583884886057335,
          0.8042404699724623,
          0.7573977805481867,
          0.9625354577486902,
          0.8415904458124417,
          0.9750317543279718,
          1.0224859511834765,
          1.0867750520636141,
          1.1333401692122378,
          0.7212718915840808,
          0.7920745119577666,
          0.8901113698002002,
          0.898547000951212,
          0.9388939188768599,
          1.040312839693002,
          1.3158451170366101,
          0.7506057918935465,
          0.814995074105366,
          0.7316597651497583,
          0.8979989078337415,
          1.1676861039522632,
          0.684498046967119,
          0.6874860663252433,
          0.8395253739568375,
          0.8801000473673565,
          0.8137534949319698,
          0.6373859440338276,
          0.792247343651634,
          0.8745764186954913,
          1.1386488808094444,
          0.9450791205246667,
          0.9939530994115774,
          0.6632588845754179,
          0.6658919926087381,
          0.500790222666439,
          0.906738191984576,
          0.9907775807140294,
          1.1442581679690074,
          0.7211667407563347,
          0.7782797579737092,
          1.342113507852911,
          1.6622696266373915
         ],
         "y": [
          -50,
          -77.5,
          -120,
          -112.5,
          -119.375,
          -89.6875,
          -167.5,
          -197.5,
          -240,
          -260,
          -300,
          -347.5,
          -380,
          -372.5,
          -353.125,
          -321.5625,
          -283.28125,
          -450,
          -442.5,
          -449.375,
          -500,
          -490,
          -459.21875,
          -344.6484375,
          -567.5,
          -556.25,
          -600,
          -603.75,
          -572.8125,
          -660,
          -707.5,
          -693.75,
          -673.125,
          -756.25,
          -780,
          -820,
          -810,
          -785.15625,
          -870,
          -860,
          -890,
          -920,
          -940,
          -980,
          -970,
          -948.125,
          -1010,
          -1002.5,
          -955.46875,
          -836.9140625
         ]
        }
       ],
       "layout": {
        "autosize": false,
        "height": 1730,
        "hoverlabel": {
         "bgcolor": "white",
         "font": {
          "family": "Rockwell",
          "size": 16
         }
        },
        "hovermode": "closest",
        "plot_bgcolor": "#ECEFF1",
        "showlegend": false,
        "template": {
         "data": {
          "bar": [
           {
            "error_x": {
             "color": "#2a3f5f"
            },
            "error_y": {
             "color": "#2a3f5f"
            },
            "marker": {
             "line": {
              "color": "white",
              "width": 0.5
             },
             "pattern": {
              "fillmode": "overlay",
              "size": 10,
              "solidity": 0.2
             }
            },
            "type": "bar"
           }
          ],
          "barpolar": [
           {
            "marker": {
             "line": {
              "color": "white",
              "width": 0.5
             },
             "pattern": {
              "fillmode": "overlay",
              "size": 10,
              "solidity": 0.2
             }
            },
            "type": "barpolar"
           }
          ],
          "carpet": [
           {
            "aaxis": {
             "endlinecolor": "#2a3f5f",
             "gridcolor": "#C8D4E3",
             "linecolor": "#C8D4E3",
             "minorgridcolor": "#C8D4E3",
             "startlinecolor": "#2a3f5f"
            },
            "baxis": {
             "endlinecolor": "#2a3f5f",
             "gridcolor": "#C8D4E3",
             "linecolor": "#C8D4E3",
             "minorgridcolor": "#C8D4E3",
             "startlinecolor": "#2a3f5f"
            },
            "type": "carpet"
           }
          ],
          "choropleth": [
           {
            "colorbar": {
             "outlinewidth": 0,
             "ticks": ""
            },
            "type": "choropleth"
           }
          ],
          "contour": [
           {
            "colorbar": {
             "outlinewidth": 0,
             "ticks": ""
            },
            "colorscale": [
             [
              0,
              "#0d0887"
             ],
             [
              0.1111111111111111,
              "#46039f"
             ],
             [
              0.2222222222222222,
              "#7201a8"
             ],
             [
              0.3333333333333333,
              "#9c179e"
             ],
             [
              0.4444444444444444,
              "#bd3786"
             ],
             [
              0.5555555555555556,
              "#d8576b"
             ],
             [
              0.6666666666666666,
              "#ed7953"
             ],
             [
              0.7777777777777778,
              "#fb9f3a"
             ],
             [
              0.8888888888888888,
              "#fdca26"
             ],
             [
              1,
              "#f0f921"
             ]
            ],
            "type": "contour"
           }
          ],
          "contourcarpet": [
           {
            "colorbar": {
             "outlinewidth": 0,
             "ticks": ""
            },
            "type": "contourcarpet"
           }
          ],
          "heatmap": [
           {
            "colorbar": {
             "outlinewidth": 0,
             "ticks": ""
            },
            "colorscale": [
             [
              0,
              "#0d0887"
             ],
             [
              0.1111111111111111,
              "#46039f"
             ],
             [
              0.2222222222222222,
              "#7201a8"
             ],
             [
              0.3333333333333333,
              "#9c179e"
             ],
             [
              0.4444444444444444,
              "#bd3786"
             ],
             [
              0.5555555555555556,
              "#d8576b"
             ],
             [
              0.6666666666666666,
              "#ed7953"
             ],
             [
              0.7777777777777778,
              "#fb9f3a"
             ],
             [
              0.8888888888888888,
              "#fdca26"
             ],
             [
              1,
              "#f0f921"
             ]
            ],
            "type": "heatmap"
           }
          ],
          "heatmapgl": [
           {
            "colorbar": {
             "outlinewidth": 0,
             "ticks": ""
            },
            "colorscale": [
             [
              0,
              "#0d0887"
             ],
             [
              0.1111111111111111,
              "#46039f"
             ],
             [
              0.2222222222222222,
              "#7201a8"
             ],
             [
              0.3333333333333333,
              "#9c179e"
             ],
             [
              0.4444444444444444,
              "#bd3786"
             ],
             [
              0.5555555555555556,
              "#d8576b"
             ],
             [
              0.6666666666666666,
              "#ed7953"
             ],
             [
              0.7777777777777778,
              "#fb9f3a"
             ],
             [
              0.8888888888888888,
              "#fdca26"
             ],
             [
              1,
              "#f0f921"
             ]
            ],
            "type": "heatmapgl"
           }
          ],
          "histogram": [
           {
            "marker": {
             "pattern": {
              "fillmode": "overlay",
              "size": 10,
              "solidity": 0.2
             }
            },
            "type": "histogram"
           }
          ],
          "histogram2d": [
           {
            "colorbar": {
             "outlinewidth": 0,
             "ticks": ""
            },
            "colorscale": [
             [
              0,
              "#0d0887"
             ],
             [
              0.1111111111111111,
              "#46039f"
             ],
             [
              0.2222222222222222,
              "#7201a8"
             ],
             [
              0.3333333333333333,
              "#9c179e"
             ],
             [
              0.4444444444444444,
              "#bd3786"
             ],
             [
              0.5555555555555556,
              "#d8576b"
             ],
             [
              0.6666666666666666,
              "#ed7953"
             ],
             [
              0.7777777777777778,
              "#fb9f3a"
             ],
             [
              0.8888888888888888,
              "#fdca26"
             ],
             [
              1,
              "#f0f921"
             ]
            ],
            "type": "histogram2d"
           }
          ],
          "histogram2dcontour": [
           {
            "colorbar": {
             "outlinewidth": 0,
             "ticks": ""
            },
            "colorscale": [
             [
              0,
              "#0d0887"
             ],
             [
              0.1111111111111111,
              "#46039f"
             ],
             [
              0.2222222222222222,
              "#7201a8"
             ],
             [
              0.3333333333333333,
              "#9c179e"
             ],
             [
              0.4444444444444444,
              "#bd3786"
             ],
             [
              0.5555555555555556,
              "#d8576b"
             ],
             [
              0.6666666666666666,
              "#ed7953"
             ],
             [
              0.7777777777777778,
              "#fb9f3a"
             ],
             [
              0.8888888888888888,
              "#fdca26"
             ],
             [
              1,
              "#f0f921"
             ]
            ],
            "type": "histogram2dcontour"
           }
          ],
          "mesh3d": [
           {
            "colorbar": {
             "outlinewidth": 0,
             "ticks": ""
            },
            "type": "mesh3d"
           }
          ],
          "parcoords": [
           {
            "line": {
             "colorbar": {
              "outlinewidth": 0,
              "ticks": ""
             }
            },
            "type": "parcoords"
           }
          ],
          "pie": [
           {
            "automargin": true,
            "type": "pie"
           }
          ],
          "scatter": [
           {
            "fillpattern": {
             "fillmode": "overlay",
             "size": 10,
             "solidity": 0.2
            },
            "type": "scatter"
           }
          ],
          "scatter3d": [
           {
            "line": {
             "colorbar": {
              "outlinewidth": 0,
              "ticks": ""
             }
            },
            "marker": {
             "colorbar": {
              "outlinewidth": 0,
              "ticks": ""
             }
            },
            "type": "scatter3d"
           }
          ],
          "scattercarpet": [
           {
            "marker": {
             "colorbar": {
              "outlinewidth": 0,
              "ticks": ""
             }
            },
            "type": "scattercarpet"
           }
          ],
          "scattergeo": [
           {
            "marker": {
             "colorbar": {
              "outlinewidth": 0,
              "ticks": ""
             }
            },
            "type": "scattergeo"
           }
          ],
          "scattergl": [
           {
            "marker": {
             "colorbar": {
              "outlinewidth": 0,
              "ticks": ""
             }
            },
            "type": "scattergl"
           }
          ],
          "scattermapbox": [
           {
            "marker": {
             "colorbar": {
              "outlinewidth": 0,
              "ticks": ""
             }
            },
            "type": "scattermapbox"
           }
          ],
          "scatterpolar": [
           {
            "marker": {
             "colorbar": {
              "outlinewidth": 0,
              "ticks": ""
             }
            },
            "type": "scatterpolar"
           }
          ],
          "scatterpolargl": [
           {
            "marker": {
             "colorbar": {
              "outlinewidth": 0,
              "ticks": ""
             }
            },
            "type": "scatterpolargl"
           }
          ],
          "scatterternary": [
           {
            "marker": {
             "colorbar": {
              "outlinewidth": 0,
              "ticks": ""
             }
            },
            "type": "scatterternary"
           }
          ],
          "surface": [
           {
            "colorbar": {
             "outlinewidth": 0,
             "ticks": ""
            },
            "colorscale": [
             [
              0,
              "#0d0887"
             ],
             [
              0.1111111111111111,
              "#46039f"
             ],
             [
              0.2222222222222222,
              "#7201a8"
             ],
             [
              0.3333333333333333,
              "#9c179e"
             ],
             [
              0.4444444444444444,
              "#bd3786"
             ],
             [
              0.5555555555555556,
              "#d8576b"
             ],
             [
              0.6666666666666666,
              "#ed7953"
             ],
             [
              0.7777777777777778,
              "#fb9f3a"
             ],
             [
              0.8888888888888888,
              "#fdca26"
             ],
             [
              1,
              "#f0f921"
             ]
            ],
            "type": "surface"
           }
          ],
          "table": [
           {
            "cells": {
             "fill": {
              "color": "#EBF0F8"
             },
             "line": {
              "color": "white"
             }
            },
            "header": {
             "fill": {
              "color": "#C8D4E3"
             },
             "line": {
              "color": "white"
             }
            },
            "type": "table"
           }
          ]
         },
         "layout": {
          "annotationdefaults": {
           "arrowcolor": "#2a3f5f",
           "arrowhead": 0,
           "arrowwidth": 1
          },
          "autotypenumbers": "strict",
          "coloraxis": {
           "colorbar": {
            "outlinewidth": 0,
            "ticks": ""
           }
          },
          "colorscale": {
           "diverging": [
            [
             0,
             "#8e0152"
            ],
            [
             0.1,
             "#c51b7d"
            ],
            [
             0.2,
             "#de77ae"
            ],
            [
             0.3,
             "#f1b6da"
            ],
            [
             0.4,
             "#fde0ef"
            ],
            [
             0.5,
             "#f7f7f7"
            ],
            [
             0.6,
             "#e6f5d0"
            ],
            [
             0.7,
             "#b8e186"
            ],
            [
             0.8,
             "#7fbc41"
            ],
            [
             0.9,
             "#4d9221"
            ],
            [
             1,
             "#276419"
            ]
           ],
           "sequential": [
            [
             0,
             "#0d0887"
            ],
            [
             0.1111111111111111,
             "#46039f"
            ],
            [
             0.2222222222222222,
             "#7201a8"
            ],
            [
             0.3333333333333333,
             "#9c179e"
            ],
            [
             0.4444444444444444,
             "#bd3786"
            ],
            [
             0.5555555555555556,
             "#d8576b"
            ],
            [
             0.6666666666666666,
             "#ed7953"
            ],
            [
             0.7777777777777778,
             "#fb9f3a"
            ],
            [
             0.8888888888888888,
             "#fdca26"
            ],
            [
             1,
             "#f0f921"
            ]
           ],
           "sequentialminus": [
            [
             0,
             "#0d0887"
            ],
            [
             0.1111111111111111,
             "#46039f"
            ],
            [
             0.2222222222222222,
             "#7201a8"
            ],
            [
             0.3333333333333333,
             "#9c179e"
            ],
            [
             0.4444444444444444,
             "#bd3786"
            ],
            [
             0.5555555555555556,
             "#d8576b"
            ],
            [
             0.6666666666666666,
             "#ed7953"
            ],
            [
             0.7777777777777778,
             "#fb9f3a"
            ],
            [
             0.8888888888888888,
             "#fdca26"
            ],
            [
             1,
             "#f0f921"
            ]
           ]
          },
          "colorway": [
           "#636efa",
           "#EF553B",
           "#00cc96",
           "#ab63fa",
           "#FFA15A",
           "#19d3f3",
           "#FF6692",
           "#B6E880",
           "#FF97FF",
           "#FECB52"
          ],
          "font": {
           "color": "#2a3f5f"
          },
          "geo": {
           "bgcolor": "white",
           "lakecolor": "white",
           "landcolor": "white",
           "showlakes": true,
           "showland": true,
           "subunitcolor": "#C8D4E3"
          },
          "hoverlabel": {
           "align": "left"
          },
          "hovermode": "closest",
          "mapbox": {
           "style": "light"
          },
          "paper_bgcolor": "white",
          "plot_bgcolor": "white",
          "polar": {
           "angularaxis": {
            "gridcolor": "#EBF0F8",
            "linecolor": "#EBF0F8",
            "ticks": ""
           },
           "bgcolor": "white",
           "radialaxis": {
            "gridcolor": "#EBF0F8",
            "linecolor": "#EBF0F8",
            "ticks": ""
           }
          },
          "scene": {
           "xaxis": {
            "backgroundcolor": "white",
            "gridcolor": "#DFE8F3",
            "gridwidth": 2,
            "linecolor": "#EBF0F8",
            "showbackground": true,
            "ticks": "",
            "zerolinecolor": "#EBF0F8"
           },
           "yaxis": {
            "backgroundcolor": "white",
            "gridcolor": "#DFE8F3",
            "gridwidth": 2,
            "linecolor": "#EBF0F8",
            "showbackground": true,
            "ticks": "",
            "zerolinecolor": "#EBF0F8"
           },
           "zaxis": {
            "backgroundcolor": "white",
            "gridcolor": "#DFE8F3",
            "gridwidth": 2,
            "linecolor": "#EBF0F8",
            "showbackground": true,
            "ticks": "",
            "zerolinecolor": "#EBF0F8"
           }
          },
          "shapedefaults": {
           "line": {
            "color": "#2a3f5f"
           }
          },
          "ternary": {
           "aaxis": {
            "gridcolor": "#DFE8F3",
            "linecolor": "#A2B1C6",
            "ticks": ""
           },
           "baxis": {
            "gridcolor": "#DFE8F3",
            "linecolor": "#A2B1C6",
            "ticks": ""
           },
           "bgcolor": "white",
           "caxis": {
            "gridcolor": "#DFE8F3",
            "linecolor": "#A2B1C6",
            "ticks": ""
           }
          },
          "title": {
           "x": 0.05
          },
          "xaxis": {
           "automargin": true,
           "gridcolor": "#EBF0F8",
           "linecolor": "#EBF0F8",
           "ticks": "",
           "title": {
            "standoff": 15
           },
           "zerolinecolor": "#EBF0F8",
           "zerolinewidth": 2
          },
          "yaxis": {
           "automargin": true,
           "gridcolor": "#EBF0F8",
           "linecolor": "#EBF0F8",
           "ticks": "",
           "title": {
            "standoff": 15
           },
           "zerolinecolor": "#EBF0F8",
           "zerolinewidth": 2
          }
         }
        },
        "title": {
         "font": {
          "color": "Black",
          "size": 22
         },
         "text": "<b>Hierarchical Clustering</b>",
         "x": 0.5,
         "xanchor": "center",
         "yanchor": "top"
        },
        "width": 1000,
        "xaxis": {
         "mirror": "allticks",
         "rangemode": "tozero",
         "showgrid": false,
         "showline": true,
         "showticklabels": true,
         "ticks": "outside",
         "type": "linear",
         "zeroline": false
        },
        "yaxis": {
         "mirror": "allticks",
         "range": [
          -1020,
          0
         ],
         "rangemode": "tozero",
         "showgrid": false,
         "showline": true,
         "showticklabels": true,
         "tickmode": "array",
         "ticks": "outside",
         "ticktext": [
          "99_art_logistics_moving",
          "44_art_les_war",
          "89_art_science_arts",
          "24_mind_feelings_understand...",
          "9_military_generals_general",
          "12_theory_historical_theore...",
          "21_object_destruction_combat",
          "30_political_object_war",
          "33_action_suspension_equili...",
          "58_night_combat_combats",
          "32_retreat_pursuit_retreats",
          "13_enemy_defensive_position",
          "39_victory_battle_forces",
          "76_strategy_tactics_principle",
          "56_division_st_corps",
          "16_cavalry_infantry_charge",
          "8_divisions_battalions_colu...",
          "40_order_center_wings",
          "94_detachments_army_necessary",
          "50_staff_officers_duties",
          "71_clausewitz_von_carl",
          "81_firearms_improvements_ra...",
          "72_footnote_footnotes_refer",
          "35_camps_intrenched_connect...",
          "38_mountainous_countries_mo...",
          "54_invasions_distant_invasion",
          "47_intervention_wars_interf...",
          "34_thousand_turks_hundred",
          "26_hannibal_carthaginians_c...",
          "28_sicily_sicilian_us",
          "100_messina_sicily_locrian",
          "101_samos_oligarchy_alcibia...",
          "91_confederacy_confederates...",
          "74_moscow_russian_russians",
          "75_peloponnesians_samians_p...",
          "86_house_fire_right",
          "69_chariots_chariot_elephants",
          "3_sun_wu_tz",
          "31_spies_spy_converted",
          "88_affair_alliance_corcyra",
          "57_us_treaty_arbitration",
          "70_confidence_us_fear",
          "45_city_design_walled",
          "29_arms_council_clemency",
          "17_public_private_democracy",
          "27_guilty_crime_guilt",
          "49_country_dominion_locality",
          "63_life_danger_unimpaired",
          "52_life_thy_respecting",
          "37_coffin_wine_tomb",
          "93_children_relatives_women",
          "92_diversions_detachments_o...",
          "98_operations_theater_zone",
          "85_reserves_reserve_strategic",
          "59_point_decisive_strategic",
          "18_lines_operations_line",
          "79_napoleon_line_lines",
          "20_napoleon_napoleons_rivoli",
          "43_archduke_charles_austrians",
          "78_austrians_inn_bavaria",
          "51_danube_rhine_ulm",
          "97_detour_landau_clairfayt",
          "61_ended_winter_summer",
          "67_attica_peloponnesians_su...",
          "83_boeotians_delium_boeotia",
          "60_athenians_rest_athenian",
          "41_hundred_heavy_thousand",
          "23_syracusans_syracusan_ath...",
          "53_athenians_syracusans_mea...",
          "2_athenians_lacedaemonians_...",
          "4_ships_sailed_athenians",
          "0_english_french_england",
          "48_soldiers_barbarous_baggage",
          "15_horse_horses_cavalry",
          "25_men_camp_soldiers",
          "1_caesar_gaul_caesars",
          "22_corn_cattle_supply",
          "7_macedonians_alexander_pha...",
          "14_wall_mound_engines",
          "46_water_feet_ascent",
          "42_bridges_bank_coblentz",
          "96_rivers_river_crossing",
          "5_river_indus_called",
          "10_xlv_disastrous_notice",
          "6_maritza_bardylis_crateas",
          "64_pliny_et_cappadocia",
          "62_heracles_dionysus_hercules",
          "68_hippias_hipparchus_harmo...",
          "55_cf_arrian_homer",
          "36_arrian_photius_epictetus",
          "95_anabasis_alexander_julio...",
          "11_alexander_alexanders_spe...",
          "66_death_alexander_son",
          "19_darius_persians_alexander",
          "65_darius_wife_marry",
          "90_son_cavalry_posted",
          "80_shieldbearing_agrianians...",
          "77_viceroy_areians_stasanor",
          "73_spitamenes_sogdiana_sogd...",
          "84_tyre_siege_tyrenaval",
          "82_siege_halicarnassus_mass...",
          "87_siege_mantua_buonaparte"
         ],
         "tickvals": [
          -5,
          -15,
          -25,
          -35,
          -45,
          -55,
          -65,
          -75,
          -85,
          -95,
          -105,
          -115,
          -125,
          -135,
          -145,
          -155,
          -165,
          -175,
          -185,
          -195,
          -205,
          -215,
          -225,
          -235,
          -245,
          -255,
          -265,
          -275,
          -285,
          -295,
          -305,
          -315,
          -325,
          -335,
          -345,
          -355,
          -365,
          -375,
          -385,
          -395,
          -405,
          -415,
          -425,
          -435,
          -445,
          -455,
          -465,
          -475,
          -485,
          -495,
          -505,
          -515,
          -525,
          -535,
          -545,
          -555,
          -565,
          -575,
          -585,
          -595,
          -605,
          -615,
          -625,
          -635,
          -645,
          -655,
          -665,
          -675,
          -685,
          -695,
          -705,
          -715,
          -725,
          -735,
          -745,
          -755,
          -765,
          -775,
          -785,
          -795,
          -805,
          -815,
          -825,
          -835,
          -845,
          -855,
          -865,
          -875,
          -885,
          -895,
          -905,
          -915,
          -925,
          -935,
          -945,
          -955,
          -965,
          -975,
          -985,
          -995,
          -1005,
          -1015
         ],
         "type": "linear",
         "zeroline": false
        }
       }
      }
     },
     "metadata": {},
     "output_type": "display_data"
    }
   ],
   "source": [
    "#visualize topic hierarchy\n",
    "topic_model.visualize_hierarchy(hierarchical_topics=hierarchical_topics)\n"
   ]
  },
  {
   "cell_type": "code",
   "execution_count": 206,
   "id": "4a252c4f",
   "metadata": {},
   "outputs": [
    {
     "name": "stdout",
     "output_type": "stream",
     "text": [
      ".\n",
      "├─may_sun_lines_must_one\n",
      "│    ├─may_sun_must_wu_one\n",
      "│    │    ├─object_theory_therefore_may_art\n",
      "│    │    │    ├─art_war_science_arts_les\n",
      "│    │    │    │    ├─art_les_war_logistics_summary\n",
      "│    │    │    │    │    ├─■──art_logistics_moving_armies_map ── Topic: 99\n",
      "│    │    │    │    │    └─■──art_les_war_summary_military ── Topic: 44\n",
      "│    │    │    │    └─■──art_science_arts_war_handicraft ── Topic: 89\n",
      "│    │    │    └─object_therefore_may_theory_must\n",
      "│    │    │         ├─object_theory_therefore_means_destruction\n",
      "│    │    │         │    ├─theory_mind_general_military_generals\n",
      "│    │    │         │    │    ├─■──mind_feelings_understanding_feeling_boldness ── Topic: 24\n",
      "│    │    │         │    │    └─theory_military_general_generals_spirit\n",
      "│    │    │         │    │         ├─■──military_generals_general_spirit_virtue ── Topic: 9\n",
      "│    │    │         │    │         └─■──theory_historical_theoretical_things_truth ── Topic: 12\n",
      "│    │    │         │    └─object_destruction_combat_political_therefore\n",
      "│    │    │         │         ├─object_destruction_combat_political_enemys\n",
      "│    │    │         │         │    ├─■──object_destruction_combat_enemys_objects ── Topic: 21\n",
      "│    │    │         │         │    └─■──political_object_war_means_law ── Topic: 30\n",
      "│    │    │         │         └─■──action_suspension_equilibrium_activity_reciprocal ── Topic: 33\n",
      "│    │    │         └─enemy_battle_victory_point_attack\n",
      "│    │    │              ├─enemy_battle_victory_attack_night\n",
      "│    │    │              │    ├─■──night_combat_combats_wooded_assailant ── Topic: 58\n",
      "│    │    │              │    └─enemy_battle_victory_defensive_position\n",
      "│    │    │              │         ├─■──retreat_pursuit_retreats_surprise_enemy ── Topic: 32\n",
      "│    │    │              │         └─enemy_battle_victory_defensive_may\n",
      "│    │    │              │              ├─■──enemy_defensive_position_attack_advantage ── Topic: 13\n",
      "│    │    │              │              └─■──victory_battle_forces_combat_ram ── Topic: 39\n",
      "│    │    │              └─■──strategy_tactics_principle_fundamental_definition ── Topic: 76\n",
      "│    │    └─sun_wu_tz_cavalry_chi\n",
      "│    │         ├─sun_wu_tz_cavalry_yu\n",
      "│    │         │    ├─cavalry_corps_divisions_division_battalions\n",
      "│    │         │    │    ├─cavalry_division_divisions_corps_battalions\n",
      "│    │         │    │    │    ├─■──division_st_corps_second_fig ── Topic: 56\n",
      "│    │         │    │    │    └─cavalry_divisions_battalions_columns_infantry\n",
      "│    │         │    │    │         ├─cavalry_divisions_battalions_columns_infantry\n",
      "│    │         │    │    │         │    ├─■──cavalry_infantry_charge_charges_lance ── Topic: 16\n",
      "│    │         │    │    │         │    └─■──divisions_battalions_columns_column_deployed ── Topic: 8\n",
      "│    │         │    │    │         └─■──order_center_wings_oblique_fig ── Topic: 40\n",
      "│    │         │    │    └─staff_clausewitz_officers_general_corps\n",
      "│    │         │    │         ├─staff_officers_duties_corps_detachments\n",
      "│    │         │    │         │    ├─■──detachments_army_necessary_may_commander ── Topic: 94\n",
      "│    │         │    │         │    └─■──staff_officers_duties_corps_logistics ── Topic: 50\n",
      "│    │         │    │         └─■──clausewitz_von_carl_general_staff ── Topic: 71\n",
      "│    │         │    └─sun_wu_tz_chi_yu\n",
      "│    │         │         ├─camps_intrenched_mountainous_invasions_wars\n",
      "│    │         │         │    ├─camps_intrenched_mountainous_footnote_countries\n",
      "│    │         │         │    │    ├─footnote_footnotes_firearms_improvements_range\n",
      "│    │         │         │    │    │    ├─■──firearms_improvements_range_invention_gunpowder ── Topic: 81\n",
      "│    │         │         │    │    │    └─■──footnote_footnotes_refer_claim_treated ── Topic: 72\n",
      "│    │         │         │    │    └─camps_intrenched_mountainous_countries_defense\n",
      "│    │         │         │    │         ├─■──camps_intrenched_connection_cantonments_tetes ── Topic: 35\n",
      "│    │         │         │    │         └─■──mountainous_countries_mountains_plains_valleys ── Topic: 38\n",
      "│    │         │         │    └─invasions_intervention_wars_distant_interferes\n",
      "│    │         │         │         ├─■──invasions_distant_invasion_diplomacy_wars ── Topic: 54\n",
      "│    │         │         │         └─■──intervention_wars_interferes_state_kinds ── Topic: 47\n",
      "│    │         │         └─sun_wu_tz_chi_yu\n",
      "│    │         │              ├─sicily_hannibal_thousand_carthaginians_hundred\n",
      "│    │         │              │    ├─hannibal_thousand_carthaginians_hundred_roman\n",
      "│    │         │              │    │    ├─■──thousand_turks_hundred_vessels_cyprus ── Topic: 34\n",
      "│    │         │              │    │    └─■──hannibal_carthaginians_carthage_roman_rome ── Topic: 26\n",
      "│    │         │              │    └─sicily_messina_sicilian_sicilians_us\n",
      "│    │         │              │         ├─■──sicily_sicilian_us_sicilians_peloponnese ── Topic: 28\n",
      "│    │         │              │         └─■──messina_sicily_locrian_gylippus_thence ── Topic: 100\n",
      "│    │         │              └─sun_wu_tz_chi_yu\n",
      "│    │         │                   ├─moscow_peloponnesians_samos_house_russian\n",
      "│    │         │                   │    ├─samos_alcibiades_oligarchy_confederacy_confederates\n",
      "│    │         │                   │    │    ├─■──samos_oligarchy_alcibiades_democracy_tissaphernes ── Topic: 101\n",
      "│    │         │                   │    │    └─■──confederacy_confederates_confederate_disgrace_chians ── Topic: 91\n",
      "│    │         │                   │    └─moscow_peloponnesians_house_russian_fire\n",
      "│    │         │                   │         ├─moscow_peloponnesians_russian_russians_buonaparte\n",
      "│    │         │                   │         │    ├─■──moscow_russian_russians_buonaparte_peace ── Topic: 74\n",
      "│    │         │                   │         │    └─■──peloponnesians_samians_phormio_superiority_without ── Topic: 75\n",
      "│    │         │                   │         └─■──house_fire_right_side_left ── Topic: 86\n",
      "│    │         │                   └─sun_wu_tz_chi_yu\n",
      "│    │         │                        ├─■──chariots_chariot_elephants_charioteers_swift ── Topic: 69\n",
      "│    │         │                        └─sun_wu_tz_chi_yu\n",
      "│    │         │                             ├─■──sun_wu_tz_chi_yu ── Topic: 3\n",
      "│    │         │                             └─■──spies_spy_converted_information_tu ── Topic: 31\n",
      "│    │         └─us_life_public_city_man\n",
      "│    │              ├─us_city_public_private_country\n",
      "│    │              │    ├─us_treaty_arbitration_agreement_fear\n",
      "│    │              │    │    ├─us_treaty_arbitration_agreement_shall\n",
      "│    │              │    │    │    ├─■──affair_alliance_corcyra_refusing_join ── Topic: 88\n",
      "│    │              │    │    │    └─■──us_treaty_arbitration_agreement_shall ── Topic: 57\n",
      "│    │              │    │    └─■──confidence_us_fear_neighbour_friends ── Topic: 70\n",
      "│    │              │    └─city_public_private_people_country\n",
      "│    │              │         ├─city_public_private_democracy_people\n",
      "│    │              │         │    ├─■──city_design_walled_dead_equally ── Topic: 45\n",
      "│    │              │         │    └─public_private_democracy_man_government\n",
      "│    │              │         │         ├─■──arms_council_clemency_pisander_thought ── Topic: 29\n",
      "│    │              │         │         └─public_private_democracy_government_prosperity\n",
      "│    │              │         │              ├─■──public_private_democracy_government_prosperity ── Topic: 17\n",
      "│    │              │         │              └─■──guilty_crime_guilt_justice_offenders ── Topic: 27\n",
      "│    │              │         └─■──country_dominion_locality_think_capital ── Topic: 49\n",
      "│    │              └─coffin_life_honour_man_relatives\n",
      "│    │                   ├─life_thy_man_gods_danger\n",
      "│    │                   │    ├─■──life_danger_unimpaired_generosity_arrogance ── Topic: 63\n",
      "│    │                   │    └─■──life_thy_respecting_gods_man ── Topic: 52\n",
      "│    │                   └─coffin_relatives_wine_tomb_funeral\n",
      "│    │                        ├─■──coffin_wine_tomb_funeral_fathers ── Topic: 37\n",
      "│    │                        └─■──children_relatives_women_beget_boyish ── Topic: 93\n",
      "│    └─lines_operations_napoleon_line_strategic\n",
      "│         ├─lines_operations_napoleon_strategic_line\n",
      "│         │    ├─diversions_operations_strategic_reserves_reserve\n",
      "│         │    │    ├─diversions_operations_zone_detachments_theater\n",
      "│         │    │    │    ├─■──diversions_detachments_operations_corps_zone ── Topic: 92\n",
      "│         │    │    │    └─■──operations_theater_zone_strategic_center ── Topic: 98\n",
      "│         │    │    └─■──reserves_reserve_strategic_economy_idea ── Topic: 85\n",
      "│         │    └─lines_napoleon_operations_line_strategic\n",
      "│         │         ├─■──point_decisive_strategic_points_battlefield ── Topic: 59\n",
      "│         │         └─lines_napoleon_operations_line_napoleons\n",
      "│         │              ├─lines_operations_line_strategic_double\n",
      "│         │              │    ├─■──lines_operations_line_double_strategic ── Topic: 18\n",
      "│         │              │    └─■──napoleon_line_lines_operations_strategic ── Topic: 79\n",
      "│         │              └─■──napoleon_napoleons_rivoli_order_bonaparte ── Topic: 20\n",
      "│         └─archduke_austrians_rhine_danube_charles\n",
      "│              ├─archduke_austrians_rhine_danube_charles\n",
      "│              │    ├─■──archduke_charles_austrians_vienna_moreau ── Topic: 43\n",
      "│              │    └─danube_rhine_austrians_inn_tyrol\n",
      "│              │         ├─■──austrians_inn_bavaria_vienna_hundred ── Topic: 78\n",
      "│              │         └─■──danube_rhine_ulm_bohemia_alps ── Topic: 51\n",
      "│              └─■──detour_landau_clairfayt_charleroi_darmee ── Topic: 97\n",
      "└─ships_english_french_sea_fleet\n",
      "     ├─ships_english_french_sea_fleet\n",
      "     │    ├─english_french_ships_england_fleet\n",
      "     │    │    ├─winter_summer_ended_attica_epidaurians\n",
      "     │    │    │    ├─■──ended_winter_summer_epidaurians_year ── Topic: 61\n",
      "     │    │    │    └─■──attica_peloponnesians_summer_invaded_athenians ── Topic: 67\n",
      "     │    │    └─english_french_ships_england_fleet\n",
      "     │    │         ├─athenians_hundred_athenian_heavy_infantry\n",
      "     │    │         │    ├─■──boeotians_delium_boeotia_hippocrates_dead ── Topic: 83\n",
      "     │    │         │    └─hundred_athenian_heavy_athenians_infantry\n",
      "     │    │         │         ├─■──athenians_rest_athenian_wing_garrison ── Topic: 60\n",
      "     │    │         │         └─■──hundred_heavy_thousand_infantry_athenian ── Topic: 41\n",
      "     │    │         └─english_french_ships_england_fleet\n",
      "     │    │              ├─syracusans_athenians_syracusan_gylippus_athenian\n",
      "     │    │              │    ├─■──syracusans_syracusan_athenians_gylippus_athenian ── Topic: 23\n",
      "     │    │              │    └─■──athenians_syracusans_meanwhile_megara_would ── Topic: 53\n",
      "     │    │              └─english_french_ships_england_fleet\n",
      "     │    │                   ├─athenians_lacedaemonians_athens_ships_athenian\n",
      "     │    │                   │    ├─■──athenians_lacedaemonians_athens_lacedaemon_allies ── Topic: 2\n",
      "     │    │                   │    └─■──ships_sailed_athenians_vessels_athenian ── Topic: 4\n",
      "     │    │                   └─■──english_french_england_france_ships ── Topic: 0\n",
      "     │    └─caesar_gaul_river_camp_people\n",
      "     │         ├─caesar_gaul_camp_legions_people\n",
      "     │         │    ├─caesar_gaul_legions_caesars_people\n",
      "     │         │    │    ├─■──soldiers_barbarous_baggage_valour_hardships ── Topic: 48\n",
      "     │         │    │    └─caesar_gaul_legions_caesars_people\n",
      "     │         │    │         ├─caesar_gaul_caesars_legions_people\n",
      "     │         │    │         │    ├─horse_men_horses_cavalry_woods\n",
      "     │         │    │         │    │    ├─■──horse_horses_cavalry_men_curio ── Topic: 15\n",
      "     │         │    │         │    │    └─■──men_camp_soldiers_woods_wall ── Topic: 25\n",
      "     │         │    │         │    └─■──caesar_gaul_caesars_people_legions ── Topic: 1\n",
      "     │         │    │         └─■──corn_cattle_supply_scarcity_want ── Topic: 22\n",
      "     │         │    └─wall_macedonians_alexander_city_engines\n",
      "     │         │         ├─■──macedonians_alexander_phalanx_cavalry_city ── Topic: 7\n",
      "     │         │         └─■──wall_mound_engines_towers_walls ── Topic: 14\n",
      "     │         └─river_indus_called_rivers_name\n",
      "     │              ├─bridges_river_bridge_towers_bank\n",
      "     │              │    ├─■──water_feet_ascent_morass_hill ── Topic: 46\n",
      "     │              │    └─■──bridges_bank_coblentz_bridge_river ── Topic: 42\n",
      "     │              └─river_indus_called_rivers_name\n",
      "     │                   ├─■──rivers_river_crossing_rules_passage ── Topic: 96\n",
      "     │                   └─■──river_indus_called_name_rivers ── Topic: 5\n",
      "     └─alexander_darius_arrian_alexanders_son\n",
      "          ├─alexander_darius_arrian_alexanders_son\n",
      "          │    ├─arrian_cf_heracles_hippias_hipparchus\n",
      "          │    │    ├─heracles_hippias_hipparchus_harmodius_aristogiton\n",
      "          │    │    │    ├─■──xlv_disastrous_notice__ ── Topic: 10\n",
      "          │    │    │    └─heracles_hippias_hipparchus_harmodius_aristogiton\n",
      "          │    │    │         ├─pliny_et_cappadocia_minor_asia\n",
      "          │    │    │         │    ├─■──maritza_bardylis_crateas_ariaspians_musicanus ── Topic: 6\n",
      "          │    │    │         │    └─■──pliny_et_cappadocia_minor_asia ── Topic: 64\n",
      "          │    │    │         └─heracles_hippias_hipparchus_harmodius_aristogiton\n",
      "          │    │    │              ├─■──heracles_dionysus_hercules_cadmus_son ── Topic: 62\n",
      "          │    │    │              └─■──hippias_hipparchus_harmodius_aristogiton_pisistratus ── Topic: 68\n",
      "          │    │    └─arrian_cf_photius_iliad_homer\n",
      "          │    │         ├─■──cf_arrian_homer_iliad_supra ── Topic: 55\n",
      "          │    │         └─■──arrian_photius_epictetus_cod_extant ── Topic: 36\n",
      "          │    └─darius_alexander_alexanders_persians_son\n",
      "          │         ├─darius_alexander_alexanders_persians_king\n",
      "          │         │    ├─alexander_alexanders_speech_death_callisthenes\n",
      "          │         │    │    ├─■──anabasis_alexander_juliopolis_ravi_rasalhad ── Topic: 95\n",
      "          │         │    │    └─alexander_alexanders_speech_death_callisthenes\n",
      "          │         │    │         ├─■──alexander_alexanders_speech_callisthenes_king ── Topic: 11\n",
      "          │         │    │         └─■──death_alexander_son_alexanders_died ── Topic: 66\n",
      "          │         │    └─darius_persians_alexander_persian_wife\n",
      "          │         │         ├─■──darius_persians_alexander_persian_grecian ── Topic: 19\n",
      "          │         │         └─■──darius_wife_marry_mother_alexander ── Topic: 65\n",
      "          │         └─viceroy_cavalry_shieldbearing_son_agrianians\n",
      "          │              ├─cavalry_shieldbearing_agrianians_son_guards\n",
      "          │              │    ├─■──son_cavalry_posted_parmenio_philotas ── Topic: 90\n",
      "          │              │    └─■──shieldbearing_agrianians_guards_archers_cavalry ── Topic: 80\n",
      "          │              └─viceroy_spitamenes_sogdiana_sogdianians_areians\n",
      "          │                   ├─■──viceroy_areians_stasanor_phrataphernes_land ── Topic: 77\n",
      "          │                   └─■──spitamenes_sogdiana_sogdianians_scythians_sogdianarevolt ── Topic: 73\n",
      "          └─siege_tyre_halicarnassus_myndus_massaga\n",
      "               ├─■──tyre_siege_tyrenaval_tyreconstruction_tyrians ── Topic: 84\n",
      "               └─siege_halicarnassus_massaga_myndus_mantua\n",
      "                    ├─■──siege_halicarnassus_massaga_myndus_miletus ── Topic: 82\n",
      "                    └─■──siege_mantua_buonaparte_victories_genoa ── Topic: 87\n",
      "\n"
     ]
    }
   ],
   "source": [
    "hierarchy_tree = topic_model.get_topic_tree(hierarchical_topics)\n",
    "print(hierarchy_tree)"
   ]
  }
 ],
 "metadata": {
  "kernelspec": {
   "display_name": "Python 3",
   "language": "python",
   "name": "python3"
  },
  "language_info": {
   "codemirror_mode": {
    "name": "ipython",
    "version": 3
   },
   "file_extension": ".py",
   "mimetype": "text/x-python",
   "name": "python",
   "nbconvert_exporter": "python",
   "pygments_lexer": "ipython3",
   "version": "3.12.2"
  }
 },
 "nbformat": 4,
 "nbformat_minor": 5
}
