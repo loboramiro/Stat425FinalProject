{
 "cells": [
  {
   "cell_type": "code",
   "execution_count": 1,
   "id": "cb61b0bb",
   "metadata": {},
   "outputs": [
    {
     "name": "stderr",
     "output_type": "stream",
     "text": [
      "c:\\Users\\ramirolobo\\AppData\\Local\\Programs\\Python\\Python312\\Lib\\site-packages\\tqdm\\auto.py:21: TqdmWarning: IProgress not found. Please update jupyter and ipywidgets. See https://ipywidgets.readthedocs.io/en/stable/user_install.html\n",
      "  from .autonotebook import tqdm as notebook_tqdm\n"
     ]
    }
   ],
   "source": [
    "import pandas as pd\n",
    "from bertopic import BERTopic\n",
    "import re\n",
    "import nltk\n",
    "from nltk.corpus import stopwords\n",
    "from nltk.tokenize import word_tokenize\n",
    "from sklearn.feature_extraction.text import CountVectorizer"
   ]
  },
  {
   "cell_type": "code",
   "execution_count": 2,
   "id": "756bf28d",
   "metadata": {},
   "outputs": [
    {
     "name": "stderr",
     "output_type": "stream",
     "text": [
      "[nltk_data] Downloading package stopwords to\n",
      "[nltk_data]     C:/Users/ramirolobo/nltk_data...\n",
      "[nltk_data]   Package stopwords is already up-to-date!\n",
      "[nltk_data] Downloading package punkt to\n",
      "[nltk_data]     C:/Users/ramirolobo/nltk_data...\n",
      "[nltk_data]   Package punkt is already up-to-date!\n"
     ]
    }
   ],
   "source": [
    "nltk.download('stopwords', download_dir='C:/Users/ramirolobo/nltk_data')\n",
    "nltk.download('punkt', download_dir='C:/Users/ramirolobo/nltk_data')\n",
    "nltk.data.path.append('C:/Users/ramirolobo/nltk_data')"
   ]
  },
  {
   "cell_type": "code",
   "execution_count": 3,
   "id": "912ed93c",
   "metadata": {},
   "outputs": [],
   "source": [
    "#load texts\n",
    "text_chunks = pd.read_csv(\"data/text_chunks.csv\")\n",
    "texts = text_chunks[\"text\"].tolist()"
   ]
  },
  {
   "cell_type": "code",
   "execution_count": 4,
   "id": "8b106364",
   "metadata": {},
   "outputs": [],
   "source": [
    "#define stopwords\n",
    "stop_words = set(stopwords.words('english'))\n",
    "custom_stopwords = {\n",
    "    \"chapter\", \"book\", \"section\", \"article\",\n",
    "    \"i\", \"ii\", \"iii\", \"iv\", \"v\", \"vi\", \"vii\", \"viii\",\n",
    "    \"ix\", \"x\", \"xi\", \"xii\", \"xiii\", \"xiv\", \"xv\", \"xvi\", \"xvii\",\n",
    "    \"xviii\", \"xix\", \"xx\", \"xxi\", \"xxii\", \"xxiii\", \"xxiv\", \"xxv\",\n",
    "    \"xxvi\", \"xxvii\", \"xxviii\", \"xxix\", \"xxx\", \"xxxii\", \"xxxiii\",\n",
    "    \"xxxiv\", \"xxxv\", \"xxxvi\", \"xxxvii\", \"xxxviii\", \"xxxix\", \"xl\",\n",
    "}\n",
    "all_stopwords = stop_words.union(custom_stopwords)\n",
    "\n",
    "#function to preprocess text\n",
    "def preprocess_text(text):\n",
    "    text = text.lower()\n",
    "    text = re.sub(r\"[^a-z\\s]\", \"\", text)  # remove punctuation and numbers\n",
    "    words = text.split()  # split by whitespace instead of word_tokenize\n",
    "    filtered_words = [w for w in words if w not in all_stopwords]\n",
    "    return \" \".join(filtered_words)"
   ]
  },
  {
   "cell_type": "code",
   "execution_count": 5,
   "id": "d446cc4d",
   "metadata": {},
   "outputs": [],
   "source": [
    "#apply preprocessing\n",
    "text_chunks[\"cleaned_text\"] = text_chunks[\"text\"].apply(preprocess_text)"
   ]
  },
  {
   "cell_type": "code",
   "execution_count": 6,
   "id": "928655c7",
   "metadata": {},
   "outputs": [
    {
     "data": {
      "text/html": [
       "<div>\n",
       "<style scoped>\n",
       "    .dataframe tbody tr th:only-of-type {\n",
       "        vertical-align: middle;\n",
       "    }\n",
       "\n",
       "    .dataframe tbody tr th {\n",
       "        vertical-align: top;\n",
       "    }\n",
       "\n",
       "    .dataframe thead th {\n",
       "        text-align: right;\n",
       "    }\n",
       "</style>\n",
       "<table border=\"1\" class=\"dataframe\">\n",
       "  <thead>\n",
       "    <tr style=\"text-align: right;\">\n",
       "      <th></th>\n",
       "      <th>Unnamed: 0</th>\n",
       "      <th>author</th>\n",
       "      <th>title</th>\n",
       "      <th>chunk</th>\n",
       "      <th>text</th>\n",
       "      <th>year</th>\n",
       "      <th>century</th>\n",
       "      <th>cleaned_text</th>\n",
       "    </tr>\n",
       "  </thead>\n",
       "  <tbody>\n",
       "    <tr>\n",
       "      <th>0</th>\n",
       "      <td>1</td>\n",
       "      <td>Arrian</td>\n",
       "      <td>The Anabasis of Alexander\\r\\nor, The History o...</td>\n",
       "      <td>0</td>\n",
       "      <td>the  anabasis of alexander</td>\n",
       "      <td>130</td>\n",
       "      <td>2nd c. CE</td>\n",
       "      <td>anabasis alexander</td>\n",
       "    </tr>\n",
       "    <tr>\n",
       "      <th>1</th>\n",
       "      <td>2</td>\n",
       "      <td>Arrian</td>\n",
       "      <td>The Anabasis of Alexander\\r\\nor, The History o...</td>\n",
       "      <td>1</td>\n",
       "      <td>the  anabasis of alexander</td>\n",
       "      <td>130</td>\n",
       "      <td>2nd c. CE</td>\n",
       "      <td>anabasis alexander</td>\n",
       "    </tr>\n",
       "    <tr>\n",
       "      <th>2</th>\n",
       "      <td>3</td>\n",
       "      <td>Arrian</td>\n",
       "      <td>The Anabasis of Alexander\\r\\nor, The History o...</td>\n",
       "      <td>2</td>\n",
       "      <td>or  the history of the wars and conquests of ...</td>\n",
       "      <td>130</td>\n",
       "      <td>2nd c. CE</td>\n",
       "      <td>history wars conquests alexander great</td>\n",
       "    </tr>\n",
       "    <tr>\n",
       "      <th>3</th>\n",
       "      <td>4</td>\n",
       "      <td>Arrian</td>\n",
       "      <td>The Anabasis of Alexander\\r\\nor, The History o...</td>\n",
       "      <td>3</td>\n",
       "      <td>literally translated with a commentary from th...</td>\n",
       "      <td>130</td>\n",
       "      <td>2nd c. CE</td>\n",
       "      <td>literally translated commentary greek arrian n...</td>\n",
       "    </tr>\n",
       "    <tr>\n",
       "      <th>4</th>\n",
       "      <td>5</td>\n",
       "      <td>Arrian</td>\n",
       "      <td>The Anabasis of Alexander\\r\\nor, The History o...</td>\n",
       "      <td>4</td>\n",
       "      <td>e j chinnock ma llb london  rector of dumfries...</td>\n",
       "      <td>130</td>\n",
       "      <td>2nd c. CE</td>\n",
       "      <td>e j chinnock llb london rector dumfries academy</td>\n",
       "    </tr>\n",
       "  </tbody>\n",
       "</table>\n",
       "</div>"
      ],
      "text/plain": [
       "   Unnamed: 0  author                                              title  \\\n",
       "0           1  Arrian  The Anabasis of Alexander\\r\\nor, The History o...   \n",
       "1           2  Arrian  The Anabasis of Alexander\\r\\nor, The History o...   \n",
       "2           3  Arrian  The Anabasis of Alexander\\r\\nor, The History o...   \n",
       "3           4  Arrian  The Anabasis of Alexander\\r\\nor, The History o...   \n",
       "4           5  Arrian  The Anabasis of Alexander\\r\\nor, The History o...   \n",
       "\n",
       "   chunk                                               text  year    century  \\\n",
       "0      0                       the  anabasis of alexander     130  2nd c. CE   \n",
       "1      1                         the  anabasis of alexander   130  2nd c. CE   \n",
       "2      2   or  the history of the wars and conquests of ...   130  2nd c. CE   \n",
       "3      3  literally translated with a commentary from th...   130  2nd c. CE   \n",
       "4      4  e j chinnock ma llb london  rector of dumfries...   130  2nd c. CE   \n",
       "\n",
       "                                        cleaned_text  \n",
       "0                                 anabasis alexander  \n",
       "1                                 anabasis alexander  \n",
       "2             history wars conquests alexander great  \n",
       "3  literally translated commentary greek arrian n...  \n",
       "4    e j chinnock llb london rector dumfries academy  "
      ]
     },
     "execution_count": 6,
     "metadata": {},
     "output_type": "execute_result"
    }
   ],
   "source": [
    "text_chunks.head()"
   ]
  },
  {
   "cell_type": "code",
   "execution_count": 15,
   "id": "915cf3c0",
   "metadata": {},
   "outputs": [],
   "source": [
    "cleaned_texts = text_chunks[\"cleaned_text\"].dropna().tolist()"
   ]
  },
  {
   "cell_type": "code",
   "execution_count": null,
   "id": "876129eb",
   "metadata": {},
   "outputs": [],
   "source": [
    "#get vectorizer model to remove any residual stopwords\n",
    "vectorizer_model = CountVectorizer(stop_words=\"english\")\n",
    "\n",
    "#fit BERTopic model\n",
    "topic_model = BERTopic(\n",
    "    #vectorizer_model=vectorizer_model,\n",
    "    #calculate_probabilities=True,\n",
    "    #verbose=True,\n",
    "    #nr_topics=\"auto\",  # Automatically determine the number of topics\n",
    "    #language=\"english\"  # Specify the language for stopwords\n",
    ")\n",
    "\n",
    "topics, probs = topic_model.fit_transform(cleaned_texts)"
   ]
  },
  {
   "cell_type": "code",
   "execution_count": 10,
   "id": "dcf974d7",
   "metadata": {},
   "outputs": [],
   "source": [
    "#topic_model.save(\"bertopic_model\") #save model\n",
    "topic_model = BERTopic.load(\"bertopic_model\")  # load model"
   ]
  },
  {
   "cell_type": "code",
   "execution_count": null,
   "id": "3d7315fa",
   "metadata": {},
   "outputs": [],
   "source": [
    "topics = topic_model.get_topic_info()\n",
    "#topics.to_csv(\"data/topics.csv\", index=False)"
   ]
  },
  {
   "cell_type": "code",
   "execution_count": 19,
   "id": "063cc1dc",
   "metadata": {},
   "outputs": [],
   "source": [
    "#avoid training model each time\n",
    "topics = pd.read_csv(\"data/topics.csv\")"
   ]
  },
  {
   "cell_type": "code",
   "execution_count": 12,
   "id": "38dacc04",
   "metadata": {},
   "outputs": [
    {
     "data": {
      "text/html": [
       "<div>\n",
       "<style scoped>\n",
       "    .dataframe tbody tr th:only-of-type {\n",
       "        vertical-align: middle;\n",
       "    }\n",
       "\n",
       "    .dataframe tbody tr th {\n",
       "        vertical-align: top;\n",
       "    }\n",
       "\n",
       "    .dataframe thead th {\n",
       "        text-align: right;\n",
       "    }\n",
       "</style>\n",
       "<table border=\"1\" class=\"dataframe\">\n",
       "  <thead>\n",
       "    <tr style=\"text-align: right;\">\n",
       "      <th></th>\n",
       "      <th>Topic</th>\n",
       "      <th>Count</th>\n",
       "      <th>Name</th>\n",
       "      <th>Representation</th>\n",
       "      <th>Representative_Docs</th>\n",
       "    </tr>\n",
       "  </thead>\n",
       "  <tbody>\n",
       "    <tr>\n",
       "      <th>1</th>\n",
       "      <td>0</td>\n",
       "      <td>4446</td>\n",
       "      <td>0_french_english_england_france</td>\n",
       "      <td>[french, english, england, france, ships, sea,...</td>\n",
       "      <td>[advantage wind english day fortyfour ships ac...</td>\n",
       "    </tr>\n",
       "    <tr>\n",
       "      <th>2</th>\n",
       "      <td>1</td>\n",
       "      <td>2679</td>\n",
       "      <td>1_athenians_lacedaemonians_athens_athenian</td>\n",
       "      <td>[athenians, lacedaemonians, athens, athenian, ...</td>\n",
       "      <td>[terms armistice ships delivered number sixty ...</td>\n",
       "    </tr>\n",
       "    <tr>\n",
       "      <th>3</th>\n",
       "      <td>2</td>\n",
       "      <td>928</td>\n",
       "      <td>2_operations_lines_strategic_line</td>\n",
       "      <td>[operations, lines, strategic, line, point, en...</td>\n",
       "      <td>[front operations space separates two armies u...</td>\n",
       "    </tr>\n",
       "    <tr>\n",
       "      <th>4</th>\n",
       "      <td>3</td>\n",
       "      <td>921</td>\n",
       "      <td>3_theory_mind_must_us</td>\n",
       "      <td>[theory, mind, must, us, may, things, therefor...</td>\n",
       "      <td>[influence theoretical principles upon real li...</td>\n",
       "    </tr>\n",
       "    <tr>\n",
       "      <th>5</th>\n",
       "      <td>4</td>\n",
       "      <td>554</td>\n",
       "      <td>4_sun_wu_tz_chi</td>\n",
       "      <td>[sun, wu, tz, chi, yu, tsao, chinese, chang, c...</td>\n",
       "      <td>[return elder sun tz mentioned two passages sh...</td>\n",
       "    </tr>\n",
       "    <tr>\n",
       "      <th>6</th>\n",
       "      <td>5</td>\n",
       "      <td>353</td>\n",
       "      <td>5_object_war_destruction_therefore</td>\n",
       "      <td>[object, war, destruction, therefore, politica...</td>\n",
       "      <td>[destruction enemys military force leading pri...</td>\n",
       "    </tr>\n",
       "    <tr>\n",
       "      <th>7</th>\n",
       "      <td>6</td>\n",
       "      <td>311</td>\n",
       "      <td>6_river_indus_called_rivers</td>\n",
       "      <td>[river, indus, called, rivers, name, hebrew, e...</td>\n",
       "      <td>[unquestionable therefore let record indus lar...</td>\n",
       "    </tr>\n",
       "    <tr>\n",
       "      <th>8</th>\n",
       "      <td>7</td>\n",
       "      <td>307</td>\n",
       "      <td>7_eordaea_rha_ulm_crateas</td>\n",
       "      <td>[eordaea, rha, ulm, crateas, ariaspians, mount...</td>\n",
       "      <td>[ulm magnesia victory malplaquet, peithon son ...</td>\n",
       "    </tr>\n",
       "    <tr>\n",
       "      <th>9</th>\n",
       "      <td>8</td>\n",
       "      <td>177</td>\n",
       "      <td>8_military_generals_general_spirit</td>\n",
       "      <td>[military, generals, general, spirit, virtue, ...</td>\n",
       "      <td>[assistance military virtue parts genius comma...</td>\n",
       "    </tr>\n",
       "    <tr>\n",
       "      <th>10</th>\n",
       "      <td>9</td>\n",
       "      <td>177</td>\n",
       "      <td>9_darius_persians_alexander_persian</td>\n",
       "      <td>[darius, persians, alexander, persian, king, g...</td>\n",
       "      <td>[reflections fate darius alexander sent body d...</td>\n",
       "    </tr>\n",
       "    <tr>\n",
       "      <th>11</th>\n",
       "      <td>10</td>\n",
       "      <td>174</td>\n",
       "      <td>10_rhine_archduke_austrians_austrian</td>\n",
       "      <td>[rhine, archduke, austrians, austrian, danube,...</td>\n",
       "      <td>[leaving austria rear russia front austria lau...</td>\n",
       "    </tr>\n",
       "    <tr>\n",
       "      <th>12</th>\n",
       "      <td>11</td>\n",
       "      <td>171</td>\n",
       "      <td>11_divisions_battalions_columns_deployed</td>\n",
       "      <td>[divisions, battalions, columns, deployed, col...</td>\n",
       "      <td>[whole armies deployed skirmishers still neces...</td>\n",
       "    </tr>\n",
       "    <tr>\n",
       "      <th>13</th>\n",
       "      <td>12</td>\n",
       "      <td>149</td>\n",
       "      <td>12_wall_mound_engines_towers</td>\n",
       "      <td>[wall, mound, engines, towers, walls, stones, ...</td>\n",
       "      <td>[round city able bring military engines walls ...</td>\n",
       "    </tr>\n",
       "    <tr>\n",
       "      <th>14</th>\n",
       "      <td>13</td>\n",
       "      <td>146</td>\n",
       "      <td>13_macedonians_alexander_city_phalanx</td>\n",
       "      <td>[macedonians, alexander, city, phalanx, wall, ...</td>\n",
       "      <td>[macedonians easily forced way first wall stro...</td>\n",
       "    </tr>\n",
       "    <tr>\n",
       "      <th>15</th>\n",
       "      <td>14</td>\n",
       "      <td>145</td>\n",
       "      <td>14_alexander_alexanders_speech_king</td>\n",
       "      <td>[alexander, alexanders, speech, king, callisth...</td>\n",
       "      <td>[alexander seized fever alexanders death, spee...</td>\n",
       "    </tr>\n",
       "    <tr>\n",
       "      <th>16</th>\n",
       "      <td>15</td>\n",
       "      <td>124</td>\n",
       "      <td>15____</td>\n",
       "      <td>[, , , , , , , , , ]</td>\n",
       "      <td>[, , ]</td>\n",
       "    </tr>\n",
       "    <tr>\n",
       "      <th>17</th>\n",
       "      <td>16</td>\n",
       "      <td>121</td>\n",
       "      <td>16_arrian_cf_herodotus_homer</td>\n",
       "      <td>[arrian, cf, herodotus, homer, xenophon, see, ...</td>\n",
       "      <td>[cf arrian supra see arrian supra, sons east c...</td>\n",
       "    </tr>\n",
       "    <tr>\n",
       "      <th>18</th>\n",
       "      <td>17</td>\n",
       "      <td>114</td>\n",
       "      <td>17_caesar_caesars_roman_rome</td>\n",
       "      <td>[caesar, caesars, roman, rome, senate, public,...</td>\n",
       "      <td>[added dumnorix said assembly aeduans sovereig...</td>\n",
       "    </tr>\n",
       "    <tr>\n",
       "      <th>19</th>\n",
       "      <td>18</td>\n",
       "      <td>106</td>\n",
       "      <td>18_caesar_camp_legions_labienus</td>\n",
       "      <td>[caesar, camp, legions, labienus, day, baggage...</td>\n",
       "      <td>[vercingetorix taken care broken next day stop...</td>\n",
       "    </tr>\n",
       "    <tr>\n",
       "      <th>20</th>\n",
       "      <td>19</td>\n",
       "      <td>97</td>\n",
       "      <td>19_napoleon_napoleons_battle_order</td>\n",
       "      <td>[napoleon, napoleons, battle, order, bonaparte...</td>\n",
       "      <td>[campaign napoleons, ratisbon napoleon napoleo...</td>\n",
       "    </tr>\n",
       "  </tbody>\n",
       "</table>\n",
       "</div>"
      ],
      "text/plain": [
       "    Topic  Count                                        Name  \\\n",
       "1       0   4446             0_french_english_england_france   \n",
       "2       1   2679  1_athenians_lacedaemonians_athens_athenian   \n",
       "3       2    928           2_operations_lines_strategic_line   \n",
       "4       3    921                       3_theory_mind_must_us   \n",
       "5       4    554                             4_sun_wu_tz_chi   \n",
       "6       5    353          5_object_war_destruction_therefore   \n",
       "7       6    311                 6_river_indus_called_rivers   \n",
       "8       7    307                   7_eordaea_rha_ulm_crateas   \n",
       "9       8    177          8_military_generals_general_spirit   \n",
       "10      9    177         9_darius_persians_alexander_persian   \n",
       "11     10    174        10_rhine_archduke_austrians_austrian   \n",
       "12     11    171    11_divisions_battalions_columns_deployed   \n",
       "13     12    149                12_wall_mound_engines_towers   \n",
       "14     13    146       13_macedonians_alexander_city_phalanx   \n",
       "15     14    145         14_alexander_alexanders_speech_king   \n",
       "16     15    124                                      15____   \n",
       "17     16    121                16_arrian_cf_herodotus_homer   \n",
       "18     17    114                17_caesar_caesars_roman_rome   \n",
       "19     18    106             18_caesar_camp_legions_labienus   \n",
       "20     19     97          19_napoleon_napoleons_battle_order   \n",
       "\n",
       "                                       Representation  \\\n",
       "1   [french, english, england, france, ships, sea,...   \n",
       "2   [athenians, lacedaemonians, athens, athenian, ...   \n",
       "3   [operations, lines, strategic, line, point, en...   \n",
       "4   [theory, mind, must, us, may, things, therefor...   \n",
       "5   [sun, wu, tz, chi, yu, tsao, chinese, chang, c...   \n",
       "6   [object, war, destruction, therefore, politica...   \n",
       "7   [river, indus, called, rivers, name, hebrew, e...   \n",
       "8   [eordaea, rha, ulm, crateas, ariaspians, mount...   \n",
       "9   [military, generals, general, spirit, virtue, ...   \n",
       "10  [darius, persians, alexander, persian, king, g...   \n",
       "11  [rhine, archduke, austrians, austrian, danube,...   \n",
       "12  [divisions, battalions, columns, deployed, col...   \n",
       "13  [wall, mound, engines, towers, walls, stones, ...   \n",
       "14  [macedonians, alexander, city, phalanx, wall, ...   \n",
       "15  [alexander, alexanders, speech, king, callisth...   \n",
       "16                               [, , , , , , , , , ]   \n",
       "17  [arrian, cf, herodotus, homer, xenophon, see, ...   \n",
       "18  [caesar, caesars, roman, rome, senate, public,...   \n",
       "19  [caesar, camp, legions, labienus, day, baggage...   \n",
       "20  [napoleon, napoleons, battle, order, bonaparte...   \n",
       "\n",
       "                                  Representative_Docs  \n",
       "1   [advantage wind english day fortyfour ships ac...  \n",
       "2   [terms armistice ships delivered number sixty ...  \n",
       "3   [front operations space separates two armies u...  \n",
       "4   [influence theoretical principles upon real li...  \n",
       "5   [return elder sun tz mentioned two passages sh...  \n",
       "6   [destruction enemys military force leading pri...  \n",
       "7   [unquestionable therefore let record indus lar...  \n",
       "8   [ulm magnesia victory malplaquet, peithon son ...  \n",
       "9   [assistance military virtue parts genius comma...  \n",
       "10  [reflections fate darius alexander sent body d...  \n",
       "11  [leaving austria rear russia front austria lau...  \n",
       "12  [whole armies deployed skirmishers still neces...  \n",
       "13  [round city able bring military engines walls ...  \n",
       "14  [macedonians easily forced way first wall stro...  \n",
       "15  [alexander seized fever alexanders death, spee...  \n",
       "16                                             [, , ]  \n",
       "17  [cf arrian supra see arrian supra, sons east c...  \n",
       "18  [added dumnorix said assembly aeduans sovereig...  \n",
       "19  [vercingetorix taken care broken next day stop...  \n",
       "20  [campaign napoleons, ratisbon napoleon napoleo...  "
      ]
     },
     "execution_count": 12,
     "metadata": {},
     "output_type": "execute_result"
    }
   ],
   "source": [
    "# top 15 topics\n",
    "topics.loc[1:20, :]"
   ]
  },
  {
   "cell_type": "markdown",
   "id": "a48ea900",
   "metadata": {},
   "source": [
    "Topics seems to primarily identify authors rather than common themes between them."
   ]
  },
  {
   "cell_type": "code",
   "execution_count": 10,
   "id": "006f6a76",
   "metadata": {},
   "outputs": [
    {
     "data": {
      "text/plain": [
       "{-1: ['mahan december',\n",
       "  'dumfries december',\n",
       "  'january thirty twentytwo april thirty twenty difference time trincomalee saints nine hours half'],\n",
       " 0: ['varus general horse man uncommon spirit skill encouraged men pursuing enemy disposed troops convenient places rest gave battle enemy enemys cavalry made bold stand foot relieving making general halt assist horse battle',\n",
       "  'austrians directed operations upon meuse sarre moselle concert prussians part useless army upper rhine force one hundred twenty thousand men flanks protected troops could pushed forward even probable without changing direction war',\n",
       "  'result first combat wiped account possible stop first success put second part battle coming day even king lost advantages first would always set second'],\n",
       " 1: ['advantage wind english day fortyfour ships action dutch eighty many english said larger two fleets passed opposite tacks english windward tromp rear seeing dutch order battle badly formed ships two three lines overlapping',\n",
       "  'time arrived strong english squadron six shipsoftheline admiral hughes absence similar french force gave entire control sea english arrival suffren nearly three years later mean holland drawn war stations negapatam',\n",
       "  'england sea hour fast approaching great colonial expeditions made last year war illustrious triumph sea power england france spain united first'],\n",
       " 2: ['notice', 'disastrous', 'index']}"
      ]
     },
     "execution_count": 10,
     "metadata": {},
     "output_type": "execute_result"
    }
   ],
   "source": [
    "topic_model.get_representative_docs(topics)"
   ]
  },
  {
   "cell_type": "code",
   "execution_count": 31,
   "id": "7f35c082",
   "metadata": {},
   "outputs": [],
   "source": [
    "#topics over time\n",
    "timestamps = text_chunks['year'].tolist()\n",
    "topics_over_time = topic_model.topics_over_time(cleaned_texts, timestamps=timestamps, nr_bins=7, global_tuning=False)"
   ]
  },
  {
   "cell_type": "code",
   "execution_count": 32,
   "id": "ee55c9b4",
   "metadata": {},
   "outputs": [
    {
     "data": {
      "application/vnd.plotly.v1+json": {
       "config": {
        "plotlyServerURL": "https://plot.ly"
       },
       "data": [
        {
         "hoverinfo": "text",
         "hovertext": [
          "<b>Topic 0</b><br>Words: ships, sea, crews, us, vessels",
          "<b>Topic 0</b><br>Words: ships, wind, fleet, harbour, vessels",
          "<b>Topic 0</b><br>Words: french, english, england, france, sea"
         ],
         "marker": {
          "color": "#E69F00"
         },
         "mode": "lines",
         "name": "0_french_english_england_france",
         "type": "scatter",
         "x": [
          -502.39,
          -158.571,
          1548.571
         ],
         "y": [
          186,
          201,
          4059
         ]
        },
        {
         "hoverinfo": "text",
         "hovertext": [
          "<b>Topic 1</b><br>Words: athenians, lacedaemonians, athens, athenian, allies",
          "<b>Topic 1</b><br>Words: greeks, greece, city, ships, thebans",
          "<b>Topic 1</b><br>Words: sicily, messina, thousand, duquesne, dardanelles"
         ],
         "marker": {
          "color": "#56B4E9"
         },
         "mode": "lines",
         "name": "1_athenians_lacedaemonians_athens_atheni...",
         "type": "scatter",
         "x": [
          -502.39,
          -158.571,
          1548.571
         ],
         "y": [
          2445,
          194,
          40
         ]
        },
        {
         "hoverinfo": "text",
         "hovertext": [
          "<b>Topic 2</b><br>Words: enemy, attack, enemys, us, victory",
          "<b>Topic 2</b><br>Words: attack, shield, whoever, whatever, works",
          "<b>Topic 2</b><br>Words: operations, lines, strategic, line, point"
         ],
         "marker": {
          "color": "#009E73"
         },
         "mode": "lines",
         "name": "2_operations_lines_strategic_line",
         "type": "scatter",
         "x": [
          -502.39,
          -158.571,
          1548.571
         ],
         "y": [
          96,
          14,
          818
         ]
        },
        {
         "hoverinfo": "text",
         "hovertext": [
          "<b>Topic 3</b><br>Words: us, man, fear, make, men",
          "<b>Topic 3</b><br>Words: debts, man, men, labours, one",
          "<b>Topic 3</b><br>Words: theory, mind, must, therefore, things"
         ],
         "marker": {
          "color": "#F0E442"
         },
         "mode": "lines",
         "name": "3_theory_mind_must_us",
         "type": "scatter",
         "x": [
          -502.39,
          -158.571,
          1548.571
         ],
         "y": [
          292,
          101,
          528
         ]
        },
        {
         "hoverinfo": "text",
         "hovertext": [
          "<b>Topic 4</b><br>Words: sun, wu, tz, chi, yu",
          "<b>Topic 4</b><br>Words: translated, london, folio, classical, gallico",
          "<b>Topic 4</b><br>Words: copyright, typographical, document, mahan, corrected"
         ],
         "marker": {
          "color": "#D55E00"
         },
         "mode": "lines",
         "name": "4_sun_wu_tz_chi",
         "type": "scatter",
         "x": [
          -502.39,
          -158.571,
          1548.571
         ],
         "y": [
          513,
          26,
          15
         ]
        },
        {
         "hoverinfo": "text",
         "hovertext": [
          "<b>Topic 5</b><br>Words: penetrating, force, chances, frightens, irrationally",
          "<b>Topic 5</b><br>Words: effecting, anything, , , ",
          "<b>Topic 5</b><br>Words: object, war, destruction, therefore, political"
         ],
         "marker": {
          "color": "#0072B2"
         },
         "mode": "lines",
         "name": "5_object_war_destruction_therefore",
         "type": "scatter",
         "x": [
          -502.39,
          -158.571,
          1548.571
         ],
         "y": [
          9,
          1,
          343
         ]
        },
        {
         "hoverinfo": "text",
         "hovertext": [
          "<b>Topic 6</b><br>Words: scombrus, river, flows, thesprotis, paeonians",
          "<b>Topic 6</b><br>Words: indus, river, called, rivers, name",
          "<b>Topic 6</b><br>Words: intrenched, alaska, spaineditor, attainedcheaply, possessionno"
         ],
         "marker": {
          "color": "#CC79A7"
         },
         "mode": "lines",
         "name": "6_river_indus_called_rivers",
         "type": "scatter",
         "x": [
          -502.39,
          -158.571,
          1548.571
         ],
         "y": [
          4,
          304,
          3
         ]
        },
        {
         "hoverinfo": "text",
         "hovertext": [
          "<b>Topic 7</b><br>Words: sutton, bob, manuvering, , ",
          "<b>Topic 7</b><br>Words: rha, eordaea, crateas, ariaspians, mount",
          "<b>Topic 7</b><br>Words: ulm, duquesnes, herberts, hohenfriedberg, malplaquet"
         ],
         "marker": {
          "color": "#E69F00"
         },
         "mode": "lines",
         "name": "7_eordaea_rha_ulm_crateas",
         "type": "scatter",
         "x": [
          -502.39,
          -158.571,
          1548.571
         ],
         "y": [
          2,
          296,
          9
         ]
        },
        {
         "hoverinfo": "text",
         "hovertext": [
          "<b>Topic 8</b><br>Words: spirit, generals, army, soldiers, recklessly",
          "<b>Topic 8</b><br>Words: heart, xxixhowever, dispensation, drowsy, equites",
          "<b>Topic 8</b><br>Words: military, generals, general, virtue, staff"
         ],
         "marker": {
          "color": "#56B4E9"
         },
         "mode": "lines",
         "name": "8_military_generals_general_spirit",
         "type": "scatter",
         "x": [
          -502.39,
          -158.571,
          1548.571
         ],
         "y": [
          23,
          5,
          149
         ]
        },
        {
         "hoverinfo": "text",
         "hovertext": [
          "<b>Topic 9</b><br>Words: customs, pleistarchus, prouder, leonidass, cousin",
          "<b>Topic 9</b><br>Words: darius, persians, alexander, persian, king",
          "<b>Topic 9</b><br>Words: greeks, strategy, mahrattas, commissariat, englishmen"
         ],
         "marker": {
          "color": "#009E73"
         },
         "mode": "lines",
         "name": "9_darius_persians_alexander_persian",
         "type": "scatter",
         "x": [
          -502.39,
          -158.571,
          1548.571
         ],
         "y": [
          3,
          172,
          2
         ]
        },
        {
         "hoverinfo": "text",
         "hovertext": [
          "<b>Topic 10</b><br>Words: computed, daci, anartes, nemetes, bends",
          "<b>Topic 10</b><br>Words: rhine, archduke, austrians, austrian, danube"
         ],
         "marker": {
          "color": "#F0E442"
         },
         "mode": "lines",
         "name": "10_rhine_archduke_austrians_austrian",
         "type": "scatter",
         "x": [
          -158.571,
          1548.571
         ],
         "y": [
          1,
          173
         ]
        },
        {
         "hoverinfo": "text",
         "hovertext": [
          "<b>Topic 11</b><br>Words: footmen, chariot, warchariot, enomoty, grouped",
          "<b>Topic 11</b><br>Words: marshalling, cavalry, dense, rearguard, compact",
          "<b>Topic 11</b><br>Words: divisions, battalions, columns, deployed, column"
         ],
         "marker": {
          "color": "#D55E00"
         },
         "mode": "lines",
         "name": "11_divisions_battalions_columns_deployed",
         "type": "scatter",
         "x": [
          -502.39,
          -158.571,
          1548.571
         ],
         "y": [
          3,
          1,
          167
         ]
        },
        {
         "hoverinfo": "text",
         "hovertext": [
          "<b>Topic 12</b><br>Words: wall, mound, plataeans, stones, ladders",
          "<b>Topic 12</b><br>Words: wall, engines, mound, feet, towers",
          "<b>Topic 12</b><br>Words: sewers, shoes, intrenchment, climbing, cremona"
         ],
         "marker": {
          "color": "#0072B2"
         },
         "mode": "lines",
         "name": "12_wall_mound_engines_towers",
         "type": "scatter",
         "x": [
          -502.39,
          -158.571,
          1548.571
         ],
         "y": [
          43,
          104,
          2
         ]
        },
        {
         "hoverinfo": "text",
         "hovertext": [
          "<b>Topic 13</b><br>Words: piraeus, alexicles, prisoner, handfuls, anaceum",
          "<b>Topic 13</b><br>Words: macedonians, alexander, city, phalanx, wall",
          "<b>Topic 13</b><br>Words: decatur, fontenoy, macedonian, phalanxes, plausibly"
         ],
         "marker": {
          "color": "#CC79A7"
         },
         "mode": "lines",
         "name": "13_macedonians_alexander_city_phalanx",
         "type": "scatter",
         "x": [
          -502.39,
          -158.571,
          1548.571
         ],
         "y": [
          4,
          139,
          3
         ]
        },
        {
         "hoverinfo": "text",
         "hovertext": [
          "<b>Topic 14</b><br>Words: alexander, alexanders, speech, king, callisthenes",
          "<b>Topic 14</b><br>Words: bf, stevens, clintons, keystone, excites"
         ],
         "marker": {
          "color": "#E69F00"
         },
         "mode": "lines",
         "name": "14_alexander_alexanders_speech_king",
         "type": "scatter",
         "x": [
          -158.571,
          1548.571
         ],
         "y": [
          143,
          2
         ]
        },
        {
         "hoverinfo": "text",
         "hovertext": [
          "<b>Topic 15</b><br>Words: , , , , ",
          "<b>Topic 15</b><br>Words: , , , , ",
          "<b>Topic 15</b><br>Words: , , , , "
         ],
         "marker": {
          "color": "#56B4E9"
         },
         "mode": "lines",
         "name": "15____",
         "type": "scatter",
         "x": [
          -502.39,
          -158.571,
          1548.571
         ],
         "y": [
          24,
          72,
          28
         ]
        },
        {
         "hoverinfo": "text",
         "hovertext": [
          "<b>Topic 16</b><br>Words: supra, name, phthiotis, fasten, dispersion",
          "<b>Topic 16</b><br>Words: arrian, cf, herodotus, xenophon, homer",
          "<b>Topic 16</b><br>Words: beresina, narratives, truly, readers, wonderful"
         ],
         "marker": {
          "color": "#009E73"
         },
         "mode": "lines",
         "name": "16_arrian_cf_herodotus_homer",
         "type": "scatter",
         "x": [
          -502.39,
          -158.571,
          1548.571
         ],
         "y": [
          3,
          117,
          1
         ]
        },
        {
         "hoverinfo": "text",
         "hovertext": [
          "<b>Topic 17</b><br>Words: caesar, caesars, rome, roman, senate",
          "<b>Topic 17</b><br>Words: proverb, desirable, gold, wise, scarcely"
         ],
         "marker": {
          "color": "#F0E442"
         },
         "mode": "lines",
         "name": "17_caesar_caesars_roman_rome",
         "type": "scatter",
         "x": [
          -158.571,
          1548.571
         ],
         "y": [
          113,
          1
         ]
        },
        {
         "hoverinfo": "text",
         "hovertext": [
          "<b>Topic 18</b><br>Words: chinghsing, mustered, alluded, red, midnight",
          "<b>Topic 18</b><br>Words: caesar, camp, legions, labienus, day",
          "<b>Topic 18</b><br>Words: capital, simultaneous, successive, days, letters"
         ],
         "marker": {
          "color": "#D55E00"
         },
         "mode": "lines",
         "name": "18_caesar_camp_legions_labienus",
         "type": "scatter",
         "x": [
          -502.39,
          -158.571,
          1548.571
         ],
         "y": [
          1,
          103,
          2
         ]
        },
        {
         "hoverinfo": "text",
         "hovertext": [
          "<b>Topic 19</b><br>Words: bonaparte, napoleon, duke, pensees, er",
          "<b>Topic 19</b><br>Words: napoleon, napoleons, battle, order, system"
         ],
         "marker": {
          "color": "#0072B2"
         },
         "mode": "lines",
         "name": "19_napoleon_napoleons_battle_order",
         "type": "scatter",
         "x": [
          -502.39,
          1548.571
         ],
         "y": [
          4,
          93
         ]
        },
        {
         "hoverinfo": "text",
         "hovertext": [
          "<b>Topic 20</b><br>Words: cavalry, spears, regiments, wings, deepening",
          "<b>Topic 20</b><br>Words: cavalry, infantry, charges, charge, artillery"
         ],
         "marker": {
          "color": "#CC79A7"
         },
         "mode": "lines",
         "name": "20_cavalry_infantry_charges_charge",
         "type": "scatter",
         "x": [
          -158.571,
          1548.571
         ],
         "y": [
          4,
          83
         ]
        },
        {
         "hoverinfo": "text",
         "hovertext": [
          "<b>Topic 21</b><br>Words: owing, horse, syracusan, spot, hemming",
          "<b>Topic 21</b><br>Words: horse, cavalry, horses, men, curio",
          "<b>Topic 21</b><br>Words: finds, station, roadit, bad, infinity"
         ],
         "marker": {
          "color": "#E69F00"
         },
         "mode": "lines",
         "name": "21_horse_horses_cavalry_men",
         "type": "scatter",
         "x": [
          -502.39,
          -158.571,
          1548.571
         ],
         "y": [
          7,
          74,
          3
         ]
        },
        {
         "hoverinfo": "text",
         "hovertext": [
          "<b>Topic 22</b><br>Words: corn, food, mills, unobtainable, parched",
          "<b>Topic 22</b><br>Words: corn, cattle, want, consumed, quantity",
          "<b>Topic 22</b><br>Words: cattle, bread, supply, hoof, biscuit"
         ],
         "marker": {
          "color": "#56B4E9"
         },
         "mode": "lines",
         "name": "22_corn_cattle_supply_want",
         "type": "scatter",
         "x": [
          -502.39,
          -158.571,
          1548.571
         ],
         "y": [
          7,
          58,
          4
         ]
        },
        {
         "hoverinfo": "text",
         "hovertext": [
          "<b>Topic 23</b><br>Words: hannibal, noonday, alpsthat, breakfasted, lv",
          "<b>Topic 23</b><br>Words: capua, carthaginians, livy, justin, etruscans",
          "<b>Topic 23</b><br>Words: hannibal, carthaginians, italy, roman, hasdrubal"
         ],
         "marker": {
          "color": "#009E73"
         },
         "mode": "lines",
         "name": "23_hannibal_carthaginians_italy_roman",
         "type": "scatter",
         "x": [
          -502.39,
          -158.571,
          1548.571
         ],
         "y": [
          3,
          4,
          53
         ]
        },
        {
         "hoverinfo": "text",
         "hovertext": [
          "<b>Topic 24</b><br>Words: tigers, picked, sword, soldiers, mattock",
          "<b>Topic 24</b><br>Words: men, camp, woods, enemy, till",
          "<b>Topic 24</b><br>Words: casemates, beresinabecause, skeleton, evermemorable, reliefs"
         ],
         "marker": {
          "color": "#F0E442"
         },
         "mode": "lines",
         "name": "24_men_camp_enemy_woods",
         "type": "scatter",
         "x": [
          -502.39,
          -158.571,
          1548.571
         ],
         "y": [
          10,
          42,
          2
         ]
        },
        {
         "hoverinfo": "text",
         "hovertext": [
          "<b>Topic 25</b><br>Words: spies, spy, converted, tu, mu",
          "<b>Topic 25</b><br>Words: pardons, communicates, sets, divitiacus, dumnorix",
          "<b>Topic 25</b><br>Words: spies, information, learn, espionage, spy"
         ],
         "marker": {
          "color": "#D55E00"
         },
         "mode": "lines",
         "name": "25_spies_spy_converted_information",
         "type": "scatter",
         "x": [
          -502.39,
          -158.571,
          1548.571
         ],
         "y": [
          42,
          1,
          8
         ]
        },
        {
         "hoverinfo": "text",
         "hovertext": [
          "<b>Topic 26</b><br>Words: trojans, fiftyoars, galleys, aegina, principally",
          "<b>Topic 26</b><br>Words: gades, built, ships, eighty, provided",
          "<b>Topic 26</b><br>Words: thousand, hundred, turks, vessels, men"
         ],
         "marker": {
          "color": "#0072B2"
         },
         "mode": "lines",
         "name": "26_thousand_hundred_turks_vessels",
         "type": "scatter",
         "x": [
          -502.39,
          -158.571,
          1548.571
         ],
         "y": [
          4,
          5,
          40
         ]
        },
        {
         "hoverinfo": "text",
         "hovertext": [
          "<b>Topic 27</b><br>Words: gaul, gauls, roman, states, people"
         ],
         "marker": {
          "color": "#CC79A7"
         },
         "mode": "lines",
         "name": "27_gaul_gauls_roman_states",
         "type": "scatter",
         "x": [
          -158.571
         ],
         "y": [
          46
         ]
        },
        {
         "hoverinfo": "text",
         "hovertext": [
          "<b>Topic 28</b><br>Words: fathers, ancestors, admetus, bones, tribe",
          "<b>Topic 28</b><br>Words: coffin, tomb, funeral, cyrus, couch",
          "<b>Topic 28</b><br>Words: tromp, irresponsible, stoppage, insubordinate, flagofficers"
         ],
         "marker": {
          "color": "#E69F00"
         },
         "mode": "lines",
         "name": "28_coffin_tomb_funeral_dead",
         "type": "scatter",
         "x": [
          -502.39,
          -158.571,
          1548.571
         ],
         "y": [
          21,
          24,
          1
         ]
        },
        {
         "hoverinfo": "text",
         "hovertext": [
          "<b>Topic 29</b><br>Words: ancient, people, gallia, gaul, called"
         ],
         "marker": {
          "color": "#56B4E9"
         },
         "mode": "lines",
         "name": "29_ancient_people_gallia_gaul",
         "type": "scatter",
         "x": [
          -158.571
         ],
         "y": [
          44
         ]
        },
        {
         "hoverinfo": "text",
         "hovertext": [
          "<b>Topic 30</b><br>Words: camps, nearness, contribute, begun, two",
          "<b>Topic 30</b><br>Words: camps, intrenched, tetes, ponts, connection"
         ],
         "marker": {
          "color": "#009E73"
         },
         "mode": "lines",
         "name": "30_camps_intrenched_tetes_ponts",
         "type": "scatter",
         "x": [
          -158.571,
          1548.571
         ],
         "y": [
          1,
          40
         ]
        },
        {
         "hoverinfo": "text",
         "hovertext": [
          "<b>Topic 31</b><br>Words: lost, dpts, chang, equitably, haphazard",
          "<b>Topic 31</b><br>Words: detachments, army, depots, may, supplies"
         ],
         "marker": {
          "color": "#F0E442"
         },
         "mode": "lines",
         "name": "31_detachments_army_depots_duty",
         "type": "scatter",
         "x": [
          -502.39,
          1548.571
         ],
         "y": [
          5,
          31
         ]
        },
        {
         "hoverinfo": "text",
         "hovertext": [
          "<b>Topic 32</b><br>Words: democracy, confederacy, plunder, seek, step",
          "<b>Topic 32</b><br>Words: slavery, dares, influential, wine, chains",
          "<b>Topic 32</b><br>Words: mississippi, twain, englandthan, offin, new"
         ],
         "marker": {
          "color": "#D55E00"
         },
         "mode": "lines",
         "name": "32_confederacy_slavery_entered_democracy",
         "type": "scatter",
         "x": [
          -502.39,
          -158.571,
          1548.571
         ],
         "y": [
          20,
          12,
          3
         ]
        },
        {
         "hoverinfo": "text",
         "hovertext": [
          "<b>Topic 33</b><br>Words: moscow, russian, buonaparte, frederick, russians"
         ],
         "marker": {
          "color": "#0072B2"
         },
         "mode": "lines",
         "name": "33_moscow_russian_buonaparte_frederick",
         "type": "scatter",
         "x": [
          1548.571
         ],
         "y": [
          34
         ]
        },
        {
         "hoverinfo": "text",
         "hovertext": [
          "<b>Topic 34</b><br>Words: hostages, requisition, quota, fixing, phocians",
          "<b>Topic 34</b><br>Words: hostages, ambassadors, caesar, arms, demands"
         ],
         "marker": {
          "color": "#CC79A7"
         },
         "mode": "lines",
         "name": "34_hostages_ambassadors_caesar_arms",
         "type": "scatter",
         "x": [
          -502.39,
          -158.571
         ],
         "y": [
          1,
          33
         ]
        },
        {
         "hoverinfo": "text",
         "hovertext": [
          "<b>Topic 35</b><br>Words: germans, rhine, treviri, territories, cross",
          "<b>Topic 35</b><br>Words: rhine, mouths, climates, ossiekviz, bridgetrain"
         ],
         "marker": {
          "color": "#E69F00"
         },
         "mode": "lines",
         "name": "35_germans_rhine_treviri_territories",
         "type": "scatter",
         "x": [
          -158.571,
          1548.571
         ],
         "y": [
          28,
          3
         ]
        },
        {
         "hoverinfo": "text",
         "hovertext": [
          "<b>Topic 36</b><br>Words: calling, shrieking, fellowtownsman, tentfellows, necks",
          "<b>Topic 36</b><br>Words: soldiers, exhorted, bk, recruits, men"
         ],
         "marker": {
          "color": "#56B4E9"
         },
         "mode": "lines",
         "name": "36_soldiers_sight_exhorted_men",
         "type": "scatter",
         "x": [
          -502.39,
          -158.571
         ],
         "y": [
          7,
          23
         ]
        },
        {
         "hoverinfo": "text",
         "hovertext": [
          "<b>Topic 37</b><br>Words: solidarity, prevail, penetrate, invading, defenders",
          "<b>Topic 37</b><br>Words: invasions, distant, invasion, wars, diplomacy"
         ],
         "marker": {
          "color": "#009E73"
         },
         "mode": "lines",
         "name": "37_invasions_distant_invasion_wars",
         "type": "scatter",
         "x": [
          -502.39,
          1548.571
         ],
         "y": [
          1,
          29
         ]
        },
        {
         "hoverinfo": "text",
         "hovertext": [
          "<b>Topic 38</b><br>Words: germany, ancient, people, rhine, switzerland",
          "<b>Topic 38</b><br>Words: interesting, mongols, huns, goths, research"
         ],
         "marker": {
          "color": "#F0E442"
         },
         "mode": "lines",
         "name": "38_germany_ancient_people_rhine",
         "type": "scatter",
         "x": [
          -158.571,
          1548.571
         ],
         "y": [
          28,
          1
         ]
        },
        {
         "hoverinfo": "text",
         "hovertext": [
          "<b>Topic 39</b><br>Words: pompey, dyrrachium, pompeys, camp, cohorts"
         ],
         "marker": {
          "color": "#D55E00"
         },
         "mode": "lines",
         "name": "39_pompey_dyrrachium_pompeys_camp",
         "type": "scatter",
         "x": [
          -158.571
         ],
         "y": [
          27
         ]
        },
        {
         "hoverinfo": "text",
         "hovertext": [
          "<b>Topic 40</b><br>Words: th, stellar, sagittarius, pegasus, mansions",
          "<b>Topic 40</b><br>Words: cappadocia, et, minor, asia, sarmatia"
         ],
         "marker": {
          "color": "#0072B2"
         },
         "mode": "lines",
         "name": "40_cappadocia_et_minor_asia",
         "type": "scatter",
         "x": [
          -502.39,
          -158.571
         ],
         "y": [
          1,
          26
         ]
        },
        {
         "hoverinfo": "text",
         "hovertext": [
          "<b>Topic 41</b><br>Words: italy, city, hispania, ancient, umbria",
          "<b>Topic 41</b><br>Words: pyrrhus, descent, italy, , "
         ],
         "marker": {
          "color": "#CC79A7"
         },
         "mode": "lines",
         "name": "41_italy_city_hispania_ancient",
         "type": "scatter",
         "x": [
          -158.571,
          1548.571
         ],
         "y": [
          25,
          1
         ]
        },
        {
         "hoverinfo": "text",
         "hovertext": [
          "<b>Topic 42</b><br>Words: viceroy, appointed, areians, stasanor, land"
         ],
         "marker": {
          "color": "#E69F00"
         },
         "mode": "lines",
         "name": "42_viceroy_appointed_areians_stasanor",
         "type": "scatter",
         "x": [
          -158.571
         ],
         "y": [
          26
         ]
        },
        {
         "hoverinfo": "text",
         "hovertext": [
          "<b>Topic 43</b><br>Words: cavalry, alexander, spear, porus, philotas"
         ],
         "marker": {
          "color": "#56B4E9"
         },
         "mode": "lines",
         "name": "43_cavalry_alexander_spear_porus",
         "type": "scatter",
         "x": [
          -158.571
         ],
         "y": [
          26
         ]
        },
        {
         "hoverinfo": "text",
         "hovertext": [
          "<b>Topic 44</b><br>Words: les, art, concernant, lhistoire, treize",
          "<b>Topic 44</b><br>Words: art, war, summary, military, wars"
         ],
         "marker": {
          "color": "#009E73"
         },
         "mode": "lines",
         "name": "44_art_les_war_summary",
         "type": "scatter",
         "x": [
          -502.39,
          1548.571
         ],
         "y": [
          3,
          23
         ]
        },
        {
         "hoverinfo": "text",
         "hovertext": [
          "<b>Topic 45</b><br>Words: pompey, senate, pompeys, caesar, authority"
         ],
         "marker": {
          "color": "#F0E442"
         },
         "mode": "lines",
         "name": "45_pompey_senate_pompeys_caesar",
         "type": "scatter",
         "x": [
          -158.571
         ],
         "y": [
          25
         ]
        },
        {
         "hoverinfo": "text",
         "hovertext": [
          "<b>Topic 46</b><br>Words: disbanded, , , , ",
          "<b>Topic 46</b><br>Words: division, st, corps, second, first"
         ],
         "marker": {
          "color": "#D55E00"
         },
         "mode": "lines",
         "name": "46_division_st_corps_second",
         "type": "scatter",
         "x": [
          -158.571,
          1548.571
         ],
         "y": [
          1,
          23
         ]
        },
        {
         "hoverinfo": "text",
         "hovertext": [
          "<b>Topic 47</b><br>Words: macedonia, city, epirus, river, durazzo"
         ],
         "marker": {
          "color": "#0072B2"
         },
         "mode": "lines",
         "name": "47_macedonia_city_epirus_river",
         "type": "scatter",
         "x": [
          -158.571
         ],
         "y": [
          24
         ]
        },
        {
         "hoverinfo": "text",
         "hovertext": [
          "<b>Topic 48</b><br>Words: mountainous, countries, mountains, valleys, plains"
         ],
         "marker": {
          "color": "#CC79A7"
         },
         "mode": "lines",
         "name": "48_mountainous_countries_mountains_valle...",
         "type": "scatter",
         "x": [
          1548.571
         ],
         "y": [
          23
         ]
        },
        {
         "hoverinfo": "text",
         "hovertext": [
          "<b>Topic 49</b><br>Words: death, philip, macedonia, alexander, alexanders"
         ],
         "marker": {
          "color": "#E69F00"
         },
         "mode": "lines",
         "name": "49_death_philip_macedonia_alexander",
         "type": "scatter",
         "x": [
          -158.571
         ],
         "y": [
          22
         ]
        },
        {
         "hoverinfo": "text",
         "hovertext": [
          "<b>Topic 50</b><br>Words: son, cavalry, parmenio, grecian, command"
         ],
         "marker": {
          "color": "#56B4E9"
         },
         "mode": "lines",
         "name": "50_son_cavalry_parmenio_grecian",
         "type": "scatter",
         "x": [
          -158.571
         ],
         "y": [
          22
         ]
        },
        {
         "hoverinfo": "text",
         "hovertext": [
          "<b>Topic 51</b><br>Words: waging, war, , , ",
          "<b>Topic 51</b><br>Words: lexovii, last, states, made, war",
          "<b>Topic 51</b><br>Words: intervention, wars, interferes, state, kinds"
         ],
         "marker": {
          "color": "#009E73"
         },
         "mode": "lines",
         "name": "51_intervention_wars_interferes_state",
         "type": "scatter",
         "x": [
          -502.39,
          -158.571,
          1548.571
         ],
         "y": [
          1,
          1,
          19
         ]
        },
        {
         "hoverinfo": "text",
         "hovertext": [
          "<b>Topic 52</b><br>Words: sunny, dark, places, fighting, ",
          "<b>Topic 52</b><br>Words: night, combat, darkness, combats, day"
         ],
         "marker": {
          "color": "#F0E442"
         },
         "mode": "lines",
         "name": "52_night_combat_darkness_combats",
         "type": "scatter",
         "x": [
          -502.39,
          1548.571
         ],
         "y": [
          1,
          20
         ]
        },
        {
         "hoverinfo": "text",
         "hovertext": [
          "<b>Topic 53</b><br>Words: gaul, people, ancient, ibid, inhabiting"
         ],
         "marker": {
          "color": "#D55E00"
         },
         "mode": "lines",
         "name": "53_gaul_people_ancient_ibid",
         "type": "scatter",
         "x": [
          -158.571
         ],
         "y": [
          21
         ]
        },
        {
         "hoverinfo": "text",
         "hovertext": [
          "<b>Topic 54</b><br>Words: gaul, caesar, gauls, roman, territories"
         ],
         "marker": {
          "color": "#0072B2"
         },
         "mode": "lines",
         "name": "54_gaul_caesar_gauls_roman",
         "type": "scatter",
         "x": [
          -158.571
         ],
         "y": [
          20
         ]
        },
        {
         "hoverinfo": "text",
         "hovertext": [
          "<b>Topic 55</b><br>Words: us, agreement, treaty, arbitration, negotiation",
          "<b>Topic 55</b><br>Words: february, abates, debates, smouldered, renunciation"
         ],
         "marker": {
          "color": "#CC79A7"
         },
         "mode": "lines",
         "name": "55_us_treaty_agreement_arbitration",
         "type": "scatter",
         "x": [
          -502.39,
          1548.571
         ],
         "y": [
          15,
          4
         ]
        },
        {
         "hoverinfo": "text",
         "hovertext": [
          "<b>Topic 56</b><br>Words: clausewitz, von, carl, general, yorks"
         ],
         "marker": {
          "color": "#E69F00"
         },
         "mode": "lines",
         "name": "56_clausewitz_von_carl_general",
         "type": "scatter",
         "x": [
          1548.571
         ],
         "y": [
          18
         ]
        },
        {
         "hoverinfo": "text",
         "hovertext": [
          "<b>Topic 57</b><br>Words: older, orneans, cleonaeans, worsted, knights",
          "<b>Topic 57</b><br>Words: shieldbearing, cavalry, agrianians, guards, companions",
          "<b>Topic 57</b><br>Words: asturias, peasants, oviedo, navia, kellermann"
         ],
         "marker": {
          "color": "#56B4E9"
         },
         "mode": "lines",
         "name": "57_shieldbearing_cavalry_agrianians_guar...",
         "type": "scatter",
         "x": [
          -502.39,
          -158.571,
          1548.571
         ],
         "y": [
          1,
          16,
          1
         ]
        },
        {
         "hoverinfo": "text",
         "hovertext": [
          "<b>Topic 58</b><br>Words: rhine, lacus, falls, ocean, waal",
          "<b>Topic 58</b><br>Words: oder, rivers, rhine, bank, wesel"
         ],
         "marker": {
          "color": "#009E73"
         },
         "mode": "lines",
         "name": "58_rhine_lacus_falls_ocean",
         "type": "scatter",
         "x": [
          -158.571,
          1548.571
         ],
         "y": [
          15,
          3
         ]
        },
        {
         "hoverinfo": "text",
         "hovertext": [
          "<b>Topic 59</b><br>Words: wuhou, sluices, upstream, river, warfare",
          "<b>Topic 59</b><br>Words: pass, endeavouring, impeded, swords, therein",
          "<b>Topic 59</b><br>Words: bridges, passage, river, rivers, enemy"
         ],
         "marker": {
          "color": "#F0E442"
         },
         "mode": "lines",
         "name": "59_river_bridges_passage_rivers",
         "type": "scatter",
         "x": [
          -502.39,
          -158.571,
          1548.571
         ],
         "y": [
          4,
          1,
          12
         ]
        },
        {
         "hoverinfo": "text",
         "hovertext": [
          "<b>Topic 60</b><br>Words: narrow, defined, tortuous, steeps, quagmires",
          "<b>Topic 60</b><br>Words: morass, hill, ascent, enclosed, circuit",
          "<b>Topic 60</b><br>Words: depth, increased, eight, , "
         ],
         "marker": {
          "color": "#D55E00"
         },
         "mode": "lines",
         "name": "60_morass_hill_ascent_narrow",
         "type": "scatter",
         "x": [
          -502.39,
          -158.571,
          1548.571
         ],
         "y": [
          3,
          13,
          1
         ]
        },
        {
         "hoverinfo": "text",
         "hovertext": [
          "<b>Topic 61</b><br>Words: diversions, detachments, operations, zone, large"
         ],
         "marker": {
          "color": "#0072B2"
         },
         "mode": "lines",
         "name": "61_diversions_detachments_operations_zon...",
         "type": "scatter",
         "x": [
          1548.571
         ],
         "y": [
          16
         ]
        },
        {
         "hoverinfo": "text",
         "hovertext": [
          "<b>Topic 62</b><br>Words: chariots, swift, olympic, chariot, games",
          "<b>Topic 62</b><br>Words: chariots, charioteers, overpowered, ibid, mode"
         ],
         "marker": {
          "color": "#CC79A7"
         },
         "mode": "lines",
         "name": "62_chariots_chariot_charioteers_swift",
         "type": "scatter",
         "x": [
          -502.39,
          -158.571
         ],
         "y": [
          7,
          9
         ]
        },
        {
         "hoverinfo": "text",
         "hovertext": [
          "<b>Topic 63</b><br>Words: heracles, hercules, dionysus, perseus, tyre"
         ],
         "marker": {
          "color": "#E69F00"
         },
         "mode": "lines",
         "name": "63_heracles_hercules_dionysus_perseus",
         "type": "scatter",
         "x": [
          -158.571
         ],
         "y": [
          15
         ]
        },
        {
         "hoverinfo": "text",
         "hovertext": [
          "<b>Topic 64</b><br>Words: hydaspes, voyage, acesines, fordable, hgsistrtus"
         ],
         "marker": {
          "color": "#56B4E9"
         },
         "mode": "lines",
         "name": "64_hydaspes_voyage_acesines_fordable",
         "type": "scatter",
         "x": [
          -158.571
         ],
         "y": [
          15
         ]
        },
        {
         "hoverinfo": "text",
         "hovertext": [
          "<b>Topic 65</b><br>Words: napoleon, line, lines, operations, strategic"
         ],
         "marker": {
          "color": "#009E73"
         },
         "mode": "lines",
         "name": "65_napoleon_line_lines_operations",
         "type": "scatter",
         "x": [
          1548.571
         ],
         "y": [
          15
         ]
        },
        {
         "hoverinfo": "text",
         "hovertext": [
          "<b>Topic 66</b><br>Words: levity, quelling, kindhearted, aggrieved, beget",
          "<b>Topic 66</b><br>Words: daughter, mother, women, emasculate, indecorous",
          "<b>Topic 66</b><br>Words: fatherland, welfare, trust, women, children"
         ],
         "marker": {
          "color": "#F0E442"
         },
         "mode": "lines",
         "name": "66_children_women_daughter_mother",
         "type": "scatter",
         "x": [
          -502.39,
          -158.571,
          1548.571
         ],
         "y": [
          6,
          7,
          1
         ]
        },
        {
         "hoverinfo": "text",
         "hovertext": [
          "<b>Topic 67</b><br>Words: bridge, guard, banks, titurus, volcatius",
          "<b>Topic 67</b><br>Words: redoubts, tetes, towers, bank, pont"
         ],
         "marker": {
          "color": "#D55E00"
         },
         "mode": "lines",
         "name": "67_towers_redoubts_tetes_banks",
         "type": "scatter",
         "x": [
          -158.571,
          1548.571
         ],
         "y": [
          2,
          12
         ]
        },
        {
         "hoverinfo": "text",
         "hovertext": [
          "<b>Topic 68</b><br>Words: bath, day, medius, sacrifices, fever",
          "<b>Topic 68</b><br>Words: hood, decamped, domingo, yellow, consummate"
         ],
         "marker": {
          "color": "#0072B2"
         },
         "mode": "lines",
         "name": "68_bath_fever_night_day",
         "type": "scatter",
         "x": [
          -158.571,
          1548.571
         ],
         "y": [
          11,
          2
         ]
        },
        {
         "hoverinfo": "text",
         "hovertext": [
          "<b>Topic 69</b><br>Words: gaul, caesar, confederacy, massacre, people"
         ],
         "marker": {
          "color": "#CC79A7"
         },
         "mode": "lines",
         "name": "69_gaul_caesar_confederacy_massacre",
         "type": "scatter",
         "x": [
          -158.571
         ],
         "y": [
          13
         ]
        },
        {
         "hoverinfo": "text",
         "hovertext": [
          "<b>Topic 70</b><br>Words: , , , , ",
          "<b>Topic 70</b><br>Words: , , , , ",
          "<b>Topic 70</b><br>Words: , , , , "
         ],
         "marker": {
          "color": "#E69F00"
         },
         "mode": "lines",
         "name": "70____",
         "type": "scatter",
         "x": [
          -502.39,
          -158.571,
          1548.571
         ],
         "y": [
          3,
          5,
          5
         ]
        },
        {
         "hoverinfo": "text",
         "hovertext": [
          "<b>Topic 71</b><br>Words: wars, intestine, religion, dogmas, religious"
         ],
         "marker": {
          "color": "#56B4E9"
         },
         "mode": "lines",
         "name": "71_wars_intestine_religion_dogmas",
         "type": "scatter",
         "x": [
          1548.571
         ],
         "y": [
          12
         ]
        },
        {
         "hoverinfo": "text",
         "hovertext": [
          "<b>Topic 72</b><br>Words: anabasis, alexander, dio, lxix, nysa"
         ],
         "marker": {
          "color": "#009E73"
         },
         "mode": "lines",
         "name": "72_anabasis_alexander_lxix_dio",
         "type": "scatter",
         "x": [
          -158.571
         ],
         "y": [
          12
         ]
        },
        {
         "hoverinfo": "text",
         "hovertext": [
          "<b>Topic 73</b><br>Words: fig, illustration, ttttttttttttttttttttttttttttttttttttttttttttttttttttt, tttttttttttttttttttttttttttttttttttttttt, answers"
         ],
         "marker": {
          "color": "#F0E442"
         },
         "mode": "lines",
         "name": "73_fig_illustration_tttttttttttttttttttt...",
         "type": "scatter",
         "x": [
          1548.571
         ],
         "y": [
          12
         ]
        },
        {
         "hoverinfo": "text",
         "hovertext": [
          "<b>Topic 74</b><br>Words: alliance, refusing, join, us, corcyra",
          "<b>Topic 74</b><br>Words: halfandhalf, niggardly, invites, signing, menacing"
         ],
         "marker": {
          "color": "#D55E00"
         },
         "mode": "lines",
         "name": "74_alliance_refusing_join_us",
         "type": "scatter",
         "x": [
          -502.39,
          1548.571
         ],
         "y": [
          9,
          3
         ]
        },
        {
         "hoverinfo": "text",
         "hovertext": [
          "<b>Topic 75</b><br>Words: city, ambuscades, motion, noses, environs",
          "<b>Topic 75</b><br>Words: unwearied, citizens, pyrenean, pleading, robbers",
          "<b>Topic 75</b><br>Words: devastations, bivouacs, feeding, enlarged, overrun"
         ],
         "marker": {
          "color": "#0072B2"
         },
         "mode": "lines",
         "name": "75_city_ambuscades_motion_wallsyou",
         "type": "scatter",
         "x": [
          -502.39,
          -158.571,
          1548.571
         ],
         "y": [
          9,
          2,
          1
         ]
        },
        {
         "hoverinfo": "text",
         "hovertext": [
          "<b>Topic 76</b><br>Words: everyday, hellas, arms, hollows, habitations",
          "<b>Topic 76</b><br>Words: clemency, mercy, arms, punishment, venetic"
         ],
         "marker": {
          "color": "#CC79A7"
         },
         "mode": "lines",
         "name": "76_arms_clemency_mercy_punishment",
         "type": "scatter",
         "x": [
          -502.39,
          -158.571
         ],
         "y": [
          2,
          10
         ]
        },
        {
         "hoverinfo": "text",
         "hovertext": [
          "<b>Topic 77</b><br>Words: siege, halicarnassus, massaga, miletus, halicarnassusabortive",
          "<b>Topic 77</b><br>Words: candia, cannae, turkish, descent, siege"
         ],
         "marker": {
          "color": "#E69F00"
         },
         "mode": "lines",
         "name": "77_siege_halicarnassus_massaga_miletus",
         "type": "scatter",
         "x": [
          -158.571,
          1548.571
         ],
         "y": [
          11,
          1
         ]
        },
        {
         "hoverinfo": "text",
         "hovertext": [
          "<b>Topic 78</b><br>Words: breakfast, fasting, trebia, keenest, foolishly",
          "<b>Topic 78</b><br>Words: romans, scarce, withstand, suevi, forage"
         ],
         "marker": {
          "color": "#56B4E9"
         },
         "mode": "lines",
         "name": "78_romans_scarce_withstand_suevi",
         "type": "scatter",
         "x": [
          -502.39,
          -158.571
         ],
         "y": [
          1,
          10
         ]
        },
        {
         "hoverinfo": "text",
         "hovertext": [
          "<b>Topic 79</b><br>Words: footnote, footnotes, deficit, refer, treated"
         ],
         "marker": {
          "color": "#009E73"
         },
         "mode": "lines",
         "name": "79_footnote_footnotes_deficit_refer",
         "type": "scatter",
         "x": [
          1548.571
         ],
         "y": [
          11
         ]
        },
        {
         "hoverinfo": "text",
         "hovertext": [
          "<b>Topic 80</b><br>Words: spitamenes, sogdiana, sogdianians, scythians, sogdianarevolt"
         ],
         "marker": {
          "color": "#F0E442"
         },
         "mode": "lines",
         "name": "80_spitamenes_sogdiana_sogdianians_scyth...",
         "type": "scatter",
         "x": [
          -158.571
         ],
         "y": [
          11
         ]
        },
        {
         "hoverinfo": "text",
         "hovertext": [
          "<b>Topic 81</b><br>Words: ch, see, , , ",
          "<b>Topic 81</b><br>Words: cbl, cush, connected, one, ",
          "<b>Topic 81</b><br>Words: lllllllllllll, llllllllllllll, , , "
         ],
         "marker": {
          "color": "#D55E00"
         },
         "mode": "lines",
         "name": "81_llllllllllllll_lllllllllllll_cbl_ch",
         "type": "scatter",
         "x": [
          -502.39,
          -158.571,
          1548.571
         ],
         "y": [
          2,
          3,
          6
         ]
        }
       ],
       "layout": {
        "height": 450,
        "hoverlabel": {
         "bgcolor": "white",
         "font": {
          "family": "Rockwell",
          "size": 16
         }
        },
        "legend": {
         "title": {
          "text": "<b>Global Topic Representation"
         }
        },
        "template": {
         "data": {
          "bar": [
           {
            "error_x": {
             "color": "rgb(36,36,36)"
            },
            "error_y": {
             "color": "rgb(36,36,36)"
            },
            "marker": {
             "line": {
              "color": "white",
              "width": 0.5
             },
             "pattern": {
              "fillmode": "overlay",
              "size": 10,
              "solidity": 0.2
             }
            },
            "type": "bar"
           }
          ],
          "barpolar": [
           {
            "marker": {
             "line": {
              "color": "white",
              "width": 0.5
             },
             "pattern": {
              "fillmode": "overlay",
              "size": 10,
              "solidity": 0.2
             }
            },
            "type": "barpolar"
           }
          ],
          "carpet": [
           {
            "aaxis": {
             "endlinecolor": "rgb(36,36,36)",
             "gridcolor": "white",
             "linecolor": "white",
             "minorgridcolor": "white",
             "startlinecolor": "rgb(36,36,36)"
            },
            "baxis": {
             "endlinecolor": "rgb(36,36,36)",
             "gridcolor": "white",
             "linecolor": "white",
             "minorgridcolor": "white",
             "startlinecolor": "rgb(36,36,36)"
            },
            "type": "carpet"
           }
          ],
          "choropleth": [
           {
            "colorbar": {
             "outlinewidth": 1,
             "tickcolor": "rgb(36,36,36)",
             "ticks": "outside"
            },
            "type": "choropleth"
           }
          ],
          "contour": [
           {
            "colorbar": {
             "outlinewidth": 1,
             "tickcolor": "rgb(36,36,36)",
             "ticks": "outside"
            },
            "colorscale": [
             [
              0,
              "#440154"
             ],
             [
              0.1111111111111111,
              "#482878"
             ],
             [
              0.2222222222222222,
              "#3e4989"
             ],
             [
              0.3333333333333333,
              "#31688e"
             ],
             [
              0.4444444444444444,
              "#26828e"
             ],
             [
              0.5555555555555556,
              "#1f9e89"
             ],
             [
              0.6666666666666666,
              "#35b779"
             ],
             [
              0.7777777777777778,
              "#6ece58"
             ],
             [
              0.8888888888888888,
              "#b5de2b"
             ],
             [
              1,
              "#fde725"
             ]
            ],
            "type": "contour"
           }
          ],
          "contourcarpet": [
           {
            "colorbar": {
             "outlinewidth": 1,
             "tickcolor": "rgb(36,36,36)",
             "ticks": "outside"
            },
            "type": "contourcarpet"
           }
          ],
          "heatmap": [
           {
            "colorbar": {
             "outlinewidth": 1,
             "tickcolor": "rgb(36,36,36)",
             "ticks": "outside"
            },
            "colorscale": [
             [
              0,
              "#440154"
             ],
             [
              0.1111111111111111,
              "#482878"
             ],
             [
              0.2222222222222222,
              "#3e4989"
             ],
             [
              0.3333333333333333,
              "#31688e"
             ],
             [
              0.4444444444444444,
              "#26828e"
             ],
             [
              0.5555555555555556,
              "#1f9e89"
             ],
             [
              0.6666666666666666,
              "#35b779"
             ],
             [
              0.7777777777777778,
              "#6ece58"
             ],
             [
              0.8888888888888888,
              "#b5de2b"
             ],
             [
              1,
              "#fde725"
             ]
            ],
            "type": "heatmap"
           }
          ],
          "heatmapgl": [
           {
            "colorbar": {
             "outlinewidth": 1,
             "tickcolor": "rgb(36,36,36)",
             "ticks": "outside"
            },
            "colorscale": [
             [
              0,
              "#440154"
             ],
             [
              0.1111111111111111,
              "#482878"
             ],
             [
              0.2222222222222222,
              "#3e4989"
             ],
             [
              0.3333333333333333,
              "#31688e"
             ],
             [
              0.4444444444444444,
              "#26828e"
             ],
             [
              0.5555555555555556,
              "#1f9e89"
             ],
             [
              0.6666666666666666,
              "#35b779"
             ],
             [
              0.7777777777777778,
              "#6ece58"
             ],
             [
              0.8888888888888888,
              "#b5de2b"
             ],
             [
              1,
              "#fde725"
             ]
            ],
            "type": "heatmapgl"
           }
          ],
          "histogram": [
           {
            "marker": {
             "line": {
              "color": "white",
              "width": 0.6
             }
            },
            "type": "histogram"
           }
          ],
          "histogram2d": [
           {
            "colorbar": {
             "outlinewidth": 1,
             "tickcolor": "rgb(36,36,36)",
             "ticks": "outside"
            },
            "colorscale": [
             [
              0,
              "#440154"
             ],
             [
              0.1111111111111111,
              "#482878"
             ],
             [
              0.2222222222222222,
              "#3e4989"
             ],
             [
              0.3333333333333333,
              "#31688e"
             ],
             [
              0.4444444444444444,
              "#26828e"
             ],
             [
              0.5555555555555556,
              "#1f9e89"
             ],
             [
              0.6666666666666666,
              "#35b779"
             ],
             [
              0.7777777777777778,
              "#6ece58"
             ],
             [
              0.8888888888888888,
              "#b5de2b"
             ],
             [
              1,
              "#fde725"
             ]
            ],
            "type": "histogram2d"
           }
          ],
          "histogram2dcontour": [
           {
            "colorbar": {
             "outlinewidth": 1,
             "tickcolor": "rgb(36,36,36)",
             "ticks": "outside"
            },
            "colorscale": [
             [
              0,
              "#440154"
             ],
             [
              0.1111111111111111,
              "#482878"
             ],
             [
              0.2222222222222222,
              "#3e4989"
             ],
             [
              0.3333333333333333,
              "#31688e"
             ],
             [
              0.4444444444444444,
              "#26828e"
             ],
             [
              0.5555555555555556,
              "#1f9e89"
             ],
             [
              0.6666666666666666,
              "#35b779"
             ],
             [
              0.7777777777777778,
              "#6ece58"
             ],
             [
              0.8888888888888888,
              "#b5de2b"
             ],
             [
              1,
              "#fde725"
             ]
            ],
            "type": "histogram2dcontour"
           }
          ],
          "mesh3d": [
           {
            "colorbar": {
             "outlinewidth": 1,
             "tickcolor": "rgb(36,36,36)",
             "ticks": "outside"
            },
            "type": "mesh3d"
           }
          ],
          "parcoords": [
           {
            "line": {
             "colorbar": {
              "outlinewidth": 1,
              "tickcolor": "rgb(36,36,36)",
              "ticks": "outside"
             }
            },
            "type": "parcoords"
           }
          ],
          "pie": [
           {
            "automargin": true,
            "type": "pie"
           }
          ],
          "scatter": [
           {
            "fillpattern": {
             "fillmode": "overlay",
             "size": 10,
             "solidity": 0.2
            },
            "type": "scatter"
           }
          ],
          "scatter3d": [
           {
            "line": {
             "colorbar": {
              "outlinewidth": 1,
              "tickcolor": "rgb(36,36,36)",
              "ticks": "outside"
             }
            },
            "marker": {
             "colorbar": {
              "outlinewidth": 1,
              "tickcolor": "rgb(36,36,36)",
              "ticks": "outside"
             }
            },
            "type": "scatter3d"
           }
          ],
          "scattercarpet": [
           {
            "marker": {
             "colorbar": {
              "outlinewidth": 1,
              "tickcolor": "rgb(36,36,36)",
              "ticks": "outside"
             }
            },
            "type": "scattercarpet"
           }
          ],
          "scattergeo": [
           {
            "marker": {
             "colorbar": {
              "outlinewidth": 1,
              "tickcolor": "rgb(36,36,36)",
              "ticks": "outside"
             }
            },
            "type": "scattergeo"
           }
          ],
          "scattergl": [
           {
            "marker": {
             "colorbar": {
              "outlinewidth": 1,
              "tickcolor": "rgb(36,36,36)",
              "ticks": "outside"
             }
            },
            "type": "scattergl"
           }
          ],
          "scattermapbox": [
           {
            "marker": {
             "colorbar": {
              "outlinewidth": 1,
              "tickcolor": "rgb(36,36,36)",
              "ticks": "outside"
             }
            },
            "type": "scattermapbox"
           }
          ],
          "scatterpolar": [
           {
            "marker": {
             "colorbar": {
              "outlinewidth": 1,
              "tickcolor": "rgb(36,36,36)",
              "ticks": "outside"
             }
            },
            "type": "scatterpolar"
           }
          ],
          "scatterpolargl": [
           {
            "marker": {
             "colorbar": {
              "outlinewidth": 1,
              "tickcolor": "rgb(36,36,36)",
              "ticks": "outside"
             }
            },
            "type": "scatterpolargl"
           }
          ],
          "scatterternary": [
           {
            "marker": {
             "colorbar": {
              "outlinewidth": 1,
              "tickcolor": "rgb(36,36,36)",
              "ticks": "outside"
             }
            },
            "type": "scatterternary"
           }
          ],
          "surface": [
           {
            "colorbar": {
             "outlinewidth": 1,
             "tickcolor": "rgb(36,36,36)",
             "ticks": "outside"
            },
            "colorscale": [
             [
              0,
              "#440154"
             ],
             [
              0.1111111111111111,
              "#482878"
             ],
             [
              0.2222222222222222,
              "#3e4989"
             ],
             [
              0.3333333333333333,
              "#31688e"
             ],
             [
              0.4444444444444444,
              "#26828e"
             ],
             [
              0.5555555555555556,
              "#1f9e89"
             ],
             [
              0.6666666666666666,
              "#35b779"
             ],
             [
              0.7777777777777778,
              "#6ece58"
             ],
             [
              0.8888888888888888,
              "#b5de2b"
             ],
             [
              1,
              "#fde725"
             ]
            ],
            "type": "surface"
           }
          ],
          "table": [
           {
            "cells": {
             "fill": {
              "color": "rgb(237,237,237)"
             },
             "line": {
              "color": "white"
             }
            },
            "header": {
             "fill": {
              "color": "rgb(217,217,217)"
             },
             "line": {
              "color": "white"
             }
            },
            "type": "table"
           }
          ]
         },
         "layout": {
          "annotationdefaults": {
           "arrowhead": 0,
           "arrowwidth": 1
          },
          "autotypenumbers": "strict",
          "coloraxis": {
           "colorbar": {
            "outlinewidth": 1,
            "tickcolor": "rgb(36,36,36)",
            "ticks": "outside"
           }
          },
          "colorscale": {
           "diverging": [
            [
             0,
             "rgb(103,0,31)"
            ],
            [
             0.1,
             "rgb(178,24,43)"
            ],
            [
             0.2,
             "rgb(214,96,77)"
            ],
            [
             0.3,
             "rgb(244,165,130)"
            ],
            [
             0.4,
             "rgb(253,219,199)"
            ],
            [
             0.5,
             "rgb(247,247,247)"
            ],
            [
             0.6,
             "rgb(209,229,240)"
            ],
            [
             0.7,
             "rgb(146,197,222)"
            ],
            [
             0.8,
             "rgb(67,147,195)"
            ],
            [
             0.9,
             "rgb(33,102,172)"
            ],
            [
             1,
             "rgb(5,48,97)"
            ]
           ],
           "sequential": [
            [
             0,
             "#440154"
            ],
            [
             0.1111111111111111,
             "#482878"
            ],
            [
             0.2222222222222222,
             "#3e4989"
            ],
            [
             0.3333333333333333,
             "#31688e"
            ],
            [
             0.4444444444444444,
             "#26828e"
            ],
            [
             0.5555555555555556,
             "#1f9e89"
            ],
            [
             0.6666666666666666,
             "#35b779"
            ],
            [
             0.7777777777777778,
             "#6ece58"
            ],
            [
             0.8888888888888888,
             "#b5de2b"
            ],
            [
             1,
             "#fde725"
            ]
           ],
           "sequentialminus": [
            [
             0,
             "#440154"
            ],
            [
             0.1111111111111111,
             "#482878"
            ],
            [
             0.2222222222222222,
             "#3e4989"
            ],
            [
             0.3333333333333333,
             "#31688e"
            ],
            [
             0.4444444444444444,
             "#26828e"
            ],
            [
             0.5555555555555556,
             "#1f9e89"
            ],
            [
             0.6666666666666666,
             "#35b779"
            ],
            [
             0.7777777777777778,
             "#6ece58"
            ],
            [
             0.8888888888888888,
             "#b5de2b"
            ],
            [
             1,
             "#fde725"
            ]
           ]
          },
          "colorway": [
           "#1F77B4",
           "#FF7F0E",
           "#2CA02C",
           "#D62728",
           "#9467BD",
           "#8C564B",
           "#E377C2",
           "#7F7F7F",
           "#BCBD22",
           "#17BECF"
          ],
          "font": {
           "color": "rgb(36,36,36)"
          },
          "geo": {
           "bgcolor": "white",
           "lakecolor": "white",
           "landcolor": "white",
           "showlakes": true,
           "showland": true,
           "subunitcolor": "white"
          },
          "hoverlabel": {
           "align": "left"
          },
          "hovermode": "closest",
          "mapbox": {
           "style": "light"
          },
          "paper_bgcolor": "white",
          "plot_bgcolor": "white",
          "polar": {
           "angularaxis": {
            "gridcolor": "rgb(232,232,232)",
            "linecolor": "rgb(36,36,36)",
            "showgrid": false,
            "showline": true,
            "ticks": "outside"
           },
           "bgcolor": "white",
           "radialaxis": {
            "gridcolor": "rgb(232,232,232)",
            "linecolor": "rgb(36,36,36)",
            "showgrid": false,
            "showline": true,
            "ticks": "outside"
           }
          },
          "scene": {
           "xaxis": {
            "backgroundcolor": "white",
            "gridcolor": "rgb(232,232,232)",
            "gridwidth": 2,
            "linecolor": "rgb(36,36,36)",
            "showbackground": true,
            "showgrid": false,
            "showline": true,
            "ticks": "outside",
            "zeroline": false,
            "zerolinecolor": "rgb(36,36,36)"
           },
           "yaxis": {
            "backgroundcolor": "white",
            "gridcolor": "rgb(232,232,232)",
            "gridwidth": 2,
            "linecolor": "rgb(36,36,36)",
            "showbackground": true,
            "showgrid": false,
            "showline": true,
            "ticks": "outside",
            "zeroline": false,
            "zerolinecolor": "rgb(36,36,36)"
           },
           "zaxis": {
            "backgroundcolor": "white",
            "gridcolor": "rgb(232,232,232)",
            "gridwidth": 2,
            "linecolor": "rgb(36,36,36)",
            "showbackground": true,
            "showgrid": false,
            "showline": true,
            "ticks": "outside",
            "zeroline": false,
            "zerolinecolor": "rgb(36,36,36)"
           }
          },
          "shapedefaults": {
           "fillcolor": "black",
           "line": {
            "width": 0
           },
           "opacity": 0.3
          },
          "ternary": {
           "aaxis": {
            "gridcolor": "rgb(232,232,232)",
            "linecolor": "rgb(36,36,36)",
            "showgrid": false,
            "showline": true,
            "ticks": "outside"
           },
           "baxis": {
            "gridcolor": "rgb(232,232,232)",
            "linecolor": "rgb(36,36,36)",
            "showgrid": false,
            "showline": true,
            "ticks": "outside"
           },
           "bgcolor": "white",
           "caxis": {
            "gridcolor": "rgb(232,232,232)",
            "linecolor": "rgb(36,36,36)",
            "showgrid": false,
            "showline": true,
            "ticks": "outside"
           }
          },
          "title": {
           "x": 0.05
          },
          "xaxis": {
           "automargin": true,
           "gridcolor": "rgb(232,232,232)",
           "linecolor": "rgb(36,36,36)",
           "showgrid": false,
           "showline": true,
           "ticks": "outside",
           "title": {
            "standoff": 15
           },
           "zeroline": false,
           "zerolinecolor": "rgb(36,36,36)"
          },
          "yaxis": {
           "automargin": true,
           "gridcolor": "rgb(232,232,232)",
           "linecolor": "rgb(36,36,36)",
           "showgrid": false,
           "showline": true,
           "ticks": "outside",
           "title": {
            "standoff": 15
           },
           "zeroline": false,
           "zerolinecolor": "rgb(36,36,36)"
          }
         }
        },
        "title": {
         "font": {
          "color": "Black",
          "size": 22
         },
         "text": "<b>Topics over Time</b>",
         "x": 0.4,
         "xanchor": "center",
         "y": 0.95,
         "yanchor": "top"
        },
        "width": 1250,
        "xaxis": {
         "showgrid": true
        },
        "yaxis": {
         "showgrid": true,
         "title": {
          "text": "Frequency"
         }
        }
       }
      }
     },
     "metadata": {},
     "output_type": "display_data"
    }
   ],
   "source": [
    "#visualize topics over time\n",
    "topics_over_time_vis = topic_model.visualize_topics_over_time(topics_over_time)\n",
    "topics_over_time_vis\n"
   ]
  },
  {
   "cell_type": "code",
   "execution_count": 13,
   "id": "3fef141c",
   "metadata": {},
   "outputs": [
    {
     "ename": "KeyboardInterrupt",
     "evalue": "",
     "output_type": "error",
     "traceback": [
      "\u001b[1;31m---------------------------------------------------------------------------\u001b[0m",
      "\u001b[1;31mKeyboardInterrupt\u001b[0m                         Traceback (most recent call last)",
      "Cell \u001b[1;32mIn[13], line 3\u001b[0m\n\u001b[0;32m      1\u001b[0m \u001b[38;5;66;03m#another topic model with fixed number of topics\u001b[39;00m\n\u001b[0;32m      2\u001b[0m topic_model_2 \u001b[38;5;241m=\u001b[39m BERTopic(nr_topics\u001b[38;5;241m=\u001b[39m\u001b[38;5;241m50\u001b[39m)\n\u001b[1;32m----> 3\u001b[0m topics_2, probs_2 \u001b[38;5;241m=\u001b[39m \u001b[43mtopic_model_2\u001b[49m\u001b[38;5;241;43m.\u001b[39;49m\u001b[43mfit_transform\u001b[49m\u001b[43m(\u001b[49m\u001b[43mcleaned_texts\u001b[49m\u001b[43m)\u001b[49m\n",
      "File \u001b[1;32mc:\\Users\\ramirolobo\\AppData\\Local\\Programs\\Python\\Python312\\Lib\\site-packages\\bertopic\\_bertopic.py:454\u001b[0m, in \u001b[0;36mBERTopic.fit_transform\u001b[1;34m(self, documents, embeddings, images, y)\u001b[0m\n\u001b[0;32m    452\u001b[0m     logger\u001b[38;5;241m.\u001b[39minfo(\u001b[38;5;124m\"\u001b[39m\u001b[38;5;124mEmbedding - Transforming documents to embeddings.\u001b[39m\u001b[38;5;124m\"\u001b[39m)\n\u001b[0;32m    453\u001b[0m     \u001b[38;5;28mself\u001b[39m\u001b[38;5;241m.\u001b[39membedding_model \u001b[38;5;241m=\u001b[39m select_backend(\u001b[38;5;28mself\u001b[39m\u001b[38;5;241m.\u001b[39membedding_model, language\u001b[38;5;241m=\u001b[39m\u001b[38;5;28mself\u001b[39m\u001b[38;5;241m.\u001b[39mlanguage, verbose\u001b[38;5;241m=\u001b[39m\u001b[38;5;28mself\u001b[39m\u001b[38;5;241m.\u001b[39mverbose)\n\u001b[1;32m--> 454\u001b[0m     embeddings \u001b[38;5;241m=\u001b[39m \u001b[38;5;28;43mself\u001b[39;49m\u001b[38;5;241;43m.\u001b[39;49m\u001b[43m_extract_embeddings\u001b[49m\u001b[43m(\u001b[49m\n\u001b[0;32m    455\u001b[0m \u001b[43m        \u001b[49m\u001b[43mdocuments\u001b[49m\u001b[38;5;241;43m.\u001b[39;49m\u001b[43mDocument\u001b[49m\u001b[38;5;241;43m.\u001b[39;49m\u001b[43mvalues\u001b[49m\u001b[38;5;241;43m.\u001b[39;49m\u001b[43mtolist\u001b[49m\u001b[43m(\u001b[49m\u001b[43m)\u001b[49m\u001b[43m,\u001b[49m\n\u001b[0;32m    456\u001b[0m \u001b[43m        \u001b[49m\u001b[43mimages\u001b[49m\u001b[38;5;241;43m=\u001b[39;49m\u001b[43mimages\u001b[49m\u001b[43m,\u001b[49m\n\u001b[0;32m    457\u001b[0m \u001b[43m        \u001b[49m\u001b[43mmethod\u001b[49m\u001b[38;5;241;43m=\u001b[39;49m\u001b[38;5;124;43m\"\u001b[39;49m\u001b[38;5;124;43mdocument\u001b[39;49m\u001b[38;5;124;43m\"\u001b[39;49m\u001b[43m,\u001b[49m\n\u001b[0;32m    458\u001b[0m \u001b[43m        \u001b[49m\u001b[43mverbose\u001b[49m\u001b[38;5;241;43m=\u001b[39;49m\u001b[38;5;28;43mself\u001b[39;49m\u001b[38;5;241;43m.\u001b[39;49m\u001b[43mverbose\u001b[49m\u001b[43m,\u001b[49m\n\u001b[0;32m    459\u001b[0m \u001b[43m    \u001b[49m\u001b[43m)\u001b[49m\n\u001b[0;32m    460\u001b[0m     logger\u001b[38;5;241m.\u001b[39minfo(\u001b[38;5;124m\"\u001b[39m\u001b[38;5;124mEmbedding - Completed \u001b[39m\u001b[38;5;130;01m\\u2713\u001b[39;00m\u001b[38;5;124m\"\u001b[39m)\n\u001b[0;32m    461\u001b[0m \u001b[38;5;28;01melse\u001b[39;00m:\n",
      "File \u001b[1;32mc:\\Users\\ramirolobo\\AppData\\Local\\Programs\\Python\\Python312\\Lib\\site-packages\\bertopic\\_bertopic.py:3711\u001b[0m, in \u001b[0;36mBERTopic._extract_embeddings\u001b[1;34m(self, documents, images, method, verbose)\u001b[0m\n\u001b[0;32m   3709\u001b[0m     embeddings \u001b[38;5;241m=\u001b[39m \u001b[38;5;28mself\u001b[39m\u001b[38;5;241m.\u001b[39membedding_model\u001b[38;5;241m.\u001b[39membed_words(words\u001b[38;5;241m=\u001b[39mdocuments, verbose\u001b[38;5;241m=\u001b[39mverbose)\n\u001b[0;32m   3710\u001b[0m \u001b[38;5;28;01melif\u001b[39;00m method \u001b[38;5;241m==\u001b[39m \u001b[38;5;124m\"\u001b[39m\u001b[38;5;124mdocument\u001b[39m\u001b[38;5;124m\"\u001b[39m:\n\u001b[1;32m-> 3711\u001b[0m     embeddings \u001b[38;5;241m=\u001b[39m \u001b[38;5;28;43mself\u001b[39;49m\u001b[38;5;241;43m.\u001b[39;49m\u001b[43membedding_model\u001b[49m\u001b[38;5;241;43m.\u001b[39;49m\u001b[43membed_documents\u001b[49m\u001b[43m(\u001b[49m\u001b[43mdocuments\u001b[49m\u001b[43m,\u001b[49m\u001b[43m \u001b[49m\u001b[43mverbose\u001b[49m\u001b[38;5;241;43m=\u001b[39;49m\u001b[43mverbose\u001b[49m\u001b[43m)\u001b[49m\n\u001b[0;32m   3712\u001b[0m \u001b[38;5;28;01melif\u001b[39;00m documents[\u001b[38;5;241m0\u001b[39m] \u001b[38;5;129;01mis\u001b[39;00m \u001b[38;5;28;01mNone\u001b[39;00m \u001b[38;5;129;01mand\u001b[39;00m images \u001b[38;5;129;01mis\u001b[39;00m \u001b[38;5;28;01mNone\u001b[39;00m:\n\u001b[0;32m   3713\u001b[0m     \u001b[38;5;28;01mraise\u001b[39;00m \u001b[38;5;167;01mValueError\u001b[39;00m(\n\u001b[0;32m   3714\u001b[0m         \u001b[38;5;124m\"\u001b[39m\u001b[38;5;124mMake sure to use an embedding model that can either embed documents\u001b[39m\u001b[38;5;124m\"\u001b[39m\n\u001b[0;32m   3715\u001b[0m         \u001b[38;5;124m\"\u001b[39m\u001b[38;5;124mor images depending on which you want to embed.\u001b[39m\u001b[38;5;124m\"\u001b[39m\n\u001b[0;32m   3716\u001b[0m     )\n",
      "File \u001b[1;32mc:\\Users\\ramirolobo\\AppData\\Local\\Programs\\Python\\Python312\\Lib\\site-packages\\bertopic\\backend\\_base.py:62\u001b[0m, in \u001b[0;36mBaseEmbedder.embed_documents\u001b[1;34m(self, document, verbose)\u001b[0m\n\u001b[0;32m     50\u001b[0m \u001b[38;5;28;01mdef\u001b[39;00m \u001b[38;5;21membed_documents\u001b[39m(\u001b[38;5;28mself\u001b[39m, document: List[\u001b[38;5;28mstr\u001b[39m], verbose: \u001b[38;5;28mbool\u001b[39m \u001b[38;5;241m=\u001b[39m \u001b[38;5;28;01mFalse\u001b[39;00m) \u001b[38;5;241m-\u001b[39m\u001b[38;5;241m>\u001b[39m np\u001b[38;5;241m.\u001b[39mndarray:\n\u001b[0;32m     51\u001b[0m \u001b[38;5;250m    \u001b[39m\u001b[38;5;124;03m\"\"\"Embed a list of n words into an n-dimensional\u001b[39;00m\n\u001b[0;32m     52\u001b[0m \u001b[38;5;124;03m    matrix of embeddings.\u001b[39;00m\n\u001b[0;32m     53\u001b[0m \n\u001b[1;32m   (...)\u001b[0m\n\u001b[0;32m     60\u001b[0m \u001b[38;5;124;03m        that each have an embeddings size of `m`\u001b[39;00m\n\u001b[0;32m     61\u001b[0m \u001b[38;5;124;03m    \"\"\"\u001b[39;00m\n\u001b[1;32m---> 62\u001b[0m     \u001b[38;5;28;01mreturn\u001b[39;00m \u001b[38;5;28;43mself\u001b[39;49m\u001b[38;5;241;43m.\u001b[39;49m\u001b[43membed\u001b[49m\u001b[43m(\u001b[49m\u001b[43mdocument\u001b[49m\u001b[43m,\u001b[49m\u001b[43m \u001b[49m\u001b[43mverbose\u001b[49m\u001b[43m)\u001b[49m\n",
      "File \u001b[1;32mc:\\Users\\ramirolobo\\AppData\\Local\\Programs\\Python\\Python312\\Lib\\site-packages\\bertopic\\backend\\_sentencetransformers.py:84\u001b[0m, in \u001b[0;36mSentenceTransformerBackend.embed\u001b[1;34m(self, documents, verbose)\u001b[0m\n\u001b[0;32m     72\u001b[0m \u001b[38;5;28;01mdef\u001b[39;00m \u001b[38;5;21membed\u001b[39m(\u001b[38;5;28mself\u001b[39m, documents: List[\u001b[38;5;28mstr\u001b[39m], verbose: \u001b[38;5;28mbool\u001b[39m \u001b[38;5;241m=\u001b[39m \u001b[38;5;28;01mFalse\u001b[39;00m) \u001b[38;5;241m-\u001b[39m\u001b[38;5;241m>\u001b[39m np\u001b[38;5;241m.\u001b[39mndarray:\n\u001b[0;32m     73\u001b[0m \u001b[38;5;250m    \u001b[39m\u001b[38;5;124;03m\"\"\"Embed a list of n documents/words into an n-dimensional\u001b[39;00m\n\u001b[0;32m     74\u001b[0m \u001b[38;5;124;03m    matrix of embeddings.\u001b[39;00m\n\u001b[0;32m     75\u001b[0m \n\u001b[1;32m   (...)\u001b[0m\n\u001b[0;32m     82\u001b[0m \u001b[38;5;124;03m        that each have an embeddings size of `m`\u001b[39;00m\n\u001b[0;32m     83\u001b[0m \u001b[38;5;124;03m    \"\"\"\u001b[39;00m\n\u001b[1;32m---> 84\u001b[0m     embeddings \u001b[38;5;241m=\u001b[39m \u001b[38;5;28;43mself\u001b[39;49m\u001b[38;5;241;43m.\u001b[39;49m\u001b[43membedding_model\u001b[49m\u001b[38;5;241;43m.\u001b[39;49m\u001b[43mencode\u001b[49m\u001b[43m(\u001b[49m\u001b[43mdocuments\u001b[49m\u001b[43m,\u001b[49m\u001b[43m \u001b[49m\u001b[43mshow_progress_bar\u001b[49m\u001b[38;5;241;43m=\u001b[39;49m\u001b[43mverbose\u001b[49m\u001b[43m)\u001b[49m\n\u001b[0;32m     85\u001b[0m     \u001b[38;5;28;01mreturn\u001b[39;00m embeddings\n",
      "File \u001b[1;32mc:\\Users\\ramirolobo\\AppData\\Local\\Programs\\Python\\Python312\\Lib\\site-packages\\sentence_transformers\\SentenceTransformer.py:685\u001b[0m, in \u001b[0;36mSentenceTransformer.encode\u001b[1;34m(self, sentences, prompt_name, prompt, batch_size, show_progress_bar, output_value, precision, convert_to_numpy, convert_to_tensor, device, normalize_embeddings, **kwargs)\u001b[0m\n\u001b[0;32m    682\u001b[0m features\u001b[38;5;241m.\u001b[39mupdate(extra_features)\n\u001b[0;32m    684\u001b[0m \u001b[38;5;28;01mwith\u001b[39;00m torch\u001b[38;5;241m.\u001b[39mno_grad():\n\u001b[1;32m--> 685\u001b[0m     out_features \u001b[38;5;241m=\u001b[39m \u001b[38;5;28;43mself\u001b[39;49m\u001b[38;5;241;43m.\u001b[39;49m\u001b[43mforward\u001b[49m\u001b[43m(\u001b[49m\u001b[43mfeatures\u001b[49m\u001b[43m,\u001b[49m\u001b[43m \u001b[49m\u001b[38;5;241;43m*\u001b[39;49m\u001b[38;5;241;43m*\u001b[39;49m\u001b[43mkwargs\u001b[49m\u001b[43m)\u001b[49m\n\u001b[0;32m    686\u001b[0m     \u001b[38;5;28;01mif\u001b[39;00m \u001b[38;5;28mself\u001b[39m\u001b[38;5;241m.\u001b[39mdevice\u001b[38;5;241m.\u001b[39mtype \u001b[38;5;241m==\u001b[39m \u001b[38;5;124m\"\u001b[39m\u001b[38;5;124mhpu\u001b[39m\u001b[38;5;124m\"\u001b[39m:\n\u001b[0;32m    687\u001b[0m         out_features \u001b[38;5;241m=\u001b[39m copy\u001b[38;5;241m.\u001b[39mdeepcopy(out_features)\n",
      "File \u001b[1;32mc:\\Users\\ramirolobo\\AppData\\Local\\Programs\\Python\\Python312\\Lib\\site-packages\\sentence_transformers\\SentenceTransformer.py:758\u001b[0m, in \u001b[0;36mSentenceTransformer.forward\u001b[1;34m(self, input, **kwargs)\u001b[0m\n\u001b[0;32m    756\u001b[0m     module_kwarg_keys \u001b[38;5;241m=\u001b[39m \u001b[38;5;28mself\u001b[39m\u001b[38;5;241m.\u001b[39mmodule_kwargs\u001b[38;5;241m.\u001b[39mget(module_name, [])\n\u001b[0;32m    757\u001b[0m     module_kwargs \u001b[38;5;241m=\u001b[39m {key: value \u001b[38;5;28;01mfor\u001b[39;00m key, value \u001b[38;5;129;01min\u001b[39;00m kwargs\u001b[38;5;241m.\u001b[39mitems() \u001b[38;5;28;01mif\u001b[39;00m key \u001b[38;5;129;01min\u001b[39;00m module_kwarg_keys}\n\u001b[1;32m--> 758\u001b[0m     \u001b[38;5;28minput\u001b[39m \u001b[38;5;241m=\u001b[39m \u001b[43mmodule\u001b[49m\u001b[43m(\u001b[49m\u001b[38;5;28;43minput\u001b[39;49m\u001b[43m,\u001b[49m\u001b[43m \u001b[49m\u001b[38;5;241;43m*\u001b[39;49m\u001b[38;5;241;43m*\u001b[39;49m\u001b[43mmodule_kwargs\u001b[49m\u001b[43m)\u001b[49m\n\u001b[0;32m    759\u001b[0m \u001b[38;5;28;01mreturn\u001b[39;00m \u001b[38;5;28minput\u001b[39m\n",
      "File \u001b[1;32mc:\\Users\\ramirolobo\\AppData\\Local\\Programs\\Python\\Python312\\Lib\\site-packages\\torch\\nn\\modules\\module.py:1751\u001b[0m, in \u001b[0;36mModule._wrapped_call_impl\u001b[1;34m(self, *args, **kwargs)\u001b[0m\n\u001b[0;32m   1749\u001b[0m     \u001b[38;5;28;01mreturn\u001b[39;00m \u001b[38;5;28mself\u001b[39m\u001b[38;5;241m.\u001b[39m_compiled_call_impl(\u001b[38;5;241m*\u001b[39margs, \u001b[38;5;241m*\u001b[39m\u001b[38;5;241m*\u001b[39mkwargs)  \u001b[38;5;66;03m# type: ignore[misc]\u001b[39;00m\n\u001b[0;32m   1750\u001b[0m \u001b[38;5;28;01melse\u001b[39;00m:\n\u001b[1;32m-> 1751\u001b[0m     \u001b[38;5;28;01mreturn\u001b[39;00m \u001b[38;5;28;43mself\u001b[39;49m\u001b[38;5;241;43m.\u001b[39;49m\u001b[43m_call_impl\u001b[49m\u001b[43m(\u001b[49m\u001b[38;5;241;43m*\u001b[39;49m\u001b[43margs\u001b[49m\u001b[43m,\u001b[49m\u001b[43m \u001b[49m\u001b[38;5;241;43m*\u001b[39;49m\u001b[38;5;241;43m*\u001b[39;49m\u001b[43mkwargs\u001b[49m\u001b[43m)\u001b[49m\n",
      "File \u001b[1;32mc:\\Users\\ramirolobo\\AppData\\Local\\Programs\\Python\\Python312\\Lib\\site-packages\\torch\\nn\\modules\\module.py:1762\u001b[0m, in \u001b[0;36mModule._call_impl\u001b[1;34m(self, *args, **kwargs)\u001b[0m\n\u001b[0;32m   1757\u001b[0m \u001b[38;5;66;03m# If we don't have any hooks, we want to skip the rest of the logic in\u001b[39;00m\n\u001b[0;32m   1758\u001b[0m \u001b[38;5;66;03m# this function, and just call forward.\u001b[39;00m\n\u001b[0;32m   1759\u001b[0m \u001b[38;5;28;01mif\u001b[39;00m \u001b[38;5;129;01mnot\u001b[39;00m (\u001b[38;5;28mself\u001b[39m\u001b[38;5;241m.\u001b[39m_backward_hooks \u001b[38;5;129;01mor\u001b[39;00m \u001b[38;5;28mself\u001b[39m\u001b[38;5;241m.\u001b[39m_backward_pre_hooks \u001b[38;5;129;01mor\u001b[39;00m \u001b[38;5;28mself\u001b[39m\u001b[38;5;241m.\u001b[39m_forward_hooks \u001b[38;5;129;01mor\u001b[39;00m \u001b[38;5;28mself\u001b[39m\u001b[38;5;241m.\u001b[39m_forward_pre_hooks\n\u001b[0;32m   1760\u001b[0m         \u001b[38;5;129;01mor\u001b[39;00m _global_backward_pre_hooks \u001b[38;5;129;01mor\u001b[39;00m _global_backward_hooks\n\u001b[0;32m   1761\u001b[0m         \u001b[38;5;129;01mor\u001b[39;00m _global_forward_hooks \u001b[38;5;129;01mor\u001b[39;00m _global_forward_pre_hooks):\n\u001b[1;32m-> 1762\u001b[0m     \u001b[38;5;28;01mreturn\u001b[39;00m \u001b[43mforward_call\u001b[49m\u001b[43m(\u001b[49m\u001b[38;5;241;43m*\u001b[39;49m\u001b[43margs\u001b[49m\u001b[43m,\u001b[49m\u001b[43m \u001b[49m\u001b[38;5;241;43m*\u001b[39;49m\u001b[38;5;241;43m*\u001b[39;49m\u001b[43mkwargs\u001b[49m\u001b[43m)\u001b[49m\n\u001b[0;32m   1764\u001b[0m result \u001b[38;5;241m=\u001b[39m \u001b[38;5;28;01mNone\u001b[39;00m\n\u001b[0;32m   1765\u001b[0m called_always_called_hooks \u001b[38;5;241m=\u001b[39m \u001b[38;5;28mset\u001b[39m()\n",
      "File \u001b[1;32mc:\\Users\\ramirolobo\\AppData\\Local\\Programs\\Python\\Python312\\Lib\\site-packages\\sentence_transformers\\models\\Transformer.py:442\u001b[0m, in \u001b[0;36mTransformer.forward\u001b[1;34m(self, features, **kwargs)\u001b[0m\n\u001b[0;32m    435\u001b[0m \u001b[38;5;250m\u001b[39m\u001b[38;5;124;03m\"\"\"Returns token_embeddings, cls_token\"\"\"\u001b[39;00m\n\u001b[0;32m    436\u001b[0m trans_features \u001b[38;5;241m=\u001b[39m {\n\u001b[0;32m    437\u001b[0m     key: value\n\u001b[0;32m    438\u001b[0m     \u001b[38;5;28;01mfor\u001b[39;00m key, value \u001b[38;5;129;01min\u001b[39;00m features\u001b[38;5;241m.\u001b[39mitems()\n\u001b[0;32m    439\u001b[0m     \u001b[38;5;28;01mif\u001b[39;00m key \u001b[38;5;129;01min\u001b[39;00m [\u001b[38;5;124m\"\u001b[39m\u001b[38;5;124minput_ids\u001b[39m\u001b[38;5;124m\"\u001b[39m, \u001b[38;5;124m\"\u001b[39m\u001b[38;5;124mattention_mask\u001b[39m\u001b[38;5;124m\"\u001b[39m, \u001b[38;5;124m\"\u001b[39m\u001b[38;5;124mtoken_type_ids\u001b[39m\u001b[38;5;124m\"\u001b[39m, \u001b[38;5;124m\"\u001b[39m\u001b[38;5;124minputs_embeds\u001b[39m\u001b[38;5;124m\"\u001b[39m]\n\u001b[0;32m    440\u001b[0m }\n\u001b[1;32m--> 442\u001b[0m outputs \u001b[38;5;241m=\u001b[39m \u001b[38;5;28;43mself\u001b[39;49m\u001b[38;5;241;43m.\u001b[39;49m\u001b[43mauto_model\u001b[49m\u001b[43m(\u001b[49m\u001b[38;5;241;43m*\u001b[39;49m\u001b[38;5;241;43m*\u001b[39;49m\u001b[43mtrans_features\u001b[49m\u001b[43m,\u001b[49m\u001b[43m \u001b[49m\u001b[38;5;241;43m*\u001b[39;49m\u001b[38;5;241;43m*\u001b[39;49m\u001b[43mkwargs\u001b[49m\u001b[43m,\u001b[49m\u001b[43m \u001b[49m\u001b[43mreturn_dict\u001b[49m\u001b[38;5;241;43m=\u001b[39;49m\u001b[38;5;28;43;01mTrue\u001b[39;49;00m\u001b[43m)\u001b[49m\n\u001b[0;32m    443\u001b[0m token_embeddings \u001b[38;5;241m=\u001b[39m outputs[\u001b[38;5;241m0\u001b[39m]\n\u001b[0;32m    444\u001b[0m features[\u001b[38;5;124m\"\u001b[39m\u001b[38;5;124mtoken_embeddings\u001b[39m\u001b[38;5;124m\"\u001b[39m] \u001b[38;5;241m=\u001b[39m token_embeddings\n",
      "File \u001b[1;32mc:\\Users\\ramirolobo\\AppData\\Local\\Programs\\Python\\Python312\\Lib\\site-packages\\torch\\nn\\modules\\module.py:1751\u001b[0m, in \u001b[0;36mModule._wrapped_call_impl\u001b[1;34m(self, *args, **kwargs)\u001b[0m\n\u001b[0;32m   1749\u001b[0m     \u001b[38;5;28;01mreturn\u001b[39;00m \u001b[38;5;28mself\u001b[39m\u001b[38;5;241m.\u001b[39m_compiled_call_impl(\u001b[38;5;241m*\u001b[39margs, \u001b[38;5;241m*\u001b[39m\u001b[38;5;241m*\u001b[39mkwargs)  \u001b[38;5;66;03m# type: ignore[misc]\u001b[39;00m\n\u001b[0;32m   1750\u001b[0m \u001b[38;5;28;01melse\u001b[39;00m:\n\u001b[1;32m-> 1751\u001b[0m     \u001b[38;5;28;01mreturn\u001b[39;00m \u001b[38;5;28;43mself\u001b[39;49m\u001b[38;5;241;43m.\u001b[39;49m\u001b[43m_call_impl\u001b[49m\u001b[43m(\u001b[49m\u001b[38;5;241;43m*\u001b[39;49m\u001b[43margs\u001b[49m\u001b[43m,\u001b[49m\u001b[43m \u001b[49m\u001b[38;5;241;43m*\u001b[39;49m\u001b[38;5;241;43m*\u001b[39;49m\u001b[43mkwargs\u001b[49m\u001b[43m)\u001b[49m\n",
      "File \u001b[1;32mc:\\Users\\ramirolobo\\AppData\\Local\\Programs\\Python\\Python312\\Lib\\site-packages\\torch\\nn\\modules\\module.py:1762\u001b[0m, in \u001b[0;36mModule._call_impl\u001b[1;34m(self, *args, **kwargs)\u001b[0m\n\u001b[0;32m   1757\u001b[0m \u001b[38;5;66;03m# If we don't have any hooks, we want to skip the rest of the logic in\u001b[39;00m\n\u001b[0;32m   1758\u001b[0m \u001b[38;5;66;03m# this function, and just call forward.\u001b[39;00m\n\u001b[0;32m   1759\u001b[0m \u001b[38;5;28;01mif\u001b[39;00m \u001b[38;5;129;01mnot\u001b[39;00m (\u001b[38;5;28mself\u001b[39m\u001b[38;5;241m.\u001b[39m_backward_hooks \u001b[38;5;129;01mor\u001b[39;00m \u001b[38;5;28mself\u001b[39m\u001b[38;5;241m.\u001b[39m_backward_pre_hooks \u001b[38;5;129;01mor\u001b[39;00m \u001b[38;5;28mself\u001b[39m\u001b[38;5;241m.\u001b[39m_forward_hooks \u001b[38;5;129;01mor\u001b[39;00m \u001b[38;5;28mself\u001b[39m\u001b[38;5;241m.\u001b[39m_forward_pre_hooks\n\u001b[0;32m   1760\u001b[0m         \u001b[38;5;129;01mor\u001b[39;00m _global_backward_pre_hooks \u001b[38;5;129;01mor\u001b[39;00m _global_backward_hooks\n\u001b[0;32m   1761\u001b[0m         \u001b[38;5;129;01mor\u001b[39;00m _global_forward_hooks \u001b[38;5;129;01mor\u001b[39;00m _global_forward_pre_hooks):\n\u001b[1;32m-> 1762\u001b[0m     \u001b[38;5;28;01mreturn\u001b[39;00m \u001b[43mforward_call\u001b[49m\u001b[43m(\u001b[49m\u001b[38;5;241;43m*\u001b[39;49m\u001b[43margs\u001b[49m\u001b[43m,\u001b[49m\u001b[43m \u001b[49m\u001b[38;5;241;43m*\u001b[39;49m\u001b[38;5;241;43m*\u001b[39;49m\u001b[43mkwargs\u001b[49m\u001b[43m)\u001b[49m\n\u001b[0;32m   1764\u001b[0m result \u001b[38;5;241m=\u001b[39m \u001b[38;5;28;01mNone\u001b[39;00m\n\u001b[0;32m   1765\u001b[0m called_always_called_hooks \u001b[38;5;241m=\u001b[39m \u001b[38;5;28mset\u001b[39m()\n",
      "File \u001b[1;32mc:\\Users\\ramirolobo\\AppData\\Local\\Programs\\Python\\Python312\\Lib\\site-packages\\transformers\\models\\bert\\modeling_bert.py:1144\u001b[0m, in \u001b[0;36mBertModel.forward\u001b[1;34m(self, input_ids, attention_mask, token_type_ids, position_ids, head_mask, inputs_embeds, encoder_hidden_states, encoder_attention_mask, past_key_values, use_cache, output_attentions, output_hidden_states, return_dict)\u001b[0m\n\u001b[0;32m   1137\u001b[0m \u001b[38;5;66;03m# Prepare head mask if needed\u001b[39;00m\n\u001b[0;32m   1138\u001b[0m \u001b[38;5;66;03m# 1.0 in head_mask indicate we keep the head\u001b[39;00m\n\u001b[0;32m   1139\u001b[0m \u001b[38;5;66;03m# attention_probs has shape bsz x n_heads x N x N\u001b[39;00m\n\u001b[0;32m   1140\u001b[0m \u001b[38;5;66;03m# input head_mask has shape [num_heads] or [num_hidden_layers x num_heads]\u001b[39;00m\n\u001b[0;32m   1141\u001b[0m \u001b[38;5;66;03m# and head_mask is converted to shape [num_hidden_layers x batch x num_heads x seq_length x seq_length]\u001b[39;00m\n\u001b[0;32m   1142\u001b[0m head_mask \u001b[38;5;241m=\u001b[39m \u001b[38;5;28mself\u001b[39m\u001b[38;5;241m.\u001b[39mget_head_mask(head_mask, \u001b[38;5;28mself\u001b[39m\u001b[38;5;241m.\u001b[39mconfig\u001b[38;5;241m.\u001b[39mnum_hidden_layers)\n\u001b[1;32m-> 1144\u001b[0m encoder_outputs \u001b[38;5;241m=\u001b[39m \u001b[38;5;28;43mself\u001b[39;49m\u001b[38;5;241;43m.\u001b[39;49m\u001b[43mencoder\u001b[49m\u001b[43m(\u001b[49m\n\u001b[0;32m   1145\u001b[0m \u001b[43m    \u001b[49m\u001b[43membedding_output\u001b[49m\u001b[43m,\u001b[49m\n\u001b[0;32m   1146\u001b[0m \u001b[43m    \u001b[49m\u001b[43mattention_mask\u001b[49m\u001b[38;5;241;43m=\u001b[39;49m\u001b[43mextended_attention_mask\u001b[49m\u001b[43m,\u001b[49m\n\u001b[0;32m   1147\u001b[0m \u001b[43m    \u001b[49m\u001b[43mhead_mask\u001b[49m\u001b[38;5;241;43m=\u001b[39;49m\u001b[43mhead_mask\u001b[49m\u001b[43m,\u001b[49m\n\u001b[0;32m   1148\u001b[0m \u001b[43m    \u001b[49m\u001b[43mencoder_hidden_states\u001b[49m\u001b[38;5;241;43m=\u001b[39;49m\u001b[43mencoder_hidden_states\u001b[49m\u001b[43m,\u001b[49m\n\u001b[0;32m   1149\u001b[0m \u001b[43m    \u001b[49m\u001b[43mencoder_attention_mask\u001b[49m\u001b[38;5;241;43m=\u001b[39;49m\u001b[43mencoder_extended_attention_mask\u001b[49m\u001b[43m,\u001b[49m\n\u001b[0;32m   1150\u001b[0m \u001b[43m    \u001b[49m\u001b[43mpast_key_values\u001b[49m\u001b[38;5;241;43m=\u001b[39;49m\u001b[43mpast_key_values\u001b[49m\u001b[43m,\u001b[49m\n\u001b[0;32m   1151\u001b[0m \u001b[43m    \u001b[49m\u001b[43muse_cache\u001b[49m\u001b[38;5;241;43m=\u001b[39;49m\u001b[43muse_cache\u001b[49m\u001b[43m,\u001b[49m\n\u001b[0;32m   1152\u001b[0m \u001b[43m    \u001b[49m\u001b[43moutput_attentions\u001b[49m\u001b[38;5;241;43m=\u001b[39;49m\u001b[43moutput_attentions\u001b[49m\u001b[43m,\u001b[49m\n\u001b[0;32m   1153\u001b[0m \u001b[43m    \u001b[49m\u001b[43moutput_hidden_states\u001b[49m\u001b[38;5;241;43m=\u001b[39;49m\u001b[43moutput_hidden_states\u001b[49m\u001b[43m,\u001b[49m\n\u001b[0;32m   1154\u001b[0m \u001b[43m    \u001b[49m\u001b[43mreturn_dict\u001b[49m\u001b[38;5;241;43m=\u001b[39;49m\u001b[43mreturn_dict\u001b[49m\u001b[43m,\u001b[49m\n\u001b[0;32m   1155\u001b[0m \u001b[43m\u001b[49m\u001b[43m)\u001b[49m\n\u001b[0;32m   1156\u001b[0m sequence_output \u001b[38;5;241m=\u001b[39m encoder_outputs[\u001b[38;5;241m0\u001b[39m]\n\u001b[0;32m   1157\u001b[0m pooled_output \u001b[38;5;241m=\u001b[39m \u001b[38;5;28mself\u001b[39m\u001b[38;5;241m.\u001b[39mpooler(sequence_output) \u001b[38;5;28;01mif\u001b[39;00m \u001b[38;5;28mself\u001b[39m\u001b[38;5;241m.\u001b[39mpooler \u001b[38;5;129;01mis\u001b[39;00m \u001b[38;5;129;01mnot\u001b[39;00m \u001b[38;5;28;01mNone\u001b[39;00m \u001b[38;5;28;01melse\u001b[39;00m \u001b[38;5;28;01mNone\u001b[39;00m\n",
      "File \u001b[1;32mc:\\Users\\ramirolobo\\AppData\\Local\\Programs\\Python\\Python312\\Lib\\site-packages\\torch\\nn\\modules\\module.py:1751\u001b[0m, in \u001b[0;36mModule._wrapped_call_impl\u001b[1;34m(self, *args, **kwargs)\u001b[0m\n\u001b[0;32m   1749\u001b[0m     \u001b[38;5;28;01mreturn\u001b[39;00m \u001b[38;5;28mself\u001b[39m\u001b[38;5;241m.\u001b[39m_compiled_call_impl(\u001b[38;5;241m*\u001b[39margs, \u001b[38;5;241m*\u001b[39m\u001b[38;5;241m*\u001b[39mkwargs)  \u001b[38;5;66;03m# type: ignore[misc]\u001b[39;00m\n\u001b[0;32m   1750\u001b[0m \u001b[38;5;28;01melse\u001b[39;00m:\n\u001b[1;32m-> 1751\u001b[0m     \u001b[38;5;28;01mreturn\u001b[39;00m \u001b[38;5;28;43mself\u001b[39;49m\u001b[38;5;241;43m.\u001b[39;49m\u001b[43m_call_impl\u001b[49m\u001b[43m(\u001b[49m\u001b[38;5;241;43m*\u001b[39;49m\u001b[43margs\u001b[49m\u001b[43m,\u001b[49m\u001b[43m \u001b[49m\u001b[38;5;241;43m*\u001b[39;49m\u001b[38;5;241;43m*\u001b[39;49m\u001b[43mkwargs\u001b[49m\u001b[43m)\u001b[49m\n",
      "File \u001b[1;32mc:\\Users\\ramirolobo\\AppData\\Local\\Programs\\Python\\Python312\\Lib\\site-packages\\torch\\nn\\modules\\module.py:1762\u001b[0m, in \u001b[0;36mModule._call_impl\u001b[1;34m(self, *args, **kwargs)\u001b[0m\n\u001b[0;32m   1757\u001b[0m \u001b[38;5;66;03m# If we don't have any hooks, we want to skip the rest of the logic in\u001b[39;00m\n\u001b[0;32m   1758\u001b[0m \u001b[38;5;66;03m# this function, and just call forward.\u001b[39;00m\n\u001b[0;32m   1759\u001b[0m \u001b[38;5;28;01mif\u001b[39;00m \u001b[38;5;129;01mnot\u001b[39;00m (\u001b[38;5;28mself\u001b[39m\u001b[38;5;241m.\u001b[39m_backward_hooks \u001b[38;5;129;01mor\u001b[39;00m \u001b[38;5;28mself\u001b[39m\u001b[38;5;241m.\u001b[39m_backward_pre_hooks \u001b[38;5;129;01mor\u001b[39;00m \u001b[38;5;28mself\u001b[39m\u001b[38;5;241m.\u001b[39m_forward_hooks \u001b[38;5;129;01mor\u001b[39;00m \u001b[38;5;28mself\u001b[39m\u001b[38;5;241m.\u001b[39m_forward_pre_hooks\n\u001b[0;32m   1760\u001b[0m         \u001b[38;5;129;01mor\u001b[39;00m _global_backward_pre_hooks \u001b[38;5;129;01mor\u001b[39;00m _global_backward_hooks\n\u001b[0;32m   1761\u001b[0m         \u001b[38;5;129;01mor\u001b[39;00m _global_forward_hooks \u001b[38;5;129;01mor\u001b[39;00m _global_forward_pre_hooks):\n\u001b[1;32m-> 1762\u001b[0m     \u001b[38;5;28;01mreturn\u001b[39;00m \u001b[43mforward_call\u001b[49m\u001b[43m(\u001b[49m\u001b[38;5;241;43m*\u001b[39;49m\u001b[43margs\u001b[49m\u001b[43m,\u001b[49m\u001b[43m \u001b[49m\u001b[38;5;241;43m*\u001b[39;49m\u001b[38;5;241;43m*\u001b[39;49m\u001b[43mkwargs\u001b[49m\u001b[43m)\u001b[49m\n\u001b[0;32m   1764\u001b[0m result \u001b[38;5;241m=\u001b[39m \u001b[38;5;28;01mNone\u001b[39;00m\n\u001b[0;32m   1765\u001b[0m called_always_called_hooks \u001b[38;5;241m=\u001b[39m \u001b[38;5;28mset\u001b[39m()\n",
      "File \u001b[1;32mc:\\Users\\ramirolobo\\AppData\\Local\\Programs\\Python\\Python312\\Lib\\site-packages\\transformers\\models\\bert\\modeling_bert.py:695\u001b[0m, in \u001b[0;36mBertEncoder.forward\u001b[1;34m(self, hidden_states, attention_mask, head_mask, encoder_hidden_states, encoder_attention_mask, past_key_values, use_cache, output_attentions, output_hidden_states, return_dict)\u001b[0m\n\u001b[0;32m    684\u001b[0m     layer_outputs \u001b[38;5;241m=\u001b[39m \u001b[38;5;28mself\u001b[39m\u001b[38;5;241m.\u001b[39m_gradient_checkpointing_func(\n\u001b[0;32m    685\u001b[0m         layer_module\u001b[38;5;241m.\u001b[39m\u001b[38;5;21m__call__\u001b[39m,\n\u001b[0;32m    686\u001b[0m         hidden_states,\n\u001b[1;32m   (...)\u001b[0m\n\u001b[0;32m    692\u001b[0m         output_attentions,\n\u001b[0;32m    693\u001b[0m     )\n\u001b[0;32m    694\u001b[0m \u001b[38;5;28;01melse\u001b[39;00m:\n\u001b[1;32m--> 695\u001b[0m     layer_outputs \u001b[38;5;241m=\u001b[39m \u001b[43mlayer_module\u001b[49m\u001b[43m(\u001b[49m\n\u001b[0;32m    696\u001b[0m \u001b[43m        \u001b[49m\u001b[43mhidden_states\u001b[49m\u001b[43m,\u001b[49m\n\u001b[0;32m    697\u001b[0m \u001b[43m        \u001b[49m\u001b[43mattention_mask\u001b[49m\u001b[43m,\u001b[49m\n\u001b[0;32m    698\u001b[0m \u001b[43m        \u001b[49m\u001b[43mlayer_head_mask\u001b[49m\u001b[43m,\u001b[49m\n\u001b[0;32m    699\u001b[0m \u001b[43m        \u001b[49m\u001b[43mencoder_hidden_states\u001b[49m\u001b[43m,\u001b[49m\n\u001b[0;32m    700\u001b[0m \u001b[43m        \u001b[49m\u001b[43mencoder_attention_mask\u001b[49m\u001b[43m,\u001b[49m\n\u001b[0;32m    701\u001b[0m \u001b[43m        \u001b[49m\u001b[43mpast_key_value\u001b[49m\u001b[43m,\u001b[49m\n\u001b[0;32m    702\u001b[0m \u001b[43m        \u001b[49m\u001b[43moutput_attentions\u001b[49m\u001b[43m,\u001b[49m\n\u001b[0;32m    703\u001b[0m \u001b[43m    \u001b[49m\u001b[43m)\u001b[49m\n\u001b[0;32m    705\u001b[0m hidden_states \u001b[38;5;241m=\u001b[39m layer_outputs[\u001b[38;5;241m0\u001b[39m]\n\u001b[0;32m    706\u001b[0m \u001b[38;5;28;01mif\u001b[39;00m use_cache:\n",
      "File \u001b[1;32mc:\\Users\\ramirolobo\\AppData\\Local\\Programs\\Python\\Python312\\Lib\\site-packages\\torch\\nn\\modules\\module.py:1751\u001b[0m, in \u001b[0;36mModule._wrapped_call_impl\u001b[1;34m(self, *args, **kwargs)\u001b[0m\n\u001b[0;32m   1749\u001b[0m     \u001b[38;5;28;01mreturn\u001b[39;00m \u001b[38;5;28mself\u001b[39m\u001b[38;5;241m.\u001b[39m_compiled_call_impl(\u001b[38;5;241m*\u001b[39margs, \u001b[38;5;241m*\u001b[39m\u001b[38;5;241m*\u001b[39mkwargs)  \u001b[38;5;66;03m# type: ignore[misc]\u001b[39;00m\n\u001b[0;32m   1750\u001b[0m \u001b[38;5;28;01melse\u001b[39;00m:\n\u001b[1;32m-> 1751\u001b[0m     \u001b[38;5;28;01mreturn\u001b[39;00m \u001b[38;5;28;43mself\u001b[39;49m\u001b[38;5;241;43m.\u001b[39;49m\u001b[43m_call_impl\u001b[49m\u001b[43m(\u001b[49m\u001b[38;5;241;43m*\u001b[39;49m\u001b[43margs\u001b[49m\u001b[43m,\u001b[49m\u001b[43m \u001b[49m\u001b[38;5;241;43m*\u001b[39;49m\u001b[38;5;241;43m*\u001b[39;49m\u001b[43mkwargs\u001b[49m\u001b[43m)\u001b[49m\n",
      "File \u001b[1;32mc:\\Users\\ramirolobo\\AppData\\Local\\Programs\\Python\\Python312\\Lib\\site-packages\\torch\\nn\\modules\\module.py:1762\u001b[0m, in \u001b[0;36mModule._call_impl\u001b[1;34m(self, *args, **kwargs)\u001b[0m\n\u001b[0;32m   1757\u001b[0m \u001b[38;5;66;03m# If we don't have any hooks, we want to skip the rest of the logic in\u001b[39;00m\n\u001b[0;32m   1758\u001b[0m \u001b[38;5;66;03m# this function, and just call forward.\u001b[39;00m\n\u001b[0;32m   1759\u001b[0m \u001b[38;5;28;01mif\u001b[39;00m \u001b[38;5;129;01mnot\u001b[39;00m (\u001b[38;5;28mself\u001b[39m\u001b[38;5;241m.\u001b[39m_backward_hooks \u001b[38;5;129;01mor\u001b[39;00m \u001b[38;5;28mself\u001b[39m\u001b[38;5;241m.\u001b[39m_backward_pre_hooks \u001b[38;5;129;01mor\u001b[39;00m \u001b[38;5;28mself\u001b[39m\u001b[38;5;241m.\u001b[39m_forward_hooks \u001b[38;5;129;01mor\u001b[39;00m \u001b[38;5;28mself\u001b[39m\u001b[38;5;241m.\u001b[39m_forward_pre_hooks\n\u001b[0;32m   1760\u001b[0m         \u001b[38;5;129;01mor\u001b[39;00m _global_backward_pre_hooks \u001b[38;5;129;01mor\u001b[39;00m _global_backward_hooks\n\u001b[0;32m   1761\u001b[0m         \u001b[38;5;129;01mor\u001b[39;00m _global_forward_hooks \u001b[38;5;129;01mor\u001b[39;00m _global_forward_pre_hooks):\n\u001b[1;32m-> 1762\u001b[0m     \u001b[38;5;28;01mreturn\u001b[39;00m \u001b[43mforward_call\u001b[49m\u001b[43m(\u001b[49m\u001b[38;5;241;43m*\u001b[39;49m\u001b[43margs\u001b[49m\u001b[43m,\u001b[49m\u001b[43m \u001b[49m\u001b[38;5;241;43m*\u001b[39;49m\u001b[38;5;241;43m*\u001b[39;49m\u001b[43mkwargs\u001b[49m\u001b[43m)\u001b[49m\n\u001b[0;32m   1764\u001b[0m result \u001b[38;5;241m=\u001b[39m \u001b[38;5;28;01mNone\u001b[39;00m\n\u001b[0;32m   1765\u001b[0m called_always_called_hooks \u001b[38;5;241m=\u001b[39m \u001b[38;5;28mset\u001b[39m()\n",
      "File \u001b[1;32mc:\\Users\\ramirolobo\\AppData\\Local\\Programs\\Python\\Python312\\Lib\\site-packages\\transformers\\models\\bert\\modeling_bert.py:627\u001b[0m, in \u001b[0;36mBertLayer.forward\u001b[1;34m(self, hidden_states, attention_mask, head_mask, encoder_hidden_states, encoder_attention_mask, past_key_value, output_attentions)\u001b[0m\n\u001b[0;32m    624\u001b[0m     cross_attn_present_key_value \u001b[38;5;241m=\u001b[39m cross_attention_outputs[\u001b[38;5;241m-\u001b[39m\u001b[38;5;241m1\u001b[39m]\n\u001b[0;32m    625\u001b[0m     present_key_value \u001b[38;5;241m=\u001b[39m present_key_value \u001b[38;5;241m+\u001b[39m cross_attn_present_key_value\n\u001b[1;32m--> 627\u001b[0m layer_output \u001b[38;5;241m=\u001b[39m \u001b[43mapply_chunking_to_forward\u001b[49m\u001b[43m(\u001b[49m\n\u001b[0;32m    628\u001b[0m \u001b[43m    \u001b[49m\u001b[38;5;28;43mself\u001b[39;49m\u001b[38;5;241;43m.\u001b[39;49m\u001b[43mfeed_forward_chunk\u001b[49m\u001b[43m,\u001b[49m\u001b[43m \u001b[49m\u001b[38;5;28;43mself\u001b[39;49m\u001b[38;5;241;43m.\u001b[39;49m\u001b[43mchunk_size_feed_forward\u001b[49m\u001b[43m,\u001b[49m\u001b[43m \u001b[49m\u001b[38;5;28;43mself\u001b[39;49m\u001b[38;5;241;43m.\u001b[39;49m\u001b[43mseq_len_dim\u001b[49m\u001b[43m,\u001b[49m\u001b[43m \u001b[49m\u001b[43mattention_output\u001b[49m\n\u001b[0;32m    629\u001b[0m \u001b[43m\u001b[49m\u001b[43m)\u001b[49m\n\u001b[0;32m    630\u001b[0m outputs \u001b[38;5;241m=\u001b[39m (layer_output,) \u001b[38;5;241m+\u001b[39m outputs\n\u001b[0;32m    632\u001b[0m \u001b[38;5;66;03m# if decoder, return the attn key/values as the last output\u001b[39;00m\n",
      "File \u001b[1;32mc:\\Users\\ramirolobo\\AppData\\Local\\Programs\\Python\\Python312\\Lib\\site-packages\\transformers\\pytorch_utils.py:253\u001b[0m, in \u001b[0;36mapply_chunking_to_forward\u001b[1;34m(forward_fn, chunk_size, chunk_dim, *input_tensors)\u001b[0m\n\u001b[0;32m    250\u001b[0m     \u001b[38;5;66;03m# concatenate output at same dimension\u001b[39;00m\n\u001b[0;32m    251\u001b[0m     \u001b[38;5;28;01mreturn\u001b[39;00m torch\u001b[38;5;241m.\u001b[39mcat(output_chunks, dim\u001b[38;5;241m=\u001b[39mchunk_dim)\n\u001b[1;32m--> 253\u001b[0m \u001b[38;5;28;01mreturn\u001b[39;00m \u001b[43mforward_fn\u001b[49m\u001b[43m(\u001b[49m\u001b[38;5;241;43m*\u001b[39;49m\u001b[43minput_tensors\u001b[49m\u001b[43m)\u001b[49m\n",
      "File \u001b[1;32mc:\\Users\\ramirolobo\\AppData\\Local\\Programs\\Python\\Python312\\Lib\\site-packages\\transformers\\models\\bert\\modeling_bert.py:640\u001b[0m, in \u001b[0;36mBertLayer.feed_forward_chunk\u001b[1;34m(self, attention_output)\u001b[0m\n\u001b[0;32m    638\u001b[0m \u001b[38;5;28;01mdef\u001b[39;00m \u001b[38;5;21mfeed_forward_chunk\u001b[39m(\u001b[38;5;28mself\u001b[39m, attention_output):\n\u001b[0;32m    639\u001b[0m     intermediate_output \u001b[38;5;241m=\u001b[39m \u001b[38;5;28mself\u001b[39m\u001b[38;5;241m.\u001b[39mintermediate(attention_output)\n\u001b[1;32m--> 640\u001b[0m     layer_output \u001b[38;5;241m=\u001b[39m \u001b[38;5;28;43mself\u001b[39;49m\u001b[38;5;241;43m.\u001b[39;49m\u001b[43moutput\u001b[49m\u001b[43m(\u001b[49m\u001b[43mintermediate_output\u001b[49m\u001b[43m,\u001b[49m\u001b[43m \u001b[49m\u001b[43mattention_output\u001b[49m\u001b[43m)\u001b[49m\n\u001b[0;32m    641\u001b[0m     \u001b[38;5;28;01mreturn\u001b[39;00m layer_output\n",
      "File \u001b[1;32mc:\\Users\\ramirolobo\\AppData\\Local\\Programs\\Python\\Python312\\Lib\\site-packages\\torch\\nn\\modules\\module.py:1751\u001b[0m, in \u001b[0;36mModule._wrapped_call_impl\u001b[1;34m(self, *args, **kwargs)\u001b[0m\n\u001b[0;32m   1749\u001b[0m     \u001b[38;5;28;01mreturn\u001b[39;00m \u001b[38;5;28mself\u001b[39m\u001b[38;5;241m.\u001b[39m_compiled_call_impl(\u001b[38;5;241m*\u001b[39margs, \u001b[38;5;241m*\u001b[39m\u001b[38;5;241m*\u001b[39mkwargs)  \u001b[38;5;66;03m# type: ignore[misc]\u001b[39;00m\n\u001b[0;32m   1750\u001b[0m \u001b[38;5;28;01melse\u001b[39;00m:\n\u001b[1;32m-> 1751\u001b[0m     \u001b[38;5;28;01mreturn\u001b[39;00m \u001b[38;5;28;43mself\u001b[39;49m\u001b[38;5;241;43m.\u001b[39;49m\u001b[43m_call_impl\u001b[49m\u001b[43m(\u001b[49m\u001b[38;5;241;43m*\u001b[39;49m\u001b[43margs\u001b[49m\u001b[43m,\u001b[49m\u001b[43m \u001b[49m\u001b[38;5;241;43m*\u001b[39;49m\u001b[38;5;241;43m*\u001b[39;49m\u001b[43mkwargs\u001b[49m\u001b[43m)\u001b[49m\n",
      "File \u001b[1;32mc:\\Users\\ramirolobo\\AppData\\Local\\Programs\\Python\\Python312\\Lib\\site-packages\\torch\\nn\\modules\\module.py:1762\u001b[0m, in \u001b[0;36mModule._call_impl\u001b[1;34m(self, *args, **kwargs)\u001b[0m\n\u001b[0;32m   1757\u001b[0m \u001b[38;5;66;03m# If we don't have any hooks, we want to skip the rest of the logic in\u001b[39;00m\n\u001b[0;32m   1758\u001b[0m \u001b[38;5;66;03m# this function, and just call forward.\u001b[39;00m\n\u001b[0;32m   1759\u001b[0m \u001b[38;5;28;01mif\u001b[39;00m \u001b[38;5;129;01mnot\u001b[39;00m (\u001b[38;5;28mself\u001b[39m\u001b[38;5;241m.\u001b[39m_backward_hooks \u001b[38;5;129;01mor\u001b[39;00m \u001b[38;5;28mself\u001b[39m\u001b[38;5;241m.\u001b[39m_backward_pre_hooks \u001b[38;5;129;01mor\u001b[39;00m \u001b[38;5;28mself\u001b[39m\u001b[38;5;241m.\u001b[39m_forward_hooks \u001b[38;5;129;01mor\u001b[39;00m \u001b[38;5;28mself\u001b[39m\u001b[38;5;241m.\u001b[39m_forward_pre_hooks\n\u001b[0;32m   1760\u001b[0m         \u001b[38;5;129;01mor\u001b[39;00m _global_backward_pre_hooks \u001b[38;5;129;01mor\u001b[39;00m _global_backward_hooks\n\u001b[0;32m   1761\u001b[0m         \u001b[38;5;129;01mor\u001b[39;00m _global_forward_hooks \u001b[38;5;129;01mor\u001b[39;00m _global_forward_pre_hooks):\n\u001b[1;32m-> 1762\u001b[0m     \u001b[38;5;28;01mreturn\u001b[39;00m \u001b[43mforward_call\u001b[49m\u001b[43m(\u001b[49m\u001b[38;5;241;43m*\u001b[39;49m\u001b[43margs\u001b[49m\u001b[43m,\u001b[49m\u001b[43m \u001b[49m\u001b[38;5;241;43m*\u001b[39;49m\u001b[38;5;241;43m*\u001b[39;49m\u001b[43mkwargs\u001b[49m\u001b[43m)\u001b[49m\n\u001b[0;32m   1764\u001b[0m result \u001b[38;5;241m=\u001b[39m \u001b[38;5;28;01mNone\u001b[39;00m\n\u001b[0;32m   1765\u001b[0m called_always_called_hooks \u001b[38;5;241m=\u001b[39m \u001b[38;5;28mset\u001b[39m()\n",
      "File \u001b[1;32mc:\\Users\\ramirolobo\\AppData\\Local\\Programs\\Python\\Python312\\Lib\\site-packages\\transformers\\models\\bert\\modeling_bert.py:552\u001b[0m, in \u001b[0;36mBertOutput.forward\u001b[1;34m(self, hidden_states, input_tensor)\u001b[0m\n\u001b[0;32m    551\u001b[0m \u001b[38;5;28;01mdef\u001b[39;00m \u001b[38;5;21mforward\u001b[39m(\u001b[38;5;28mself\u001b[39m, hidden_states: torch\u001b[38;5;241m.\u001b[39mTensor, input_tensor: torch\u001b[38;5;241m.\u001b[39mTensor) \u001b[38;5;241m-\u001b[39m\u001b[38;5;241m>\u001b[39m torch\u001b[38;5;241m.\u001b[39mTensor:\n\u001b[1;32m--> 552\u001b[0m     hidden_states \u001b[38;5;241m=\u001b[39m \u001b[38;5;28;43mself\u001b[39;49m\u001b[38;5;241;43m.\u001b[39;49m\u001b[43mdense\u001b[49m\u001b[43m(\u001b[49m\u001b[43mhidden_states\u001b[49m\u001b[43m)\u001b[49m\n\u001b[0;32m    553\u001b[0m     hidden_states \u001b[38;5;241m=\u001b[39m \u001b[38;5;28mself\u001b[39m\u001b[38;5;241m.\u001b[39mdropout(hidden_states)\n\u001b[0;32m    554\u001b[0m     hidden_states \u001b[38;5;241m=\u001b[39m \u001b[38;5;28mself\u001b[39m\u001b[38;5;241m.\u001b[39mLayerNorm(hidden_states \u001b[38;5;241m+\u001b[39m input_tensor)\n",
      "File \u001b[1;32mc:\\Users\\ramirolobo\\AppData\\Local\\Programs\\Python\\Python312\\Lib\\site-packages\\torch\\nn\\modules\\module.py:1751\u001b[0m, in \u001b[0;36mModule._wrapped_call_impl\u001b[1;34m(self, *args, **kwargs)\u001b[0m\n\u001b[0;32m   1749\u001b[0m     \u001b[38;5;28;01mreturn\u001b[39;00m \u001b[38;5;28mself\u001b[39m\u001b[38;5;241m.\u001b[39m_compiled_call_impl(\u001b[38;5;241m*\u001b[39margs, \u001b[38;5;241m*\u001b[39m\u001b[38;5;241m*\u001b[39mkwargs)  \u001b[38;5;66;03m# type: ignore[misc]\u001b[39;00m\n\u001b[0;32m   1750\u001b[0m \u001b[38;5;28;01melse\u001b[39;00m:\n\u001b[1;32m-> 1751\u001b[0m     \u001b[38;5;28;01mreturn\u001b[39;00m \u001b[38;5;28;43mself\u001b[39;49m\u001b[38;5;241;43m.\u001b[39;49m\u001b[43m_call_impl\u001b[49m\u001b[43m(\u001b[49m\u001b[38;5;241;43m*\u001b[39;49m\u001b[43margs\u001b[49m\u001b[43m,\u001b[49m\u001b[43m \u001b[49m\u001b[38;5;241;43m*\u001b[39;49m\u001b[38;5;241;43m*\u001b[39;49m\u001b[43mkwargs\u001b[49m\u001b[43m)\u001b[49m\n",
      "File \u001b[1;32mc:\\Users\\ramirolobo\\AppData\\Local\\Programs\\Python\\Python312\\Lib\\site-packages\\torch\\nn\\modules\\module.py:1762\u001b[0m, in \u001b[0;36mModule._call_impl\u001b[1;34m(self, *args, **kwargs)\u001b[0m\n\u001b[0;32m   1757\u001b[0m \u001b[38;5;66;03m# If we don't have any hooks, we want to skip the rest of the logic in\u001b[39;00m\n\u001b[0;32m   1758\u001b[0m \u001b[38;5;66;03m# this function, and just call forward.\u001b[39;00m\n\u001b[0;32m   1759\u001b[0m \u001b[38;5;28;01mif\u001b[39;00m \u001b[38;5;129;01mnot\u001b[39;00m (\u001b[38;5;28mself\u001b[39m\u001b[38;5;241m.\u001b[39m_backward_hooks \u001b[38;5;129;01mor\u001b[39;00m \u001b[38;5;28mself\u001b[39m\u001b[38;5;241m.\u001b[39m_backward_pre_hooks \u001b[38;5;129;01mor\u001b[39;00m \u001b[38;5;28mself\u001b[39m\u001b[38;5;241m.\u001b[39m_forward_hooks \u001b[38;5;129;01mor\u001b[39;00m \u001b[38;5;28mself\u001b[39m\u001b[38;5;241m.\u001b[39m_forward_pre_hooks\n\u001b[0;32m   1760\u001b[0m         \u001b[38;5;129;01mor\u001b[39;00m _global_backward_pre_hooks \u001b[38;5;129;01mor\u001b[39;00m _global_backward_hooks\n\u001b[0;32m   1761\u001b[0m         \u001b[38;5;129;01mor\u001b[39;00m _global_forward_hooks \u001b[38;5;129;01mor\u001b[39;00m _global_forward_pre_hooks):\n\u001b[1;32m-> 1762\u001b[0m     \u001b[38;5;28;01mreturn\u001b[39;00m \u001b[43mforward_call\u001b[49m\u001b[43m(\u001b[49m\u001b[38;5;241;43m*\u001b[39;49m\u001b[43margs\u001b[49m\u001b[43m,\u001b[49m\u001b[43m \u001b[49m\u001b[38;5;241;43m*\u001b[39;49m\u001b[38;5;241;43m*\u001b[39;49m\u001b[43mkwargs\u001b[49m\u001b[43m)\u001b[49m\n\u001b[0;32m   1764\u001b[0m result \u001b[38;5;241m=\u001b[39m \u001b[38;5;28;01mNone\u001b[39;00m\n\u001b[0;32m   1765\u001b[0m called_always_called_hooks \u001b[38;5;241m=\u001b[39m \u001b[38;5;28mset\u001b[39m()\n",
      "File \u001b[1;32mc:\\Users\\ramirolobo\\AppData\\Local\\Programs\\Python\\Python312\\Lib\\site-packages\\torch\\nn\\modules\\linear.py:125\u001b[0m, in \u001b[0;36mLinear.forward\u001b[1;34m(self, input)\u001b[0m\n\u001b[0;32m    124\u001b[0m \u001b[38;5;28;01mdef\u001b[39;00m \u001b[38;5;21mforward\u001b[39m(\u001b[38;5;28mself\u001b[39m, \u001b[38;5;28minput\u001b[39m: Tensor) \u001b[38;5;241m-\u001b[39m\u001b[38;5;241m>\u001b[39m Tensor:\n\u001b[1;32m--> 125\u001b[0m     \u001b[38;5;28;01mreturn\u001b[39;00m \u001b[43mF\u001b[49m\u001b[38;5;241;43m.\u001b[39;49m\u001b[43mlinear\u001b[49m\u001b[43m(\u001b[49m\u001b[38;5;28;43minput\u001b[39;49m\u001b[43m,\u001b[49m\u001b[43m \u001b[49m\u001b[38;5;28;43mself\u001b[39;49m\u001b[38;5;241;43m.\u001b[39;49m\u001b[43mweight\u001b[49m\u001b[43m,\u001b[49m\u001b[43m \u001b[49m\u001b[38;5;28;43mself\u001b[39;49m\u001b[38;5;241;43m.\u001b[39;49m\u001b[43mbias\u001b[49m\u001b[43m)\u001b[49m\n",
      "\u001b[1;31mKeyboardInterrupt\u001b[0m: "
     ]
    }
   ],
   "source": [
    "#another topic model with fixed number of topics\n",
    "topic_model_2 = BERTopic(nr_topics=50)\n",
    "topics_2, probs_2 = topic_model_2.fit_transform(cleaned_texts)"
   ]
  },
  {
   "cell_type": "code",
   "execution_count": null,
   "id": "347eedc4",
   "metadata": {},
   "outputs": [
    {
     "data": {
      "text/html": [
       "<div>\n",
       "<style scoped>\n",
       "    .dataframe tbody tr th:only-of-type {\n",
       "        vertical-align: middle;\n",
       "    }\n",
       "\n",
       "    .dataframe tbody tr th {\n",
       "        vertical-align: top;\n",
       "    }\n",
       "\n",
       "    .dataframe thead th {\n",
       "        text-align: right;\n",
       "    }\n",
       "</style>\n",
       "<table border=\"1\" class=\"dataframe\">\n",
       "  <thead>\n",
       "    <tr style=\"text-align: right;\">\n",
       "      <th></th>\n",
       "      <th>Topic</th>\n",
       "      <th>Count</th>\n",
       "      <th>Name</th>\n",
       "      <th>Representation</th>\n",
       "      <th>Representative_Docs</th>\n",
       "    </tr>\n",
       "  </thead>\n",
       "  <tbody>\n",
       "    <tr>\n",
       "      <th>0</th>\n",
       "      <td>-1</td>\n",
       "      <td>10</td>\n",
       "      <td>-1_tttttttttttttttttttttttttttttttttttttttt_co...</td>\n",
       "      <td>[tttttttttttttttttttttttttttttttttttttttt, con...</td>\n",
       "      <td>[conquest difficulties national wars wars inst...</td>\n",
       "    </tr>\n",
       "    <tr>\n",
       "      <th>1</th>\n",
       "      <td>0</td>\n",
       "      <td>155</td>\n",
       "      <td>0_disastrous_notice__</td>\n",
       "      <td>[disastrous, notice, , , , , , , , ]</td>\n",
       "      <td>[, notice, disastrous]</td>\n",
       "    </tr>\n",
       "    <tr>\n",
       "      <th>2</th>\n",
       "      <td>1</td>\n",
       "      <td>4448</td>\n",
       "      <td>1_french_english_ships_sea</td>\n",
       "      <td>[french, english, ships, sea, england, france,...</td>\n",
       "      <td>[ship first last might brought action beginnin...</td>\n",
       "    </tr>\n",
       "    <tr>\n",
       "      <th>3</th>\n",
       "      <td>2</td>\n",
       "      <td>17122</td>\n",
       "      <td>2_army_one_upon_would</td>\n",
       "      <td>[army, one, upon, would, war, men, enemy, may,...</td>\n",
       "      <td>[danger could save baggage whole army cohorts ...</td>\n",
       "    </tr>\n",
       "  </tbody>\n",
       "</table>\n",
       "</div>"
      ],
      "text/plain": [
       "   Topic  Count                                               Name  \\\n",
       "0     -1     10  -1_tttttttttttttttttttttttttttttttttttttttt_co...   \n",
       "1      0    155                              0_disastrous_notice__   \n",
       "2      1   4448                         1_french_english_ships_sea   \n",
       "3      2  17122                              2_army_one_upon_would   \n",
       "\n",
       "                                      Representation  \\\n",
       "0  [tttttttttttttttttttttttttttttttttttttttt, con...   \n",
       "1               [disastrous, notice, , , , , , , , ]   \n",
       "2  [french, english, ships, sea, england, france,...   \n",
       "3  [army, one, upon, would, war, men, enemy, may,...   \n",
       "\n",
       "                                 Representative_Docs  \n",
       "0  [conquest difficulties national wars wars inst...  \n",
       "1                             [, notice, disastrous]  \n",
       "2  [ship first last might brought action beginnin...  \n",
       "3  [danger could save baggage whole army cohorts ...  "
      ]
     },
     "execution_count": 153,
     "metadata": {},
     "output_type": "execute_result"
    }
   ],
   "source": [
    "#not meaningful topics\n",
    "topics_2 = topic_model_2.get_topic_info()\n",
    "topics_2.head(15)"
   ]
  },
  {
   "cell_type": "code",
   "execution_count": 16,
   "id": "0bc5bcdb",
   "metadata": {},
   "outputs": [],
   "source": [
    "#add topics to text_chunks df\n",
    "document_info = topic_model.get_document_info(cleaned_texts)\n",
    "text_chunks['topic'] = document_info['Topic']"
   ]
  },
  {
   "cell_type": "code",
   "execution_count": 17,
   "id": "3bd0587d",
   "metadata": {},
   "outputs": [],
   "source": [
    "topic_by_author = (\n",
    "    text_chunks.groupby(\"author\")[\"topic\"]\n",
    "    .value_counts()\n",
    "    .unstack(fill_value=0)\n",
    ")"
   ]
  },
  {
   "cell_type": "code",
   "execution_count": 18,
   "id": "1dc91e1d",
   "metadata": {},
   "outputs": [
    {
     "data": {
      "text/html": [
       "<div>\n",
       "<style scoped>\n",
       "    .dataframe tbody tr th:only-of-type {\n",
       "        vertical-align: middle;\n",
       "    }\n",
       "\n",
       "    .dataframe tbody tr th {\n",
       "        vertical-align: top;\n",
       "    }\n",
       "\n",
       "    .dataframe thead th {\n",
       "        text-align: right;\n",
       "    }\n",
       "</style>\n",
       "<table border=\"1\" class=\"dataframe\">\n",
       "  <thead>\n",
       "    <tr style=\"text-align: right;\">\n",
       "      <th>topic</th>\n",
       "      <th>-1</th>\n",
       "      <th>0</th>\n",
       "      <th>1</th>\n",
       "      <th>2</th>\n",
       "      <th>3</th>\n",
       "      <th>4</th>\n",
       "      <th>5</th>\n",
       "      <th>6</th>\n",
       "      <th>7</th>\n",
       "      <th>8</th>\n",
       "      <th>...</th>\n",
       "      <th>72</th>\n",
       "      <th>73</th>\n",
       "      <th>74</th>\n",
       "      <th>75</th>\n",
       "      <th>76</th>\n",
       "      <th>77</th>\n",
       "      <th>78</th>\n",
       "      <th>79</th>\n",
       "      <th>80</th>\n",
       "      <th>81</th>\n",
       "    </tr>\n",
       "    <tr>\n",
       "      <th>author</th>\n",
       "      <th></th>\n",
       "      <th></th>\n",
       "      <th></th>\n",
       "      <th></th>\n",
       "      <th></th>\n",
       "      <th></th>\n",
       "      <th></th>\n",
       "      <th></th>\n",
       "      <th></th>\n",
       "      <th></th>\n",
       "      <th></th>\n",
       "      <th></th>\n",
       "      <th></th>\n",
       "      <th></th>\n",
       "      <th></th>\n",
       "      <th></th>\n",
       "      <th></th>\n",
       "      <th></th>\n",
       "      <th></th>\n",
       "      <th></th>\n",
       "      <th></th>\n",
       "    </tr>\n",
       "  </thead>\n",
       "  <tbody>\n",
       "    <tr>\n",
       "      <th>Arrian</th>\n",
       "      <td>1858</td>\n",
       "      <td>66</td>\n",
       "      <td>157</td>\n",
       "      <td>2</td>\n",
       "      <td>43</td>\n",
       "      <td>10</td>\n",
       "      <td>1</td>\n",
       "      <td>287</td>\n",
       "      <td>292</td>\n",
       "      <td>1</td>\n",
       "      <td>...</td>\n",
       "      <td>12</td>\n",
       "      <td>0</td>\n",
       "      <td>0</td>\n",
       "      <td>0</td>\n",
       "      <td>1</td>\n",
       "      <td>11</td>\n",
       "      <td>0</td>\n",
       "      <td>0</td>\n",
       "      <td>11</td>\n",
       "      <td>3</td>\n",
       "    </tr>\n",
       "    <tr>\n",
       "      <th>Caesar</th>\n",
       "      <td>1916</td>\n",
       "      <td>135</td>\n",
       "      <td>37</td>\n",
       "      <td>12</td>\n",
       "      <td>58</td>\n",
       "      <td>16</td>\n",
       "      <td>0</td>\n",
       "      <td>17</td>\n",
       "      <td>4</td>\n",
       "      <td>4</td>\n",
       "      <td>...</td>\n",
       "      <td>0</td>\n",
       "      <td>0</td>\n",
       "      <td>0</td>\n",
       "      <td>2</td>\n",
       "      <td>9</td>\n",
       "      <td>0</td>\n",
       "      <td>10</td>\n",
       "      <td>0</td>\n",
       "      <td>0</td>\n",
       "      <td>0</td>\n",
       "    </tr>\n",
       "    <tr>\n",
       "      <th>Clausewitz</th>\n",
       "      <td>934</td>\n",
       "      <td>30</td>\n",
       "      <td>2</td>\n",
       "      <td>258</td>\n",
       "      <td>444</td>\n",
       "      <td>1</td>\n",
       "      <td>324</td>\n",
       "      <td>1</td>\n",
       "      <td>0</td>\n",
       "      <td>76</td>\n",
       "      <td>...</td>\n",
       "      <td>0</td>\n",
       "      <td>0</td>\n",
       "      <td>2</td>\n",
       "      <td>0</td>\n",
       "      <td>0</td>\n",
       "      <td>0</td>\n",
       "      <td>0</td>\n",
       "      <td>0</td>\n",
       "      <td>0</td>\n",
       "      <td>0</td>\n",
       "    </tr>\n",
       "    <tr>\n",
       "      <th>Jomini</th>\n",
       "      <td>1616</td>\n",
       "      <td>247</td>\n",
       "      <td>28</td>\n",
       "      <td>521</td>\n",
       "      <td>43</td>\n",
       "      <td>6</td>\n",
       "      <td>11</td>\n",
       "      <td>1</td>\n",
       "      <td>7</td>\n",
       "      <td>61</td>\n",
       "      <td>...</td>\n",
       "      <td>0</td>\n",
       "      <td>10</td>\n",
       "      <td>1</td>\n",
       "      <td>1</td>\n",
       "      <td>0</td>\n",
       "      <td>1</td>\n",
       "      <td>0</td>\n",
       "      <td>11</td>\n",
       "      <td>0</td>\n",
       "      <td>6</td>\n",
       "    </tr>\n",
       "    <tr>\n",
       "      <th>Mahan</th>\n",
       "      <td>299</td>\n",
       "      <td>3782</td>\n",
       "      <td>10</td>\n",
       "      <td>39</td>\n",
       "      <td>41</td>\n",
       "      <td>8</td>\n",
       "      <td>8</td>\n",
       "      <td>1</td>\n",
       "      <td>2</td>\n",
       "      <td>12</td>\n",
       "      <td>...</td>\n",
       "      <td>0</td>\n",
       "      <td>2</td>\n",
       "      <td>0</td>\n",
       "      <td>0</td>\n",
       "      <td>0</td>\n",
       "      <td>0</td>\n",
       "      <td>0</td>\n",
       "      <td>0</td>\n",
       "      <td>0</td>\n",
       "      <td>0</td>\n",
       "    </tr>\n",
       "    <tr>\n",
       "      <th>Sun Tzu</th>\n",
       "      <td>560</td>\n",
       "      <td>21</td>\n",
       "      <td>3</td>\n",
       "      <td>83</td>\n",
       "      <td>42</td>\n",
       "      <td>512</td>\n",
       "      <td>5</td>\n",
       "      <td>0</td>\n",
       "      <td>2</td>\n",
       "      <td>18</td>\n",
       "      <td>...</td>\n",
       "      <td>0</td>\n",
       "      <td>0</td>\n",
       "      <td>0</td>\n",
       "      <td>1</td>\n",
       "      <td>0</td>\n",
       "      <td>0</td>\n",
       "      <td>1</td>\n",
       "      <td>0</td>\n",
       "      <td>0</td>\n",
       "      <td>2</td>\n",
       "    </tr>\n",
       "    <tr>\n",
       "      <th>Thucydides</th>\n",
       "      <td>702</td>\n",
       "      <td>165</td>\n",
       "      <td>2442</td>\n",
       "      <td>13</td>\n",
       "      <td>250</td>\n",
       "      <td>1</td>\n",
       "      <td>4</td>\n",
       "      <td>4</td>\n",
       "      <td>0</td>\n",
       "      <td>5</td>\n",
       "      <td>...</td>\n",
       "      <td>0</td>\n",
       "      <td>0</td>\n",
       "      <td>9</td>\n",
       "      <td>8</td>\n",
       "      <td>2</td>\n",
       "      <td>0</td>\n",
       "      <td>0</td>\n",
       "      <td>0</td>\n",
       "      <td>0</td>\n",
       "      <td>0</td>\n",
       "    </tr>\n",
       "  </tbody>\n",
       "</table>\n",
       "<p>7 rows × 83 columns</p>\n",
       "</div>"
      ],
      "text/plain": [
       "topic        -1     0     1    2    3    4    5    6    7    8   ...   72  \\\n",
       "author                                                           ...        \n",
       "Arrian      1858    66   157    2   43   10    1  287  292    1  ...   12   \n",
       "Caesar      1916   135    37   12   58   16    0   17    4    4  ...    0   \n",
       "Clausewitz   934    30     2  258  444    1  324    1    0   76  ...    0   \n",
       "Jomini      1616   247    28  521   43    6   11    1    7   61  ...    0   \n",
       "Mahan        299  3782    10   39   41    8    8    1    2   12  ...    0   \n",
       "Sun Tzu      560    21     3   83   42  512    5    0    2   18  ...    0   \n",
       "Thucydides   702   165  2442   13  250    1    4    4    0    5  ...    0   \n",
       "\n",
       "topic        73   74   75   76   77   78   79   80   81  \n",
       "author                                                   \n",
       "Arrian        0    0    0    1   11    0    0   11    3  \n",
       "Caesar        0    0    2    9    0   10    0    0    0  \n",
       "Clausewitz    0    2    0    0    0    0    0    0    0  \n",
       "Jomini       10    1    1    0    1    0   11    0    6  \n",
       "Mahan         2    0    0    0    0    0    0    0    0  \n",
       "Sun Tzu       0    0    1    0    0    1    0    0    2  \n",
       "Thucydides    0    9    8    2    0    0    0    0    0  \n",
       "\n",
       "[7 rows x 83 columns]"
      ]
     },
     "execution_count": 18,
     "metadata": {},
     "output_type": "execute_result"
    }
   ],
   "source": [
    "topic_by_author"
   ]
  },
  {
   "cell_type": "code",
   "execution_count": 37,
   "id": "8f62c2c0",
   "metadata": {},
   "outputs": [],
   "source": [
    "#topics with more than n occurrences across all chunks\n",
    "n = 100\n",
    "top_topics = topics[topics[\"Count\"] > n][\"Topic\"].tolist()\n",
    "top_topics.remove(15) # exclude noisy topic 15\n",
    "top_topics = top_topics[1:]  # exclude noisy topic -1"
   ]
  },
  {
   "cell_type": "code",
   "execution_count": 20,
   "id": "38da5219",
   "metadata": {},
   "outputs": [],
   "source": [
    "#get top topics by author\n",
    "top_topics_by_author = topic_by_author[top_topics]"
   ]
  },
  {
   "cell_type": "code",
   "execution_count": 21,
   "id": "94273936",
   "metadata": {},
   "outputs": [],
   "source": [
    "# convert to proportion of total document counts per topic belonging to each author\n",
    "topics_by_author_norm = topic_by_author.div(topic_by_author.sum(axis=1), axis=0)\n",
    "top_topics_by_author_norm = top_topics_by_author.div(top_topics_by_author.sum(axis=1), axis=0) # get top topics by author normalized"
   ]
  },
  {
   "cell_type": "code",
   "execution_count": 22,
   "id": "3e793507",
   "metadata": {},
   "outputs": [
    {
     "data": {
      "text/html": [
       "<div>\n",
       "<style scoped>\n",
       "    .dataframe tbody tr th:only-of-type {\n",
       "        vertical-align: middle;\n",
       "    }\n",
       "\n",
       "    .dataframe tbody tr th {\n",
       "        vertical-align: top;\n",
       "    }\n",
       "\n",
       "    .dataframe thead th {\n",
       "        text-align: right;\n",
       "    }\n",
       "</style>\n",
       "<table border=\"1\" class=\"dataframe\">\n",
       "  <thead>\n",
       "    <tr style=\"text-align: right;\">\n",
       "      <th>topic</th>\n",
       "      <th>0</th>\n",
       "      <th>1</th>\n",
       "      <th>2</th>\n",
       "      <th>3</th>\n",
       "      <th>4</th>\n",
       "      <th>5</th>\n",
       "      <th>6</th>\n",
       "      <th>7</th>\n",
       "      <th>8</th>\n",
       "      <th>9</th>\n",
       "      <th>10</th>\n",
       "      <th>11</th>\n",
       "      <th>12</th>\n",
       "      <th>13</th>\n",
       "      <th>14</th>\n",
       "      <th>16</th>\n",
       "      <th>17</th>\n",
       "      <th>18</th>\n",
       "    </tr>\n",
       "    <tr>\n",
       "      <th>author</th>\n",
       "      <th></th>\n",
       "      <th></th>\n",
       "      <th></th>\n",
       "      <th></th>\n",
       "      <th></th>\n",
       "      <th></th>\n",
       "      <th></th>\n",
       "      <th></th>\n",
       "      <th></th>\n",
       "      <th></th>\n",
       "      <th></th>\n",
       "      <th></th>\n",
       "      <th></th>\n",
       "      <th></th>\n",
       "      <th></th>\n",
       "      <th></th>\n",
       "      <th></th>\n",
       "      <th></th>\n",
       "    </tr>\n",
       "  </thead>\n",
       "  <tbody>\n",
       "    <tr>\n",
       "      <th>Arrian</th>\n",
       "      <td>0.044867</td>\n",
       "      <td>0.106730</td>\n",
       "      <td>0.001360</td>\n",
       "      <td>0.029232</td>\n",
       "      <td>0.006798</td>\n",
       "      <td>0.000680</td>\n",
       "      <td>0.195105</td>\n",
       "      <td>0.198504</td>\n",
       "      <td>0.000680</td>\n",
       "      <td>0.116927</td>\n",
       "      <td>0.000000</td>\n",
       "      <td>0.000680</td>\n",
       "      <td>0.027872</td>\n",
       "      <td>0.094494</td>\n",
       "      <td>0.097213</td>\n",
       "      <td>0.078178</td>\n",
       "      <td>0.000680</td>\n",
       "      <td>0.000000</td>\n",
       "    </tr>\n",
       "    <tr>\n",
       "      <th>Caesar</th>\n",
       "      <td>0.239362</td>\n",
       "      <td>0.065603</td>\n",
       "      <td>0.021277</td>\n",
       "      <td>0.102837</td>\n",
       "      <td>0.028369</td>\n",
       "      <td>0.000000</td>\n",
       "      <td>0.030142</td>\n",
       "      <td>0.007092</td>\n",
       "      <td>0.007092</td>\n",
       "      <td>0.000000</td>\n",
       "      <td>0.001773</td>\n",
       "      <td>0.000000</td>\n",
       "      <td>0.111702</td>\n",
       "      <td>0.000000</td>\n",
       "      <td>0.000000</td>\n",
       "      <td>0.003546</td>\n",
       "      <td>0.198582</td>\n",
       "      <td>0.182624</td>\n",
       "    </tr>\n",
       "    <tr>\n",
       "      <th>Clausewitz</th>\n",
       "      <td>0.025840</td>\n",
       "      <td>0.001723</td>\n",
       "      <td>0.222222</td>\n",
       "      <td>0.382429</td>\n",
       "      <td>0.000861</td>\n",
       "      <td>0.279070</td>\n",
       "      <td>0.000861</td>\n",
       "      <td>0.000000</td>\n",
       "      <td>0.065461</td>\n",
       "      <td>0.000861</td>\n",
       "      <td>0.016365</td>\n",
       "      <td>0.003445</td>\n",
       "      <td>0.000000</td>\n",
       "      <td>0.000000</td>\n",
       "      <td>0.000861</td>\n",
       "      <td>0.000000</td>\n",
       "      <td>0.000000</td>\n",
       "      <td>0.000000</td>\n",
       "    </tr>\n",
       "    <tr>\n",
       "      <th>Jomini</th>\n",
       "      <td>0.198075</td>\n",
       "      <td>0.022454</td>\n",
       "      <td>0.417803</td>\n",
       "      <td>0.034483</td>\n",
       "      <td>0.004812</td>\n",
       "      <td>0.008821</td>\n",
       "      <td>0.000802</td>\n",
       "      <td>0.005613</td>\n",
       "      <td>0.048917</td>\n",
       "      <td>0.000802</td>\n",
       "      <td>0.121893</td>\n",
       "      <td>0.129912</td>\n",
       "      <td>0.001604</td>\n",
       "      <td>0.001604</td>\n",
       "      <td>0.000000</td>\n",
       "      <td>0.000802</td>\n",
       "      <td>0.000802</td>\n",
       "      <td>0.000802</td>\n",
       "    </tr>\n",
       "    <tr>\n",
       "      <th>Mahan</th>\n",
       "      <td>0.967511</td>\n",
       "      <td>0.002558</td>\n",
       "      <td>0.009977</td>\n",
       "      <td>0.010489</td>\n",
       "      <td>0.002047</td>\n",
       "      <td>0.002047</td>\n",
       "      <td>0.000256</td>\n",
       "      <td>0.000512</td>\n",
       "      <td>0.003070</td>\n",
       "      <td>0.000000</td>\n",
       "      <td>0.000512</td>\n",
       "      <td>0.000256</td>\n",
       "      <td>0.000000</td>\n",
       "      <td>0.000256</td>\n",
       "      <td>0.000256</td>\n",
       "      <td>0.000000</td>\n",
       "      <td>0.000000</td>\n",
       "      <td>0.000256</td>\n",
       "    </tr>\n",
       "    <tr>\n",
       "      <th>Sun Tzu</th>\n",
       "      <td>0.030043</td>\n",
       "      <td>0.004292</td>\n",
       "      <td>0.118741</td>\n",
       "      <td>0.060086</td>\n",
       "      <td>0.732475</td>\n",
       "      <td>0.007153</td>\n",
       "      <td>0.000000</td>\n",
       "      <td>0.002861</td>\n",
       "      <td>0.025751</td>\n",
       "      <td>0.000000</td>\n",
       "      <td>0.000000</td>\n",
       "      <td>0.002861</td>\n",
       "      <td>0.011445</td>\n",
       "      <td>0.000000</td>\n",
       "      <td>0.000000</td>\n",
       "      <td>0.002861</td>\n",
       "      <td>0.000000</td>\n",
       "      <td>0.001431</td>\n",
       "    </tr>\n",
       "    <tr>\n",
       "      <th>Thucydides</th>\n",
       "      <td>0.056352</td>\n",
       "      <td>0.834016</td>\n",
       "      <td>0.004440</td>\n",
       "      <td>0.085383</td>\n",
       "      <td>0.000342</td>\n",
       "      <td>0.001366</td>\n",
       "      <td>0.001366</td>\n",
       "      <td>0.000000</td>\n",
       "      <td>0.001708</td>\n",
       "      <td>0.001025</td>\n",
       "      <td>0.000000</td>\n",
       "      <td>0.000342</td>\n",
       "      <td>0.011954</td>\n",
       "      <td>0.001366</td>\n",
       "      <td>0.000000</td>\n",
       "      <td>0.000342</td>\n",
       "      <td>0.000000</td>\n",
       "      <td>0.000000</td>\n",
       "    </tr>\n",
       "  </tbody>\n",
       "</table>\n",
       "</div>"
      ],
      "text/plain": [
       "topic             0         1         2         3         4         5   \\\n",
       "author                                                                   \n",
       "Arrian      0.044867  0.106730  0.001360  0.029232  0.006798  0.000680   \n",
       "Caesar      0.239362  0.065603  0.021277  0.102837  0.028369  0.000000   \n",
       "Clausewitz  0.025840  0.001723  0.222222  0.382429  0.000861  0.279070   \n",
       "Jomini      0.198075  0.022454  0.417803  0.034483  0.004812  0.008821   \n",
       "Mahan       0.967511  0.002558  0.009977  0.010489  0.002047  0.002047   \n",
       "Sun Tzu     0.030043  0.004292  0.118741  0.060086  0.732475  0.007153   \n",
       "Thucydides  0.056352  0.834016  0.004440  0.085383  0.000342  0.001366   \n",
       "\n",
       "topic             6         7         8         9         10        11  \\\n",
       "author                                                                   \n",
       "Arrian      0.195105  0.198504  0.000680  0.116927  0.000000  0.000680   \n",
       "Caesar      0.030142  0.007092  0.007092  0.000000  0.001773  0.000000   \n",
       "Clausewitz  0.000861  0.000000  0.065461  0.000861  0.016365  0.003445   \n",
       "Jomini      0.000802  0.005613  0.048917  0.000802  0.121893  0.129912   \n",
       "Mahan       0.000256  0.000512  0.003070  0.000000  0.000512  0.000256   \n",
       "Sun Tzu     0.000000  0.002861  0.025751  0.000000  0.000000  0.002861   \n",
       "Thucydides  0.001366  0.000000  0.001708  0.001025  0.000000  0.000342   \n",
       "\n",
       "topic             12        13        14        16        17        18  \n",
       "author                                                                  \n",
       "Arrian      0.027872  0.094494  0.097213  0.078178  0.000680  0.000000  \n",
       "Caesar      0.111702  0.000000  0.000000  0.003546  0.198582  0.182624  \n",
       "Clausewitz  0.000000  0.000000  0.000861  0.000000  0.000000  0.000000  \n",
       "Jomini      0.001604  0.001604  0.000000  0.000802  0.000802  0.000802  \n",
       "Mahan       0.000000  0.000256  0.000256  0.000000  0.000000  0.000256  \n",
       "Sun Tzu     0.011445  0.000000  0.000000  0.002861  0.000000  0.001431  \n",
       "Thucydides  0.011954  0.001366  0.000000  0.000342  0.000000  0.000000  "
      ]
     },
     "execution_count": 22,
     "metadata": {},
     "output_type": "execute_result"
    }
   ],
   "source": [
    "top_topics_by_author_norm.head(10)"
   ]
  },
  {
   "cell_type": "code",
   "execution_count": 23,
   "id": "c6dcc7ee",
   "metadata": {},
   "outputs": [
    {
     "data": {
      "image/png": "[encoded data removed]",
      "text/plain": [
       "<Figure size 1200x600 with 1 Axes>"
      ]
     },
     "metadata": {},
     "output_type": "display_data"
    }
   ],
   "source": [
    "import matplotlib.pyplot as plt\n",
    "#topics by author\n",
    "topics_by_author_norm.plot(kind='bar', stacked=True, colormap='tab20', figsize=(12, 6))\n",
    "plt.title(\"Normalized Topic Distribution by Author\")\n",
    "plt.xlabel(\"Author\")\n",
    "plt.ylabel(\"Proportion of Chunks\")\n",
    "plt.legend(title=\"Topic\", bbox_to_anchor=(1.05, 1), loc='upper left')\n",
    "plt.tight_layout()\n",
    "plt.show()\n"
   ]
  },
  {
   "cell_type": "code",
   "execution_count": 25,
   "id": "b89c5b75",
   "metadata": {},
   "outputs": [
    {
     "data": {
      "image/png": "[encoded data removed]",
      "text/plain": [
       "<Figure size 1200x600 with 1 Axes>"
      ]
     },
     "metadata": {},
     "output_type": "display_data"
    }
   ],
   "source": [
    "#top topics by author\n",
    "top_topics_by_author_norm.plot(kind='bar', stacked=True, colormap='tab20', figsize=(12, 6))\n",
    "plt.title(\"Normalized Topic Distribution by Author\")\n",
    "plt.xlabel(\"Author\")\n",
    "plt.ylabel(\"Proportion of Chunks\")\n",
    "plt.legend(title=\"Topic\", bbox_to_anchor=(1.05, 1), loc='upper left')\n",
    "plt.tight_layout()\n",
    "plt.show()"
   ]
  },
  {
   "cell_type": "markdown",
   "id": "eea5efa9",
   "metadata": {},
   "source": [
    "Almost all of Mahan's documents texts under topic 0. Similarly, for Thucydides almost all topics fall under Topic 1 and for Sun Tzu almsot all of his texts fall under Topic 4. For the remaining four authors, there is a larger degree of variation in the topics their texts were classified. Clausewitz's texts largely fall under topics 2, 3, and 5. Jomini's primarily fall under topics 0, 2, 10, and 11. "
   ]
  },
  {
   "cell_type": "code",
   "execution_count": 26,
   "id": "79dae764",
   "metadata": {},
   "outputs": [
    {
     "data": {
      "text/html": [
       "<div>\n",
       "<style scoped>\n",
       "    .dataframe tbody tr th:only-of-type {\n",
       "        vertical-align: middle;\n",
       "    }\n",
       "\n",
       "    .dataframe tbody tr th {\n",
       "        vertical-align: top;\n",
       "    }\n",
       "\n",
       "    .dataframe thead th {\n",
       "        text-align: right;\n",
       "    }\n",
       "</style>\n",
       "<table border=\"1\" class=\"dataframe\">\n",
       "  <thead>\n",
       "    <tr style=\"text-align: right;\">\n",
       "      <th>topic</th>\n",
       "      <th>0</th>\n",
       "      <th>1</th>\n",
       "      <th>2</th>\n",
       "      <th>3</th>\n",
       "      <th>4</th>\n",
       "      <th>5</th>\n",
       "      <th>6</th>\n",
       "      <th>7</th>\n",
       "      <th>8</th>\n",
       "      <th>9</th>\n",
       "      <th>10</th>\n",
       "      <th>11</th>\n",
       "      <th>12</th>\n",
       "      <th>13</th>\n",
       "      <th>14</th>\n",
       "      <th>16</th>\n",
       "      <th>17</th>\n",
       "      <th>18</th>\n",
       "    </tr>\n",
       "    <tr>\n",
       "      <th>author</th>\n",
       "      <th></th>\n",
       "      <th></th>\n",
       "      <th></th>\n",
       "      <th></th>\n",
       "      <th></th>\n",
       "      <th></th>\n",
       "      <th></th>\n",
       "      <th></th>\n",
       "      <th></th>\n",
       "      <th></th>\n",
       "      <th></th>\n",
       "      <th></th>\n",
       "      <th></th>\n",
       "      <th></th>\n",
       "      <th></th>\n",
       "      <th></th>\n",
       "      <th></th>\n",
       "      <th></th>\n",
       "    </tr>\n",
       "  </thead>\n",
       "  <tbody>\n",
       "    <tr>\n",
       "      <th>Arrian</th>\n",
       "      <td>66</td>\n",
       "      <td>157</td>\n",
       "      <td>2</td>\n",
       "      <td>43</td>\n",
       "      <td>10</td>\n",
       "      <td>1</td>\n",
       "      <td>287</td>\n",
       "      <td>292</td>\n",
       "      <td>1</td>\n",
       "      <td>172</td>\n",
       "      <td>0</td>\n",
       "      <td>1</td>\n",
       "      <td>41</td>\n",
       "      <td>139</td>\n",
       "      <td>143</td>\n",
       "      <td>115</td>\n",
       "      <td>1</td>\n",
       "      <td>0</td>\n",
       "    </tr>\n",
       "    <tr>\n",
       "      <th>Caesar</th>\n",
       "      <td>135</td>\n",
       "      <td>37</td>\n",
       "      <td>12</td>\n",
       "      <td>58</td>\n",
       "      <td>16</td>\n",
       "      <td>0</td>\n",
       "      <td>17</td>\n",
       "      <td>4</td>\n",
       "      <td>4</td>\n",
       "      <td>0</td>\n",
       "      <td>1</td>\n",
       "      <td>0</td>\n",
       "      <td>63</td>\n",
       "      <td>0</td>\n",
       "      <td>0</td>\n",
       "      <td>2</td>\n",
       "      <td>112</td>\n",
       "      <td>103</td>\n",
       "    </tr>\n",
       "    <tr>\n",
       "      <th>Clausewitz</th>\n",
       "      <td>30</td>\n",
       "      <td>2</td>\n",
       "      <td>258</td>\n",
       "      <td>444</td>\n",
       "      <td>1</td>\n",
       "      <td>324</td>\n",
       "      <td>1</td>\n",
       "      <td>0</td>\n",
       "      <td>76</td>\n",
       "      <td>1</td>\n",
       "      <td>19</td>\n",
       "      <td>4</td>\n",
       "      <td>0</td>\n",
       "      <td>0</td>\n",
       "      <td>1</td>\n",
       "      <td>0</td>\n",
       "      <td>0</td>\n",
       "      <td>0</td>\n",
       "    </tr>\n",
       "    <tr>\n",
       "      <th>Jomini</th>\n",
       "      <td>247</td>\n",
       "      <td>28</td>\n",
       "      <td>521</td>\n",
       "      <td>43</td>\n",
       "      <td>6</td>\n",
       "      <td>11</td>\n",
       "      <td>1</td>\n",
       "      <td>7</td>\n",
       "      <td>61</td>\n",
       "      <td>1</td>\n",
       "      <td>152</td>\n",
       "      <td>162</td>\n",
       "      <td>2</td>\n",
       "      <td>2</td>\n",
       "      <td>0</td>\n",
       "      <td>1</td>\n",
       "      <td>1</td>\n",
       "      <td>1</td>\n",
       "    </tr>\n",
       "    <tr>\n",
       "      <th>Mahan</th>\n",
       "      <td>3782</td>\n",
       "      <td>10</td>\n",
       "      <td>39</td>\n",
       "      <td>41</td>\n",
       "      <td>8</td>\n",
       "      <td>8</td>\n",
       "      <td>1</td>\n",
       "      <td>2</td>\n",
       "      <td>12</td>\n",
       "      <td>0</td>\n",
       "      <td>2</td>\n",
       "      <td>1</td>\n",
       "      <td>0</td>\n",
       "      <td>1</td>\n",
       "      <td>1</td>\n",
       "      <td>0</td>\n",
       "      <td>0</td>\n",
       "      <td>1</td>\n",
       "    </tr>\n",
       "    <tr>\n",
       "      <th>Sun Tzu</th>\n",
       "      <td>21</td>\n",
       "      <td>3</td>\n",
       "      <td>83</td>\n",
       "      <td>42</td>\n",
       "      <td>512</td>\n",
       "      <td>5</td>\n",
       "      <td>0</td>\n",
       "      <td>2</td>\n",
       "      <td>18</td>\n",
       "      <td>0</td>\n",
       "      <td>0</td>\n",
       "      <td>2</td>\n",
       "      <td>8</td>\n",
       "      <td>0</td>\n",
       "      <td>0</td>\n",
       "      <td>2</td>\n",
       "      <td>0</td>\n",
       "      <td>1</td>\n",
       "    </tr>\n",
       "    <tr>\n",
       "      <th>Thucydides</th>\n",
       "      <td>165</td>\n",
       "      <td>2442</td>\n",
       "      <td>13</td>\n",
       "      <td>250</td>\n",
       "      <td>1</td>\n",
       "      <td>4</td>\n",
       "      <td>4</td>\n",
       "      <td>0</td>\n",
       "      <td>5</td>\n",
       "      <td>3</td>\n",
       "      <td>0</td>\n",
       "      <td>1</td>\n",
       "      <td>35</td>\n",
       "      <td>4</td>\n",
       "      <td>0</td>\n",
       "      <td>1</td>\n",
       "      <td>0</td>\n",
       "      <td>0</td>\n",
       "    </tr>\n",
       "  </tbody>\n",
       "</table>\n",
       "</div>"
      ],
      "text/plain": [
       "topic         0     1    2    3    4    5    6    7   8    9    10   11  12  \\\n",
       "author                                                                        \n",
       "Arrian        66   157    2   43   10    1  287  292   1  172    0    1  41   \n",
       "Caesar       135    37   12   58   16    0   17    4   4    0    1    0  63   \n",
       "Clausewitz    30     2  258  444    1  324    1    0  76    1   19    4   0   \n",
       "Jomini       247    28  521   43    6   11    1    7  61    1  152  162   2   \n",
       "Mahan       3782    10   39   41    8    8    1    2  12    0    2    1   0   \n",
       "Sun Tzu       21     3   83   42  512    5    0    2  18    0    0    2   8   \n",
       "Thucydides   165  2442   13  250    1    4    4    0   5    3    0    1  35   \n",
       "\n",
       "topic        13   14   16   17   18  \n",
       "author                               \n",
       "Arrian      139  143  115    1    0  \n",
       "Caesar        0    0    2  112  103  \n",
       "Clausewitz    0    1    0    0    0  \n",
       "Jomini        2    0    1    1    1  \n",
       "Mahan         1    1    0    0    1  \n",
       "Sun Tzu       0    0    2    0    1  \n",
       "Thucydides    4    0    1    0    0  "
      ]
     },
     "execution_count": 26,
     "metadata": {},
     "output_type": "execute_result"
    }
   ],
   "source": [
    "top_topics_by_author"
   ]
  },
  {
   "cell_type": "code",
   "execution_count": 27,
   "id": "50c167b3",
   "metadata": {},
   "outputs": [],
   "source": [
    "topic_by_author = topic_by_author.drop(-1, axis=1)"
   ]
  },
  {
   "cell_type": "code",
   "execution_count": 28,
   "id": "71c60428",
   "metadata": {},
   "outputs": [],
   "source": [
    "author_by_topic_norm = topic_by_author.div(topic_by_author.sum(axis=0), axis=1).T\n",
    "author_by_top_topics = author_by_topic_norm.loc[top_topics, :]"
   ]
  },
  {
   "cell_type": "code",
   "execution_count": 29,
   "id": "2df4a83f",
   "metadata": {},
   "outputs": [
    {
     "data": {
      "text/html": [
       "<div>\n",
       "<style scoped>\n",
       "    .dataframe tbody tr th:only-of-type {\n",
       "        vertical-align: middle;\n",
       "    }\n",
       "\n",
       "    .dataframe tbody tr th {\n",
       "        vertical-align: top;\n",
       "    }\n",
       "\n",
       "    .dataframe thead th {\n",
       "        text-align: right;\n",
       "    }\n",
       "</style>\n",
       "<table border=\"1\" class=\"dataframe\">\n",
       "  <thead>\n",
       "    <tr style=\"text-align: right;\">\n",
       "      <th>author</th>\n",
       "      <th>Arrian</th>\n",
       "      <th>Caesar</th>\n",
       "      <th>Clausewitz</th>\n",
       "      <th>Jomini</th>\n",
       "      <th>Mahan</th>\n",
       "      <th>Sun Tzu</th>\n",
       "      <th>Thucydides</th>\n",
       "    </tr>\n",
       "    <tr>\n",
       "      <th>topic</th>\n",
       "      <th></th>\n",
       "      <th></th>\n",
       "      <th></th>\n",
       "      <th></th>\n",
       "      <th></th>\n",
       "      <th></th>\n",
       "      <th></th>\n",
       "    </tr>\n",
       "  </thead>\n",
       "  <tbody>\n",
       "    <tr>\n",
       "      <th>0</th>\n",
       "      <td>0.014845</td>\n",
       "      <td>0.030364</td>\n",
       "      <td>0.006748</td>\n",
       "      <td>0.055556</td>\n",
       "      <td>0.850652</td>\n",
       "      <td>0.004723</td>\n",
       "      <td>0.037112</td>\n",
       "    </tr>\n",
       "    <tr>\n",
       "      <th>1</th>\n",
       "      <td>0.058604</td>\n",
       "      <td>0.013811</td>\n",
       "      <td>0.000747</td>\n",
       "      <td>0.010452</td>\n",
       "      <td>0.003733</td>\n",
       "      <td>0.001120</td>\n",
       "      <td>0.911534</td>\n",
       "    </tr>\n",
       "    <tr>\n",
       "      <th>2</th>\n",
       "      <td>0.002155</td>\n",
       "      <td>0.012931</td>\n",
       "      <td>0.278017</td>\n",
       "      <td>0.561422</td>\n",
       "      <td>0.042026</td>\n",
       "      <td>0.089440</td>\n",
       "      <td>0.014009</td>\n",
       "    </tr>\n",
       "    <tr>\n",
       "      <th>3</th>\n",
       "      <td>0.046688</td>\n",
       "      <td>0.062975</td>\n",
       "      <td>0.482085</td>\n",
       "      <td>0.046688</td>\n",
       "      <td>0.044517</td>\n",
       "      <td>0.045603</td>\n",
       "      <td>0.271444</td>\n",
       "    </tr>\n",
       "    <tr>\n",
       "      <th>4</th>\n",
       "      <td>0.018051</td>\n",
       "      <td>0.028881</td>\n",
       "      <td>0.001805</td>\n",
       "      <td>0.010830</td>\n",
       "      <td>0.014440</td>\n",
       "      <td>0.924188</td>\n",
       "      <td>0.001805</td>\n",
       "    </tr>\n",
       "    <tr>\n",
       "      <th>5</th>\n",
       "      <td>0.002833</td>\n",
       "      <td>0.000000</td>\n",
       "      <td>0.917847</td>\n",
       "      <td>0.031161</td>\n",
       "      <td>0.022663</td>\n",
       "      <td>0.014164</td>\n",
       "      <td>0.011331</td>\n",
       "    </tr>\n",
       "    <tr>\n",
       "      <th>6</th>\n",
       "      <td>0.922830</td>\n",
       "      <td>0.054662</td>\n",
       "      <td>0.003215</td>\n",
       "      <td>0.003215</td>\n",
       "      <td>0.003215</td>\n",
       "      <td>0.000000</td>\n",
       "      <td>0.012862</td>\n",
       "    </tr>\n",
       "    <tr>\n",
       "      <th>7</th>\n",
       "      <td>0.951140</td>\n",
       "      <td>0.013029</td>\n",
       "      <td>0.000000</td>\n",
       "      <td>0.022801</td>\n",
       "      <td>0.006515</td>\n",
       "      <td>0.006515</td>\n",
       "      <td>0.000000</td>\n",
       "    </tr>\n",
       "    <tr>\n",
       "      <th>8</th>\n",
       "      <td>0.005650</td>\n",
       "      <td>0.022599</td>\n",
       "      <td>0.429379</td>\n",
       "      <td>0.344633</td>\n",
       "      <td>0.067797</td>\n",
       "      <td>0.101695</td>\n",
       "      <td>0.028249</td>\n",
       "    </tr>\n",
       "    <tr>\n",
       "      <th>9</th>\n",
       "      <td>0.971751</td>\n",
       "      <td>0.000000</td>\n",
       "      <td>0.005650</td>\n",
       "      <td>0.005650</td>\n",
       "      <td>0.000000</td>\n",
       "      <td>0.000000</td>\n",
       "      <td>0.016949</td>\n",
       "    </tr>\n",
       "    <tr>\n",
       "      <th>10</th>\n",
       "      <td>0.000000</td>\n",
       "      <td>0.005747</td>\n",
       "      <td>0.109195</td>\n",
       "      <td>0.873563</td>\n",
       "      <td>0.011494</td>\n",
       "      <td>0.000000</td>\n",
       "      <td>0.000000</td>\n",
       "    </tr>\n",
       "    <tr>\n",
       "      <th>11</th>\n",
       "      <td>0.005848</td>\n",
       "      <td>0.000000</td>\n",
       "      <td>0.023392</td>\n",
       "      <td>0.947368</td>\n",
       "      <td>0.005848</td>\n",
       "      <td>0.011696</td>\n",
       "      <td>0.005848</td>\n",
       "    </tr>\n",
       "    <tr>\n",
       "      <th>12</th>\n",
       "      <td>0.275168</td>\n",
       "      <td>0.422819</td>\n",
       "      <td>0.000000</td>\n",
       "      <td>0.013423</td>\n",
       "      <td>0.000000</td>\n",
       "      <td>0.053691</td>\n",
       "      <td>0.234899</td>\n",
       "    </tr>\n",
       "    <tr>\n",
       "      <th>13</th>\n",
       "      <td>0.952055</td>\n",
       "      <td>0.000000</td>\n",
       "      <td>0.000000</td>\n",
       "      <td>0.013699</td>\n",
       "      <td>0.006849</td>\n",
       "      <td>0.000000</td>\n",
       "      <td>0.027397</td>\n",
       "    </tr>\n",
       "    <tr>\n",
       "      <th>14</th>\n",
       "      <td>0.986207</td>\n",
       "      <td>0.000000</td>\n",
       "      <td>0.006897</td>\n",
       "      <td>0.000000</td>\n",
       "      <td>0.006897</td>\n",
       "      <td>0.000000</td>\n",
       "      <td>0.000000</td>\n",
       "    </tr>\n",
       "    <tr>\n",
       "      <th>16</th>\n",
       "      <td>0.950413</td>\n",
       "      <td>0.016529</td>\n",
       "      <td>0.000000</td>\n",
       "      <td>0.008264</td>\n",
       "      <td>0.000000</td>\n",
       "      <td>0.016529</td>\n",
       "      <td>0.008264</td>\n",
       "    </tr>\n",
       "    <tr>\n",
       "      <th>17</th>\n",
       "      <td>0.008772</td>\n",
       "      <td>0.982456</td>\n",
       "      <td>0.000000</td>\n",
       "      <td>0.008772</td>\n",
       "      <td>0.000000</td>\n",
       "      <td>0.000000</td>\n",
       "      <td>0.000000</td>\n",
       "    </tr>\n",
       "    <tr>\n",
       "      <th>18</th>\n",
       "      <td>0.000000</td>\n",
       "      <td>0.971698</td>\n",
       "      <td>0.000000</td>\n",
       "      <td>0.009434</td>\n",
       "      <td>0.009434</td>\n",
       "      <td>0.009434</td>\n",
       "      <td>0.000000</td>\n",
       "    </tr>\n",
       "  </tbody>\n",
       "</table>\n",
       "</div>"
      ],
      "text/plain": [
       "author    Arrian    Caesar  Clausewitz    Jomini     Mahan   Sun Tzu  \\\n",
       "topic                                                                  \n",
       "0       0.014845  0.030364    0.006748  0.055556  0.850652  0.004723   \n",
       "1       0.058604  0.013811    0.000747  0.010452  0.003733  0.001120   \n",
       "2       0.002155  0.012931    0.278017  0.561422  0.042026  0.089440   \n",
       "3       0.046688  0.062975    0.482085  0.046688  0.044517  0.045603   \n",
       "4       0.018051  0.028881    0.001805  0.010830  0.014440  0.924188   \n",
       "5       0.002833  0.000000    0.917847  0.031161  0.022663  0.014164   \n",
       "6       0.922830  0.054662    0.003215  0.003215  0.003215  0.000000   \n",
       "7       0.951140  0.013029    0.000000  0.022801  0.006515  0.006515   \n",
       "8       0.005650  0.022599    0.429379  0.344633  0.067797  0.101695   \n",
       "9       0.971751  0.000000    0.005650  0.005650  0.000000  0.000000   \n",
       "10      0.000000  0.005747    0.109195  0.873563  0.011494  0.000000   \n",
       "11      0.005848  0.000000    0.023392  0.947368  0.005848  0.011696   \n",
       "12      0.275168  0.422819    0.000000  0.013423  0.000000  0.053691   \n",
       "13      0.952055  0.000000    0.000000  0.013699  0.006849  0.000000   \n",
       "14      0.986207  0.000000    0.006897  0.000000  0.006897  0.000000   \n",
       "16      0.950413  0.016529    0.000000  0.008264  0.000000  0.016529   \n",
       "17      0.008772  0.982456    0.000000  0.008772  0.000000  0.000000   \n",
       "18      0.000000  0.971698    0.000000  0.009434  0.009434  0.009434   \n",
       "\n",
       "author  Thucydides  \n",
       "topic               \n",
       "0         0.037112  \n",
       "1         0.911534  \n",
       "2         0.014009  \n",
       "3         0.271444  \n",
       "4         0.001805  \n",
       "5         0.011331  \n",
       "6         0.012862  \n",
       "7         0.000000  \n",
       "8         0.028249  \n",
       "9         0.016949  \n",
       "10        0.000000  \n",
       "11        0.005848  \n",
       "12        0.234899  \n",
       "13        0.027397  \n",
       "14        0.000000  \n",
       "16        0.008264  \n",
       "17        0.000000  \n",
       "18        0.000000  "
      ]
     },
     "execution_count": 29,
     "metadata": {},
     "output_type": "execute_result"
    }
   ],
   "source": [
    "author_by_top_topics"
   ]
  },
  {
   "cell_type": "code",
   "execution_count": 30,
   "id": "b54137c6",
   "metadata": {},
   "outputs": [
    {
     "data": {
      "image/png": "[encoded data removed]",
      "text/plain": [
       "<Figure size 1200x600 with 1 Axes>"
      ]
     },
     "metadata": {},
     "output_type": "display_data"
    }
   ],
   "source": [
    "author_by_top_topics.plot(\n",
    "    kind='bar',\n",
    "    stacked=True,\n",
    "    colormap='tab20',\n",
    "    figsize=(12, 6)\n",
    ")\n",
    "\n",
    "plt.title(\"Normalized Author Distribution for Top Topics\")\n",
    "plt.xlabel(\"Topic\")  # <-- Corrected\n",
    "plt.ylabel(\"Proportion of Text Assigned to the Topic from Each Author\")  # <-- Corrected\n",
    "plt.legend(title=\"Author\", bbox_to_anchor=(1.05, 1), loc='upper left')\n",
    "plt.tight_layout()\n",
    "plt.show()"
   ]
  },
  {
   "cell_type": "markdown",
   "id": "8abaaa78",
   "metadata": {},
   "source": [
    "We see that most of the top topics generated by BERTopic are attributable to a single author. Topics 2, 3, 8, and 12 seem to capture some general themes across authors. "
   ]
  },
  {
   "cell_type": "code",
   "execution_count": 42,
   "id": "27541516",
   "metadata": {},
   "outputs": [
    {
     "data": {
      "text/plain": [
       "[0, 1, 2, 3, 4, 5, 6, 7, 8, 9, 10, 11, 12, 13, 14, 16, 17, 18]"
      ]
     },
     "execution_count": 42,
     "metadata": {},
     "output_type": "execute_result"
    }
   ],
   "source": [
    "top_topics"
   ]
  },
  {
   "cell_type": "code",
   "execution_count": 45,
   "id": "e342e65f",
   "metadata": {},
   "outputs": [],
   "source": [
    "top_topics_df = topics[topics[\"Topic\"].isin(top_topics)]"
   ]
  },
  {
   "cell_type": "code",
   "execution_count": 46,
   "id": "957e4115",
   "metadata": {},
   "outputs": [
    {
     "data": {
      "text/html": [
       "<div>\n",
       "<style scoped>\n",
       "    .dataframe tbody tr th:only-of-type {\n",
       "        vertical-align: middle;\n",
       "    }\n",
       "\n",
       "    .dataframe tbody tr th {\n",
       "        vertical-align: top;\n",
       "    }\n",
       "\n",
       "    .dataframe thead th {\n",
       "        text-align: right;\n",
       "    }\n",
       "</style>\n",
       "<table border=\"1\" class=\"dataframe\">\n",
       "  <thead>\n",
       "    <tr style=\"text-align: right;\">\n",
       "      <th></th>\n",
       "      <th>Topic</th>\n",
       "      <th>Count</th>\n",
       "      <th>Name</th>\n",
       "      <th>Representation</th>\n",
       "      <th>Representative_Docs</th>\n",
       "    </tr>\n",
       "  </thead>\n",
       "  <tbody>\n",
       "    <tr>\n",
       "      <th>1</th>\n",
       "      <td>0</td>\n",
       "      <td>4446</td>\n",
       "      <td>0_french_english_england_france</td>\n",
       "      <td>[french, english, england, france, ships, sea,...</td>\n",
       "      <td>[advantage wind english day fortyfour ships ac...</td>\n",
       "    </tr>\n",
       "    <tr>\n",
       "      <th>2</th>\n",
       "      <td>1</td>\n",
       "      <td>2679</td>\n",
       "      <td>1_athenians_lacedaemonians_athens_athenian</td>\n",
       "      <td>[athenians, lacedaemonians, athens, athenian, ...</td>\n",
       "      <td>[terms armistice ships delivered number sixty ...</td>\n",
       "    </tr>\n",
       "    <tr>\n",
       "      <th>3</th>\n",
       "      <td>2</td>\n",
       "      <td>928</td>\n",
       "      <td>2_operations_lines_strategic_line</td>\n",
       "      <td>[operations, lines, strategic, line, point, en...</td>\n",
       "      <td>[front operations space separates two armies u...</td>\n",
       "    </tr>\n",
       "    <tr>\n",
       "      <th>4</th>\n",
       "      <td>3</td>\n",
       "      <td>921</td>\n",
       "      <td>3_theory_mind_must_us</td>\n",
       "      <td>[theory, mind, must, us, may, things, therefor...</td>\n",
       "      <td>[influence theoretical principles upon real li...</td>\n",
       "    </tr>\n",
       "    <tr>\n",
       "      <th>5</th>\n",
       "      <td>4</td>\n",
       "      <td>554</td>\n",
       "      <td>4_sun_wu_tz_chi</td>\n",
       "      <td>[sun, wu, tz, chi, yu, tsao, chinese, chang, c...</td>\n",
       "      <td>[return elder sun tz mentioned two passages sh...</td>\n",
       "    </tr>\n",
       "    <tr>\n",
       "      <th>6</th>\n",
       "      <td>5</td>\n",
       "      <td>353</td>\n",
       "      <td>5_object_war_destruction_therefore</td>\n",
       "      <td>[object, war, destruction, therefore, politica...</td>\n",
       "      <td>[destruction enemys military force leading pri...</td>\n",
       "    </tr>\n",
       "    <tr>\n",
       "      <th>7</th>\n",
       "      <td>6</td>\n",
       "      <td>311</td>\n",
       "      <td>6_river_indus_called_rivers</td>\n",
       "      <td>[river, indus, called, rivers, name, hebrew, e...</td>\n",
       "      <td>[unquestionable therefore let record indus lar...</td>\n",
       "    </tr>\n",
       "    <tr>\n",
       "      <th>8</th>\n",
       "      <td>7</td>\n",
       "      <td>307</td>\n",
       "      <td>7_eordaea_rha_ulm_crateas</td>\n",
       "      <td>[eordaea, rha, ulm, crateas, ariaspians, mount...</td>\n",
       "      <td>[ulm magnesia victory malplaquet, peithon son ...</td>\n",
       "    </tr>\n",
       "    <tr>\n",
       "      <th>9</th>\n",
       "      <td>8</td>\n",
       "      <td>177</td>\n",
       "      <td>8_military_generals_general_spirit</td>\n",
       "      <td>[military, generals, general, spirit, virtue, ...</td>\n",
       "      <td>[assistance military virtue parts genius comma...</td>\n",
       "    </tr>\n",
       "    <tr>\n",
       "      <th>10</th>\n",
       "      <td>9</td>\n",
       "      <td>177</td>\n",
       "      <td>9_darius_persians_alexander_persian</td>\n",
       "      <td>[darius, persians, alexander, persian, king, g...</td>\n",
       "      <td>[reflections fate darius alexander sent body d...</td>\n",
       "    </tr>\n",
       "    <tr>\n",
       "      <th>11</th>\n",
       "      <td>10</td>\n",
       "      <td>174</td>\n",
       "      <td>10_rhine_archduke_austrians_austrian</td>\n",
       "      <td>[rhine, archduke, austrians, austrian, danube,...</td>\n",
       "      <td>[leaving austria rear russia front austria lau...</td>\n",
       "    </tr>\n",
       "    <tr>\n",
       "      <th>12</th>\n",
       "      <td>11</td>\n",
       "      <td>171</td>\n",
       "      <td>11_divisions_battalions_columns_deployed</td>\n",
       "      <td>[divisions, battalions, columns, deployed, col...</td>\n",
       "      <td>[whole armies deployed skirmishers still neces...</td>\n",
       "    </tr>\n",
       "    <tr>\n",
       "      <th>13</th>\n",
       "      <td>12</td>\n",
       "      <td>149</td>\n",
       "      <td>12_wall_mound_engines_towers</td>\n",
       "      <td>[wall, mound, engines, towers, walls, stones, ...</td>\n",
       "      <td>[round city able bring military engines walls ...</td>\n",
       "    </tr>\n",
       "    <tr>\n",
       "      <th>14</th>\n",
       "      <td>13</td>\n",
       "      <td>146</td>\n",
       "      <td>13_macedonians_alexander_city_phalanx</td>\n",
       "      <td>[macedonians, alexander, city, phalanx, wall, ...</td>\n",
       "      <td>[macedonians easily forced way first wall stro...</td>\n",
       "    </tr>\n",
       "    <tr>\n",
       "      <th>15</th>\n",
       "      <td>14</td>\n",
       "      <td>145</td>\n",
       "      <td>14_alexander_alexanders_speech_king</td>\n",
       "      <td>[alexander, alexanders, speech, king, callisth...</td>\n",
       "      <td>[alexander seized fever alexanders death, spee...</td>\n",
       "    </tr>\n",
       "    <tr>\n",
       "      <th>17</th>\n",
       "      <td>16</td>\n",
       "      <td>121</td>\n",
       "      <td>16_arrian_cf_herodotus_homer</td>\n",
       "      <td>[arrian, cf, herodotus, homer, xenophon, see, ...</td>\n",
       "      <td>[cf arrian supra see arrian supra, sons east c...</td>\n",
       "    </tr>\n",
       "    <tr>\n",
       "      <th>18</th>\n",
       "      <td>17</td>\n",
       "      <td>114</td>\n",
       "      <td>17_caesar_caesars_roman_rome</td>\n",
       "      <td>[caesar, caesars, roman, rome, senate, public,...</td>\n",
       "      <td>[added dumnorix said assembly aeduans sovereig...</td>\n",
       "    </tr>\n",
       "    <tr>\n",
       "      <th>19</th>\n",
       "      <td>18</td>\n",
       "      <td>106</td>\n",
       "      <td>18_caesar_camp_legions_labienus</td>\n",
       "      <td>[caesar, camp, legions, labienus, day, baggage...</td>\n",
       "      <td>[vercingetorix taken care broken next day stop...</td>\n",
       "    </tr>\n",
       "  </tbody>\n",
       "</table>\n",
       "</div>"
      ],
      "text/plain": [
       "    Topic  Count                                        Name  \\\n",
       "1       0   4446             0_french_english_england_france   \n",
       "2       1   2679  1_athenians_lacedaemonians_athens_athenian   \n",
       "3       2    928           2_operations_lines_strategic_line   \n",
       "4       3    921                       3_theory_mind_must_us   \n",
       "5       4    554                             4_sun_wu_tz_chi   \n",
       "6       5    353          5_object_war_destruction_therefore   \n",
       "7       6    311                 6_river_indus_called_rivers   \n",
       "8       7    307                   7_eordaea_rha_ulm_crateas   \n",
       "9       8    177          8_military_generals_general_spirit   \n",
       "10      9    177         9_darius_persians_alexander_persian   \n",
       "11     10    174        10_rhine_archduke_austrians_austrian   \n",
       "12     11    171    11_divisions_battalions_columns_deployed   \n",
       "13     12    149                12_wall_mound_engines_towers   \n",
       "14     13    146       13_macedonians_alexander_city_phalanx   \n",
       "15     14    145         14_alexander_alexanders_speech_king   \n",
       "17     16    121                16_arrian_cf_herodotus_homer   \n",
       "18     17    114                17_caesar_caesars_roman_rome   \n",
       "19     18    106             18_caesar_camp_legions_labienus   \n",
       "\n",
       "                                       Representation  \\\n",
       "1   [french, english, england, france, ships, sea,...   \n",
       "2   [athenians, lacedaemonians, athens, athenian, ...   \n",
       "3   [operations, lines, strategic, line, point, en...   \n",
       "4   [theory, mind, must, us, may, things, therefor...   \n",
       "5   [sun, wu, tz, chi, yu, tsao, chinese, chang, c...   \n",
       "6   [object, war, destruction, therefore, politica...   \n",
       "7   [river, indus, called, rivers, name, hebrew, e...   \n",
       "8   [eordaea, rha, ulm, crateas, ariaspians, mount...   \n",
       "9   [military, generals, general, spirit, virtue, ...   \n",
       "10  [darius, persians, alexander, persian, king, g...   \n",
       "11  [rhine, archduke, austrians, austrian, danube,...   \n",
       "12  [divisions, battalions, columns, deployed, col...   \n",
       "13  [wall, mound, engines, towers, walls, stones, ...   \n",
       "14  [macedonians, alexander, city, phalanx, wall, ...   \n",
       "15  [alexander, alexanders, speech, king, callisth...   \n",
       "17  [arrian, cf, herodotus, homer, xenophon, see, ...   \n",
       "18  [caesar, caesars, roman, rome, senate, public,...   \n",
       "19  [caesar, camp, legions, labienus, day, baggage...   \n",
       "\n",
       "                                  Representative_Docs  \n",
       "1   [advantage wind english day fortyfour ships ac...  \n",
       "2   [terms armistice ships delivered number sixty ...  \n",
       "3   [front operations space separates two armies u...  \n",
       "4   [influence theoretical principles upon real li...  \n",
       "5   [return elder sun tz mentioned two passages sh...  \n",
       "6   [destruction enemys military force leading pri...  \n",
       "7   [unquestionable therefore let record indus lar...  \n",
       "8   [ulm magnesia victory malplaquet, peithon son ...  \n",
       "9   [assistance military virtue parts genius comma...  \n",
       "10  [reflections fate darius alexander sent body d...  \n",
       "11  [leaving austria rear russia front austria lau...  \n",
       "12  [whole armies deployed skirmishers still neces...  \n",
       "13  [round city able bring military engines walls ...  \n",
       "14  [macedonians easily forced way first wall stro...  \n",
       "15  [alexander seized fever alexanders death, spee...  \n",
       "17  [cf arrian supra see arrian supra, sons east c...  \n",
       "18  [added dumnorix said assembly aeduans sovereig...  \n",
       "19  [vercingetorix taken care broken next day stop...  "
      ]
     },
     "execution_count": 46,
     "metadata": {},
     "output_type": "execute_result"
    }
   ],
   "source": [
    "top_topics_df"
   ]
  },
  {
   "cell_type": "markdown",
   "id": "c90ff04a",
   "metadata": {},
   "source": [
    "| Topic # | Suggested Name                          | Representative Keywords                                      | Primary Author(s)            |\n",
    "|---------|------------------------------------------|--------------------------------------------------------------|------------------------------|\n",
    "| 0       | Naval Warfare and European Powers        | french, english, england, france, ships, sea                 | Mahan                        |\n",
    "| 1       | Athenian Strategy              | athenians, lacedaemonians, athens, athenian, triremes       | Thucydides                   |\n",
    "| 2       | Strategic Operations and Lines           | operations, lines, strategic, point, enemy                   | Jomini, Clausewitz           |\n",
    "| 3       | Theory of War               | theory, mind, must, therefore, principles                    | Clausewitz, Thucydides   |\n",
    "| 4       | Sun Tzu       | sun, wu, tz, chi, yu, tsao, chinese                          | Sun Tzu                      |\n",
    "| 5       | War Aims and Political Objectives        | object, war, destruction, political, policy                  | Clausewitz                   |\n",
    "| 6       | Geography and  Terrain           | river, indus, rivers, hebrew, terrain                        | Arrian                       |\n",
    "| 7       | Specific Battles and Locations           | eordaea, ulm, crateas, ariaspians, victory                   | Arrian               |\n",
    "| 8       | Leadership and Military Virtue           | military, generals, general, spirit, virtue                  | Clausewitz, Jomini         |\n",
    "| 9       | Persian Campaigns of Alexander           | darius, persians, alexander, king, body                      | Arrian                       |\n",
    "| 10      | Austro-European Campaigns                | rhine, archduke, austrians, austrian, danube                | Jomini                       |\n",
    "| 11      | Deployment and Army Structure            | divisions, battalions, columns, deployed, skirmishers       | Jomini           |\n",
    "| 12      | Military Engineering      | wall, mound, engines, towers, stones                        | Caesar, Arrian, Thucydides    |\n",
    "| 13      | Macedonian Tactics          | macedonians, city, phalanx, wall, assault                   | Arrian                       |\n",
    "| 14      | Alexander's Legacy and Speeches          | alexander, speech, king, death, callisthenes                | Arrian                       |\n",
    "| 16      | Classical Source Referencing             | arrian, herodotus, homer, xenophon                      | Arrian      |\n",
    "| 17      | Caesar’s Roman Governance                | caesar, roman, rome, senate, public                         | Julius Caesar                |\n",
    "| 18      | Caesar’s Military Campaigns              | caesar, camp, legions, labienus, vercingetorix              | Julius Caesar                |\n"
   ]
  },
  {
   "cell_type": "code",
   "execution_count": 92,
   "id": "06fc7514",
   "metadata": {},
   "outputs": [],
   "source": [
    "#create map of topic names\n",
    "topic_name_map = {\n",
    "    0: \"Naval Warfare and European Powers\",\n",
    "    1: \"Athenian Strategy\",\n",
    "    2: \"Strategic Operations and Lines\",\n",
    "    3: \"Theory of War\",\n",
    "    4: \"Sun Tzu\",\n",
    "    5: \"War Aims and Political Objectives\",\n",
    "    6: \"Geography and Terrain\",\n",
    "    7: \"Specific Battles and Locations\",\n",
    "    8: \"Leadership and Military Virtue\",\n",
    "    9: \"Persian Campaigns of Alexander\",\n",
    "    10: \"Austro-European Campaigns\",\n",
    "    11: \"Deployment and Army Structure\",\n",
    "    12: \"Military Engineering\",\n",
    "    13: \"Macedonian Tactics\",\n",
    "    14: \"Alexander's Legacy and Speeches\",\n",
    "    16: \"Classical Source Referencing\",\n",
    "    17: \"Caesar’s Roman Governance\",\n",
    "    18: \"Caesar’s Military Campaigns\"\n",
    "}\n"
   ]
  },
  {
   "cell_type": "markdown",
   "id": "f76b9220",
   "metadata": {},
   "source": [
    "Compare semantics with topics that have multiple authors"
   ]
  },
  {
   "cell_type": "code",
   "execution_count": 93,
   "id": "863d55c2",
   "metadata": {},
   "outputs": [],
   "source": [
    "#get document info for topics of interest\n",
    "topics_of_interest = [2, 3, 5, 8, 12]\n",
    "#add authors to document info\n",
    "document_info[\"author\"] = text_chunks[\"author\"]\n",
    "# filter document info for topics of interest\n",
    "document_info_of_interest = document_info[document_info[\"Topic\"].isin(topics_of_interest)]\n",
    "# add topic names to the filtered document info\n",
    "document_info_of_interest[\"topic_name\"] = document_info_of_interest[\"Topic\"].map(topic_name_map)\n"
   ]
  },
  {
   "cell_type": "code",
   "execution_count": 94,
   "id": "a543bded",
   "metadata": {},
   "outputs": [
    {
     "data": {
      "text/html": [
       "<div>\n",
       "<style scoped>\n",
       "    .dataframe tbody tr th:only-of-type {\n",
       "        vertical-align: middle;\n",
       "    }\n",
       "\n",
       "    .dataframe tbody tr th {\n",
       "        vertical-align: top;\n",
       "    }\n",
       "\n",
       "    .dataframe thead th {\n",
       "        text-align: right;\n",
       "    }\n",
       "</style>\n",
       "<table border=\"1\" class=\"dataframe\">\n",
       "  <thead>\n",
       "    <tr style=\"text-align: right;\">\n",
       "      <th></th>\n",
       "      <th>Document</th>\n",
       "      <th>Topic</th>\n",
       "      <th>Name</th>\n",
       "      <th>Representation</th>\n",
       "      <th>Representative_Docs</th>\n",
       "      <th>Top_n_words</th>\n",
       "      <th>Probability</th>\n",
       "      <th>Representative_document</th>\n",
       "      <th>author</th>\n",
       "      <th>topic_name</th>\n",
       "    </tr>\n",
       "  </thead>\n",
       "  <tbody>\n",
       "    <tr>\n",
       "      <th>10</th>\n",
       "      <td>without transgressing idioms language theory d...</td>\n",
       "      <td>3</td>\n",
       "      <td>3_theory_mind_must_us</td>\n",
       "      <td>[theory, mind, must, us, may, things, therefor...</td>\n",
       "      <td>[influence theoretical principles upon real li...</td>\n",
       "      <td>theory - mind - must - us - may - things - the...</td>\n",
       "      <td>1.000000</td>\n",
       "      <td>False</td>\n",
       "      <td>Arrian</td>\n",
       "      <td>Theory of War</td>\n",
       "    </tr>\n",
       "    <tr>\n",
       "      <th>16</th>\n",
       "      <td>teacher large school experiences leaving littl...</td>\n",
       "      <td>3</td>\n",
       "      <td>3_theory_mind_must_us</td>\n",
       "      <td>[theory, mind, must, us, may, things, therefor...</td>\n",
       "      <td>[influence theoretical principles upon real li...</td>\n",
       "      <td>theory - mind - must - us - may - things - the...</td>\n",
       "      <td>1.000000</td>\n",
       "      <td>False</td>\n",
       "      <td>Arrian</td>\n",
       "      <td>Theory of War</td>\n",
       "    </tr>\n",
       "    <tr>\n",
       "      <th>237</th>\n",
       "      <td>gained credit absent long time news arrived ac...</td>\n",
       "      <td>3</td>\n",
       "      <td>3_theory_mind_must_us</td>\n",
       "      <td>[theory, mind, must, us, may, things, therefor...</td>\n",
       "      <td>[influence theoretical principles upon real li...</td>\n",
       "      <td>theory - mind - must - us - may - things - the...</td>\n",
       "      <td>1.000000</td>\n",
       "      <td>False</td>\n",
       "      <td>Arrian</td>\n",
       "      <td>Theory of War</td>\n",
       "    </tr>\n",
       "    <tr>\n",
       "      <th>272</th>\n",
       "      <td>disaster many portents sent deity indeed time ...</td>\n",
       "      <td>3</td>\n",
       "      <td>3_theory_mind_must_us</td>\n",
       "      <td>[theory, mind, must, us, may, things, therefor...</td>\n",
       "      <td>[influence theoretical principles upon real li...</td>\n",
       "      <td>theory - mind - must - us - may - things - the...</td>\n",
       "      <td>1.000000</td>\n",
       "      <td>False</td>\n",
       "      <td>Arrian</td>\n",
       "      <td>Theory of War</td>\n",
       "    </tr>\n",
       "    <tr>\n",
       "      <th>317</th>\n",
       "      <td>infantry dare pass night near us therefore per...</td>\n",
       "      <td>2</td>\n",
       "      <td>2_operations_lines_strategic_line</td>\n",
       "      <td>[operations, lines, strategic, line, point, en...</td>\n",
       "      <td>[front operations space separates two armies u...</td>\n",
       "      <td>operations - lines - strategic - line - point ...</td>\n",
       "      <td>0.922827</td>\n",
       "      <td>False</td>\n",
       "      <td>Arrian</td>\n",
       "      <td>Strategic Operations and Lines</td>\n",
       "    </tr>\n",
       "  </tbody>\n",
       "</table>\n",
       "</div>"
      ],
      "text/plain": [
       "                                              Document  Topic  \\\n",
       "10   without transgressing idioms language theory d...      3   \n",
       "16   teacher large school experiences leaving littl...      3   \n",
       "237  gained credit absent long time news arrived ac...      3   \n",
       "272  disaster many portents sent deity indeed time ...      3   \n",
       "317  infantry dare pass night near us therefore per...      2   \n",
       "\n",
       "                                  Name  \\\n",
       "10               3_theory_mind_must_us   \n",
       "16               3_theory_mind_must_us   \n",
       "237              3_theory_mind_must_us   \n",
       "272              3_theory_mind_must_us   \n",
       "317  2_operations_lines_strategic_line   \n",
       "\n",
       "                                        Representation  \\\n",
       "10   [theory, mind, must, us, may, things, therefor...   \n",
       "16   [theory, mind, must, us, may, things, therefor...   \n",
       "237  [theory, mind, must, us, may, things, therefor...   \n",
       "272  [theory, mind, must, us, may, things, therefor...   \n",
       "317  [operations, lines, strategic, line, point, en...   \n",
       "\n",
       "                                   Representative_Docs  \\\n",
       "10   [influence theoretical principles upon real li...   \n",
       "16   [influence theoretical principles upon real li...   \n",
       "237  [influence theoretical principles upon real li...   \n",
       "272  [influence theoretical principles upon real li...   \n",
       "317  [front operations space separates two armies u...   \n",
       "\n",
       "                                           Top_n_words  Probability  \\\n",
       "10   theory - mind - must - us - may - things - the...     1.000000   \n",
       "16   theory - mind - must - us - may - things - the...     1.000000   \n",
       "237  theory - mind - must - us - may - things - the...     1.000000   \n",
       "272  theory - mind - must - us - may - things - the...     1.000000   \n",
       "317  operations - lines - strategic - line - point ...     0.922827   \n",
       "\n",
       "     Representative_document  author                      topic_name  \n",
       "10                     False  Arrian                   Theory of War  \n",
       "16                     False  Arrian                   Theory of War  \n",
       "237                    False  Arrian                   Theory of War  \n",
       "272                    False  Arrian                   Theory of War  \n",
       "317                    False  Arrian  Strategic Operations and Lines  "
      ]
     },
     "execution_count": 94,
     "metadata": {},
     "output_type": "execute_result"
    }
   ],
   "source": [
    "document_info_of_interest.head(5)"
   ]
  },
  {
   "cell_type": "code",
   "execution_count": 71,
   "id": "fb62d03d",
   "metadata": {},
   "outputs": [],
   "source": [
    "#library to load different embedding models\n",
    "from sentence_transformers import SentenceTransformer"
   ]
  },
  {
   "cell_type": "code",
   "execution_count": null,
   "id": "570789f7",
   "metadata": {},
   "outputs": [
    {
     "name": "stderr",
     "output_type": "stream",
     "text": [
      "Xet Storage is enabled for this repo, but the 'hf_xet' package is not installed. Falling back to regular HTTP download. For better performance, install the package with: `pip install huggingface_hub[hf_xet]` or `pip install hf_xet`\n"
     ]
    }
   ],
   "source": [
    "#default model is all-MiniLM-L6-v2\n",
    "#load alternative model better for semantic comparison\n",
    "alt_model = SentenceTransformer(\"all-mpnet-base-v2\")"
   ]
  },
  {
   "cell_type": "code",
   "execution_count": 74,
   "id": "9db58863",
   "metadata": {},
   "outputs": [
    {
     "name": "stderr",
     "output_type": "stream",
     "text": [
      "Batches: 100%|██████████| 79/79 [01:31<00:00,  1.16s/it]\n"
     ]
    }
   ],
   "source": [
    "#embed documents with alternative model\n",
    "alt_embeddings = alt_model.encode(\n",
    "    document_info_of_interest[\"Document\"].tolist(), \n",
    "    show_progress_bar=True\n",
    ")"
   ]
  },
  {
   "cell_type": "code",
   "execution_count": 75,
   "id": "00da2c1b",
   "metadata": {},
   "outputs": [],
   "source": [
    "#save embeddings to document info\n",
    "document_info_of_interest[\"alt_embedding\"] = list(alt_embeddings)"
   ]
  },
  {
   "cell_type": "code",
   "execution_count": 77,
   "id": "f238e6c0",
   "metadata": {},
   "outputs": [],
   "source": [
    "import umap"
   ]
  },
  {
   "cell_type": "code",
   "execution_count": 98,
   "id": "cf46d315",
   "metadata": {},
   "outputs": [],
   "source": [
    "#apply UMAP to reduce dimensionality of embeddings\n",
    "umap_model = umap.UMAP(n_neighbors=5, n_components=2, metric='cosine', random_state=425)\n",
    "umap_embeddings = umap_model.fit_transform(alt_embeddings)"
   ]
  },
  {
   "cell_type": "code",
   "execution_count": 100,
   "id": "dc930056",
   "metadata": {},
   "outputs": [],
   "source": [
    "#add UMAP coordinates to document info\n",
    "document_info_of_interest[\"UMAP_1\"] = umap_embeddings[:, 0]\n",
    "document_info_of_interest[\"UMAP_2\"] = umap_embeddings[:, 1]"
   ]
  },
  {
   "cell_type": "code",
   "execution_count": 101,
   "id": "0c3401de",
   "metadata": {},
   "outputs": [
    {
     "data": {
      "image/png": "[encoded data removed]",
      "text/plain": [
       "<Figure size 1200x800 with 1 Axes>"
      ]
     },
     "metadata": {},
     "output_type": "display_data"
    }
   ],
   "source": [
    "import seaborn as sns\n",
    "\n",
    "#visualize UMAP embeddings with seaborn\n",
    "plt.figure(figsize=(12, 8))\n",
    "sns.scatterplot(\n",
    "    data=document_info_of_interest,\n",
    "    x=\"UMAP_1\",\n",
    "    y=\"UMAP_2\",\n",
    "    hue=\"author\",\n",
    "    style=\"topic_name\",\n",
    "    palette=\"tab10\",\n",
    "    alpha=0.7\n",
    ")\n",
    "plt.title(\"Semantic Embedding of Documents by Author and Topic\")\n",
    "plt.legend(bbox_to_anchor=(1.05, 1), loc='upper left')\n",
    "plt.tight_layout()\n",
    "plt.show()"
   ]
  },
  {
   "cell_type": "markdown",
   "id": "f05161e6",
   "metadata": {},
   "source": [
    "### Hierarchical Topic Modeling"
   ]
  },
  {
   "cell_type": "code",
   "execution_count": 31,
   "id": "3beaad21",
   "metadata": {},
   "outputs": [
    {
     "name": "stderr",
     "output_type": "stream",
     "text": [
      "100%|██████████| 81/81 [00:00<00:00, 294.74it/s]\n"
     ]
    }
   ],
   "source": [
    "#hierarchical topic modeling\n",
    "hierarchical_topics = topic_model.hierarchical_topics(cleaned_texts)"
   ]
  },
  {
   "cell_type": "code",
   "execution_count": null,
   "id": "7ef1eec8",
   "metadata": {},
   "outputs": [
    {
     "data": {
      "application/vnd.plotly.v1+json": {
       "config": {
        "plotlyServerURL": "https://plot.ly"
       },
       "data": [
        {
         "hoverinfo": "text",
         "marker": {
          "color": "rgb(61,153,112)"
         },
         "mode": "lines",
         "text": [
          "division_st_corps_second_first",
          "",
          "",
          "fig_illustration_ttttttttttttttttttttttttttttttttttttttttttttttttttttt_tttttttttttttttttttttttttttttttttttttttt_answers"
         ],
         "type": "scatter",
         "x": [
          0,
          0.8528458057110015,
          0.8528458057110015,
          0
         ],
         "xaxis": "x",
         "y": [
          -5,
          -5,
          -15,
          -15
         ],
         "yaxis": "y"
        },
        {
         "hoverinfo": "text",
         "marker": {
          "color": "rgb(255,65,54)"
         },
         "mode": "lines",
         "text": [
          "arrian_cf_herodotus_homer_xenophon",
          "",
          "",
          "anabasis_alexander_lxix_dio_nysa"
         ],
         "type": "scatter",
         "x": [
          0,
          0.8581246260456947,
          0.8581246260456947,
          0
         ],
         "xaxis": "x",
         "y": [
          -35,
          -35,
          -45,
          -45
         ],
         "yaxis": "y"
        },
        {
         "hoverinfo": "text",
         "marker": {
          "color": "rgb(255,65,54)"
         },
         "mode": "lines",
         "text": [
          "heracles_hercules_dionysus_perseus_tyre",
          "",
          "",
          "arrian_cf_herodotus_homer_xenophon"
         ],
         "type": "scatter",
         "x": [
          0,
          0.9655520343840589,
          0.9655520343840589,
          0.8581246260456947
         ],
         "xaxis": "x",
         "y": [
          -25,
          -25,
          -40,
          -40
         ],
         "yaxis": "y"
        },
        {
         "hoverinfo": "text",
         "marker": {
          "color": "rgb(35,205,205)"
         },
         "mode": "lines",
         "text": [
          "spitamenes_sogdiana_sogdianians_scythians_sogdianarevolt",
          "",
          "",
          "viceroy_appointed_areians_stasanor_land"
         ],
         "type": "scatter",
         "x": [
          0,
          0.907062993971404,
          0.907062993971404,
          0
         ],
         "xaxis": "x",
         "y": [
          -65,
          -65,
          -75,
          -75
         ],
         "yaxis": "y"
        },
        {
         "hoverinfo": "text",
         "marker": {
          "color": "rgb(35,205,205)"
         },
         "mode": "lines",
         "text": [
          "viceroy_appointed_spitamenes_sogdiana_areians",
          "",
          "",
          "eordaea_rha_ulm_crateas_ariaspians"
         ],
         "type": "scatter",
         "x": [
          0.907062993971404,
          0.9824599251752864,
          0.9824599251752864,
          0
         ],
         "xaxis": "x",
         "y": [
          -70,
          -70,
          -85,
          -85
         ],
         "yaxis": "y"
        },
        {
         "hoverinfo": "text",
         "marker": {
          "color": "rgb(35,205,205)"
         },
         "mode": "lines",
         "text": [
          "siege_halicarnassus_massaga_miletus_halicarnassusabortive",
          "",
          "",
          "viceroy_appointed_spitamenes_sogdiana_stasanor"
         ],
         "type": "scatter",
         "x": [
          0,
          0.9997463701759296,
          0.9997463701759296,
          0.9824599251752864
         ],
         "xaxis": "x",
         "y": [
          -55,
          -55,
          -77.5,
          -77.5
         ],
         "yaxis": "y"
        },
        {
         "hoverinfo": "text",
         "marker": {
          "color": "rgb(0,116,217)"
         },
         "mode": "lines",
         "text": [
          "____",
          "",
          "",
          "llllllllllllll_lllllllllllll_cbl_ch_cush"
         ],
         "type": "scatter",
         "x": [
          0,
          1,
          1,
          0
         ],
         "xaxis": "x",
         "y": [
          -95,
          -95,
          -105,
          -105
         ],
         "yaxis": "y"
        },
        {
         "hoverinfo": "text",
         "marker": {
          "color": "rgb(0,116,217)"
         },
         "mode": "lines",
         "text": [
          "llllllllllllll_lllllllllllll_cbl_ch_cush",
          "",
          "",
          "____"
         ],
         "type": "scatter",
         "x": [
          1,
          1,
          1,
          0
         ],
         "xaxis": "x",
         "y": [
          -100,
          -100,
          -115,
          -115
         ],
         "yaxis": "y"
        },
        {
         "hoverinfo": "text",
         "marker": {
          "color": "rgb(0,116,217)"
         },
         "mode": "lines",
         "text": [
          "viceroy_siege_appointed_spitamenes_sogdiana",
          "",
          "",
          "llllllllllllll_lllllllllllll_cbl_ch_cush"
         ],
         "type": "scatter",
         "x": [
          0.9997463701759296,
          1.0437634372542146,
          1.0437634372542146,
          1
         ],
         "xaxis": "x",
         "y": [
          -66.25,
          -66.25,
          -107.5,
          -107.5
         ],
         "yaxis": "y"
        },
        {
         "hoverinfo": "text",
         "marker": {
          "color": "rgb(0,116,217)"
         },
         "mode": "lines",
         "text": [
          "arrian_cf_herodotus_homer_see",
          "",
          "",
          "viceroy_siege_appointed_spitamenes_sogdiana"
         ],
         "type": "scatter",
         "x": [
          0.9655520343840589,
          1.0635731105021564,
          1.0635731105021564,
          1.0437634372542146
         ],
         "xaxis": "x",
         "y": [
          -32.5,
          -32.5,
          -86.875,
          -86.875
         ],
         "yaxis": "y"
        },
        {
         "hoverinfo": "text",
         "marker": {
          "color": "rgb(0,116,217)"
         },
         "mode": "lines",
         "text": [
          "division_st_corps_fig_illustration",
          "",
          "",
          "arrian_cf_viceroy_herodotus_see"
         ],
         "type": "scatter",
         "x": [
          0.8528458057110015,
          1.1276444582769847,
          1.1276444582769847,
          1.0635731105021564
         ],
         "xaxis": "x",
         "y": [
          -10,
          -10,
          -59.6875,
          -59.6875
         ],
         "yaxis": "y"
        },
        {
         "hoverinfo": "text",
         "marker": {
          "color": "rgb(133,20,75)"
         },
         "mode": "lines",
         "text": [
          "italy_city_hispania_ancient_umbria",
          "",
          "",
          "macedonia_city_epirus_river_durazzo"
         ],
         "type": "scatter",
         "x": [
          0,
          0.8491034312744054,
          0.8491034312744054,
          0
         ],
         "xaxis": "x",
         "y": [
          -135,
          -135,
          -145,
          -145
         ],
         "yaxis": "y"
        },
        {
         "hoverinfo": "text",
         "marker": {
          "color": "rgb(133,20,75)"
         },
         "mode": "lines",
         "text": [
          "macedonia_city_italy_ancient_hispania",
          "",
          "",
          "city_ambuscades_motion_wallsyou_butcher"
         ],
         "type": "scatter",
         "x": [
          0.8491034312744054,
          0.9231461680587236,
          0.9231461680587236,
          0
         ],
         "xaxis": "x",
         "y": [
          -140,
          -140,
          -155,
          -155
         ],
         "yaxis": "y"
        },
        {
         "hoverinfo": "text",
         "marker": {
          "color": "rgb(133,20,75)"
         },
         "mode": "lines",
         "text": [
          "cappadocia_et_minor_asia_sarmatia",
          "",
          "",
          "city_macedonia_italy_ancient_town"
         ],
         "type": "scatter",
         "x": [
          0,
          0.9520794817698085,
          0.9520794817698085,
          0.9231461680587236
         ],
         "xaxis": "x",
         "y": [
          -125,
          -125,
          -147.5,
          -147.5
         ],
         "yaxis": "y"
        },
        {
         "hoverinfo": "text",
         "marker": {
          "color": "rgb(255,220,0)"
         },
         "mode": "lines",
         "text": [
          "germans_rhine_treviri_territories_cross",
          "",
          "",
          "rhine_lacus_falls_ocean_rivers"
         ],
         "type": "scatter",
         "x": [
          0,
          0.8000503148501327,
          0.8000503148501327,
          0
         ],
         "xaxis": "x",
         "y": [
          -165,
          -165,
          -175,
          -175
         ],
         "yaxis": "y"
        },
        {
         "hoverinfo": "text",
         "marker": {
          "color": "rgb(40,35,35)"
         },
         "mode": "lines",
         "text": [
          "river_bridges_passage_rivers_enemy",
          "",
          "",
          "river_indus_called_rivers_name"
         ],
         "type": "scatter",
         "x": [
          0,
          0.7710486028885928,
          0.7710486028885928,
          0
         ],
         "xaxis": "x",
         "y": [
          -185,
          -185,
          -195,
          -195
         ],
         "yaxis": "y"
        },
        {
         "hoverinfo": "text",
         "marker": {
          "color": "rgb(40,35,35)"
         },
         "mode": "lines",
         "text": [
          "river_indus_called_rivers_name",
          "",
          "",
          "hydaspes_voyage_acesines_fordable_hyphsis"
         ],
         "type": "scatter",
         "x": [
          0.7710486028885928,
          0.9668938198351351,
          0.9668938198351351,
          0
         ],
         "xaxis": "x",
         "y": [
          -190,
          -190,
          -205,
          -205
         ],
         "yaxis": "y"
        },
        {
         "hoverinfo": "text",
         "marker": {
          "color": "rgb(0,116,217)"
         },
         "mode": "lines",
         "text": [
          "rhine_germans_treviri_territories_lacus",
          "",
          "",
          "river_indus_called_rivers_name"
         ],
         "type": "scatter",
         "x": [
          0.8000503148501327,
          1.0214415409809012,
          1.0214415409809012,
          0.9668938198351351
         ],
         "xaxis": "x",
         "y": [
          -170,
          -170,
          -197.5,
          -197.5
         ],
         "yaxis": "y"
        },
        {
         "hoverinfo": "text",
         "marker": {
          "color": "rgb(0,116,217)"
         },
         "mode": "lines",
         "text": [
          "city_macedonia_italy_called_ancient",
          "",
          "",
          "river_indus_called_rivers_name"
         ],
         "type": "scatter",
         "x": [
          0.9520794817698085,
          1.0911311104276147,
          1.0911311104276147,
          1.0214415409809012
         ],
         "xaxis": "x",
         "y": [
          -136.25,
          -136.25,
          -183.75,
          -183.75
         ],
         "yaxis": "y"
        },
        {
         "hoverinfo": "text",
         "marker": {
          "color": "rgb(0,116,217)"
         },
         "mode": "lines",
         "text": [
          "arrian_cf_division_viceroy_st",
          "",
          "",
          "river_indus_called_rivers_name"
         ],
         "type": "scatter",
         "x": [
          1.1276444582769847,
          1.17965624066703,
          1.17965624066703,
          1.0911311104276147
         ],
         "xaxis": "x",
         "y": [
          -34.84375,
          -34.84375,
          -160,
          -160
         ],
         "yaxis": "y"
        },
        {
         "hoverinfo": "text",
         "marker": {
          "color": "rgb(61,153,112)"
         },
         "mode": "lines",
         "text": [
          "germany_ancient_people_rhine_switzerland",
          "",
          "",
          "ancient_people_gallia_gaul_called"
         ],
         "type": "scatter",
         "x": [
          0,
          0.5583906872502071,
          0.5583906872502071,
          0
         ],
         "xaxis": "x",
         "y": [
          -215,
          -215,
          -225,
          -225
         ],
         "yaxis": "y"
        },
        {
         "hoverinfo": "text",
         "marker": {
          "color": "rgb(61,153,112)"
         },
         "mode": "lines",
         "text": [
          "gaul_people_ancient_ibid_inhabiting",
          "",
          "",
          "gaul_caesar_confederacy_massacre_people"
         ],
         "type": "scatter",
         "x": [
          0,
          0.6593133926147094,
          0.6593133926147094,
          0
         ],
         "xaxis": "x",
         "y": [
          -235,
          -235,
          -245,
          -245
         ],
         "yaxis": "y"
        },
        {
         "hoverinfo": "text",
         "marker": {
          "color": "rgb(61,153,112)"
         },
         "mode": "lines",
         "text": [
          "ancient_people_germany_gallia_gaul",
          "",
          "",
          "gaul_people_caesar_ancient_ibid"
         ],
         "type": "scatter",
         "x": [
          0.5583906872502071,
          0.824152501696983,
          0.824152501696983,
          0.6593133926147094
         ],
         "xaxis": "x",
         "y": [
          -220,
          -220,
          -240,
          -240
         ],
         "yaxis": "y"
        },
        {
         "hoverinfo": "text",
         "marker": {
          "color": "rgb(0,116,217)"
         },
         "mode": "lines",
         "text": [
          "river_called_indus_cf_arrian",
          "",
          "",
          "ancient_people_gaul_germany_gallia"
         ],
         "type": "scatter",
         "x": [
          1.17965624066703,
          1.3838453482498645,
          1.3838453482498645,
          0.824152501696983
         ],
         "xaxis": "x",
         "y": [
          -97.421875,
          -97.421875,
          -230,
          -230
         ],
         "yaxis": "y"
        },
        {
         "hoverinfo": "text",
         "marker": {
          "color": "rgb(255,65,54)"
         },
         "mode": "lines",
         "text": [
          "divisions_battalions_columns_deployed_column",
          "",
          "",
          "cavalry_infantry_charges_charge_artillery"
         ],
         "type": "scatter",
         "x": [
          0,
          0.7041744256390703,
          0.7041744256390703,
          0
         ],
         "xaxis": "x",
         "y": [
          -255,
          -255,
          -265,
          -265
         ],
         "yaxis": "y"
        },
        {
         "hoverinfo": "text",
         "marker": {
          "color": "rgb(255,65,54)"
         },
         "mode": "lines",
         "text": [
          "shieldbearing_cavalry_agrianians_guards_companions",
          "",
          "",
          "son_cavalry_parmenio_grecian_command"
         ],
         "type": "scatter",
         "x": [
          0,
          0.6075254898441926,
          0.6075254898441926,
          0
         ],
         "xaxis": "x",
         "y": [
          -275,
          -275,
          -285,
          -285
         ],
         "yaxis": "y"
        },
        {
         "hoverinfo": "text",
         "marker": {
          "color": "rgb(255,65,54)"
         },
         "mode": "lines",
         "text": [
          "cavalry_divisions_battalions_columns_infantry",
          "",
          "",
          "cavalry_son_shieldbearing_agrianians_guards"
         ],
         "type": "scatter",
         "x": [
          0.7041744256390703,
          0.9305408689312614,
          0.9305408689312614,
          0.6075254898441926
         ],
         "xaxis": "x",
         "y": [
          -260,
          -260,
          -280,
          -280
         ],
         "yaxis": "y"
        },
        {
         "hoverinfo": "text",
         "marker": {
          "color": "rgb(35,205,205)"
         },
         "mode": "lines",
         "text": [
          "cavalry_alexander_spear_porus_philotas",
          "",
          "",
          "macedonians_alexander_city_phalanx_wall"
         ],
         "type": "scatter",
         "x": [
          0,
          0.5997303851511251,
          0.5997303851511251,
          0
         ],
         "xaxis": "x",
         "y": [
          -295,
          -295,
          -305,
          -305
         ],
         "yaxis": "y"
        },
        {
         "hoverinfo": "text",
         "marker": {
          "color": "rgb(35,205,205)"
         },
         "mode": "lines",
         "text": [
          "darius_persians_alexander_persian_king",
          "",
          "",
          "alexander_alexanders_speech_king_callisthenes"
         ],
         "type": "scatter",
         "x": [
          0,
          0.7003435661869362,
          0.7003435661869362,
          0
         ],
         "xaxis": "x",
         "y": [
          -315,
          -315,
          -325,
          -325
         ],
         "yaxis": "y"
        },
        {
         "hoverinfo": "text",
         "marker": {
          "color": "rgb(35,205,205)"
         },
         "mode": "lines",
         "text": [
          "darius_alexander_persians_alexanders_king",
          "",
          "",
          "death_philip_macedonia_alexander_alexanders"
         ],
         "type": "scatter",
         "x": [
          0.7003435661869362,
          0.773602543831444,
          0.773602543831444,
          0
         ],
         "xaxis": "x",
         "y": [
          -320,
          -320,
          -335,
          -335
         ],
         "yaxis": "y"
        },
        {
         "hoverinfo": "text",
         "marker": {
          "color": "rgb(35,205,205)"
         },
         "mode": "lines",
         "text": [
          "macedonians_alexander_phalanx_city_wall",
          "",
          "",
          "darius_alexander_persians_alexanders_king"
         ],
         "type": "scatter",
         "x": [
          0.5997303851511251,
          0.8535633177111905,
          0.8535633177111905,
          0.773602543831444
         ],
         "xaxis": "x",
         "y": [
          -300,
          -300,
          -327.5,
          -327.5
         ],
         "yaxis": "y"
        },
        {
         "hoverinfo": "text",
         "marker": {
          "color": "rgb(0,116,217)"
         },
         "mode": "lines",
         "text": [
          "cavalry_divisions_battalions_columns_infantry",
          "",
          "",
          "alexander_darius_macedonians_persians_alexanders"
         ],
         "type": "scatter",
         "x": [
          0.9305408689312614,
          1.157883932740695,
          1.157883932740695,
          0.8535633177111905
         ],
         "xaxis": "x",
         "y": [
          -270,
          -270,
          -313.75,
          -313.75
         ],
         "yaxis": "y"
        },
        {
         "hoverinfo": "text",
         "marker": {
          "color": "rgb(61,153,112)"
         },
         "mode": "lines",
         "text": [
          "morass_hill_ascent_narrow_ground",
          "",
          "",
          "wall_mound_engines_towers_walls"
         ],
         "type": "scatter",
         "x": [
          0,
          0.7747086067881241,
          0.7747086067881241,
          0
         ],
         "xaxis": "x",
         "y": [
          -345,
          -345,
          -355,
          -355
         ],
         "yaxis": "y"
        },
        {
         "hoverinfo": "text",
         "marker": {
          "color": "rgb(61,153,112)"
         },
         "mode": "lines",
         "text": [
          "caesar_camp_legions_labienus_day",
          "",
          "",
          "men_camp_enemy_woods_night"
         ],
         "type": "scatter",
         "x": [
          0,
          0.5753325301861169,
          0.5753325301861169,
          0
         ],
         "xaxis": "x",
         "y": [
          -385,
          -385,
          -395,
          -395
         ],
         "yaxis": "y"
        },
        {
         "hoverinfo": "text",
         "marker": {
          "color": "rgb(61,153,112)"
         },
         "mode": "lines",
         "text": [
          "horse_horses_cavalry_men_curio",
          "",
          "",
          "caesar_camp_legions_men_enemy"
         ],
         "type": "scatter",
         "x": [
          0,
          0.6325197753822549,
          0.6325197753822549,
          0.5753325301861169
         ],
         "xaxis": "x",
         "y": [
          -375,
          -375,
          -390,
          -390
         ],
         "yaxis": "y"
        },
        {
         "hoverinfo": "text",
         "marker": {
          "color": "rgb(61,153,112)"
         },
         "mode": "lines",
         "text": [
          "horse_caesar_camp_men_legions",
          "",
          "",
          "pompey_dyrrachium_pompeys_camp_cohorts"
         ],
         "type": "scatter",
         "x": [
          0.6325197753822549,
          0.7334773689607363,
          0.7334773689607363,
          0
         ],
         "xaxis": "x",
         "y": [
          -382.5,
          -382.5,
          -405,
          -405
         ],
         "yaxis": "y"
        },
        {
         "hoverinfo": "text",
         "marker": {
          "color": "rgb(61,153,112)"
         },
         "mode": "lines",
         "text": [
          "soldiers_sight_exhorted_men_happened",
          "",
          "",
          "horse_camp_caesar_men_legions"
         ],
         "type": "scatter",
         "x": [
          0,
          0.8206539821570135,
          0.8206539821570135,
          0.7334773689607363
         ],
         "xaxis": "x",
         "y": [
          -365,
          -365,
          -393.75,
          -393.75
         ],
         "yaxis": "y"
        },
        {
         "hoverinfo": "text",
         "marker": {
          "color": "rgb(61,153,112)"
         },
         "mode": "lines",
         "text": [
          "corn_cattle_supply_want_country",
          "",
          "",
          "romans_scarce_withstand_suevi_forage"
         ],
         "type": "scatter",
         "x": [
          0,
          0.8223984176456707,
          0.8223984176456707,
          0
         ],
         "xaxis": "x",
         "y": [
          -415,
          -415,
          -425,
          -425
         ],
         "yaxis": "y"
        },
        {
         "hoverinfo": "text",
         "marker": {
          "color": "rgb(61,153,112)"
         },
         "mode": "lines",
         "text": [
          "horse_camp_caesar_men_legions",
          "",
          "",
          "corn_cattle_supply_want_provisions"
         ],
         "type": "scatter",
         "x": [
          0.8206539821570135,
          0.9881005739612201,
          0.9881005739612201,
          0.8223984176456707
         ],
         "xaxis": "x",
         "y": [
          -379.375,
          -379.375,
          -420,
          -420
         ],
         "yaxis": "y"
        },
        {
         "hoverinfo": "text",
         "marker": {
          "color": "rgb(61,153,112)"
         },
         "mode": "lines",
         "text": [
          "wall_mound_engines_towers_walls",
          "",
          "",
          "horse_camp_corn_caesar_men"
         ],
         "type": "scatter",
         "x": [
          0.7747086067881241,
          0.989925904396913,
          0.989925904396913,
          0.9881005739612201
         ],
         "xaxis": "x",
         "y": [
          -350,
          -350,
          -399.6875,
          -399.6875
         ],
         "yaxis": "y"
        },
        {
         "hoverinfo": "text",
         "marker": {
          "color": "rgb(255,65,54)"
         },
         "mode": "lines",
         "text": [
          "pompey_senate_pompeys_caesar_authority",
          "",
          "",
          "caesar_caesars_roman_rome_senate"
         ],
         "type": "scatter",
         "x": [
          0,
          0.6438475254698106,
          0.6438475254698106,
          0
         ],
         "xaxis": "x",
         "y": [
          -435,
          -435,
          -445,
          -445
         ],
         "yaxis": "y"
        },
        {
         "hoverinfo": "text",
         "marker": {
          "color": "rgb(255,65,54)"
         },
         "mode": "lines",
         "text": [
          "gaul_gauls_roman_states_people",
          "",
          "",
          "gaul_caesar_gauls_roman_territories"
         ],
         "type": "scatter",
         "x": [
          0,
          0.616803019904687,
          0.616803019904687,
          0
         ],
         "xaxis": "x",
         "y": [
          -455,
          -455,
          -465,
          -465
         ],
         "yaxis": "y"
        },
        {
         "hoverinfo": "text",
         "marker": {
          "color": "rgb(255,65,54)"
         },
         "mode": "lines",
         "text": [
          "gaul_gauls_roman_caesar_ambassadors",
          "",
          "",
          "hostages_ambassadors_caesar_arms_demands"
         ],
         "type": "scatter",
         "x": [
          0.616803019904687,
          0.8221520877825902,
          0.8221520877825902,
          0
         ],
         "xaxis": "x",
         "y": [
          -460,
          -460,
          -475,
          -475
         ],
         "yaxis": "y"
        },
        {
         "hoverinfo": "text",
         "marker": {
          "color": "rgb(255,65,54)"
         },
         "mode": "lines",
         "text": [
          "caesar_caesars_senate_roman_rome",
          "",
          "",
          "gaul_hostages_gauls_ambassadors_caesar"
         ],
         "type": "scatter",
         "x": [
          0.6438475254698106,
          0.9054568291821544,
          0.9054568291821544,
          0.8221520877825902
         ],
         "xaxis": "x",
         "y": [
          -440,
          -440,
          -467.5,
          -467.5
         ],
         "yaxis": "y"
        },
        {
         "hoverinfo": "text",
         "marker": {
          "color": "rgb(0,116,217)"
         },
         "mode": "lines",
         "text": [
          "wall_horse_camp_men_caesar",
          "",
          "",
          "caesar_gaul_roman_caesars_hostages"
         ],
         "type": "scatter",
         "x": [
          0.989925904396913,
          1.23760896867792,
          1.23760896867792,
          0.9054568291821544
         ],
         "xaxis": "x",
         "y": [
          -374.84375,
          -374.84375,
          -453.75,
          -453.75
         ],
         "yaxis": "y"
        },
        {
         "hoverinfo": "text",
         "marker": {
          "color": "rgb(0,116,217)"
         },
         "mode": "lines",
         "text": [
          "alexander_cavalry_darius_macedonians_infantry",
          "",
          "",
          "caesar_wall_men_horse_camp"
         ],
         "type": "scatter",
         "x": [
          1.157883932740695,
          1.505904436575794,
          1.505904436575794,
          1.23760896867792
         ],
         "xaxis": "x",
         "y": [
          -291.875,
          -291.875,
          -414.296875,
          -414.296875
         ],
         "yaxis": "y"
        },
        {
         "hoverinfo": "text",
         "marker": {
          "color": "rgb(35,205,205)"
         },
         "mode": "lines",
         "text": [
          "hannibal_carthaginians_italy_roman_carthage",
          "",
          "",
          "thousand_hundred_turks_vessels_men"
         ],
         "type": "scatter",
         "x": [
          0,
          0.7875713007130316,
          0.7875713007130316,
          0
         ],
         "xaxis": "x",
         "y": [
          -485,
          -485,
          -495,
          -495
         ],
         "yaxis": "y"
        },
        {
         "hoverinfo": "text",
         "marker": {
          "color": "rgb(35,205,205)"
         },
         "mode": "lines",
         "text": [
          "french_english_england_france_ships",
          "",
          "",
          "athenians_lacedaemonians_athens_athenian_allies"
         ],
         "type": "scatter",
         "x": [
          0,
          0.5728552010808295,
          0.5728552010808295,
          0
         ],
         "xaxis": "x",
         "y": [
          -505,
          -505,
          -515,
          -515
         ],
         "yaxis": "y"
        },
        {
         "hoverinfo": "text",
         "marker": {
          "color": "rgb(35,205,205)"
         },
         "mode": "lines",
         "text": [
          "ships_athenians_french_english_sea",
          "",
          "",
          "confederacy_slavery_entered_democracy_slaves"
         ],
         "type": "scatter",
         "x": [
          0.5728552010808295,
          0.7856192375795221,
          0.7856192375795221,
          0
         ],
         "xaxis": "x",
         "y": [
          -510,
          -510,
          -525,
          -525
         ],
         "yaxis": "y"
        },
        {
         "hoverinfo": "text",
         "marker": {
          "color": "rgb(35,205,205)"
         },
         "mode": "lines",
         "text": [
          "thousand_hannibal_hundred_carthaginians_italy",
          "",
          "",
          "ships_athenians_french_english_sea"
         ],
         "type": "scatter",
         "x": [
          0.7875713007130316,
          0.9154613735644068,
          0.9154613735644068,
          0.7856192375795221
         ],
         "xaxis": "x",
         "y": [
          -490,
          -490,
          -517.5,
          -517.5
         ],
         "yaxis": "y"
        },
        {
         "hoverinfo": "text",
         "marker": {
          "color": "rgb(133,20,75)"
         },
         "mode": "lines",
         "text": [
          "us_treaty_agreement_arbitration_negotiation",
          "",
          "",
          "alliance_refusing_join_us_corcyra"
         ],
         "type": "scatter",
         "x": [
          0,
          0.8017869646253514,
          0.8017869646253514,
          0
         ],
         "xaxis": "x",
         "y": [
          -535,
          -535,
          -545,
          -545
         ],
         "yaxis": "y"
        },
        {
         "hoverinfo": "text",
         "marker": {
          "color": "rgb(255,220,0)"
         },
         "mode": "lines",
         "text": [
          "children_women_daughter_mother_young",
          "",
          "",
          "coffin_tomb_funeral_dead_bones"
         ],
         "type": "scatter",
         "x": [
          0,
          0.843957871890666,
          0.843957871890666,
          0
         ],
         "xaxis": "x",
         "y": [
          -555,
          -555,
          -565,
          -565
         ],
         "yaxis": "y"
        },
        {
         "hoverinfo": "text",
         "marker": {
          "color": "rgb(255,220,0)"
         },
         "mode": "lines",
         "text": [
          "coffin_tomb_children_funeral_fathers",
          "",
          "",
          "arms_clemency_mercy_punishment_used"
         ],
         "type": "scatter",
         "x": [
          0.843957871890666,
          0.9435978017676642,
          0.9435978017676642,
          0
         ],
         "xaxis": "x",
         "y": [
          -560,
          -560,
          -575,
          -575
         ],
         "yaxis": "y"
        },
        {
         "hoverinfo": "text",
         "marker": {
          "color": "rgb(0,116,217)"
         },
         "mode": "lines",
         "text": [
          "us_treaty_agreement_arbitration_alliance",
          "",
          "",
          "coffin_tomb_children_funeral_fathers"
         ],
         "type": "scatter",
         "x": [
          0.8017869646253514,
          1.0176869354621398,
          1.0176869354621398,
          0.9435978017676642
         ],
         "xaxis": "x",
         "y": [
          -540,
          -540,
          -567.5,
          -567.5
         ],
         "yaxis": "y"
        },
        {
         "hoverinfo": "text",
         "marker": {
          "color": "rgb(0,116,217)"
         },
         "mode": "lines",
         "text": [
          "ships_athenians_french_english_sea",
          "",
          "",
          "coffin_tomb_us_treaty_children"
         ],
         "type": "scatter",
         "x": [
          0.9154613735644068,
          1.0548107217876281,
          1.0548107217876281,
          1.0176869354621398
         ],
         "xaxis": "x",
         "y": [
          -503.75,
          -503.75,
          -553.75,
          -553.75
         ],
         "yaxis": "y"
        },
        {
         "hoverinfo": "text",
         "marker": {
          "color": "rgb(40,35,35)"
         },
         "mode": "lines",
         "text": [
          "bath_fever_night_day_medius",
          "",
          "",
          "night_combat_darkness_combats_day"
         ],
         "type": "scatter",
         "x": [
          0,
          0.8359862903418674,
          0.8359862903418674,
          0
         ],
         "xaxis": "x",
         "y": [
          -585,
          -585,
          -595,
          -595
         ],
         "yaxis": "y"
        },
        {
         "hoverinfo": "text",
         "marker": {
          "color": "rgb(61,153,112)"
         },
         "mode": "lines",
         "text": [
          "spies_spy_converted_information_tu",
          "",
          "",
          "sun_wu_tz_chi_yu"
         ],
         "type": "scatter",
         "x": [
          0,
          0.8268951431638951,
          0.8268951431638951,
          0
         ],
         "xaxis": "x",
         "y": [
          -605,
          -605,
          -615,
          -615
         ],
         "yaxis": "y"
        },
        {
         "hoverinfo": "text",
         "marker": {
          "color": "rgb(61,153,112)"
         },
         "mode": "lines",
         "text": [
          "sun_wu_tz_chi_yu",
          "",
          "",
          "chariots_chariot_charioteers_swift_olympic"
         ],
         "type": "scatter",
         "x": [
          0.8268951431638951,
          0.9771186720339629,
          0.9771186720339629,
          0
         ],
         "xaxis": "x",
         "y": [
          -610,
          -610,
          -625,
          -625
         ],
         "yaxis": "y"
        },
        {
         "hoverinfo": "text",
         "marker": {
          "color": "rgb(0,116,217)"
         },
         "mode": "lines",
         "text": [
          "night_day_bath_fever_combat",
          "",
          "",
          "sun_wu_tz_yu_chi"
         ],
         "type": "scatter",
         "x": [
          0.8359862903418674,
          1.0507530826506275,
          1.0507530826506275,
          0.9771186720339629
         ],
         "xaxis": "x",
         "y": [
          -590,
          -590,
          -617.5,
          -617.5
         ],
         "yaxis": "y"
        },
        {
         "hoverinfo": "text",
         "marker": {
          "color": "rgb(0,116,217)"
         },
         "mode": "lines",
         "text": [
          "ships_athenians_french_english_sea",
          "",
          "",
          "sun_wu_tz_yu_chi"
         ],
         "type": "scatter",
         "x": [
          1.0548107217876281,
          1.113074212528245,
          1.113074212528245,
          1.0507530826506275
         ],
         "xaxis": "x",
         "y": [
          -528.75,
          -528.75,
          -603.75,
          -603.75
         ],
         "yaxis": "y"
        },
        {
         "hoverinfo": "text",
         "marker": {
          "color": "rgb(255,65,54)"
         },
         "mode": "lines",
         "text": [
          "object_war_destruction_therefore_political",
          "",
          "",
          "theory_mind_must_us_may"
         ],
         "type": "scatter",
         "x": [
          0,
          0.45365491418596626,
          0.45365491418596626,
          0
         ],
         "xaxis": "x",
         "y": [
          -645,
          -645,
          -655,
          -655
         ],
         "yaxis": "y"
        },
        {
         "hoverinfo": "text",
         "marker": {
          "color": "rgb(255,65,54)"
         },
         "mode": "lines",
         "text": [
          "operations_lines_strategic_line_point",
          "",
          "",
          "theory_object_therefore_must_war"
         ],
         "type": "scatter",
         "x": [
          0,
          0.5569714934597895,
          0.5569714934597895,
          0.45365491418596626
         ],
         "xaxis": "x",
         "y": [
          -635,
          -635,
          -650,
          -650
         ],
         "yaxis": "y"
        },
        {
         "hoverinfo": "text",
         "marker": {
          "color": "rgb(255,65,54)"
         },
         "mode": "lines",
         "text": [
          "may_therefore_operations_must_object",
          "",
          "",
          "military_generals_general_spirit_virtue"
         ],
         "type": "scatter",
         "x": [
          0.5569714934597895,
          0.6272688214011345,
          0.6272688214011345,
          0
         ],
         "xaxis": "x",
         "y": [
          -642.5,
          -642.5,
          -665,
          -665
         ],
         "yaxis": "y"
        },
        {
         "hoverinfo": "text",
         "marker": {
          "color": "rgb(0,116,217)"
         },
         "mode": "lines",
         "text": [
          "ships_athenians_french_english_sea",
          "",
          "",
          "may_therefore_must_operations_object"
         ],
         "type": "scatter",
         "x": [
          1.113074212528245,
          1.1450122915911825,
          1.1450122915911825,
          0.6272688214011345
         ],
         "xaxis": "x",
         "y": [
          -566.25,
          -566.25,
          -653.75,
          -653.75
         ],
         "yaxis": "y"
        },
        {
         "hoverinfo": "text",
         "marker": {
          "color": "rgb(35,205,205)"
         },
         "mode": "lines",
         "text": [
          "napoleon_napoleons_battle_order_bonaparte",
          "",
          "",
          "napoleon_line_lines_operations_strategic"
         ],
         "type": "scatter",
         "x": [
          0,
          0.5805961829213114,
          0.5805961829213114,
          0
         ],
         "xaxis": "x",
         "y": [
          -695,
          -695,
          -705,
          -705
         ],
         "yaxis": "y"
        },
        {
         "hoverinfo": "text",
         "marker": {
          "color": "rgb(35,205,205)"
         },
         "mode": "lines",
         "text": [
          "rhine_archduke_austrians_austrian_danube",
          "",
          "",
          "napoleon_napoleons_battle_line_order"
         ],
         "type": "scatter",
         "x": [
          0,
          0.7077049082844433,
          0.7077049082844433,
          0.5805961829213114
         ],
         "xaxis": "x",
         "y": [
          -685,
          -685,
          -700,
          -700
         ],
         "yaxis": "y"
        },
        {
         "hoverinfo": "text",
         "marker": {
          "color": "rgb(35,205,205)"
         },
         "mode": "lines",
         "text": [
          "moscow_russian_buonaparte_frederick_russians",
          "",
          "",
          "napoleon_napoleons_rhine_austrians_archduke"
         ],
         "type": "scatter",
         "x": [
          0,
          0.8989917412489644,
          0.8989917412489644,
          0.7077049082844433
         ],
         "xaxis": "x",
         "y": [
          -675,
          -675,
          -692.5,
          -692.5
         ],
         "yaxis": "y"
        },
        {
         "hoverinfo": "text",
         "marker": {
          "color": "rgb(61,153,112)"
         },
         "mode": "lines",
         "text": [
          "clausewitz_von_carl_general_yorks",
          "",
          "",
          "footnote_footnotes_deficit_refer_treated"
         ],
         "type": "scatter",
         "x": [
          0,
          0.9755879639844766,
          0.9755879639844766,
          0
         ],
         "xaxis": "x",
         "y": [
          -715,
          -715,
          -725,
          -725
         ],
         "yaxis": "y"
        },
        {
         "hoverinfo": "text",
         "marker": {
          "color": "rgb(61,153,112)"
         },
         "mode": "lines",
         "text": [
          "detachments_army_depots_duty_may",
          "",
          "",
          "diversions_detachments_operations_zone_large"
         ],
         "type": "scatter",
         "x": [
          0,
          0.7841050338390855,
          0.7841050338390855,
          0
         ],
         "xaxis": "x",
         "y": [
          -735,
          -735,
          -745,
          -745
         ],
         "yaxis": "y"
        },
        {
         "hoverinfo": "text",
         "marker": {
          "color": "rgb(61,153,112)"
         },
         "mode": "lines",
         "text": [
          "footnote_clausewitz_footnotes_von_general",
          "",
          "",
          "detachments_diversions_army_operations_corps"
         ],
         "type": "scatter",
         "x": [
          0.9755879639844766,
          0.9929843442211056,
          0.9929843442211056,
          0.7841050338390855
         ],
         "xaxis": "x",
         "y": [
          -720,
          -720,
          -740,
          -740
         ],
         "yaxis": "y"
        },
        {
         "hoverinfo": "text",
         "marker": {
          "color": "rgb(255,65,54)"
         },
         "mode": "lines",
         "text": [
          "towers_redoubts_tetes_banks_bridge",
          "",
          "",
          "camps_intrenched_tetes_ponts_connection"
         ],
         "type": "scatter",
         "x": [
          0,
          0.8460808376652564,
          0.8460808376652564,
          0
         ],
         "xaxis": "x",
         "y": [
          -755,
          -755,
          -765,
          -765
         ],
         "yaxis": "y"
        },
        {
         "hoverinfo": "text",
         "marker": {
          "color": "rgb(255,65,54)"
         },
         "mode": "lines",
         "text": [
          "camps_intrenched_tetes_de_camp",
          "",
          "",
          "mountainous_countries_mountains_valleys_plains"
         ],
         "type": "scatter",
         "x": [
          0.8460808376652564,
          0.9176676824843365,
          0.9176676824843365,
          0
         ],
         "xaxis": "x",
         "y": [
          -760,
          -760,
          -775,
          -775
         ],
         "yaxis": "y"
        },
        {
         "hoverinfo": "text",
         "marker": {
          "color": "rgb(0,116,217)"
         },
         "mode": "lines",
         "text": [
          "detachments_footnote_diversions_army_clausewitz",
          "",
          "",
          "camps_intrenched_mountainous_tetes_countries"
         ],
         "type": "scatter",
         "x": [
          0.9929843442211056,
          1.0214951260296399,
          1.0214951260296399,
          0.9176676824843365
         ],
         "xaxis": "x",
         "y": [
          -730,
          -730,
          -767.5,
          -767.5
         ],
         "yaxis": "y"
        },
        {
         "hoverinfo": "text",
         "marker": {
          "color": "rgb(0,116,217)"
         },
         "mode": "lines",
         "text": [
          "napoleon_napoleons_rhine_army_austrians",
          "",
          "",
          "camps_intrenched_detachments_mountainous_army"
         ],
         "type": "scatter",
         "x": [
          0.8989917412489644,
          1.0774630997978323,
          1.0774630997978323,
          1.0214951260296399
         ],
         "xaxis": "x",
         "y": [
          -683.75,
          -683.75,
          -748.75,
          -748.75
         ],
         "yaxis": "y"
        },
        {
         "hoverinfo": "text",
         "marker": {
          "color": "rgb(35,205,205)"
         },
         "mode": "lines",
         "text": [
          "intervention_wars_interferes_state_kinds",
          "",
          "",
          "wars_intestine_religion_dogmas_religious"
         ],
         "type": "scatter",
         "x": [
          0,
          0.652535821623477,
          0.652535821623477,
          0
         ],
         "xaxis": "x",
         "y": [
          -795,
          -795,
          -805,
          -805
         ],
         "yaxis": "y"
        },
        {
         "hoverinfo": "text",
         "marker": {
          "color": "rgb(35,205,205)"
         },
         "mode": "lines",
         "text": [
          "invasions_distant_invasion_wars_diplomacy",
          "",
          "",
          "wars_intervention_interferes_intestine_religion"
         ],
         "type": "scatter",
         "x": [
          0,
          0.8565624489320465,
          0.8565624489320465,
          0.652535821623477
         ],
         "xaxis": "x",
         "y": [
          -785,
          -785,
          -800,
          -800
         ],
         "yaxis": "y"
        },
        {
         "hoverinfo": "text",
         "marker": {
          "color": "rgb(35,205,205)"
         },
         "mode": "lines",
         "text": [
          "wars_invasions_intervention_invasion_distant",
          "",
          "",
          "art_les_war_summary_military"
         ],
         "type": "scatter",
         "x": [
          0.8565624489320465,
          0.954700633988636,
          0.954700633988636,
          0
         ],
         "xaxis": "x",
         "y": [
          -792.5,
          -792.5,
          -815,
          -815
         ],
         "yaxis": "y"
        },
        {
         "hoverinfo": "text",
         "marker": {
          "color": "rgb(0,116,217)"
         },
         "mode": "lines",
         "text": [
          "napoleon_army_camps_napoleons_rhine",
          "",
          "",
          "wars_intervention_invasions_art_war"
         ],
         "type": "scatter",
         "x": [
          1.0774630997978323,
          1.2790360853317921,
          1.2790360853317921,
          0.954700633988636
         ],
         "xaxis": "x",
         "y": [
          -716.25,
          -716.25,
          -803.75,
          -803.75
         ],
         "yaxis": "y"
        },
        {
         "hoverinfo": "text",
         "marker": {
          "color": "rgb(0,116,217)"
         },
         "mode": "lines",
         "text": [
          "ships_athenians_french_war_english",
          "",
          "",
          "napoleon_army_camps_napoleons_wars"
         ],
         "type": "scatter",
         "x": [
          1.1450122915911825,
          1.3069142785873067,
          1.3069142785873067,
          1.2790360853317921
         ],
         "xaxis": "x",
         "y": [
          -610,
          -610,
          -760,
          -760
         ],
         "yaxis": "y"
        },
        {
         "hoverinfo": "text",
         "marker": {
          "color": "rgb(0,116,217)"
         },
         "mode": "lines",
         "text": [
          "cavalry_alexander_caesar_men_darius",
          "",
          "",
          "ships_french_war_athenians_upon"
         ],
         "type": "scatter",
         "x": [
          1.505904436575794,
          1.5556967621484965,
          1.5556967621484965,
          1.3069142785873067
         ],
         "xaxis": "x",
         "y": [
          -353.0859375,
          -353.0859375,
          -685,
          -685
         ],
         "yaxis": "y"
        },
        {
         "hoverinfo": "text",
         "marker": {
          "color": "rgb(0,116,217)"
         },
         "mode": "lines",
         "text": [
          "river_called_indus_cf_ancient",
          "",
          "",
          "ships_upon_war_french_athenians"
         ],
         "type": "scatter",
         "x": [
          1.3838453482498645,
          1.7049494035973745,
          1.7049494035973745,
          1.5556967621484965
         ],
         "xaxis": "x",
         "y": [
          -163.7109375,
          -163.7109375,
          -519.04296875,
          -519.04296875
         ],
         "yaxis": "y"
        },
        {
         "hoverinfo": "text",
         "hovertext": [
          "viceroy_appointed_spitamenes_sogdiana_areians",
          "llllllllllllll_lllllllllllll_cbl_ch_cush",
          "viceroy_siege_appointed_spitamenes_sogdiana",
          "arrian_cf_herodotus_homer_see",
          "division_st_corps_fig_illustration",
          "macedonia_city_italy_ancient_hispania",
          "river_indus_called_rivers_name",
          "rhine_germans_treviri_territories_lacus",
          "city_macedonia_italy_called_ancient",
          "arrian_cf_division_viceroy_st",
          "ancient_people_germany_gallia_gaul",
          "river_called_indus_cf_arrian",
          "cavalry_divisions_battalions_columns_infantry",
          "darius_alexander_persians_alexanders_king",
          "macedonians_alexander_phalanx_city_wall",
          "cavalry_divisions_battalions_columns_infantry",
          "horse_caesar_camp_men_legions",
          "horse_camp_caesar_men_legions",
          "wall_mound_engines_towers_walls",
          "gaul_gauls_roman_caesar_ambassadors",
          "caesar_caesars_senate_roman_rome",
          "wall_horse_camp_men_caesar",
          "alexander_cavalry_darius_macedonians_infantry",
          "ships_athenians_french_english_sea",
          "thousand_hannibal_hundred_carthaginians_italy",
          "coffin_tomb_children_funeral_fathers",
          "us_treaty_agreement_arbitration_alliance",
          "ships_athenians_french_english_sea",
          "sun_wu_tz_chi_yu",
          "night_day_bath_fever_combat",
          "ships_athenians_french_english_sea",
          "may_therefore_operations_must_object",
          "ships_athenians_french_english_sea",
          "footnote_clausewitz_footnotes_von_general",
          "camps_intrenched_tetes_de_camp",
          "detachments_footnote_diversions_army_clausewitz",
          "napoleon_napoleons_rhine_army_austrians",
          "wars_invasions_intervention_invasion_distant",
          "napoleon_army_camps_napoleons_rhine",
          "ships_athenians_french_war_english",
          "cavalry_alexander_caesar_men_darius",
          "river_called_indus_cf_ancient"
         ],
         "marker": {
          "color": "black"
         },
         "mode": "markers",
         "showlegend": false,
         "type": "scatter",
         "x": [
          0.907062993971404,
          1,
          0.9997463701759296,
          0.9655520343840589,
          0.8528458057110015,
          0.8491034312744054,
          0.7710486028885928,
          0.8000503148501327,
          0.9520794817698085,
          1.1276444582769847,
          0.5583906872502071,
          1.17965624066703,
          0.7041744256390703,
          0.7003435661869362,
          0.5997303851511251,
          0.9305408689312614,
          0.6325197753822549,
          0.8206539821570135,
          0.7747086067881241,
          0.616803019904687,
          0.6438475254698106,
          0.989925904396913,
          1.157883932740695,
          0.5728552010808295,
          0.7875713007130316,
          0.843957871890666,
          0.8017869646253514,
          0.9154613735644068,
          0.8268951431638951,
          0.8359862903418674,
          1.0548107217876281,
          0.5569714934597895,
          1.113074212528245,
          0.9755879639844766,
          0.8460808376652564,
          0.9929843442211056,
          0.8989917412489644,
          0.8565624489320465,
          1.0774630997978323,
          1.1450122915911825,
          1.505904436575794,
          1.3838453482498645
         ],
         "y": [
          -70,
          -100,
          -66.25,
          -32.5,
          -10,
          -140,
          -190,
          -170,
          -136.25,
          -34.84375,
          -220,
          -97.421875,
          -260,
          -320,
          -300,
          -270,
          -382.5,
          -379.375,
          -350,
          -460,
          -440,
          -374.84375,
          -291.875,
          -510,
          -490,
          -560,
          -540,
          -503.75,
          -610,
          -590,
          -528.75,
          -642.5,
          -566.25,
          -720,
          -760,
          -730,
          -683.75,
          -792.5,
          -716.25,
          -610,
          -353.0859375,
          -163.7109375
         ]
        },
        {
         "hoverinfo": "text",
         "hovertext": [
          "arrian_cf_herodotus_homer_xenophon",
          "viceroy_appointed_spitamenes_sogdiana_stasanor",
          "llllllllllllll_lllllllllllll_cbl_ch_cush",
          "viceroy_siege_appointed_spitamenes_sogdiana",
          "arrian_cf_viceroy_herodotus_see",
          "city_macedonia_italy_ancient_town",
          "river_indus_called_rivers_name",
          "river_indus_called_rivers_name",
          "river_indus_called_rivers_name",
          "gaul_people_caesar_ancient_ibid",
          "ancient_people_gaul_germany_gallia",
          "cavalry_son_shieldbearing_agrianians_guards",
          "darius_alexander_persians_alexanders_king",
          "alexander_darius_macedonians_persians_alexanders",
          "caesar_camp_legions_men_enemy",
          "horse_camp_caesar_men_legions",
          "corn_cattle_supply_want_provisions",
          "horse_camp_corn_caesar_men",
          "gaul_hostages_gauls_ambassadors_caesar",
          "caesar_gaul_roman_caesars_hostages",
          "caesar_wall_men_horse_camp",
          "ships_athenians_french_english_sea",
          "coffin_tomb_children_funeral_fathers",
          "coffin_tomb_us_treaty_children",
          "sun_wu_tz_yu_chi",
          "sun_wu_tz_yu_chi",
          "theory_object_therefore_must_war",
          "may_therefore_must_operations_object",
          "napoleon_napoleons_battle_line_order",
          "napoleon_napoleons_rhine_austrians_archduke",
          "detachments_diversions_army_operations_corps",
          "camps_intrenched_mountainous_tetes_countries",
          "camps_intrenched_detachments_mountainous_army",
          "wars_intervention_interferes_intestine_religion",
          "wars_intervention_invasions_art_war",
          "napoleon_army_camps_napoleons_wars",
          "ships_french_war_athenians_upon",
          "ships_upon_war_french_athenians"
         ],
         "marker": {
          "color": "black"
         },
         "mode": "markers",
         "showlegend": false,
         "type": "scatter",
         "x": [
          0.8581246260456947,
          0.9824599251752864,
          1,
          1.0437634372542146,
          1.0635731105021564,
          0.9231461680587236,
          0.9668938198351351,
          1.0214415409809012,
          1.0911311104276147,
          0.6593133926147094,
          0.824152501696983,
          0.6075254898441926,
          0.773602543831444,
          0.8535633177111905,
          0.5753325301861169,
          0.7334773689607363,
          0.8223984176456707,
          0.9881005739612201,
          0.8221520877825902,
          0.9054568291821544,
          1.23760896867792,
          0.7856192375795221,
          0.9435978017676642,
          1.0176869354621398,
          0.9771186720339629,
          1.0507530826506275,
          0.45365491418596626,
          0.6272688214011345,
          0.5805961829213114,
          0.7077049082844433,
          0.7841050338390855,
          0.9176676824843365,
          1.0214951260296399,
          0.652535821623477,
          0.954700633988636,
          1.2790360853317921,
          1.3069142785873067,
          1.5556967621484965
         ],
         "y": [
          -40,
          -77.5,
          -107.5,
          -86.875,
          -59.6875,
          -147.5,
          -197.5,
          -183.75,
          -160,
          -240,
          -230,
          -280,
          -327.5,
          -313.75,
          -390,
          -393.75,
          -420,
          -399.6875,
          -467.5,
          -453.75,
          -414.296875,
          -517.5,
          -567.5,
          -553.75,
          -617.5,
          -603.75,
          -650,
          -653.75,
          -700,
          -692.5,
          -740,
          -767.5,
          -748.75,
          -800,
          -803.75,
          -760,
          -685,
          -519.04296875
         ]
        }
       ],
       "layout": {
        "autosize": false,
        "height": 1430,
        "hoverlabel": {
         "bgcolor": "white",
         "font": {
          "family": "Rockwell",
          "size": 16
         }
        },
        "hovermode": "closest",
        "plot_bgcolor": "#ECEFF1",
        "showlegend": false,
        "template": {
         "data": {
          "bar": [
           {
            "error_x": {
             "color": "#2a3f5f"
            },
            "error_y": {
             "color": "#2a3f5f"
            },
            "marker": {
             "line": {
              "color": "white",
              "width": 0.5
             },
             "pattern": {
              "fillmode": "overlay",
              "size": 10,
              "solidity": 0.2
             }
            },
            "type": "bar"
           }
          ],
          "barpolar": [
           {
            "marker": {
             "line": {
              "color": "white",
              "width": 0.5
             },
             "pattern": {
              "fillmode": "overlay",
              "size": 10,
              "solidity": 0.2
             }
            },
            "type": "barpolar"
           }
          ],
          "carpet": [
           {
            "aaxis": {
             "endlinecolor": "#2a3f5f",
             "gridcolor": "#C8D4E3",
             "linecolor": "#C8D4E3",
             "minorgridcolor": "#C8D4E3",
             "startlinecolor": "#2a3f5f"
            },
            "baxis": {
             "endlinecolor": "#2a3f5f",
             "gridcolor": "#C8D4E3",
             "linecolor": "#C8D4E3",
             "minorgridcolor": "#C8D4E3",
             "startlinecolor": "#2a3f5f"
            },
            "type": "carpet"
           }
          ],
          "choropleth": [
           {
            "colorbar": {
             "outlinewidth": 0,
             "ticks": ""
            },
            "type": "choropleth"
           }
          ],
          "contour": [
           {
            "colorbar": {
             "outlinewidth": 0,
             "ticks": ""
            },
            "colorscale": [
             [
              0,
              "#0d0887"
             ],
             [
              0.1111111111111111,
              "#46039f"
             ],
             [
              0.2222222222222222,
              "#7201a8"
             ],
             [
              0.3333333333333333,
              "#9c179e"
             ],
             [
              0.4444444444444444,
              "#bd3786"
             ],
             [
              0.5555555555555556,
              "#d8576b"
             ],
             [
              0.6666666666666666,
              "#ed7953"
             ],
             [
              0.7777777777777778,
              "#fb9f3a"
             ],
             [
              0.8888888888888888,
              "#fdca26"
             ],
             [
              1,
              "#f0f921"
             ]
            ],
            "type": "contour"
           }
          ],
          "contourcarpet": [
           {
            "colorbar": {
             "outlinewidth": 0,
             "ticks": ""
            },
            "type": "contourcarpet"
           }
          ],
          "heatmap": [
           {
            "colorbar": {
             "outlinewidth": 0,
             "ticks": ""
            },
            "colorscale": [
             [
              0,
              "#0d0887"
             ],
             [
              0.1111111111111111,
              "#46039f"
             ],
             [
              0.2222222222222222,
              "#7201a8"
             ],
             [
              0.3333333333333333,
              "#9c179e"
             ],
             [
              0.4444444444444444,
              "#bd3786"
             ],
             [
              0.5555555555555556,
              "#d8576b"
             ],
             [
              0.6666666666666666,
              "#ed7953"
             ],
             [
              0.7777777777777778,
              "#fb9f3a"
             ],
             [
              0.8888888888888888,
              "#fdca26"
             ],
             [
              1,
              "#f0f921"
             ]
            ],
            "type": "heatmap"
           }
          ],
          "heatmapgl": [
           {
            "colorbar": {
             "outlinewidth": 0,
             "ticks": ""
            },
            "colorscale": [
             [
              0,
              "#0d0887"
             ],
             [
              0.1111111111111111,
              "#46039f"
             ],
             [
              0.2222222222222222,
              "#7201a8"
             ],
             [
              0.3333333333333333,
              "#9c179e"
             ],
             [
              0.4444444444444444,
              "#bd3786"
             ],
             [
              0.5555555555555556,
              "#d8576b"
             ],
             [
              0.6666666666666666,
              "#ed7953"
             ],
             [
              0.7777777777777778,
              "#fb9f3a"
             ],
             [
              0.8888888888888888,
              "#fdca26"
             ],
             [
              1,
              "#f0f921"
             ]
            ],
            "type": "heatmapgl"
           }
          ],
          "histogram": [
           {
            "marker": {
             "pattern": {
              "fillmode": "overlay",
              "size": 10,
              "solidity": 0.2
             }
            },
            "type": "histogram"
           }
          ],
          "histogram2d": [
           {
            "colorbar": {
             "outlinewidth": 0,
             "ticks": ""
            },
            "colorscale": [
             [
              0,
              "#0d0887"
             ],
             [
              0.1111111111111111,
              "#46039f"
             ],
             [
              0.2222222222222222,
              "#7201a8"
             ],
             [
              0.3333333333333333,
              "#9c179e"
             ],
             [
              0.4444444444444444,
              "#bd3786"
             ],
             [
              0.5555555555555556,
              "#d8576b"
             ],
             [
              0.6666666666666666,
              "#ed7953"
             ],
             [
              0.7777777777777778,
              "#fb9f3a"
             ],
             [
              0.8888888888888888,
              "#fdca26"
             ],
             [
              1,
              "#f0f921"
             ]
            ],
            "type": "histogram2d"
           }
          ],
          "histogram2dcontour": [
           {
            "colorbar": {
             "outlinewidth": 0,
             "ticks": ""
            },
            "colorscale": [
             [
              0,
              "#0d0887"
             ],
             [
              0.1111111111111111,
              "#46039f"
             ],
             [
              0.2222222222222222,
              "#7201a8"
             ],
             [
              0.3333333333333333,
              "#9c179e"
             ],
             [
              0.4444444444444444,
              "#bd3786"
             ],
             [
              0.5555555555555556,
              "#d8576b"
             ],
             [
              0.6666666666666666,
              "#ed7953"
             ],
             [
              0.7777777777777778,
              "#fb9f3a"
             ],
             [
              0.8888888888888888,
              "#fdca26"
             ],
             [
              1,
              "#f0f921"
             ]
            ],
            "type": "histogram2dcontour"
           }
          ],
          "mesh3d": [
           {
            "colorbar": {
             "outlinewidth": 0,
             "ticks": ""
            },
            "type": "mesh3d"
           }
          ],
          "parcoords": [
           {
            "line": {
             "colorbar": {
              "outlinewidth": 0,
              "ticks": ""
             }
            },
            "type": "parcoords"
           }
          ],
          "pie": [
           {
            "automargin": true,
            "type": "pie"
           }
          ],
          "scatter": [
           {
            "fillpattern": {
             "fillmode": "overlay",
             "size": 10,
             "solidity": 0.2
            },
            "type": "scatter"
           }
          ],
          "scatter3d": [
           {
            "line": {
             "colorbar": {
              "outlinewidth": 0,
              "ticks": ""
             }
            },
            "marker": {
             "colorbar": {
              "outlinewidth": 0,
              "ticks": ""
             }
            },
            "type": "scatter3d"
           }
          ],
          "scattercarpet": [
           {
            "marker": {
             "colorbar": {
              "outlinewidth": 0,
              "ticks": ""
             }
            },
            "type": "scattercarpet"
           }
          ],
          "scattergeo": [
           {
            "marker": {
             "colorbar": {
              "outlinewidth": 0,
              "ticks": ""
             }
            },
            "type": "scattergeo"
           }
          ],
          "scattergl": [
           {
            "marker": {
             "colorbar": {
              "outlinewidth": 0,
              "ticks": ""
             }
            },
            "type": "scattergl"
           }
          ],
          "scattermapbox": [
           {
            "marker": {
             "colorbar": {
              "outlinewidth": 0,
              "ticks": ""
             }
            },
            "type": "scattermapbox"
           }
          ],
          "scatterpolar": [
           {
            "marker": {
             "colorbar": {
              "outlinewidth": 0,
              "ticks": ""
             }
            },
            "type": "scatterpolar"
           }
          ],
          "scatterpolargl": [
           {
            "marker": {
             "colorbar": {
              "outlinewidth": 0,
              "ticks": ""
             }
            },
            "type": "scatterpolargl"
           }
          ],
          "scatterternary": [
           {
            "marker": {
             "colorbar": {
              "outlinewidth": 0,
              "ticks": ""
             }
            },
            "type": "scatterternary"
           }
          ],
          "surface": [
           {
            "colorbar": {
             "outlinewidth": 0,
             "ticks": ""
            },
            "colorscale": [
             [
              0,
              "#0d0887"
             ],
             [
              0.1111111111111111,
              "#46039f"
             ],
             [
              0.2222222222222222,
              "#7201a8"
             ],
             [
              0.3333333333333333,
              "#9c179e"
             ],
             [
              0.4444444444444444,
              "#bd3786"
             ],
             [
              0.5555555555555556,
              "#d8576b"
             ],
             [
              0.6666666666666666,
              "#ed7953"
             ],
             [
              0.7777777777777778,
              "#fb9f3a"
             ],
             [
              0.8888888888888888,
              "#fdca26"
             ],
             [
              1,
              "#f0f921"
             ]
            ],
            "type": "surface"
           }
          ],
          "table": [
           {
            "cells": {
             "fill": {
              "color": "#EBF0F8"
             },
             "line": {
              "color": "white"
             }
            },
            "header": {
             "fill": {
              "color": "#C8D4E3"
             },
             "line": {
              "color": "white"
             }
            },
            "type": "table"
           }
          ]
         },
         "layout": {
          "annotationdefaults": {
           "arrowcolor": "#2a3f5f",
           "arrowhead": 0,
           "arrowwidth": 1
          },
          "autotypenumbers": "strict",
          "coloraxis": {
           "colorbar": {
            "outlinewidth": 0,
            "ticks": ""
           }
          },
          "colorscale": {
           "diverging": [
            [
             0,
             "#8e0152"
            ],
            [
             0.1,
             "#c51b7d"
            ],
            [
             0.2,
             "#de77ae"
            ],
            [
             0.3,
             "#f1b6da"
            ],
            [
             0.4,
             "#fde0ef"
            ],
            [
             0.5,
             "#f7f7f7"
            ],
            [
             0.6,
             "#e6f5d0"
            ],
            [
             0.7,
             "#b8e186"
            ],
            [
             0.8,
             "#7fbc41"
            ],
            [
             0.9,
             "#4d9221"
            ],
            [
             1,
             "#276419"
            ]
           ],
           "sequential": [
            [
             0,
             "#0d0887"
            ],
            [
             0.1111111111111111,
             "#46039f"
            ],
            [
             0.2222222222222222,
             "#7201a8"
            ],
            [
             0.3333333333333333,
             "#9c179e"
            ],
            [
             0.4444444444444444,
             "#bd3786"
            ],
            [
             0.5555555555555556,
             "#d8576b"
            ],
            [
             0.6666666666666666,
             "#ed7953"
            ],
            [
             0.7777777777777778,
             "#fb9f3a"
            ],
            [
             0.8888888888888888,
             "#fdca26"
            ],
            [
             1,
             "#f0f921"
            ]
           ],
           "sequentialminus": [
            [
             0,
             "#0d0887"
            ],
            [
             0.1111111111111111,
             "#46039f"
            ],
            [
             0.2222222222222222,
             "#7201a8"
            ],
            [
             0.3333333333333333,
             "#9c179e"
            ],
            [
             0.4444444444444444,
             "#bd3786"
            ],
            [
             0.5555555555555556,
             "#d8576b"
            ],
            [
             0.6666666666666666,
             "#ed7953"
            ],
            [
             0.7777777777777778,
             "#fb9f3a"
            ],
            [
             0.8888888888888888,
             "#fdca26"
            ],
            [
             1,
             "#f0f921"
            ]
           ]
          },
          "colorway": [
           "#636efa",
           "#EF553B",
           "#00cc96",
           "#ab63fa",
           "#FFA15A",
           "#19d3f3",
           "#FF6692",
           "#B6E880",
           "#FF97FF",
           "#FECB52"
          ],
          "font": {
           "color": "#2a3f5f"
          },
          "geo": {
           "bgcolor": "white",
           "lakecolor": "white",
           "landcolor": "white",
           "showlakes": true,
           "showland": true,
           "subunitcolor": "#C8D4E3"
          },
          "hoverlabel": {
           "align": "left"
          },
          "hovermode": "closest",
          "mapbox": {
           "style": "light"
          },
          "paper_bgcolor": "white",
          "plot_bgcolor": "white",
          "polar": {
           "angularaxis": {
            "gridcolor": "#EBF0F8",
            "linecolor": "#EBF0F8",
            "ticks": ""
           },
           "bgcolor": "white",
           "radialaxis": {
            "gridcolor": "#EBF0F8",
            "linecolor": "#EBF0F8",
            "ticks": ""
           }
          },
          "scene": {
           "xaxis": {
            "backgroundcolor": "white",
            "gridcolor": "#DFE8F3",
            "gridwidth": 2,
            "linecolor": "#EBF0F8",
            "showbackground": true,
            "ticks": "",
            "zerolinecolor": "#EBF0F8"
           },
           "yaxis": {
            "backgroundcolor": "white",
            "gridcolor": "#DFE8F3",
            "gridwidth": 2,
            "linecolor": "#EBF0F8",
            "showbackground": true,
            "ticks": "",
            "zerolinecolor": "#EBF0F8"
           },
           "zaxis": {
            "backgroundcolor": "white",
            "gridcolor": "#DFE8F3",
            "gridwidth": 2,
            "linecolor": "#EBF0F8",
            "showbackground": true,
            "ticks": "",
            "zerolinecolor": "#EBF0F8"
           }
          },
          "shapedefaults": {
           "line": {
            "color": "#2a3f5f"
           }
          },
          "ternary": {
           "aaxis": {
            "gridcolor": "#DFE8F3",
            "linecolor": "#A2B1C6",
            "ticks": ""
           },
           "baxis": {
            "gridcolor": "#DFE8F3",
            "linecolor": "#A2B1C6",
            "ticks": ""
           },
           "bgcolor": "white",
           "caxis": {
            "gridcolor": "#DFE8F3",
            "linecolor": "#A2B1C6",
            "ticks": ""
           }
          },
          "title": {
           "x": 0.05
          },
          "xaxis": {
           "automargin": true,
           "gridcolor": "#EBF0F8",
           "linecolor": "#EBF0F8",
           "ticks": "",
           "title": {
            "standoff": 15
           },
           "zerolinecolor": "#EBF0F8",
           "zerolinewidth": 2
          },
          "yaxis": {
           "automargin": true,
           "gridcolor": "#EBF0F8",
           "linecolor": "#EBF0F8",
           "ticks": "",
           "title": {
            "standoff": 15
           },
           "zerolinecolor": "#EBF0F8",
           "zerolinewidth": 2
          }
         }
        },
        "title": {
         "font": {
          "color": "Black",
          "size": 22
         },
         "text": "<b>Hierarchical Clustering</b>",
         "x": 0.5,
         "xanchor": "center",
         "yanchor": "top"
        },
        "width": 1000,
        "xaxis": {
         "mirror": "allticks",
         "rangemode": "tozero",
         "showgrid": false,
         "showline": true,
         "showticklabels": true,
         "ticks": "outside",
         "type": "linear",
         "zeroline": false
        },
        "yaxis": {
         "mirror": "allticks",
         "range": [
          -820,
          0
         ],
         "rangemode": "tozero",
         "showgrid": false,
         "showline": true,
         "showticklabels": true,
         "tickmode": "array",
         "ticks": "outside",
         "ticktext": [
          "46_division_st_corps",
          "73_fig_illustration_ttttttt...",
          "63_heracles_hercules_dionysus",
          "16_arrian_cf_herodotus",
          "72_anabasis_alexander_lxix",
          "77_siege_halicarnassus_mass...",
          "80_spitamenes_sogdiana_sogd...",
          "42_viceroy_appointed_areians",
          "7_eordaea_rha_ulm",
          "15___",
          "81_llllllllllllll_lllllllll...",
          "70___",
          "40_cappadocia_et_minor",
          "41_italy_city_hispania",
          "47_macedonia_city_epirus",
          "75_city_ambuscades_motion",
          "35_germans_rhine_treviri",
          "58_rhine_lacus_falls",
          "59_river_bridges_passage",
          "6_river_indus_called",
          "64_hydaspes_voyage_acesines",
          "38_germany_ancient_people",
          "29_ancient_people_gallia",
          "53_gaul_people_ancient",
          "69_gaul_caesar_confederacy",
          "11_divisions_battalions_col...",
          "20_cavalry_infantry_charges",
          "57_shieldbearing_cavalry_ag...",
          "50_son_cavalry_parmenio",
          "43_cavalry_alexander_spear",
          "13_macedonians_alexander_city",
          "9_darius_persians_alexander",
          "14_alexander_alexanders_spe...",
          "49_death_philip_macedonia",
          "60_morass_hill_ascent",
          "12_wall_mound_engines",
          "36_soldiers_sight_exhorted",
          "21_horse_horses_cavalry",
          "18_caesar_camp_legions",
          "24_men_camp_enemy",
          "39_pompey_dyrrachium_pompeys",
          "22_corn_cattle_supply",
          "78_romans_scarce_withstand",
          "45_pompey_senate_pompeys",
          "17_caesar_caesars_roman",
          "27_gaul_gauls_roman",
          "54_gaul_caesar_gauls",
          "34_hostages_ambassadors_cae...",
          "23_hannibal_carthaginians_i...",
          "26_thousand_hundred_turks",
          "0_french_english_england",
          "1_athenians_lacedaemonians_...",
          "32_confederacy_slavery_ente...",
          "55_us_treaty_agreement",
          "74_alliance_refusing_join",
          "66_children_women_daughter",
          "28_coffin_tomb_funeral",
          "76_arms_clemency_mercy",
          "68_bath_fever_night",
          "52_night_combat_darkness",
          "25_spies_spy_converted",
          "4_sun_wu_tz",
          "62_chariots_chariot_chariot...",
          "2_operations_lines_strategic",
          "5_object_war_destruction",
          "3_theory_mind_must",
          "8_military_generals_general",
          "33_moscow_russian_buonaparte",
          "10_rhine_archduke_austrians",
          "19_napoleon_napoleons_battle",
          "65_napoleon_line_lines",
          "56_clausewitz_von_carl",
          "79_footnote_footnotes_deficit",
          "31_detachments_army_depots",
          "61_diversions_detachments_o...",
          "67_towers_redoubts_tetes",
          "30_camps_intrenched_tetes",
          "48_mountainous_countries_mo...",
          "37_invasions_distant_invasion",
          "51_intervention_wars_interf...",
          "71_wars_intestine_religion",
          "44_art_les_war"
         ],
         "tickvals": [
          -5,
          -15,
          -25,
          -35,
          -45,
          -55,
          -65,
          -75,
          -85,
          -95,
          -105,
          -115,
          -125,
          -135,
          -145,
          -155,
          -165,
          -175,
          -185,
          -195,
          -205,
          -215,
          -225,
          -235,
          -245,
          -255,
          -265,
          -275,
          -285,
          -295,
          -305,
          -315,
          -325,
          -335,
          -345,
          -355,
          -365,
          -375,
          -385,
          -395,
          -405,
          -415,
          -425,
          -435,
          -445,
          -455,
          -465,
          -475,
          -485,
          -495,
          -505,
          -515,
          -525,
          -535,
          -545,
          -555,
          -565,
          -575,
          -585,
          -595,
          -605,
          -615,
          -625,
          -635,
          -645,
          -655,
          -665,
          -675,
          -685,
          -695,
          -705,
          -715,
          -725,
          -735,
          -745,
          -755,
          -765,
          -775,
          -785,
          -795,
          -805,
          -815
         ],
         "type": "linear",
         "zeroline": false
        }
       }
      }
     },
     "metadata": {},
     "output_type": "display_data"
    }
   ],
   "source": [
    "#visualize topic hierarchy\n",
    "topic_model.visualize_hierarchy(hierarchical_topics=hierarchical_topics)\n"
   ]
  },
  {
   "cell_type": "code",
   "execution_count": null,
   "id": "4a252c4f",
   "metadata": {},
   "outputs": [
    {
     "name": "stdout",
     "output_type": "stream",
     "text": [
      ".\n",
      "├─may_sun_lines_must_one\n",
      "│    ├─may_sun_must_wu_one\n",
      "│    │    ├─object_theory_therefore_may_art\n",
      "│    │    │    ├─art_war_science_arts_les\n",
      "│    │    │    │    ├─art_les_war_logistics_summary\n",
      "│    │    │    │    │    ├─■──art_logistics_moving_armies_map ── Topic: 99\n",
      "│    │    │    │    │    └─■──art_les_war_summary_military ── Topic: 44\n",
      "│    │    │    │    └─■──art_science_arts_war_handicraft ── Topic: 89\n",
      "│    │    │    └─object_therefore_may_theory_must\n",
      "│    │    │         ├─object_theory_therefore_means_destruction\n",
      "│    │    │         │    ├─theory_mind_general_military_generals\n",
      "│    │    │         │    │    ├─■──mind_feelings_understanding_feeling_boldness ── Topic: 24\n",
      "│    │    │         │    │    └─theory_military_general_generals_spirit\n",
      "│    │    │         │    │         ├─■──military_generals_general_spirit_virtue ── Topic: 9\n",
      "│    │    │         │    │         └─■──theory_historical_theoretical_things_truth ── Topic: 12\n",
      "│    │    │         │    └─object_destruction_combat_political_therefore\n",
      "│    │    │         │         ├─object_destruction_combat_political_enemys\n",
      "│    │    │         │         │    ├─■──object_destruction_combat_enemys_objects ── Topic: 21\n",
      "│    │    │         │         │    └─■──political_object_war_means_law ── Topic: 30\n",
      "│    │    │         │         └─■──action_suspension_equilibrium_activity_reciprocal ── Topic: 33\n",
      "│    │    │         └─enemy_battle_victory_point_attack\n",
      "│    │    │              ├─enemy_battle_victory_attack_night\n",
      "│    │    │              │    ├─■──night_combat_combats_wooded_assailant ── Topic: 58\n",
      "│    │    │              │    └─enemy_battle_victory_defensive_position\n",
      "│    │    │              │         ├─■──retreat_pursuit_retreats_surprise_enemy ── Topic: 32\n",
      "│    │    │              │         └─enemy_battle_victory_defensive_may\n",
      "│    │    │              │              ├─■──enemy_defensive_position_attack_advantage ── Topic: 13\n",
      "│    │    │              │              └─■──victory_battle_forces_combat_ram ── Topic: 39\n",
      "│    │    │              └─■──strategy_tactics_principle_fundamental_definition ── Topic: 76\n",
      "│    │    └─sun_wu_tz_cavalry_chi\n",
      "│    │         ├─sun_wu_tz_cavalry_yu\n",
      "│    │         │    ├─cavalry_corps_divisions_division_battalions\n",
      "│    │         │    │    ├─cavalry_division_divisions_corps_battalions\n",
      "│    │         │    │    │    ├─■──division_st_corps_second_fig ── Topic: 56\n",
      "│    │         │    │    │    └─cavalry_divisions_battalions_columns_infantry\n",
      "│    │         │    │    │         ├─cavalry_divisions_battalions_columns_infantry\n",
      "│    │         │    │    │         │    ├─■──cavalry_infantry_charge_charges_lance ── Topic: 16\n",
      "│    │         │    │    │         │    └─■──divisions_battalions_columns_column_deployed ── Topic: 8\n",
      "│    │         │    │    │         └─■──order_center_wings_oblique_fig ── Topic: 40\n",
      "│    │         │    │    └─staff_clausewitz_officers_general_corps\n",
      "│    │         │    │         ├─staff_officers_duties_corps_detachments\n",
      "│    │         │    │         │    ├─■──detachments_army_necessary_may_commander ── Topic: 94\n",
      "│    │         │    │         │    └─■──staff_officers_duties_corps_logistics ── Topic: 50\n",
      "│    │         │    │         └─■──clausewitz_von_carl_general_staff ── Topic: 71\n",
      "│    │         │    └─sun_wu_tz_chi_yu\n",
      "│    │         │         ├─camps_intrenched_mountainous_invasions_wars\n",
      "│    │         │         │    ├─camps_intrenched_mountainous_footnote_countries\n",
      "│    │         │         │    │    ├─footnote_footnotes_firearms_improvements_range\n",
      "│    │         │         │    │    │    ├─■──firearms_improvements_range_invention_gunpowder ── Topic: 81\n",
      "│    │         │         │    │    │    └─■──footnote_footnotes_refer_claim_treated ── Topic: 72\n",
      "│    │         │         │    │    └─camps_intrenched_mountainous_countries_defense\n",
      "│    │         │         │    │         ├─■──camps_intrenched_connection_cantonments_tetes ── Topic: 35\n",
      "│    │         │         │    │         └─■──mountainous_countries_mountains_plains_valleys ── Topic: 38\n",
      "│    │         │         │    └─invasions_intervention_wars_distant_interferes\n",
      "│    │         │         │         ├─■──invasions_distant_invasion_diplomacy_wars ── Topic: 54\n",
      "│    │         │         │         └─■──intervention_wars_interferes_state_kinds ── Topic: 47\n",
      "│    │         │         └─sun_wu_tz_chi_yu\n",
      "│    │         │              ├─sicily_hannibal_thousand_carthaginians_hundred\n",
      "│    │         │              │    ├─hannibal_thousand_carthaginians_hundred_roman\n",
      "│    │         │              │    │    ├─■──thousand_turks_hundred_vessels_cyprus ── Topic: 34\n",
      "│    │         │              │    │    └─■──hannibal_carthaginians_carthage_roman_rome ── Topic: 26\n",
      "│    │         │              │    └─sicily_messina_sicilian_sicilians_us\n",
      "│    │         │              │         ├─■──sicily_sicilian_us_sicilians_peloponnese ── Topic: 28\n",
      "│    │         │              │         └─■──messina_sicily_locrian_gylippus_thence ── Topic: 100\n",
      "│    │         │              └─sun_wu_tz_chi_yu\n",
      "│    │         │                   ├─moscow_peloponnesians_samos_house_russian\n",
      "│    │         │                   │    ├─samos_alcibiades_oligarchy_confederacy_confederates\n",
      "│    │         │                   │    │    ├─■──samos_oligarchy_alcibiades_democracy_tissaphernes ── Topic: 101\n",
      "│    │         │                   │    │    └─■──confederacy_confederates_confederate_disgrace_chians ── Topic: 91\n",
      "│    │         │                   │    └─moscow_peloponnesians_house_russian_fire\n",
      "│    │         │                   │         ├─moscow_peloponnesians_russian_russians_buonaparte\n",
      "│    │         │                   │         │    ├─■──moscow_russian_russians_buonaparte_peace ── Topic: 74\n",
      "│    │         │                   │         │    └─■──peloponnesians_samians_phormio_superiority_without ── Topic: 75\n",
      "│    │         │                   │         └─■──house_fire_right_side_left ── Topic: 86\n",
      "│    │         │                   └─sun_wu_tz_chi_yu\n",
      "│    │         │                        ├─■──chariots_chariot_elephants_charioteers_swift ── Topic: 69\n",
      "│    │         │                        └─sun_wu_tz_chi_yu\n",
      "│    │         │                             ├─■──sun_wu_tz_chi_yu ── Topic: 3\n",
      "│    │         │                             └─■──spies_spy_converted_information_tu ── Topic: 31\n",
      "│    │         └─us_life_public_city_man\n",
      "│    │              ├─us_city_public_private_country\n",
      "│    │              │    ├─us_treaty_arbitration_agreement_fear\n",
      "│    │              │    │    ├─us_treaty_arbitration_agreement_shall\n",
      "│    │              │    │    │    ├─■──affair_alliance_corcyra_refusing_join ── Topic: 88\n",
      "│    │              │    │    │    └─■──us_treaty_arbitration_agreement_shall ── Topic: 57\n",
      "│    │              │    │    └─■──confidence_us_fear_neighbour_friends ── Topic: 70\n",
      "│    │              │    └─city_public_private_people_country\n",
      "│    │              │         ├─city_public_private_democracy_people\n",
      "│    │              │         │    ├─■──city_design_walled_dead_equally ── Topic: 45\n",
      "│    │              │         │    └─public_private_democracy_man_government\n",
      "│    │              │         │         ├─■──arms_council_clemency_pisander_thought ── Topic: 29\n",
      "│    │              │         │         └─public_private_democracy_government_prosperity\n",
      "│    │              │         │              ├─■──public_private_democracy_government_prosperity ── Topic: 17\n",
      "│    │              │         │              └─■──guilty_crime_guilt_justice_offenders ── Topic: 27\n",
      "│    │              │         └─■──country_dominion_locality_think_capital ── Topic: 49\n",
      "│    │              └─coffin_life_honour_man_relatives\n",
      "│    │                   ├─life_thy_man_gods_danger\n",
      "│    │                   │    ├─■──life_danger_unimpaired_generosity_arrogance ── Topic: 63\n",
      "│    │                   │    └─■──life_thy_respecting_gods_man ── Topic: 52\n",
      "│    │                   └─coffin_relatives_wine_tomb_funeral\n",
      "│    │                        ├─■──coffin_wine_tomb_funeral_fathers ── Topic: 37\n",
      "│    │                        └─■──children_relatives_women_beget_boyish ── Topic: 93\n",
      "│    └─lines_operations_napoleon_line_strategic\n",
      "│         ├─lines_operations_napoleon_strategic_line\n",
      "│         │    ├─diversions_operations_strategic_reserves_reserve\n",
      "│         │    │    ├─diversions_operations_zone_detachments_theater\n",
      "│         │    │    │    ├─■──diversions_detachments_operations_corps_zone ── Topic: 92\n",
      "│         │    │    │    └─■──operations_theater_zone_strategic_center ── Topic: 98\n",
      "│         │    │    └─■──reserves_reserve_strategic_economy_idea ── Topic: 85\n",
      "│         │    └─lines_napoleon_operations_line_strategic\n",
      "│         │         ├─■──point_decisive_strategic_points_battlefield ── Topic: 59\n",
      "│         │         └─lines_napoleon_operations_line_napoleons\n",
      "│         │              ├─lines_operations_line_strategic_double\n",
      "│         │              │    ├─■──lines_operations_line_double_strategic ── Topic: 18\n",
      "│         │              │    └─■──napoleon_line_lines_operations_strategic ── Topic: 79\n",
      "│         │              └─■──napoleon_napoleons_rivoli_order_bonaparte ── Topic: 20\n",
      "│         └─archduke_austrians_rhine_danube_charles\n",
      "│              ├─archduke_austrians_rhine_danube_charles\n",
      "│              │    ├─■──archduke_charles_austrians_vienna_moreau ── Topic: 43\n",
      "│              │    └─danube_rhine_austrians_inn_tyrol\n",
      "│              │         ├─■──austrians_inn_bavaria_vienna_hundred ── Topic: 78\n",
      "│              │         └─■──danube_rhine_ulm_bohemia_alps ── Topic: 51\n",
      "│              └─■──detour_landau_clairfayt_charleroi_darmee ── Topic: 97\n",
      "└─ships_english_french_sea_fleet\n",
      "     ├─ships_english_french_sea_fleet\n",
      "     │    ├─english_french_ships_england_fleet\n",
      "     │    │    ├─winter_summer_ended_attica_epidaurians\n",
      "     │    │    │    ├─■──ended_winter_summer_epidaurians_year ── Topic: 61\n",
      "     │    │    │    └─■──attica_peloponnesians_summer_invaded_athenians ── Topic: 67\n",
      "     │    │    └─english_french_ships_england_fleet\n",
      "     │    │         ├─athenians_hundred_athenian_heavy_infantry\n",
      "     │    │         │    ├─■──boeotians_delium_boeotia_hippocrates_dead ── Topic: 83\n",
      "     │    │         │    └─hundred_athenian_heavy_athenians_infantry\n",
      "     │    │         │         ├─■──athenians_rest_athenian_wing_garrison ── Topic: 60\n",
      "     │    │         │         └─■──hundred_heavy_thousand_infantry_athenian ── Topic: 41\n",
      "     │    │         └─english_french_ships_england_fleet\n",
      "     │    │              ├─syracusans_athenians_syracusan_gylippus_athenian\n",
      "     │    │              │    ├─■──syracusans_syracusan_athenians_gylippus_athenian ── Topic: 23\n",
      "     │    │              │    └─■──athenians_syracusans_meanwhile_megara_would ── Topic: 53\n",
      "     │    │              └─english_french_ships_england_fleet\n",
      "     │    │                   ├─athenians_lacedaemonians_athens_ships_athenian\n",
      "     │    │                   │    ├─■──athenians_lacedaemonians_athens_lacedaemon_allies ── Topic: 2\n",
      "     │    │                   │    └─■──ships_sailed_athenians_vessels_athenian ── Topic: 4\n",
      "     │    │                   └─■──english_french_england_france_ships ── Topic: 0\n",
      "     │    └─caesar_gaul_river_camp_people\n",
      "     │         ├─caesar_gaul_camp_legions_people\n",
      "     │         │    ├─caesar_gaul_legions_caesars_people\n",
      "     │         │    │    ├─■──soldiers_barbarous_baggage_valour_hardships ── Topic: 48\n",
      "     │         │    │    └─caesar_gaul_legions_caesars_people\n",
      "     │         │    │         ├─caesar_gaul_caesars_legions_people\n",
      "     │         │    │         │    ├─horse_men_horses_cavalry_woods\n",
      "     │         │    │         │    │    ├─■──horse_horses_cavalry_men_curio ── Topic: 15\n",
      "     │         │    │         │    │    └─■──men_camp_soldiers_woods_wall ── Topic: 25\n",
      "     │         │    │         │    └─■──caesar_gaul_caesars_people_legions ── Topic: 1\n",
      "     │         │    │         └─■──corn_cattle_supply_scarcity_want ── Topic: 22\n",
      "     │         │    └─wall_macedonians_alexander_city_engines\n",
      "     │         │         ├─■──macedonians_alexander_phalanx_cavalry_city ── Topic: 7\n",
      "     │         │         └─■──wall_mound_engines_towers_walls ── Topic: 14\n",
      "     │         └─river_indus_called_rivers_name\n",
      "     │              ├─bridges_river_bridge_towers_bank\n",
      "     │              │    ├─■──water_feet_ascent_morass_hill ── Topic: 46\n",
      "     │              │    └─■──bridges_bank_coblentz_bridge_river ── Topic: 42\n",
      "     │              └─river_indus_called_rivers_name\n",
      "     │                   ├─■──rivers_river_crossing_rules_passage ── Topic: 96\n",
      "     │                   └─■──river_indus_called_name_rivers ── Topic: 5\n",
      "     └─alexander_darius_arrian_alexanders_son\n",
      "          ├─alexander_darius_arrian_alexanders_son\n",
      "          │    ├─arrian_cf_heracles_hippias_hipparchus\n",
      "          │    │    ├─heracles_hippias_hipparchus_harmodius_aristogiton\n",
      "          │    │    │    ├─■──xlv_disastrous_notice__ ── Topic: 10\n",
      "          │    │    │    └─heracles_hippias_hipparchus_harmodius_aristogiton\n",
      "          │    │    │         ├─pliny_et_cappadocia_minor_asia\n",
      "          │    │    │         │    ├─■──maritza_bardylis_crateas_ariaspians_musicanus ── Topic: 6\n",
      "          │    │    │         │    └─■──pliny_et_cappadocia_minor_asia ── Topic: 64\n",
      "          │    │    │         └─heracles_hippias_hipparchus_harmodius_aristogiton\n",
      "          │    │    │              ├─■──heracles_dionysus_hercules_cadmus_son ── Topic: 62\n",
      "          │    │    │              └─■──hippias_hipparchus_harmodius_aristogiton_pisistratus ── Topic: 68\n",
      "          │    │    └─arrian_cf_photius_iliad_homer\n",
      "          │    │         ├─■──cf_arrian_homer_iliad_supra ── Topic: 55\n",
      "          │    │         └─■──arrian_photius_epictetus_cod_extant ── Topic: 36\n",
      "          │    └─darius_alexander_alexanders_persians_son\n",
      "          │         ├─darius_alexander_alexanders_persians_king\n",
      "          │         │    ├─alexander_alexanders_speech_death_callisthenes\n",
      "          │         │    │    ├─■──anabasis_alexander_juliopolis_ravi_rasalhad ── Topic: 95\n",
      "          │         │    │    └─alexander_alexanders_speech_death_callisthenes\n",
      "          │         │    │         ├─■──alexander_alexanders_speech_callisthenes_king ── Topic: 11\n",
      "          │         │    │         └─■──death_alexander_son_alexanders_died ── Topic: 66\n",
      "          │         │    └─darius_persians_alexander_persian_wife\n",
      "          │         │         ├─■──darius_persians_alexander_persian_grecian ── Topic: 19\n",
      "          │         │         └─■──darius_wife_marry_mother_alexander ── Topic: 65\n",
      "          │         └─viceroy_cavalry_shieldbearing_son_agrianians\n",
      "          │              ├─cavalry_shieldbearing_agrianians_son_guards\n",
      "          │              │    ├─■──son_cavalry_posted_parmenio_philotas ── Topic: 90\n",
      "          │              │    └─■──shieldbearing_agrianians_guards_archers_cavalry ── Topic: 80\n",
      "          │              └─viceroy_spitamenes_sogdiana_sogdianians_areians\n",
      "          │                   ├─■──viceroy_areians_stasanor_phrataphernes_land ── Topic: 77\n",
      "          │                   └─■──spitamenes_sogdiana_sogdianians_scythians_sogdianarevolt ── Topic: 73\n",
      "          └─siege_tyre_halicarnassus_myndus_massaga\n",
      "               ├─■──tyre_siege_tyrenaval_tyreconstruction_tyrians ── Topic: 84\n",
      "               └─siege_halicarnassus_massaga_myndus_mantua\n",
      "                    ├─■──siege_halicarnassus_massaga_myndus_miletus ── Topic: 82\n",
      "                    └─■──siege_mantua_buonaparte_victories_genoa ── Topic: 87\n",
      "\n"
     ]
    }
   ],
   "source": [
    "hierarchy_tree = topic_model.get_topic_tree(hierarchical_topics)\n",
    "print(hierarchy_tree)"
   ]
  }
 ],
 "metadata": {
  "kernelspec": {
   "display_name": "Python 3",
   "language": "python",
   "name": "python3"
  },
  "language_info": {
   "codemirror_mode": {
    "name": "ipython",
    "version": 3
   },
   "file_extension": ".py",
   "mimetype": "text/x-python",
   "name": "python",
   "nbconvert_exporter": "python",
   "pygments_lexer": "ipython3",
   "version": "3.12.2"
  }
 },
 "nbformat": 4,
 "nbformat_minor": 5
}
